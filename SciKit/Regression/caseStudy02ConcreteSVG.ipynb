{
 "nbformat": 4,
 "nbformat_minor": 2,
 "metadata": {
  "language_info": {
   "name": "python",
   "codemirror_mode": {
    "name": "ipython",
    "version": 3
   },
   "version": "3.6.5-final"
  },
  "orig_nbformat": 2,
  "file_extension": ".py",
  "mimetype": "text/x-python",
  "name": "python",
  "npconvert_exporter": "python",
  "pygments_lexer": "ipython3",
  "version": 3,
  "kernelspec": {
   "name": "python36564bitvenvvenv5fe329ff47b24f38a034f39ddfbb1115",
   "display_name": "Python 3.6.5 64-bit ('venv': venv)"
  }
 },
 "cells": [
  {
   "cell_type": "code",
   "execution_count": 1,
   "metadata": {},
   "outputs": [],
   "source": [
    "# imports\n",
    "import pandas as pd\n",
    "import matplotlib.pyplot as plot\n",
    "import sklearn\n"
   ]
  },
  {
   "cell_type": "code",
   "execution_count": 2,
   "metadata": {},
   "outputs": [
    {
     "name": "stdout",
     "output_type": "stream",
     "text": "Concrete data loaded\n"
    }
   ],
   "source": [
    "# load the concrete data example\n",
    "concrete_data = pd.read_csv(\"/home/javaprog/Apps/PycharmProjects/MachineLearningPython/Datasets/Books/PythonMlCaseStudies/concrete_data.csv\")\n",
    "print(\"Concrete data loaded\")"
   ]
  },
  {
   "cell_type": "code",
   "execution_count": 3,
   "metadata": {},
   "outputs": [
    {
     "name": "stdout",
     "output_type": "stream",
     "text": "the description of the data is: \n       Cement (component 1)(kg in a m^3 mixture)  \\\ncount                                1030.000000   \nmean                                  281.167864   \nstd                                   104.506364   \nmin                                   102.000000   \n25%                                   192.375000   \n50%                                   272.900000   \n75%                                   350.000000   \nmax                                   540.000000   \n\n       Blast Furnace Slag (component 2)(kg in a m^3 mixture)  \\\ncount                                        1030.000000       \nmean                                           73.895825       \nstd                                            86.279342       \nmin                                             0.000000       \n25%                                             0.000000       \n50%                                            22.000000       \n75%                                           142.950000       \nmax                                           359.400000       \n\n       Fly Ash (component 3)(kg in a m^3 mixture)  \\\ncount                                 1030.000000   \nmean                                    54.188350   \nstd                                     63.997004   \nmin                                      0.000000   \n25%                                      0.000000   \n50%                                      0.000000   \n75%                                    118.300000   \nmax                                    200.100000   \n\n       Water  (component 4)(kg in a m^3 mixture)  \\\ncount                                1030.000000   \nmean                                  181.567282   \nstd                                    21.354219   \nmin                                   121.800000   \n25%                                   164.900000   \n50%                                   185.000000   \n75%                                   192.000000   \nmax                                   247.000000   \n\n       Superplasticizer (component 5)(kg in a m^3 mixture)  \\\ncount                                        1030.000000     \nmean                                            6.204660     \nstd                                             5.973841     \nmin                                             0.000000     \n25%                                             0.000000     \n50%                                             6.400000     \n75%                                            10.200000     \nmax                                            32.200000     \n\n       Coarse Aggregate  (component 6)(kg in a m^3 mixture)  \\\ncount                                        1030.000000      \nmean                                          972.918932      \nstd                                            77.753954      \nmin                                           801.000000      \n25%                                           932.000000      \n50%                                           968.000000      \n75%                                          1029.400000      \nmax                                          1145.000000      \n\n       Fine Aggregate (component 7)(kg in a m^3 mixture)    Age (day)  \\\ncount                                        1030.000000  1030.000000   \nmean                                          773.580485    45.662136   \nstd                                            80.175980    63.169912   \nmin                                           594.000000     1.000000   \n25%                                           730.950000     7.000000   \n50%                                           779.500000    28.000000   \n75%                                           824.000000    56.000000   \nmax                                           992.600000   365.000000   \n\n       Concrete compressive strength(MPa, megapascals)   \ncount                                       1030.000000  \nmean                                          35.817961  \nstd                                           16.705742  \nmin                                            2.330000  \n25%                                           23.710000  \n50%                                           34.445000  \n75%                                           46.135000  \nmax                                           82.600000  \n"
    }
   ],
   "source": [
    "# describe the concrete data\n",
    "print(\"the description of the data is: \\n{}\".format(concrete_data.describe()))"
   ]
  },
  {
   "cell_type": "code",
   "execution_count": 5,
   "metadata": {},
   "outputs": [
    {
     "name": "stdout",
     "output_type": "stream",
     "text": "<class 'pandas.core.frame.DataFrame'>\nRangeIndex: 1030 entries, 0 to 1029\nData columns (total 9 columns):\ncement              1030 non-null float64\nfurnace_slag        1030 non-null float64\nflay_ash            1030 non-null float64\nwater               1030 non-null float64\nsuperplasticizer    1030 non-null float64\nc_aggregate         1030 non-null float64\nf_aggregate         1030 non-null float64\nage                 1030 non-null int64\nstrength            1030 non-null float64\ndtypes: float64(8), int64(1)\nmemory usage: 72.5 KB\nthe info of the data is: \nNone\n"
    }
   ],
   "source": [
    "# rename the columns\n",
    "concrete_data.columns = ['cement', 'furnace_slag', 'flay_ash', 'water', 'superplasticizer', 'c_aggregate', 'f_aggregate', 'age', 'strength']\n",
    "\n",
    "# info the concrete data\n",
    "print(\"the info of the data is: \\n{}\".format(concrete_data.info()))\n"
   ]
  },
  {
   "cell_type": "code",
   "execution_count": null,
   "metadata": {},
   "outputs": [],
   "source": []
  },
  {
   "cell_type": "code",
   "execution_count": 7,
   "metadata": {},
   "outputs": [
    {
     "ename": "NameError",
     "evalue": "name 'split_train_test' is not defined",
     "output_type": "error",
     "traceback": [
      "\u001b[0;31m---------------------------------------------------------------------------\u001b[0m",
      "\u001b[0;31mNameError\u001b[0m                                 Traceback (most recent call last)",
      "\u001b[0;32m<ipython-input-7-f64b090bf465>\u001b[0m in \u001b[0;36m<module>\u001b[0;34m()\u001b[0m\n\u001b[1;32m      9\u001b[0m \u001b[0;34m\u001b[0m\u001b[0m\n\u001b[1;32m     10\u001b[0m     \u001b[0;31m# slit the test/train data\u001b[0m\u001b[0;34m\u001b[0m\u001b[0;34m\u001b[0m\u001b[0;34m\u001b[0m\u001b[0m\n\u001b[0;32m---> 11\u001b[0;31m     \u001b[0mx_train\u001b[0m\u001b[0;34m,\u001b[0m \u001b[0my_train\u001b[0m\u001b[0;34m,\u001b[0m \u001b[0mx_test\u001b[0m\u001b[0;34m,\u001b[0m \u001b[0my_test\u001b[0m \u001b[0;34m=\u001b[0m \u001b[0msplit_train_test\u001b[0m\u001b[0;34m(\u001b[0m\u001b[0mdata_train\u001b[0m\u001b[0;34m,\u001b[0m \u001b[0mfeature\u001b[0m\u001b[0;34m)\u001b[0m\u001b[0;34m\u001b[0m\u001b[0;34m\u001b[0m\u001b[0m\n\u001b[0m\u001b[1;32m     12\u001b[0m \u001b[0;34m\u001b[0m\u001b[0m\n\u001b[1;32m     13\u001b[0m     \u001b[0;31m# create the model\u001b[0m\u001b[0;34m\u001b[0m\u001b[0;34m\u001b[0m\u001b[0;34m\u001b[0m\u001b[0m\n",
      "\u001b[0;31mNameError\u001b[0m: name 'split_train_test' is not defined"
     ]
    }
   ],
   "source": [
    "# create the model and plot the data\n",
    "plot.figure(figsize = (15,7))\n",
    "plot_count = 1\n",
    "\n",
    "# loop through the features and train on each individually, then plot\n",
    "for feature in ['cement', 'fly_ash', 'water', 'superplasticizer', 'c_aggregate']:\n",
    "    data_train = concrete_data[['strength', feature]]\n",
    "    data_train = data_train[(data_train.T != 0).all()]\n",
    "\n",
    "    # slit the test/train data\n",
    "    x_train, y_train, x_test, y_test = split_train_test(data_train, feature)\n",
    "\n",
    "    # create the model\n",
    "    model = SVR(kernel = ' linear')\n",
    "\n",
    "    # train\n",
    "    model.fit(x_train, y_train)\n",
    "\n",
    "    # predict\n",
    "    y_pred = model.predict(x_test)\n",
    "\n",
    "    # plot the output\n",
    "    plot.subplot(2, 3, plot_count)\n",
    "    plot.scatter(x_test, y_test, color = 'black')\n",
    "    plot.plot(x_test, y_pred, color = 'blue', linewidth = 1)\n",
    "    plot.xlabel(feature)\n",
    "    plot.ylabel('Concrete Strength')\n",
    "\n",
    "    # print the error\n",
    "    print(\"For {} the R2 is: {}\".format(feature, r2_score(y_test, y_pred)))\n",
    "\n",
    "plot.show()\n"
   ]
  },
  {
   "cell_type": "code",
   "execution_count": null,
   "metadata": {},
   "outputs": [],
   "source": []
  }
 ]
}