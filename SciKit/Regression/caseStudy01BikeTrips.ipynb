{
 "cells": [
  {
   "cell_type": "code",
   "execution_count": 1,
   "metadata": {
    "collapsed": true
   },
   "outputs": [],
   "source": [
    "# imports\n",
    "import pandas as pd\n",
    "import matplotlib.pyplot as plot"
   ]
  },
  {
   "cell_type": "code",
   "execution_count": 2,
   "metadata": {},
   "outputs": [],
   "source": [
    "# read in the data\n",
    "bike_data = pd.read_csv(\"Datasets/Books/PythonMlCaseStudies/bike_data.csv\")"
   ]
  },
  {
   "cell_type": "code",
   "execution_count": 3,
   "metadata": {},
   "outputs": [
    {
     "name": "stdout",
     "output_type": "stream",
     "text": [
      "the bike data head is \n    trip_id         starttime          stoptime    bikeid  tripduration  \\\n0      431  10/13/2014 10:31  10/13/2014 10:48  SEA00298       985.935   \n1      432  10/13/2014 10:32  10/13/2014 10:48  SEA00195       926.375   \n2      433  10/13/2014 10:33  10/13/2014 10:48  SEA00486       883.831   \n3      434  10/13/2014 10:34  10/13/2014 10:48  SEA00333       865.937   \n4      435  10/13/2014 10:34  10/13/2014 10:49  SEA00202       923.923   \n\n     from_station_name                                    to_station_name  \\\n0  2nd Ave & Spring St  Occidental Park / Occidental Ave S & S Washing...   \n1  2nd Ave & Spring St  Occidental Park / Occidental Ave S & S Washing...   \n2  2nd Ave & Spring St  Occidental Park / Occidental Ave S & S Washing...   \n3  2nd Ave & Spring St  Occidental Park / Occidental Ave S & S Washing...   \n4  2nd Ave & Spring St  Occidental Park / Occidental Ave S & S Washing...   \n\n  from_station_id to_station_id usertype  gender  birthyear  \n0          CBD-06         PS-04   Member    Male     1960.0  \n1          CBD-06         PS-04   Member    Male     1970.0  \n2          CBD-06         PS-04   Member  Female     1988.0  \n3          CBD-06         PS-04   Member  Female     1977.0  \n4          CBD-06         PS-04   Member    Male     1971.0  \n"
     ]
    }
   ],
   "source": [
    "# view data\n",
    "print(\"the bike data head is \\n {}\".format(bike_data.head()))"
   ]
  },
  {
   "cell_type": "code",
   "execution_count": 4,
   "metadata": {},
   "outputs": [
    {
     "name": "stdout",
     "output_type": "stream",
     "text": [
      "the bike data set description is \n              trip_id  tripduration      birthyear\ncount  236065.000000  236065.00000  146167.000000\nmean   130059.869333    1202.61221    1979.879740\nstd     72842.289278    2066.42488      10.154978\nmin       431.000000      60.00800    1931.000000\n25%     67746.000000     392.26500    1975.000000\n50%    130526.000000     633.23500    1983.000000\n75%    192900.000000    1145.01500    1987.000000\nmax    255245.000000   28794.39800    1999.000000\n"
     ]
    }
   ],
   "source": [
    "# describe the data\n",
    "print(\"the bike data set description is \\n {}\".format(bike_data.describe()))"
   ]
  },
  {
   "cell_type": "code",
   "execution_count": 6,
   "metadata": {},
   "outputs": [
    {
     "name": "stdout",
     "output_type": "stream",
     "text": [
      "the length of the data frame is: 236065\n"
     ]
    }
   ],
   "source": [
    "# look at the length of the data\n",
    "bike_len = len(bike_data)\n",
    "\n",
    "print(\"the length of the data frame is: {}\".format(bike_len))"
   ]
  },
  {
   "cell_type": "code",
   "execution_count": 20,
   "metadata": {},
   "outputs": [
    {
     "name": "stdout",
     "output_type": "stream",
     "text": [
      "the start time range from: 10/13/2014 10:32 to: 9/1/2016 0:20\n"
     ]
    },
    {
     "name": "stderr",
     "output_type": "stream",
     "text": [
      "/home/javaprog/Apps/PycharmProjects/MachineLearningPython/venv/lib/python3.6/site-packages/ipykernel_launcher.py:6: FutureWarning: \n.ix is deprecated. Please use\n.loc for label based indexing or\n.iloc for positional indexing\n\nSee the documentation here:\nhttp://pandas.pydata.org/pandas-docs/stable/user_guide/indexing.html#ix-indexer-is-deprecated\n  \n/home/javaprog/Apps/PycharmProjects/MachineLearningPython/venv/lib/python3.6/site-packages/ipykernel_launcher.py:7: FutureWarning: \n.ix is deprecated. Please use\n.loc for label based indexing or\n.iloc for positional indexing\n\nSee the documentation here:\nhttp://pandas.pydata.org/pandas-docs/stable/user_guide/indexing.html#ix-indexer-is-deprecated\n  import sys\n"
     ]
    }
   ],
   "source": [
    "# sort the data by start time\n",
    "new_bike_data = bike_data.sort_values(by='starttime')\n",
    "new_bike_data.reset_index()\n",
    "\n",
    "# get the start time range\n",
    "bike_start_range_start = new_bike_data.ix[1, 'starttime']\n",
    "bike_start_range_end = new_bike_data.ix[len(new_bike_data) - 1, 'stoptime']\n",
    "\n",
    "print(\"the start time range from: {} to: {}\".format(bike_start_range_start, bike_start_range_end))\n"
   ]
  },
  {
   "cell_type": "code",
   "execution_count": null,
   "metadata": {},
   "outputs": [],
   "source": []
  }
 ],
 "metadata": {
  "kernelspec": {
   "display_name": "Python 2",
   "language": "python",
   "name": "python2"
  },
  "language_info": {
   "codemirror_mode": {
    "name": "ipython",
    "version": 2
   },
   "file_extension": ".py",
   "mimetype": "text/x-python",
   "name": "python",
   "nbconvert_exporter": "python",
   "pygments_lexer": "ipython2",
   "version": "2.7.6"
  }
 },
 "nbformat": 4,
 "nbformat_minor": 0
}
