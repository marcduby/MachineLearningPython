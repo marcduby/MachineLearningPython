{
 "cells": [
  {
   "cell_type": "code",
   "execution_count": 2,
   "metadata": {},
   "outputs": [],
   "source": [
    "# imports\n",
    "import sklearn\n",
    "from sklearn.datasets import load_wine\n",
    "from sklearn.ensemble import RandomForestClassifier\n",
    "\n"
   ]
  },
  {
   "cell_type": "code",
   "execution_count": 3,
   "metadata": {},
   "outputs": [],
   "source": [
    "# load the data\n",
    "wine_df = load_wine()"
   ]
  },
  {
   "cell_type": "code",
   "execution_count": 4,
   "metadata": {},
   "outputs": [
    {
     "output_type": "stream",
     "name": "stdout",
     "text": "the keys of the data is dict_keys(['data', 'target', 'target_names', 'DESCR', 'feature_names'])\n"
    }
   ],
   "source": [
    "# print the data\n",
    "data_keys = wine_df.keys()\n",
    "\n",
    "# print\n",
    "print(\"the keys of the data is {}\".format(data_keys))\n"
   ]
  },
  {
   "cell_type": "code",
   "execution_count": 5,
   "metadata": {},
   "outputs": [
    {
     "output_type": "stream",
     "name": "stdout",
     "text": "the features are ['alcohol', 'malic_acid', 'ash', 'alcalinity_of_ash', 'magnesium', 'total_phenols', 'flavanoids', 'nonflavanoid_phenols', 'proanthocyanins', 'color_intensity', 'hue', 'od280/od315_of_diluted_wines', 'proline'] \nthe target names are['class_0' 'class_1' 'class_2']\n"
    }
   ],
   "source": [
    "# print the features\n",
    "feature_names = wine_df.feature_names\n",
    "target_names = wine_df.target_names\n",
    "\n",
    "# print\n",
    "print(\"the features are {} \\nthe target names are{}\".format(feature_names, target_names))\n"
   ]
  },
  {
   "cell_type": "code",
   "execution_count": 6,
   "metadata": {},
   "outputs": [
    {
     "output_type": "stream",
     "name": "stdout",
     "text": "the feature shape is (178, 13) and the target shape is (178,)\n"
    }
   ],
   "source": [
    "# get the targets and features\n",
    "X = wine_df.data\n",
    "y = wine_df.target\n",
    "\n",
    "# print\n",
    "print(\"the feature shape is {} and the target shape is {}\".format(X.shape, y.shape))\n"
   ]
  },
  {
   "cell_type": "code",
   "execution_count": null,
   "metadata": {},
   "outputs": [],
   "source": [
    "# build the model and fit\n",
    "wine_model = new RandomForestClassifier(random_state= 2, n_estimators= 100)\n",
    "\n",
    "# fit the model\n",
    "wine_model.fit(X, y)\n",
    "\n",
    "# get the relevant features\n",
    "feature_importance = wine_model."
   ]
  }
 ],
 "metadata": {
  "language_info": {
   "codemirror_mode": {
    "name": "ipython",
    "version": 3
   },
   "file_extension": ".py",
   "mimetype": "text/x-python",
   "name": "python",
   "nbconvert_exporter": "python",
   "pygments_lexer": "ipython3",
   "version": "3.7.6-final"
  },
  "orig_nbformat": 2,
  "kernelspec": {
   "name": "python37664bittf237venv9b274482c7ba4966ad2cf02baa9bb24c",
   "display_name": "Python 3.7.6 64-bit ('tf2_37': venv)"
  }
 },
 "nbformat": 4,
 "nbformat_minor": 2
}