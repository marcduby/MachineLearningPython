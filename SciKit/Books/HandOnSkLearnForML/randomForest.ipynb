{
 "cells": [
  {
   "cell_type": "code",
   "execution_count": 31,
   "metadata": {},
   "outputs": [],
   "source": [
    "# imports\n",
    "import sklearn\n",
    "from sklearn import datasets\n",
    "from sklearn.ensemble import RandomForestClassifier\n",
    "\n",
    ""
   ]
  },
  {
   "cell_type": "code",
   "execution_count": 32,
   "metadata": {},
   "outputs": [
    {
     "output_type": "stream",
     "name": "stdout",
     "text": "got iris dataset of type <class 'sklearn.utils.Bunch'>\n"
    }
   ],
   "source": [
    "# load the iris dataset\n",
    "iris_df = datasets.load_iris()\n",
    "\n",
    "print(\"got iris dataset of type {}\".format(type(iris_df)))\n"
   ]
  },
  {
   "cell_type": "code",
   "execution_count": 33,
   "metadata": {},
   "outputs": [
    {
     "output_type": "stream",
     "name": "stdout",
     "text": "the features are ['data', 'target', 'target_names', 'DESCR', 'feature_names', 'filename']\n"
    }
   ],
   "source": [
    "features = list(iris_df)\n",
    "\n",
    "print(\"the features are {}\".format(features))"
   ]
  },
  {
   "cell_type": "code",
   "execution_count": 41,
   "metadata": {},
   "outputs": [
    {
     "output_type": "stream",
     "name": "stdout",
     "text": "the iris keys are dict_keys(['data', 'target', 'target_names', 'DESCR', 'feature_names', 'filename'])\n"
    }
   ],
   "source": [
    "iris_keys = iris_df.keys()\n",
    "\n",
    "print(\"the iris keys are {}\".format(iris_keys))"
   ]
  },
  {
   "cell_type": "code",
   "execution_count": 42,
   "metadata": {},
   "outputs": [
    {
     "output_type": "stream",
     "name": "stdout",
     "text": "the feature shape is (150, 4) and the target shape is (150,)\nthe features are ['sepal length (cm)', 'sepal width (cm)', 'petal length (cm)', 'petal width (cm)'] \nthe targets are ['setosa' 'versicolor' 'virginica']\n"
    }
   ],
   "source": [
    "# fit the random tree classifier to tease out the most significant features\n",
    "X = iris_df.data\n",
    "y = iris_df.target\n",
    "\n",
    "# get the shapes\n",
    "print(\"the feature shape is {} and the target shape is {}\".format(X.shape, y.shape))\n",
    "\n",
    "feature_names = iris_df.feature_names\n",
    "target_names = iris_df.target_names\n",
    "\n",
    "print(\"the features are {} \\nthe targets are {}\".format(feature_names, target_names))\n"
   ]
  },
  {
   "cell_type": "code",
   "execution_count": 43,
   "metadata": {},
   "outputs": [
    {
     "output_type": "stream",
     "name": "stdout",
     "text": "the model is of type RandomForestClassifier\n"
    },
    {
     "output_type": "execute_result",
     "data": {
      "text/plain": "RandomForestClassifier(bootstrap=True, ccp_alpha=0.0, class_weight=None,\n                       criterion='gini', max_depth=None, max_features='auto',\n                       max_leaf_nodes=None, max_samples=None,\n                       min_impurity_decrease=0.0, min_impurity_split=None,\n                       min_samples_leaf=1, min_samples_split=2,\n                       min_weight_fraction_leaf=0.0, n_estimators=75,\n                       n_jobs=None, oob_score=False, random_state=2, verbose=0,\n                       warm_start=False)"
     },
     "metadata": {},
     "execution_count": 43
    }
   ],
   "source": [
    "forest_model = RandomForestClassifier(random_state = 2, n_estimators = 75)\n",
    "print(\"the model is of type {}\".format(forest_model.__class__.__name__))\n",
    "\n",
    "\n",
    "# fit the model\n",
    "forest_model.fit(X, y)\n"
   ]
  },
  {
   "cell_type": "code",
   "execution_count": 46,
   "metadata": {},
   "outputs": [
    {
     "output_type": "stream",
     "name": "stdout",
     "text": "the raw feature importances are [0.06893126210189635, 0.01715906098307047, 0.46005532826161566, 0.4538543486534175] and type <class 'list'>\nfeature names are ['sepal length (cm)', 'sepal width (cm)', 'petal length (cm)', 'petal width (cm)'] and type <class 'list'>\n<zip object at 0x7febb0c72500>\n"
    },
    {
     "output_type": "error",
     "ename": "TypeError",
     "evalue": "'list' object is not callable",
     "traceback": [
      "\u001b[0;31m---------------------------------------------------------------------------\u001b[0m",
      "\u001b[0;31mTypeError\u001b[0m                                 Traceback (most recent call last)",
      "\u001b[0;32m<ipython-input-46-d125c222ca57>\u001b[0m in \u001b[0;36m<module>\u001b[0;34m\u001b[0m\n\u001b[1;32m      6\u001b[0m \u001b[0mzipped\u001b[0m \u001b[0;34m=\u001b[0m \u001b[0mzip\u001b[0m\u001b[0;34m(\u001b[0m\u001b[0mfeature_importances\u001b[0m\u001b[0;34m,\u001b[0m \u001b[0mfeature_names\u001b[0m\u001b[0;34m)\u001b[0m\u001b[0;34m\u001b[0m\u001b[0;34m\u001b[0m\u001b[0m\n\u001b[1;32m      7\u001b[0m \u001b[0mprint\u001b[0m\u001b[0;34m(\u001b[0m\u001b[0mzipped\u001b[0m\u001b[0;34m)\u001b[0m\u001b[0;34m\u001b[0m\u001b[0;34m\u001b[0m\u001b[0m\n\u001b[0;32m----> 8\u001b[0;31m \u001b[0mimportance\u001b[0m \u001b[0;34m=\u001b[0m \u001b[0msorted\u001b[0m\u001b[0;34m(\u001b[0m\u001b[0mzipped\u001b[0m\u001b[0;34m,\u001b[0m \u001b[0mreverse\u001b[0m\u001b[0;34m=\u001b[0m \u001b[0;32mTrue\u001b[0m\u001b[0;34m)\u001b[0m\u001b[0;34m\u001b[0m\u001b[0;34m\u001b[0m\u001b[0m\n\u001b[0m\u001b[1;32m      9\u001b[0m \u001b[0;34m\u001b[0m\u001b[0m\n\u001b[1;32m     10\u001b[0m \u001b[0;31m# print\u001b[0m\u001b[0;34m\u001b[0m\u001b[0;34m\u001b[0m\u001b[0;34m\u001b[0m\u001b[0m\n",
      "\u001b[0;31mTypeError\u001b[0m: 'list' object is not callable"
     ]
    }
   ],
   "source": [
    "# get the most relevant features\n",
    "feature_importances = list(forest_model.feature_importances_)\n",
    "print(\"the raw feature importances are {} and type {}\".format(feature_importances, type(feature_importances)))\n",
    "print(\"feature names are {} and type {}\".format(feature_names, type(feature_names)))\n",
    "\n",
    "zipped = zip(feature_importances, feature_names)\n",
    "print(zipped)\n",
    "importance = sorted(zipped, reverse= True)\n",
    "\n",
    "# print\n",
    "print(\"for the feature importances are:\\n\")\n",
    "for i, row in enumerate(importance):\n",
    "    print(row)"
   ]
  },
  {
   "cell_type": "code",
   "execution_count": null,
   "metadata": {},
   "outputs": [],
   "source": []
  }
 ],
 "metadata": {
  "language_info": {
   "name": "python",
   "codemirror_mode": {
    "name": "ipython",
    "version": 3
   },
   "version": "3.7.6-final"
  },
  "orig_nbformat": 2,
  "file_extension": ".py",
  "mimetype": "text/x-python",
  "name": "python",
  "npconvert_exporter": "python",
  "pygments_lexer": "ipython3",
  "version": 3,
  "kernelspec": {
   "name": "python37664bittf237venv9b274482c7ba4966ad2cf02baa9bb24c",
   "display_name": "Python 3.7.6 64-bit ('tf2_37': venv)"
  }
 },
 "nbformat": 4,
 "nbformat_minor": 2
}