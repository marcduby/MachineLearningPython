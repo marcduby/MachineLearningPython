{
 "nbformat": 4,
 "nbformat_minor": 2,
 "metadata": {
  "language_info": {
   "name": "python",
   "codemirror_mode": {
    "name": "ipython",
    "version": 3
   },
   "version": "3.7.6-final"
  },
  "orig_nbformat": 2,
  "file_extension": ".py",
  "mimetype": "text/x-python",
  "name": "python",
  "npconvert_exporter": "python",
  "pygments_lexer": "ipython3",
  "version": 3,
  "kernelspec": {
   "name": "python37664bittf237venv9b274482c7ba4966ad2cf02baa9bb24c",
   "display_name": "Python 3.7.6 64-bit ('tf2_37': venv)"
  }
 },
 "cells": [
  {
   "cell_type": "code",
   "execution_count": 148,
   "metadata": {},
   "outputs": [],
   "source": [
    "# imports\n",
    "import json\n",
    "import urllib.request\n",
    ""
   ]
  },
  {
   "cell_type": "code",
   "execution_count": 149,
   "metadata": {},
   "outputs": [
    {
     "output_type": "stream",
     "name": "stdout",
     "text": "got data of type: <class 'http.client.HTTPResponse'>\ngot json data of type: <class 'str'>\n"
    }
   ],
   "source": [
    "# open the training file\n",
    "url = \"https://raw.githubusercontent.com/rishabhmisra/News-Headlines-Dataset-For-Sarcasm-Detection/master/Sarcasm_Headlines_Dataset.json\"\n",
    "# url = \"https://raw.githubusercontent.com/lin-justin/sarcasm-detection/master/Sarcasm_Headlines_Dataset_v2.json\"\n",
    "\n",
    "# need to massage the text to put it into proper json format\n",
    "with urllib.request.urlopen(url) as url_json:\n",
    "    json_text = \"[\"\n",
    "\n",
    "    for line in url_json:\n",
    "        line_string = line.decode()\n",
    "#        print(\"got line with type: {}\".format(type(line_string))\n",
    "        json_text = json_text + line_string + \",\"\n",
    "\n",
    "    json_text = json_text[:-1] + \"]\"\n",
    "    file_data = json.loads(json_text)\n",
    "    print(\"got data of type: {}\".format(type(url_json)))\n",
    "    print(\"got json data of type: {}\".format(type(json_text)))\n",
    ""
   ]
  },
  {
   "cell_type": "code",
   "execution_count": 150,
   "metadata": {},
   "outputs": [
    {
     "output_type": "stream",
     "name": "stdout",
     "text": "got 28619 elements in my training data\n"
    }
   ],
   "source": [
    "# parse the json\n",
    "sentence_list = []\n",
    "label_list = []\n",
    "url_list = []\n",
    "\n",
    "for item in file_data:\n",
    "    sentence_list.append(item['headline'])\n",
    "    label_list.append(item['is_sarcastic'])\n",
    "    url_list.append(item['article_link'])\n",
    "\n",
    "print(\"got {} elements in my training data\".format(len(sentence_list)))\n",
    ""
   ]
  },
  {
   "cell_type": "code",
   "execution_count": 151,
   "metadata": {},
   "outputs": [
    {
     "output_type": "stream",
     "name": "stdout",
     "text": "got word index of size: 30885\n"
    }
   ],
   "source": [
    "# tokenize the text data for the NN\n",
    "from tensorflow.keras.preprocessing.text import Tokenizer\n",
    "from tensorflow.keras.preprocessing.sequence import pad_sequences\n",
    "\n",
    "# tokenize\n",
    "tokenizer = Tokenizer(oov_token = '<OOV>')\n",
    "tokenizer.fit_on_texts(sentence_list)\n",
    "\n",
    "# get the word index\n",
    "word_index = tokenizer.word_index\n",
    "print(\"got word index of size: {}\".format(len(word_index)))\n",
    "\n",
    ""
   ]
  },
  {
   "cell_type": "code",
   "execution_count": 152,
   "metadata": {},
   "outputs": [
    {
     "output_type": "stream",
     "name": "stdout",
     "text": "the first sequence is: [16004   355  3167  7474  2644     3   661  1119     0     0     0     0\n     0     0     0     0     0     0     0     0     0     0     0     0\n     0     0     0     0     0     0     0     0     0     0     0     0\n     0     0     0     0     0     0     0     0     0     0     0     0\n     0     0     0     0     0     0     0     0     0     0     0     0\n     0     0     0     0     0     0     0     0     0     0     0     0\n     0     0     0     0     0     0     0     0     0     0     0     0\n     0     0     0     0     0     0     0     0     0     0     0     0\n     0     0     0     0     0     0     0     0     0     0     0     0\n     0     0     0     0     0     0     0     0     0     0     0     0\n     0     0     0     0     0     0     0     0     0     0     0     0\n     0     0     0     0     0     0     0     0     0     0     0     0\n     0     0     0     0     0     0     0     0]\nthe shape of the padded seuqnces is: (28619, 152) with type: <class 'numpy.ndarray'>\n"
    }
   ],
   "source": [
    "# get the sentence word sequences\n",
    "sequences = tokenizer.texts_to_sequences(sentence_list)\n",
    "\n",
    "# pad tomake sure all row sequnces have the same length and print\n",
    "padded_sequences = pad_sequences(sequences, padding = 'post')\n",
    "print(\"the first sequence is: {}\".format(padded_sequences[0]))\n",
    "print(\"the shape of the padded seuqnces is: {} with type: {}\".format(padded_sequences.shape, type(padded_sequences)))"
   ]
  },
  {
   "cell_type": "code",
   "execution_count": 153,
   "metadata": {},
   "outputs": [
    {
     "output_type": "stream",
     "name": "stdout",
     "text": "the traim row index is: 24326\n"
    }
   ],
   "source": [
    "# split into train and test sets\n",
    "# specify training split percent\n",
    "train_split = 0.85\n",
    "\n",
    "# get the index for the split\n",
    "train_index = int(train_split * padded_sequences.shape[0])\n",
    "print(\"the traim row index is: {}\".format(train_index))\n",
    "\n",
    ""
   ]
  },
  {
   "cell_type": "code",
   "execution_count": 154,
   "metadata": {},
   "outputs": [
    {
     "output_type": "stream",
     "name": "stdout",
     "text": "split data into train of size 24326 and test of size 4293\n"
    }
   ],
   "source": [
    "# split into train and test\n",
    "feature_train = padded_sequences[0: train_index]\n",
    "label_train = label_list[0: train_index]\n",
    "feature_test = padded_sequences[train_index:]\n",
    "label_test = label_list[train_index:]\n",
    "\n",
    "print(\"split data into train of size {} and test of size {}\".format(len(label_train), len(label_test)))"
   ]
  },
  {
   "cell_type": "code",
   "execution_count": 32,
   "metadata": {},
   "outputs": [
    {
     "name": "stdout",
     "output_type": "stream",
     "text": "the train sentences word in is of size 28488\n"
    }
   ],
   "source": [
    "# now need to create a new training tokenizer fit only on the traim data\n",
    "tokenizer_train = Tokenizer(oov_token='<OOV\\>')\n",
    "\n",
    "# split the train and test senetences\n",
    "sentence_train = sentence_list[:train_index]\n",
    "sentence_test = sentence_list[train_index:]\n",
    "\n",
    "# train this tokenizer on the training features\n",
    "tokenizer_train.fit_on_texts(sentence_train)\n",
    "\n",
    "train_word_index = tokenizer_train.word_index\n",
    "print(\"the train sentences word in is of size {}\".format(len(train_word_index)))\n"
   ]
  },
  {
   "cell_type": "code",
   "execution_count": 33,
   "metadata": {},
   "outputs": [
    {
     "name": "stdout",
     "output_type": "stream",
     "text": "the train padded sequence is of shape (24326, 120) and the test padded sequence is of shape (4293, 120)\n"
    }
   ],
   "source": [
    "# now get the sequences for the train and test sentence lists\n",
    "train_sequence = tokenizer_train.texts_to_sequences(sentence_train)\n",
    "test_sequence = tokenizer_train.texts_to_sequences(sentence_test)\n",
    "\n",
    "# pad (TODO: parameterize the constants)\n",
    "train_sequence_padded = pad_sequences(train_sequence, padding='post', truncating='post', maxlen=120)\n",
    "test_sequence_padded = pad_sequences(test_sequence, padding='post', truncating='post', maxlen=120)\n",
    "\n",
    "# make sure the shapes match on the column dimension (needed for the NN)\n",
    "print(\"the train padded sequence is of shape {} and the test padded sequence is of shape {}\".format(train_sequence_padded.shape, test_sequence_padded.shape))"
   ]
  },
  {
   "cell_type": "code",
   "execution_count": 147,
   "metadata": {},
   "outputs": [
    {
     "output_type": "error",
     "ename": "NameError",
     "evalue": "name 'train_word_index' is not defined",
     "traceback": [
      "\u001b[0;31m---------------------------------------------------------------------------\u001b[0m",
      "\u001b[0;31mNameError\u001b[0m                                 Traceback (most recent call last)",
      "\u001b[0;32m<ipython-input-147-fae2e8470623>\u001b[0m in \u001b[0;36m<module>\u001b[0;34m\u001b[0m\n\u001b[0;32m----> 1\u001b[0;31m \u001b[0mtrain_word_index\u001b[0m\u001b[0;34m\u001b[0m\u001b[0;34m\u001b[0m\u001b[0m\n\u001b[0m",
      "\u001b[0;31mNameError\u001b[0m: name 'train_word_index' is not defined"
     ]
    }
   ],
   "source": [
    "train_word_index"
   ]
  },
  {
   "cell_type": "code",
   "execution_count": 43,
   "metadata": {},
   "outputs": [
    {
     "name": "stdout",
     "output_type": "stream",
     "text": "Model: \"sequential_3\"\n_________________________________________________________________\nLayer (type)                 Output Shape              Param #   \n=================================================================\nembedding_5 (Embedding)      (None, 120, 16)           455808    \n_________________________________________________________________\nglobal_average_pooling1d_3 ( (None, 16)                0         \n_________________________________________________________________\ndense_4 (Dense)              (None, 24)                408       \n_________________________________________________________________\ndense_5 (Dense)              (None, 1)                 25        \n=================================================================\nTotal params: 456,241\nTrainable params: 456,241\nNon-trainable params: 0\n_________________________________________________________________\nthe tf model summary is None\n"
    }
   ],
   "source": [
    "import tensorflow as tf \n",
    "\n",
    "# build the NN model\n",
    "model = tf.keras.Sequential([\n",
    "    tf.keras.layers.Embedding(len(train_word_index), 16, input_length = 120),\n",
    "    tf.keras.layers.GlobalAveragePooling1D(),\n",
    "    tf.keras.layers.Dense(24, activation = 'relu'),\n",
    "    tf.keras.layers.Dense(1, activation = 'sigmoid')\n",
    "])\n",
    "\n",
    "model.compile(loss = 'binary_crossentropy', optimizer = 'adam', metrics = ['accuracy'])\n",
    "\n",
    "print(\"the tf model summary is {}\".format(model.summary()))"
   ]
  },
  {
   "cell_type": "code",
   "execution_count": 44,
   "metadata": {},
   "outputs": [
    {
     "ename": "ValueError",
     "evalue": "Failed to find data adapter that can handle input: <class 'numpy.ndarray'>, (<class 'list'> containing values of types {\"<class 'int'>\"})",
     "output_type": "error",
     "traceback": [
      "\u001b[0;31m---------------------------------------------------------------------------\u001b[0m",
      "\u001b[0;31mValueError\u001b[0m                                Traceback (most recent call last)",
      "\u001b[0;32m<ipython-input-44-6bb4aa111ae6>\u001b[0m in \u001b[0;36m<module>\u001b[0;34m\u001b[0m\n\u001b[1;32m      2\u001b[0m \u001b[0mnum_epocks\u001b[0m \u001b[0;34m=\u001b[0m \u001b[0;36m50\u001b[0m\u001b[0;34m\u001b[0m\u001b[0;34m\u001b[0m\u001b[0m\n\u001b[1;32m      3\u001b[0m \u001b[0;34m\u001b[0m\u001b[0m\n\u001b[0;32m----> 4\u001b[0;31m \u001b[0mmodel\u001b[0m\u001b[0;34m.\u001b[0m\u001b[0mfit\u001b[0m\u001b[0;34m(\u001b[0m\u001b[0mtrain_sequence_padded\u001b[0m\u001b[0;34m,\u001b[0m \u001b[0mlabel_train\u001b[0m\u001b[0;34m,\u001b[0m \u001b[0mepochs\u001b[0m\u001b[0;34m=\u001b[0m \u001b[0mnum_epocks\u001b[0m\u001b[0;34m,\u001b[0m \u001b[0mvalidation_data\u001b[0m\u001b[0;34m=\u001b[0m \u001b[0;34m(\u001b[0m\u001b[0mtest_sequence_padded\u001b[0m\u001b[0;34m,\u001b[0m \u001b[0mlabel_test\u001b[0m\u001b[0;34m)\u001b[0m\u001b[0;34m,\u001b[0m \u001b[0mverbose\u001b[0m\u001b[0;34m=\u001b[0m \u001b[0;36m2\u001b[0m\u001b[0;34m)\u001b[0m\u001b[0;34m\u001b[0m\u001b[0;34m\u001b[0m\u001b[0m\n\u001b[0m\u001b[1;32m      5\u001b[0m \u001b[0;34m\u001b[0m\u001b[0m\n",
      "\u001b[0;32m~/Energy/VirtualPyEnvs/tf2_37/lib/python3.7/site-packages/tensorflow_core/python/keras/engine/training.py\u001b[0m in \u001b[0;36mfit\u001b[0;34m(self, x, y, batch_size, epochs, verbose, callbacks, validation_split, validation_data, shuffle, class_weight, sample_weight, initial_epoch, steps_per_epoch, validation_steps, validation_freq, max_queue_size, workers, use_multiprocessing, **kwargs)\u001b[0m\n\u001b[1;32m    817\u001b[0m         \u001b[0mmax_queue_size\u001b[0m\u001b[0;34m=\u001b[0m\u001b[0mmax_queue_size\u001b[0m\u001b[0;34m,\u001b[0m\u001b[0;34m\u001b[0m\u001b[0;34m\u001b[0m\u001b[0m\n\u001b[1;32m    818\u001b[0m         \u001b[0mworkers\u001b[0m\u001b[0;34m=\u001b[0m\u001b[0mworkers\u001b[0m\u001b[0;34m,\u001b[0m\u001b[0;34m\u001b[0m\u001b[0;34m\u001b[0m\u001b[0m\n\u001b[0;32m--> 819\u001b[0;31m         use_multiprocessing=use_multiprocessing)\n\u001b[0m\u001b[1;32m    820\u001b[0m \u001b[0;34m\u001b[0m\u001b[0m\n\u001b[1;32m    821\u001b[0m   def evaluate(self,\n",
      "\u001b[0;32m~/Energy/VirtualPyEnvs/tf2_37/lib/python3.7/site-packages/tensorflow_core/python/keras/engine/training_v2.py\u001b[0m in \u001b[0;36mfit\u001b[0;34m(self, model, x, y, batch_size, epochs, verbose, callbacks, validation_split, validation_data, shuffle, class_weight, sample_weight, initial_epoch, steps_per_epoch, validation_steps, validation_freq, max_queue_size, workers, use_multiprocessing, **kwargs)\u001b[0m\n\u001b[1;32m    233\u001b[0m           \u001b[0mmax_queue_size\u001b[0m\u001b[0;34m=\u001b[0m\u001b[0mmax_queue_size\u001b[0m\u001b[0;34m,\u001b[0m\u001b[0;34m\u001b[0m\u001b[0;34m\u001b[0m\u001b[0m\n\u001b[1;32m    234\u001b[0m           \u001b[0mworkers\u001b[0m\u001b[0;34m=\u001b[0m\u001b[0mworkers\u001b[0m\u001b[0;34m,\u001b[0m\u001b[0;34m\u001b[0m\u001b[0;34m\u001b[0m\u001b[0m\n\u001b[0;32m--> 235\u001b[0;31m           use_multiprocessing=use_multiprocessing)\n\u001b[0m\u001b[1;32m    236\u001b[0m \u001b[0;34m\u001b[0m\u001b[0m\n\u001b[1;32m    237\u001b[0m       \u001b[0mtotal_samples\u001b[0m \u001b[0;34m=\u001b[0m \u001b[0m_get_total_number_of_samples\u001b[0m\u001b[0;34m(\u001b[0m\u001b[0mtraining_data_adapter\u001b[0m\u001b[0;34m)\u001b[0m\u001b[0;34m\u001b[0m\u001b[0;34m\u001b[0m\u001b[0m\n",
      "\u001b[0;32m~/Energy/VirtualPyEnvs/tf2_37/lib/python3.7/site-packages/tensorflow_core/python/keras/engine/training_v2.py\u001b[0m in \u001b[0;36m_process_training_inputs\u001b[0;34m(model, x, y, batch_size, epochs, sample_weights, class_weights, steps_per_epoch, validation_split, validation_data, validation_steps, shuffle, distribution_strategy, max_queue_size, workers, use_multiprocessing)\u001b[0m\n\u001b[1;32m    531\u001b[0m                      'at same time.')\n\u001b[1;32m    532\u001b[0m \u001b[0;34m\u001b[0m\u001b[0m\n\u001b[0;32m--> 533\u001b[0;31m   \u001b[0madapter_cls\u001b[0m \u001b[0;34m=\u001b[0m \u001b[0mdata_adapter\u001b[0m\u001b[0;34m.\u001b[0m\u001b[0mselect_data_adapter\u001b[0m\u001b[0;34m(\u001b[0m\u001b[0mx\u001b[0m\u001b[0;34m,\u001b[0m \u001b[0my\u001b[0m\u001b[0;34m)\u001b[0m\u001b[0;34m\u001b[0m\u001b[0;34m\u001b[0m\u001b[0m\n\u001b[0m\u001b[1;32m    534\u001b[0m \u001b[0;34m\u001b[0m\u001b[0m\n\u001b[1;32m    535\u001b[0m   \u001b[0;31m# Handle validation_split, we want to split the data and get the training\u001b[0m\u001b[0;34m\u001b[0m\u001b[0;34m\u001b[0m\u001b[0;34m\u001b[0m\u001b[0m\n",
      "\u001b[0;32m~/Energy/VirtualPyEnvs/tf2_37/lib/python3.7/site-packages/tensorflow_core/python/keras/engine/data_adapter.py\u001b[0m in \u001b[0;36mselect_data_adapter\u001b[0;34m(x, y)\u001b[0m\n\u001b[1;32m    996\u001b[0m         \u001b[0;34m\"Failed to find data adapter that can handle \"\u001b[0m\u001b[0;34m\u001b[0m\u001b[0;34m\u001b[0m\u001b[0m\n\u001b[1;32m    997\u001b[0m         \"input: {}, {}\".format(\n\u001b[0;32m--> 998\u001b[0;31m             _type_name(x), _type_name(y)))\n\u001b[0m\u001b[1;32m    999\u001b[0m   \u001b[0;32melif\u001b[0m \u001b[0mlen\u001b[0m\u001b[0;34m(\u001b[0m\u001b[0madapter_cls\u001b[0m\u001b[0;34m)\u001b[0m \u001b[0;34m>\u001b[0m \u001b[0;36m1\u001b[0m\u001b[0;34m:\u001b[0m\u001b[0;34m\u001b[0m\u001b[0;34m\u001b[0m\u001b[0m\n\u001b[1;32m   1000\u001b[0m     raise RuntimeError(\n",
      "\u001b[0;31mValueError\u001b[0m: Failed to find data adapter that can handle input: <class 'numpy.ndarray'>, (<class 'list'> containing values of types {\"<class 'int'>\"})"
     ]
    }
   ],
   "source": [
    "# train the tf model\n",
    "num_epochs = 50\n",
    "\n",
    "model.fit(train_sequence_padded, label_train, epochs= num_epochs, validation_data= (test_sequence_padded, label_test), verbose= 2)\n",
    "\n"
   ]
  },
  {
   "cell_type": "code",
   "execution_count": null,
   "metadata": {},
   "outputs": [],
   "source": []
  }
 ]
}