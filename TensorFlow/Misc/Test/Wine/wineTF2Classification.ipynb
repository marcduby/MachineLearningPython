{
 "cells": [
  {
   "cell_type": "code",
   "execution_count": 4,
   "metadata": {},
   "outputs": [
    {
     "output_type": "stream",
     "name": "stdout",
     "text": "TF version 2.1.0\nnumpy version 1.18.1\nEager mode:  True\nGPU is NOT AVAILABLE\n"
    }
   ],
   "source": [
    "# imports\n",
    "import tensorflow as tf \n",
    "import numpy as np \n",
    "from sklearn.datasets import load_wine\n",
    "\n",
    "print(\"TF version {}\".format(tf.__version__))\n",
    "print(\"numpy version {}\".format(np.__version__))\n",
    "print(\"Eager mode: \", tf.executing_eagerly())\n",
    "print(\"GPU is\", \"available\" if tf.config.experimental.list_physical_devices(\"GPU\") else \"NOT AVAILABLE\")"
   ]
  },
  {
   "cell_type": "code",
   "execution_count": 25,
   "metadata": {},
   "outputs": [],
   "source": [
    "def get_train_test_validate(data_array, test_percent, validate_percent):\n",
    "    index = len(data_array)\n",
    "    print(\"the train max index is {}\".format(index))\n",
    "\n",
    "    # get the test/train split\n",
    "    index = int(index * test_percent)\n",
    "    train_data = data_array[:index]\n",
    "    test_data = data_array[index:]\n",
    "    print(\"the test split index is {}\".format(index))\n",
    "\n",
    "    # get the train/validate split\n",
    "    index = int(index * validate_percent)\n",
    "    validate_data = train_data[index:]\n",
    "    train_data = train_data[:index]\n",
    "    print(\"the validate split index is {}\".format(index))\n",
    "\n",
    "    # return\n",
    "    return train_data, test_data, validate_data\n"
   ]
  },
  {
   "cell_type": "code",
   "execution_count": 6,
   "metadata": {},
   "outputs": [
    {
     "output_type": "stream",
     "name": "stdout",
     "text": "the keys are dict_keys(['data', 'target', 'target_names', 'DESCR', 'feature_names'])\n"
    }
   ],
   "source": [
    "# load the wine data\n",
    "wine_df = load_wine()\n",
    "\n",
    "print(\"the keys are {}\".format(wine_df.keys()))"
   ]
  },
  {
   "cell_type": "code",
   "execution_count": 7,
   "metadata": {},
   "outputs": [
    {
     "output_type": "stream",
     "name": "stdout",
     "text": "the full features are of type <class 'numpy.ndarray'> and shape (178, 13)\nthe full labels are of type <class 'numpy.ndarray'> and shape (178,)\n"
    }
   ],
   "source": [
    "# get the features and labels\n",
    "X = wine_df.data\n",
    "y = wine_df.target\n",
    "\n",
    "print(\"the full features are of type {} and shape {}\".format(type(X), X.shape))\n",
    "print(\"the full labels are of type {} and shape {}\".format(type(y), y.shape))\n",
    "\n"
   ]
  },
  {
   "cell_type": "code",
   "execution_count": 26,
   "metadata": {},
   "outputs": [
    {
     "output_type": "stream",
     "name": "stdout",
     "text": "the train max index is 178\nthe test split index is 142\nthe validate split index is 113\nthe train dataset if of type <class 'numpy.ndarray'> and shape (113, 13)\nthe test dataset if of type <class 'numpy.ndarray'> and shape (36, 13)\nthe validate dataset if of type <class 'numpy.ndarray'> and shape (29, 13)\n"
    }
   ],
   "source": [
    "# get the train/test data\n",
    "X_train, X_test, X_validate = get_train_test_validate(X, 0.8, 0.8)\n",
    "\n",
    "print(\"the train dataset if of type {} and shape {}\".format(type(X_train), X_train.shape))\n",
    "print(\"the test dataset if of type {} and shape {}\".format(type(X_test), X_test.shape))\n",
    "print(\"the validate dataset if of type {} and shape {}\".format(type(X_validate), X_validate.shape))"
   ]
  },
  {
   "cell_type": "code",
   "execution_count": 27,
   "metadata": {},
   "outputs": [
    {
     "output_type": "stream",
     "name": "stdout",
     "text": "the train max index is 178\nthe test split index is 142\nthe validate split index is 113\nthe train labels if of type <class 'numpy.ndarray'> and shape (113,)\nthe test labels if of type <class 'numpy.ndarray'> and shape (36,)\nthe validate labels if of type <class 'numpy.ndarray'> and shape (29,)\n"
    }
   ],
   "source": [
    "# split the labels into train/test/validate labels\n",
    "y_train, y_test, y_validate = get_train_test_validate(y, 0.8, 0.8)\n",
    "\n",
    "print(\"the train labels if of type {} and shape {}\".format(type(y_train), y_train.shape))\n",
    "print(\"the test labels if of type {} and shape {}\".format(type(y_test), y_test.shape))\n",
    "print(\"the validate labels if of type {} and shape {}\".format(type(y_validate), y_validate.shape))"
   ]
  },
  {
   "cell_type": "code",
   "execution_count": 61,
   "metadata": {},
   "outputs": [
    {
     "output_type": "stream",
     "name": "stdout",
     "text": "Model: \"sequential_9\"\n_________________________________________________________________\nLayer (type)                 Output Shape              Param #   \n=================================================================\ndense_27 (Dense)             (None, 100)               1400      \n_________________________________________________________________\ndense_28 (Dense)             (None, 30)                3030      \n_________________________________________________________________\ndense_29 (Dense)             (None, 3)                 93        \n=================================================================\nTotal params: 4,523\nTrainable params: 4,523\nNon-trainable params: 0\n_________________________________________________________________\n"
    }
   ],
   "source": [
    "# build the model\n",
    "model = tf.keras.Sequential([\n",
    "    tf.keras.layers.Dense(100, activation= 'relu', input_shape=(13,)),\n",
    "    # tf.keras.layers.AveragePooling1D(),\n",
    "    tf.keras.layers.Dense(30, activation='relu'),\n",
    "    tf.keras.layers.Dense(3, activation='softmax')\n",
    "])\n",
    "\n",
    "model.summary()\n"
   ]
  },
  {
   "cell_type": "code",
   "execution_count": 73,
   "metadata": {},
   "outputs": [],
   "source": [
    "# compile the model\n",
    "model.compile(loss='sparse_categorical_crossentropy', optimizer='adam', metrics=['accuracy'])\n",
    "\n",
    "# will only work if lables are one hot matrix?\n",
    "# from keras.utils import to_categorical\n",
    "# y_binary = to_categorical(y_int)\n",
    "# model.compile(loss='categorical_crossentropy', optimizer='adam', metrics=['accuracy'])\n",
    "\n",
    "# option from the TF classification example\n",
    "# model.compile(loss=tf.keras.losses.SparseCategoricalCrossentropy(from_logits=True), optimizer='adam', metrics=['accuracy'])\n",
    "\n"
   ]
  },
  {
   "cell_type": "code",
   "execution_count": 74,
   "metadata": {},
   "outputs": [
    {
     "output_type": "stream",
     "name": "stdout",
     "text": "Train on 113 samples, validate on 29 samples\nEpoch 1/20\n113/113 [==============================] - 0s 2ms/sample - loss: 3.2292 - accuracy: 0.5841 - val_loss: 20.5550 - val_accuracy: 0.5862\nEpoch 2/20\n113/113 [==============================] - 0s 171us/sample - loss: 1.5956 - accuracy: 0.6637 - val_loss: 19.7385 - val_accuracy: 0.5517\nEpoch 3/20\n113/113 [==============================] - 0s 151us/sample - loss: 0.6589 - accuracy: 0.8496 - val_loss: 19.5819 - val_accuracy: 0.5517\nEpoch 4/20\n113/113 [==============================] - 0s 152us/sample - loss: 0.6569 - accuracy: 0.8496 - val_loss: 19.5409 - val_accuracy: 0.5172\nEpoch 5/20\n113/113 [==============================] - 0s 156us/sample - loss: 0.7342 - accuracy: 0.8053 - val_loss: 19.4653 - val_accuracy: 0.5517\nEpoch 6/20\n113/113 [==============================] - 0s 152us/sample - loss: 0.9327 - accuracy: 0.8142 - val_loss: 19.6749 - val_accuracy: 0.5862\nEpoch 7/20\n113/113 [==============================] - 0s 154us/sample - loss: 0.8613 - accuracy: 0.7699 - val_loss: 19.4584 - val_accuracy: 0.5862\nEpoch 8/20\n113/113 [==============================] - 0s 156us/sample - loss: 0.7031 - accuracy: 0.8319 - val_loss: 19.2101 - val_accuracy: 0.5517\nEpoch 9/20\n113/113 [==============================] - 0s 149us/sample - loss: 1.2530 - accuracy: 0.7876 - val_loss: 19.1287 - val_accuracy: 0.5517\nEpoch 10/20\n113/113 [==============================] - 0s 147us/sample - loss: 0.6301 - accuracy: 0.8584 - val_loss: 19.5233 - val_accuracy: 0.4483\nEpoch 11/20\n113/113 [==============================] - 0s 147us/sample - loss: 1.0086 - accuracy: 0.8053 - val_loss: 19.5362 - val_accuracy: 0.4483\nEpoch 12/20\n113/113 [==============================] - 0s 148us/sample - loss: 0.7748 - accuracy: 0.8319 - val_loss: 18.9913 - val_accuracy: 0.4828\nEpoch 13/20\n113/113 [==============================] - 0s 145us/sample - loss: 0.7085 - accuracy: 0.8319 - val_loss: 18.8368 - val_accuracy: 0.5862\nEpoch 14/20\n113/113 [==============================] - 0s 148us/sample - loss: 1.1901 - accuracy: 0.7699 - val_loss: 19.0591 - val_accuracy: 0.5862\nEpoch 15/20\n113/113 [==============================] - 0s 148us/sample - loss: 0.6713 - accuracy: 0.8319 - val_loss: 19.0125 - val_accuracy: 0.5862\nEpoch 16/20\n113/113 [==============================] - 0s 149us/sample - loss: 0.6060 - accuracy: 0.8584 - val_loss: 18.4750 - val_accuracy: 0.5517\nEpoch 17/20\n113/113 [==============================] - 0s 155us/sample - loss: 0.6476 - accuracy: 0.8761 - val_loss: 18.6037 - val_accuracy: 0.5862\nEpoch 18/20\n113/113 [==============================] - 0s 146us/sample - loss: 1.5039 - accuracy: 0.7876 - val_loss: 18.2526 - val_accuracy: 0.5862\nEpoch 19/20\n113/113 [==============================] - 0s 146us/sample - loss: 0.7963 - accuracy: 0.8319 - val_loss: 18.3916 - val_accuracy: 0.5862\nEpoch 20/20\n113/113 [==============================] - 0s 169us/sample - loss: 0.5800 - accuracy: 0.8850 - val_loss: 18.0532 - val_accuracy: 0.4828\n"
    },
    {
     "output_type": "execute_result",
     "data": {
      "text/plain": "<tensorflow.python.keras.callbacks.History at 0x7fea2202c450>"
     },
     "metadata": {},
     "execution_count": 74
    }
   ],
   "source": [
    "# fit the model\n",
    "number_epochs=20\n",
    "\n",
    "model.fit(X_train, y_train, epochs=number_epochs, batch_size=10, validation_data=(X_validate, y_validate), verbose=1)\n",
    "\n"
   ]
  },
  {
   "cell_type": "code",
   "execution_count": 75,
   "metadata": {},
   "outputs": [
    {
     "output_type": "stream",
     "name": "stdout",
     "text": "the prediction was [[2.8327382e-01 7.1672618e-01 3.1691159e-17]\n [9.9984121e-01 1.5876286e-04 3.2272273e-25]\n [9.9995399e-01 4.6051224e-05 1.1991408e-24]\n [2.2044435e-02 9.7795564e-01 7.7303403e-15]\n [9.9103957e-01 8.9603942e-03 4.0465055e-19]\n [9.8538983e-01 1.4610122e-02 1.1291022e-19]\n [8.0005958e-04 9.9919993e-01 1.9730099e-19]\n [4.4965363e-06 9.9999547e-01 8.5297088e-20]\n [4.1539934e-05 9.9995852e-01 1.7868441e-18]\n [1.1366981e-06 9.9999881e-01 1.2092545e-17]\n [9.8667800e-01 1.3322039e-02 2.3423007e-20]\n [5.5022508e-01 4.4977495e-01 3.9075425e-19]\n [9.9956471e-01 4.3531132e-04 6.4964606e-22]\n [4.2609394e-02 9.5739067e-01 2.9066076e-16]\n [9.9999750e-01 2.5123177e-06 2.4193495e-26]\n [9.2829382e-01 7.1706139e-02 6.7411194e-20]\n [9.6744823e-01 3.2551762e-02 8.7655626e-19]\n [1.9196355e-01 8.0803645e-01 1.8185909e-16]\n [7.3435402e-01 2.6564601e-01 2.8892908e-20]]\n"
    }
   ],
   "source": [
    "# predict\n",
    "prediction = model.predict(X_test[1:20])\n",
    "\n",
    "print(\"the prediction was {}\".format(prediction))"
   ]
  },
  {
   "cell_type": "code",
   "execution_count": 65,
   "metadata": {},
   "outputs": [
    {
     "output_type": "stream",
     "name": "stdout",
     "text": "the test labels were [2 2 2 2 2 2 2 2 2 2 2 2 2 2 2 2 2 2 2]\n"
    }
   ],
   "source": [
    "# validate the prediction\n",
    "print(\"the test labels were {}\".format(y_test[1:20]))"
   ]
  },
  {
   "cell_type": "code",
   "execution_count": null,
   "metadata": {},
   "outputs": [],
   "source": []
  }
 ],
 "metadata": {
  "language_info": {
   "codemirror_mode": {
    "name": "ipython",
    "version": 3
   },
   "file_extension": ".py",
   "mimetype": "text/x-python",
   "name": "python",
   "nbconvert_exporter": "python",
   "pygments_lexer": "ipython3",
   "version": "3.7.6-final"
  },
  "orig_nbformat": 2,
  "kernelspec": {
   "name": "python37664bittf237venv9b274482c7ba4966ad2cf02baa9bb24c",
   "display_name": "Python 3.7.6 64-bit ('tf2_37': venv)"
  }
 },
 "nbformat": 4,
 "nbformat_minor": 2
}