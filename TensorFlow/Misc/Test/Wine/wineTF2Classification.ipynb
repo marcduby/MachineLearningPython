{
 "cells": [
  {
   "cell_type": "code",
   "execution_count": 1,
   "metadata": {},
   "outputs": [
    {
     "output_type": "stream",
     "name": "stdout",
     "text": "TF version 2.1.0\nnumpy version 1.18.1\nEager mode:  True\nGPU is NOT AVAILABLE\n"
    }
   ],
   "source": [
    "# imports\n",
    "import tensorflow as tf \n",
    "import numpy as np \n",
    "from sklearn.datasets import load_wine\n",
    "from sklearn.utils import shuffle\n",
    "\n",
    "print(\"TF version {}\".format(tf.__version__))\n",
    "print(\"numpy version {}\".format(np.__version__))\n",
    "print(\"Eager mode: \", tf.executing_eagerly())\n",
    "print(\"GPU is\", \"available\" if tf.config.experimental.list_physical_devices(\"GPU\") else \"NOT AVAILABLE\")"
   ]
  },
  {
   "cell_type": "code",
   "execution_count": 2,
   "metadata": {},
   "outputs": [],
   "source": [
    "def get_train_test_validate(data_array, test_percent, validate_percent):\n",
    "    index = len(data_array)\n",
    "    print(\"the train max index is {}\".format(index))\n",
    "\n",
    "    # get the test/train split\n",
    "    index = int(index * test_percent)\n",
    "    train_data = data_array[:index]\n",
    "    test_data = data_array[index:]\n",
    "    print(\"the test split index is {}\".format(index))\n",
    "\n",
    "    # get the train/validate split\n",
    "    index = int(index * validate_percent)\n",
    "    validate_data = train_data[index:]\n",
    "    train_data = train_data[:index]\n",
    "    print(\"the validate split index is {}\".format(index))\n",
    "\n",
    "    # return\n",
    "    return train_data, test_data, validate_data\n"
   ]
  },
  {
   "cell_type": "code",
   "execution_count": 3,
   "metadata": {},
   "outputs": [
    {
     "output_type": "stream",
     "name": "stdout",
     "text": "the keys are dict_keys(['data', 'target', 'target_names', 'DESCR', 'feature_names'])\n"
    }
   ],
   "source": [
    "# load the wine data\n",
    "wine_df = load_wine()\n",
    "\n",
    "print(\"the keys are {}\".format(wine_df.keys()))"
   ]
  },
  {
   "cell_type": "code",
   "execution_count": 4,
   "metadata": {},
   "outputs": [
    {
     "output_type": "stream",
     "name": "stdout",
     "text": "the full features are of type <class 'numpy.ndarray'> and shape (178, 13)\nthe full labels are of type <class 'numpy.ndarray'> and shape (178,)\n"
    }
   ],
   "source": [
    "# get the features and labels\n",
    "X = wine_df.data\n",
    "y = wine_df.target\n",
    "\n",
    "print(\"the full features are of type {} and shape {}\".format(type(X), X.shape))\n",
    "print(\"the full labels are of type {} and shape {}\".format(type(y), y.shape))\n",
    "\n"
   ]
  },
  {
   "cell_type": "code",
   "execution_count": 5,
   "metadata": {},
   "outputs": [],
   "source": [
    "# shuffle the data\n",
    "X, y = shuffle(X, y, random_state = 2)\n"
   ]
  },
  {
   "cell_type": "code",
   "execution_count": 6,
   "metadata": {},
   "outputs": [
    {
     "output_type": "stream",
     "name": "stdout",
     "text": "the train max index is 178\nthe test split index is 142\nthe validate split index is 113\nthe train dataset if of type <class 'numpy.ndarray'> and shape (113, 13)\nthe test dataset if of type <class 'numpy.ndarray'> and shape (36, 13)\nthe validate dataset if of type <class 'numpy.ndarray'> and shape (29, 13)\n"
    }
   ],
   "source": [
    "# get the train/test data\n",
    "X_train, X_test, X_validate = get_train_test_validate(X, 0.8, 0.8)\n",
    "\n",
    "print(\"the train dataset if of type {} and shape {}\".format(type(X_train), X_train.shape))\n",
    "print(\"the test dataset if of type {} and shape {}\".format(type(X_test), X_test.shape))\n",
    "print(\"the validate dataset if of type {} and shape {}\".format(type(X_validate), X_validate.shape))"
   ]
  },
  {
   "cell_type": "code",
   "execution_count": 7,
   "metadata": {},
   "outputs": [
    {
     "output_type": "stream",
     "name": "stdout",
     "text": "the train max index is 178\nthe test split index is 142\nthe validate split index is 113\nthe train labels if of type <class 'numpy.ndarray'> and shape (113,)\nthe test labels if of type <class 'numpy.ndarray'> and shape (36,)\nthe validate labels if of type <class 'numpy.ndarray'> and shape (29,)\n"
    }
   ],
   "source": [
    "# split the labels into train/test/validate labels\n",
    "y_train, y_test, y_validate = get_train_test_validate(y, 0.8, 0.8)\n",
    "\n",
    "print(\"the train labels if of type {} and shape {}\".format(type(y_train), y_train.shape))\n",
    "print(\"the test labels if of type {} and shape {}\".format(type(y_test), y_test.shape))\n",
    "print(\"the validate labels if of type {} and shape {}\".format(type(y_validate), y_validate.shape))"
   ]
  },
  {
   "cell_type": "code",
   "execution_count": 8,
   "metadata": {},
   "outputs": [
    {
     "output_type": "stream",
     "name": "stdout",
     "text": "Model: \"sequential\"\n_________________________________________________________________\nLayer (type)                 Output Shape              Param #   \n=================================================================\ndense (Dense)                (None, 100)               1400      \n_________________________________________________________________\ndense_1 (Dense)              (None, 30)                3030      \n_________________________________________________________________\ndense_2 (Dense)              (None, 3)                 93        \n=================================================================\nTotal params: 4,523\nTrainable params: 4,523\nNon-trainable params: 0\n_________________________________________________________________\n"
    }
   ],
   "source": [
    "# build the model\n",
    "model = tf.keras.Sequential([\n",
    "    tf.keras.layers.Dense(100, activation= 'relu', input_shape=(13,)),\n",
    "    # tf.keras.layers.AveragePooling1D(),\n",
    "    tf.keras.layers.Dense(30, activation='relu'),\n",
    "    tf.keras.layers.Dense(3, activation='softmax')\n",
    "])\n",
    "\n",
    "model.summary()\n"
   ]
  },
  {
   "cell_type": "code",
   "execution_count": 9,
   "metadata": {},
   "outputs": [],
   "source": [
    "# compile the model\n",
    "model.compile(loss='sparse_categorical_crossentropy', optimizer='adam', metrics=['accuracy'])\n",
    "\n",
    "# will only work if lables are one hot matrix?\n",
    "# from keras.utils import to_categorical\n",
    "# y_binary = to_categorical(y_int)\n",
    "# model.compile(loss='categorical_crossentropy', optimizer='adam', metrics=['accuracy'])\n",
    "\n",
    "# option from the TF classification example\n",
    "# model.compile(loss=tf.keras.losses.SparseCategoricalCrossentropy(from_logits=True), optimizer='adam', metrics=['accuracy'])\n",
    "\n"
   ]
  },
  {
   "cell_type": "code",
   "execution_count": 10,
   "metadata": {},
   "outputs": [
    {
     "output_type": "stream",
     "name": "stdout",
     "text": "Train on 113 samples, validate on 29 samples\nEpoch 1/20\n113/113 [==============================] - 0s 3ms/sample - loss: 23.5737 - accuracy: 0.3451 - val_loss: 7.8013 - val_accuracy: 0.3793\nEpoch 2/20\n113/113 [==============================] - 0s 152us/sample - loss: 6.6669 - accuracy: 0.3805 - val_loss: 5.0322 - val_accuracy: 0.2069\nEpoch 3/20\n113/113 [==============================] - 0s 154us/sample - loss: 2.1113 - accuracy: 0.6195 - val_loss: 1.8032 - val_accuracy: 0.6552\nEpoch 4/20\n113/113 [==============================] - 0s 164us/sample - loss: 1.0405 - accuracy: 0.6460 - val_loss: 1.8315 - val_accuracy: 0.4828\nEpoch 5/20\n113/113 [==============================] - 0s 162us/sample - loss: 1.1042 - accuracy: 0.6460 - val_loss: 0.9571 - val_accuracy: 0.7931\nEpoch 6/20\n113/113 [==============================] - 0s 164us/sample - loss: 0.8397 - accuracy: 0.7080 - val_loss: 0.8559 - val_accuracy: 0.7241\nEpoch 7/20\n113/113 [==============================] - 0s 172us/sample - loss: 0.6426 - accuracy: 0.7611 - val_loss: 0.6842 - val_accuracy: 0.6897\nEpoch 8/20\n113/113 [==============================] - 0s 166us/sample - loss: 0.5981 - accuracy: 0.7965 - val_loss: 1.2819 - val_accuracy: 0.6552\nEpoch 9/20\n113/113 [==============================] - 0s 153us/sample - loss: 0.6492 - accuracy: 0.7788 - val_loss: 1.4466 - val_accuracy: 0.5862\nEpoch 10/20\n113/113 [==============================] - 0s 155us/sample - loss: 0.8585 - accuracy: 0.6549 - val_loss: 1.2309 - val_accuracy: 0.6897\nEpoch 11/20\n113/113 [==============================] - 0s 154us/sample - loss: 0.7281 - accuracy: 0.6991 - val_loss: 0.6683 - val_accuracy: 0.8276\nEpoch 12/20\n113/113 [==============================] - 0s 153us/sample - loss: 0.6070 - accuracy: 0.8053 - val_loss: 0.5848 - val_accuracy: 0.7931\nEpoch 13/20\n113/113 [==============================] - 0s 154us/sample - loss: 0.5199 - accuracy: 0.7876 - val_loss: 0.6597 - val_accuracy: 0.8966\nEpoch 14/20\n113/113 [==============================] - 0s 156us/sample - loss: 0.6442 - accuracy: 0.8230 - val_loss: 0.7583 - val_accuracy: 0.7586\nEpoch 15/20\n113/113 [==============================] - 0s 166us/sample - loss: 1.2329 - accuracy: 0.7257 - val_loss: 0.7733 - val_accuracy: 0.8276\nEpoch 16/20\n113/113 [==============================] - 0s 155us/sample - loss: 0.5413 - accuracy: 0.8053 - val_loss: 1.1397 - val_accuracy: 0.6897\nEpoch 17/20\n113/113 [==============================] - 0s 156us/sample - loss: 0.8824 - accuracy: 0.7257 - val_loss: 0.8484 - val_accuracy: 0.6897\nEpoch 18/20\n113/113 [==============================] - 0s 166us/sample - loss: 1.0839 - accuracy: 0.6637 - val_loss: 1.2206 - val_accuracy: 0.6552\nEpoch 19/20\n113/113 [==============================] - 0s 165us/sample - loss: 0.4283 - accuracy: 0.8496 - val_loss: 0.8910 - val_accuracy: 0.8276\nEpoch 20/20\n113/113 [==============================] - 0s 156us/sample - loss: 0.5355 - accuracy: 0.8761 - val_loss: 0.6504 - val_accuracy: 0.7586\n"
    },
    {
     "output_type": "execute_result",
     "data": {
      "text/plain": "<tensorflow.python.keras.callbacks.History at 0x7ffa6112efd0>"
     },
     "metadata": {},
     "execution_count": 10
    }
   ],
   "source": [
    "# fit the model\n",
    "number_epochs=20\n",
    "\n",
    "model.fit(X_train, y_train, epochs=number_epochs, batch_size=10, validation_data=(X_validate, y_validate), verbose=1)\n",
    "\n"
   ]
  },
  {
   "cell_type": "code",
   "execution_count": 11,
   "metadata": {},
   "outputs": [
    {
     "output_type": "stream",
     "name": "stdout",
     "text": "the prediction was [[2.1177220e-06 9.8649526e-01 1.3502649e-02]\n [1.3138255e-03 4.3912458e-01 5.5956167e-01]\n [1.3727257e-08 9.8412782e-01 1.5872153e-02]\n [4.9210019e-05 4.7491652e-01 5.2503431e-01]\n [9.9976033e-01 2.3833656e-04 1.3218638e-06]\n [4.0676489e-02 9.2136925e-01 3.7954308e-02]\n [2.8641678e-06 9.9151272e-01 8.4844567e-03]\n [1.8600703e-03 9.6884400e-01 2.9295921e-02]\n [2.1820088e-05 5.0151157e-01 4.9846655e-01]\n [9.9999762e-01 2.3423183e-06 1.1261897e-09]\n [9.9881750e-01 1.1644558e-03 1.7937857e-05]\n [9.9949872e-01 4.9924245e-04 2.0597465e-06]\n [2.6454227e-05 9.8768044e-01 1.2293065e-02]\n [9.9999917e-01 8.1645021e-07 4.5232245e-11]\n [9.8040080e-05 9.7703701e-01 2.2865001e-02]\n [6.3037727e-04 9.6536070e-01 3.4008868e-02]\n [4.4984868e-06 9.8710060e-01 1.2894922e-02]\n [9.9988890e-01 1.1096697e-04 1.6975825e-07]\n [1.6138860e-04 9.9022502e-01 9.6135745e-03]]\n"
    }
   ],
   "source": [
    "# predict\n",
    "prediction = model.predict(X_test[1:20])\n",
    "\n",
    "print(\"the prediction was {}\".format(prediction))"
   ]
  },
  {
   "cell_type": "code",
   "execution_count": 12,
   "metadata": {},
   "outputs": [
    {
     "output_type": "stream",
     "name": "stdout",
     "text": "the test labels were [1 2 1 2 0 1 1 1 2 0 0 0 1 0 1 0 1 0 1]\n"
    }
   ],
   "source": [
    "# validate the prediction\n",
    "print(\"the test labels were {}\".format(y_test[1:20]))"
   ]
  },
  {
   "cell_type": "code",
   "execution_count": null,
   "metadata": {},
   "outputs": [],
   "source": []
  }
 ],
 "metadata": {
  "language_info": {
   "codemirror_mode": {
    "name": "ipython",
    "version": 3
   },
   "file_extension": ".py",
   "mimetype": "text/x-python",
   "name": "python",
   "nbconvert_exporter": "python",
   "pygments_lexer": "ipython3",
   "version": "3.7.6-final"
  },
  "orig_nbformat": 2,
  "kernelspec": {
   "name": "python37664bittf237venv9b274482c7ba4966ad2cf02baa9bb24c",
   "display_name": "Python 3.7.6 64-bit ('tf2_37': venv)"
  }
 },
 "nbformat": 4,
 "nbformat_minor": 2
}