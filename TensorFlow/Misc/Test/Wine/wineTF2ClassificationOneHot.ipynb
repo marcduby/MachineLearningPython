{
 "cells": [
  {
   "cell_type": "code",
   "execution_count": 28,
   "metadata": {},
   "outputs": [
    {
     "output_type": "stream",
     "name": "stdout",
     "text": "TF version 2.1.0\nnumpy version 1.18.1\npandas version 1.0.3\nseaborn version 0.10.1\nEager mode:  True\nGPU is NOT AVAILABLE\n"
    }
   ],
   "source": [
    "# imports\n",
    "import tensorflow as tf \n",
    "import numpy as np \n",
    "import pandas as pd \n",
    "from sklearn.datasets import load_wine\n",
    "from sklearn.utils import shuffle\n",
    "from sklearn.metrics import confusion_matrix\n",
    "from sklearn.preprocessing import OneHotEncoder\n",
    "\n",
    "import seaborn as sn\n",
    "import matplotlib.pyplot as plt\n",
    "\n",
    "print(\"TF version {}\".format(tf.__version__))\n",
    "print(\"numpy version {}\".format(np.__version__))\n",
    "print(\"pandas version {}\".format(pd.__version__))\n",
    "print(\"seaborn version {}\".format(sn.__version__))\n",
    "\n",
    "print(\"Eager mode: \", tf.executing_eagerly())\n",
    "print(\"GPU is\", \"available\" if tf.config.experimental.list_physical_devices(\"GPU\") else \"NOT AVAILABLE\")"
   ]
  },
  {
   "cell_type": "code",
   "execution_count": 3,
   "metadata": {},
   "outputs": [],
   "source": [
    "def get_train_test_validate(data_array, test_percent, validate_percent):\n",
    "    index = len(data_array)\n",
    "    print(\"the train max index is {}\".format(index))\n",
    "\n",
    "    # get the test/train split\n",
    "    index = int(index * test_percent)\n",
    "    train_data = data_array[:index]\n",
    "    test_data = data_array[index:]\n",
    "    print(\"the test split index is {}\".format(index))\n",
    "\n",
    "    # get the train/validate split\n",
    "    index = int(index * validate_percent)\n",
    "    validate_data = train_data[index:]\n",
    "    train_data = train_data[:index]\n",
    "    print(\"the validate split index is {}\".format(index))\n",
    "\n",
    "    # return\n",
    "    return train_data, test_data, validate_data\n"
   ]
  },
  {
   "cell_type": "code",
   "execution_count": 31,
   "metadata": {},
   "outputs": [
    {
     "output_type": "stream",
     "name": "stdout",
     "text": "the keys are dict_keys(['data', 'target', 'target_names', 'DESCR', 'feature_names']) and the df of type <class 'sklearn.utils.Bunch'>\n"
    }
   ],
   "source": [
    "# load the wine data\n",
    "wine_df = load_wine()\n",
    "\n",
    "print(\"the keys are {} and the df of type {}\".format(wine_df.keys(), type(wine_df)))"
   ]
  },
  {
   "cell_type": "code",
   "execution_count": 32,
   "metadata": {},
   "outputs": [
    {
     "output_type": "stream",
     "name": "stdout",
     "text": "the full features are of type <class 'numpy.ndarray'> and shape (178, 13)\nthe full labels are of type <class 'numpy.ndarray'> and shape (178,)\n"
    }
   ],
   "source": [
    "# get the features and labels\n",
    "Xstart = wine_df.data\n",
    "ystart = wine_df.target\n",
    "\n",
    "print(\"the full features are of type {} and shape {}\".format(type(Xstart), Xstart.shape))\n",
    "print(\"the full labels are of type {} and shape {}\".format(type(ystart), ystart.shape))\n",
    "\n"
   ]
  },
  {
   "cell_type": "code",
   "execution_count": 33,
   "metadata": {},
   "outputs": [],
   "source": [
    "# get new shuffled data\n",
    "X, y = shuffle(Xstart, ystart, random_state = 3)"
   ]
  },
  {
   "cell_type": "code",
   "execution_count": 34,
   "metadata": {},
   "outputs": [
    {
     "output_type": "stream",
     "name": "stdout",
     "text": "the first 10 of the data is [[13.560 1.710 2.310 16.200 117.000 3.150 3.290 0.340 2.340 6.130 0.950\n  3.380 795.000]\n [13.770 1.900 2.680 17.100 115.000 3.000 2.790 0.390 1.680 6.300 1.130\n  2.930 1375.000]\n [13.510 1.800 2.650 19.000 110.000 2.350 2.530 0.290 1.540 4.200 1.100\n  2.870 1095.000]\n [11.610 1.350 2.700 20.000 94.000 2.740 2.920 0.290 2.490 2.650 0.960\n  3.260 680.000]\n [13.480 1.670 2.640 22.500 89.000 2.600 1.100 0.520 2.290 11.750 0.570\n  1.780 620.000]\n [12.850 1.600 2.520 17.800 95.000 2.480 2.370 0.260 1.460 3.930 1.090\n  3.630 1015.000]\n [14.380 3.590 2.280 16.000 102.000 3.250 3.170 0.270 2.190 4.900 1.040\n  3.440 1065.000]\n [13.490 1.660 2.240 24.000 87.000 1.880 1.840 0.270 1.030 3.740 0.980\n  2.780 472.000]\n [12.330 0.990 1.950 14.800 136.000 1.900 1.850 0.350 2.760 3.400 1.060\n  2.310 750.000]\n [13.070 1.500 2.100 15.500 98.000 2.400 2.640 0.280 1.370 3.700 1.180\n  2.690 1020.000]]\nthe first 10 of the targets is [0 0 0 1 2 0 0 1 1 0]\n"
    }
   ],
   "source": [
    "# print the first 20 elements\n",
    "index = 10\n",
    "print(\"the first {} of the data is {}\".format(index, X[:index]))\n",
    "print(\"the first {} of the targets is {}\".format(index, y[:index]))"
   ]
  },
  {
   "cell_type": "code",
   "execution_count": 35,
   "metadata": {},
   "outputs": [
    {
     "output_type": "stream",
     "name": "stdout",
     "text": "first 20 targets are [0 0 0 1 2 0 0 1 1 0 1 0 1 1 0 0 1 0 2 2]\n"
    }
   ],
   "source": [
    "index = 20\n",
    "print(\"first {} targets are {}\".format(index, y[:index]))"
   ]
  },
  {
   "cell_type": "code",
   "execution_count": 36,
   "metadata": {},
   "outputs": [
    {
     "output_type": "stream",
     "name": "stdout",
     "text": "encoded of shape (178, 1) is now [[0]\n [0]\n [0]\n [1]\n [2]\n [0]\n [0]\n [1]\n [1]\n [0]\n [1]\n [0]\n [1]\n [1]\n [0]\n [0]\n [1]\n [0]\n [2]\n [2]]\nfirst 20 targets are [[1.000 0.000 0.000]\n [1.000 0.000 0.000]\n [1.000 0.000 0.000]\n [0.000 1.000 0.000]\n [0.000 0.000 1.000]\n [1.000 0.000 0.000]\n [1.000 0.000 0.000]\n [0.000 1.000 0.000]\n [0.000 1.000 0.000]\n [1.000 0.000 0.000]\n [0.000 1.000 0.000]\n [1.000 0.000 0.000]\n [0.000 1.000 0.000]\n [0.000 1.000 0.000]\n [1.000 0.000 0.000]\n [1.000 0.000 0.000]\n [0.000 1.000 0.000]\n [1.000 0.000 0.000]\n [0.000 0.000 1.000]\n [0.000 0.000 1.000]]\n"
    }
   ],
   "source": [
    "# one hot the target\n",
    "# binary encode\n",
    "onehot_encoder = OneHotEncoder(sparse=False)\n",
    "y_onehot = y.reshape(len(y), 1)\n",
    "\n",
    "index = 20\n",
    "print(\"encoded of shape {} is now {}\".format(y_onehot.shape, y_onehot[:index]))\n",
    "\n",
    "y_onehot = onehot_encoder.fit_transform(y_onehot)\n",
    "print(\"first {} targets are {}\".format(index, y_onehot[:index]))"
   ]
  },
  {
   "cell_type": "code",
   "execution_count": 37,
   "metadata": {},
   "outputs": [
    {
     "output_type": "stream",
     "name": "stdout",
     "text": "the train max index is 178\nthe test split index is 142\nthe validate split index is 113\nthe train dataset if of type <class 'numpy.ndarray'> and shape (113, 13)\nthe test dataset if of type <class 'numpy.ndarray'> and shape (36, 13)\nthe validate dataset if of type <class 'numpy.ndarray'> and shape (29, 13)\n"
    }
   ],
   "source": [
    "# get the train/test data\n",
    "X_train, X_test, X_validate = get_train_test_validate(X, 0.8, 0.8)\n",
    "\n",
    "print(\"the train dataset if of type {} and shape {}\".format(type(X_train), X_train.shape))\n",
    "print(\"the test dataset if of type {} and shape {}\".format(type(X_test), X_test.shape))\n",
    "print(\"the validate dataset if of type {} and shape {}\".format(type(X_validate), X_validate.shape))"
   ]
  },
  {
   "cell_type": "code",
   "execution_count": 38,
   "metadata": {},
   "outputs": [
    {
     "output_type": "stream",
     "name": "stdout",
     "text": "the train max index is 178\nthe test split index is 142\nthe validate split index is 113\nthe train labels if of type <class 'numpy.ndarray'> and shape (113, 3)\nthe test labels if of type <class 'numpy.ndarray'> and shape (36, 3)\nthe validate labels if of type <class 'numpy.ndarray'> and shape (29, 3)\n"
    }
   ],
   "source": [
    "# split the labels into train/test/validate labels\n",
    "y_train, y_test, y_validate = get_train_test_validate(y_onehot, 0.8, 0.8)\n",
    "\n",
    "print(\"the train labels if of type {} and shape {}\".format(type(y_train), y_train.shape))\n",
    "print(\"the test labels if of type {} and shape {}\".format(type(y_test), y_test.shape))\n",
    "print(\"the validate labels if of type {} and shape {}\".format(type(y_validate), y_validate.shape))"
   ]
  },
  {
   "cell_type": "code",
   "execution_count": 39,
   "metadata": {},
   "outputs": [
    {
     "output_type": "stream",
     "name": "stdout",
     "text": "Model: \"sequential_1\"\n_________________________________________________________________\nLayer (type)                 Output Shape              Param #   \n=================================================================\ndense_3 (Dense)              (None, 100)               1400      \n_________________________________________________________________\ndense_4 (Dense)              (None, 30)                3030      \n_________________________________________________________________\ndense_5 (Dense)              (None, 3)                 93        \n=================================================================\nTotal params: 4,523\nTrainable params: 4,523\nNon-trainable params: 0\n_________________________________________________________________\n"
    }
   ],
   "source": [
    "# build the model\n",
    "model = tf.keras.Sequential([\n",
    "    tf.keras.layers.Dense(100, activation= 'relu', input_shape=(13,)),\n",
    "    # tf.keras.layers.AveragePooling1D(),\n",
    "    tf.keras.layers.Dense(30, activation='relu'),\n",
    "    tf.keras.layers.Dense(3, activation='softmax')\n",
    "])\n",
    "\n",
    "model.summary()\n"
   ]
  },
  {
   "cell_type": "code",
   "execution_count": 40,
   "metadata": {},
   "outputs": [],
   "source": [
    "# compile the model\n",
    "model.compile(loss='categorical_crossentropy', optimizer='adam', metrics=['accuracy'])\n",
    "\n",
    "# will only work if lables are one hot matrix?\n",
    "# from keras.utils import to_categorical\n",
    "# y_binary = to_categorical(y_int)\n",
    "# model.compile(loss='categorical_crossentropy', optimizer='adam', metrics=['accuracy'])\n",
    "\n",
    "# option from the TF classification example\n",
    "# model.compile(loss=tf.keras.losses.SparseCategoricalCrossentropy(from_logits=True), optimizer='adam', metrics=['accuracy'])\n",
    "\n"
   ]
  },
  {
   "cell_type": "code",
   "execution_count": 41,
   "metadata": {},
   "outputs": [
    {
     "output_type": "stream",
     "name": "stdout",
     "text": "Train on 113 samples, validate on 29 samples\nEpoch 1/20\n113/113 [==============================] - 0s 3ms/sample - loss: 39.5484 - accuracy: 0.3451 - val_loss: 9.3548 - val_accuracy: 0.2759\nEpoch 2/20\n113/113 [==============================] - 0s 158us/sample - loss: 11.0257 - accuracy: 0.2478 - val_loss: 10.2120 - val_accuracy: 0.2759\nEpoch 3/20\n113/113 [==============================] - 0s 171us/sample - loss: 4.8392 - accuracy: 0.2124 - val_loss: 2.0438 - val_accuracy: 0.4138\nEpoch 4/20\n113/113 [==============================] - 0s 167us/sample - loss: 2.3418 - accuracy: 0.4602 - val_loss: 0.8092 - val_accuracy: 0.7586\nEpoch 5/20\n113/113 [==============================] - 0s 167us/sample - loss: 0.6987 - accuracy: 0.6726 - val_loss: 0.7930 - val_accuracy: 0.5517\nEpoch 6/20\n113/113 [==============================] - 0s 168us/sample - loss: 0.7707 - accuracy: 0.6195 - val_loss: 0.6534 - val_accuracy: 0.7241\nEpoch 7/20\n113/113 [==============================] - 0s 180us/sample - loss: 0.6141 - accuracy: 0.7522 - val_loss: 0.4896 - val_accuracy: 0.7931\nEpoch 8/20\n113/113 [==============================] - 0s 173us/sample - loss: 0.5781 - accuracy: 0.7257 - val_loss: 0.4867 - val_accuracy: 0.8276\nEpoch 9/20\n113/113 [==============================] - 0s 156us/sample - loss: 0.6458 - accuracy: 0.7080 - val_loss: 0.4090 - val_accuracy: 0.8966\nEpoch 10/20\n113/113 [==============================] - 0s 163us/sample - loss: 0.5953 - accuracy: 0.7345 - val_loss: 0.3022 - val_accuracy: 0.8621\nEpoch 11/20\n113/113 [==============================] - 0s 150us/sample - loss: 0.4787 - accuracy: 0.7699 - val_loss: 0.2730 - val_accuracy: 0.8966\nEpoch 12/20\n113/113 [==============================] - 0s 157us/sample - loss: 0.4899 - accuracy: 0.7611 - val_loss: 0.5146 - val_accuracy: 0.7931\nEpoch 13/20\n113/113 [==============================] - 0s 152us/sample - loss: 0.5679 - accuracy: 0.7965 - val_loss: 0.2829 - val_accuracy: 0.8966\nEpoch 14/20\n113/113 [==============================] - 0s 152us/sample - loss: 0.5588 - accuracy: 0.7522 - val_loss: 0.7291 - val_accuracy: 0.7586\nEpoch 15/20\n113/113 [==============================] - 0s 156us/sample - loss: 0.7686 - accuracy: 0.7080 - val_loss: 0.2537 - val_accuracy: 0.8966\nEpoch 16/20\n113/113 [==============================] - 0s 154us/sample - loss: 0.6825 - accuracy: 0.7257 - val_loss: 0.3098 - val_accuracy: 0.8966\nEpoch 17/20\n113/113 [==============================] - 0s 232us/sample - loss: 0.6502 - accuracy: 0.7257 - val_loss: 0.4414 - val_accuracy: 0.7931\nEpoch 18/20\n113/113 [==============================] - 0s 168us/sample - loss: 0.6314 - accuracy: 0.7434 - val_loss: 0.2698 - val_accuracy: 0.8966\nEpoch 19/20\n113/113 [==============================] - 0s 156us/sample - loss: 0.5528 - accuracy: 0.7788 - val_loss: 0.4890 - val_accuracy: 0.7931\nEpoch 20/20\n113/113 [==============================] - 0s 160us/sample - loss: 0.6776 - accuracy: 0.7699 - val_loss: 0.2620 - val_accuracy: 0.8621\n"
    },
    {
     "output_type": "execute_result",
     "data": {
      "text/plain": "<tensorflow.python.keras.callbacks.History at 0x7fa02870ab90>"
     },
     "metadata": {},
     "execution_count": 41
    }
   ],
   "source": [
    "# fit the model\n",
    "number_epochs=20\n",
    "\n",
    "model.fit(X_train, y_train, epochs=number_epochs, batch_size=10, validation_data=(X_validate, y_validate), verbose=1)\n",
    "\n"
   ]
  },
  {
   "cell_type": "code",
   "execution_count": 42,
   "metadata": {},
   "outputs": [
    {
     "output_type": "stream",
     "name": "stdout",
     "text": "the prediction of type <class 'numpy.ndarray'> was [[0.000 0.999 0.001]\n [0.171 0.803 0.025]\n [0.987 0.013 0.000]\n [0.002 0.982 0.016]\n [0.002 0.961 0.037]\n [0.973 0.027 0.000]\n [0.996 0.004 0.000]\n [0.147 0.711 0.142]\n [0.003 0.381 0.616]\n [0.015 0.949 0.036]\n [0.009 0.961 0.029]\n [0.247 0.687 0.066]\n [0.004 0.995 0.001]\n [0.034 0.815 0.152]\n [0.081 0.608 0.311]\n [0.274 0.637 0.089]\n [0.993 0.007 0.000]\n [0.112 0.758 0.131]\n [0.000 0.988 0.012]\n [0.438 0.522 0.040]\n [0.998 0.002 0.000]\n [0.004 0.800 0.196]\n [0.000 0.998 0.001]\n [0.036 0.301 0.662]\n [0.010 0.342 0.647]\n [0.093 0.766 0.142]\n [0.002 0.848 0.150]\n [0.041 0.408 0.551]\n [0.003 0.588 0.408]\n [0.011 0.783 0.206]\n [0.034 0.239 0.726]\n [0.414 0.528 0.058]\n [0.924 0.075 0.001]\n [0.006 0.882 0.112]\n [0.000 0.997 0.003]\n [0.054 0.751 0.195]]\nthe targets are [[1.000 0.000 0.000]\n [1.000 0.000 0.000]\n [0.000 1.000 0.000]\n [0.000 1.000 0.000]\n [1.000 0.000 0.000]\n [1.000 0.000 0.000]\n [0.000 1.000 0.000]\n [0.000 0.000 1.000]\n [0.000 1.000 0.000]]\n"
    }
   ],
   "source": [
    "# predict\n",
    "prediction = model.predict(X_test)\n",
    "\n",
    "print(\"the prediction of type {} was {}\".format(type(prediction), prediction))\n",
    "print(\"the targets are {}\".format(y_test[1:10]))"
   ]
  },
  {
   "cell_type": "code",
   "execution_count": 43,
   "metadata": {},
   "outputs": [
    {
     "output_type": "stream",
     "name": "stdout",
     "text": "the prediction of type <class 'numpy.ndarray'> was [[0.000 0.999 0.001]\n [0.171 0.803 0.025]\n [0.987 0.013 0.000]\n [0.002 0.982 0.016]\n [0.002 0.961 0.037]\n [0.973 0.027 0.000]\n [0.996 0.004 0.000]\n [0.147 0.711 0.142]\n [0.003 0.381 0.616]\n [0.015 0.949 0.036]\n [0.009 0.961 0.029]\n [0.247 0.687 0.066]\n [0.004 0.995 0.001]\n [0.034 0.815 0.152]\n [0.081 0.608 0.311]\n [0.274 0.637 0.089]\n [0.993 0.007 0.000]\n [0.112 0.758 0.131]\n [0.000 0.988 0.012]\n [0.438 0.522 0.040]\n [0.998 0.002 0.000]\n [0.004 0.800 0.196]\n [0.000 0.998 0.001]\n [0.036 0.301 0.662]\n [0.010 0.342 0.647]\n [0.093 0.766 0.142]\n [0.002 0.848 0.150]\n [0.041 0.408 0.551]\n [0.003 0.588 0.408]\n [0.011 0.783 0.206]\n [0.034 0.239 0.726]\n [0.414 0.528 0.058]\n [0.924 0.075 0.001]\n [0.006 0.882 0.112]\n [0.000 0.997 0.003]\n [0.054 0.751 0.195]]\nthe targets are [[1.000 0.000 0.000]\n [1.000 0.000 0.000]\n [0.000 1.000 0.000]\n [0.000 1.000 0.000]\n [1.000 0.000 0.000]\n [1.000 0.000 0.000]\n [0.000 1.000 0.000]\n [0.000 0.000 1.000]\n [0.000 1.000 0.000]]\n"
    }
   ],
   "source": [
    "# format the results\n",
    "float_formatter = \"{:.3f}\".format\n",
    "np.set_printoptions(formatter={'float_kind':float_formatter})\n",
    "\n",
    "print(\"the prediction of type {} was {}\".format(type(prediction), prediction))\n",
    "print(\"the targets are {}\".format(y_test[1:10]))"
   ]
  },
  {
   "cell_type": "code",
   "execution_count": 45,
   "metadata": {},
   "outputs": [
    {
     "output_type": "stream",
     "name": "stdout",
     "text": "the first 20 elements of the label list is [1, 0, 0, 1, 1, 0, 0, 1, 2, 1, 1, 1, 1, 1, 1, 1, 0, 1, 2, 1]\nthe first 20 elements of the prediction list is [1, 1, 0, 1, 1, 0, 0, 1, 2, 1, 1, 1, 1, 1, 1, 1, 0, 1, 1, 1]\n"
    }
   ],
   "source": [
    "# now create the confusion matrix\n",
    "con_labels = np.argmax(y_test, axis=1)\n",
    "con_labels = con_labels.tolist()\n",
    "con_predict = np.argmax(prediction, axis=1)\n",
    "con_predict = con_predict.tolist()\n",
    "\n",
    "index = 20\n",
    "print(\"the first {} elements of the label list is {}\".format(index, con_labels[:index]))\n",
    "print(\"the first {} elements of the prediction list is {}\".format(index, con_predict[:index]))\n"
   ]
  },
  {
   "cell_type": "code",
   "execution_count": 46,
   "metadata": {},
   "outputs": [
    {
     "output_type": "stream",
     "name": "stdout",
     "text": "[[ 6  2  0]\n [ 0 17  0]\n [ 0  6  5]]\n"
    }
   ],
   "source": [
    "# build the confusion matrix\n",
    "cm = confusion_matrix(con_labels, con_predict)\n",
    "\n",
    "print(cm)"
   ]
  },
  {
   "cell_type": "code",
   "execution_count": 47,
   "metadata": {},
   "outputs": [
    {
     "output_type": "display_data",
     "data": {
      "text/plain": "<Figure size 432x288 with 2 Axes>",
      "image/svg+xml": "<?xml version=\"1.0\" encoding=\"utf-8\" standalone=\"no\"?>\n<!DOCTYPE svg PUBLIC \"-//W3C//DTD SVG 1.1//EN\"\n  \"http://www.w3.org/Graphics/SVG/1.1/DTD/svg11.dtd\">\n<!-- Created with matplotlib (https://matplotlib.org/) -->\n<svg height=\"255.423781pt\" version=\"1.1\" viewBox=\"0 0 372.905625 255.423781\" width=\"372.905625pt\" xmlns=\"http://www.w3.org/2000/svg\" xmlns:xlink=\"http://www.w3.org/1999/xlink\">\n <defs>\n  <style type=\"text/css\">\n*{stroke-linecap:butt;stroke-linejoin:round;}\n  </style>\n </defs>\n <g id=\"figure_1\">\n  <g id=\"patch_1\">\n   <path d=\"M 0 255.423781 \nL 372.905625 255.423781 \nL 372.905625 0 \nL 0 0 \nz\n\" style=\"fill:#ffffff;\"/>\n  </g>\n  <g id=\"axes_1\">\n   <g id=\"patch_2\">\n    <path d=\"M 30.783781 224.64 \nL 298.623781 224.64 \nL 298.623781 7.2 \nL 30.783781 7.2 \nz\n\" style=\"fill:#eaeaf2;\"/>\n   </g>\n   <g id=\"matplotlib.axis_1\">\n    <g id=\"xtick_1\">\n     <g id=\"text_1\">\n      <!-- 0 -->\n      <defs>\n       <path d=\"M 4.15625 35.296875 \nQ 4.15625 48 6.765625 55.734375 \nQ 9.375 63.484375 14.515625 67.671875 \nQ 19.671875 71.875 27.484375 71.875 \nQ 33.25 71.875 37.59375 69.546875 \nQ 41.9375 67.234375 44.765625 62.859375 \nQ 47.609375 58.5 49.21875 52.21875 \nQ 50.828125 45.953125 50.828125 35.296875 \nQ 50.828125 22.703125 48.234375 14.96875 \nQ 45.65625 7.234375 40.5 3 \nQ 35.359375 -1.21875 27.484375 -1.21875 \nQ 17.140625 -1.21875 11.234375 6.203125 \nQ 4.15625 15.140625 4.15625 35.296875 \nz\nM 13.1875 35.296875 \nQ 13.1875 17.671875 17.3125 11.828125 \nQ 21.4375 6 27.484375 6 \nQ 33.546875 6 37.671875 11.859375 \nQ 41.796875 17.71875 41.796875 35.296875 \nQ 41.796875 52.984375 37.671875 58.78125 \nQ 33.546875 64.59375 27.390625 64.59375 \nQ 21.34375 64.59375 17.71875 59.46875 \nQ 13.1875 52.9375 13.1875 35.296875 \nz\n\" id=\"ArialMT-48\"/>\n      </defs>\n      <g style=\"fill:#262626;\" transform=\"translate(71.141859 245.163031)scale(0.154 -0.154)\">\n       <use xlink:href=\"#ArialMT-48\"/>\n      </g>\n     </g>\n    </g>\n    <g id=\"xtick_2\">\n     <g id=\"text_2\">\n      <!-- 1 -->\n      <defs>\n       <path d=\"M 37.25 0 \nL 28.46875 0 \nL 28.46875 56 \nQ 25.296875 52.984375 20.140625 49.953125 \nQ 14.984375 46.921875 10.890625 45.40625 \nL 10.890625 53.90625 \nQ 18.265625 57.375 23.78125 62.296875 \nQ 29.296875 67.234375 31.59375 71.875 \nL 37.25 71.875 \nz\n\" id=\"ArialMT-49\"/>\n      </defs>\n      <g style=\"fill:#262626;\" transform=\"translate(160.421859 245.163031)scale(0.154 -0.154)\">\n       <use xlink:href=\"#ArialMT-49\"/>\n      </g>\n     </g>\n    </g>\n    <g id=\"xtick_3\">\n     <g id=\"text_3\">\n      <!-- 2 -->\n      <defs>\n       <path d=\"M 50.34375 8.453125 \nL 50.34375 0 \nL 3.03125 0 \nQ 2.9375 3.171875 4.046875 6.109375 \nQ 5.859375 10.9375 9.828125 15.625 \nQ 13.8125 20.3125 21.34375 26.46875 \nQ 33.015625 36.03125 37.109375 41.625 \nQ 41.21875 47.21875 41.21875 52.203125 \nQ 41.21875 57.421875 37.46875 61 \nQ 33.734375 64.59375 27.734375 64.59375 \nQ 21.390625 64.59375 17.578125 60.78125 \nQ 13.765625 56.984375 13.71875 50.25 \nL 4.6875 51.171875 \nQ 5.609375 61.28125 11.65625 66.578125 \nQ 17.71875 71.875 27.9375 71.875 \nQ 38.234375 71.875 44.234375 66.15625 \nQ 50.25 60.453125 50.25 52 \nQ 50.25 47.703125 48.484375 43.546875 \nQ 46.734375 39.40625 42.65625 34.8125 \nQ 38.578125 30.21875 29.109375 22.21875 \nQ 21.1875 15.578125 18.9375 13.203125 \nQ 16.703125 10.84375 15.234375 8.453125 \nz\n\" id=\"ArialMT-50\"/>\n      </defs>\n      <g style=\"fill:#262626;\" transform=\"translate(249.701859 245.163031)scale(0.154 -0.154)\">\n       <use xlink:href=\"#ArialMT-50\"/>\n      </g>\n     </g>\n    </g>\n   </g>\n   <g id=\"matplotlib.axis_2\">\n    <g id=\"ytick_1\">\n     <g id=\"text_4\">\n      <!-- 0 -->\n      <g style=\"fill:#262626;\" transform=\"translate(18.223031 46.492328)rotate(-90)scale(0.154 -0.154)\">\n       <use xlink:href=\"#ArialMT-48\"/>\n      </g>\n     </g>\n    </g>\n    <g id=\"ytick_2\">\n     <g id=\"text_5\">\n      <!-- 1 -->\n      <g style=\"fill:#262626;\" transform=\"translate(18.223031 118.972328)rotate(-90)scale(0.154 -0.154)\">\n       <use xlink:href=\"#ArialMT-49\"/>\n      </g>\n     </g>\n    </g>\n    <g id=\"ytick_3\">\n     <g id=\"text_6\">\n      <!-- 2 -->\n      <g style=\"fill:#262626;\" transform=\"translate(18.223031 191.452328)rotate(-90)scale(0.154 -0.154)\">\n       <use xlink:href=\"#ArialMT-50\"/>\n      </g>\n     </g>\n    </g>\n   </g>\n   <g id=\"QuadMesh_1\">\n    <path clip-path=\"url(#pac767dc3a5)\" d=\"M 30.783781 7.2 \nL 120.063781 7.2 \nL 120.063781 79.68 \nL 30.783781 79.68 \nL 30.783781 7.2 \n\" style=\"fill:#8c1d5b;\"/>\n    <path clip-path=\"url(#pac767dc3a5)\" d=\"M 120.063781 7.2 \nL 209.343781 7.2 \nL 209.343781 79.68 \nL 120.063781 79.68 \nL 120.063781 7.2 \n\" style=\"fill:#2d1738;\"/>\n    <path clip-path=\"url(#pac767dc3a5)\" d=\"M 209.343781 7.2 \nL 298.623781 7.2 \nL 298.623781 79.68 \nL 209.343781 79.68 \nL 209.343781 7.2 \n\" style=\"fill:#03051a;\"/>\n    <path clip-path=\"url(#pac767dc3a5)\" d=\"M 30.783781 79.68 \nL 120.063781 79.68 \nL 120.063781 152.16 \nL 30.783781 152.16 \nL 30.783781 79.68 \n\" style=\"fill:#03051a;\"/>\n    <path clip-path=\"url(#pac767dc3a5)\" d=\"M 120.063781 79.68 \nL 209.343781 79.68 \nL 209.343781 152.16 \nL 120.063781 152.16 \nL 120.063781 79.68 \n\" style=\"fill:#faebdd;\"/>\n    <path clip-path=\"url(#pac767dc3a5)\" d=\"M 209.343781 79.68 \nL 298.623781 79.68 \nL 298.623781 152.16 \nL 209.343781 152.16 \nL 209.343781 79.68 \n\" style=\"fill:#03051a;\"/>\n    <path clip-path=\"url(#pac767dc3a5)\" d=\"M 30.783781 152.16 \nL 120.063781 152.16 \nL 120.063781 224.64 \nL 30.783781 224.64 \nL 30.783781 152.16 \n\" style=\"fill:#03051a;\"/>\n    <path clip-path=\"url(#pac767dc3a5)\" d=\"M 120.063781 152.16 \nL 209.343781 152.16 \nL 209.343781 224.64 \nL 120.063781 224.64 \nL 120.063781 152.16 \n\" style=\"fill:#8c1d5b;\"/>\n    <path clip-path=\"url(#pac767dc3a5)\" d=\"M 209.343781 152.16 \nL 298.623781 152.16 \nL 298.623781 224.64 \nL 209.343781 224.64 \nL 209.343781 152.16 \n\" style=\"fill:#731f58;\"/>\n   </g>\n   <g id=\"text_7\">\n    <!-- 6 -->\n    <defs>\n     <path d=\"M 49.75 54.046875 \nL 41.015625 53.375 \nQ 39.84375 58.546875 37.703125 60.890625 \nQ 34.125 64.65625 28.90625 64.65625 \nQ 24.703125 64.65625 21.53125 62.3125 \nQ 17.390625 59.28125 14.984375 53.46875 \nQ 12.59375 47.65625 12.5 36.921875 \nQ 15.671875 41.75 20.265625 44.09375 \nQ 24.859375 46.4375 29.890625 46.4375 \nQ 38.671875 46.4375 44.84375 39.96875 \nQ 51.03125 33.5 51.03125 23.25 \nQ 51.03125 16.5 48.125 10.71875 \nQ 45.21875 4.9375 40.140625 1.859375 \nQ 35.0625 -1.21875 28.609375 -1.21875 \nQ 17.625 -1.21875 10.6875 6.859375 \nQ 3.765625 14.9375 3.765625 33.5 \nQ 3.765625 54.25 11.421875 63.671875 \nQ 18.109375 71.875 29.4375 71.875 \nQ 37.890625 71.875 43.28125 67.140625 \nQ 48.6875 62.40625 49.75 54.046875 \nz\nM 13.875 23.1875 \nQ 13.875 18.65625 15.796875 14.5 \nQ 17.71875 10.359375 21.1875 8.171875 \nQ 24.65625 6 28.46875 6 \nQ 34.03125 6 38.03125 10.484375 \nQ 42.046875 14.984375 42.046875 22.703125 \nQ 42.046875 30.125 38.078125 34.390625 \nQ 34.125 38.671875 28.125 38.671875 \nQ 22.171875 38.671875 18.015625 34.390625 \nQ 13.875 30.125 13.875 23.1875 \nz\n\" id=\"ArialMT-54\"/>\n    </defs>\n    <g style=\"fill:#ffffff;\" transform=\"translate(70.975031 47.57625)scale(0.16 -0.16)\">\n     <use xlink:href=\"#ArialMT-54\"/>\n    </g>\n   </g>\n   <g id=\"text_8\">\n    <!-- 2 -->\n    <g style=\"fill:#ffffff;\" transform=\"translate(160.255031 47.57625)scale(0.16 -0.16)\">\n     <use xlink:href=\"#ArialMT-50\"/>\n    </g>\n   </g>\n   <g id=\"text_9\">\n    <!-- 0 -->\n    <g style=\"fill:#ffffff;\" transform=\"translate(249.535031 47.57625)scale(0.16 -0.16)\">\n     <use xlink:href=\"#ArialMT-48\"/>\n    </g>\n   </g>\n   <g id=\"text_10\">\n    <!-- 0 -->\n    <g style=\"fill:#ffffff;\" transform=\"translate(70.975031 120.05625)scale(0.16 -0.16)\">\n     <use xlink:href=\"#ArialMT-48\"/>\n    </g>\n   </g>\n   <g id=\"text_11\">\n    <!-- 17 -->\n    <defs>\n     <path d=\"M 4.734375 62.203125 \nL 4.734375 70.65625 \nL 51.078125 70.65625 \nL 51.078125 63.8125 \nQ 44.234375 56.546875 37.515625 44.484375 \nQ 30.8125 32.421875 27.15625 19.671875 \nQ 24.515625 10.6875 23.78125 0 \nL 14.75 0 \nQ 14.890625 8.453125 18.0625 20.40625 \nQ 21.234375 32.375 27.171875 43.484375 \nQ 33.109375 54.59375 39.796875 62.203125 \nz\n\" id=\"ArialMT-55\"/>\n    </defs>\n    <g style=\"fill:#262626;\" transform=\"translate(155.806281 120.05625)scale(0.16 -0.16)\">\n     <use xlink:href=\"#ArialMT-49\"/>\n     <use x=\"55.615234\" xlink:href=\"#ArialMT-55\"/>\n    </g>\n   </g>\n   <g id=\"text_12\">\n    <!-- 0 -->\n    <g style=\"fill:#ffffff;\" transform=\"translate(249.535031 120.05625)scale(0.16 -0.16)\">\n     <use xlink:href=\"#ArialMT-48\"/>\n    </g>\n   </g>\n   <g id=\"text_13\">\n    <!-- 0 -->\n    <g style=\"fill:#ffffff;\" transform=\"translate(70.975031 192.53625)scale(0.16 -0.16)\">\n     <use xlink:href=\"#ArialMT-48\"/>\n    </g>\n   </g>\n   <g id=\"text_14\">\n    <!-- 6 -->\n    <g style=\"fill:#ffffff;\" transform=\"translate(160.255031 192.53625)scale(0.16 -0.16)\">\n     <use xlink:href=\"#ArialMT-54\"/>\n    </g>\n   </g>\n   <g id=\"text_15\">\n    <!-- 5 -->\n    <defs>\n     <path d=\"M 4.15625 18.75 \nL 13.375 19.53125 \nQ 14.40625 12.796875 18.140625 9.390625 \nQ 21.875 6 27.15625 6 \nQ 33.5 6 37.890625 10.78125 \nQ 42.28125 15.578125 42.28125 23.484375 \nQ 42.28125 31 38.0625 35.34375 \nQ 33.84375 39.703125 27 39.703125 \nQ 22.75 39.703125 19.328125 37.765625 \nQ 15.921875 35.84375 13.96875 32.765625 \nL 5.71875 33.84375 \nL 12.640625 70.609375 \nL 48.25 70.609375 \nL 48.25 62.203125 \nL 19.671875 62.203125 \nL 15.828125 42.96875 \nQ 22.265625 47.46875 29.34375 47.46875 \nQ 38.71875 47.46875 45.15625 40.96875 \nQ 51.609375 34.46875 51.609375 24.265625 \nQ 51.609375 14.546875 45.953125 7.46875 \nQ 39.0625 -1.21875 27.15625 -1.21875 \nQ 17.390625 -1.21875 11.203125 4.25 \nQ 5.03125 9.71875 4.15625 18.75 \nz\n\" id=\"ArialMT-53\"/>\n    </defs>\n    <g style=\"fill:#ffffff;\" transform=\"translate(249.535031 192.53625)scale(0.16 -0.16)\">\n     <use xlink:href=\"#ArialMT-53\"/>\n    </g>\n   </g>\n  </g>\n  <g id=\"axes_2\">\n   <g id=\"patch_3\">\n    <path clip-path=\"url(#p9f4b24c751)\" d=\"M 315.363781 224.64 \nL 315.363781 223.790625 \nL 315.363781 8.049375 \nL 315.363781 7.2 \nL 326.235781 7.2 \nL 326.235781 8.049375 \nL 326.235781 223.790625 \nL 326.235781 224.64 \nz\n\" style=\"fill:#eaeaf2;stroke:#eaeaf2;stroke-linejoin:miter;stroke-width:0.01;\"/>\n   </g>\n   <g id=\"matplotlib.axis_3\"/>\n   <g id=\"matplotlib.axis_4\">\n    <g id=\"ytick_4\">\n     <g id=\"line2d_1\">\n      <defs>\n       <path d=\"M 0 0 \nL 6 0 \n\" id=\"me3cad51ca0\" style=\"stroke:#262626;stroke-width:1.25;\"/>\n      </defs>\n      <g>\n       <use style=\"fill:#262626;stroke:#262626;stroke-width:1.25;\" x=\"326.235781\" xlink:href=\"#me3cad51ca0\" y=\"224.64\"/>\n      </g>\n     </g>\n     <g id=\"text_16\">\n      <!-- 0.0 -->\n      <defs>\n       <path d=\"M 9.078125 0 \nL 9.078125 10.015625 \nL 19.09375 10.015625 \nL 19.09375 0 \nz\n\" id=\"ArialMT-46\"/>\n      </defs>\n      <g style=\"fill:#262626;\" transform=\"translate(335.735781 230.151516)scale(0.154 -0.154)\">\n       <use xlink:href=\"#ArialMT-48\"/>\n       <use x=\"55.615234\" xlink:href=\"#ArialMT-46\"/>\n       <use x=\"83.398438\" xlink:href=\"#ArialMT-48\"/>\n      </g>\n     </g>\n    </g>\n    <g id=\"ytick_5\">\n     <g id=\"line2d_2\">\n      <g>\n       <use style=\"fill:#262626;stroke:#262626;stroke-width:1.25;\" x=\"326.235781\" xlink:href=\"#me3cad51ca0\" y=\"192.663529\"/>\n      </g>\n     </g>\n     <g id=\"text_17\">\n      <!-- 2.5 -->\n      <g style=\"fill:#262626;\" transform=\"translate(335.735781 198.175045)scale(0.154 -0.154)\">\n       <use xlink:href=\"#ArialMT-50\"/>\n       <use x=\"55.615234\" xlink:href=\"#ArialMT-46\"/>\n       <use x=\"83.398438\" xlink:href=\"#ArialMT-53\"/>\n      </g>\n     </g>\n    </g>\n    <g id=\"ytick_6\">\n     <g id=\"line2d_3\">\n      <g>\n       <use style=\"fill:#262626;stroke:#262626;stroke-width:1.25;\" x=\"326.235781\" xlink:href=\"#me3cad51ca0\" y=\"160.687059\"/>\n      </g>\n     </g>\n     <g id=\"text_18\">\n      <!-- 5.0 -->\n      <g style=\"fill:#262626;\" transform=\"translate(335.735781 166.198574)scale(0.154 -0.154)\">\n       <use xlink:href=\"#ArialMT-53\"/>\n       <use x=\"55.615234\" xlink:href=\"#ArialMT-46\"/>\n       <use x=\"83.398438\" xlink:href=\"#ArialMT-48\"/>\n      </g>\n     </g>\n    </g>\n    <g id=\"ytick_7\">\n     <g id=\"line2d_4\">\n      <g>\n       <use style=\"fill:#262626;stroke:#262626;stroke-width:1.25;\" x=\"326.235781\" xlink:href=\"#me3cad51ca0\" y=\"128.710588\"/>\n      </g>\n     </g>\n     <g id=\"text_19\">\n      <!-- 7.5 -->\n      <g style=\"fill:#262626;\" transform=\"translate(335.735781 134.222104)scale(0.154 -0.154)\">\n       <use xlink:href=\"#ArialMT-55\"/>\n       <use x=\"55.615234\" xlink:href=\"#ArialMT-46\"/>\n       <use x=\"83.398438\" xlink:href=\"#ArialMT-53\"/>\n      </g>\n     </g>\n    </g>\n    <g id=\"ytick_8\">\n     <g id=\"line2d_5\">\n      <g>\n       <use style=\"fill:#262626;stroke:#262626;stroke-width:1.25;\" x=\"326.235781\" xlink:href=\"#me3cad51ca0\" y=\"96.734118\"/>\n      </g>\n     </g>\n     <g id=\"text_20\">\n      <!-- 10.0 -->\n      <g style=\"fill:#262626;\" transform=\"translate(335.735781 102.245633)scale(0.154 -0.154)\">\n       <use xlink:href=\"#ArialMT-49\"/>\n       <use x=\"55.615234\" xlink:href=\"#ArialMT-48\"/>\n       <use x=\"111.230469\" xlink:href=\"#ArialMT-46\"/>\n       <use x=\"139.013672\" xlink:href=\"#ArialMT-48\"/>\n      </g>\n     </g>\n    </g>\n    <g id=\"ytick_9\">\n     <g id=\"line2d_6\">\n      <g>\n       <use style=\"fill:#262626;stroke:#262626;stroke-width:1.25;\" x=\"326.235781\" xlink:href=\"#me3cad51ca0\" y=\"64.757647\"/>\n      </g>\n     </g>\n     <g id=\"text_21\">\n      <!-- 12.5 -->\n      <g style=\"fill:#262626;\" transform=\"translate(335.735781 70.269163)scale(0.154 -0.154)\">\n       <use xlink:href=\"#ArialMT-49\"/>\n       <use x=\"55.615234\" xlink:href=\"#ArialMT-50\"/>\n       <use x=\"111.230469\" xlink:href=\"#ArialMT-46\"/>\n       <use x=\"139.013672\" xlink:href=\"#ArialMT-53\"/>\n      </g>\n     </g>\n    </g>\n    <g id=\"ytick_10\">\n     <g id=\"line2d_7\">\n      <g>\n       <use style=\"fill:#262626;stroke:#262626;stroke-width:1.25;\" x=\"326.235781\" xlink:href=\"#me3cad51ca0\" y=\"32.781176\"/>\n      </g>\n     </g>\n     <g id=\"text_22\">\n      <!-- 15.0 -->\n      <g style=\"fill:#262626;\" transform=\"translate(335.735781 38.292692)scale(0.154 -0.154)\">\n       <use xlink:href=\"#ArialMT-49\"/>\n       <use x=\"55.615234\" xlink:href=\"#ArialMT-53\"/>\n       <use x=\"111.230469\" xlink:href=\"#ArialMT-46\"/>\n       <use x=\"139.013672\" xlink:href=\"#ArialMT-48\"/>\n      </g>\n     </g>\n    </g>\n   </g>\n   <image height=\"217\" id=\"image0752dbc8c4\" transform=\"scale(1 -1)translate(0 -217)\" width=\"11\" x=\"315\" xlink:href=\"data:image/png;base64,\niVBORw0KGgoAAAANSUhEUgAAAAsAAADZCAYAAAD2WsoCAAAABHNCSVQICAgIfAhkiAAAAV1JREFUaIHt2jluBDEMRNHWMpfw/c/pcWpnesEHZGA6LhSKnxR7QY/9+no/h9ceY5xqVfyAeM0ZOc+swNkVmMXoOkic17iExhVTZzS64e8KfC5pd0aDVoG02wo8lrazkdHAGOdXufkzdJj5/Crb3dE4lurwEzoqsJvnEF3YbojRZe5i7DuaMo9fD3z4ybmjIWKhge2+IgbuDYkhmf8lDYmxnnN1eAaNxlsyi3NHY5DzuTFzhhhGg8TQ7xDdmt8SA5wnbJk9RIzOx1qlQR3sCoRDuOe6oykwoxYjpCHONhvknKGbu4rxdLNBYniUwQKzzOgsT+awzi3GQzFEHMaA2yY6yycLcjYxvORpU0Qsnw07GkNolJkzZ/o8SzRuabc4LyrwiqZQDDuw6/xGiDRs15Fzha6cjUsKlHZ3MT40fonHyKYuPN1Eo7vD0mJ8Rc7hiHacZTboL4tPgX/EVYE/uSArI2cIlO0AAAAASUVORK5CYII=\" y=\"-7\"/>\n   <g id=\"patch_4\">\n    <path d=\"M 315.363781 224.64 \nL 315.363781 223.790625 \nL 315.363781 8.049375 \nL 315.363781 7.2 \nL 326.235781 7.2 \nL 326.235781 8.049375 \nL 326.235781 223.790625 \nL 326.235781 224.64 \nz\n\" style=\"fill:none;\"/>\n   </g>\n  </g>\n </g>\n <defs>\n  <clipPath id=\"pac767dc3a5\">\n   <rect height=\"217.44\" width=\"267.84\" x=\"30.783781\" y=\"7.2\"/>\n  </clipPath>\n  <clipPath id=\"p9f4b24c751\">\n   <rect height=\"217.44\" width=\"10.872\" x=\"315.363781\" y=\"7.2\"/>\n  </clipPath>\n </defs>\n</svg>\n",
      "image/png": "[encoded data removed]"
     },
     "metadata": {}
    }
   ],
   "source": [
    "# display the confusion matrix\n",
    "df_cm = pd.DataFrame(cm, range(3), range(3))\n",
    "# plt.figure(figsize=(10,7))\n",
    "sn.set(font_scale=1.4) # for label size\n",
    "sn.heatmap(df_cm, annot=True, annot_kws={\"size\": 16}) # font size\n",
    "\n",
    "plt.show()\n"
   ]
  },
  {
   "cell_type": "code",
   "execution_count": 48,
   "metadata": {},
   "outputs": [
    {
     "output_type": "execute_result",
     "data": {
      "text/plain": "               0           1           2           3           4           5   \\\ncount  178.000000  178.000000  178.000000  178.000000  178.000000  178.000000   \nmean    13.000618    2.336348    2.366517   19.494944   99.741573    2.295112   \nstd      0.811827    1.117146    0.274344    3.339564   14.282484    0.625851   \nmin     11.030000    0.740000    1.360000   10.600000   70.000000    0.980000   \n25%     12.362500    1.602500    2.210000   17.200000   88.000000    1.742500   \n50%     13.050000    1.865000    2.360000   19.500000   98.000000    2.355000   \n75%     13.677500    3.082500    2.557500   21.500000  107.000000    2.800000   \nmax     14.830000    5.800000    3.230000   30.000000  162.000000    3.880000   \n\n               6           7           8           9           10          11  \\\ncount  178.000000  178.000000  178.000000  178.000000  178.000000  178.000000   \nmean     2.029270    0.361854    1.590899    5.058090    0.957449    2.611685   \nstd      0.998859    0.124453    0.572359    2.318286    0.228572    0.709990   \nmin      0.340000    0.130000    0.410000    1.280000    0.480000    1.270000   \n25%      1.205000    0.270000    1.250000    3.220000    0.782500    1.937500   \n50%      2.135000    0.340000    1.555000    4.690000    0.965000    2.780000   \n75%      2.875000    0.437500    1.950000    6.200000    1.120000    3.170000   \nmax      5.080000    0.660000    3.580000   13.000000    1.710000    4.000000   \n\n                12  \ncount   178.000000  \nmean    746.893258  \nstd     314.907474  \nmin     278.000000  \n25%     500.500000  \n50%     673.500000  \n75%     985.000000  \nmax    1680.000000  ",
      "text/html": "<div>\n<style scoped>\n    .dataframe tbody tr th:only-of-type {\n        vertical-align: middle;\n    }\n\n    .dataframe tbody tr th {\n        vertical-align: top;\n    }\n\n    .dataframe thead th {\n        text-align: right;\n    }\n</style>\n<table border=\"1\" class=\"dataframe\">\n  <thead>\n    <tr style=\"text-align: right;\">\n      <th></th>\n      <th>0</th>\n      <th>1</th>\n      <th>2</th>\n      <th>3</th>\n      <th>4</th>\n      <th>5</th>\n      <th>6</th>\n      <th>7</th>\n      <th>8</th>\n      <th>9</th>\n      <th>10</th>\n      <th>11</th>\n      <th>12</th>\n    </tr>\n  </thead>\n  <tbody>\n    <tr>\n      <th>count</th>\n      <td>178.000000</td>\n      <td>178.000000</td>\n      <td>178.000000</td>\n      <td>178.000000</td>\n      <td>178.000000</td>\n      <td>178.000000</td>\n      <td>178.000000</td>\n      <td>178.000000</td>\n      <td>178.000000</td>\n      <td>178.000000</td>\n      <td>178.000000</td>\n      <td>178.000000</td>\n      <td>178.000000</td>\n    </tr>\n    <tr>\n      <th>mean</th>\n      <td>13.000618</td>\n      <td>2.336348</td>\n      <td>2.366517</td>\n      <td>19.494944</td>\n      <td>99.741573</td>\n      <td>2.295112</td>\n      <td>2.029270</td>\n      <td>0.361854</td>\n      <td>1.590899</td>\n      <td>5.058090</td>\n      <td>0.957449</td>\n      <td>2.611685</td>\n      <td>746.893258</td>\n    </tr>\n    <tr>\n      <th>std</th>\n      <td>0.811827</td>\n      <td>1.117146</td>\n      <td>0.274344</td>\n      <td>3.339564</td>\n      <td>14.282484</td>\n      <td>0.625851</td>\n      <td>0.998859</td>\n      <td>0.124453</td>\n      <td>0.572359</td>\n      <td>2.318286</td>\n      <td>0.228572</td>\n      <td>0.709990</td>\n      <td>314.907474</td>\n    </tr>\n    <tr>\n      <th>min</th>\n      <td>11.030000</td>\n      <td>0.740000</td>\n      <td>1.360000</td>\n      <td>10.600000</td>\n      <td>70.000000</td>\n      <td>0.980000</td>\n      <td>0.340000</td>\n      <td>0.130000</td>\n      <td>0.410000</td>\n      <td>1.280000</td>\n      <td>0.480000</td>\n      <td>1.270000</td>\n      <td>278.000000</td>\n    </tr>\n    <tr>\n      <th>25%</th>\n      <td>12.362500</td>\n      <td>1.602500</td>\n      <td>2.210000</td>\n      <td>17.200000</td>\n      <td>88.000000</td>\n      <td>1.742500</td>\n      <td>1.205000</td>\n      <td>0.270000</td>\n      <td>1.250000</td>\n      <td>3.220000</td>\n      <td>0.782500</td>\n      <td>1.937500</td>\n      <td>500.500000</td>\n    </tr>\n    <tr>\n      <th>50%</th>\n      <td>13.050000</td>\n      <td>1.865000</td>\n      <td>2.360000</td>\n      <td>19.500000</td>\n      <td>98.000000</td>\n      <td>2.355000</td>\n      <td>2.135000</td>\n      <td>0.340000</td>\n      <td>1.555000</td>\n      <td>4.690000</td>\n      <td>0.965000</td>\n      <td>2.780000</td>\n      <td>673.500000</td>\n    </tr>\n    <tr>\n      <th>75%</th>\n      <td>13.677500</td>\n      <td>3.082500</td>\n      <td>2.557500</td>\n      <td>21.500000</td>\n      <td>107.000000</td>\n      <td>2.800000</td>\n      <td>2.875000</td>\n      <td>0.437500</td>\n      <td>1.950000</td>\n      <td>6.200000</td>\n      <td>1.120000</td>\n      <td>3.170000</td>\n      <td>985.000000</td>\n    </tr>\n    <tr>\n      <th>max</th>\n      <td>14.830000</td>\n      <td>5.800000</td>\n      <td>3.230000</td>\n      <td>30.000000</td>\n      <td>162.000000</td>\n      <td>3.880000</td>\n      <td>5.080000</td>\n      <td>0.660000</td>\n      <td>3.580000</td>\n      <td>13.000000</td>\n      <td>1.710000</td>\n      <td>4.000000</td>\n      <td>1680.000000</td>\n    </tr>\n  </tbody>\n</table>\n</div>"
     },
     "metadata": {},
     "execution_count": 48
    }
   ],
   "source": [
    "# describe the features\n",
    "features_df = pd.DataFrame(X)\n",
    "features_df.describe()"
   ]
  },
  {
   "cell_type": "code",
   "execution_count": 49,
   "metadata": {},
   "outputs": [
    {
     "output_type": "stream",
     "name": "stdout",
     "text": "the non normalized first 10 rows of data are \n[[13.560 1.710 2.310 16.200 117.000 3.150 3.290 0.340 2.340 6.130 0.950\n  3.380 795.000]\n [13.770 1.900 2.680 17.100 115.000 3.000 2.790 0.390 1.680 6.300 1.130\n  2.930 1375.000]\n [13.510 1.800 2.650 19.000 110.000 2.350 2.530 0.290 1.540 4.200 1.100\n  2.870 1095.000]\n [11.610 1.350 2.700 20.000 94.000 2.740 2.920 0.290 2.490 2.650 0.960\n  3.260 680.000]\n [13.480 1.670 2.640 22.500 89.000 2.600 1.100 0.520 2.290 11.750 0.570\n  1.780 620.000]\n [12.850 1.600 2.520 17.800 95.000 2.480 2.370 0.260 1.460 3.930 1.090\n  3.630 1015.000]\n [14.380 3.590 2.280 16.000 102.000 3.250 3.170 0.270 2.190 4.900 1.040\n  3.440 1065.000]\n [13.490 1.660 2.240 24.000 87.000 1.880 1.840 0.270 1.030 3.740 0.980\n  2.780 472.000]\n [12.330 0.990 1.950 14.800 136.000 1.900 1.850 0.350 2.760 3.400 1.060\n  2.310 750.000]\n [13.070 1.500 2.100 15.500 98.000 2.400 2.640 0.280 1.370 3.700 1.180\n  2.690 1020.000]]\nthe new normalized first 10 rows of data are \n[[0.666 0.192 0.508 0.289 0.511 0.748 0.622 0.396 0.609 0.414 0.382 0.773\n  0.369]\n [0.721 0.229 0.706 0.335 0.489 0.697 0.517 0.491 0.401 0.428 0.528 0.608\n  0.782]\n [0.653 0.209 0.690 0.433 0.435 0.472 0.462 0.302 0.356 0.249 0.504 0.586\n  0.583]\n [0.153 0.121 0.717 0.485 0.261 0.607 0.544 0.302 0.656 0.117 0.390 0.729\n  0.287]\n [0.645 0.184 0.684 0.613 0.207 0.559 0.160 0.736 0.593 0.893 0.073 0.187\n  0.244]\n [0.479 0.170 0.620 0.371 0.272 0.517 0.428 0.245 0.331 0.226 0.496 0.864\n  0.526]\n [0.882 0.563 0.492 0.278 0.348 0.783 0.597 0.264 0.562 0.309 0.455 0.795\n  0.561]\n [0.647 0.182 0.471 0.691 0.185 0.310 0.316 0.264 0.196 0.210 0.407 0.553\n  0.138]\n [0.342 0.049 0.316 0.216 0.717 0.317 0.319 0.415 0.741 0.181 0.472 0.381\n  0.337]\n [0.537 0.150 0.396 0.253 0.304 0.490 0.485 0.283 0.303 0.206 0.569 0.520\n  0.529]]\n"
    }
   ],
   "source": [
    "# now normalize the data\n",
    "from sklearn.preprocessing import Normalizer, MinMaxScaler\n",
    "\n",
    "normalizer = MinMaxScaler()\n",
    "\n",
    "index = 10\n",
    "print(\"the non normalized first {} rows of data are \\n{}\".format(index, X[:index]))\n",
    "\n",
    "X_normalized = normalizer.fit_transform(X)\n",
    "print(\"the new normalized first {} rows of data are \\n{}\".format(index, X_normalized[:index]))\n",
    "\n"
   ]
  },
  {
   "cell_type": "code",
   "execution_count": 50,
   "metadata": {},
   "outputs": [
    {
     "output_type": "stream",
     "name": "stdout",
     "text": "the train max index is 178\nthe test split index is 142\nthe validate split index is 113\nTrain on 113 samples, validate on 29 samples\nEpoch 1/20\n113/113 [==============================] - 0s 183us/sample - loss: 1.0322 - accuracy: 0.5929 - val_loss: 0.9277 - val_accuracy: 0.9310\nEpoch 2/20\n113/113 [==============================] - 0s 148us/sample - loss: 0.8672 - accuracy: 0.8850 - val_loss: 0.7406 - val_accuracy: 0.9655\nEpoch 3/20\n113/113 [==============================] - 0s 152us/sample - loss: 0.6815 - accuracy: 0.8761 - val_loss: 0.6279 - val_accuracy: 0.8276\nEpoch 4/20\n113/113 [==============================] - 0s 153us/sample - loss: 0.5384 - accuracy: 0.8761 - val_loss: 0.4620 - val_accuracy: 0.9310\nEpoch 5/20\n113/113 [==============================] - 0s 150us/sample - loss: 0.4362 - accuracy: 0.9292 - val_loss: 0.3574 - val_accuracy: 0.9655\nEpoch 6/20\n113/113 [==============================] - 0s 163us/sample - loss: 0.3551 - accuracy: 0.9204 - val_loss: 0.3074 - val_accuracy: 0.9310\nEpoch 7/20\n113/113 [==============================] - 0s 171us/sample - loss: 0.3189 - accuracy: 0.9204 - val_loss: 0.2416 - val_accuracy: 0.9655\nEpoch 8/20\n113/113 [==============================] - 0s 199us/sample - loss: 0.2794 - accuracy: 0.9292 - val_loss: 0.2213 - val_accuracy: 0.9655\nEpoch 9/20\n113/113 [==============================] - 0s 174us/sample - loss: 0.2398 - accuracy: 0.9558 - val_loss: 0.1706 - val_accuracy: 0.9655\nEpoch 10/20\n113/113 [==============================] - 0s 174us/sample - loss: 0.2132 - accuracy: 0.9469 - val_loss: 0.1676 - val_accuracy: 0.9655\nEpoch 11/20\n113/113 [==============================] - 0s 155us/sample - loss: 0.1996 - accuracy: 0.9469 - val_loss: 0.1396 - val_accuracy: 0.9655\nEpoch 12/20\n113/113 [==============================] - 0s 159us/sample - loss: 0.1897 - accuracy: 0.9646 - val_loss: 0.1222 - val_accuracy: 0.9655\nEpoch 13/20\n113/113 [==============================] - 0s 165us/sample - loss: 0.1736 - accuracy: 0.9646 - val_loss: 0.1284 - val_accuracy: 0.9655\nEpoch 14/20\n113/113 [==============================] - 0s 170us/sample - loss: 0.1588 - accuracy: 0.9646 - val_loss: 0.1004 - val_accuracy: 1.0000\nEpoch 15/20\n113/113 [==============================] - 0s 154us/sample - loss: 0.1461 - accuracy: 0.9735 - val_loss: 0.1037 - val_accuracy: 0.9655\nEpoch 16/20\n113/113 [==============================] - 0s 167us/sample - loss: 0.1396 - accuracy: 0.9646 - val_loss: 0.0888 - val_accuracy: 0.9655\nEpoch 17/20\n113/113 [==============================] - 0s 164us/sample - loss: 0.1283 - accuracy: 0.9823 - val_loss: 0.0865 - val_accuracy: 0.9655\nEpoch 18/20\n113/113 [==============================] - 0s 162us/sample - loss: 0.1179 - accuracy: 0.9912 - val_loss: 0.0812 - val_accuracy: 0.9655\nEpoch 19/20\n113/113 [==============================] - 0s 160us/sample - loss: 0.1175 - accuracy: 0.9735 - val_loss: 0.0766 - val_accuracy: 0.9655\nEpoch 20/20\n113/113 [==============================] - 0s 158us/sample - loss: 0.1075 - accuracy: 0.9735 - val_loss: 0.0739 - val_accuracy: 0.9655\n"
    },
    {
     "output_type": "execute_result",
     "data": {
      "text/plain": "<tensorflow.python.keras.callbacks.History at 0x7fa032a53050>"
     },
     "metadata": {},
     "execution_count": 50
    }
   ],
   "source": [
    "# get the train/test data\n",
    "X_train, X_test, X_validate = get_train_test_validate(X_normalized, 0.8, 0.8)\n",
    "\n",
    "# now fit the model on the new normalized data\n",
    "number_epochs=20\n",
    "\n",
    "model.fit(X_train, y_train, epochs=number_epochs, batch_size=10, validation_data=(X_validate, y_validate), verbose=1)\n"
   ]
  },
  {
   "cell_type": "code",
   "execution_count": 51,
   "metadata": {},
   "outputs": [
    {
     "output_type": "stream",
     "name": "stdout",
     "text": "the prediction of type <class 'numpy.ndarray'> was [[0.085 0.911 0.004]\n [0.976 0.024 0.001]\n [0.919 0.075 0.006]\n [0.033 0.963 0.004]\n [0.315 0.617 0.068]\n [0.942 0.055 0.003]\n [0.996 0.003 0.001]\n [0.297 0.672 0.030]\n [0.000 0.002 0.997]\n [0.063 0.934 0.003]\n [0.099 0.896 0.005]\n [0.136 0.859 0.005]\n [0.140 0.854 0.005]\n [0.005 0.986 0.009]\n [0.042 0.840 0.118]\n [0.010 0.940 0.050]\n [0.969 0.030 0.001]\n [0.436 0.561 0.003]\n [0.007 0.009 0.984]\n [0.376 0.619 0.005]\n [0.990 0.009 0.001]\n [0.005 0.127 0.868]\n [0.054 0.944 0.002]\n [0.002 0.008 0.990]\n [0.002 0.004 0.994]\n [0.046 0.947 0.008]\n [0.003 0.006 0.991]\n [0.003 0.046 0.952]\n [0.007 0.006 0.988]\n [0.008 0.956 0.035]\n [0.001 0.006 0.993]\n [0.898 0.096 0.006]\n [0.995 0.005 0.000]\n [0.024 0.051 0.925]\n [0.006 0.050 0.943]\n [0.036 0.959 0.006]]\nthe targets are [[1.000 0.000 0.000]\n [1.000 0.000 0.000]\n [0.000 1.000 0.000]\n [0.000 1.000 0.000]\n [1.000 0.000 0.000]\n [1.000 0.000 0.000]\n [0.000 1.000 0.000]\n [0.000 0.000 1.000]\n [0.000 1.000 0.000]]\n"
    }
   ],
   "source": [
    "# predict\n",
    "prediction = model.predict(X_test)\n",
    "\n",
    "print(\"the prediction of type {} was {}\".format(type(prediction), prediction))\n",
    "print(\"the targets are {}\".format(y_test[1:10]))"
   ]
  },
  {
   "cell_type": "code",
   "execution_count": 52,
   "metadata": {},
   "outputs": [
    {
     "output_type": "stream",
     "name": "stdout",
     "text": "the first 20 elements of the label list is [1, 0, 0, 1, 1, 0, 0, 1, 2, 1, 1, 1, 1, 1, 1, 1, 0, 1, 2, 1]\nthe first 20 elements of the prediction list is [1, 0, 0, 1, 1, 0, 0, 1, 2, 1, 1, 1, 1, 1, 1, 1, 0, 1, 2, 1]\n"
    }
   ],
   "source": [
    "# now create the confi=usion matrix\n",
    "con_labels = np.argmax(y_test, axis=1)\n",
    "con_labels = con_labels.tolist()\n",
    "con_predict = np.argmax(prediction, axis=1)\n",
    "con_predict = con_predict.tolist()\n",
    "\n",
    "index = 20\n",
    "print(\"the first {} elements of the label list is {}\".format(index, con_labels[:index]))\n",
    "print(\"the first {} elements of the prediction list is {}\".format(index, con_predict[:index]))\n"
   ]
  },
  {
   "cell_type": "code",
   "execution_count": 53,
   "metadata": {},
   "outputs": [
    {
     "output_type": "stream",
     "name": "stdout",
     "text": "[[ 8  0  0]\n [ 0 17  0]\n [ 0  0 11]]\n"
    }
   ],
   "source": [
    "# build the confusion matrix\n",
    "cm = confusion_matrix(con_labels, con_predict)\n",
    "\n",
    "print(cm)\n"
   ]
  },
  {
   "cell_type": "code",
   "execution_count": 54,
   "metadata": {},
   "outputs": [
    {
     "output_type": "display_data",
     "data": {
      "text/plain": "<Figure size 432x288 with 2 Axes>",
      "image/svg+xml": "<?xml version=\"1.0\" encoding=\"utf-8\" standalone=\"no\"?>\n<!DOCTYPE svg PUBLIC \"-//W3C//DTD SVG 1.1//EN\"\n  \"http://www.w3.org/Graphics/SVG/1.1/DTD/svg11.dtd\">\n<!-- Created with matplotlib (https://matplotlib.org/) -->\n<svg height=\"255.423781pt\" version=\"1.1\" viewBox=\"0 0 372.905625 255.423781\" width=\"372.905625pt\" xmlns=\"http://www.w3.org/2000/svg\" xmlns:xlink=\"http://www.w3.org/1999/xlink\">\n <defs>\n  <style type=\"text/css\">\n*{stroke-linecap:butt;stroke-linejoin:round;}\n  </style>\n </defs>\n <g id=\"figure_1\">\n  <g id=\"patch_1\">\n   <path d=\"M 0 255.423781 \nL 372.905625 255.423781 \nL 372.905625 0 \nL 0 0 \nz\n\" style=\"fill:#ffffff;\"/>\n  </g>\n  <g id=\"axes_1\">\n   <g id=\"patch_2\">\n    <path d=\"M 30.783781 224.64 \nL 298.623781 224.64 \nL 298.623781 7.2 \nL 30.783781 7.2 \nz\n\" style=\"fill:#eaeaf2;\"/>\n   </g>\n   <g id=\"matplotlib.axis_1\">\n    <g id=\"xtick_1\">\n     <g id=\"text_1\">\n      <!-- 0 -->\n      <defs>\n       <path d=\"M 4.15625 35.296875 \nQ 4.15625 48 6.765625 55.734375 \nQ 9.375 63.484375 14.515625 67.671875 \nQ 19.671875 71.875 27.484375 71.875 \nQ 33.25 71.875 37.59375 69.546875 \nQ 41.9375 67.234375 44.765625 62.859375 \nQ 47.609375 58.5 49.21875 52.21875 \nQ 50.828125 45.953125 50.828125 35.296875 \nQ 50.828125 22.703125 48.234375 14.96875 \nQ 45.65625 7.234375 40.5 3 \nQ 35.359375 -1.21875 27.484375 -1.21875 \nQ 17.140625 -1.21875 11.234375 6.203125 \nQ 4.15625 15.140625 4.15625 35.296875 \nz\nM 13.1875 35.296875 \nQ 13.1875 17.671875 17.3125 11.828125 \nQ 21.4375 6 27.484375 6 \nQ 33.546875 6 37.671875 11.859375 \nQ 41.796875 17.71875 41.796875 35.296875 \nQ 41.796875 52.984375 37.671875 58.78125 \nQ 33.546875 64.59375 27.390625 64.59375 \nQ 21.34375 64.59375 17.71875 59.46875 \nQ 13.1875 52.9375 13.1875 35.296875 \nz\n\" id=\"ArialMT-48\"/>\n      </defs>\n      <g style=\"fill:#262626;\" transform=\"translate(71.141859 245.163031)scale(0.154 -0.154)\">\n       <use xlink:href=\"#ArialMT-48\"/>\n      </g>\n     </g>\n    </g>\n    <g id=\"xtick_2\">\n     <g id=\"text_2\">\n      <!-- 1 -->\n      <defs>\n       <path d=\"M 37.25 0 \nL 28.46875 0 \nL 28.46875 56 \nQ 25.296875 52.984375 20.140625 49.953125 \nQ 14.984375 46.921875 10.890625 45.40625 \nL 10.890625 53.90625 \nQ 18.265625 57.375 23.78125 62.296875 \nQ 29.296875 67.234375 31.59375 71.875 \nL 37.25 71.875 \nz\n\" id=\"ArialMT-49\"/>\n      </defs>\n      <g style=\"fill:#262626;\" transform=\"translate(160.421859 245.163031)scale(0.154 -0.154)\">\n       <use xlink:href=\"#ArialMT-49\"/>\n      </g>\n     </g>\n    </g>\n    <g id=\"xtick_3\">\n     <g id=\"text_3\">\n      <!-- 2 -->\n      <defs>\n       <path d=\"M 50.34375 8.453125 \nL 50.34375 0 \nL 3.03125 0 \nQ 2.9375 3.171875 4.046875 6.109375 \nQ 5.859375 10.9375 9.828125 15.625 \nQ 13.8125 20.3125 21.34375 26.46875 \nQ 33.015625 36.03125 37.109375 41.625 \nQ 41.21875 47.21875 41.21875 52.203125 \nQ 41.21875 57.421875 37.46875 61 \nQ 33.734375 64.59375 27.734375 64.59375 \nQ 21.390625 64.59375 17.578125 60.78125 \nQ 13.765625 56.984375 13.71875 50.25 \nL 4.6875 51.171875 \nQ 5.609375 61.28125 11.65625 66.578125 \nQ 17.71875 71.875 27.9375 71.875 \nQ 38.234375 71.875 44.234375 66.15625 \nQ 50.25 60.453125 50.25 52 \nQ 50.25 47.703125 48.484375 43.546875 \nQ 46.734375 39.40625 42.65625 34.8125 \nQ 38.578125 30.21875 29.109375 22.21875 \nQ 21.1875 15.578125 18.9375 13.203125 \nQ 16.703125 10.84375 15.234375 8.453125 \nz\n\" id=\"ArialMT-50\"/>\n      </defs>\n      <g style=\"fill:#262626;\" transform=\"translate(249.701859 245.163031)scale(0.154 -0.154)\">\n       <use xlink:href=\"#ArialMT-50\"/>\n      </g>\n     </g>\n    </g>\n   </g>\n   <g id=\"matplotlib.axis_2\">\n    <g id=\"ytick_1\">\n     <g id=\"text_4\">\n      <!-- 0 -->\n      <g style=\"fill:#262626;\" transform=\"translate(18.223031 46.492328)rotate(-90)scale(0.154 -0.154)\">\n       <use xlink:href=\"#ArialMT-48\"/>\n      </g>\n     </g>\n    </g>\n    <g id=\"ytick_2\">\n     <g id=\"text_5\">\n      <!-- 1 -->\n      <g style=\"fill:#262626;\" transform=\"translate(18.223031 118.972328)rotate(-90)scale(0.154 -0.154)\">\n       <use xlink:href=\"#ArialMT-49\"/>\n      </g>\n     </g>\n    </g>\n    <g id=\"ytick_3\">\n     <g id=\"text_6\">\n      <!-- 2 -->\n      <g style=\"fill:#262626;\" transform=\"translate(18.223031 191.452328)rotate(-90)scale(0.154 -0.154)\">\n       <use xlink:href=\"#ArialMT-50\"/>\n      </g>\n     </g>\n    </g>\n   </g>\n   <g id=\"QuadMesh_1\">\n    <path clip-path=\"url(#p7e95ea6379)\" d=\"M 30.783781 7.2 \nL 120.063781 7.2 \nL 120.063781 79.68 \nL 30.783781 79.68 \nL 30.783781 7.2 \n\" style=\"fill:#bf1654;\"/>\n    <path clip-path=\"url(#p7e95ea6379)\" d=\"M 120.063781 7.2 \nL 209.343781 7.2 \nL 209.343781 79.68 \nL 120.063781 79.68 \nL 120.063781 7.2 \n\" style=\"fill:#03051a;\"/>\n    <path clip-path=\"url(#p7e95ea6379)\" d=\"M 209.343781 7.2 \nL 298.623781 7.2 \nL 298.623781 79.68 \nL 209.343781 79.68 \nL 209.343781 7.2 \n\" style=\"fill:#03051a;\"/>\n    <path clip-path=\"url(#p7e95ea6379)\" d=\"M 30.783781 79.68 \nL 120.063781 79.68 \nL 120.063781 152.16 \nL 30.783781 152.16 \nL 30.783781 79.68 \n\" style=\"fill:#03051a;\"/>\n    <path clip-path=\"url(#p7e95ea6379)\" d=\"M 120.063781 79.68 \nL 209.343781 79.68 \nL 209.343781 152.16 \nL 120.063781 152.16 \nL 120.063781 79.68 \n\" style=\"fill:#faebdd;\"/>\n    <path clip-path=\"url(#p7e95ea6379)\" d=\"M 209.343781 79.68 \nL 298.623781 79.68 \nL 298.623781 152.16 \nL 209.343781 152.16 \nL 209.343781 79.68 \n\" style=\"fill:#03051a;\"/>\n    <path clip-path=\"url(#p7e95ea6379)\" d=\"M 30.783781 152.16 \nL 120.063781 152.16 \nL 120.063781 224.64 \nL 30.783781 224.64 \nL 30.783781 152.16 \n\" style=\"fill:#03051a;\"/>\n    <path clip-path=\"url(#p7e95ea6379)\" d=\"M 120.063781 152.16 \nL 209.343781 152.16 \nL 209.343781 224.64 \nL 120.063781 224.64 \nL 120.063781 152.16 \n\" style=\"fill:#03051a;\"/>\n    <path clip-path=\"url(#p7e95ea6379)\" d=\"M 209.343781 152.16 \nL 298.623781 152.16 \nL 298.623781 224.64 \nL 209.343781 224.64 \nL 209.343781 152.16 \n\" style=\"fill:#ef5640;\"/>\n   </g>\n   <g id=\"text_7\">\n    <!-- 8 -->\n    <defs>\n     <path d=\"M 17.671875 38.8125 \nQ 12.203125 40.828125 9.5625 44.53125 \nQ 6.9375 48.25 6.9375 53.421875 \nQ 6.9375 61.234375 12.546875 66.546875 \nQ 18.171875 71.875 27.484375 71.875 \nQ 36.859375 71.875 42.578125 66.421875 \nQ 48.296875 60.984375 48.296875 53.171875 \nQ 48.296875 48.1875 45.671875 44.5 \nQ 43.0625 40.828125 37.75 38.8125 \nQ 44.34375 36.671875 47.78125 31.875 \nQ 51.21875 27.09375 51.21875 20.453125 \nQ 51.21875 11.28125 44.71875 5.03125 \nQ 38.234375 -1.21875 27.640625 -1.21875 \nQ 17.046875 -1.21875 10.546875 5.046875 \nQ 4.046875 11.328125 4.046875 20.703125 \nQ 4.046875 27.6875 7.59375 32.390625 \nQ 11.140625 37.109375 17.671875 38.8125 \nz\nM 15.921875 53.71875 \nQ 15.921875 48.640625 19.1875 45.40625 \nQ 22.46875 42.1875 27.6875 42.1875 \nQ 32.765625 42.1875 36.015625 45.375 \nQ 39.265625 48.578125 39.265625 53.21875 \nQ 39.265625 58.0625 35.90625 61.359375 \nQ 32.5625 64.65625 27.59375 64.65625 \nQ 22.5625 64.65625 19.234375 61.421875 \nQ 15.921875 58.203125 15.921875 53.71875 \nz\nM 13.09375 20.65625 \nQ 13.09375 16.890625 14.875 13.375 \nQ 16.65625 9.859375 20.171875 7.921875 \nQ 23.6875 6 27.734375 6 \nQ 34.03125 6 38.125 10.046875 \nQ 42.234375 14.109375 42.234375 20.359375 \nQ 42.234375 26.703125 38.015625 30.859375 \nQ 33.796875 35.015625 27.4375 35.015625 \nQ 21.234375 35.015625 17.15625 30.90625 \nQ 13.09375 26.8125 13.09375 20.65625 \nz\n\" id=\"ArialMT-56\"/>\n    </defs>\n    <g style=\"fill:#ffffff;\" transform=\"translate(70.975031 47.57625)scale(0.16 -0.16)\">\n     <use xlink:href=\"#ArialMT-56\"/>\n    </g>\n   </g>\n   <g id=\"text_8\">\n    <!-- 0 -->\n    <g style=\"fill:#ffffff;\" transform=\"translate(160.255031 47.57625)scale(0.16 -0.16)\">\n     <use xlink:href=\"#ArialMT-48\"/>\n    </g>\n   </g>\n   <g id=\"text_9\">\n    <!-- 0 -->\n    <g style=\"fill:#ffffff;\" transform=\"translate(249.535031 47.57625)scale(0.16 -0.16)\">\n     <use xlink:href=\"#ArialMT-48\"/>\n    </g>\n   </g>\n   <g id=\"text_10\">\n    <!-- 0 -->\n    <g style=\"fill:#ffffff;\" transform=\"translate(70.975031 120.05625)scale(0.16 -0.16)\">\n     <use xlink:href=\"#ArialMT-48\"/>\n    </g>\n   </g>\n   <g id=\"text_11\">\n    <!-- 17 -->\n    <defs>\n     <path d=\"M 4.734375 62.203125 \nL 4.734375 70.65625 \nL 51.078125 70.65625 \nL 51.078125 63.8125 \nQ 44.234375 56.546875 37.515625 44.484375 \nQ 30.8125 32.421875 27.15625 19.671875 \nQ 24.515625 10.6875 23.78125 0 \nL 14.75 0 \nQ 14.890625 8.453125 18.0625 20.40625 \nQ 21.234375 32.375 27.171875 43.484375 \nQ 33.109375 54.59375 39.796875 62.203125 \nz\n\" id=\"ArialMT-55\"/>\n    </defs>\n    <g style=\"fill:#262626;\" transform=\"translate(155.806281 120.05625)scale(0.16 -0.16)\">\n     <use xlink:href=\"#ArialMT-49\"/>\n     <use x=\"55.615234\" xlink:href=\"#ArialMT-55\"/>\n    </g>\n   </g>\n   <g id=\"text_12\">\n    <!-- 0 -->\n    <g style=\"fill:#ffffff;\" transform=\"translate(249.535031 120.05625)scale(0.16 -0.16)\">\n     <use xlink:href=\"#ArialMT-48\"/>\n    </g>\n   </g>\n   <g id=\"text_13\">\n    <!-- 0 -->\n    <g style=\"fill:#ffffff;\" transform=\"translate(70.975031 192.53625)scale(0.16 -0.16)\">\n     <use xlink:href=\"#ArialMT-48\"/>\n    </g>\n   </g>\n   <g id=\"text_14\">\n    <!-- 0 -->\n    <g style=\"fill:#ffffff;\" transform=\"translate(160.255031 192.53625)scale(0.16 -0.16)\">\n     <use xlink:href=\"#ArialMT-48\"/>\n    </g>\n   </g>\n   <g id=\"text_15\">\n    <!-- 11 -->\n    <g style=\"fill:#ffffff;\" transform=\"translate(245.676281 192.53625)scale(0.16 -0.16)\">\n     <use xlink:href=\"#ArialMT-49\"/>\n     <use x=\"48.240234\" xlink:href=\"#ArialMT-49\"/>\n    </g>\n   </g>\n  </g>\n  <g id=\"axes_2\">\n   <g id=\"patch_3\">\n    <path clip-path=\"url(#pf5616eac35)\" d=\"M 315.363781 224.64 \nL 315.363781 223.790625 \nL 315.363781 8.049375 \nL 315.363781 7.2 \nL 326.235781 7.2 \nL 326.235781 8.049375 \nL 326.235781 223.790625 \nL 326.235781 224.64 \nz\n\" style=\"fill:#eaeaf2;stroke:#eaeaf2;stroke-linejoin:miter;stroke-width:0.01;\"/>\n   </g>\n   <g id=\"matplotlib.axis_3\"/>\n   <g id=\"matplotlib.axis_4\">\n    <g id=\"ytick_4\">\n     <g id=\"line2d_1\">\n      <defs>\n       <path d=\"M 0 0 \nL 6 0 \n\" id=\"m0193fd3385\" style=\"stroke:#262626;stroke-width:1.25;\"/>\n      </defs>\n      <g>\n       <use style=\"fill:#262626;stroke:#262626;stroke-width:1.25;\" x=\"326.235781\" xlink:href=\"#m0193fd3385\" y=\"224.64\"/>\n      </g>\n     </g>\n     <g id=\"text_16\">\n      <!-- 0.0 -->\n      <defs>\n       <path d=\"M 9.078125 0 \nL 9.078125 10.015625 \nL 19.09375 10.015625 \nL 19.09375 0 \nz\n\" id=\"ArialMT-46\"/>\n      </defs>\n      <g style=\"fill:#262626;\" transform=\"translate(335.735781 230.151516)scale(0.154 -0.154)\">\n       <use xlink:href=\"#ArialMT-48\"/>\n       <use x=\"55.615234\" xlink:href=\"#ArialMT-46\"/>\n       <use x=\"83.398438\" xlink:href=\"#ArialMT-48\"/>\n      </g>\n     </g>\n    </g>\n    <g id=\"ytick_5\">\n     <g id=\"line2d_2\">\n      <g>\n       <use style=\"fill:#262626;stroke:#262626;stroke-width:1.25;\" x=\"326.235781\" xlink:href=\"#m0193fd3385\" y=\"192.663529\"/>\n      </g>\n     </g>\n     <g id=\"text_17\">\n      <!-- 2.5 -->\n      <defs>\n       <path d=\"M 4.15625 18.75 \nL 13.375 19.53125 \nQ 14.40625 12.796875 18.140625 9.390625 \nQ 21.875 6 27.15625 6 \nQ 33.5 6 37.890625 10.78125 \nQ 42.28125 15.578125 42.28125 23.484375 \nQ 42.28125 31 38.0625 35.34375 \nQ 33.84375 39.703125 27 39.703125 \nQ 22.75 39.703125 19.328125 37.765625 \nQ 15.921875 35.84375 13.96875 32.765625 \nL 5.71875 33.84375 \nL 12.640625 70.609375 \nL 48.25 70.609375 \nL 48.25 62.203125 \nL 19.671875 62.203125 \nL 15.828125 42.96875 \nQ 22.265625 47.46875 29.34375 47.46875 \nQ 38.71875 47.46875 45.15625 40.96875 \nQ 51.609375 34.46875 51.609375 24.265625 \nQ 51.609375 14.546875 45.953125 7.46875 \nQ 39.0625 -1.21875 27.15625 -1.21875 \nQ 17.390625 -1.21875 11.203125 4.25 \nQ 5.03125 9.71875 4.15625 18.75 \nz\n\" id=\"ArialMT-53\"/>\n      </defs>\n      <g style=\"fill:#262626;\" transform=\"translate(335.735781 198.175045)scale(0.154 -0.154)\">\n       <use xlink:href=\"#ArialMT-50\"/>\n       <use x=\"55.615234\" xlink:href=\"#ArialMT-46\"/>\n       <use x=\"83.398438\" xlink:href=\"#ArialMT-53\"/>\n      </g>\n     </g>\n    </g>\n    <g id=\"ytick_6\">\n     <g id=\"line2d_3\">\n      <g>\n       <use style=\"fill:#262626;stroke:#262626;stroke-width:1.25;\" x=\"326.235781\" xlink:href=\"#m0193fd3385\" y=\"160.687059\"/>\n      </g>\n     </g>\n     <g id=\"text_18\">\n      <!-- 5.0 -->\n      <g style=\"fill:#262626;\" transform=\"translate(335.735781 166.198574)scale(0.154 -0.154)\">\n       <use xlink:href=\"#ArialMT-53\"/>\n       <use x=\"55.615234\" xlink:href=\"#ArialMT-46\"/>\n       <use x=\"83.398438\" xlink:href=\"#ArialMT-48\"/>\n      </g>\n     </g>\n    </g>\n    <g id=\"ytick_7\">\n     <g id=\"line2d_4\">\n      <g>\n       <use style=\"fill:#262626;stroke:#262626;stroke-width:1.25;\" x=\"326.235781\" xlink:href=\"#m0193fd3385\" y=\"128.710588\"/>\n      </g>\n     </g>\n     <g id=\"text_19\">\n      <!-- 7.5 -->\n      <g style=\"fill:#262626;\" transform=\"translate(335.735781 134.222104)scale(0.154 -0.154)\">\n       <use xlink:href=\"#ArialMT-55\"/>\n       <use x=\"55.615234\" xlink:href=\"#ArialMT-46\"/>\n       <use x=\"83.398438\" xlink:href=\"#ArialMT-53\"/>\n      </g>\n     </g>\n    </g>\n    <g id=\"ytick_8\">\n     <g id=\"line2d_5\">\n      <g>\n       <use style=\"fill:#262626;stroke:#262626;stroke-width:1.25;\" x=\"326.235781\" xlink:href=\"#m0193fd3385\" y=\"96.734118\"/>\n      </g>\n     </g>\n     <g id=\"text_20\">\n      <!-- 10.0 -->\n      <g style=\"fill:#262626;\" transform=\"translate(335.735781 102.245633)scale(0.154 -0.154)\">\n       <use xlink:href=\"#ArialMT-49\"/>\n       <use x=\"55.615234\" xlink:href=\"#ArialMT-48\"/>\n       <use x=\"111.230469\" xlink:href=\"#ArialMT-46\"/>\n       <use x=\"139.013672\" xlink:href=\"#ArialMT-48\"/>\n      </g>\n     </g>\n    </g>\n    <g id=\"ytick_9\">\n     <g id=\"line2d_6\">\n      <g>\n       <use style=\"fill:#262626;stroke:#262626;stroke-width:1.25;\" x=\"326.235781\" xlink:href=\"#m0193fd3385\" y=\"64.757647\"/>\n      </g>\n     </g>\n     <g id=\"text_21\">\n      <!-- 12.5 -->\n      <g style=\"fill:#262626;\" transform=\"translate(335.735781 70.269163)scale(0.154 -0.154)\">\n       <use xlink:href=\"#ArialMT-49\"/>\n       <use x=\"55.615234\" xlink:href=\"#ArialMT-50\"/>\n       <use x=\"111.230469\" xlink:href=\"#ArialMT-46\"/>\n       <use x=\"139.013672\" xlink:href=\"#ArialMT-53\"/>\n      </g>\n     </g>\n    </g>\n    <g id=\"ytick_10\">\n     <g id=\"line2d_7\">\n      <g>\n       <use style=\"fill:#262626;stroke:#262626;stroke-width:1.25;\" x=\"326.235781\" xlink:href=\"#m0193fd3385\" y=\"32.781176\"/>\n      </g>\n     </g>\n     <g id=\"text_22\">\n      <!-- 15.0 -->\n      <g style=\"fill:#262626;\" transform=\"translate(335.735781 38.292692)scale(0.154 -0.154)\">\n       <use xlink:href=\"#ArialMT-49\"/>\n       <use x=\"55.615234\" xlink:href=\"#ArialMT-53\"/>\n       <use x=\"111.230469\" xlink:href=\"#ArialMT-46\"/>\n       <use x=\"139.013672\" xlink:href=\"#ArialMT-48\"/>\n      </g>\n     </g>\n    </g>\n   </g>\n   <image height=\"217\" id=\"imagee81a07f539\" transform=\"scale(1 -1)translate(0 -217)\" width=\"11\" x=\"315\" xlink:href=\"data:image/png;base64,\niVBORw0KGgoAAAANSUhEUgAAAAsAAADZCAYAAAD2WsoCAAAABHNCSVQICAgIfAhkiAAAAV1JREFUaIHt2jluBDEMRNHWMpfw/c/pcWpnesEHZGA6LhSKnxR7QY/9+no/h9ceY5xqVfyAeM0ZOc+swNkVmMXoOkic17iExhVTZzS64e8KfC5pd0aDVoG02wo8lrazkdHAGOdXufkzdJj5/Crb3dE4lurwEzoqsJvnEF3YbojRZe5i7DuaMo9fD3z4ybmjIWKhge2+IgbuDYkhmf8lDYmxnnN1eAaNxlsyi3NHY5DzuTFzhhhGg8TQ7xDdmt8SA5wnbJk9RIzOx1qlQR3sCoRDuOe6oykwoxYjpCHONhvknKGbu4rxdLNBYniUwQKzzOgsT+awzi3GQzFEHMaA2yY6yycLcjYxvORpU0Qsnw07GkNolJkzZ/o8SzRuabc4LyrwiqZQDDuw6/xGiDRs15Fzha6cjUsKlHZ3MT40fonHyKYuPN1Eo7vD0mJ8Rc7hiHacZTboL4tPgX/EVYE/uSArI2cIlO0AAAAASUVORK5CYII=\" y=\"-7\"/>\n   <g id=\"patch_4\">\n    <path d=\"M 315.363781 224.64 \nL 315.363781 223.790625 \nL 315.363781 8.049375 \nL 315.363781 7.2 \nL 326.235781 7.2 \nL 326.235781 8.049375 \nL 326.235781 223.790625 \nL 326.235781 224.64 \nz\n\" style=\"fill:none;\"/>\n   </g>\n  </g>\n </g>\n <defs>\n  <clipPath id=\"p7e95ea6379\">\n   <rect height=\"217.44\" width=\"267.84\" x=\"30.783781\" y=\"7.2\"/>\n  </clipPath>\n  <clipPath id=\"pf5616eac35\">\n   <rect height=\"217.44\" width=\"10.872\" x=\"315.363781\" y=\"7.2\"/>\n  </clipPath>\n </defs>\n</svg>\n",
      "image/png": "[encoded data removed]"
     },
     "metadata": {}
    }
   ],
   "source": [
    "# display the confusion matrix\n",
    "df_cm = pd.DataFrame(cm, range(3), range(3))\n",
    "# plt.figure(figsize=(10,7))\n",
    "sn.set(font_scale=1.4) # for label size\n",
    "sn.heatmap(df_cm, annot=True, annot_kws={\"size\": 16}) # font size\n",
    "\n",
    "plt.show()\n"
   ]
  },
  {
   "cell_type": "code",
   "execution_count": null,
   "metadata": {},
   "outputs": [],
   "source": []
  }
 ],
 "metadata": {
  "language_info": {
   "codemirror_mode": {
    "name": "ipython",
    "version": 3
   },
   "file_extension": ".py",
   "mimetype": "text/x-python",
   "name": "python",
   "nbconvert_exporter": "python",
   "pygments_lexer": "ipython3",
   "version": "3.7.6-final"
  },
  "orig_nbformat": 2,
  "kernelspec": {
   "name": "python37664bittf237venv9b274482c7ba4966ad2cf02baa9bb24c",
   "display_name": "Python 3.7.6 64-bit ('tf2_37': venv)"
  }
 },
 "nbformat": 4,
 "nbformat_minor": 2
}