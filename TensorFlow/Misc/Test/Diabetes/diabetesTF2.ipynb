{
 "cells": [
  {
   "cell_type": "code",
   "execution_count": 77,
   "metadata": {},
   "outputs": [
    {
     "output_type": "stream",
     "name": "stdout",
     "text": "TF version 2.1.0\nnumpy version 1.18.1\npandas version 1.0.3\nEager mode:  True\nGPU is NOT AVAILABLE\n"
    }
   ],
   "source": [
    "# imports\n",
    "import tensorflow as tf \n",
    "import sklearn\n",
    "import pandas as pd \n",
    "import numpy as np \n",
    "from sklearn.datasets import load_diabetes\n",
    "\n",
    "print(\"TF version {}\".format(tf.__version__))\n",
    "print(\"numpy version {}\".format(np.__version__))\n",
    "print(\"pandas version {}\".format(pd.__version__))\n",
    "print(\"Eager mode: \", tf.executing_eagerly())\n",
    "print(\"GPU is\", \"available\" if tf.config.experimental.list_physical_devices(\"GPU\") else \"NOT AVAILABLE\")"
   ]
  },
  {
   "cell_type": "code",
   "execution_count": 79,
   "metadata": {},
   "outputs": [],
   "source": [
    "# import the diabetes data\n",
    "diabetes_data = load_diabetes()"
   ]
  },
  {
   "cell_type": "code",
   "execution_count": 80,
   "metadata": {},
   "outputs": [
    {
     "output_type": "stream",
     "name": "stdout",
     "text": "the diabetes data keys are dict_keys(['data', 'target', 'DESCR', 'feature_names', 'data_filename', 'target_filename'])\n"
    }
   ],
   "source": [
    "# get the keys\n",
    "data_keys = diabetes_data.keys()\n",
    "\n",
    "print(\"the diabetes data keys are {}\".format(data_keys))"
   ]
  },
  {
   "cell_type": "code",
   "execution_count": 83,
   "metadata": {},
   "outputs": [
    {
     "output_type": "stream",
     "name": "stdout",
     "text": "the features are of type <class 'numpy.ndarray'> and shape (442, 10)\n"
    },
    {
     "output_type": "execute_result",
     "data": {
      "text/plain": "                  0             1             2             3             4  \\\ncount  4.420000e+02  4.420000e+02  4.420000e+02  4.420000e+02  4.420000e+02   \nmean  -3.639623e-16  1.309912e-16 -8.013951e-16  1.289818e-16 -9.042540e-17   \nstd    4.761905e-02  4.761905e-02  4.761905e-02  4.761905e-02  4.761905e-02   \nmin   -1.072256e-01 -4.464164e-02 -9.027530e-02 -1.123996e-01 -1.267807e-01   \n25%   -3.729927e-02 -4.464164e-02 -3.422907e-02 -3.665645e-02 -3.424784e-02   \n50%    5.383060e-03 -4.464164e-02 -7.283766e-03 -5.670611e-03 -4.320866e-03   \n75%    3.807591e-02  5.068012e-02  3.124802e-02  3.564384e-02  2.835801e-02   \nmax    1.107267e-01  5.068012e-02  1.705552e-01  1.320442e-01  1.539137e-01   \n\n                  5             6             7             8             9  \ncount  4.420000e+02  4.420000e+02  4.420000e+02  4.420000e+02  4.420000e+02  \nmean   1.301121e-16 -4.563971e-16  3.863174e-16 -3.848103e-16 -3.398488e-16  \nstd    4.761905e-02  4.761905e-02  4.761905e-02  4.761905e-02  4.761905e-02  \nmin   -1.156131e-01 -1.023071e-01 -7.639450e-02 -1.260974e-01 -1.377672e-01  \n25%   -3.035840e-02 -3.511716e-02 -3.949338e-02 -3.324879e-02 -3.317903e-02  \n50%   -3.819065e-03 -6.584468e-03 -2.592262e-03 -1.947634e-03 -1.077698e-03  \n75%    2.984439e-02  2.931150e-02  3.430886e-02  3.243323e-02  2.791705e-02  \nmax    1.987880e-01  1.811791e-01  1.852344e-01  1.335990e-01  1.356118e-01  ",
      "text/html": "<div>\n<style scoped>\n    .dataframe tbody tr th:only-of-type {\n        vertical-align: middle;\n    }\n\n    .dataframe tbody tr th {\n        vertical-align: top;\n    }\n\n    .dataframe thead th {\n        text-align: right;\n    }\n</style>\n<table border=\"1\" class=\"dataframe\">\n  <thead>\n    <tr style=\"text-align: right;\">\n      <th></th>\n      <th>0</th>\n      <th>1</th>\n      <th>2</th>\n      <th>3</th>\n      <th>4</th>\n      <th>5</th>\n      <th>6</th>\n      <th>7</th>\n      <th>8</th>\n      <th>9</th>\n    </tr>\n  </thead>\n  <tbody>\n    <tr>\n      <th>count</th>\n      <td>4.420000e+02</td>\n      <td>4.420000e+02</td>\n      <td>4.420000e+02</td>\n      <td>4.420000e+02</td>\n      <td>4.420000e+02</td>\n      <td>4.420000e+02</td>\n      <td>4.420000e+02</td>\n      <td>4.420000e+02</td>\n      <td>4.420000e+02</td>\n      <td>4.420000e+02</td>\n    </tr>\n    <tr>\n      <th>mean</th>\n      <td>-3.639623e-16</td>\n      <td>1.309912e-16</td>\n      <td>-8.013951e-16</td>\n      <td>1.289818e-16</td>\n      <td>-9.042540e-17</td>\n      <td>1.301121e-16</td>\n      <td>-4.563971e-16</td>\n      <td>3.863174e-16</td>\n      <td>-3.848103e-16</td>\n      <td>-3.398488e-16</td>\n    </tr>\n    <tr>\n      <th>std</th>\n      <td>4.761905e-02</td>\n      <td>4.761905e-02</td>\n      <td>4.761905e-02</td>\n      <td>4.761905e-02</td>\n      <td>4.761905e-02</td>\n      <td>4.761905e-02</td>\n      <td>4.761905e-02</td>\n      <td>4.761905e-02</td>\n      <td>4.761905e-02</td>\n      <td>4.761905e-02</td>\n    </tr>\n    <tr>\n      <th>min</th>\n      <td>-1.072256e-01</td>\n      <td>-4.464164e-02</td>\n      <td>-9.027530e-02</td>\n      <td>-1.123996e-01</td>\n      <td>-1.267807e-01</td>\n      <td>-1.156131e-01</td>\n      <td>-1.023071e-01</td>\n      <td>-7.639450e-02</td>\n      <td>-1.260974e-01</td>\n      <td>-1.377672e-01</td>\n    </tr>\n    <tr>\n      <th>25%</th>\n      <td>-3.729927e-02</td>\n      <td>-4.464164e-02</td>\n      <td>-3.422907e-02</td>\n      <td>-3.665645e-02</td>\n      <td>-3.424784e-02</td>\n      <td>-3.035840e-02</td>\n      <td>-3.511716e-02</td>\n      <td>-3.949338e-02</td>\n      <td>-3.324879e-02</td>\n      <td>-3.317903e-02</td>\n    </tr>\n    <tr>\n      <th>50%</th>\n      <td>5.383060e-03</td>\n      <td>-4.464164e-02</td>\n      <td>-7.283766e-03</td>\n      <td>-5.670611e-03</td>\n      <td>-4.320866e-03</td>\n      <td>-3.819065e-03</td>\n      <td>-6.584468e-03</td>\n      <td>-2.592262e-03</td>\n      <td>-1.947634e-03</td>\n      <td>-1.077698e-03</td>\n    </tr>\n    <tr>\n      <th>75%</th>\n      <td>3.807591e-02</td>\n      <td>5.068012e-02</td>\n      <td>3.124802e-02</td>\n      <td>3.564384e-02</td>\n      <td>2.835801e-02</td>\n      <td>2.984439e-02</td>\n      <td>2.931150e-02</td>\n      <td>3.430886e-02</td>\n      <td>3.243323e-02</td>\n      <td>2.791705e-02</td>\n    </tr>\n    <tr>\n      <th>max</th>\n      <td>1.107267e-01</td>\n      <td>5.068012e-02</td>\n      <td>1.705552e-01</td>\n      <td>1.320442e-01</td>\n      <td>1.539137e-01</td>\n      <td>1.987880e-01</td>\n      <td>1.811791e-01</td>\n      <td>1.852344e-01</td>\n      <td>1.335990e-01</td>\n      <td>1.356118e-01</td>\n    </tr>\n  </tbody>\n</table>\n</div>"
     },
     "metadata": {},
     "execution_count": 83
    }
   ],
   "source": [
    "# get the features and target\n",
    "X = diabetes_data['data']\n",
    "\n",
    "print(\"the features are of type {} and shape {}\".format(type(X), X.shape))\n",
    "\n",
    "X_df = pd.DataFrame(X)\n",
    "X_df.describe()\n"
   ]
  },
  {
   "cell_type": "code",
   "execution_count": 85,
   "metadata": {},
   "outputs": [
    {
     "output_type": "stream",
     "name": "stdout",
     "text": "the targets are of type <class 'numpy.ndarray'> and shape (442,)\n"
    },
    {
     "output_type": "execute_result",
     "data": {
      "text/plain": "                0\ncount  442.000000\nmean   152.133484\nstd     77.093005\nmin     25.000000\n25%     87.000000\n50%    140.500000\n75%    211.500000\nmax    346.000000",
      "text/html": "<div>\n<style scoped>\n    .dataframe tbody tr th:only-of-type {\n        vertical-align: middle;\n    }\n\n    .dataframe tbody tr th {\n        vertical-align: top;\n    }\n\n    .dataframe thead th {\n        text-align: right;\n    }\n</style>\n<table border=\"1\" class=\"dataframe\">\n  <thead>\n    <tr style=\"text-align: right;\">\n      <th></th>\n      <th>0</th>\n    </tr>\n  </thead>\n  <tbody>\n    <tr>\n      <th>count</th>\n      <td>442.000000</td>\n    </tr>\n    <tr>\n      <th>mean</th>\n      <td>152.133484</td>\n    </tr>\n    <tr>\n      <th>std</th>\n      <td>77.093005</td>\n    </tr>\n    <tr>\n      <th>min</th>\n      <td>25.000000</td>\n    </tr>\n    <tr>\n      <th>25%</th>\n      <td>87.000000</td>\n    </tr>\n    <tr>\n      <th>50%</th>\n      <td>140.500000</td>\n    </tr>\n    <tr>\n      <th>75%</th>\n      <td>211.500000</td>\n    </tr>\n    <tr>\n      <th>max</th>\n      <td>346.000000</td>\n    </tr>\n  </tbody>\n</table>\n</div>"
     },
     "metadata": {},
     "execution_count": 85
    }
   ],
   "source": [
    "# get the target\n",
    "y = diabetes_data['target']\n",
    "\n",
    "print(\"the targets are of type {} and shape {}\".format(type(y), y.shape))\n",
    "\n",
    "y_df = pd.DataFrame(y)\n",
    "y_df.describe()"
   ]
  },
  {
   "cell_type": "code",
   "execution_count": null,
   "metadata": {},
   "outputs": [],
   "source": []
  }
 ],
 "metadata": {
  "language_info": {
   "codemirror_mode": {
    "name": "ipython",
    "version": 3
   },
   "file_extension": ".py",
   "mimetype": "text/x-python",
   "name": "python",
   "nbconvert_exporter": "python",
   "pygments_lexer": "ipython3",
   "version": "3.7.6-final"
  },
  "orig_nbformat": 2,
  "kernelspec": {
   "name": "python37664bittf237venv9b274482c7ba4966ad2cf02baa9bb24c",
   "display_name": "Python 3.7.6 64-bit ('tf2_37': venv)"
  }
 },
 "nbformat": 4,
 "nbformat_minor": 2
}