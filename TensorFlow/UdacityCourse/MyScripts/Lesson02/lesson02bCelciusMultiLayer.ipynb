{
 "cells": [
  {
   "cell_type": "code",
   "execution_count": 3,
   "metadata": {
    "collapsed": true
   },
   "outputs": [],
   "source": [
    "# script to convert fahrenheit to celsius using mulilayr network\n",
    "\n",
    "# import\n",
    "import tensorflow as tf\n",
    "tf.logging.set_verbosity(tf.logging.ERROR)\n",
    "\n",
    "import numpy as np\n",
    "\n",
    "import matplotlib.pyplot as plt\n",
    "\n"
   ]
  },
  {
   "cell_type": "code",
   "execution_count": 4,
   "metadata": {},
   "outputs": [
    {
     "name": "stdout",
     "output_type": "stream",
     "text": [
      "celcius is -40.0 for farhenheit -40.0 for index 0 and type<class 'numpy.float64'>\ncelcius is -10.0 for farhenheit 14.0 for index 1 and type<class 'numpy.float64'>\ncelcius is 0.0 for farhenheit 32.0 for index 2 and type<class 'numpy.float64'>\ncelcius is 8.0 for farhenheit 46.0 for index 3 and type<class 'numpy.float64'>\ncelcius is 15.0 for farhenheit 59.0 for index 4 and type<class 'numpy.float64'>\ncelcius is 22.0 for farhenheit 72.0 for index 5 and type<class 'numpy.float64'>\ncelcius is 38.0 for farhenheit 100.0 for index 6 and type<class 'numpy.float64'>\n"
     ]
    }
   ],
   "source": [
    "celcius = np.array([-40, -10, 0, 8, 15, 22, 38], dtype=float)\n",
    "fahrenheit = np.array([-40, 14, 32, 46, 59, 72, 100], dtype=float)\n",
    "\n",
    "for i, ele in enumerate(celcius):\n",
    "    print(\"celcius is {} for farhenheit {} for index {} and type{}\".format(ele, fahrenheit[i], i, type(ele)))\n",
    "    \n",
    "    \n",
    "    "
   ]
  },
  {
   "cell_type": "code",
   "execution_count": 6,
   "metadata": {},
   "outputs": [
    {
     "name": "stdout",
     "output_type": "stream",
     "text": [
      "the 0 layer has type <class 'tensorflow.python.keras.layers.core.Dense'>\nthe 1 layer has type <class 'tensorflow.python.keras.layers.core.Dense'>\nthe 2 layer has type <class 'tensorflow.python.keras.layers.core.Dense'>\n"
     ]
    }
   ],
   "source": [
    "# build the network layers\n",
    "layer_in = tf.keras.layers.Dense(units=4, input_shape=[1])\n",
    "layer_hidden01 = tf.keras.layers.Dense(units=4)\n",
    "layout_out = tf.keras.layers.Dense(units=1)\n",
    "\n",
    "# build the layer array\n",
    "layer_array = [layer_in, layer_hidden01, layout_out]\n",
    "\n",
    "# print ou the layers\n",
    "for i, lay in enumerate(layer_array):\n",
    "    print(\"the {} layer has type {}\".format(i, type(lay)))\n",
    "    \n"
   ]
  },
  {
   "cell_type": "code",
   "execution_count": 8,
   "metadata": {},
   "outputs": [
    {
     "name": "stdout",
     "output_type": "stream",
     "text": [
      "the model is of type <class 'tensorflow.python.keras.engine.sequential.Sequential'>\n"
     ]
    }
   ],
   "source": [
    "# build the model\n",
    "model = tf.keras.Sequential(layer_array)\n",
    "\n",
    "print(\"the model is of type {}\".format(type(model)))\n",
    "\n"
   ]
  },
  {
   "cell_type": "code",
   "execution_count": 10,
   "metadata": {},
   "outputs": [
    {
     "name": "stdout",
     "output_type": "stream",
     "text": [
      "Epoch 1/50\n"
     ]
    },
    {
     "name": "stdout",
     "output_type": "stream",
     "text": [
      "\r7/7 [==============================] - 0s 45ms/step - loss: 1351.2946\n"
     ]
    },
    {
     "name": "stdout",
     "output_type": "stream",
     "text": [
      "Epoch 2/50\n\r7/7 [==============================] - 0s 255us/step - loss: 241.3689\n"
     ]
    },
    {
     "name": "stdout",
     "output_type": "stream",
     "text": [
      "Epoch 3/50\n\r7/7 [==============================] - 0s 224us/step - loss: 988.4500\n"
     ]
    },
    {
     "name": "stdout",
     "output_type": "stream",
     "text": [
      "Epoch 4/50\n\r7/7 [==============================] - 0s 258us/step - loss: 555.9752\n"
     ]
    },
    {
     "name": "stdout",
     "output_type": "stream",
     "text": [
      "Epoch 5/50\n\r7/7 [==============================] - 0s 829us/step - loss: 171.4245\n"
     ]
    },
    {
     "name": "stdout",
     "output_type": "stream",
     "text": [
      "Epoch 6/50\n\r7/7 [==============================] - 0s 428us/step - loss: 233.1872\n"
     ]
    },
    {
     "name": "stdout",
     "output_type": "stream",
     "text": [
      "Epoch 7/50\n\r7/7 [==============================] - 0s 338us/step - loss: 389.3264\n"
     ]
    },
    {
     "name": "stdout",
     "output_type": "stream",
     "text": [
      "Epoch 8/50\n\r7/7 [==============================] - 0s 251us/step - loss: 435.1860\n"
     ]
    },
    {
     "name": "stdout",
     "output_type": "stream",
     "text": [
      "Epoch 9/50\n\r7/7 [==============================] - 0s 253us/step - loss: 373.7032\n"
     ]
    },
    {
     "name": "stdout",
     "output_type": "stream",
     "text": [
      "Epoch 10/50\n\r7/7 [==============================] - 0s 231us/step - loss: 270.8068\n"
     ]
    },
    {
     "name": "stdout",
     "output_type": "stream",
     "text": [
      "Epoch 11/50\n\r7/7 [==============================] - 0s 254us/step - loss: 184.7922\n"
     ]
    },
    {
     "name": "stdout",
     "output_type": "stream",
     "text": [
      "Epoch 12/50\n\r7/7 [==============================] - 0s 383us/step - loss: 145.0403\n"
     ]
    },
    {
     "name": "stdout",
     "output_type": "stream",
     "text": [
      "Epoch 13/50\n\r7/7 [==============================] - 0s 220us/step - loss: 152.0385\n"
     ]
    },
    {
     "name": "stdout",
     "output_type": "stream",
     "text": [
      "Epoch 14/50\n\r7/7 [==============================] - 0s 385us/step - loss: 183.9852\n"
     ]
    },
    {
     "name": "stdout",
     "output_type": "stream",
     "text": [
      "Epoch 15/50\n\r7/7 [==============================] - 0s 271us/step - loss: 210.4566\n"
     ]
    },
    {
     "name": "stdout",
     "output_type": "stream",
     "text": [
      "Epoch 16/50\n\r7/7 [==============================] - 0s 325us/step - loss: 211.6645\n"
     ]
    },
    {
     "name": "stdout",
     "output_type": "stream",
     "text": [
      "Epoch 17/50\n\r7/7 [==============================] - 0s 295us/step - loss: 189.1476\n"
     ]
    },
    {
     "name": "stdout",
     "output_type": "stream",
     "text": [
      "Epoch 18/50\n\r7/7 [==============================] - 0s 312us/step - loss: 158.7159\n"
     ]
    },
    {
     "name": "stdout",
     "output_type": "stream",
     "text": [
      "Epoch 19/50\n\r7/7 [==============================] - 0s 290us/step - loss: 135.9939\n"
     ]
    },
    {
     "name": "stdout",
     "output_type": "stream",
     "text": [
      "Epoch 20/50\n\r7/7 [==============================] - 0s 301us/step - loss: 127.1842\n"
     ]
    },
    {
     "name": "stdout",
     "output_type": "stream",
     "text": [
      "Epoch 21/50\n\r7/7 [==============================] - 0s 290us/step - loss: 130.3407\n"
     ]
    },
    {
     "name": "stdout",
     "output_type": "stream",
     "text": [
      "Epoch 22/50\n\r7/7 [==============================] - 0s 321us/step - loss: 139.3071\n"
     ]
    },
    {
     "name": "stdout",
     "output_type": "stream",
     "text": [
      "Epoch 23/50\n\r7/7 [==============================] - 0s 300us/step - loss: 147.8305\n"
     ]
    },
    {
     "name": "stdout",
     "output_type": "stream",
     "text": [
      "Epoch 24/50\n\r7/7 [==============================] - 0s 384us/step - loss: 151.3731\n"
     ]
    },
    {
     "name": "stdout",
     "output_type": "stream",
     "text": [
      "Epoch 25/50\n\r7/7 [==============================] - 0s 365us/step - loss: 148.3874\n"
     ]
    },
    {
     "name": "stdout",
     "output_type": "stream",
     "text": [
      "Epoch 26/50\n\r7/7 [==============================] - 0s 804us/step - loss: 139.8072\n"
     ]
    },
    {
     "name": "stdout",
     "output_type": "stream",
     "text": [
      "Epoch 27/50\n\r7/7 [==============================] - 0s 291us/step - loss: 128.0222\n"
     ]
    },
    {
     "name": "stdout",
     "output_type": "stream",
     "text": [
      "Epoch 28/50\n\r7/7 [==============================] - 0s 315us/step - loss: 116.5583\n"
     ]
    },
    {
     "name": "stdout",
     "output_type": "stream",
     "text": [
      "Epoch 29/50\n\r7/7 [==============================] - 0s 321us/step - loss: 108.1163\n"
     ]
    },
    {
     "name": "stdout",
     "output_type": "stream",
     "text": [
      "Epoch 30/50\n\r7/7 [==============================] - 0s 282us/step - loss: 104.2161\n"
     ]
    },
    {
     "name": "stdout",
     "output_type": "stream",
     "text": [
      "Epoch 31/50\n\r7/7 [==============================] - 0s 304us/step - loss: 104.4724\n"
     ]
    },
    {
     "name": "stdout",
     "output_type": "stream",
     "text": [
      "Epoch 32/50\n\r7/7 [==============================] - 0s 300us/step - loss: 106.7499\n"
     ]
    },
    {
     "name": "stdout",
     "output_type": "stream",
     "text": [
      "Epoch 33/50\n\r7/7 [==============================] - 0s 284us/step - loss: 108.1983\n"
     ]
    },
    {
     "name": "stdout",
     "output_type": "stream",
     "text": [
      "Epoch 34/50\n\r7/7 [==============================] - 0s 312us/step - loss: 106.7407\n"
     ]
    },
    {
     "name": "stdout",
     "output_type": "stream",
     "text": [
      "Epoch 35/50\n\r7/7 [==============================] - 0s 405us/step - loss: 102.0461\n"
     ]
    },
    {
     "name": "stdout",
     "output_type": "stream",
     "text": [
      "Epoch 36/50\n\r7/7 [==============================] - 0s 318us/step - loss: 95.5630\n"
     ]
    },
    {
     "name": "stdout",
     "output_type": "stream",
     "text": [
      "Epoch 37/50\n\r7/7 [==============================] - 0s 267us/step - loss: 89.3538\n"
     ]
    },
    {
     "name": "stdout",
     "output_type": "stream",
     "text": [
      "Epoch 38/50\n\r7/7 [==============================] - 0s 307us/step - loss: 84.9545\n"
     ]
    },
    {
     "name": "stdout",
     "output_type": "stream",
     "text": [
      "Epoch 39/50\n\r7/7 [==============================] - 0s 286us/step - loss: 82.6376\n"
     ]
    },
    {
     "name": "stdout",
     "output_type": "stream",
     "text": [
      "Epoch 40/50\n\r7/7 [==============================] - 0s 302us/step - loss: 81.7746\n"
     ]
    },
    {
     "name": "stdout",
     "output_type": "stream",
     "text": [
      "Epoch 41/50\n\r7/7 [==============================] - 0s 279us/step - loss: 81.2769\n"
     ]
    },
    {
     "name": "stdout",
     "output_type": "stream",
     "text": [
      "Epoch 42/50\n\r7/7 [==============================] - 0s 276us/step - loss: 80.1485\n"
     ]
    },
    {
     "name": "stdout",
     "output_type": "stream",
     "text": [
      "Epoch 43/50\n\r7/7 [==============================] - 0s 375us/step - loss: 77.8542\n"
     ]
    },
    {
     "name": "stdout",
     "output_type": "stream",
     "text": [
      "Epoch 44/50\n\r7/7 [==============================] - 0s 361us/step - loss: 74.4392\n"
     ]
    },
    {
     "name": "stdout",
     "output_type": "stream",
     "text": [
      "Epoch 45/50\n\r7/7 [==============================] - 0s 377us/step - loss: 70.4246\n"
     ]
    },
    {
     "name": "stdout",
     "output_type": "stream",
     "text": [
      "Epoch 46/50\n\r7/7 [==============================] - 0s 370us/step - loss: 66.5416\n"
     ]
    },
    {
     "name": "stdout",
     "output_type": "stream",
     "text": [
      "Epoch 47/50\n\r7/7 [==============================] - 0s 359us/step - loss: 63.3711\n"
     ]
    },
    {
     "name": "stdout",
     "output_type": "stream",
     "text": [
      "Epoch 48/50\n\r7/7 [==============================] - 0s 312us/step - loss: 61.1783\n"
     ]
    },
    {
     "name": "stdout",
     "output_type": "stream",
     "text": [
      "Epoch 49/50\n\r7/7 [==============================] - 0s 328us/step - loss: 59.6406\n"
     ]
    },
    {
     "name": "stdout",
     "output_type": "stream",
     "text": [
      "Epoch 50/50\n\r7/7 [==============================] - 0s 323us/step - loss: 58.1604\n"
     ]
    },
    {
     "data": {
      "text/plain": [
       "<tensorflow.python.keras.callbacks.History at 0x7f6a49b8fe48>"
      ]
     },
     "execution_count": 10,
     "metadata": {},
     "output_type": "execute_result"
    }
   ],
   "source": [
    "# compile and fit the model\n",
    "opimizer_step = 0.1\n",
    "epochs = 50\n",
    "model.compile(loss='mean_squared_error', optimizer=tf.keras.optimizers.Adam(opimizer_step))\n",
    "\n",
    "# fit\n",
    "model.fit(fahrenheit, celcius, epochs=epochs, verbose=True)\n",
    "\n",
    "\n"
   ]
  },
  {
   "cell_type": "code",
   "execution_count": 11,
   "metadata": {},
   "outputs": [
    {
     "name": "stdout",
     "output_type": "stream",
     "text": [
      "the celcius value for fahrenheit [32] is [[7.2264347]]\n"
     ]
    }
   ],
   "source": [
    "# predict\n",
    "test = [32]\n",
    "\n",
    "print(\"the celcius value for fahrenheit {} is {}\".format(test, model.predict(test)))\n",
    "\n",
    "\n"
   ]
  },
  {
   "cell_type": "code",
   "execution_count": null,
   "metadata": {},
   "outputs": [
    {
     "name": "stdout",
     "output_type": "stream",
     "text": [
      "the layer 0 has type <class 'tensorflow.python.keras.layers.core.Dense'> and weights [array([[-0.73236114,  0.05871479, -0.48279658,  0.37704393]],\n      dtype=float32), array([ 2.8236318, -0.2633246, -1.3734405, -1.5874377], dtype=float32)]\nthe layer 1 has type <class 'tensorflow.python.keras.layers.core.Dense'> and weights [array([[-0.2303733 ,  0.21279436, -0.9276721 , -0.01858882],\n       [-0.9897208 , -0.21046183, -0.06901965, -0.05641079],\n       [ 0.06525093, -0.12435731,  0.23337829, -0.12666075],\n       [-0.3044748 , -0.02821862,  0.25087875, -0.24947162]],\n      dtype=float32), array([ 1.8164741, -2.5545745, -2.6365063, -0.7751492], dtype=float32)]\nthe layer 2 has type <class 'tensorflow.python.keras.layers.core.Dense'> and weights [array([[-0.1359625 ],\n       [ 0.05371895],\n       [ 0.71414053],\n       [ 0.20237555]], dtype=float32), array([-2.957382], dtype=float32)]\n"
     ]
    }
   ],
   "source": [
    "# print ou he values of the model layer parameters\n",
    "for i, lay in enumerate(layer_array):\n",
    "    print(\"the layer {} has type {} and weights \\n{}\".format(i, type(lay), lay.get_weights()))\n",
    "    "
   ]
  },
  {
   "cell_type": "code",
   "execution_count": null,
   "metadata": {},
   "outputs": [],
   "source": []
  }
 ],
 "metadata": {
  "kernelspec": {
   "display_name": "Python 2",
   "language": "python",
   "name": "python2"
  },
  "language_info": {
   "codemirror_mode": {
    "name": "ipython",
    "version": 2
   },
   "file_extension": ".py",
   "mimetype": "text/x-python",
   "name": "python",
   "nbconvert_exporter": "python",
   "pygments_lexer": "ipython2",
   "version": "2.7.6"
  }
 },
 "nbformat": 4,
 "nbformat_minor": 0
}
