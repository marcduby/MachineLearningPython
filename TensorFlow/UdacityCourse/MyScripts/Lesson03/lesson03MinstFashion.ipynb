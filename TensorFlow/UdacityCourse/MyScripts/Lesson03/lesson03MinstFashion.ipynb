{
 "cells": [
  {
   "cell_type": "code",
   "execution_count": 1,
   "metadata": {
    "collapsed": true
   },
   "outputs": [
    {
     "name": "stdout",
     "output_type": "stream",
     "text": [
      "tensor flow version 2.0.0-alpha0\nnumpy version 1.15.4\n"
     ]
    }
   ],
   "source": [
    "# import\n",
    "import tensorflow as tf\n",
    "import tensorflow_datasets as tfds\n",
    "\n",
    "# tf.logging.set_verbosity(tf.logging.ERROR)\n",
    "\n",
    "import math\n",
    "\n",
    "import numpy as np\n",
    "\n",
    "import matplotlib.pyplot as plt\n",
    "\n",
    "import tqdm\n",
    "import tqdm.auto\n",
    "tqdm.tqdm = tqdm.auto.tqdm\n",
    "\n",
    "# print versions\n",
    "print(\"tensor flow version {}\".format(tf.__version__))\n",
    "print(\"numpy version {}\".format(np.__version__))\n",
    "\n"
   ]
  },
  {
   "cell_type": "code",
   "execution_count": 20,
   "metadata": {},
   "outputs": [
    {
     "name": "stdout",
     "output_type": "stream",
     "text": [
      "the train dataset has type <class 'tensorflow.python.data.ops.dataset_ops._OptionsDataset'>, element types True, shape True\nthe test dataset has type <class 'tensorflow.python.data.ops.dataset_ops._OptionsDataset'>\nthe metadata has type <class 'tensorflow_datasets.core.dataset_info.DatasetInfo'>\nthe metadata supervised keys has type <class 'tuple'> with values ('image', 'label')\nthe metadata features has type <class 'tensorflow_datasets.core.features.feature.FeaturesDict'> with values FeaturesDict({'image': Image(shape=(28, 28, 1), dtype=tf.uint8), 'label': ClassLabel(shape=(), dtype=tf.int64, num_classes=10)})\nmetadata labels has type <class 'tensorflow_datasets.core.features.class_label_feature.ClassLabel'> and values FixedLenFeature(shape=(), dtype=tf.int64, default_value=None)\n"
     ]
    }
   ],
   "source": [
    "# load the datasets\n",
    "dataset, metadata = tfds.load('fashion_mnist', as_supervised=True, with_info=True)\n",
    "\n",
    "train_dataset, test_dataset = dataset['train'], dataset['test']\n",
    "\n",
    "# print imfo\n",
    "print(\"the train dataset has type {}, element types {}, shape {}\".format(type(train_dataset), True, True))\n",
    "print(\"the test dataset has type {}\".format(type(test_dataset)))\n",
    "\n",
    "# print the metadata\n",
    "print(\"the metadata has type {}\".format(type(metadata)))\n",
    "print(\"the metadata supervised keys has type {} with values {}\".format(type(metadata.supervised_keys), metadata.supervised_keys))\n",
    "print(\"the metadata features has type {} with values {}\".format(type(metadata.features), metadata.features))\n",
    "labels = metadata.features['label']\n",
    "print(\"metadata labels has type {} and values {}\".format(type(labels), labels.get_serialized_info()))\n",
    "\n"
   ]
  },
  {
   "cell_type": "code",
   "execution_count": null,
   "metadata": {},
   "outputs": [],
   "source": []
  },
  {
   "cell_type": "code",
   "execution_count": null,
   "metadata": {},
   "outputs": [],
   "source": [
    "# fo non linear problems, ReLU is a good acivation function o use\n",
    "# also look at Sigmoid, tanh, ELU\n",
    "\n"
   ]
  },
  {
   "cell_type": "code",
   "execution_count": null,
   "metadata": {},
   "outputs": [],
   "source": []
  }
 ],
 "metadata": {
  "kernelspec": {
   "display_name": "Python 2",
   "language": "python",
   "name": "python2"
  },
  "language_info": {
   "codemirror_mode": {
    "name": "ipython",
    "version": 2
   },
   "file_extension": ".py",
   "mimetype": "text/x-python",
   "name": "python",
   "nbconvert_exporter": "python",
   "pygments_lexer": "ipython2",
   "version": "2.7.6"
  }
 },
 "nbformat": 4,
 "nbformat_minor": 0
}
