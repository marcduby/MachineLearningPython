{
 "cells": [
  {
   "cell_type": "code",
   "execution_count": 2,
   "metadata": {
    "collapsed": true
   },
   "outputs": [],
   "source": [
    "\n",
    "# using PyCharm CE\n",
    "# rehash of the Udacity TF2 course scripts o get familiar with Python\n",
    "\n",
    "# sample function\n",
    "def TestNumber(x, y):\n",
    "    if (x < 10 ):\n",
    "        print(\"x less than 10\")\n",
    "    elif (x < 20):\n",
    "        print(\"x more than 10 less than 20\")\n",
    "    else:\n",
    "        print(\"x more than 20\")\n",
    "    return x+y\n",
    "\n"
   ]
  },
  {
   "cell_type": "code",
   "execution_count": 7,
   "metadata": {},
   "outputs": [
    {
     "name": "stdout",
     "output_type": "stream",
     "text": [
      "x less than 10\nfor x of 8: get a result for (i,i) of: 16\nx more than 10 less than 20\nfor x of 13: get a result for (i,i) of: 26\nx more than 10 less than 20\nfor x of 18: get a result for (i,i) of: 36\nx more than 20\nfor x of 23: get a result for (i,i) of: 46\nx more than 20\nfor x of 28: get a result for (i,i) of: 56\n"
     ]
    }
   ],
   "source": [
    "# loop through a range and use the above function\n",
    "\n",
    "for i in range(8, 29, 5): # the max number is non inclusive\n",
    "    print(\"for x of {}: get a result for (i,i) of: {}\".format(i, TestNumber(i, i)))\n",
    "    \n",
    "    "
   ]
  },
  {
   "cell_type": "code",
   "execution_count": 8,
   "metadata": {},
   "outputs": [
    {
     "name": "stdout",
     "output_type": "stream",
     "text": [
      "x less than 10\nfor x of 2: get a result for (i,i) of: 4\nx less than 10\nfor x of 3: get a result for (i,i) of: 6\nx less than 10\nfor x of 6: get a result for (i,i) of: 12\nx more than 10 less than 20\nfor x of 11: get a result for (i,i) of: 22\nx more than 20\nfor x of 56: get a result for (i,i) of: 112\n"
     ]
    }
   ],
   "source": [
    "# metadata.supervised_keysusing list instead\n",
    "for i in [2, 3, 6, 11, 56]:\n",
    "    print(\"for x of {}: get a result for (i,i) of: {}\".format(i, TestNumber(i, i)))\n",
    "    \n",
    "    "
   ]
  },
  {
   "cell_type": "code",
   "execution_count": null,
   "metadata": {},
   "outputs": [],
   "source": []
  }
 ],
 "metadata": {
  "kernelspec": {
   "display_name": "Python 2",
   "language": "python",
   "name": "python2"
  },
  "language_info": {
   "codemirror_mode": {
    "name": "ipython",
    "version": 2
   },
   "file_extension": ".py",
   "mimetype": "text/x-python",
   "name": "python",
   "nbconvert_exporter": "python",
   "pygments_lexer": "ipython2",
   "version": "2.7.6"
  }
 },
 "nbformat": 4,
 "nbformat_minor": 0
}
