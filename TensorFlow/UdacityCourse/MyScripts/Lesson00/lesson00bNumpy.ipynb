{
 "cells": [
  {
   "cell_type": "code",
   "execution_count": 1,
   "metadata": {
    "collapsed": true
   },
   "outputs": [],
   "source": [
    "# import numpy\n",
    "import numpy as np\n",
    "\n"
   ]
  },
  {
   "cell_type": "code",
   "execution_count": 2,
   "metadata": {},
   "outputs": [
    {
     "name": "stdout",
     "output_type": "stream",
     "text": [
      "a is of type: <type 'numpy.ndarray'>\na value is: ['dude' 'yo']\n"
     ]
    }
   ],
   "source": [
    "a = np.array(['dude', 'yo'])\n",
    "print(\"a is of type: {}\".format(type(a)))\n",
    "print(\"a value is: {}\".format(a))\n",
    "\n",
    "\n"
   ]
  },
  {
   "cell_type": "code",
   "execution_count": 3,
   "metadata": {},
   "outputs": [
    {
     "name": "stdout",
     "output_type": "stream",
     "text": [
      "a is of type: <type 'numpy.ndarray'>\na value is: ['dude' 'yo' 'dog']\nvalue of element is: dude of type: <type 'numpy.string_'>\nvalue of element is: yo of type: <type 'numpy.string_'>\nvalue of element is: dog of type: <type 'numpy.string_'>\n"
     ]
    }
   ],
   "source": [
    "# add o array\n",
    "a = np.append(a, \"dog\")\n",
    "\n",
    "print(\"a is of type: {}\".format(type(a)))\n",
    "print(\"a value is: {}\".format(a))\n",
    "\n",
    "for i in a:\n",
    "    print(\"value of element is: {} of type: {}\".format(i, type(i)))\n"
   ]
  },
  {
   "cell_type": "code",
   "execution_count": 5,
   "metadata": {},
   "outputs": [
    {
     "name": "stdout",
     "output_type": "stream",
     "text": [
      "for index 0 of type <class 'int'> get value dude of ype <class 'numpy.str_'>\nfor index 1 of type <class 'int'> get value yo of ype <class 'numpy.str_'>\nfor index 2 of type <class 'int'> get value dog of ype <class 'numpy.str_'>\nfor index 3 of type <class 'int'> get value dog of ype <class 'numpy.str_'>\n"
     ]
    }
   ],
   "source": [
    "for i, ele in enumerate(a):\n",
    "    print(\"for index {} of type {} get value {} of ype {}\".format(i, type(i), ele, type(ele)))\n",
    "    \n",
    "    \n",
    "    "
   ]
  },
  {
   "cell_type": "code",
   "execution_count": 7,
   "metadata": {},
   "outputs": [
    {
     "name": "stdout",
     "output_type": "stream",
     "text": [
      "for index 0 of type <class 'int'> get value 1.0 of ype <class 'numpy.float64'>\nfor index 1 of type <class 'int'> get value 2.0 of ype <class 'numpy.float64'>\nfor index 2 of type <class 'int'> get value 3.0 of ype <class 'numpy.float64'>\nfor index 3 of type <class 'int'> get value 4.0 of ype <class 'numpy.float64'>\nfor index 4 of type <class 'int'> get value 5.0 of ype <class 'numpy.float64'>\nfor index 5 of type <class 'int'> get value 6.0 of ype <class 'numpy.float64'>\nfor index 6 of type <class 'int'> get value 4.1 of ype <class 'numpy.float64'>\nfor index 7 of type <class 'int'> get value 2.1 of ype <class 'numpy.float64'>\nfor index 8 of type <class 'int'> get value 0.1 of ype <class 'numpy.float64'>\n"
     ]
    }
   ],
   "source": [
    "# try loat array\n",
    "flo = np.array([1.0, 2.0, 3.0, 4.0, 5.0, 6.0, 4.1, 2.1, 0.1])\n",
    "\n",
    "for i, ele in enumerate(flo):\n",
    "    print(\"for index {} of type {} get value {} of ype {}\".format(i, type(i), ele, type(ele)))\n"
   ]
  },
  {
   "cell_type": "code",
   "execution_count": 8,
   "metadata": {},
   "outputs": [
    {
     "name": "stdout",
     "output_type": "stream",
     "text": [
      "max of [1.  2.  3.  4.  5.  6.  4.1 2.1 0.1] is 6.0\navg of [1.  2.  3.  4.  5.  6.  4.1 2.1 0.1] is 3.033333333333333\nindex max index of [1.  2.  3.  4.  5.  6.  4.1 2.1 0.1] is 5\nmedian of [1.  2.  3.  4.  5.  6.  4.1 2.1 0.1] is 3.0\n"
     ]
    }
   ],
   "source": [
    "# np functions\n",
    "print(\"max of {} is {}\".format(flo, np.max(flo)))\n",
    "print(\"avg of {} is {}\".format(flo, np.average(flo)))\n",
    "print(\"index max index of {} is {}\".format(flo, np.argmax(flo)))\n",
    "print(\"median of {} is {}\".format(flo, np.median(flo)))\n"
   ]
  },
  {
   "cell_type": "code",
   "execution_count": 11,
   "metadata": {},
   "outputs": [
    {
     "name": "stdout",
     "output_type": "stream",
     "text": [
      "matrux of type <class 'numpy.ndarray'> is: [[0.65096758 0.81091133 0.27354534]\n [0.16668947 0.5491192  0.34852656]\n [0.77831379 0.55127764 0.17136794]\n [0.06392346 0.7242392  0.43803113]]\ni is: [0.65096758 0.81091133 0.27354534]\ni is: [0.16668947 0.5491192  0.34852656]\ni is: [0.77831379 0.55127764 0.17136794]\ni is: [0.06392346 0.7242392  0.43803113]\n"
     ]
    }
   ],
   "source": [
    "# create 4x3 random matrix\n",
    "mat = np.random.rand(4, 3)\n",
    "\n",
    "print(\"matrux of type {} is: {}\".format(type(mat),mat))\n",
    "\n",
    "for i in mat:\n",
    "    print(\"i is: {}\".format(i))\n",
    "    \n",
    "    \n"
   ]
  },
  {
   "cell_type": "code",
   "execution_count": 19,
   "metadata": {},
   "outputs": [
    {
     "name": "stdout",
     "output_type": "stream",
     "text": [
      "i of type <class 'numpy.ndarray'> and shape(3,) is: [0.65096758 0.81091133 0.27354534]\nj of type <class 'numpy.float64'> and shape() is: 0.6509675838697435\nj of type <class 'numpy.float64'> and shape() is: 0.8109113250363943\nj of type <class 'numpy.float64'> and shape() is: 0.2735453429090585\ni of type <class 'numpy.ndarray'> and shape(3,) is: [0.16668947 0.5491192  0.34852656]\nj of type <class 'numpy.float64'> and shape() is: 0.1666894722966492\nj of type <class 'numpy.float64'> and shape() is: 0.549119201283368\nj of type <class 'numpy.float64'> and shape() is: 0.34852656149511485\ni of type <class 'numpy.ndarray'> and shape(3,) is: [0.77831379 0.55127764 0.17136794]\nj of type <class 'numpy.float64'> and shape() is: 0.7783137898787282\nj of type <class 'numpy.float64'> and shape() is: 0.5512776411212129\nj of type <class 'numpy.float64'> and shape() is: 0.17136793949862317\ni of type <class 'numpy.ndarray'> and shape(3,) is: [0.06392346 0.7242392  0.43803113]\nj of type <class 'numpy.float64'> and shape() is: 0.06392346478602517\nj of type <class 'numpy.float64'> and shape() is: 0.7242392013770926\nj of type <class 'numpy.float64'> and shape() is: 0.4380311262250305\n"
     ]
    }
   ],
   "source": [
    "for i in mat:\n",
    "    print(\"i of type {} and shape{} is: {}\".format(type(i), i.shape, i))\n",
    "    for j in i:\n",
    "        print(\"j of type {} and shape{} is: {}\".format(type(j), j.shape, j))\n",
    "    \n",
    "    "
   ]
  },
  {
   "cell_type": "code",
   "execution_count": 21,
   "metadata": {},
   "outputs": [
    {
     "name": "stdout",
     "output_type": "stream",
     "text": [
      "matrix a of type <class 'numpy.ndarray'> and shape (4, 3) is [[0.44297154 0.03406091 0.14928529]\n [0.86278716 0.50914926 0.78726542]\n [0.11198454 0.52323787 0.73473339]\n [0.5873176  0.09246436 0.31821341]]\nmatrix b of type <class 'numpy.ndarray'> and shape (3, 2) is [[0.35402488 0.39215508]\n [0.45765991 0.91053475]\n [0.10538376 0.14500409]]\nmatrix c of type <class 'numpy.ndarray'> and shape (4, 2) is [[0.1881435  0.22637415]\n [0.62143032 0.91610116]\n [0.35653927 0.62688091]\n [0.2837768  0.36065383]]\n"
     ]
    }
   ],
   "source": [
    "mat_a = np.random.rand(4,3)\n",
    "mat_b = np.random.rand(3,2)\n",
    "\n",
    "print(\"matrix a of type {} and shape {} is {}\".format(type(mat_a), mat_a.shape, mat_a))\n",
    "print(\"matrix b of type {} and shape {} is {}\".format(type(mat_b), mat_b.shape, mat_b))\n",
    "\n",
    "\n",
    "\n",
    "mat_c = np.matmul(mat_a, mat_b)\n",
    "print(\"matrix c of type {} and shape {} is {}\".format(type(mat_c), mat_c.shape, mat_c))\n",
    "\n"
   ]
  },
  {
   "cell_type": "code",
   "execution_count": 22,
   "metadata": {},
   "outputs": [
    {
     "ename": "ValueError",
     "evalue": "operands could not be broadcast together with shapes (4,3) (3,2) ",
     "traceback": [
      "\u001b[0;31m---------------------------------------------------------------------------\u001b[0m",
      "\u001b[0;31mValueError\u001b[0m                                Traceback (most recent call last)",
      "\u001b[0;32m<ipython-input-22-cb8caa1c0668>\u001b[0m in \u001b[0;36m<module>\u001b[0;34m()\u001b[0m\n\u001b[0;32m----> 1\u001b[0;31m \u001b[0mmat_d\u001b[0m \u001b[0;34m=\u001b[0m \u001b[0mmat_a\u001b[0m \u001b[0;34m*\u001b[0m \u001b[0mmat_b\u001b[0m\u001b[0;34m\u001b[0m\u001b[0;34m\u001b[0m\u001b[0m\n\u001b[0m",
      "\u001b[0;31mValueError\u001b[0m: operands could not be broadcast together with shapes (4,3) (3,2) "
     ],
     "output_type": "error"
    }
   ],
   "source": [
    "mat_d = mat_a * mat_b\n"
   ]
  },
  {
   "cell_type": "code",
   "execution_count": null,
   "metadata": {},
   "outputs": [],
   "source": []
  }
 ],
 "metadata": {
  "kernelspec": {
   "display_name": "Python 2",
   "language": "python",
   "name": "python2"
  },
  "language_info": {
   "codemirror_mode": {
    "name": "ipython",
    "version": 2
   },
   "file_extension": ".py",
   "mimetype": "text/x-python",
   "name": "python",
   "nbconvert_exporter": "python",
   "pygments_lexer": "ipython2",
   "version": "2.7.6"
  }
 },
 "nbformat": 4,
 "nbformat_minor": 0
}
