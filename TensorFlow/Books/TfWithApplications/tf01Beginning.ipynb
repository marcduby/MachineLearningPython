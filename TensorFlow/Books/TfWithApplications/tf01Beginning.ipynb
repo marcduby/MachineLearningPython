{
 "cells": [
  {
   "cell_type": "code",
   "execution_count": 1,
   "metadata": {
    "collapsed": true
   },
   "outputs": [],
   "source": [
    "import tensorflow as tf\n",
    "session = tf.Session()"
   ]
  },
  {
   "cell_type": "code",
   "execution_count": 2,
   "metadata": {},
   "outputs": [
    {
     "name": "stdout",
     "output_type": "stream",
     "text": [
      "30\n"
     ]
    }
   ],
   "source": [
    "testGraph = tf.Graph()\n",
    "with testGraph.as_default():\n",
    "    testVariable = tf.Variable(30, name='dude')\n",
    "    initialize = tf.global_variables_initializer()\n",
    "  \n",
    "with tf.Session(graph = testGraph) as testSession:\n",
    "    testSession.run(initialize)\n",
    "    print(testSession.run(testVariable))\n",
    "    \n",
    "    "
   ]
  },
  {
   "cell_type": "markdown",
   "metadata": {},
   "source": [
    "constants for TF; hese do not need to get initialized beforee running the graph"
   ]
  },
  {
   "cell_type": "code",
   "execution_count": 3,
   "metadata": {},
   "outputs": [
    {
     "name": "stdout",
     "output_type": "stream",
     "text": [
      "12.0\n"
     ]
    }
   ],
   "source": [
    "testConstant = tf.constant(12, dtype = 'float32')\n",
    "with tf.Session() as constantsSession:\n",
    "    print(constantsSession.run(testConstant))\n",
    "    \n",
    "    "
   ]
  },
  {
   "cell_type": "markdown",
   "metadata": {},
   "source": [
    "Variables in TF; these need to have the model initialize them before running"
   ]
  },
  {
   "cell_type": "code",
   "execution_count": 5,
   "metadata": {},
   "outputs": [
    {
     "name": "stdout",
     "output_type": "stream",
     "text": [
      "144.0\n"
     ]
    }
   ],
   "source": [
    "testVar02 = tf.Variable(testConstant * 12)\n",
    "model = tf.global_variables_initializer()\n",
    "with tf.Session() as varSession02:\n",
    "    varSession02.run(model)\n",
    "    print(varSession02.run(testVar02))\n",
    "    "
   ]
  },
  {
   "cell_type": "code",
   "execution_count": 4,
   "metadata": {},
   "outputs": [
    {
     "name": "stdout",
     "output_type": "stream",
     "text": [
      "[[27.  7.  3. -1.]\n [31. 11. 21.  7.]]\n[[ 51.  11.   3. -13.]\n [ 59.  19.  41.  -5.]]\n"
     ]
    }
   ],
   "source": [
    "place03 = tf.placeholder(\"float\", [None, 4])\n",
    "calc03 = place03 * 2 + 3\n",
    "\n",
    "data03a = [[12, 2, 0, -2], [14, 4, 9, 2]]\n",
    "data03b = [[24, 4, 0, -8], [28, 8, 19, -4]]\n",
    "\n",
    "# run model with first data\n",
    "with tf.Session() as placeSession:\n",
    "    placeRun03a = placeSession.run(calc03, feed_dict={place03: data03a})\n",
    "    print(placeRun03a)\n",
    "    \n",
    "    placeRun03b = placeSession.run(calc03, feed_dict={place03: data03b})\n",
    "    print(placeRun03b)\n",
    "    \n",
    "    \n"
   ]
  },
  {
   "cell_type": "code",
   "execution_count": 5,
   "metadata": {},
   "outputs": [
    {
     "name": "stdout",
     "output_type": "stream",
     "text": [
      "[[27.  7.  3. -1.]\n [31. 11. 21.  7.]]\n[[ 51.  11.   3.  -5.]\n [ 59.  19.  41. -13.]]\n"
     ]
    }
   ],
   "source": [
    "place03 = tf.placeholder(\"float\", [None, 4])\n",
    "calc03 = place03 * 2 + 3\n",
    "\n",
    "data03a = [[12, 2, 0, -2], [14, 4, 9, 2]]\n",
    "data03b = [[24, 4, 0, -4], [28, 8, 19, -8]]\n",
    "\n",
    "# run model with first data\n",
    "with tf.Session() as placeSession:\n",
    "    placeRun03a = placeSession.run(calc03, feed_dict={place03: data03a})\n",
    "    print(placeRun03a)\n",
    "    \n",
    "    placeRun03b = placeSession.run(calc03, feed_dict={place03: data03b})\n",
    "    print(placeRun03b)\n",
    "    \n",
    "    \n"
   ]
  },
  {
   "cell_type": "markdown",
   "metadata": {},
   "source": [
    "Fixed tensors"
   ]
  },
  {
   "cell_type": "code",
   "execution_count": 7,
   "metadata": {},
   "outputs": [
    {
     "name": "stdout",
     "output_type": "stream",
     "text": [
      "[[0. 0. 0. 0. 0.]\n [0. 0. 0. 0. 0.]\n [0. 0. 0. 0. 0.]]\n"
     ]
    }
   ],
   "source": [
    "zeroTensor = tf.zeros([3,5])\n",
    "with tf.Session() as zeroSession:\n",
    "    print(zeroSession.run(zeroTensor))\n",
    "    "
   ]
  },
  {
   "cell_type": "code",
   "execution_count": 8,
   "metadata": {},
   "outputs": [
    {
     "name": "stdout",
     "output_type": "stream",
     "text": [
      "[[1. 1. 1. 1. 1.]\n [1. 1. 1. 1. 1.]\n [1. 1. 1. 1. 1.]]\n"
     ]
    }
   ],
   "source": [
    "oneTensor = tf.ones([3,5])\n",
    "with tf.Session() as fixedSession:\n",
    "    print(fixedSession.run(oneTensor))"
   ]
  },
  {
   "cell_type": "code",
   "execution_count": 9,
   "metadata": {},
   "outputs": [
    {
     "name": "stdout",
     "output_type": "stream",
     "text": [
      "[[17 17 17 17 17]\n [17 17 17 17 17]\n [17 17 17 17 17]]\n"
     ]
    }
   ],
   "source": [
    "fillTensor = tf.fill([3,5], 17)\n",
    "with tf.Session() as fixedSession:\n",
    "    print(fixedSession.run(fillTensor))"
   ]
  },
  {
   "cell_type": "markdown",
   "metadata": {},
   "source": []
  },
  {
   "cell_type": "code",
   "execution_count": 10,
   "metadata": {},
   "outputs": [
    {
     "name": "stdout",
     "output_type": "stream",
     "text": [
      "[[1 0 0 0 0]\n [0 2 0 0 0]\n [0 0 3 0 0]\n [0 0 0 4 0]\n [0 0 0 0 5]]\n"
     ]
    }
   ],
   "source": [
    "diagTensor = tf.diag([1, 2, 3, 4, 5])\n",
    "with tf.Session() as fixedSession:\n",
    "    print(fixedSession.run(diagTensor))"
   ]
  },
  {
   "cell_type": "code",
   "execution_count": 11,
   "metadata": {},
   "outputs": [
    {
     "name": "stdout",
     "output_type": "stream",
     "text": [
      "[ 2  4  6  8 10 12 14 16 18]\n"
     ]
    }
   ],
   "source": [
    "# range tensor with start, stop (not included) and step\n",
    "rangeTensor = tf.range(start = 2, limit = 20, delta = 2)\n",
    "with tf.Session() as fixedSession:\n",
    "    print(fixedSession.run(rangeTensor))"
   ]
  },
  {
   "cell_type": "code",
   "execution_count": 14,
   "metadata": {},
   "outputs": [
    {
     "name": "stdout",
     "output_type": "stream",
     "text": [
      "[10.    13.375 16.75  20.125 23.5   26.875 30.25  33.625 37.   ]\n"
     ]
    }
   ],
   "source": [
    "# linear spaced tensor, start, stop (both must be float_) and number of elemnnts\n",
    "linTensor = tf.linspace(10.0, 37.0, 9)\n",
    "with tf.Session() as fixedSession:\n",
    "    print(fixedSession.run(linTensor))"
   ]
  },
  {
   "cell_type": "markdown",
   "metadata": {},
   "source": []
  },
  {
   "cell_type": "code",
   "execution_count": 15,
   "metadata": {},
   "outputs": [
    {
     "name": "stdout",
     "output_type": "stream",
     "text": [
      "[[0.51746035 0.06943727 0.00645161 1.4721625  0.64677954]\n [0.27314973 0.22177267 1.8479772  0.7799077  1.6363573 ]\n [1.136267   0.28787994 1.6554317  1.4114292  0.53072286]\n [0.10410643 1.1086657  1.5920417  0.02343369 1.6746941 ]]\n"
     ]
    }
   ],
   "source": [
    "# uniform distribution\n",
    "uniformTensor = tf.random_uniform([4, 5], minval = 0, maxval = 2)\n",
    "with tf.Session() as fixedSession:\n",
    "    print(fixedSession.run(uniformTensor))"
   ]
  },
  {
   "cell_type": "code",
   "execution_count": 16,
   "metadata": {},
   "outputs": [
    {
     "name": "stdout",
     "output_type": "stream",
     "text": [
      "[[0.9614617  1.1474714  1.2464426  0.8340354  0.79446864]\n [1.1632086  0.85722303 0.84283525 1.0568315  0.86787736]\n [1.0305777  1.1227076  1.0992657  1.0925635  0.914611  ]\n [1.2162497  1.0071027  0.66978145 0.6722386  0.9820409 ]]\n"
     ]
    }
   ],
   "source": [
    " # normal distribution\n",
    " normalTensor = tf.random_normal([4, 5], mean = 1, stddev = 0.2)\n",
    " with tf.Session() as fixedSession:\n",
    "    print(fixedSession.run(normalTensor))"
   ]
  },
  {
   "cell_type": "markdown",
   "metadata": {},
   "source": [
    "Shuffling methods\n"
   ]
  },
  {
   "cell_type": "code",
   "execution_count": 18,
   "metadata": {},
   "outputs": [
    {
     "name": "stdout",
     "output_type": "stream",
     "text": [
      "[[1 0 0 0]\n [0 2 0 0]\n [0 0 3 0]\n [0 0 0 4]]\n[[0 0 3 0]\n [1 0 0 0]\n [0 2 0 0]\n [0 0 0 4]]\n"
     ]
    }
   ],
   "source": [
    "# create a diag tenso and shuffle it\n",
    "diagTensor02 = tf.diag([1, 2, 3, 4])\n",
    "with tf.Session() as fixedSession:\n",
    "    print(fixedSession.run(diagTensor02))\n",
    "    \n",
    "shuffleTensor = tf.random_shuffle(diagTensor02)\n",
    "with tf.Session() as fixedSession:\n",
    "    print(fixedSession.run(shuffleTensor))"
   ]
  },
  {
   "cell_type": "code",
   "execution_count": 22,
   "metadata": {},
   "outputs": [
    {
     "name": "stdout",
     "output_type": "stream",
     "text": [
      "[[1 0 0 0]\n [0 2 0 0]\n [0 0 3 0]\n [0 0 0 4]]\n[[0 0]\n [2 0]]\n"
     ]
    }
   ],
   "source": [
    "# create a diag tenso and crop\n",
    "cropTensor = tf.random_crop(diagTensor02, [2, 2])\n",
    "with tf.Session() as fixedSession:\n",
    "    print(fixedSession.run(diagTensor02))\n",
    "    print(fixedSession.run(cropTensor))\n",
    "    "
   ]
  },
  {
   "cell_type": "code",
   "execution_count": null,
   "metadata": {},
   "outputs": [],
   "source": []
  },
  {
   "cell_type": "code",
   "execution_count": null,
   "metadata": {},
   "outputs": [],
   "source": []
  },
  {
   "cell_type": "code",
   "execution_count": null,
   "metadata": {},
   "outputs": [],
   "source": []
  },
  {
   "cell_type": "code",
   "execution_count": null,
   "metadata": {},
   "outputs": [],
   "source": []
  }
 ],
 "metadata": {
  "kernelspec": {
   "display_name": "Python 2",
   "language": "python",
   "name": "python2"
  },
  "language_info": {
   "codemirror_mode": {
    "name": "ipython",
    "version": 2
   },
   "file_extension": ".py",
   "mimetype": "text/x-python",
   "name": "python",
   "nbconvert_exporter": "python",
   "pygments_lexer": "ipython2",
   "version": "2.7.6"
  }
 },
 "nbformat": 4,
 "nbformat_minor": 0
}
