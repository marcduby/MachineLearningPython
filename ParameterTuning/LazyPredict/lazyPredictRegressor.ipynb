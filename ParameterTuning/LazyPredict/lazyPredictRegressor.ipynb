{
 "metadata": {
  "language_info": {
   "codemirror_mode": {
    "name": "ipython",
    "version": 3
   },
   "file_extension": ".py",
   "mimetype": "text/x-python",
   "name": "python",
   "nbconvert_exporter": "python",
   "pygments_lexer": "ipython3",
   "version": "3.8.5-final"
  },
  "orig_nbformat": 2,
  "kernelspec": {
   "name": "python38564bitlazypredict38venvef751fa3d53d4a7a8d77661f9c3c9b9e",
   "display_name": "Python 3.8.5 64-bit ('lazypredict38': venv)"
  }
 },
 "nbformat": 4,
 "nbformat_minor": 2,
 "cells": [
  {
   "cell_type": "code",
   "execution_count": 2,
   "metadata": {},
   "outputs": [
    {
     "output_type": "stream",
     "name": "stdout",
     "text": [
      "using sklearn version 0.23.2\nusing pandas version 1.1.3\n"
     ]
    }
   ],
   "source": [
    "# imports\n",
    "import pandas as pd\n",
    "import sklearn \n",
    "import lazypredict\n",
    "from sklearn.model_selection import train_test_split\n",
    "from lazypredict.Supervised import LazyRegressor\n",
    "\n",
    "print(\"using sklearn version {}\".format(sklearn.__version__))\n",
    "print(\"using pandas version {}\".format(pd.__version__))\n",
    "\n"
   ]
  },
  {
   "cell_type": "code",
   "execution_count": 3,
   "metadata": {},
   "outputs": [
    {
     "output_type": "execute_result",
     "data": {
      "text/plain": [
       "   ID      y  X0 X1  X2 X3 X4 X5 X6 X8  ...  X375  X376  X377  X378  X379  \\\n",
       "0   0 130.81   k  v  at  a  d  u  j  o  ...     0     0     1     0     0   \n",
       "1   6  88.53   k  t  av  e  d  y  l  o  ...     1     0     0     0     0   \n",
       "2   7  76.26  az  w   n  c  d  x  j  x  ...     0     0     0     0     0   \n",
       "3   9  80.62  az  t   n  f  d  x  l  e  ...     0     0     0     0     0   \n",
       "4  13  78.02  az  v   n  f  d  h  d  n  ...     0     0     0     0     0   \n",
       "\n",
       "   X380  X382  X383  X384  X385  \n",
       "0     0     0     0     0     0  \n",
       "1     0     0     0     0     0  \n",
       "2     0     1     0     0     0  \n",
       "3     0     0     0     0     0  \n",
       "4     0     0     0     0     0  \n",
       "\n",
       "[5 rows x 378 columns]"
      ],
      "text/html": "<div>\n<style scoped>\n    .dataframe tbody tr th:only-of-type {\n        vertical-align: middle;\n    }\n\n    .dataframe tbody tr th {\n        vertical-align: top;\n    }\n\n    .dataframe thead th {\n        text-align: right;\n    }\n</style>\n<table border=\"1\" class=\"dataframe\">\n  <thead>\n    <tr style=\"text-align: right;\">\n      <th></th>\n      <th>ID</th>\n      <th>y</th>\n      <th>X0</th>\n      <th>X1</th>\n      <th>X2</th>\n      <th>X3</th>\n      <th>X4</th>\n      <th>X5</th>\n      <th>X6</th>\n      <th>X8</th>\n      <th>...</th>\n      <th>X375</th>\n      <th>X376</th>\n      <th>X377</th>\n      <th>X378</th>\n      <th>X379</th>\n      <th>X380</th>\n      <th>X382</th>\n      <th>X383</th>\n      <th>X384</th>\n      <th>X385</th>\n    </tr>\n  </thead>\n  <tbody>\n    <tr>\n      <th>0</th>\n      <td>0</td>\n      <td>130.81</td>\n      <td>k</td>\n      <td>v</td>\n      <td>at</td>\n      <td>a</td>\n      <td>d</td>\n      <td>u</td>\n      <td>j</td>\n      <td>o</td>\n      <td>...</td>\n      <td>0</td>\n      <td>0</td>\n      <td>1</td>\n      <td>0</td>\n      <td>0</td>\n      <td>0</td>\n      <td>0</td>\n      <td>0</td>\n      <td>0</td>\n      <td>0</td>\n    </tr>\n    <tr>\n      <th>1</th>\n      <td>6</td>\n      <td>88.53</td>\n      <td>k</td>\n      <td>t</td>\n      <td>av</td>\n      <td>e</td>\n      <td>d</td>\n      <td>y</td>\n      <td>l</td>\n      <td>o</td>\n      <td>...</td>\n      <td>1</td>\n      <td>0</td>\n      <td>0</td>\n      <td>0</td>\n      <td>0</td>\n      <td>0</td>\n      <td>0</td>\n      <td>0</td>\n      <td>0</td>\n      <td>0</td>\n    </tr>\n    <tr>\n      <th>2</th>\n      <td>7</td>\n      <td>76.26</td>\n      <td>az</td>\n      <td>w</td>\n      <td>n</td>\n      <td>c</td>\n      <td>d</td>\n      <td>x</td>\n      <td>j</td>\n      <td>x</td>\n      <td>...</td>\n      <td>0</td>\n      <td>0</td>\n      <td>0</td>\n      <td>0</td>\n      <td>0</td>\n      <td>0</td>\n      <td>1</td>\n      <td>0</td>\n      <td>0</td>\n      <td>0</td>\n    </tr>\n    <tr>\n      <th>3</th>\n      <td>9</td>\n      <td>80.62</td>\n      <td>az</td>\n      <td>t</td>\n      <td>n</td>\n      <td>f</td>\n      <td>d</td>\n      <td>x</td>\n      <td>l</td>\n      <td>e</td>\n      <td>...</td>\n      <td>0</td>\n      <td>0</td>\n      <td>0</td>\n      <td>0</td>\n      <td>0</td>\n      <td>0</td>\n      <td>0</td>\n      <td>0</td>\n      <td>0</td>\n      <td>0</td>\n    </tr>\n    <tr>\n      <th>4</th>\n      <td>13</td>\n      <td>78.02</td>\n      <td>az</td>\n      <td>v</td>\n      <td>n</td>\n      <td>f</td>\n      <td>d</td>\n      <td>h</td>\n      <td>d</td>\n      <td>n</td>\n      <td>...</td>\n      <td>0</td>\n      <td>0</td>\n      <td>0</td>\n      <td>0</td>\n      <td>0</td>\n      <td>0</td>\n      <td>0</td>\n      <td>0</td>\n      <td>0</td>\n      <td>0</td>\n    </tr>\n  </tbody>\n</table>\n<p>5 rows × 378 columns</p>\n</div>"
     },
     "metadata": {},
     "execution_count": 3
    }
   ],
   "source": [
    "# load the data\n",
    "mercedes_df = pd.read_csv(\"/home/javaprog/Data/Personal/Kaggle/Mercedes/train.csv\")\n",
    "mercedes_df.head()"
   ]
  },
  {
   "cell_type": "code",
   "execution_count": 4,
   "metadata": {},
   "outputs": [
    {
     "output_type": "stream",
     "name": "stdout",
     "text": [
      "the mercedes data has X shape (4209, 377) and y shape (4209,)\n"
     ]
    }
   ],
   "source": [
    "# split data into x/y\n",
    "X_all = mercedes_df.drop(['y'], axis=1)\n",
    "y_all = mercedes_df['y']\n",
    "\n",
    "print(\"the mercedes data has X shape {} and y shape {}\".format(X_all.shape, y_all.shape))\n"
   ]
  },
  {
   "cell_type": "code",
   "execution_count": 5,
   "metadata": {},
   "outputs": [
    {
     "output_type": "stream",
     "name": "stdout",
     "text": [
      "the train data has X shape (3367, 377) and y shape (3367,)\nthe test data has X shape (842, 377) and y shape (842,)\n"
     ]
    }
   ],
   "source": [
    "# split into test train sets\n",
    "X_train, X_test, y_train, y_test = train_test_split(X_all, y_all, test_size=0.2, random_state=0)\n",
    "\n",
    "print(\"the train data has X shape {} and y shape {}\".format(X_train.shape, y_train.shape))\n",
    "print(\"the test data has X shape {} and y shape {}\".format(X_test.shape, y_test.shape))\n"
   ]
  },
  {
   "cell_type": "code",
   "execution_count": 6,
   "metadata": {},
   "outputs": [
    {
     "output_type": "stream",
     "name": "stderr",
     "text": [
      "  2%|▏         | 1/43 [00:01<00:53,  1.28s/it]{'Model': 'AdaBoostRegressor', 'R-Squared': 0.06335605457620797, 'RMSE': 13.175786684795746, 'Time taken': 1.279679536819458}\n",
      "  5%|▍         | 2/43 [00:02<00:52,  1.28s/it]{'Model': 'BaggingRegressor', 'R-Squared': 0.38247456909942834, 'RMSE': 10.698347826526284, 'Time taken': 1.2812154293060303}\n",
      "  7%|▋         | 3/43 [00:02<00:41,  1.03s/it]{'Model': 'BayesianRidge', 'R-Squared': 0.4574796503956087, 'RMSE': 10.027607036609089, 'Time taken': 0.4374380111694336}\n",
      "  9%|▉         | 4/43 [00:03<00:31,  1.24it/s]{'Model': 'DecisionTreeRegressor', 'R-Squared': 0.09131627158549593, 'RMSE': 12.97763829533192, 'Time taken': 0.28854823112487793}\n",
      "{'Model': 'DummyRegressor', 'R-Squared': -0.004259794569127839, 'RMSE': 13.643076929474796, 'Time taken': 0.06364321708679199}\n",
      " 14%|█▍        | 6/43 [00:03<00:22,  1.67it/s]{'Model': 'ElasticNet', 'R-Squared': 0.4370341953947431, 'RMSE': 10.214810116421704, 'Time taken': 0.1705002784729004}\n",
      " 16%|█▋        | 7/43 [00:06<00:48,  1.33s/it]{'Model': 'ElasticNetCV', 'R-Squared': 0.46010072000977364, 'RMSE': 10.003354602329994, 'Time taken': 3.0472540855407715}\n",
      " 19%|█▊        | 8/43 [00:06<00:35,  1.02s/it]{'Model': 'ExtraTreeRegressor', 'R-Squared': 0.1287650844191337, 'RMSE': 12.707406587705975, 'Time taken': 0.2847104072570801}\n",
      " 23%|██▎       | 10/43 [00:23<02:11,  4.00s/it]{'Model': 'ExtraTreesRegressor', 'R-Squared': 0.2926227493091802, 'RMSE': 11.450246449752573, 'Time taken': 16.48203730583191}\n",
      "{'Model': 'GammaRegressor', 'R-Squared': 0.43758978166314455, 'RMSE': 10.209768416656042, 'Time taken': 0.11451125144958496}\n",
      " 28%|██▊       | 12/43 [00:31<01:51,  3.58s/it]{'Model': 'GaussianProcessRegressor', 'R-Squared': -376.2056509086057, 'RMSE': 264.4103098437544, 'Time taken': 7.529075860977173}\n",
      "{'Model': 'GeneralizedLinearRegressor', 'R-Squared': 0.4376654799144458, 'RMSE': 10.209081295762845, 'Time taken': 0.1450197696685791}\n",
      " 30%|███       | 13/43 [00:34<01:49,  3.64s/it]{'Model': 'GradientBoostingRegressor', 'R-Squared': 0.47581199569105603, 'RMSE': 9.856729289963882, 'Time taken': 3.7665693759918213}\n",
      " 33%|███▎      | 14/43 [00:37<01:39,  3.43s/it]{'Model': 'HistGradientBoostingRegressor', 'R-Squared': 0.454386829352034, 'RMSE': 10.056149301199849, 'Time taken': 2.9412503242492676}\n",
      " 35%|███▍      | 15/43 [00:39<01:23,  2.99s/it]{'Model': 'HuberRegressor', 'R-Squared': 0.4408967841888781, 'RMSE': 10.179707165597879, 'Time taken': 1.9690968990325928}\n",
      " 37%|███▋      | 16/43 [00:42<01:18,  2.93s/it]{'Model': 'KNeighborsRegressor', 'R-Squared': 0.3348841715516119, 'RMSE': 11.102938432830761, 'Time taken': 2.77067494392395}\n",
      " 40%|███▉      | 17/43 [00:43<00:57,  2.22s/it]{'Model': 'KernelRidge', 'R-Squared': 0.4413828798978616, 'RMSE': 10.175280981093378, 'Time taken': 0.5786550045013428}\n",
      " 42%|████▏     | 18/43 [00:43<00:42,  1.70s/it]{'Model': 'Lars', 'R-Squared': -1.6209306219904976e+30, 'RMSE': 1.7332910854095152e+16, 'Time taken': 0.4772789478302002}\n",
      " 44%|████▍     | 19/43 [00:45<00:44,  1.84s/it]{'Model': 'LarsCV', 'R-Squared': -0.004259794569127839, 'RMSE': 13.643076929474796, 'Time taken': 2.171029567718506}\n",
      " 47%|████▋     | 20/43 [00:46<00:31,  1.36s/it]{'Model': 'Lasso', 'R-Squared': 0.4357963670817582, 'RMSE': 10.226033922834182, 'Time taken': 0.22739839553833008}\n",
      " 51%|█████     | 22/43 [00:52<00:41,  1.98s/it]{'Model': 'LassoCV', 'R-Squared': 0.45953482171558635, 'RMSE': 10.008595763896198, 'Time taken': 6.035418748855591}\n",
      "{'Model': 'LassoLars', 'R-Squared': -0.004259794569127839, 'RMSE': 13.643076929474796, 'Time taken': 0.1580047607421875}\n",
      " 56%|█████▌    | 24/43 [00:52<00:20,  1.09s/it]{'Model': 'LassoLarsCV', 'R-Squared': 0.45896329594531937, 'RMSE': 10.013886261050095, 'Time taken': 0.3929924964904785}\n",
      "{'Model': 'LassoLarsIC', 'R-Squared': 0.4587978103238133, 'RMSE': 10.015417605856367, 'Time taken': 0.13336849212646484}\n",
      " 58%|█████▊    | 25/43 [00:53<00:15,  1.19it/s]{'Model': 'LinearRegression', 'R-Squared': -4.041798041133668e+22, 'RMSE': 2737011325520.8887, 'Time taken': 0.23933935165405273}\n",
      " 60%|██████    | 26/43 [00:55<00:20,  1.20s/it]{'Model': 'LinearSVR', 'R-Squared': 0.4330288451333929, 'RMSE': 10.25108352497946, 'Time taken': 2.041945457458496}\n",
      " 63%|██████▎   | 27/43 [01:03<00:52,  3.29s/it]{'Model': 'MLPRegressor', 'R-Squared': 0.31210253505354035, 'RMSE': 11.291487145136909, 'Time taken': 8.169346809387207}\n",
      " 65%|██████▌   | 28/43 [01:10<01:06,  4.45s/it]{'Model': 'NuSVR', 'R-Squared': 0.36276331540694695, 'RMSE': 10.867750881795903, 'Time taken': 7.165654897689819}\n",
      "{'Model': 'OrthogonalMatchingPursuit', 'R-Squared': 0.4633816391313592, 'RMSE': 9.972913544121965, 'Time taken': 0.09616589546203613}\n",
      " 72%|███████▏  | 31/43 [01:11<00:27,  2.30s/it]{'Model': 'OrthogonalMatchingPursuitCV', 'R-Squared': 0.4670121252865751, 'RMSE': 9.939120467003402, 'Time taken': 0.4394099712371826}\n",
      "{'Model': 'PassiveAggressiveRegressor', 'R-Squared': 0.07382909415565997, 'RMSE': 13.101917397814276, 'Time taken': 0.19008564949035645}\n",
      " 74%|███████▍  | 32/43 [01:11<00:18,  1.70s/it]{'Model': 'PoissonRegressor', 'R-Squared': 0.4539715459037793, 'RMSE': 10.059975599971978, 'Time taken': 0.29706287384033203}\n",
      " 77%|███████▋  | 33/43 [01:21<00:40,  4.10s/it]{'Model': 'RANSACRegressor', 'R-Squared': -6.551360242495618e+24, 'RMSE': 34846168341398.805, 'Time taken': 9.704868793487549}\n",
      " 81%|████████▏ | 35/43 [01:32<00:34,  4.36s/it]{'Model': 'RandomForestRegressor', 'R-Squared': 0.4289191835222117, 'RMSE': 10.288168672928949, 'Time taken': 11.030375719070435}\n",
      "{'Model': 'Ridge', 'R-Squared': 0.4379327881566689, 'RMSE': 10.206654540990796, 'Time taken': 0.10500335693359375}\n",
      " 86%|████████▌ | 37/43 [01:32<00:13,  2.28s/it]{'Model': 'RidgeCV', 'R-Squared': 0.44781026443315985, 'RMSE': 10.116573814892002, 'Time taken': 0.4575679302215576}\n",
      "{'Model': 'SGDRegressor', 'R-Squared': -5.1750995881578906e+19, 'RMSE': 97937417003.83997, 'Time taken': 0.1501319408416748}\n",
      " 88%|████████▊ | 38/43 [01:43<00:23,  4.80s/it]{'Model': 'SVR', 'R-Squared': 0.3629385736016535, 'RMSE': 10.866256308881944, 'Time taken': 10.67246127128601}\n",
      " 95%|█████████▌| 41/43 [01:43<00:04,  2.41s/it]{'Model': 'TransformedTargetRegressor', 'R-Squared': -4.041798041133668e+22, 'RMSE': 2737011325520.8887, 'Time taken': 0.20238614082336426}\n",
      "{'Model': 'TweedieRegressor', 'R-Squared': 0.4376654799144458, 'RMSE': 10.209081295762845, 'Time taken': 0.13683295249938965}\n",
      " 98%|█████████▊| 42/43 [01:45<00:02,  2.11s/it]{'Model': 'XGBRegressor', 'R-Squared': 0.4289242773810513, 'RMSE': 10.28812278923413, 'Time taken': 1.4123339653015137}\n",
      "100%|██████████| 43/43 [01:45<00:00,  2.46s/it]{'Model': 'LGBMRegressor', 'R-Squared': 0.45067869716872433, 'RMSE': 10.090263569202845, 'Time taken': 0.2535569667816162}\n",
      "\n"
     ]
    }
   ],
   "source": [
    "# build the lazy regressor\n",
    "lazy_regressor = LazyRegressor(verbose=1, ignore_warnings=True, custom_metric=None, predictions=True)\n",
    "models, predictions = lazy_regressor.fit(X_train, X_test, y_train, y_test)\n"
   ]
  },
  {
   "cell_type": "code",
   "execution_count": 7,
   "metadata": {},
   "outputs": [
    {
     "output_type": "stream",
     "name": "stdout",
     "text": [
      "got models of type <class 'pandas.core.frame.DataFrame'> and shape (42, 3)\ngot predictions of type <class 'pandas.core.frame.DataFrame'> and shape (842, 42)\n"
     ]
    }
   ],
   "source": [
    "# print what we got\n",
    "print(\"got models of type {} and shape {}\".format(type(models), models.shape))\n",
    "print(\"got predictions of type {} and shape {}\".format(type(predictions), predictions.shape))\n"
   ]
  },
  {
   "cell_type": "code",
   "execution_count": 8,
   "metadata": {},
   "outputs": [
    {
     "output_type": "stream",
     "name": "stdout",
     "text": [
      "<class 'pandas.core.frame.DataFrame'>\nIndex: 42 entries, GradientBoostingRegressor to Lars\nData columns (total 3 columns):\n #   Column      Non-Null Count  Dtype  \n---  ------      --------------  -----  \n 0   R-Squared   42 non-null     float64\n 1   RMSE        42 non-null     float64\n 2   Time Taken  42 non-null     float64\ndtypes: float64(3)\nmemory usage: 1.3+ KB\n"
     ]
    }
   ],
   "source": [
    "# show the models\n",
    "models.info(40)"
   ]
  },
  {
   "cell_type": "code",
   "execution_count": 9,
   "metadata": {},
   "outputs": [
    {
     "output_type": "execute_result",
     "data": {
      "text/plain": [
       "                                                        R-Squared  \\\n",
       "Model                                                               \n",
       "GradientBoostingRegressor                                    0.48   \n",
       "OrthogonalMatchingPursuitCV                                  0.47   \n",
       "OrthogonalMatchingPursuit                                    0.46   \n",
       "ElasticNetCV                                                 0.46   \n",
       "LassoCV                                                      0.46   \n",
       "LassoLarsCV                                                  0.46   \n",
       "LassoLarsIC                                                  0.46   \n",
       "BayesianRidge                                                0.46   \n",
       "HistGradientBoostingRegressor                                0.45   \n",
       "PoissonRegressor                                             0.45   \n",
       "LGBMRegressor                                                0.45   \n",
       "RidgeCV                                                      0.45   \n",
       "KernelRidge                                                  0.44   \n",
       "HuberRegressor                                               0.44   \n",
       "Ridge                                                        0.44   \n",
       "TweedieRegressor                                             0.44   \n",
       "GeneralizedLinearRegressor                                   0.44   \n",
       "GammaRegressor                                               0.44   \n",
       "ElasticNet                                                   0.44   \n",
       "Lasso                                                        0.44   \n",
       "LinearSVR                                                    0.43   \n",
       "XGBRegressor                                                 0.43   \n",
       "RandomForestRegressor                                        0.43   \n",
       "BaggingRegressor                                             0.38   \n",
       "SVR                                                          0.36   \n",
       "NuSVR                                                        0.36   \n",
       "KNeighborsRegressor                                          0.33   \n",
       "MLPRegressor                                                 0.31   \n",
       "ExtraTreesRegressor                                          0.29   \n",
       "ExtraTreeRegressor                                           0.13   \n",
       "DecisionTreeRegressor                                        0.09   \n",
       "PassiveAggressiveRegressor                                   0.07   \n",
       "AdaBoostRegressor                                            0.06   \n",
       "LarsCV                                                      -0.00   \n",
       "DummyRegressor                                              -0.00   \n",
       "LassoLars                                                   -0.00   \n",
       "GaussianProcessRegressor                                  -376.21   \n",
       "SGDRegressor                             -51750995881578905600.00   \n",
       "LinearRegression                      -40417980411336680538112.00   \n",
       "TransformedTargetRegressor            -40417980411336680538112.00   \n",
       "RANSACRegressor                     -6551360242495618411397120.00   \n",
       "Lars                          -1620930621990497634094908702720.00   \n",
       "\n",
       "                                              RMSE  Time Taken  \n",
       "Model                                                           \n",
       "GradientBoostingRegressor                     9.86        3.77  \n",
       "OrthogonalMatchingPursuitCV                   9.94        0.44  \n",
       "OrthogonalMatchingPursuit                     9.97        0.10  \n",
       "ElasticNetCV                                 10.00        3.05  \n",
       "LassoCV                                      10.01        6.04  \n",
       "LassoLarsCV                                  10.01        0.39  \n",
       "LassoLarsIC                                  10.02        0.13  \n",
       "BayesianRidge                                10.03        0.44  \n",
       "HistGradientBoostingRegressor                10.06        2.94  \n",
       "PoissonRegressor                             10.06        0.30  \n",
       "LGBMRegressor                                10.09        0.25  \n",
       "RidgeCV                                      10.12        0.46  \n",
       "KernelRidge                                  10.18        0.58  \n",
       "HuberRegressor                               10.18        1.97  \n",
       "Ridge                                        10.21        0.11  \n",
       "TweedieRegressor                             10.21        0.14  \n",
       "GeneralizedLinearRegressor                   10.21        0.15  \n",
       "GammaRegressor                               10.21        0.11  \n",
       "ElasticNet                                   10.21        0.17  \n",
       "Lasso                                        10.23        0.23  \n",
       "LinearSVR                                    10.25        2.04  \n",
       "XGBRegressor                                 10.29        1.41  \n",
       "RandomForestRegressor                        10.29       11.03  \n",
       "BaggingRegressor                             10.70        1.28  \n",
       "SVR                                          10.87       10.67  \n",
       "NuSVR                                        10.87        7.17  \n",
       "KNeighborsRegressor                          11.10        2.77  \n",
       "MLPRegressor                                 11.29        8.17  \n",
       "ExtraTreesRegressor                          11.45       16.48  \n",
       "ExtraTreeRegressor                           12.71        0.28  \n",
       "DecisionTreeRegressor                        12.98        0.29  \n",
       "PassiveAggressiveRegressor                   13.10        0.19  \n",
       "AdaBoostRegressor                            13.18        1.28  \n",
       "LarsCV                                       13.64        2.17  \n",
       "DummyRegressor                               13.64        0.06  \n",
       "LassoLars                                    13.64        0.16  \n",
       "GaussianProcessRegressor                    264.41        7.53  \n",
       "SGDRegressor                        97937417003.84        0.15  \n",
       "LinearRegression                  2737011325520.89        0.24  \n",
       "TransformedTargetRegressor        2737011325520.89        0.20  \n",
       "RANSACRegressor                  34846168341398.80        9.70  \n",
       "Lars                          17332910854095152.00        0.48  "
      ],
      "text/html": "<div>\n<style scoped>\n    .dataframe tbody tr th:only-of-type {\n        vertical-align: middle;\n    }\n\n    .dataframe tbody tr th {\n        vertical-align: top;\n    }\n\n    .dataframe thead th {\n        text-align: right;\n    }\n</style>\n<table border=\"1\" class=\"dataframe\">\n  <thead>\n    <tr style=\"text-align: right;\">\n      <th></th>\n      <th>R-Squared</th>\n      <th>RMSE</th>\n      <th>Time Taken</th>\n    </tr>\n    <tr>\n      <th>Model</th>\n      <th></th>\n      <th></th>\n      <th></th>\n    </tr>\n  </thead>\n  <tbody>\n    <tr>\n      <th>GradientBoostingRegressor</th>\n      <td>0.48</td>\n      <td>9.86</td>\n      <td>3.77</td>\n    </tr>\n    <tr>\n      <th>OrthogonalMatchingPursuitCV</th>\n      <td>0.47</td>\n      <td>9.94</td>\n      <td>0.44</td>\n    </tr>\n    <tr>\n      <th>OrthogonalMatchingPursuit</th>\n      <td>0.46</td>\n      <td>9.97</td>\n      <td>0.10</td>\n    </tr>\n    <tr>\n      <th>ElasticNetCV</th>\n      <td>0.46</td>\n      <td>10.00</td>\n      <td>3.05</td>\n    </tr>\n    <tr>\n      <th>LassoCV</th>\n      <td>0.46</td>\n      <td>10.01</td>\n      <td>6.04</td>\n    </tr>\n    <tr>\n      <th>LassoLarsCV</th>\n      <td>0.46</td>\n      <td>10.01</td>\n      <td>0.39</td>\n    </tr>\n    <tr>\n      <th>LassoLarsIC</th>\n      <td>0.46</td>\n      <td>10.02</td>\n      <td>0.13</td>\n    </tr>\n    <tr>\n      <th>BayesianRidge</th>\n      <td>0.46</td>\n      <td>10.03</td>\n      <td>0.44</td>\n    </tr>\n    <tr>\n      <th>HistGradientBoostingRegressor</th>\n      <td>0.45</td>\n      <td>10.06</td>\n      <td>2.94</td>\n    </tr>\n    <tr>\n      <th>PoissonRegressor</th>\n      <td>0.45</td>\n      <td>10.06</td>\n      <td>0.30</td>\n    </tr>\n    <tr>\n      <th>LGBMRegressor</th>\n      <td>0.45</td>\n      <td>10.09</td>\n      <td>0.25</td>\n    </tr>\n    <tr>\n      <th>RidgeCV</th>\n      <td>0.45</td>\n      <td>10.12</td>\n      <td>0.46</td>\n    </tr>\n    <tr>\n      <th>KernelRidge</th>\n      <td>0.44</td>\n      <td>10.18</td>\n      <td>0.58</td>\n    </tr>\n    <tr>\n      <th>HuberRegressor</th>\n      <td>0.44</td>\n      <td>10.18</td>\n      <td>1.97</td>\n    </tr>\n    <tr>\n      <th>Ridge</th>\n      <td>0.44</td>\n      <td>10.21</td>\n      <td>0.11</td>\n    </tr>\n    <tr>\n      <th>TweedieRegressor</th>\n      <td>0.44</td>\n      <td>10.21</td>\n      <td>0.14</td>\n    </tr>\n    <tr>\n      <th>GeneralizedLinearRegressor</th>\n      <td>0.44</td>\n      <td>10.21</td>\n      <td>0.15</td>\n    </tr>\n    <tr>\n      <th>GammaRegressor</th>\n      <td>0.44</td>\n      <td>10.21</td>\n      <td>0.11</td>\n    </tr>\n    <tr>\n      <th>ElasticNet</th>\n      <td>0.44</td>\n      <td>10.21</td>\n      <td>0.17</td>\n    </tr>\n    <tr>\n      <th>Lasso</th>\n      <td>0.44</td>\n      <td>10.23</td>\n      <td>0.23</td>\n    </tr>\n    <tr>\n      <th>LinearSVR</th>\n      <td>0.43</td>\n      <td>10.25</td>\n      <td>2.04</td>\n    </tr>\n    <tr>\n      <th>XGBRegressor</th>\n      <td>0.43</td>\n      <td>10.29</td>\n      <td>1.41</td>\n    </tr>\n    <tr>\n      <th>RandomForestRegressor</th>\n      <td>0.43</td>\n      <td>10.29</td>\n      <td>11.03</td>\n    </tr>\n    <tr>\n      <th>BaggingRegressor</th>\n      <td>0.38</td>\n      <td>10.70</td>\n      <td>1.28</td>\n    </tr>\n    <tr>\n      <th>SVR</th>\n      <td>0.36</td>\n      <td>10.87</td>\n      <td>10.67</td>\n    </tr>\n    <tr>\n      <th>NuSVR</th>\n      <td>0.36</td>\n      <td>10.87</td>\n      <td>7.17</td>\n    </tr>\n    <tr>\n      <th>KNeighborsRegressor</th>\n      <td>0.33</td>\n      <td>11.10</td>\n      <td>2.77</td>\n    </tr>\n    <tr>\n      <th>MLPRegressor</th>\n      <td>0.31</td>\n      <td>11.29</td>\n      <td>8.17</td>\n    </tr>\n    <tr>\n      <th>ExtraTreesRegressor</th>\n      <td>0.29</td>\n      <td>11.45</td>\n      <td>16.48</td>\n    </tr>\n    <tr>\n      <th>ExtraTreeRegressor</th>\n      <td>0.13</td>\n      <td>12.71</td>\n      <td>0.28</td>\n    </tr>\n    <tr>\n      <th>DecisionTreeRegressor</th>\n      <td>0.09</td>\n      <td>12.98</td>\n      <td>0.29</td>\n    </tr>\n    <tr>\n      <th>PassiveAggressiveRegressor</th>\n      <td>0.07</td>\n      <td>13.10</td>\n      <td>0.19</td>\n    </tr>\n    <tr>\n      <th>AdaBoostRegressor</th>\n      <td>0.06</td>\n      <td>13.18</td>\n      <td>1.28</td>\n    </tr>\n    <tr>\n      <th>LarsCV</th>\n      <td>-0.00</td>\n      <td>13.64</td>\n      <td>2.17</td>\n    </tr>\n    <tr>\n      <th>DummyRegressor</th>\n      <td>-0.00</td>\n      <td>13.64</td>\n      <td>0.06</td>\n    </tr>\n    <tr>\n      <th>LassoLars</th>\n      <td>-0.00</td>\n      <td>13.64</td>\n      <td>0.16</td>\n    </tr>\n    <tr>\n      <th>GaussianProcessRegressor</th>\n      <td>-376.21</td>\n      <td>264.41</td>\n      <td>7.53</td>\n    </tr>\n    <tr>\n      <th>SGDRegressor</th>\n      <td>-51750995881578905600.00</td>\n      <td>97937417003.84</td>\n      <td>0.15</td>\n    </tr>\n    <tr>\n      <th>LinearRegression</th>\n      <td>-40417980411336680538112.00</td>\n      <td>2737011325520.89</td>\n      <td>0.24</td>\n    </tr>\n    <tr>\n      <th>TransformedTargetRegressor</th>\n      <td>-40417980411336680538112.00</td>\n      <td>2737011325520.89</td>\n      <td>0.20</td>\n    </tr>\n    <tr>\n      <th>RANSACRegressor</th>\n      <td>-6551360242495618411397120.00</td>\n      <td>34846168341398.80</td>\n      <td>9.70</td>\n    </tr>\n    <tr>\n      <th>Lars</th>\n      <td>-1620930621990497634094908702720.00</td>\n      <td>17332910854095152.00</td>\n      <td>0.48</td>\n    </tr>\n  </tbody>\n</table>\n</div>"
     },
     "metadata": {},
     "execution_count": 9
    }
   ],
   "source": [
    "# show the models data\n",
    "models.head(45)"
   ]
  },
  {
   "cell_type": "code",
   "execution_count": 10,
   "metadata": {},
   "outputs": [
    {
     "output_type": "stream",
     "name": "stdout",
     "text": [
      "<class 'pandas.core.frame.DataFrame'>\nRangeIndex: 842 entries, 0 to 841\nData columns (total 42 columns):\n #   Column                         Non-Null Count  Dtype  \n---  ------                         --------------  -----  \n 0   AdaBoostRegressor              842 non-null    float64\n 1   BaggingRegressor               842 non-null    float64\n 2   BayesianRidge                  842 non-null    float64\n 3   DecisionTreeRegressor          842 non-null    float64\n 4   DummyRegressor                 842 non-null    float64\n 5   ElasticNet                     842 non-null    float64\n 6   ElasticNetCV                   842 non-null    float64\n 7   ExtraTreeRegressor             842 non-null    float64\n 8   ExtraTreesRegressor            842 non-null    float64\n 9   GammaRegressor                 842 non-null    float64\n 10  GaussianProcessRegressor       842 non-null    float64\n 11  GeneralizedLinearRegressor     842 non-null    float64\n 12  GradientBoostingRegressor      842 non-null    float64\n 13  HistGradientBoostingRegressor  842 non-null    float64\n 14  HuberRegressor                 842 non-null    float64\n 15  KNeighborsRegressor            842 non-null    float64\n 16  KernelRidge                    842 non-null    float64\n 17  Lars                           842 non-null    float64\n 18  LarsCV                         842 non-null    float64\n 19  Lasso                          842 non-null    float64\n 20  LassoCV                        842 non-null    float64\n 21  LassoLars                      842 non-null    float64\n 22  LassoLarsCV                    842 non-null    float64\n 23  LassoLarsIC                    842 non-null    float64\n 24  LinearRegression               842 non-null    float64\n 25  LinearSVR                      842 non-null    float64\n 26  MLPRegressor                   842 non-null    float64\n 27  NuSVR                          842 non-null    float64\n 28  OrthogonalMatchingPursuit      842 non-null    float64\n 29  OrthogonalMatchingPursuitCV    842 non-null    float64\n 30  PassiveAggressiveRegressor     842 non-null    float64\n 31  PoissonRegressor               842 non-null    float64\n 32  RANSACRegressor                842 non-null    float64\n 33  RandomForestRegressor          842 non-null    float64\n 34  Ridge                          842 non-null    float64\n 35  RidgeCV                        842 non-null    float64\n 36  SGDRegressor                   842 non-null    float64\n 37  SVR                            842 non-null    float64\n 38  TransformedTargetRegressor     842 non-null    float64\n 39  TweedieRegressor               842 non-null    float64\n 40  XGBRegressor                   842 non-null    float32\n 41  LGBMRegressor                  842 non-null    float64\ndtypes: float32(1), float64(41)\nmemory usage: 273.1 KB\n"
     ]
    }
   ],
   "source": [
    "# show the predictions\n",
    "predictions.info()"
   ]
  },
  {
   "cell_type": "code",
   "execution_count": null,
   "metadata": {},
   "outputs": [],
   "source": []
  }
 ]
}