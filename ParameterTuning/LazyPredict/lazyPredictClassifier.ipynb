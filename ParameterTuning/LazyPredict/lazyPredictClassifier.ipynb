{
 "metadata": {
  "language_info": {
   "codemirror_mode": {
    "name": "ipython",
    "version": 3
   },
   "file_extension": ".py",
   "mimetype": "text/x-python",
   "name": "python",
   "nbconvert_exporter": "python",
   "pygments_lexer": "ipython3",
   "version": "3.8.5-final"
  },
  "orig_nbformat": 2,
  "kernelspec": {
   "name": "python38564bitlazypredict38venvef751fa3d53d4a7a8d77661f9c3c9b9e",
   "display_name": "Python 3.8.5 64-bit ('lazypredict38': venv)"
  }
 },
 "nbformat": 4,
 "nbformat_minor": 2,
 "cells": [
  {
   "cell_type": "code",
   "execution_count": 3,
   "metadata": {},
   "outputs": [
    {
     "output_type": "stream",
     "name": "stdout",
     "text": [
      "using sklearn version 0.23.2\nusing pandas version 1.1.3\n"
     ]
    }
   ],
   "source": [
    "# imports\n",
    "import pandas as pd\n",
    "import sklearn \n",
    "from sklearn.datasets import load_wine\n",
    "import lazypredict\n",
    "from sklearn.model_selection import train_test_split\n",
    "from lazypredict.Supervised import LazyClassifier\n",
    "\n",
    "print(\"using sklearn version {}\".format(sklearn.__version__))\n",
    "print(\"using pandas version {}\".format(pd.__version__))"
   ]
  },
  {
   "cell_type": "code",
   "execution_count": 4,
   "metadata": {},
   "outputs": [
    {
     "output_type": "stream",
     "name": "stdout",
     "text": [
      "got wine data of shape (178, 13) and target data of shape (178,)\n"
     ]
    }
   ],
   "source": [
    "# get the data\n",
    "wine_data = load_wine()\n",
    "X = wine_data.data\n",
    "y = wine_data.target\n",
    "\n",
    "print(\"got wine data of shape {} and target data of shape {}\".format(X.shape, y.shape))"
   ]
  },
  {
   "cell_type": "code",
   "execution_count": 7,
   "metadata": {},
   "outputs": [
    {
     "output_type": "stream",
     "name": "stdout",
     "text": [
      "the train data is of type <class 'numpy.ndarray'> and shape (142, 13)\nthe test data is of type <class 'numpy.ndarray'> and shape (36, 13)\n"
     ]
    }
   ],
   "source": [
    "# get the train and test data\n",
    "X_train, X_test, y_train, y_test = train_test_split(X, y, test_size=.2, random_state=0)\n",
    "\n",
    "print(\"the train data is of type {} and shape {}\".format(type(X_train), X_train.shape))\n",
    "print(\"the test data is of type {} and shape {}\".format(type(X_test), X_test.shape))\n"
   ]
  },
  {
   "cell_type": "code",
   "execution_count": 8,
   "metadata": {},
   "outputs": [
    {
     "output_type": "stream",
     "name": "stderr",
     "text": [
      " 33%|███▎      | 10/30 [00:00<00:00, 23.12it/s]{'Model': 'AdaBoostClassifier', 'Accuracy': 0.8333333333333334, 'Balanced Accuracy': 0.875, 'ROC AUC': None, 'F1 Score': 0.8256928256928256, 'Time taken': 0.07925558090209961}\n",
      "{'Model': 'BaggingClassifier', 'Accuracy': 0.9722222222222222, 'Balanced Accuracy': 0.9791666666666666, 'ROC AUC': None, 'F1 Score': 0.9728425696167632, 'Time taken': 0.025156497955322266}\n",
      "{'Model': 'BernoulliNB', 'Accuracy': 0.8888888888888888, 'Balanced Accuracy': 0.9136904761904763, 'ROC AUC': None, 'F1 Score': 0.8891534391534393, 'Time taken': 0.009460926055908203}\n",
      "{'Model': 'CalibratedClassifierCV', 'Accuracy': 1.0, 'Balanced Accuracy': 1.0, 'ROC AUC': None, 'F1 Score': 1.0, 'Time taken': 0.03567194938659668}\n",
      "{'Model': 'CheckingClassifier', 'Accuracy': 0.3888888888888889, 'Balanced Accuracy': 0.3333333333333333, 'ROC AUC': None, 'F1 Score': 0.2177777777777778, 'Time taken': 0.007384538650512695}\n",
      "{'Model': 'DecisionTreeClassifier', 'Accuracy': 0.9722222222222222, 'Balanced Accuracy': 0.9791666666666666, 'ROC AUC': None, 'F1 Score': 0.9722531207514523, 'Time taken': 0.008874893188476562}\n",
      "{'Model': 'DummyClassifier', 'Accuracy': 0.3888888888888889, 'Balanced Accuracy': 0.33829365079365076, 'ROC AUC': None, 'F1 Score': 0.38772338772338777, 'Time taken': 0.008373260498046875}\n",
      "{'Model': 'ExtraTreeClassifier', 'Accuracy': 0.9166666666666666, 'Balanced Accuracy': 0.9345238095238096, 'ROC AUC': None, 'F1 Score': 0.922633744855967, 'Time taken': 0.009106159210205078}\n",
      "{'Model': 'ExtraTreesClassifier', 'Accuracy': 0.9722222222222222, 'Balanced Accuracy': 0.9791666666666666, 'ROC AUC': None, 'F1 Score': 0.9728425696167632, 'Time taken': 0.09256458282470703}\n",
      " 60%|██████    | 18/30 [00:00<00:00, 29.34it/s]{'Model': 'GaussianNB', 'Accuracy': 0.9166666666666666, 'Balanced Accuracy': 0.9375, 'ROC AUC': None, 'F1 Score': 0.9152765497593083, 'Time taken': 0.010437965393066406}\n",
      "{'Model': 'KNeighborsClassifier', 'Accuracy': 0.9722222222222222, 'Balanced Accuracy': 0.9791666666666666, 'ROC AUC': None, 'F1 Score': 0.9728425696167632, 'Time taken': 0.010902166366577148}\n",
      "{'Model': 'LabelPropagation', 'Accuracy': 0.9166666666666666, 'Balanced Accuracy': 0.9375, 'ROC AUC': None, 'F1 Score': 0.9152765497593083, 'Time taken': 0.011739492416381836}\n",
      "{'Model': 'LabelSpreading', 'Accuracy': 0.9166666666666666, 'Balanced Accuracy': 0.9375, 'ROC AUC': None, 'F1 Score': 0.9152765497593083, 'Time taken': 0.013004064559936523}\n",
      "{'Model': 'LinearDiscriminantAnalysis', 'Accuracy': 0.9722222222222222, 'Balanced Accuracy': 0.9791666666666666, 'ROC AUC': None, 'F1 Score': 0.9722531207514523, 'Time taken': 0.0114288330078125}\n",
      "{'Model': 'LinearSVC', 'Accuracy': 1.0, 'Balanced Accuracy': 1.0, 'ROC AUC': None, 'F1 Score': 1.0, 'Time taken': 0.011444568634033203}\n",
      "{'Model': 'LogisticRegression', 'Accuracy': 1.0, 'Balanced Accuracy': 1.0, 'ROC AUC': None, 'F1 Score': 1.0, 'Time taken': 0.020027637481689453}\n",
      "{'Model': 'NearestCentroid', 'Accuracy': 1.0, 'Balanced Accuracy': 1.0, 'ROC AUC': None, 'F1 Score': 1.0, 'Time taken': 0.01117086410522461}\n",
      "{'Model': 'NuSVC', 'Accuracy': 1.0, 'Balanced Accuracy': 1.0, 'ROC AUC': None, 'F1 Score': 1.0, 'Time taken': 0.013458728790283203}\n",
      "{'Model': 'PassiveAggressiveClassifier', 'Accuracy': 1.0, 'Balanced Accuracy': 1.0, 'ROC AUC': None, 'F1 Score': 1.0, 'Time taken': 0.014446496963500977}\n",
      "{'Model': 'Perceptron', 'Accuracy': 1.0, 'Balanced Accuracy': 1.0, 'ROC AUC': None, 'F1 Score': 1.0, 'Time taken': 0.013175010681152344}\n",
      "{'Model': 'QuadraticDiscriminantAnalysis', 'Accuracy': 1.0, 'Balanced Accuracy': 1.0, 'ROC AUC': None, 'F1 Score': 1.0, 'Time taken': 0.010904073715209961}\n",
      "100%|██████████| 30/30 [00:00<00:00, 43.85it/s]{'Model': 'RandomForestClassifier', 'Accuracy': 0.9722222222222222, 'Balanced Accuracy': 0.9791666666666666, 'ROC AUC': None, 'F1 Score': 0.9728425696167632, 'Time taken': 0.12781524658203125}\n",
      "{'Model': 'RidgeClassifier', 'Accuracy': 1.0, 'Balanced Accuracy': 1.0, 'ROC AUC': None, 'F1 Score': 1.0, 'Time taken': 0.011502265930175781}\n",
      "{'Model': 'RidgeClassifierCV', 'Accuracy': 1.0, 'Balanced Accuracy': 1.0, 'ROC AUC': None, 'F1 Score': 1.0, 'Time taken': 0.010185480117797852}\n",
      "{'Model': 'SGDClassifier', 'Accuracy': 1.0, 'Balanced Accuracy': 1.0, 'ROC AUC': None, 'F1 Score': 1.0, 'Time taken': 0.010426044464111328}\n",
      "{'Model': 'SVC', 'Accuracy': 1.0, 'Balanced Accuracy': 1.0, 'ROC AUC': None, 'F1 Score': 1.0, 'Time taken': 0.009562015533447266}\n",
      "{'Model': 'XGBClassifier', 'Accuracy': 0.9444444444444444, 'Balanced Accuracy': 0.9583333333333334, 'ROC AUC': None, 'F1 Score': 0.9441398958640339, 'Time taken': 0.03269314765930176}\n",
      "{'Model': 'LGBMClassifier', 'Accuracy': 0.9722222222222222, 'Balanced Accuracy': 0.9791666666666666, 'ROC AUC': None, 'F1 Score': 0.9728425696167632, 'Time taken': 0.04301786422729492}\n",
      "\n"
     ]
    }
   ],
   "source": [
    "# create the classifier\n",
    "lazy_classifier = LazyClassifier(verbose=1, ignore_warnings=True, custom_metric=None, predictions=True)\n",
    "models, predictions = lazy_classifier.fit(X_train, X_test, y_train, y_test)"
   ]
  },
  {
   "cell_type": "code",
   "execution_count": 9,
   "metadata": {},
   "outputs": [
    {
     "output_type": "stream",
     "name": "stdout",
     "text": [
      "got models of type <class 'pandas.core.frame.DataFrame'> and shape (28, 5)\ngot predictions of type <class 'pandas.core.frame.DataFrame'> and shape (36, 28)\n"
     ]
    }
   ],
   "source": [
    "# print what we got\n",
    "print(\"got models of type {} and shape {}\".format(type(models), models.shape))\n",
    "print(\"got predictions of type {} and shape {}\".format(type(predictions), predictions.shape))"
   ]
  },
  {
   "cell_type": "code",
   "execution_count": 10,
   "metadata": {},
   "outputs": [
    {
     "output_type": "execute_result",
     "data": {
      "text/plain": [
       "                               Accuracy  ...  Time Taken\n",
       "Model                                    ...            \n",
       "LinearSVC                          1.00  ...        0.01\n",
       "SVC                                1.00  ...        0.01\n",
       "CalibratedClassifierCV             1.00  ...        0.04\n",
       "SGDClassifier                      1.00  ...        0.01\n",
       "RidgeClassifierCV                  1.00  ...        0.01\n",
       "RidgeClassifier                    1.00  ...        0.01\n",
       "QuadraticDiscriminantAnalysis      1.00  ...        0.01\n",
       "Perceptron                         1.00  ...        0.01\n",
       "PassiveAggressiveClassifier        1.00  ...        0.01\n",
       "NuSVC                              1.00  ...        0.01\n",
       "NearestCentroid                    1.00  ...        0.01\n",
       "LogisticRegression                 1.00  ...        0.02\n",
       "BaggingClassifier                  0.97  ...        0.03\n",
       "RandomForestClassifier             0.97  ...        0.13\n",
       "LGBMClassifier                     0.97  ...        0.04\n",
       "LinearDiscriminantAnalysis         0.97  ...        0.01\n",
       "KNeighborsClassifier               0.97  ...        0.01\n",
       "ExtraTreesClassifier               0.97  ...        0.09\n",
       "DecisionTreeClassifier             0.97  ...        0.01\n",
       "XGBClassifier                      0.94  ...        0.03\n",
       "LabelSpreading                     0.92  ...        0.01\n",
       "LabelPropagation                   0.92  ...        0.01\n",
       "GaussianNB                         0.92  ...        0.01\n",
       "ExtraTreeClassifier                0.92  ...        0.01\n",
       "BernoulliNB                        0.89  ...        0.01\n",
       "AdaBoostClassifier                 0.83  ...        0.08\n",
       "DummyClassifier                    0.39  ...        0.01\n",
       "CheckingClassifier                 0.39  ...        0.01\n",
       "\n",
       "[28 rows x 5 columns]"
      ],
      "text/html": "<div>\n<style scoped>\n    .dataframe tbody tr th:only-of-type {\n        vertical-align: middle;\n    }\n\n    .dataframe tbody tr th {\n        vertical-align: top;\n    }\n\n    .dataframe thead th {\n        text-align: right;\n    }\n</style>\n<table border=\"1\" class=\"dataframe\">\n  <thead>\n    <tr style=\"text-align: right;\">\n      <th></th>\n      <th>Accuracy</th>\n      <th>Balanced Accuracy</th>\n      <th>ROC AUC</th>\n      <th>F1 Score</th>\n      <th>Time Taken</th>\n    </tr>\n    <tr>\n      <th>Model</th>\n      <th></th>\n      <th></th>\n      <th></th>\n      <th></th>\n      <th></th>\n    </tr>\n  </thead>\n  <tbody>\n    <tr>\n      <th>LinearSVC</th>\n      <td>1.00</td>\n      <td>1.00</td>\n      <td>None</td>\n      <td>1.00</td>\n      <td>0.01</td>\n    </tr>\n    <tr>\n      <th>SVC</th>\n      <td>1.00</td>\n      <td>1.00</td>\n      <td>None</td>\n      <td>1.00</td>\n      <td>0.01</td>\n    </tr>\n    <tr>\n      <th>CalibratedClassifierCV</th>\n      <td>1.00</td>\n      <td>1.00</td>\n      <td>None</td>\n      <td>1.00</td>\n      <td>0.04</td>\n    </tr>\n    <tr>\n      <th>SGDClassifier</th>\n      <td>1.00</td>\n      <td>1.00</td>\n      <td>None</td>\n      <td>1.00</td>\n      <td>0.01</td>\n    </tr>\n    <tr>\n      <th>RidgeClassifierCV</th>\n      <td>1.00</td>\n      <td>1.00</td>\n      <td>None</td>\n      <td>1.00</td>\n      <td>0.01</td>\n    </tr>\n    <tr>\n      <th>RidgeClassifier</th>\n      <td>1.00</td>\n      <td>1.00</td>\n      <td>None</td>\n      <td>1.00</td>\n      <td>0.01</td>\n    </tr>\n    <tr>\n      <th>QuadraticDiscriminantAnalysis</th>\n      <td>1.00</td>\n      <td>1.00</td>\n      <td>None</td>\n      <td>1.00</td>\n      <td>0.01</td>\n    </tr>\n    <tr>\n      <th>Perceptron</th>\n      <td>1.00</td>\n      <td>1.00</td>\n      <td>None</td>\n      <td>1.00</td>\n      <td>0.01</td>\n    </tr>\n    <tr>\n      <th>PassiveAggressiveClassifier</th>\n      <td>1.00</td>\n      <td>1.00</td>\n      <td>None</td>\n      <td>1.00</td>\n      <td>0.01</td>\n    </tr>\n    <tr>\n      <th>NuSVC</th>\n      <td>1.00</td>\n      <td>1.00</td>\n      <td>None</td>\n      <td>1.00</td>\n      <td>0.01</td>\n    </tr>\n    <tr>\n      <th>NearestCentroid</th>\n      <td>1.00</td>\n      <td>1.00</td>\n      <td>None</td>\n      <td>1.00</td>\n      <td>0.01</td>\n    </tr>\n    <tr>\n      <th>LogisticRegression</th>\n      <td>1.00</td>\n      <td>1.00</td>\n      <td>None</td>\n      <td>1.00</td>\n      <td>0.02</td>\n    </tr>\n    <tr>\n      <th>BaggingClassifier</th>\n      <td>0.97</td>\n      <td>0.98</td>\n      <td>None</td>\n      <td>0.97</td>\n      <td>0.03</td>\n    </tr>\n    <tr>\n      <th>RandomForestClassifier</th>\n      <td>0.97</td>\n      <td>0.98</td>\n      <td>None</td>\n      <td>0.97</td>\n      <td>0.13</td>\n    </tr>\n    <tr>\n      <th>LGBMClassifier</th>\n      <td>0.97</td>\n      <td>0.98</td>\n      <td>None</td>\n      <td>0.97</td>\n      <td>0.04</td>\n    </tr>\n    <tr>\n      <th>LinearDiscriminantAnalysis</th>\n      <td>0.97</td>\n      <td>0.98</td>\n      <td>None</td>\n      <td>0.97</td>\n      <td>0.01</td>\n    </tr>\n    <tr>\n      <th>KNeighborsClassifier</th>\n      <td>0.97</td>\n      <td>0.98</td>\n      <td>None</td>\n      <td>0.97</td>\n      <td>0.01</td>\n    </tr>\n    <tr>\n      <th>ExtraTreesClassifier</th>\n      <td>0.97</td>\n      <td>0.98</td>\n      <td>None</td>\n      <td>0.97</td>\n      <td>0.09</td>\n    </tr>\n    <tr>\n      <th>DecisionTreeClassifier</th>\n      <td>0.97</td>\n      <td>0.98</td>\n      <td>None</td>\n      <td>0.97</td>\n      <td>0.01</td>\n    </tr>\n    <tr>\n      <th>XGBClassifier</th>\n      <td>0.94</td>\n      <td>0.96</td>\n      <td>None</td>\n      <td>0.94</td>\n      <td>0.03</td>\n    </tr>\n    <tr>\n      <th>LabelSpreading</th>\n      <td>0.92</td>\n      <td>0.94</td>\n      <td>None</td>\n      <td>0.92</td>\n      <td>0.01</td>\n    </tr>\n    <tr>\n      <th>LabelPropagation</th>\n      <td>0.92</td>\n      <td>0.94</td>\n      <td>None</td>\n      <td>0.92</td>\n      <td>0.01</td>\n    </tr>\n    <tr>\n      <th>GaussianNB</th>\n      <td>0.92</td>\n      <td>0.94</td>\n      <td>None</td>\n      <td>0.92</td>\n      <td>0.01</td>\n    </tr>\n    <tr>\n      <th>ExtraTreeClassifier</th>\n      <td>0.92</td>\n      <td>0.93</td>\n      <td>None</td>\n      <td>0.92</td>\n      <td>0.01</td>\n    </tr>\n    <tr>\n      <th>BernoulliNB</th>\n      <td>0.89</td>\n      <td>0.91</td>\n      <td>None</td>\n      <td>0.89</td>\n      <td>0.01</td>\n    </tr>\n    <tr>\n      <th>AdaBoostClassifier</th>\n      <td>0.83</td>\n      <td>0.88</td>\n      <td>None</td>\n      <td>0.83</td>\n      <td>0.08</td>\n    </tr>\n    <tr>\n      <th>DummyClassifier</th>\n      <td>0.39</td>\n      <td>0.34</td>\n      <td>None</td>\n      <td>0.39</td>\n      <td>0.01</td>\n    </tr>\n    <tr>\n      <th>CheckingClassifier</th>\n      <td>0.39</td>\n      <td>0.33</td>\n      <td>None</td>\n      <td>0.22</td>\n      <td>0.01</td>\n    </tr>\n  </tbody>\n</table>\n</div>"
     },
     "metadata": {},
     "execution_count": 10
    }
   ],
   "source": [
    "# print the models\n",
    "models.head(30)"
   ]
  },
  {
   "cell_type": "code",
   "execution_count": null,
   "metadata": {},
   "outputs": [],
   "source": []
  }
 ]
}