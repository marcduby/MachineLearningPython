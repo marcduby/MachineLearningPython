{
 "nbformat": 4,
 "nbformat_minor": 2,
 "metadata": {
  "language_info": {
   "name": "python",
   "codemirror_mode": {
    "name": "ipython",
    "version": 3
   },
   "version": "3.7.6-final"
  },
  "orig_nbformat": 2,
  "file_extension": ".py",
  "mimetype": "text/x-python",
  "name": "python",
  "npconvert_exporter": "python",
  "pygments_lexer": "ipython3",
  "version": 3,
  "kernelspec": {
   "name": "python37664bittf237venv9b274482c7ba4966ad2cf02baa9bb24c",
   "display_name": "Python 3.7.6 64-bit ('tf2_37': venv)"
  }
 },
 "cells": [
  {
   "cell_type": "code",
   "execution_count": 1,
   "metadata": {},
   "outputs": [],
   "source": [
    "# imports\n",
    "import numpy as np\n",
    "import pandas as pd\n",
    ""
   ]
  },
  {
   "cell_type": "code",
   "execution_count": 4,
   "metadata": {},
   "outputs": [
    {
     "output_type": "execute_result",
     "data": {
      "text/plain": "   county_fips            county_name state_name  state_fips        date  \\\n0            0  Statewide Unallocated         AL           1  2020-01-22   \n1            0  Statewide Unallocated         AL           1  2020-01-23   \n2            0  Statewide Unallocated         AL           1  2020-01-24   \n3            0  Statewide Unallocated         AL           1  2020-01-25   \n4            0  Statewide Unallocated         AL           1  2020-01-26   \n\n   confirmed  lat  long geometry  \n0          0  NaN   NaN      NaN  \n1          0  NaN   NaN      NaN  \n2          0  NaN   NaN      NaN  \n3          0  NaN   NaN      NaN  \n4          0  NaN   NaN      NaN  ",
      "text/html": "<div>\n<style scoped>\n    .dataframe tbody tr th:only-of-type {\n        vertical-align: middle;\n    }\n\n    .dataframe tbody tr th {\n        vertical-align: top;\n    }\n\n    .dataframe thead th {\n        text-align: right;\n    }\n</style>\n<table border=\"1\" class=\"dataframe\">\n  <thead>\n    <tr style=\"text-align: right;\">\n      <th></th>\n      <th>county_fips</th>\n      <th>county_name</th>\n      <th>state_name</th>\n      <th>state_fips</th>\n      <th>date</th>\n      <th>confirmed</th>\n      <th>lat</th>\n      <th>long</th>\n      <th>geometry</th>\n    </tr>\n  </thead>\n  <tbody>\n    <tr>\n      <th>0</th>\n      <td>0</td>\n      <td>Statewide Unallocated</td>\n      <td>AL</td>\n      <td>1</td>\n      <td>2020-01-22</td>\n      <td>0</td>\n      <td>NaN</td>\n      <td>NaN</td>\n      <td>NaN</td>\n    </tr>\n    <tr>\n      <th>1</th>\n      <td>0</td>\n      <td>Statewide Unallocated</td>\n      <td>AL</td>\n      <td>1</td>\n      <td>2020-01-23</td>\n      <td>0</td>\n      <td>NaN</td>\n      <td>NaN</td>\n      <td>NaN</td>\n    </tr>\n    <tr>\n      <th>2</th>\n      <td>0</td>\n      <td>Statewide Unallocated</td>\n      <td>AL</td>\n      <td>1</td>\n      <td>2020-01-24</td>\n      <td>0</td>\n      <td>NaN</td>\n      <td>NaN</td>\n      <td>NaN</td>\n    </tr>\n    <tr>\n      <th>3</th>\n      <td>0</td>\n      <td>Statewide Unallocated</td>\n      <td>AL</td>\n      <td>1</td>\n      <td>2020-01-25</td>\n      <td>0</td>\n      <td>NaN</td>\n      <td>NaN</td>\n      <td>NaN</td>\n    </tr>\n    <tr>\n      <th>4</th>\n      <td>0</td>\n      <td>Statewide Unallocated</td>\n      <td>AL</td>\n      <td>1</td>\n      <td>2020-01-26</td>\n      <td>0</td>\n      <td>NaN</td>\n      <td>NaN</td>\n      <td>NaN</td>\n    </tr>\n  </tbody>\n</table>\n</div>"
     },
     "metadata": {},
     "execution_count": 4
    }
   ],
   "source": [
    "# load the cases data\n",
    "file_cases = \"/Users/mduby/Data/Kaggle/Roche/USAFacts/confirmed-covid-19-cases-in-us-by-state-and-county.csv\"\n",
    "\n",
    "# load the data frame\n",
    "df_cases = pd.read_csv(file_cases)\n",
    "\n",
    "df_cases.head()\n"
   ]
  },
  {
   "cell_type": "code",
   "execution_count": 8,
   "metadata": {},
   "outputs": [
    {
     "output_type": "execute_result",
     "data": {
      "text/plain": "         county_fips     state_fips      confirmed            lat  \\\ncount  220455.000000  220455.000000  220455.000000  216798.000000   \nmean    29882.220970      30.250391       4.116817      38.455613   \nstd     15522.084821      15.157649     103.645501       5.307126   \nmin         0.000000       1.000000       0.000000      19.601212   \n25%     18097.000000      18.000000       0.000000      34.693167   \n50%     29123.000000      29.000000       0.000000      38.378924   \n75%     45055.000000      45.000000       0.000000      41.809386   \nmax     56045.000000      56.000000   12756.000000      69.314792   \n\n                long  \ncount  216798.000000  \nmean      -92.268406  \nstd        12.860440  \nmin      -164.035380  \n25%       -98.238509  \n50%       -90.400244  \n75%       -83.436796  \nmax       -67.628135  ",
      "text/html": "<div>\n<style scoped>\n    .dataframe tbody tr th:only-of-type {\n        vertical-align: middle;\n    }\n\n    .dataframe tbody tr th {\n        vertical-align: top;\n    }\n\n    .dataframe thead th {\n        text-align: right;\n    }\n</style>\n<table border=\"1\" class=\"dataframe\">\n  <thead>\n    <tr style=\"text-align: right;\">\n      <th></th>\n      <th>county_fips</th>\n      <th>state_fips</th>\n      <th>confirmed</th>\n      <th>lat</th>\n      <th>long</th>\n    </tr>\n  </thead>\n  <tbody>\n    <tr>\n      <th>count</th>\n      <td>220455.000000</td>\n      <td>220455.000000</td>\n      <td>220455.000000</td>\n      <td>216798.000000</td>\n      <td>216798.000000</td>\n    </tr>\n    <tr>\n      <th>mean</th>\n      <td>29882.220970</td>\n      <td>30.250391</td>\n      <td>4.116817</td>\n      <td>38.455613</td>\n      <td>-92.268406</td>\n    </tr>\n    <tr>\n      <th>std</th>\n      <td>15522.084821</td>\n      <td>15.157649</td>\n      <td>103.645501</td>\n      <td>5.307126</td>\n      <td>12.860440</td>\n    </tr>\n    <tr>\n      <th>min</th>\n      <td>0.000000</td>\n      <td>1.000000</td>\n      <td>0.000000</td>\n      <td>19.601212</td>\n      <td>-164.035380</td>\n    </tr>\n    <tr>\n      <th>25%</th>\n      <td>18097.000000</td>\n      <td>18.000000</td>\n      <td>0.000000</td>\n      <td>34.693167</td>\n      <td>-98.238509</td>\n    </tr>\n    <tr>\n      <th>50%</th>\n      <td>29123.000000</td>\n      <td>29.000000</td>\n      <td>0.000000</td>\n      <td>38.378924</td>\n      <td>-90.400244</td>\n    </tr>\n    <tr>\n      <th>75%</th>\n      <td>45055.000000</td>\n      <td>45.000000</td>\n      <td>0.000000</td>\n      <td>41.809386</td>\n      <td>-83.436796</td>\n    </tr>\n    <tr>\n      <th>max</th>\n      <td>56045.000000</td>\n      <td>56.000000</td>\n      <td>12756.000000</td>\n      <td>69.314792</td>\n      <td>-67.628135</td>\n    </tr>\n  </tbody>\n</table>\n</div>"
     },
     "metadata": {},
     "execution_count": 8
    }
   ],
   "source": [
    "# describe the cases data\n",
    "df_cases.describe()\n",
    ""
   ]
  },
  {
   "cell_type": "code",
   "execution_count": 13,
   "metadata": {},
   "outputs": [
    {
     "output_type": "execute_result",
     "data": {
      "text/plain": "                            county_fips                                  \\\n                                  count     mean  std      min      25%   \ncounty_name      state_name                                               \nAbbeville County SC                69.0  45001.0  0.0  45001.0  45001.0   \nAcadia Parish    LA                69.0  22001.0  0.0  22001.0  22001.0   \nAccomack County  VA                69.0  51001.0  0.0  51001.0  51001.0   \nAda County       ID                69.0  16001.0  0.0  16001.0  16001.0   \nAdair County     IA                69.0  19001.0  0.0  19001.0  19001.0   \n...                                 ...      ...  ...      ...      ...   \nYuma County      AZ                69.0   4027.0  0.0   4027.0   4027.0   \n                 CO                69.0   8125.0  0.0   8125.0   8125.0   \nZapata County    TX                69.0  48505.0  0.0  48505.0  48505.0   \nZavala County    TX                69.0  48507.0  0.0  48507.0  48507.0   \nZiebach County   SD                69.0  46137.0  0.0  46137.0  46137.0   \n\n                                                       state_fips        ...  \\\n                                 50%      75%      max      count  mean  ...   \ncounty_name      state_name                                              ...   \nAbbeville County SC          45001.0  45001.0  45001.0       69.0  45.0  ...   \nAcadia Parish    LA          22001.0  22001.0  22001.0       69.0  22.0  ...   \nAccomack County  VA          51001.0  51001.0  51001.0       69.0  51.0  ...   \nAda County       ID          16001.0  16001.0  16001.0       69.0  16.0  ...   \nAdair County     IA          19001.0  19001.0  19001.0       69.0  19.0  ...   \n...                              ...      ...      ...        ...   ...  ...   \nYuma County      AZ           4027.0   4027.0   4027.0       69.0   4.0  ...   \n                 CO           8125.0   8125.0   8125.0       69.0   8.0  ...   \nZapata County    TX          48505.0  48505.0  48505.0       69.0  48.0  ...   \nZavala County    TX          48507.0  48507.0  48507.0       69.0  48.0  ...   \nZiebach County   SD          46137.0  46137.0  46137.0       69.0  46.0  ...   \n\n                                   lat             long              \\\n                                   75%        max count        mean   \ncounty_name      state_name                                           \nAbbeville County SC          34.223334  34.223334  69.0  -82.461707   \nAcadia Parish    LA          30.295065  30.295065  69.0  -92.414197   \nAccomack County  VA          37.767072  37.767072  69.0  -75.632346   \nAda County       ID          43.452658  43.452658  69.0 -116.241552   \nAdair County     IA          41.330756  41.330756  69.0  -94.471059   \n...                                ...        ...   ...         ...   \nYuma County      AZ          32.768957  32.768957  69.0 -113.906667   \n                 CO          40.003468  40.003468  69.0 -102.425867   \nZapata County    TX          27.001564  27.001564  69.0  -99.169872   \nZavala County    TX          28.866172  28.866172  69.0  -99.760508   \nZiebach County   SD          44.978819  44.978819  69.0 -101.665462   \n\n                                                                               \\\n                                      std         min         25%         50%   \ncounty_name      state_name                                                     \nAbbeville County SC          1.431496e-14  -82.461707  -82.461707  -82.461707   \nAcadia Parish    LA          2.862993e-14  -92.414197  -92.414197  -92.414197   \nAccomack County  VA          2.862993e-14  -75.632346  -75.632346  -75.632346   \nAda County       ID          1.431496e-14 -116.241552 -116.241552 -116.241552   \nAdair County     IA          2.862993e-14  -94.471059  -94.471059  -94.471059   \n...                                   ...         ...         ...         ...   \nYuma County      AZ          1.431496e-14 -113.906667 -113.906667 -113.906667   \n                 CO          0.000000e+00 -102.425867 -102.425867 -102.425867   \nZapata County    TX          0.000000e+00  -99.169872  -99.169872  -99.169872   \nZavala County    TX          1.431496e-14  -99.760508  -99.760508  -99.760508   \nZiebach County   SD          2.862993e-14 -101.665462 -101.665462 -101.665462   \n\n                                                     \n                                    75%         max  \ncounty_name      state_name                          \nAbbeville County SC          -82.461707  -82.461707  \nAcadia Parish    LA          -92.414197  -92.414197  \nAccomack County  VA          -75.632346  -75.632346  \nAda County       ID         -116.241552 -116.241552  \nAdair County     IA          -94.471059  -94.471059  \n...                                 ...         ...  \nYuma County      AZ         -113.906667 -113.906667  \n                 CO         -102.425867 -102.425867  \nZapata County    TX          -99.169872  -99.169872  \nZavala County    TX          -99.760508  -99.760508  \nZiebach County   SD         -101.665462 -101.665462  \n\n[3195 rows x 40 columns]",
      "text/html": "<div>\n<style scoped>\n    .dataframe tbody tr th:only-of-type {\n        vertical-align: middle;\n    }\n\n    .dataframe tbody tr th {\n        vertical-align: top;\n    }\n\n    .dataframe thead tr th {\n        text-align: left;\n    }\n\n    .dataframe thead tr:last-of-type th {\n        text-align: right;\n    }\n</style>\n<table border=\"1\" class=\"dataframe\">\n  <thead>\n    <tr>\n      <th></th>\n      <th></th>\n      <th colspan=\"8\" halign=\"left\">county_fips</th>\n      <th colspan=\"2\" halign=\"left\">state_fips</th>\n      <th>...</th>\n      <th colspan=\"2\" halign=\"left\">lat</th>\n      <th colspan=\"8\" halign=\"left\">long</th>\n    </tr>\n    <tr>\n      <th></th>\n      <th></th>\n      <th>count</th>\n      <th>mean</th>\n      <th>std</th>\n      <th>min</th>\n      <th>25%</th>\n      <th>50%</th>\n      <th>75%</th>\n      <th>max</th>\n      <th>count</th>\n      <th>mean</th>\n      <th>...</th>\n      <th>75%</th>\n      <th>max</th>\n      <th>count</th>\n      <th>mean</th>\n      <th>std</th>\n      <th>min</th>\n      <th>25%</th>\n      <th>50%</th>\n      <th>75%</th>\n      <th>max</th>\n    </tr>\n    <tr>\n      <th>county_name</th>\n      <th>state_name</th>\n      <th></th>\n      <th></th>\n      <th></th>\n      <th></th>\n      <th></th>\n      <th></th>\n      <th></th>\n      <th></th>\n      <th></th>\n      <th></th>\n      <th></th>\n      <th></th>\n      <th></th>\n      <th></th>\n      <th></th>\n      <th></th>\n      <th></th>\n      <th></th>\n      <th></th>\n      <th></th>\n      <th></th>\n    </tr>\n  </thead>\n  <tbody>\n    <tr>\n      <th>Abbeville County</th>\n      <th>SC</th>\n      <td>69.0</td>\n      <td>45001.0</td>\n      <td>0.0</td>\n      <td>45001.0</td>\n      <td>45001.0</td>\n      <td>45001.0</td>\n      <td>45001.0</td>\n      <td>45001.0</td>\n      <td>69.0</td>\n      <td>45.0</td>\n      <td>...</td>\n      <td>34.223334</td>\n      <td>34.223334</td>\n      <td>69.0</td>\n      <td>-82.461707</td>\n      <td>1.431496e-14</td>\n      <td>-82.461707</td>\n      <td>-82.461707</td>\n      <td>-82.461707</td>\n      <td>-82.461707</td>\n      <td>-82.461707</td>\n    </tr>\n    <tr>\n      <th>Acadia Parish</th>\n      <th>LA</th>\n      <td>69.0</td>\n      <td>22001.0</td>\n      <td>0.0</td>\n      <td>22001.0</td>\n      <td>22001.0</td>\n      <td>22001.0</td>\n      <td>22001.0</td>\n      <td>22001.0</td>\n      <td>69.0</td>\n      <td>22.0</td>\n      <td>...</td>\n      <td>30.295065</td>\n      <td>30.295065</td>\n      <td>69.0</td>\n      <td>-92.414197</td>\n      <td>2.862993e-14</td>\n      <td>-92.414197</td>\n      <td>-92.414197</td>\n      <td>-92.414197</td>\n      <td>-92.414197</td>\n      <td>-92.414197</td>\n    </tr>\n    <tr>\n      <th>Accomack County</th>\n      <th>VA</th>\n      <td>69.0</td>\n      <td>51001.0</td>\n      <td>0.0</td>\n      <td>51001.0</td>\n      <td>51001.0</td>\n      <td>51001.0</td>\n      <td>51001.0</td>\n      <td>51001.0</td>\n      <td>69.0</td>\n      <td>51.0</td>\n      <td>...</td>\n      <td>37.767072</td>\n      <td>37.767072</td>\n      <td>69.0</td>\n      <td>-75.632346</td>\n      <td>2.862993e-14</td>\n      <td>-75.632346</td>\n      <td>-75.632346</td>\n      <td>-75.632346</td>\n      <td>-75.632346</td>\n      <td>-75.632346</td>\n    </tr>\n    <tr>\n      <th>Ada County</th>\n      <th>ID</th>\n      <td>69.0</td>\n      <td>16001.0</td>\n      <td>0.0</td>\n      <td>16001.0</td>\n      <td>16001.0</td>\n      <td>16001.0</td>\n      <td>16001.0</td>\n      <td>16001.0</td>\n      <td>69.0</td>\n      <td>16.0</td>\n      <td>...</td>\n      <td>43.452658</td>\n      <td>43.452658</td>\n      <td>69.0</td>\n      <td>-116.241552</td>\n      <td>1.431496e-14</td>\n      <td>-116.241552</td>\n      <td>-116.241552</td>\n      <td>-116.241552</td>\n      <td>-116.241552</td>\n      <td>-116.241552</td>\n    </tr>\n    <tr>\n      <th>Adair County</th>\n      <th>IA</th>\n      <td>69.0</td>\n      <td>19001.0</td>\n      <td>0.0</td>\n      <td>19001.0</td>\n      <td>19001.0</td>\n      <td>19001.0</td>\n      <td>19001.0</td>\n      <td>19001.0</td>\n      <td>69.0</td>\n      <td>19.0</td>\n      <td>...</td>\n      <td>41.330756</td>\n      <td>41.330756</td>\n      <td>69.0</td>\n      <td>-94.471059</td>\n      <td>2.862993e-14</td>\n      <td>-94.471059</td>\n      <td>-94.471059</td>\n      <td>-94.471059</td>\n      <td>-94.471059</td>\n      <td>-94.471059</td>\n    </tr>\n    <tr>\n      <th>...</th>\n      <th>...</th>\n      <td>...</td>\n      <td>...</td>\n      <td>...</td>\n      <td>...</td>\n      <td>...</td>\n      <td>...</td>\n      <td>...</td>\n      <td>...</td>\n      <td>...</td>\n      <td>...</td>\n      <td>...</td>\n      <td>...</td>\n      <td>...</td>\n      <td>...</td>\n      <td>...</td>\n      <td>...</td>\n      <td>...</td>\n      <td>...</td>\n      <td>...</td>\n      <td>...</td>\n      <td>...</td>\n    </tr>\n    <tr>\n      <th rowspan=\"2\" valign=\"top\">Yuma County</th>\n      <th>AZ</th>\n      <td>69.0</td>\n      <td>4027.0</td>\n      <td>0.0</td>\n      <td>4027.0</td>\n      <td>4027.0</td>\n      <td>4027.0</td>\n      <td>4027.0</td>\n      <td>4027.0</td>\n      <td>69.0</td>\n      <td>4.0</td>\n      <td>...</td>\n      <td>32.768957</td>\n      <td>32.768957</td>\n      <td>69.0</td>\n      <td>-113.906667</td>\n      <td>1.431496e-14</td>\n      <td>-113.906667</td>\n      <td>-113.906667</td>\n      <td>-113.906667</td>\n      <td>-113.906667</td>\n      <td>-113.906667</td>\n    </tr>\n    <tr>\n      <th>CO</th>\n      <td>69.0</td>\n      <td>8125.0</td>\n      <td>0.0</td>\n      <td>8125.0</td>\n      <td>8125.0</td>\n      <td>8125.0</td>\n      <td>8125.0</td>\n      <td>8125.0</td>\n      <td>69.0</td>\n      <td>8.0</td>\n      <td>...</td>\n      <td>40.003468</td>\n      <td>40.003468</td>\n      <td>69.0</td>\n      <td>-102.425867</td>\n      <td>0.000000e+00</td>\n      <td>-102.425867</td>\n      <td>-102.425867</td>\n      <td>-102.425867</td>\n      <td>-102.425867</td>\n      <td>-102.425867</td>\n    </tr>\n    <tr>\n      <th>Zapata County</th>\n      <th>TX</th>\n      <td>69.0</td>\n      <td>48505.0</td>\n      <td>0.0</td>\n      <td>48505.0</td>\n      <td>48505.0</td>\n      <td>48505.0</td>\n      <td>48505.0</td>\n      <td>48505.0</td>\n      <td>69.0</td>\n      <td>48.0</td>\n      <td>...</td>\n      <td>27.001564</td>\n      <td>27.001564</td>\n      <td>69.0</td>\n      <td>-99.169872</td>\n      <td>0.000000e+00</td>\n      <td>-99.169872</td>\n      <td>-99.169872</td>\n      <td>-99.169872</td>\n      <td>-99.169872</td>\n      <td>-99.169872</td>\n    </tr>\n    <tr>\n      <th>Zavala County</th>\n      <th>TX</th>\n      <td>69.0</td>\n      <td>48507.0</td>\n      <td>0.0</td>\n      <td>48507.0</td>\n      <td>48507.0</td>\n      <td>48507.0</td>\n      <td>48507.0</td>\n      <td>48507.0</td>\n      <td>69.0</td>\n      <td>48.0</td>\n      <td>...</td>\n      <td>28.866172</td>\n      <td>28.866172</td>\n      <td>69.0</td>\n      <td>-99.760508</td>\n      <td>1.431496e-14</td>\n      <td>-99.760508</td>\n      <td>-99.760508</td>\n      <td>-99.760508</td>\n      <td>-99.760508</td>\n      <td>-99.760508</td>\n    </tr>\n    <tr>\n      <th>Ziebach County</th>\n      <th>SD</th>\n      <td>69.0</td>\n      <td>46137.0</td>\n      <td>0.0</td>\n      <td>46137.0</td>\n      <td>46137.0</td>\n      <td>46137.0</td>\n      <td>46137.0</td>\n      <td>46137.0</td>\n      <td>69.0</td>\n      <td>46.0</td>\n      <td>...</td>\n      <td>44.978819</td>\n      <td>44.978819</td>\n      <td>69.0</td>\n      <td>-101.665462</td>\n      <td>2.862993e-14</td>\n      <td>-101.665462</td>\n      <td>-101.665462</td>\n      <td>-101.665462</td>\n      <td>-101.665462</td>\n      <td>-101.665462</td>\n    </tr>\n  </tbody>\n</table>\n<p>3195 rows × 40 columns</p>\n</div>"
     },
     "metadata": {},
     "execution_count": 13
    }
   ],
   "source": [
    "# group by countym state\n",
    "df_cases_groupby = df_cases.groupby(['county_name', 'state_name'])\n",
    "df_cases_groupby.describe()\n",
    ""
   ]
  },
  {
   "cell_type": "code",
   "execution_count": 5,
   "metadata": {},
   "outputs": [
    {
     "output_type": "execute_result",
     "data": {
      "text/plain": "   county_fips            county_name state_name  state_fips        date  \\\n0            0  Statewide Unallocated         AL           1  2020-01-22   \n1            0  Statewide Unallocated         AL           1  2020-01-23   \n2            0  Statewide Unallocated         AL           1  2020-01-24   \n3            0  Statewide Unallocated         AL           1  2020-01-25   \n4            0  Statewide Unallocated         AL           1  2020-01-26   \n\n   confirmed  lat  long geometry  \n0          0  NaN   NaN      NaN  \n1          0  NaN   NaN      NaN  \n2          0  NaN   NaN      NaN  \n3          0  NaN   NaN      NaN  \n4          0  NaN   NaN      NaN  ",
      "text/html": "<div>\n<style scoped>\n    .dataframe tbody tr th:only-of-type {\n        vertical-align: middle;\n    }\n\n    .dataframe tbody tr th {\n        vertical-align: top;\n    }\n\n    .dataframe thead th {\n        text-align: right;\n    }\n</style>\n<table border=\"1\" class=\"dataframe\">\n  <thead>\n    <tr style=\"text-align: right;\">\n      <th></th>\n      <th>county_fips</th>\n      <th>county_name</th>\n      <th>state_name</th>\n      <th>state_fips</th>\n      <th>date</th>\n      <th>confirmed</th>\n      <th>lat</th>\n      <th>long</th>\n      <th>geometry</th>\n    </tr>\n  </thead>\n  <tbody>\n    <tr>\n      <th>0</th>\n      <td>0</td>\n      <td>Statewide Unallocated</td>\n      <td>AL</td>\n      <td>1</td>\n      <td>2020-01-22</td>\n      <td>0</td>\n      <td>NaN</td>\n      <td>NaN</td>\n      <td>NaN</td>\n    </tr>\n    <tr>\n      <th>1</th>\n      <td>0</td>\n      <td>Statewide Unallocated</td>\n      <td>AL</td>\n      <td>1</td>\n      <td>2020-01-23</td>\n      <td>0</td>\n      <td>NaN</td>\n      <td>NaN</td>\n      <td>NaN</td>\n    </tr>\n    <tr>\n      <th>2</th>\n      <td>0</td>\n      <td>Statewide Unallocated</td>\n      <td>AL</td>\n      <td>1</td>\n      <td>2020-01-24</td>\n      <td>0</td>\n      <td>NaN</td>\n      <td>NaN</td>\n      <td>NaN</td>\n    </tr>\n    <tr>\n      <th>3</th>\n      <td>0</td>\n      <td>Statewide Unallocated</td>\n      <td>AL</td>\n      <td>1</td>\n      <td>2020-01-25</td>\n      <td>0</td>\n      <td>NaN</td>\n      <td>NaN</td>\n      <td>NaN</td>\n    </tr>\n    <tr>\n      <th>4</th>\n      <td>0</td>\n      <td>Statewide Unallocated</td>\n      <td>AL</td>\n      <td>1</td>\n      <td>2020-01-26</td>\n      <td>0</td>\n      <td>NaN</td>\n      <td>NaN</td>\n      <td>NaN</td>\n    </tr>\n  </tbody>\n</table>\n</div>"
     },
     "metadata": {},
     "execution_count": 5
    }
   ],
   "source": [
    "# load the deaths data\n",
    "file_deaths = \"/Users/mduby/Data/Kaggle/Roche/USAFacts/confirmed-covid-19-deaths-in-us-by-state-and-county.csv\"\n",
    "\n",
    "# load the data frame\n",
    "df_death = pd.read_csv(file_cases)\n",
    "\n",
    "df_death.head()\n",
    ""
   ]
  },
  {
   "cell_type": "code",
   "execution_count": 7,
   "metadata": {},
   "outputs": [
    {
     "output_type": "execute_result",
     "data": {
      "text/plain": "         county_fips     state_fips      confirmed            lat  \\\ncount  220455.000000  220455.000000  220455.000000  216798.000000   \nmean    29882.220970      30.250391       4.116817      38.455613   \nstd     15522.084821      15.157649     103.645501       5.307126   \nmin         0.000000       1.000000       0.000000      19.601212   \n25%     18097.000000      18.000000       0.000000      34.693167   \n50%     29123.000000      29.000000       0.000000      38.378924   \n75%     45055.000000      45.000000       0.000000      41.809386   \nmax     56045.000000      56.000000   12756.000000      69.314792   \n\n                long  \ncount  216798.000000  \nmean      -92.268406  \nstd        12.860440  \nmin      -164.035380  \n25%       -98.238509  \n50%       -90.400244  \n75%       -83.436796  \nmax       -67.628135  ",
      "text/html": "<div>\n<style scoped>\n    .dataframe tbody tr th:only-of-type {\n        vertical-align: middle;\n    }\n\n    .dataframe tbody tr th {\n        vertical-align: top;\n    }\n\n    .dataframe thead th {\n        text-align: right;\n    }\n</style>\n<table border=\"1\" class=\"dataframe\">\n  <thead>\n    <tr style=\"text-align: right;\">\n      <th></th>\n      <th>county_fips</th>\n      <th>state_fips</th>\n      <th>confirmed</th>\n      <th>lat</th>\n      <th>long</th>\n    </tr>\n  </thead>\n  <tbody>\n    <tr>\n      <th>count</th>\n      <td>220455.000000</td>\n      <td>220455.000000</td>\n      <td>220455.000000</td>\n      <td>216798.000000</td>\n      <td>216798.000000</td>\n    </tr>\n    <tr>\n      <th>mean</th>\n      <td>29882.220970</td>\n      <td>30.250391</td>\n      <td>4.116817</td>\n      <td>38.455613</td>\n      <td>-92.268406</td>\n    </tr>\n    <tr>\n      <th>std</th>\n      <td>15522.084821</td>\n      <td>15.157649</td>\n      <td>103.645501</td>\n      <td>5.307126</td>\n      <td>12.860440</td>\n    </tr>\n    <tr>\n      <th>min</th>\n      <td>0.000000</td>\n      <td>1.000000</td>\n      <td>0.000000</td>\n      <td>19.601212</td>\n      <td>-164.035380</td>\n    </tr>\n    <tr>\n      <th>25%</th>\n      <td>18097.000000</td>\n      <td>18.000000</td>\n      <td>0.000000</td>\n      <td>34.693167</td>\n      <td>-98.238509</td>\n    </tr>\n    <tr>\n      <th>50%</th>\n      <td>29123.000000</td>\n      <td>29.000000</td>\n      <td>0.000000</td>\n      <td>38.378924</td>\n      <td>-90.400244</td>\n    </tr>\n    <tr>\n      <th>75%</th>\n      <td>45055.000000</td>\n      <td>45.000000</td>\n      <td>0.000000</td>\n      <td>41.809386</td>\n      <td>-83.436796</td>\n    </tr>\n    <tr>\n      <th>max</th>\n      <td>56045.000000</td>\n      <td>56.000000</td>\n      <td>12756.000000</td>\n      <td>69.314792</td>\n      <td>-67.628135</td>\n    </tr>\n  </tbody>\n</table>\n</div>"
     },
     "metadata": {},
     "execution_count": 7
    }
   ],
   "source": [
    "# describe the death data\n",
    "df_death.describe()"
   ]
  },
  {
   "cell_type": "code",
   "execution_count": null,
   "metadata": {},
   "outputs": [],
   "source": []
  }
 ]
}