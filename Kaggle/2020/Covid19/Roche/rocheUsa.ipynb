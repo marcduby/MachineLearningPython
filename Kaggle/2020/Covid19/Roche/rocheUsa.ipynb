{
 "nbformat": 4,
 "nbformat_minor": 2,
 "metadata": {
  "language_info": {
   "name": "python",
   "codemirror_mode": {
    "name": "ipython",
    "version": 3
   },
   "version": "3.7.6-final"
  },
  "orig_nbformat": 2,
  "file_extension": ".py",
  "mimetype": "text/x-python",
  "name": "python",
  "npconvert_exporter": "python",
  "pygments_lexer": "ipython3",
  "version": 3,
  "kernelspec": {
   "name": "python37664bittf237venv9b274482c7ba4966ad2cf02baa9bb24c",
   "display_name": "Python 3.7.6 64-bit ('tf2_37': venv)"
  }
 },
 "cells": [
  {
   "cell_type": "code",
   "execution_count": 1,
   "metadata": {},
   "outputs": [],
   "source": [
    "# imports\n",
    "import numpy as np\n",
    "import pandas as pd\n",
    ""
   ]
  },
  {
   "cell_type": "code",
   "execution_count": 4,
   "metadata": {},
   "outputs": [
    {
     "output_type": "execute_result",
     "data": {
      "text/plain": "   county_fips            county_name state_name  state_fips        date  \\\n0            0  Statewide Unallocated         AL           1  2020-01-22   \n1            0  Statewide Unallocated         AL           1  2020-01-23   \n2            0  Statewide Unallocated         AL           1  2020-01-24   \n3            0  Statewide Unallocated         AL           1  2020-01-25   \n4            0  Statewide Unallocated         AL           1  2020-01-26   \n\n   confirmed  lat  long geometry  \n0          0  NaN   NaN      NaN  \n1          0  NaN   NaN      NaN  \n2          0  NaN   NaN      NaN  \n3          0  NaN   NaN      NaN  \n4          0  NaN   NaN      NaN  ",
      "text/html": "<div>\n<style scoped>\n    .dataframe tbody tr th:only-of-type {\n        vertical-align: middle;\n    }\n\n    .dataframe tbody tr th {\n        vertical-align: top;\n    }\n\n    .dataframe thead th {\n        text-align: right;\n    }\n</style>\n<table border=\"1\" class=\"dataframe\">\n  <thead>\n    <tr style=\"text-align: right;\">\n      <th></th>\n      <th>county_fips</th>\n      <th>county_name</th>\n      <th>state_name</th>\n      <th>state_fips</th>\n      <th>date</th>\n      <th>confirmed</th>\n      <th>lat</th>\n      <th>long</th>\n      <th>geometry</th>\n    </tr>\n  </thead>\n  <tbody>\n    <tr>\n      <th>0</th>\n      <td>0</td>\n      <td>Statewide Unallocated</td>\n      <td>AL</td>\n      <td>1</td>\n      <td>2020-01-22</td>\n      <td>0</td>\n      <td>NaN</td>\n      <td>NaN</td>\n      <td>NaN</td>\n    </tr>\n    <tr>\n      <th>1</th>\n      <td>0</td>\n      <td>Statewide Unallocated</td>\n      <td>AL</td>\n      <td>1</td>\n      <td>2020-01-23</td>\n      <td>0</td>\n      <td>NaN</td>\n      <td>NaN</td>\n      <td>NaN</td>\n    </tr>\n    <tr>\n      <th>2</th>\n      <td>0</td>\n      <td>Statewide Unallocated</td>\n      <td>AL</td>\n      <td>1</td>\n      <td>2020-01-24</td>\n      <td>0</td>\n      <td>NaN</td>\n      <td>NaN</td>\n      <td>NaN</td>\n    </tr>\n    <tr>\n      <th>3</th>\n      <td>0</td>\n      <td>Statewide Unallocated</td>\n      <td>AL</td>\n      <td>1</td>\n      <td>2020-01-25</td>\n      <td>0</td>\n      <td>NaN</td>\n      <td>NaN</td>\n      <td>NaN</td>\n    </tr>\n    <tr>\n      <th>4</th>\n      <td>0</td>\n      <td>Statewide Unallocated</td>\n      <td>AL</td>\n      <td>1</td>\n      <td>2020-01-26</td>\n      <td>0</td>\n      <td>NaN</td>\n      <td>NaN</td>\n      <td>NaN</td>\n    </tr>\n  </tbody>\n</table>\n</div>"
     },
     "metadata": {},
     "execution_count": 4
    }
   ],
   "source": [
    "# load the cases data\n",
    "file_cases = \"/Users/mduby/Data/Kaggle/Roche/USAFacts/confirmed-covid-19-cases-in-us-by-state-and-county.csv\"\n",
    "\n",
    "# load the data frame\n",
    "df_cases = pd.read_csv(file_cases)\n",
    "\n",
    "df_cases.head()\n"
   ]
  },
  {
   "cell_type": "code",
   "execution_count": 6,
   "metadata": {},
   "outputs": [
    {
     "output_type": "execute_result",
     "data": {
      "text/plain": "         county_fips     state_fips      confirmed            lat  \\\ncount  220455.000000  220455.000000  220455.000000  216798.000000   \nmean    29882.220970      30.250391       4.116817      38.455613   \nstd     15522.084821      15.157649     103.645501       5.307126   \nmin         0.000000       1.000000       0.000000      19.601212   \n25%     18097.000000      18.000000       0.000000      34.693167   \n50%     29123.000000      29.000000       0.000000      38.378924   \n75%     45055.000000      45.000000       0.000000      41.809386   \nmax     56045.000000      56.000000   12756.000000      69.314792   \n\n                long  \ncount  216798.000000  \nmean      -92.268406  \nstd        12.860440  \nmin      -164.035380  \n25%       -98.238509  \n50%       -90.400244  \n75%       -83.436796  \nmax       -67.628135  ",
      "text/html": "<div>\n<style scoped>\n    .dataframe tbody tr th:only-of-type {\n        vertical-align: middle;\n    }\n\n    .dataframe tbody tr th {\n        vertical-align: top;\n    }\n\n    .dataframe thead th {\n        text-align: right;\n    }\n</style>\n<table border=\"1\" class=\"dataframe\">\n  <thead>\n    <tr style=\"text-align: right;\">\n      <th></th>\n      <th>county_fips</th>\n      <th>state_fips</th>\n      <th>confirmed</th>\n      <th>lat</th>\n      <th>long</th>\n    </tr>\n  </thead>\n  <tbody>\n    <tr>\n      <th>count</th>\n      <td>220455.000000</td>\n      <td>220455.000000</td>\n      <td>220455.000000</td>\n      <td>216798.000000</td>\n      <td>216798.000000</td>\n    </tr>\n    <tr>\n      <th>mean</th>\n      <td>29882.220970</td>\n      <td>30.250391</td>\n      <td>4.116817</td>\n      <td>38.455613</td>\n      <td>-92.268406</td>\n    </tr>\n    <tr>\n      <th>std</th>\n      <td>15522.084821</td>\n      <td>15.157649</td>\n      <td>103.645501</td>\n      <td>5.307126</td>\n      <td>12.860440</td>\n    </tr>\n    <tr>\n      <th>min</th>\n      <td>0.000000</td>\n      <td>1.000000</td>\n      <td>0.000000</td>\n      <td>19.601212</td>\n      <td>-164.035380</td>\n    </tr>\n    <tr>\n      <th>25%</th>\n      <td>18097.000000</td>\n      <td>18.000000</td>\n      <td>0.000000</td>\n      <td>34.693167</td>\n      <td>-98.238509</td>\n    </tr>\n    <tr>\n      <th>50%</th>\n      <td>29123.000000</td>\n      <td>29.000000</td>\n      <td>0.000000</td>\n      <td>38.378924</td>\n      <td>-90.400244</td>\n    </tr>\n    <tr>\n      <th>75%</th>\n      <td>45055.000000</td>\n      <td>45.000000</td>\n      <td>0.000000</td>\n      <td>41.809386</td>\n      <td>-83.436796</td>\n    </tr>\n    <tr>\n      <th>max</th>\n      <td>56045.000000</td>\n      <td>56.000000</td>\n      <td>12756.000000</td>\n      <td>69.314792</td>\n      <td>-67.628135</td>\n    </tr>\n  </tbody>\n</table>\n</div>"
     },
     "metadata": {},
     "execution_count": 6
    }
   ],
   "source": [
    "# describe the cases data\n",
    "df_cases.describe()\n"
   ]
  },
  {
   "cell_type": "code",
   "execution_count": 5,
   "metadata": {},
   "outputs": [
    {
     "output_type": "execute_result",
     "data": {
      "text/plain": "   county_fips            county_name state_name  state_fips        date  \\\n0            0  Statewide Unallocated         AL           1  2020-01-22   \n1            0  Statewide Unallocated         AL           1  2020-01-23   \n2            0  Statewide Unallocated         AL           1  2020-01-24   \n3            0  Statewide Unallocated         AL           1  2020-01-25   \n4            0  Statewide Unallocated         AL           1  2020-01-26   \n\n   confirmed  lat  long geometry  \n0          0  NaN   NaN      NaN  \n1          0  NaN   NaN      NaN  \n2          0  NaN   NaN      NaN  \n3          0  NaN   NaN      NaN  \n4          0  NaN   NaN      NaN  ",
      "text/html": "<div>\n<style scoped>\n    .dataframe tbody tr th:only-of-type {\n        vertical-align: middle;\n    }\n\n    .dataframe tbody tr th {\n        vertical-align: top;\n    }\n\n    .dataframe thead th {\n        text-align: right;\n    }\n</style>\n<table border=\"1\" class=\"dataframe\">\n  <thead>\n    <tr style=\"text-align: right;\">\n      <th></th>\n      <th>county_fips</th>\n      <th>county_name</th>\n      <th>state_name</th>\n      <th>state_fips</th>\n      <th>date</th>\n      <th>confirmed</th>\n      <th>lat</th>\n      <th>long</th>\n      <th>geometry</th>\n    </tr>\n  </thead>\n  <tbody>\n    <tr>\n      <th>0</th>\n      <td>0</td>\n      <td>Statewide Unallocated</td>\n      <td>AL</td>\n      <td>1</td>\n      <td>2020-01-22</td>\n      <td>0</td>\n      <td>NaN</td>\n      <td>NaN</td>\n      <td>NaN</td>\n    </tr>\n    <tr>\n      <th>1</th>\n      <td>0</td>\n      <td>Statewide Unallocated</td>\n      <td>AL</td>\n      <td>1</td>\n      <td>2020-01-23</td>\n      <td>0</td>\n      <td>NaN</td>\n      <td>NaN</td>\n      <td>NaN</td>\n    </tr>\n    <tr>\n      <th>2</th>\n      <td>0</td>\n      <td>Statewide Unallocated</td>\n      <td>AL</td>\n      <td>1</td>\n      <td>2020-01-24</td>\n      <td>0</td>\n      <td>NaN</td>\n      <td>NaN</td>\n      <td>NaN</td>\n    </tr>\n    <tr>\n      <th>3</th>\n      <td>0</td>\n      <td>Statewide Unallocated</td>\n      <td>AL</td>\n      <td>1</td>\n      <td>2020-01-25</td>\n      <td>0</td>\n      <td>NaN</td>\n      <td>NaN</td>\n      <td>NaN</td>\n    </tr>\n    <tr>\n      <th>4</th>\n      <td>0</td>\n      <td>Statewide Unallocated</td>\n      <td>AL</td>\n      <td>1</td>\n      <td>2020-01-26</td>\n      <td>0</td>\n      <td>NaN</td>\n      <td>NaN</td>\n      <td>NaN</td>\n    </tr>\n  </tbody>\n</table>\n</div>"
     },
     "metadata": {},
     "execution_count": 5
    }
   ],
   "source": [
    "# load the deaths data\n",
    "file_deaths = \"/Users/mduby/Data/Kaggle/Roche/USAFacts/confirmed-covid-19-deaths-in-us-by-state-and-county.csv\"\n",
    "\n",
    "# load the data frame\n",
    "df_death = pd.read_csv(file_cases)\n",
    "\n",
    "df_death.head()\n",
    ""
   ]
  },
  {
   "cell_type": "code",
   "execution_count": null,
   "metadata": {},
   "outputs": [],
   "source": []
  }
 ]
}