{
 "nbformat": 4,
 "nbformat_minor": 2,
 "metadata": {
  "language_info": {
   "name": "python",
   "codemirror_mode": {
    "name": "ipython",
    "version": 3
   },
   "version": "3.7.6-final"
  },
  "orig_nbformat": 2,
  "file_extension": ".py",
  "mimetype": "text/x-python",
  "name": "python",
  "npconvert_exporter": "python",
  "pygments_lexer": "ipython3",
  "version": 3,
  "kernelspec": {
   "name": "python37664bittf237venv9b274482c7ba4966ad2cf02baa9bb24c",
   "display_name": "Python 3.7.6 64-bit ('tf2_37': venv)"
  }
 },
 "cells": [
  {
   "cell_type": "code",
   "execution_count": 1,
   "metadata": {},
   "outputs": [],
   "source": [
    "import numpy as np # linear algebra\n",
    "import pandas as pd # data processing, CSV file I/O (e.g. pd.read_csv)\n",
    "\n",
    "# Input data files are available in the \"../input/\" directory.\n",
    "# For example, running this (by clicking run or pressing Shift+Enter) will list all files under the input directory\n",
    "\n",
    "import os\n",
    "\n",
    "# Any results you write to the current directory are saved as output.\n",
    ""
   ]
  },
  {
   "cell_type": "code",
   "execution_count": 5,
   "metadata": {},
   "outputs": [
    {
     "output_type": "stream",
     "name": "stdout",
     "text": "/Users/mduby/Data/Kaggle/Roche/zinterst.txt\n/Users/mduby/Data/Kaggle/Roche/covid_19_canada_open_data_working_group/public-covid-19-cases-canada.csv\n/Users/mduby/Data/Kaggle/Roche/New_York_Times/covid-19-county-level-data.csv\n/Users/mduby/Data/Kaggle/Roche/New_York_Times/covid-19-state-level-data.csv\n/Users/mduby/Data/Kaggle/Roche/esri_covid-19/esri_covid-19/definitive-healthcare-usa-hospital-beds.csv\n/Users/mduby/Data/Kaggle/Roche/esri_covid-19/esri_covid-19/coronavirus-world-airport-impacts.csv\n/Users/mduby/Data/Kaggle/Roche/esri_covid-19/esri_covid-19/cdcs-social-vulnerability-index-svi-2016-overall-svi-census-tract-level.csv\n/Users/mduby/Data/Kaggle/Roche/esri_covid-19/esri_covid-19/cdphe-health-facilities.csv\n/Users/mduby/Data/Kaggle/Roche/esri_covid-19/esri_covid-19/cdcs-social-vulnerability-index-svi-2016-overall-svi-county-level.csv\n/Users/mduby/Data/Kaggle/Roche/geotab/border-wait-times-at-us-canada-border.csv\n/Users/mduby/Data/Kaggle/Roche/un_world_food_programme/un_world_food_programme/world-travel-restrictions.csv\n/Users/mduby/Data/Kaggle/Roche/ECDC/current-data-on-the-geographic-distribution-of-covid-19-cases-worldwide.csv\n/Users/mduby/Data/Kaggle/Roche/coders_against_covid/crowd-sourced-covid-19-testing-locations.csv\n/Users/mduby/Data/Kaggle/Roche/worldometer/worldometer-confirmed-cases-and-deaths-by-country-territory-or-conveyance.csv\n/Users/mduby/Data/Kaggle/Roche/nextstrain/covid-19-genetic-phylogeny.csv\n/Users/mduby/Data/Kaggle/Roche/harvard_global_health_institute/hospital-capacity-by-state-20-population-contracted.csv\n/Users/mduby/Data/Kaggle/Roche/harvard_global_health_institute/hospital-capacity-by-state-40-population-contracted.csv\n/Users/mduby/Data/Kaggle/Roche/harvard_global_health_institute/hospital-capacity-by-state-60-population-contracted.csv\n/Users/mduby/Data/Kaggle/Roche/OpenTable/restaurant-performance-city.csv\n/Users/mduby/Data/Kaggle/Roche/OpenTable/restaurant-performance-state.csv\n/Users/mduby/Data/Kaggle/Roche/OpenTable/restaurant-performance.csv\n/Users/mduby/Data/Kaggle/Roche/OpenTable/restaurant-performance-country.csv\n/Users/mduby/Data/Kaggle/Roche/covid_tracking_project/covid-statistics-for-all-us-daily-updates.csv\n/Users/mduby/Data/Kaggle/Roche/covid_tracking_project/covid-sources-for-us-states.csv\n/Users/mduby/Data/Kaggle/Roche/covid_tracking_project/covid-statistics-by-us-states-daily-updates.csv\n/Users/mduby/Data/Kaggle/Roche/covid_tracking_project/covid-sources-for-counties.csv\n/Users/mduby/Data/Kaggle/Roche/covid_tracking_project/covid-statistics-for-all-us-totals.csv\n/Users/mduby/Data/Kaggle/Roche/covid_tracking_project/covid-statistics-by-us-states-totals.csv\n/Users/mduby/Data/Kaggle/Roche/world_bank/physicians-per-1-000-people.csv\n/Users/mduby/Data/Kaggle/Roche/world_bank/environment-social-and-governance-data.csv\n/Users/mduby/Data/Kaggle/Roche/world_bank/health-population-health-nutrition-population.csv\n/Users/mduby/Data/Kaggle/Roche/world_bank/specialist-surgical-workforce-per-100-000-population.csv\n/Users/mduby/Data/Kaggle/Roche/world_bank/smoking-prevalence-total-ages-15.csv\n/Users/mduby/Data/Kaggle/Roche/world_bank/international-debt.csv\n/Users/mduby/Data/Kaggle/Roche/world_bank/people-with-basic-handwashing-facilities-including-soap-and-water-of-population.csv\n/Users/mduby/Data/Kaggle/Roche/world_bank/global-population.csv\n/Users/mduby/Data/Kaggle/Roche/world_bank/world-development-indicators-country-summary.csv\n/Users/mduby/Data/Kaggle/Roche/world_bank/community-health-workers-per-1-000-people.csv\n/Users/mduby/Data/Kaggle/Roche/world_bank/hospital-beds-per-1-000-people.csv\n/Users/mduby/Data/Kaggle/Roche/world_bank/nurses-and-midwives-per-1-000-people.csv\n/Users/mduby/Data/Kaggle/Roche/world_bank/health-population-country-summary.csv\n/Users/mduby/Data/Kaggle/Roche/world_bank/climate-change.csv\n/Users/mduby/Data/Kaggle/Roche/ihme/2020_03_30/Hospitalization_all_locs.csv\n/Users/mduby/Data/Kaggle/Roche/ihme/2020_03_30/IHME_COVID_19_Data_Release_Information_Sheet_II.pdf\n/Users/mduby/Data/Kaggle/Roche/github/covid19-epidemic-french-national-data.csv\n/Users/mduby/Data/Kaggle/Roche/github/covid-19-italy-situation-monitoring-by-region.csv\n/Users/mduby/Data/Kaggle/Roche/github/cases-and-deaths-by-regions-in-belgium.csv\n/Users/mduby/Data/Kaggle/Roche/github/covid-19-uk-historical-data.csv\n/Users/mduby/Data/Kaggle/Roche/github/covid19-spain-cases.csv\n/Users/mduby/Data/Kaggle/Roche/our_world_in_data/tests-conducted-vs-total-confirmed-cases-of-covid-19.csv\n/Users/mduby/Data/Kaggle/Roche/our_world_in_data/total-covid-19-tests-performed-per-million-people.csv\n/Users/mduby/Data/Kaggle/Roche/our_world_in_data/total-covid-19-tests-performed-by-country.csv\n/Users/mduby/Data/Kaggle/Roche/our_world_in_data/per-million-people-tests-conducted-vs-total-confirmed-cases-of-covid-19.csv\n/Users/mduby/Data/Kaggle/Roche/WHO/who-situation-reports-covid-19.csv\n/Users/mduby/Data/Kaggle/Roche/WHO/tuberculosis-case-notifications.csv\n/Users/mduby/Data/Kaggle/Roche/county_health_rankings/county_health_rankings/us-county-health-rankings-2020.csv\n/Users/mduby/Data/Kaggle/Roche/us_cdc/us_cdc/global-tobacco-surveillance-system-gtss-global-youth-tobacco-survey-gyts.csv\n/Users/mduby/Data/Kaggle/Roche/us_cdc/us_cdc/500-cities-census-tract-level-data-gis-friendly-format-2019-release.csv\n/Users/mduby/Data/Kaggle/Roche/us_cdc/us_cdc/u-s-chronic-disease-indicators-cdi.csv\n/Users/mduby/Data/Kaggle/Roche/us_cdc/us_cdc/nutrition-physical-activity-and-obesity-behavioral-risk-factor-surveillance-system.csv\n/Users/mduby/Data/Kaggle/Roche/us_cdc/us_cdc/global-tobacco-surveillance-system-gtss-global-adult-tobacco-survey-gats.csv\n/Users/mduby/Data/Kaggle/Roche/HDE/acaps-covid-19-government-measures-dataset.csv\n/Users/mduby/Data/Kaggle/Roche/HDE/global-school-closures-covid-19.csv\n/Users/mduby/Data/Kaggle/Roche/HDE/inform-covid-indicators.csv\n/Users/mduby/Data/Kaggle/Roche/HDE/total-covid-19-tests-performed-by-country.csv\n/Users/mduby/Data/Kaggle/Roche/USAFacts/confirmed-covid-19-cases-in-us-by-state-and-county.csv\n/Users/mduby/Data/Kaggle/Roche/USAFacts/confirmed-covid-19-deaths-in-us-by-state-and-county.csv\n/Users/mduby/Data/Kaggle/Roche/covid_tracker_canada/covid-19-tracker-canada.csv\n/Users/mduby/Data/Kaggle/Roche/johns_hopkins/johns-hopkins-covid-19-daily-dashboard-cases-by-country.csv\n/Users/mduby/Data/Kaggle/Roche/johns_hopkins/johns-hopkins-covid-19-daily-dashboard-cases-over-time.csv\n/Users/mduby/Data/Kaggle/Roche/johns_hopkins/johns-hopkins-covid-19-daily-dashboard-cases.csv\n/Users/mduby/Data/Kaggle/Roche/johns_hopkins/johns-hopkins-covid-19-daily-dashboard-cases-by-states.csv\n/Users/mduby/Data/Kaggle/Roche/hifld/hifld/local-emergency-operations-centers-eoc.csv\n/Users/mduby/Data/Kaggle/Roche/hifld/hifld/urgent-care-facilities.csv\n/Users/mduby/Data/Kaggle/Roche/hifld/hifld/us-ports-of-entry.csv\n/Users/mduby/Data/Kaggle/Roche/hifld/hifld/nursing-homes.csv\n/Users/mduby/Data/Kaggle/Roche/hifld/hifld/public-health-departments.csv\n/Users/mduby/Data/Kaggle/Roche/hifld/hifld/aircraft-landing-facilities.csv\n/Users/mduby/Data/Kaggle/Roche/hifld/hifld/hospitals.csv\n"
    }
   ],
   "source": [
    "# set the root data directory\n",
    "root_data_dir = '/Users/mduby/Data/Kaggle/Roche/'\n",
    "# root_data_dir = '/kaggle/input/covid19-global-forecasting-week-2'\n",
    "\n",
    "# load the files\n",
    "\n",
    "for dirname, _, filenames in os.walk(root_data_dir):\n",
    "    for filename in filenames:\n",
    "        print(os.path.join(dirname, filename))\n",
    "\n",
    ""
   ]
  },
  {
   "cell_type": "code",
   "execution_count": 13,
   "metadata": {},
   "outputs": [
    {
     "output_type": "stream",
     "name": "stdout",
     "text": "describe the dataset\n"
    },
    {
     "output_type": "execute_result",
     "data": {
      "text/plain": "           confirmed        deaths  recovered  active  delta_confirmed  \\\ncount   12282.000000  12282.000000        0.0     0.0     12282.000000   \nmean      793.591272     31.907670        NaN     NaN        63.700130   \nstd      6663.723884    347.774493        NaN     NaN       598.337188   \nmin         0.000000      0.000000        NaN     NaN       -15.000000   \n25%         0.000000      0.000000        NaN     NaN         0.000000   \n50%         0.000000      0.000000        NaN     NaN         0.000000   \n75%        11.000000      0.000000        NaN     NaN         1.000000   \nmax    161807.000000  11591.000000        NaN     NaN     20921.000000   \n\n       delta_recovered  \ncount              0.0  \nmean               NaN  \nstd                NaN  \nmin                NaN  \n25%                NaN  \n50%                NaN  \n75%                NaN  \nmax                NaN  ",
      "text/html": "<div>\n<style scoped>\n    .dataframe tbody tr th:only-of-type {\n        vertical-align: middle;\n    }\n\n    .dataframe tbody tr th {\n        vertical-align: top;\n    }\n\n    .dataframe thead th {\n        text-align: right;\n    }\n</style>\n<table border=\"1\" class=\"dataframe\">\n  <thead>\n    <tr style=\"text-align: right;\">\n      <th></th>\n      <th>confirmed</th>\n      <th>deaths</th>\n      <th>recovered</th>\n      <th>active</th>\n      <th>delta_confirmed</th>\n      <th>delta_recovered</th>\n    </tr>\n  </thead>\n  <tbody>\n    <tr>\n      <th>count</th>\n      <td>12282.000000</td>\n      <td>12282.000000</td>\n      <td>0.0</td>\n      <td>0.0</td>\n      <td>12282.000000</td>\n      <td>0.0</td>\n    </tr>\n    <tr>\n      <th>mean</th>\n      <td>793.591272</td>\n      <td>31.907670</td>\n      <td>NaN</td>\n      <td>NaN</td>\n      <td>63.700130</td>\n      <td>NaN</td>\n    </tr>\n    <tr>\n      <th>std</th>\n      <td>6663.723884</td>\n      <td>347.774493</td>\n      <td>NaN</td>\n      <td>NaN</td>\n      <td>598.337188</td>\n      <td>NaN</td>\n    </tr>\n    <tr>\n      <th>min</th>\n      <td>0.000000</td>\n      <td>0.000000</td>\n      <td>NaN</td>\n      <td>NaN</td>\n      <td>-15.000000</td>\n      <td>NaN</td>\n    </tr>\n    <tr>\n      <th>25%</th>\n      <td>0.000000</td>\n      <td>0.000000</td>\n      <td>NaN</td>\n      <td>NaN</td>\n      <td>0.000000</td>\n      <td>NaN</td>\n    </tr>\n    <tr>\n      <th>50%</th>\n      <td>0.000000</td>\n      <td>0.000000</td>\n      <td>NaN</td>\n      <td>NaN</td>\n      <td>0.000000</td>\n      <td>NaN</td>\n    </tr>\n    <tr>\n      <th>75%</th>\n      <td>11.000000</td>\n      <td>0.000000</td>\n      <td>NaN</td>\n      <td>NaN</td>\n      <td>1.000000</td>\n      <td>NaN</td>\n    </tr>\n    <tr>\n      <th>max</th>\n      <td>161807.000000</td>\n      <td>11591.000000</td>\n      <td>NaN</td>\n      <td>NaN</td>\n      <td>20921.000000</td>\n      <td>NaN</td>\n    </tr>\n  </tbody>\n</table>\n</div>"
     },
     "metadata": {},
     "execution_count": 13
    }
   ],
   "source": [
    "# load dataset and describe\n",
    "df_try = pd.read_csv(root_data_dir + \"johns_hopkins/johns-hopkins-covid-19-daily-dashboard-cases-over-time.csv\")\n",
    "\n",
    "# describe\n",
    "print(\"describe the dataset\")\n",
    "df_try.describe()\n",
    "\n",
    ""
   ]
  },
  {
   "cell_type": "code",
   "execution_count": 14,
   "metadata": {},
   "outputs": [
    {
     "output_type": "stream",
     "name": "stdout",
     "text": "the columns are: Index(['country_region', 'last_update', 'confirmed', 'deaths', 'recovered',\n       'active', 'delta_confirmed', 'delta_recovered'],\n      dtype='object')\n"
    }
   ],
   "source": [
    "# list columns\n",
    "print(\"the columns are: {}\".format(df_try.columns))"
   ]
  },
  {
   "cell_type": "code",
   "execution_count": 15,
   "metadata": {},
   "outputs": [
    {
     "output_type": "stream",
     "name": "stdout",
     "text": "describe the dataset\n"
    },
    {
     "output_type": "execute_result",
     "data": {
      "text/plain": "               day        month         year         cases       deaths  \\\ncount  7904.000000  7904.000000  7904.000000   7904.000000  7904.000000   \nmean     17.801240     2.304909  2019.991523     98.405617     4.715587   \nstd       8.721968     1.224986     0.091684    737.889417    42.903044   \nmin       1.000000     1.000000  2019.000000     -9.000000     0.000000   \n25%      11.000000     1.000000  2020.000000      0.000000     0.000000   \n50%      19.000000     2.000000  2020.000000      0.000000     0.000000   \n75%      25.000000     3.000000  2020.000000      7.000000     0.000000   \nmax      31.000000    12.000000  2020.000000  21595.000000   971.000000   \n\n        popdata2018  \ncount  7.888000e+03  \nmean   6.892717e+07  \nstd    2.099202e+08  \nmin    1.000000e+03  \n25%    4.137309e+06  \n50%    1.062716e+07  \n75%    4.672375e+07  \nmax    1.392730e+09  ",
      "text/html": "<div>\n<style scoped>\n    .dataframe tbody tr th:only-of-type {\n        vertical-align: middle;\n    }\n\n    .dataframe tbody tr th {\n        vertical-align: top;\n    }\n\n    .dataframe thead th {\n        text-align: right;\n    }\n</style>\n<table border=\"1\" class=\"dataframe\">\n  <thead>\n    <tr style=\"text-align: right;\">\n      <th></th>\n      <th>day</th>\n      <th>month</th>\n      <th>year</th>\n      <th>cases</th>\n      <th>deaths</th>\n      <th>popdata2018</th>\n    </tr>\n  </thead>\n  <tbody>\n    <tr>\n      <th>count</th>\n      <td>7904.000000</td>\n      <td>7904.000000</td>\n      <td>7904.000000</td>\n      <td>7904.000000</td>\n      <td>7904.000000</td>\n      <td>7.888000e+03</td>\n    </tr>\n    <tr>\n      <th>mean</th>\n      <td>17.801240</td>\n      <td>2.304909</td>\n      <td>2019.991523</td>\n      <td>98.405617</td>\n      <td>4.715587</td>\n      <td>6.892717e+07</td>\n    </tr>\n    <tr>\n      <th>std</th>\n      <td>8.721968</td>\n      <td>1.224986</td>\n      <td>0.091684</td>\n      <td>737.889417</td>\n      <td>42.903044</td>\n      <td>2.099202e+08</td>\n    </tr>\n    <tr>\n      <th>min</th>\n      <td>1.000000</td>\n      <td>1.000000</td>\n      <td>2019.000000</td>\n      <td>-9.000000</td>\n      <td>0.000000</td>\n      <td>1.000000e+03</td>\n    </tr>\n    <tr>\n      <th>25%</th>\n      <td>11.000000</td>\n      <td>1.000000</td>\n      <td>2020.000000</td>\n      <td>0.000000</td>\n      <td>0.000000</td>\n      <td>4.137309e+06</td>\n    </tr>\n    <tr>\n      <th>50%</th>\n      <td>19.000000</td>\n      <td>2.000000</td>\n      <td>2020.000000</td>\n      <td>0.000000</td>\n      <td>0.000000</td>\n      <td>1.062716e+07</td>\n    </tr>\n    <tr>\n      <th>75%</th>\n      <td>25.000000</td>\n      <td>3.000000</td>\n      <td>2020.000000</td>\n      <td>7.000000</td>\n      <td>0.000000</td>\n      <td>4.672375e+07</td>\n    </tr>\n    <tr>\n      <th>max</th>\n      <td>31.000000</td>\n      <td>12.000000</td>\n      <td>2020.000000</td>\n      <td>21595.000000</td>\n      <td>971.000000</td>\n      <td>1.392730e+09</td>\n    </tr>\n  </tbody>\n</table>\n</div>"
     },
     "metadata": {},
     "execution_count": 15
    }
   ],
   "source": [
    "# load the dataset and describe\n",
    "file_path = \"ECDC/current-data-on-the-geographic-distribution-of-covid-19-cases-worldwide.csv\"\n",
    "df_try = pd.read_csv(root_data_dir + file_path)\n",
    "\n",
    "# describe\n",
    "print(\"describe the dataset\")\n",
    "df_try.describe()\n",
    ""
   ]
  },
  {
   "cell_type": "code",
   "execution_count": 16,
   "metadata": {},
   "outputs": [
    {
     "output_type": "stream",
     "name": "stdout",
     "text": "the columns are: Index(['daterep', 'day', 'month', 'year', 'cases', 'deaths',\n       'countriesandterritories', 'geoid', 'countryterritorycode',\n       'popdata2018'],\n      dtype='object')\n"
    }
   ],
   "source": [
    "# list columns\n",
    "print(\"the columns are: {}\".format(df_try.columns))\n",
    ""
   ]
  },
  {
   "cell_type": "code",
   "execution_count": 17,
   "metadata": {},
   "outputs": [
    {
     "output_type": "execute_result",
     "data": {
      "text/plain": "      daterep  day  month  year  cases  deaths countriesandterritories geoid  \\\n0  2020-03-31   31      3  2020     27       0             Afghanistan    AF   \n1  2020-03-30   30      3  2020      8       1             Afghanistan    AF   \n2  2020-03-29   29      3  2020     15       1             Afghanistan    AF   \n3  2020-03-28   28      3  2020     16       1             Afghanistan    AF   \n4  2020-03-27   27      3  2020      0       0             Afghanistan    AF   \n5  2020-03-26   26      3  2020     33       0             Afghanistan    AF   \n6  2020-03-25   25      3  2020      2       0             Afghanistan    AF   \n7  2020-03-24   24      3  2020      6       1             Afghanistan    AF   \n8  2020-03-23   23      3  2020     10       0             Afghanistan    AF   \n9  2020-03-22   22      3  2020      0       0             Afghanistan    AF   \n\n  countryterritorycode  popdata2018  \n0                  AFG   37172386.0  \n1                  AFG   37172386.0  \n2                  AFG   37172386.0  \n3                  AFG   37172386.0  \n4                  AFG   37172386.0  \n5                  AFG   37172386.0  \n6                  AFG   37172386.0  \n7                  AFG   37172386.0  \n8                  AFG   37172386.0  \n9                  AFG   37172386.0  ",
      "text/html": "<div>\n<style scoped>\n    .dataframe tbody tr th:only-of-type {\n        vertical-align: middle;\n    }\n\n    .dataframe tbody tr th {\n        vertical-align: top;\n    }\n\n    .dataframe thead th {\n        text-align: right;\n    }\n</style>\n<table border=\"1\" class=\"dataframe\">\n  <thead>\n    <tr style=\"text-align: right;\">\n      <th></th>\n      <th>daterep</th>\n      <th>day</th>\n      <th>month</th>\n      <th>year</th>\n      <th>cases</th>\n      <th>deaths</th>\n      <th>countriesandterritories</th>\n      <th>geoid</th>\n      <th>countryterritorycode</th>\n      <th>popdata2018</th>\n    </tr>\n  </thead>\n  <tbody>\n    <tr>\n      <th>0</th>\n      <td>2020-03-31</td>\n      <td>31</td>\n      <td>3</td>\n      <td>2020</td>\n      <td>27</td>\n      <td>0</td>\n      <td>Afghanistan</td>\n      <td>AF</td>\n      <td>AFG</td>\n      <td>37172386.0</td>\n    </tr>\n    <tr>\n      <th>1</th>\n      <td>2020-03-30</td>\n      <td>30</td>\n      <td>3</td>\n      <td>2020</td>\n      <td>8</td>\n      <td>1</td>\n      <td>Afghanistan</td>\n      <td>AF</td>\n      <td>AFG</td>\n      <td>37172386.0</td>\n    </tr>\n    <tr>\n      <th>2</th>\n      <td>2020-03-29</td>\n      <td>29</td>\n      <td>3</td>\n      <td>2020</td>\n      <td>15</td>\n      <td>1</td>\n      <td>Afghanistan</td>\n      <td>AF</td>\n      <td>AFG</td>\n      <td>37172386.0</td>\n    </tr>\n    <tr>\n      <th>3</th>\n      <td>2020-03-28</td>\n      <td>28</td>\n      <td>3</td>\n      <td>2020</td>\n      <td>16</td>\n      <td>1</td>\n      <td>Afghanistan</td>\n      <td>AF</td>\n      <td>AFG</td>\n      <td>37172386.0</td>\n    </tr>\n    <tr>\n      <th>4</th>\n      <td>2020-03-27</td>\n      <td>27</td>\n      <td>3</td>\n      <td>2020</td>\n      <td>0</td>\n      <td>0</td>\n      <td>Afghanistan</td>\n      <td>AF</td>\n      <td>AFG</td>\n      <td>37172386.0</td>\n    </tr>\n    <tr>\n      <th>5</th>\n      <td>2020-03-26</td>\n      <td>26</td>\n      <td>3</td>\n      <td>2020</td>\n      <td>33</td>\n      <td>0</td>\n      <td>Afghanistan</td>\n      <td>AF</td>\n      <td>AFG</td>\n      <td>37172386.0</td>\n    </tr>\n    <tr>\n      <th>6</th>\n      <td>2020-03-25</td>\n      <td>25</td>\n      <td>3</td>\n      <td>2020</td>\n      <td>2</td>\n      <td>0</td>\n      <td>Afghanistan</td>\n      <td>AF</td>\n      <td>AFG</td>\n      <td>37172386.0</td>\n    </tr>\n    <tr>\n      <th>7</th>\n      <td>2020-03-24</td>\n      <td>24</td>\n      <td>3</td>\n      <td>2020</td>\n      <td>6</td>\n      <td>1</td>\n      <td>Afghanistan</td>\n      <td>AF</td>\n      <td>AFG</td>\n      <td>37172386.0</td>\n    </tr>\n    <tr>\n      <th>8</th>\n      <td>2020-03-23</td>\n      <td>23</td>\n      <td>3</td>\n      <td>2020</td>\n      <td>10</td>\n      <td>0</td>\n      <td>Afghanistan</td>\n      <td>AF</td>\n      <td>AFG</td>\n      <td>37172386.0</td>\n    </tr>\n    <tr>\n      <th>9</th>\n      <td>2020-03-22</td>\n      <td>22</td>\n      <td>3</td>\n      <td>2020</td>\n      <td>0</td>\n      <td>0</td>\n      <td>Afghanistan</td>\n      <td>AF</td>\n      <td>AFG</td>\n      <td>37172386.0</td>\n    </tr>\n  </tbody>\n</table>\n</div>"
     },
     "metadata": {},
     "execution_count": 17
    }
   ],
   "source": [
    "# head the file\n",
    "df_try.head(10)\n",
    "\n",
    ""
   ]
  },
  {
   "cell_type": "code",
   "execution_count": 18,
   "metadata": {},
   "outputs": [
    {
     "output_type": "stream",
     "name": "stdout",
     "text": "describe the dataset\n"
    },
    {
     "output_type": "execute_result",
     "data": {
      "text/plain": "            year  total_covid_19_tests\ncount  77.000000             77.000000\nmean   56.506494          30387.961039\nstd     4.229045          61674.895578\nmin    34.000000            222.000000\n25%    56.000000           2504.000000\n50%    58.000000           8603.000000\n75%    59.000000          19337.000000\nmax    59.000000         320000.000000",
      "text/html": "<div>\n<style scoped>\n    .dataframe tbody tr th:only-of-type {\n        vertical-align: middle;\n    }\n\n    .dataframe tbody tr th {\n        vertical-align: top;\n    }\n\n    .dataframe thead th {\n        text-align: right;\n    }\n</style>\n<table border=\"1\" class=\"dataframe\">\n  <thead>\n    <tr style=\"text-align: right;\">\n      <th></th>\n      <th>year</th>\n      <th>total_covid_19_tests</th>\n    </tr>\n  </thead>\n  <tbody>\n    <tr>\n      <th>count</th>\n      <td>77.000000</td>\n      <td>77.000000</td>\n    </tr>\n    <tr>\n      <th>mean</th>\n      <td>56.506494</td>\n      <td>30387.961039</td>\n    </tr>\n    <tr>\n      <th>std</th>\n      <td>4.229045</td>\n      <td>61674.895578</td>\n    </tr>\n    <tr>\n      <th>min</th>\n      <td>34.000000</td>\n      <td>222.000000</td>\n    </tr>\n    <tr>\n      <th>25%</th>\n      <td>56.000000</td>\n      <td>2504.000000</td>\n    </tr>\n    <tr>\n      <th>50%</th>\n      <td>58.000000</td>\n      <td>8603.000000</td>\n    </tr>\n    <tr>\n      <th>75%</th>\n      <td>59.000000</td>\n      <td>19337.000000</td>\n    </tr>\n    <tr>\n      <th>max</th>\n      <td>59.000000</td>\n      <td>320000.000000</td>\n    </tr>\n  </tbody>\n</table>\n</div>"
     },
     "metadata": {},
     "execution_count": 18
    }
   ],
   "source": [
    "# load the dataset and describe\n",
    "file_path = \"HDE/total-covid-19-tests-performed-by-country.csv\"\n",
    "df_try = pd.read_csv(root_data_dir + file_path)\n",
    "\n",
    "# describe\n",
    "print(\"describe the dataset\")\n",
    "df_try.describe()\n",
    ""
   ]
  },
  {
   "cell_type": "code",
   "execution_count": 19,
   "metadata": {},
   "outputs": [
    {
     "output_type": "execute_result",
     "data": {
      "text/plain": "                                     entity code  year  total_covid_19_tests\n0                                   Armenia  ARM    57                   813\n1                                 Australia  AUS    59                113615\n2  Australia - Australian Capital Territory  NaN    59                  2062\n3               Australia - New South Wales  NaN    58                 39089\n4                    Australia - Queensland  NaN    58                 27000\n5               Australia - South Australia  NaN    59                 16717\n6                      Australia - Tasmania  NaN    58                   807\n7                      Australia - Victoria  NaN    58                 19337\n8             Australia - Western Australia  NaN    58                  8603\n9                                   Austria  AUT    59                 15613",
      "text/html": "<div>\n<style scoped>\n    .dataframe tbody tr th:only-of-type {\n        vertical-align: middle;\n    }\n\n    .dataframe tbody tr th {\n        vertical-align: top;\n    }\n\n    .dataframe thead th {\n        text-align: right;\n    }\n</style>\n<table border=\"1\" class=\"dataframe\">\n  <thead>\n    <tr style=\"text-align: right;\">\n      <th></th>\n      <th>entity</th>\n      <th>code</th>\n      <th>year</th>\n      <th>total_covid_19_tests</th>\n    </tr>\n  </thead>\n  <tbody>\n    <tr>\n      <th>0</th>\n      <td>Armenia</td>\n      <td>ARM</td>\n      <td>57</td>\n      <td>813</td>\n    </tr>\n    <tr>\n      <th>1</th>\n      <td>Australia</td>\n      <td>AUS</td>\n      <td>59</td>\n      <td>113615</td>\n    </tr>\n    <tr>\n      <th>2</th>\n      <td>Australia - Australian Capital Territory</td>\n      <td>NaN</td>\n      <td>59</td>\n      <td>2062</td>\n    </tr>\n    <tr>\n      <th>3</th>\n      <td>Australia - New South Wales</td>\n      <td>NaN</td>\n      <td>58</td>\n      <td>39089</td>\n    </tr>\n    <tr>\n      <th>4</th>\n      <td>Australia - Queensland</td>\n      <td>NaN</td>\n      <td>58</td>\n      <td>27000</td>\n    </tr>\n    <tr>\n      <th>5</th>\n      <td>Australia - South Australia</td>\n      <td>NaN</td>\n      <td>59</td>\n      <td>16717</td>\n    </tr>\n    <tr>\n      <th>6</th>\n      <td>Australia - Tasmania</td>\n      <td>NaN</td>\n      <td>58</td>\n      <td>807</td>\n    </tr>\n    <tr>\n      <th>7</th>\n      <td>Australia - Victoria</td>\n      <td>NaN</td>\n      <td>58</td>\n      <td>19337</td>\n    </tr>\n    <tr>\n      <th>8</th>\n      <td>Australia - Western Australia</td>\n      <td>NaN</td>\n      <td>58</td>\n      <td>8603</td>\n    </tr>\n    <tr>\n      <th>9</th>\n      <td>Austria</td>\n      <td>AUT</td>\n      <td>59</td>\n      <td>15613</td>\n    </tr>\n  </tbody>\n</table>\n</div>"
     },
     "metadata": {},
     "execution_count": 19
    }
   ],
   "source": [
    "# head the file\n",
    "df_try.head(10)\n",
    ""
   ]
  },
  {
   "cell_type": "code",
   "execution_count": 20,
   "metadata": {},
   "outputs": [
    {
     "output_type": "stream",
     "name": "stdout",
     "text": "describe the dataset\n"
    },
    {
     "output_type": "execute_result",
     "data": {
      "text/plain": "       new_confirmed_cases  total_deaths  new_total_deaths  \\\ncount          6029.000000   6109.000000       5980.000000   \nmean            144.483662     57.638075          5.466555   \nstd            1421.790790    447.173923         45.221386   \nmin               0.000000      0.000000          0.000000   \n25%               0.000000      0.000000          0.000000   \n50%               1.000000      0.000000          0.000000   \n75%              14.000000      2.000000          0.000000   \nmax           56249.000000  10781.000000        971.000000   \n\n       total_cases_with_travel_history_to_china  \\\ncount                                399.000000   \nmean                                   6.265664   \nstd                                    7.078852   \nmin                                    0.000000   \n25%                                    1.000000   \n50%                                    3.000000   \n75%                                    9.000000   \nmax                                   26.000000   \n\n       new_cases_with_travel_history_to_china  \\\ncount                              340.000000   \nmean                                 0.138235   \nstd                                  0.422463   \nmin                                  0.000000   \n25%                                  0.000000   \n50%                                  0.000000   \n75%                                  0.000000   \nmax                                  3.000000   \n\n       new_cases_with_possible_or_confirmed_transmission_outside_china  \\\ncount                                         338.000000                 \nmean                                            0.428994                 \nstd                                             1.417144                 \nmin                                             0.000000                 \n25%                                             0.000000                 \n50%                                             0.000000                 \n75%                                             0.000000                 \nmax                                            11.000000                 \n\n       total_cases_with_site_of_transmission_under_investigation  \\\ncount                                         120.000000           \nmean                                            5.133333           \nstd                                            49.468254           \nmin                                             0.000000           \n25%                                             0.000000           \n50%                                             0.000000           \n75%                                             0.000000           \nmax                                           542.000000           \n\n       new_cases_with_site_of_transmission_under_investigation  \\\ncount                                          53.000000         \nmean                                            2.037736         \nstd                                            12.122710         \nmin                                             0.000000         \n25%                                             0.000000         \n50%                                             0.000000         \n75%                                             0.000000         \nmax                                            88.000000         \n\n       place_of_exposure_in_china_cases  \\\ncount                        287.000000   \nmean                           5.560976   \nstd                            7.684942   \nmin                            0.000000   \n25%                            0.000000   \n50%                            2.000000   \n75%                            7.500000   \nmax                           28.000000   \n\n       place_of_exposure_outside_reporting_country_and_china_cases  ...  \\\ncount                                         286.000000            ...   \nmean                                            2.174825            ...   \nstd                                             5.789058            ...   \nmin                                             0.000000            ...   \n25%                                             0.000000            ...   \n50%                                             0.000000            ...   \n75%                                             2.000000            ...   \nmax                                            43.000000            ...   \n\n       place_of_exposure_in_reporting_country_cases_new  suspected_cases  \\\ncount                                        287.000000       986.000000   \nmean                                           2.076655        29.817444   \nstd                                           12.880613       370.054049   \nmin                                            0.000000         0.000000   \n25%                                            0.000000         0.000000   \n50%                                            0.000000         0.000000   \n75%                                            0.000000         4.000000   \nmax                                          130.000000     11295.000000   \n\n       daily_suspected_cases  daily_lab_confirmed_cases  daily_total_cases  \\\ncount             102.000000                 102.000000                0.0   \nmean               65.147059                  45.343137                NaN   \nstd               192.011468                 229.976344                NaN   \nmin                 0.000000                   0.000000                NaN   \n25%                 4.000000                   1.000000                NaN   \n50%                18.500000                   4.000000                NaN   \n75%                48.750000                  11.000000                NaN   \nmax              1216.000000                1728.000000                NaN   \n\n       cumulative_total_cases  cumulative_deaths  days_since_last_reported  \\\ncount                     0.0                0.0               4331.000000   \nmean                      NaN                NaN                  1.538444   \nstd                       NaN                NaN                  4.944083   \nmin                       NaN                NaN                  0.000000   \n25%                       NaN                NaN                  0.000000   \n50%                       NaN                NaN                  0.000000   \n75%                       NaN                NaN                  1.000000   \nmax                       NaN                NaN                 59.000000   \n\n       who_region    population  \ncount         0.0   1122.000000  \nmean          NaN   4200.676471  \nstd           NaN   2901.847610  \nmin           NaN     66.000000  \n25%           NaN   2359.000000  \n50%           NaN   3745.500000  \n75%           NaN   5917.000000  \nmax           NaN  11346.000000  \n\n[8 rows x 21 columns]",
      "text/html": "<div>\n<style scoped>\n    .dataframe tbody tr th:only-of-type {\n        vertical-align: middle;\n    }\n\n    .dataframe tbody tr th {\n        vertical-align: top;\n    }\n\n    .dataframe thead th {\n        text-align: right;\n    }\n</style>\n<table border=\"1\" class=\"dataframe\">\n  <thead>\n    <tr style=\"text-align: right;\">\n      <th></th>\n      <th>new_confirmed_cases</th>\n      <th>total_deaths</th>\n      <th>new_total_deaths</th>\n      <th>total_cases_with_travel_history_to_china</th>\n      <th>new_cases_with_travel_history_to_china</th>\n      <th>new_cases_with_possible_or_confirmed_transmission_outside_china</th>\n      <th>total_cases_with_site_of_transmission_under_investigation</th>\n      <th>new_cases_with_site_of_transmission_under_investigation</th>\n      <th>place_of_exposure_in_china_cases</th>\n      <th>place_of_exposure_outside_reporting_country_and_china_cases</th>\n      <th>...</th>\n      <th>place_of_exposure_in_reporting_country_cases_new</th>\n      <th>suspected_cases</th>\n      <th>daily_suspected_cases</th>\n      <th>daily_lab_confirmed_cases</th>\n      <th>daily_total_cases</th>\n      <th>cumulative_total_cases</th>\n      <th>cumulative_deaths</th>\n      <th>days_since_last_reported</th>\n      <th>who_region</th>\n      <th>population</th>\n    </tr>\n  </thead>\n  <tbody>\n    <tr>\n      <th>count</th>\n      <td>6029.000000</td>\n      <td>6109.000000</td>\n      <td>5980.000000</td>\n      <td>399.000000</td>\n      <td>340.000000</td>\n      <td>338.000000</td>\n      <td>120.000000</td>\n      <td>53.000000</td>\n      <td>287.000000</td>\n      <td>286.000000</td>\n      <td>...</td>\n      <td>287.000000</td>\n      <td>986.000000</td>\n      <td>102.000000</td>\n      <td>102.000000</td>\n      <td>0.0</td>\n      <td>0.0</td>\n      <td>0.0</td>\n      <td>4331.000000</td>\n      <td>0.0</td>\n      <td>1122.000000</td>\n    </tr>\n    <tr>\n      <th>mean</th>\n      <td>144.483662</td>\n      <td>57.638075</td>\n      <td>5.466555</td>\n      <td>6.265664</td>\n      <td>0.138235</td>\n      <td>0.428994</td>\n      <td>5.133333</td>\n      <td>2.037736</td>\n      <td>5.560976</td>\n      <td>2.174825</td>\n      <td>...</td>\n      <td>2.076655</td>\n      <td>29.817444</td>\n      <td>65.147059</td>\n      <td>45.343137</td>\n      <td>NaN</td>\n      <td>NaN</td>\n      <td>NaN</td>\n      <td>1.538444</td>\n      <td>NaN</td>\n      <td>4200.676471</td>\n    </tr>\n    <tr>\n      <th>std</th>\n      <td>1421.790790</td>\n      <td>447.173923</td>\n      <td>45.221386</td>\n      <td>7.078852</td>\n      <td>0.422463</td>\n      <td>1.417144</td>\n      <td>49.468254</td>\n      <td>12.122710</td>\n      <td>7.684942</td>\n      <td>5.789058</td>\n      <td>...</td>\n      <td>12.880613</td>\n      <td>370.054049</td>\n      <td>192.011468</td>\n      <td>229.976344</td>\n      <td>NaN</td>\n      <td>NaN</td>\n      <td>NaN</td>\n      <td>4.944083</td>\n      <td>NaN</td>\n      <td>2901.847610</td>\n    </tr>\n    <tr>\n      <th>min</th>\n      <td>0.000000</td>\n      <td>0.000000</td>\n      <td>0.000000</td>\n      <td>0.000000</td>\n      <td>0.000000</td>\n      <td>0.000000</td>\n      <td>0.000000</td>\n      <td>0.000000</td>\n      <td>0.000000</td>\n      <td>0.000000</td>\n      <td>...</td>\n      <td>0.000000</td>\n      <td>0.000000</td>\n      <td>0.000000</td>\n      <td>0.000000</td>\n      <td>NaN</td>\n      <td>NaN</td>\n      <td>NaN</td>\n      <td>0.000000</td>\n      <td>NaN</td>\n      <td>66.000000</td>\n    </tr>\n    <tr>\n      <th>25%</th>\n      <td>0.000000</td>\n      <td>0.000000</td>\n      <td>0.000000</td>\n      <td>1.000000</td>\n      <td>0.000000</td>\n      <td>0.000000</td>\n      <td>0.000000</td>\n      <td>0.000000</td>\n      <td>0.000000</td>\n      <td>0.000000</td>\n      <td>...</td>\n      <td>0.000000</td>\n      <td>0.000000</td>\n      <td>4.000000</td>\n      <td>1.000000</td>\n      <td>NaN</td>\n      <td>NaN</td>\n      <td>NaN</td>\n      <td>0.000000</td>\n      <td>NaN</td>\n      <td>2359.000000</td>\n    </tr>\n    <tr>\n      <th>50%</th>\n      <td>1.000000</td>\n      <td>0.000000</td>\n      <td>0.000000</td>\n      <td>3.000000</td>\n      <td>0.000000</td>\n      <td>0.000000</td>\n      <td>0.000000</td>\n      <td>0.000000</td>\n      <td>2.000000</td>\n      <td>0.000000</td>\n      <td>...</td>\n      <td>0.000000</td>\n      <td>0.000000</td>\n      <td>18.500000</td>\n      <td>4.000000</td>\n      <td>NaN</td>\n      <td>NaN</td>\n      <td>NaN</td>\n      <td>0.000000</td>\n      <td>NaN</td>\n      <td>3745.500000</td>\n    </tr>\n    <tr>\n      <th>75%</th>\n      <td>14.000000</td>\n      <td>2.000000</td>\n      <td>0.000000</td>\n      <td>9.000000</td>\n      <td>0.000000</td>\n      <td>0.000000</td>\n      <td>0.000000</td>\n      <td>0.000000</td>\n      <td>7.500000</td>\n      <td>2.000000</td>\n      <td>...</td>\n      <td>0.000000</td>\n      <td>4.000000</td>\n      <td>48.750000</td>\n      <td>11.000000</td>\n      <td>NaN</td>\n      <td>NaN</td>\n      <td>NaN</td>\n      <td>1.000000</td>\n      <td>NaN</td>\n      <td>5917.000000</td>\n    </tr>\n    <tr>\n      <th>max</th>\n      <td>56249.000000</td>\n      <td>10781.000000</td>\n      <td>971.000000</td>\n      <td>26.000000</td>\n      <td>3.000000</td>\n      <td>11.000000</td>\n      <td>542.000000</td>\n      <td>88.000000</td>\n      <td>28.000000</td>\n      <td>43.000000</td>\n      <td>...</td>\n      <td>130.000000</td>\n      <td>11295.000000</td>\n      <td>1216.000000</td>\n      <td>1728.000000</td>\n      <td>NaN</td>\n      <td>NaN</td>\n      <td>NaN</td>\n      <td>59.000000</td>\n      <td>NaN</td>\n      <td>11346.000000</td>\n    </tr>\n  </tbody>\n</table>\n<p>8 rows × 21 columns</p>\n</div>"
     },
     "metadata": {},
     "execution_count": 20
    }
   ],
   "source": [
    "# load the dataset and describe\n",
    "file_path = \"WHO/who-situation-reports-covid-19.csv\"\n",
    "df_try = pd.read_csv(root_data_dir + file_path)\n",
    "\n",
    "# describe\n",
    "print(\"describe the dataset\")\n",
    "df_try.describe()\n",
    ""
   ]
  },
  {
   "cell_type": "code",
   "execution_count": 21,
   "metadata": {},
   "outputs": [
    {
     "output_type": "stream",
     "name": "stdout",
     "text": "the columns are: Index(['reported_date', 'reporting_country_territory', 'province_city',\n       'confirmed_cases', 'new_confirmed_cases', 'total_deaths',\n       'new_total_deaths', 'transmission_classification',\n       'total_cases_with_travel_history_to_china',\n       'new_cases_with_travel_history_to_china',\n       'total_cases_with_possible_or_confirmed_transmission_outside_china',\n       'new_cases_with_possible_or_confirmed_transmission_outside_china',\n       'total_cases_with_site_of_transmission_under_investigation',\n       'new_cases_with_site_of_transmission_under_investigation',\n       'place_of_exposure_in_china_cases',\n       'place_of_exposure_in_china_cases_new',\n       'place_of_exposure_outside_reporting_country_and_china_cases',\n       'place_of_exposure_outside_reporting_country_and_china_cases_new',\n       'place_of_exposure_in_reporting_country_cases',\n       'place_of_exposure_in_reporting_country_cases_new', 'suspected_cases',\n       'daily_suspected_cases', 'daily_lab_confirmed_cases',\n       'daily_clinically_diagnosed_cases', 'daily_total_cases',\n       'cumulative_total_cases', 'cumulative_lab_confirmed_cases',\n       'cumulative_clinically_diagnosed_cases', 'cumulative_deaths',\n       'days_since_last_reported', 'who_region', 'population', 'report_url'],\n      dtype='object')\n"
    }
   ],
   "source": [
    "# list the columns\n",
    "print(\"the columns are: {}\".format(df_try.columns))\n",
    ""
   ]
  },
  {
   "cell_type": "code",
   "execution_count": 22,
   "metadata": {},
   "outputs": [
    {
     "output_type": "stream",
     "name": "stdout",
     "text": "describe the dataset\n"
    },
    {
     "output_type": "execute_result",
     "data": {
      "text/plain": "        latitude_d    longitude    objectid\ncount  3080.000000  3080.000000  3080.00000\nmean     25.337862     8.738401  1540.50000\nstd      27.463435    85.606109   889.26374\nmin     -54.843300  -178.065994     1.00000\n25%       8.601878   -73.677076   770.75000\n50%      31.960100    13.125000  1540.50000\n75%      45.751551    77.576925  2310.25000\nmax      78.246101   179.339996  3080.00000",
      "text/html": "<div>\n<style scoped>\n    .dataframe tbody tr th:only-of-type {\n        vertical-align: middle;\n    }\n\n    .dataframe tbody tr th {\n        vertical-align: top;\n    }\n\n    .dataframe thead th {\n        text-align: right;\n    }\n</style>\n<table border=\"1\" class=\"dataframe\">\n  <thead>\n    <tr style=\"text-align: right;\">\n      <th></th>\n      <th>latitude_d</th>\n      <th>longitude</th>\n      <th>objectid</th>\n    </tr>\n  </thead>\n  <tbody>\n    <tr>\n      <th>count</th>\n      <td>3080.000000</td>\n      <td>3080.000000</td>\n      <td>3080.00000</td>\n    </tr>\n    <tr>\n      <th>mean</th>\n      <td>25.337862</td>\n      <td>8.738401</td>\n      <td>1540.50000</td>\n    </tr>\n    <tr>\n      <th>std</th>\n      <td>27.463435</td>\n      <td>85.606109</td>\n      <td>889.26374</td>\n    </tr>\n    <tr>\n      <th>min</th>\n      <td>-54.843300</td>\n      <td>-178.065994</td>\n      <td>1.00000</td>\n    </tr>\n    <tr>\n      <th>25%</th>\n      <td>8.601878</td>\n      <td>-73.677076</td>\n      <td>770.75000</td>\n    </tr>\n    <tr>\n      <th>50%</th>\n      <td>31.960100</td>\n      <td>13.125000</td>\n      <td>1540.50000</td>\n    </tr>\n    <tr>\n      <th>75%</th>\n      <td>45.751551</td>\n      <td>77.576925</td>\n      <td>2310.25000</td>\n    </tr>\n    <tr>\n      <th>max</th>\n      <td>78.246101</td>\n      <td>179.339996</td>\n      <td>3080.00000</td>\n    </tr>\n  </tbody>\n</table>\n</div>"
     },
     "metadata": {},
     "execution_count": 22
    }
   ],
   "source": [
    "# load the dataset and describe\n",
    "file_path = \"esri_covid-19/esri_covid-19/coronavirus-world-airport-impacts.csv\"\n",
    "df_try = pd.read_csv(root_data_dir + file_path)\n",
    "\n",
    "# describe\n",
    "print(\"describe the dataset\")\n",
    "df_try.describe()\n",
    ""
   ]
  },
  {
   "cell_type": "code",
   "execution_count": 23,
   "metadata": {},
   "outputs": [
    {
     "output_type": "execute_result",
     "data": {
      "text/plain": "                    geometry ident            type  \\\n0  POINT (-76.5008 0.505228)  SKAS  medium_airport   \n1    POINT (-73.1848 7.1265)  SKBG  medium_airport   \n2   POINT (-74.1469 4.70159)  SKBO   large_airport   \n3   POINT (-74.7808 10.8896)  SKBQ  medium_airport   \n4   POINT (-77.3947 6.20292)  SKBS  medium_airport   \n5   POINT (-76.9898 3.81963)  SKBU  medium_airport   \n6   POINT (-72.5115 7.92757)  SKCC  medium_airport   \n7    POINT (-75.513 10.4424)  SKCG  medium_airport   \n8   POINT (-76.3816 3.54322)  SKCL  medium_airport   \n9   POINT (-78.7492 1.81442)  SKCO  medium_airport   \n\n                                           name  latitude_d  longitude  \\\n0                          Tres De Mayo Airport    0.505228   -76.5008   \n1                             Palonegro Airport    7.126500   -73.1848   \n2               El Dorado International Airport    4.701590   -74.1469   \n3       Ernesto Cortissoz International Airport   10.889600   -74.7808   \n4                  José Celestino Mutis Airport    6.202920   -77.3947   \n5                   Gerardo Tobar López Airport    3.819630   -76.9898   \n6             Camilo Daza International Airport    7.927570   -72.5115   \n7            Rafael Nuñez International Airport   10.442400   -75.5130   \n8  Alfonso Bonilla Aragon International Airport    3.543220   -76.3816   \n9                            La Florida Airport    1.814420   -78.7492   \n\n  elevation      continent iso_countr iso_region    municipali scheduled  \\\n0       815  South America         CO     CO-PUT   Puerto Asís       yes   \n1      3897  South America         CO     CO-SAN   Bucaramanga       yes   \n2      8361  South America         CO     CO-CUN        Bogota       yes   \n3        98  South America         CO     CO-ATL  Barranquilla       yes   \n4        80  South America         CO     CO-CHO  Bahía Solano       yes   \n5        48  South America         CO     CO-VAC  Buenaventura       yes   \n6      1096  South America         CO     CO-NSA        Cúcuta       yes   \n7         4  South America         CO     CO-BOL     Cartagena       yes   \n8      3162  South America         CO     CO-VAC          Cali       yes   \n9         8  South America         CO     CO-NAR        Tumaco       yes   \n\n  gps_code iata_code        status  objectid  \n0     SKAS       PUU           NaN      3001  \n1     SKBG       BGA           NaN      3002  \n2     SKBO       BOG  Restrictions      3003  \n3     SKBQ       BAQ  Restrictions      3004  \n4     SKBS       BSC           NaN      3005  \n5     SKBU       BUN           NaN      3006  \n6     SKCC       CUC  Restrictions      3007  \n7     SKCG       CTG  Restrictions      3008  \n8     SKCL       CLO  Restrictions      3009  \n9     SKCO       TCO           NaN      3010  ",
      "text/html": "<div>\n<style scoped>\n    .dataframe tbody tr th:only-of-type {\n        vertical-align: middle;\n    }\n\n    .dataframe tbody tr th {\n        vertical-align: top;\n    }\n\n    .dataframe thead th {\n        text-align: right;\n    }\n</style>\n<table border=\"1\" class=\"dataframe\">\n  <thead>\n    <tr style=\"text-align: right;\">\n      <th></th>\n      <th>geometry</th>\n      <th>ident</th>\n      <th>type</th>\n      <th>name</th>\n      <th>latitude_d</th>\n      <th>longitude</th>\n      <th>elevation</th>\n      <th>continent</th>\n      <th>iso_countr</th>\n      <th>iso_region</th>\n      <th>municipali</th>\n      <th>scheduled</th>\n      <th>gps_code</th>\n      <th>iata_code</th>\n      <th>status</th>\n      <th>objectid</th>\n    </tr>\n  </thead>\n  <tbody>\n    <tr>\n      <th>0</th>\n      <td>POINT (-76.5008 0.505228)</td>\n      <td>SKAS</td>\n      <td>medium_airport</td>\n      <td>Tres De Mayo Airport</td>\n      <td>0.505228</td>\n      <td>-76.5008</td>\n      <td>815</td>\n      <td>South America</td>\n      <td>CO</td>\n      <td>CO-PUT</td>\n      <td>Puerto Asís</td>\n      <td>yes</td>\n      <td>SKAS</td>\n      <td>PUU</td>\n      <td>NaN</td>\n      <td>3001</td>\n    </tr>\n    <tr>\n      <th>1</th>\n      <td>POINT (-73.1848 7.1265)</td>\n      <td>SKBG</td>\n      <td>medium_airport</td>\n      <td>Palonegro Airport</td>\n      <td>7.126500</td>\n      <td>-73.1848</td>\n      <td>3897</td>\n      <td>South America</td>\n      <td>CO</td>\n      <td>CO-SAN</td>\n      <td>Bucaramanga</td>\n      <td>yes</td>\n      <td>SKBG</td>\n      <td>BGA</td>\n      <td>NaN</td>\n      <td>3002</td>\n    </tr>\n    <tr>\n      <th>2</th>\n      <td>POINT (-74.1469 4.70159)</td>\n      <td>SKBO</td>\n      <td>large_airport</td>\n      <td>El Dorado International Airport</td>\n      <td>4.701590</td>\n      <td>-74.1469</td>\n      <td>8361</td>\n      <td>South America</td>\n      <td>CO</td>\n      <td>CO-CUN</td>\n      <td>Bogota</td>\n      <td>yes</td>\n      <td>SKBO</td>\n      <td>BOG</td>\n      <td>Restrictions</td>\n      <td>3003</td>\n    </tr>\n    <tr>\n      <th>3</th>\n      <td>POINT (-74.7808 10.8896)</td>\n      <td>SKBQ</td>\n      <td>medium_airport</td>\n      <td>Ernesto Cortissoz International Airport</td>\n      <td>10.889600</td>\n      <td>-74.7808</td>\n      <td>98</td>\n      <td>South America</td>\n      <td>CO</td>\n      <td>CO-ATL</td>\n      <td>Barranquilla</td>\n      <td>yes</td>\n      <td>SKBQ</td>\n      <td>BAQ</td>\n      <td>Restrictions</td>\n      <td>3004</td>\n    </tr>\n    <tr>\n      <th>4</th>\n      <td>POINT (-77.3947 6.20292)</td>\n      <td>SKBS</td>\n      <td>medium_airport</td>\n      <td>José Celestino Mutis Airport</td>\n      <td>6.202920</td>\n      <td>-77.3947</td>\n      <td>80</td>\n      <td>South America</td>\n      <td>CO</td>\n      <td>CO-CHO</td>\n      <td>Bahía Solano</td>\n      <td>yes</td>\n      <td>SKBS</td>\n      <td>BSC</td>\n      <td>NaN</td>\n      <td>3005</td>\n    </tr>\n    <tr>\n      <th>5</th>\n      <td>POINT (-76.9898 3.81963)</td>\n      <td>SKBU</td>\n      <td>medium_airport</td>\n      <td>Gerardo Tobar López Airport</td>\n      <td>3.819630</td>\n      <td>-76.9898</td>\n      <td>48</td>\n      <td>South America</td>\n      <td>CO</td>\n      <td>CO-VAC</td>\n      <td>Buenaventura</td>\n      <td>yes</td>\n      <td>SKBU</td>\n      <td>BUN</td>\n      <td>NaN</td>\n      <td>3006</td>\n    </tr>\n    <tr>\n      <th>6</th>\n      <td>POINT (-72.5115 7.92757)</td>\n      <td>SKCC</td>\n      <td>medium_airport</td>\n      <td>Camilo Daza International Airport</td>\n      <td>7.927570</td>\n      <td>-72.5115</td>\n      <td>1096</td>\n      <td>South America</td>\n      <td>CO</td>\n      <td>CO-NSA</td>\n      <td>Cúcuta</td>\n      <td>yes</td>\n      <td>SKCC</td>\n      <td>CUC</td>\n      <td>Restrictions</td>\n      <td>3007</td>\n    </tr>\n    <tr>\n      <th>7</th>\n      <td>POINT (-75.513 10.4424)</td>\n      <td>SKCG</td>\n      <td>medium_airport</td>\n      <td>Rafael Nuñez International Airport</td>\n      <td>10.442400</td>\n      <td>-75.5130</td>\n      <td>4</td>\n      <td>South America</td>\n      <td>CO</td>\n      <td>CO-BOL</td>\n      <td>Cartagena</td>\n      <td>yes</td>\n      <td>SKCG</td>\n      <td>CTG</td>\n      <td>Restrictions</td>\n      <td>3008</td>\n    </tr>\n    <tr>\n      <th>8</th>\n      <td>POINT (-76.3816 3.54322)</td>\n      <td>SKCL</td>\n      <td>medium_airport</td>\n      <td>Alfonso Bonilla Aragon International Airport</td>\n      <td>3.543220</td>\n      <td>-76.3816</td>\n      <td>3162</td>\n      <td>South America</td>\n      <td>CO</td>\n      <td>CO-VAC</td>\n      <td>Cali</td>\n      <td>yes</td>\n      <td>SKCL</td>\n      <td>CLO</td>\n      <td>Restrictions</td>\n      <td>3009</td>\n    </tr>\n    <tr>\n      <th>9</th>\n      <td>POINT (-78.7492 1.81442)</td>\n      <td>SKCO</td>\n      <td>medium_airport</td>\n      <td>La Florida Airport</td>\n      <td>1.814420</td>\n      <td>-78.7492</td>\n      <td>8</td>\n      <td>South America</td>\n      <td>CO</td>\n      <td>CO-NAR</td>\n      <td>Tumaco</td>\n      <td>yes</td>\n      <td>SKCO</td>\n      <td>TCO</td>\n      <td>NaN</td>\n      <td>3010</td>\n    </tr>\n  </tbody>\n</table>\n</div>"
     },
     "metadata": {},
     "execution_count": 23
    }
   ],
   "source": [
    "df_try.head(10)"
   ]
  },
  {
   "cell_type": "code",
   "execution_count": 24,
   "metadata": {},
   "outputs": [
    {
     "output_type": "execute_result",
     "data": {
      "text/plain": "Index(['geometry', 'ident', 'type', 'name', 'latitude_d', 'longitude',\n       'elevation', 'continent', 'iso_countr', 'iso_region', 'municipali',\n       'scheduled', 'gps_code', 'iata_code', 'status', 'objectid'],\n      dtype='object')"
     },
     "metadata": {},
     "execution_count": 24
    }
   ],
   "source": [
    "df_try.columns"
   ]
  },
  {
   "cell_type": "code",
   "execution_count": null,
   "metadata": {},
   "outputs": [],
   "source": []
  }
 ]
}