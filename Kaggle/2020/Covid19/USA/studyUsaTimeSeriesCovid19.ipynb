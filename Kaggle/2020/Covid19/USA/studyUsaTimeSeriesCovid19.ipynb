{
 "cells": [
  {
   "cell_type": "code",
   "execution_count": 2,
   "metadata": {},
   "outputs": [],
   "source": [
    "# imports\n",
    "import pandas as pd \n",
    "\n"
   ]
  },
  {
   "cell_type": "code",
   "execution_count": 7,
   "metadata": {},
   "outputs": [],
   "source": [
    "# load the US covid19 file\n",
    "file_location = \"/Users/mduby/Data/Kaggle/Covid19/20200424/usa_county_wise.csv\"\n",
    "covid_df = pd.read_csv(file_location)\n"
   ]
  },
  {
   "cell_type": "code",
   "execution_count": 8,
   "metadata": {},
   "outputs": [
    {
     "output_type": "execute_result",
     "data": {
      "text/plain": "                UID          code3           FIPS            Lat  \\\ncount  3.032730e+05  303366.000000  302436.000000  303273.000000   \nmean   8.390341e+07     839.445739   32108.751845      37.165903   \nstd    3.287964e+06      18.063460   17848.651408       8.661141   \nmin    1.600000e+01      16.000000      60.000000     -14.271000   \n25%    8.401904e+07     840.000000   19038.500000      34.237321   \n50%    8.403006e+07     840.000000   30046.000000      38.149014   \n75%    8.404702e+07     840.000000   47011.500000      41.683301   \nmax    8.410000e+07     850.000000   99999.000000      69.314792   \n\n               Long_      Confirmed         Deaths  \ncount  303273.000000  303366.000000  303366.000000  \nmean      -89.160375      45.114347       1.915772  \nstd        21.543770    1052.562032      84.145464  \nmin      -170.132000       0.000000       0.000000  \n25%       -98.066628       0.000000       0.000000  \n50%       -89.827411       0.000000       0.000000  \n75%       -82.793570       1.000000       0.000000  \nmax       145.673900  147297.000000   16388.000000  ",
      "text/html": "<div>\n<style scoped>\n    .dataframe tbody tr th:only-of-type {\n        vertical-align: middle;\n    }\n\n    .dataframe tbody tr th {\n        vertical-align: top;\n    }\n\n    .dataframe thead th {\n        text-align: right;\n    }\n</style>\n<table border=\"1\" class=\"dataframe\">\n  <thead>\n    <tr style=\"text-align: right;\">\n      <th></th>\n      <th>UID</th>\n      <th>code3</th>\n      <th>FIPS</th>\n      <th>Lat</th>\n      <th>Long_</th>\n      <th>Confirmed</th>\n      <th>Deaths</th>\n    </tr>\n  </thead>\n  <tbody>\n    <tr>\n      <th>count</th>\n      <td>3.032730e+05</td>\n      <td>303366.000000</td>\n      <td>302436.000000</td>\n      <td>303273.000000</td>\n      <td>303273.000000</td>\n      <td>303366.000000</td>\n      <td>303366.000000</td>\n    </tr>\n    <tr>\n      <th>mean</th>\n      <td>8.390341e+07</td>\n      <td>839.445739</td>\n      <td>32108.751845</td>\n      <td>37.165903</td>\n      <td>-89.160375</td>\n      <td>45.114347</td>\n      <td>1.915772</td>\n    </tr>\n    <tr>\n      <th>std</th>\n      <td>3.287964e+06</td>\n      <td>18.063460</td>\n      <td>17848.651408</td>\n      <td>8.661141</td>\n      <td>21.543770</td>\n      <td>1052.562032</td>\n      <td>84.145464</td>\n    </tr>\n    <tr>\n      <th>min</th>\n      <td>1.600000e+01</td>\n      <td>16.000000</td>\n      <td>60.000000</td>\n      <td>-14.271000</td>\n      <td>-170.132000</td>\n      <td>0.000000</td>\n      <td>0.000000</td>\n    </tr>\n    <tr>\n      <th>25%</th>\n      <td>8.401904e+07</td>\n      <td>840.000000</td>\n      <td>19038.500000</td>\n      <td>34.237321</td>\n      <td>-98.066628</td>\n      <td>0.000000</td>\n      <td>0.000000</td>\n    </tr>\n    <tr>\n      <th>50%</th>\n      <td>8.403006e+07</td>\n      <td>840.000000</td>\n      <td>30046.000000</td>\n      <td>38.149014</td>\n      <td>-89.827411</td>\n      <td>0.000000</td>\n      <td>0.000000</td>\n    </tr>\n    <tr>\n      <th>75%</th>\n      <td>8.404702e+07</td>\n      <td>840.000000</td>\n      <td>47011.500000</td>\n      <td>41.683301</td>\n      <td>-82.793570</td>\n      <td>1.000000</td>\n      <td>0.000000</td>\n    </tr>\n    <tr>\n      <th>max</th>\n      <td>8.410000e+07</td>\n      <td>850.000000</td>\n      <td>99999.000000</td>\n      <td>69.314792</td>\n      <td>145.673900</td>\n      <td>147297.000000</td>\n      <td>16388.000000</td>\n    </tr>\n  </tbody>\n</table>\n</div>"
     },
     "metadata": {},
     "execution_count": 8
    }
   ],
   "source": [
    "# describe the data\n",
    "covid_df.describe()\n"
   ]
  },
  {
   "cell_type": "code",
   "execution_count": 9,
   "metadata": {},
   "outputs": [
    {
     "output_type": "stream",
     "name": "stdout",
     "text": "<class 'pandas.core.frame.DataFrame'>\nRangeIndex: 303366 entries, 0 to 303365\nData columns (total 14 columns):\n #   Column          Non-Null Count   Dtype  \n---  ------          --------------   -----  \n 0   UID             303273 non-null  float64\n 1   iso2            303366 non-null  object \n 2   iso3            303366 non-null  object \n 3   code3           303366 non-null  int64  \n 4   FIPS            302436 non-null  float64\n 5   Admin2          302715 non-null  object \n 6   Province_State  303366 non-null  object \n 7   Country_Region  303366 non-null  object \n 8   Lat             303273 non-null  float64\n 9   Long_           303273 non-null  float64\n 10  Combined_Key    303366 non-null  object \n 11  Date            303366 non-null  object \n 12  Confirmed       303366 non-null  int64  \n 13  Deaths          303366 non-null  int64  \ndtypes: float64(4), int64(3), object(7)\nmemory usage: 32.4+ MB\n"
    }
   ],
   "source": [
    "# get the info\n",
    "covid_df.info()\n"
   ]
  },
  {
   "cell_type": "code",
   "execution_count": 10,
   "metadata": {},
   "outputs": [
    {
     "output_type": "execute_result",
     "data": {
      "text/plain": "     UID iso2 iso3  code3  FIPS Admin2            Province_State  \\\n0   16.0   AS  ASM     16  60.0    NaN            American Samoa   \n1  316.0   GU  GUM    316  66.0    NaN                      Guam   \n2  580.0   MP  MNP    580  69.0    NaN  Northern Mariana Islands   \n3  630.0   PR  PRI    630  72.0    NaN               Puerto Rico   \n4  850.0   VI  VIR    850  78.0    NaN            Virgin Islands   \n\n  Country_Region      Lat     Long_                  Combined_Key     Date  \\\n0             US -14.2710 -170.1320            American Samoa, US  1/22/20   \n1             US  13.4443  144.7937                      Guam, US  1/22/20   \n2             US  15.0979  145.6739  Northern Mariana Islands, US  1/22/20   \n3             US  18.2208  -66.5901               Puerto Rico, US  1/22/20   \n4             US  18.3358  -64.8963            Virgin Islands, US  1/22/20   \n\n   Confirmed  Deaths  \n0          0       0  \n1          0       0  \n2          0       0  \n3          0       0  \n4          0       0  ",
      "text/html": "<div>\n<style scoped>\n    .dataframe tbody tr th:only-of-type {\n        vertical-align: middle;\n    }\n\n    .dataframe tbody tr th {\n        vertical-align: top;\n    }\n\n    .dataframe thead th {\n        text-align: right;\n    }\n</style>\n<table border=\"1\" class=\"dataframe\">\n  <thead>\n    <tr style=\"text-align: right;\">\n      <th></th>\n      <th>UID</th>\n      <th>iso2</th>\n      <th>iso3</th>\n      <th>code3</th>\n      <th>FIPS</th>\n      <th>Admin2</th>\n      <th>Province_State</th>\n      <th>Country_Region</th>\n      <th>Lat</th>\n      <th>Long_</th>\n      <th>Combined_Key</th>\n      <th>Date</th>\n      <th>Confirmed</th>\n      <th>Deaths</th>\n    </tr>\n  </thead>\n  <tbody>\n    <tr>\n      <th>0</th>\n      <td>16.0</td>\n      <td>AS</td>\n      <td>ASM</td>\n      <td>16</td>\n      <td>60.0</td>\n      <td>NaN</td>\n      <td>American Samoa</td>\n      <td>US</td>\n      <td>-14.2710</td>\n      <td>-170.1320</td>\n      <td>American Samoa, US</td>\n      <td>1/22/20</td>\n      <td>0</td>\n      <td>0</td>\n    </tr>\n    <tr>\n      <th>1</th>\n      <td>316.0</td>\n      <td>GU</td>\n      <td>GUM</td>\n      <td>316</td>\n      <td>66.0</td>\n      <td>NaN</td>\n      <td>Guam</td>\n      <td>US</td>\n      <td>13.4443</td>\n      <td>144.7937</td>\n      <td>Guam, US</td>\n      <td>1/22/20</td>\n      <td>0</td>\n      <td>0</td>\n    </tr>\n    <tr>\n      <th>2</th>\n      <td>580.0</td>\n      <td>MP</td>\n      <td>MNP</td>\n      <td>580</td>\n      <td>69.0</td>\n      <td>NaN</td>\n      <td>Northern Mariana Islands</td>\n      <td>US</td>\n      <td>15.0979</td>\n      <td>145.6739</td>\n      <td>Northern Mariana Islands, US</td>\n      <td>1/22/20</td>\n      <td>0</td>\n      <td>0</td>\n    </tr>\n    <tr>\n      <th>3</th>\n      <td>630.0</td>\n      <td>PR</td>\n      <td>PRI</td>\n      <td>630</td>\n      <td>72.0</td>\n      <td>NaN</td>\n      <td>Puerto Rico</td>\n      <td>US</td>\n      <td>18.2208</td>\n      <td>-66.5901</td>\n      <td>Puerto Rico, US</td>\n      <td>1/22/20</td>\n      <td>0</td>\n      <td>0</td>\n    </tr>\n    <tr>\n      <th>4</th>\n      <td>850.0</td>\n      <td>VI</td>\n      <td>VIR</td>\n      <td>850</td>\n      <td>78.0</td>\n      <td>NaN</td>\n      <td>Virgin Islands</td>\n      <td>US</td>\n      <td>18.3358</td>\n      <td>-64.8963</td>\n      <td>Virgin Islands, US</td>\n      <td>1/22/20</td>\n      <td>0</td>\n      <td>0</td>\n    </tr>\n  </tbody>\n</table>\n</div>"
     },
     "metadata": {},
     "execution_count": 10
    }
   ],
   "source": [
    "# head the data\n",
    "covid_df.head()\n"
   ]
  },
  {
   "cell_type": "code",
   "execution_count": 17,
   "metadata": {},
   "outputs": [
    {
     "output_type": "stream",
     "name": "stdout",
     "text": "the counties array of tye <class 'numpy.ndarray'> are ['American Samoa' 'Guam' 'Northern Mariana Islands' 'Puerto Rico'\n 'Virgin Islands' 'Alabama' 'Alaska' 'Arizona' 'Arkansas' 'California'\n 'Colorado' 'Connecticut' 'Delaware' 'District of Columbia' 'Florida'\n 'Georgia' 'Hawaii' 'Idaho' 'Illinois' 'Indiana' 'Iowa' 'Kansas'\n 'Kentucky' 'Louisiana' 'Maine' 'Maryland' 'Massachusetts' 'Michigan'\n 'Minnesota' 'Mississippi' 'Missouri' 'Montana' 'Nebraska' 'Nevada'\n 'New Hampshire' 'New Jersey' 'New Mexico' 'New York' 'North Carolina'\n 'North Dakota' 'Ohio' 'Oklahoma' 'Oregon' 'Pennsylvania' 'Rhode Island'\n 'South Carolina' 'South Dakota' 'Tennessee' 'Texas' 'Utah' 'Vermont'\n 'Virginia' 'Washington' 'West Virginia' 'Wisconsin' 'Wyoming'\n 'Diamond Princess' 'Grand Princess']\n"
    }
   ],
   "source": [
    "# get the unique counties\n",
    "county_array = pd.unique(covid_df['Province_State'])\n",
    "\n",
    "print(\"the counties array of tye {} are {}\".format(type(county_array), county_array))"
   ]
  },
  {
   "cell_type": "code",
   "execution_count": 16,
   "metadata": {},
   "outputs": [
    {
     "output_type": "stream",
     "name": "stdout",
     "text": "The min date is 1/22/20 and max date is 4/9/20\n"
    }
   ],
   "source": [
    "# get the min and max of dats\n",
    "max_date = covid_df['Date'].max()\n",
    "min_date = covid_df['Date'].min()\n",
    "\n",
    "# print\n",
    "print(\"The min date is {} and max date is {}\".format(min_date, max_date))"
   ]
  },
  {
   "cell_type": "code",
   "execution_count": 19,
   "metadata": {},
   "outputs": [
    {
     "output_type": "stream",
     "name": "stdout",
     "text": "the dates are: ['1/22/20' '1/23/20' '1/24/20' '1/25/20' '1/26/20' '1/27/20' '1/28/20'\n '1/29/20' '1/30/20' '1/31/20' '2/1/20' '2/2/20' '2/3/20' '2/4/20'\n '2/5/20' '2/6/20' '2/7/20' '2/8/20' '2/9/20' '2/10/20' '2/11/20'\n '2/12/20' '2/13/20' '2/14/20' '2/15/20' '2/16/20' '2/17/20' '2/18/20'\n '2/19/20' '2/20/20' '2/21/20' '2/22/20' '2/23/20' '2/24/20' '2/25/20'\n '2/26/20' '2/27/20' '2/28/20' '2/29/20' '3/1/20' '3/2/20' '3/3/20'\n '3/4/20' '3/5/20' '3/6/20' '3/7/20' '3/8/20' '3/9/20' '3/10/20' '3/11/20'\n '3/12/20' '3/13/20' '3/14/20' '3/15/20' '3/16/20' '3/17/20' '3/18/20'\n '3/19/20' '3/20/20' '3/21/20' '3/22/20' '3/23/20' '3/24/20' '3/25/20'\n '3/26/20' '3/27/20' '3/28/20' '3/29/20' '3/30/20' '3/31/20' '4/1/20'\n '4/2/20' '4/3/20' '4/4/20' '4/5/20' '4/6/20' '4/7/20' '4/8/20' '4/9/20'\n '4/10/20' '4/11/20' '4/12/20' '4/13/20' '4/14/20' '4/15/20' '4/16/20'\n '4/17/20' '4/18/20' '4/19/20' '4/20/20' '4/21/20' '4/22/20' '4/23/20']\n"
    }
   ],
   "source": [
    "# get the date array\n",
    "date_array = pd.unique(covid_df['Date'])\n",
    "\n",
    "# print\n",
    "print(\"the dates are: {}\".format(date_array))"
   ]
  },
  {
   "cell_type": "code",
   "execution_count": null,
   "metadata": {},
   "outputs": [],
   "source": [
    "# get individual state data\n"
   ]
  }
 ],
 "metadata": {
  "language_info": {
   "codemirror_mode": {
    "name": "ipython",
    "version": 3
   },
   "file_extension": ".py",
   "mimetype": "text/x-python",
   "name": "python",
   "nbconvert_exporter": "python",
   "pygments_lexer": "ipython3",
   "version": "3.7.6-final"
  },
  "orig_nbformat": 2,
  "kernelspec": {
   "name": "python37664bittf237venv9b274482c7ba4966ad2cf02baa9bb24c",
   "display_name": "Python 3.7.6 64-bit ('tf2_37': venv)"
  }
 },
 "nbformat": 4,
 "nbformat_minor": 2
}