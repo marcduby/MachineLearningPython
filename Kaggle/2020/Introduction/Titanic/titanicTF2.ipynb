{
 "cells": [
  {
   "cell_type": "code",
   "execution_count": 67,
   "metadata": {},
   "outputs": [
    {
     "output_type": "stream",
     "name": "stdout",
     "text": "TF version 2.1.0\nsklearn version 0.22.2.post1\nnumpy version 1.18.1\npandas version 1.0.3\nseaborn version 0.10.1\nEager mode:  True\nGPU is NOT AVAILABLE\n"
    }
   ],
   "source": [
    "# imports\n",
    "import tensorflow as tf \n",
    "import numpy as np \n",
    "import pandas as pd \n",
    "import sklearn as sk\n",
    "from sklearn.utils import shuffle\n",
    "from sklearn.metrics import confusion_matrix\n",
    "from sklearn.preprocessing import OneHotEncoder\n",
    "from sklearn.model_selection import train_test_split\n",
    "from sklearn.preprocessing import StandardScaler, MinMaxScaler\n",
    "# from tf.keras.optimizers import SGD\n",
    "\n",
    "import seaborn as sn\n",
    "import matplotlib.pyplot as plt\n",
    "\n",
    "print(\"TF version {}\".format(tf.__version__))\n",
    "print(\"sklearn version {}\".format(sk.__version__))\n",
    "print(\"numpy version {}\".format(np.__version__))\n",
    "print(\"pandas version {}\".format(pd.__version__))\n",
    "print(\"seaborn version {}\".format(sn.__version__))\n",
    "\n",
    "print(\"Eager mode: \", tf.executing_eagerly())\n",
    "print(\"GPU is\", \"available\" if tf.config.experimental.list_physical_devices(\"GPU\") else \"NOT AVAILABLE\")\n"
   ]
  },
  {
   "cell_type": "code",
   "execution_count": 2,
   "metadata": {},
   "outputs": [
    {
     "output_type": "stream",
     "name": "stdout",
     "text": "<class 'pandas.core.frame.DataFrame'>\nRangeIndex: 891 entries, 0 to 890\nData columns (total 12 columns):\n #   Column       Non-Null Count  Dtype  \n---  ------       --------------  -----  \n 0   PassengerId  891 non-null    int64  \n 1   Survived     891 non-null    int64  \n 2   Pclass       891 non-null    int64  \n 3   Name         891 non-null    object \n 4   Sex          891 non-null    object \n 5   Age          714 non-null    float64\n 6   SibSp        891 non-null    int64  \n 7   Parch        891 non-null    int64  \n 8   Ticket       891 non-null    object \n 9   Fare         891 non-null    float64\n 10  Cabin        204 non-null    object \n 11  Embarked     889 non-null    object \ndtypes: float64(2), int64(5), object(5)\nmemory usage: 83.7+ KB\n"
    }
   ],
   "source": [
    "# load the training data\n",
    "titanic_df = pd.read_csv(\"../../../../Datasets/Kaggle/Competitions/Titanic/train.csv\")\n",
    "\n",
    "titanic_df.info()\n"
   ]
  },
  {
   "cell_type": "code",
   "execution_count": 76,
   "metadata": {},
   "outputs": [
    {
     "output_type": "execute_result",
     "data": {
      "text/plain": "       PassengerId    Survived      Pclass         Age       SibSp  \\\ncount   891.000000  891.000000  891.000000  714.000000  891.000000   \nmean    446.000000    0.383838    2.308642   29.699118    0.523008   \nstd     257.353842    0.486592    0.836071   14.526497    1.102743   \nmin       1.000000    0.000000    1.000000    0.420000    0.000000   \n25%     223.500000    0.000000    2.000000   20.125000    0.000000   \n50%     446.000000    0.000000    3.000000   28.000000    0.000000   \n75%     668.500000    1.000000    3.000000   38.000000    1.000000   \nmax     891.000000    1.000000    3.000000   80.000000    8.000000   \n\n            Parch        Fare  \ncount  891.000000  891.000000  \nmean     0.381594   32.204208  \nstd      0.806057   49.693429  \nmin      0.000000    0.000000  \n25%      0.000000    7.910400  \n50%      0.000000   14.454200  \n75%      0.000000   31.000000  \nmax      6.000000  512.329200  ",
      "text/html": "<div>\n<style scoped>\n    .dataframe tbody tr th:only-of-type {\n        vertical-align: middle;\n    }\n\n    .dataframe tbody tr th {\n        vertical-align: top;\n    }\n\n    .dataframe thead th {\n        text-align: right;\n    }\n</style>\n<table border=\"1\" class=\"dataframe\">\n  <thead>\n    <tr style=\"text-align: right;\">\n      <th></th>\n      <th>PassengerId</th>\n      <th>Survived</th>\n      <th>Pclass</th>\n      <th>Age</th>\n      <th>SibSp</th>\n      <th>Parch</th>\n      <th>Fare</th>\n    </tr>\n  </thead>\n  <tbody>\n    <tr>\n      <th>count</th>\n      <td>891.000000</td>\n      <td>891.000000</td>\n      <td>891.000000</td>\n      <td>714.000000</td>\n      <td>891.000000</td>\n      <td>891.000000</td>\n      <td>891.000000</td>\n    </tr>\n    <tr>\n      <th>mean</th>\n      <td>446.000000</td>\n      <td>0.383838</td>\n      <td>2.308642</td>\n      <td>29.699118</td>\n      <td>0.523008</td>\n      <td>0.381594</td>\n      <td>32.204208</td>\n    </tr>\n    <tr>\n      <th>std</th>\n      <td>257.353842</td>\n      <td>0.486592</td>\n      <td>0.836071</td>\n      <td>14.526497</td>\n      <td>1.102743</td>\n      <td>0.806057</td>\n      <td>49.693429</td>\n    </tr>\n    <tr>\n      <th>min</th>\n      <td>1.000000</td>\n      <td>0.000000</td>\n      <td>1.000000</td>\n      <td>0.420000</td>\n      <td>0.000000</td>\n      <td>0.000000</td>\n      <td>0.000000</td>\n    </tr>\n    <tr>\n      <th>25%</th>\n      <td>223.500000</td>\n      <td>0.000000</td>\n      <td>2.000000</td>\n      <td>20.125000</td>\n      <td>0.000000</td>\n      <td>0.000000</td>\n      <td>7.910400</td>\n    </tr>\n    <tr>\n      <th>50%</th>\n      <td>446.000000</td>\n      <td>0.000000</td>\n      <td>3.000000</td>\n      <td>28.000000</td>\n      <td>0.000000</td>\n      <td>0.000000</td>\n      <td>14.454200</td>\n    </tr>\n    <tr>\n      <th>75%</th>\n      <td>668.500000</td>\n      <td>1.000000</td>\n      <td>3.000000</td>\n      <td>38.000000</td>\n      <td>1.000000</td>\n      <td>0.000000</td>\n      <td>31.000000</td>\n    </tr>\n    <tr>\n      <th>max</th>\n      <td>891.000000</td>\n      <td>1.000000</td>\n      <td>3.000000</td>\n      <td>80.000000</td>\n      <td>8.000000</td>\n      <td>6.000000</td>\n      <td>512.329200</td>\n    </tr>\n  </tbody>\n</table>\n</div>"
     },
     "metadata": {},
     "execution_count": 76
    }
   ],
   "source": [
    "# gets stats on the data\n",
    "titanic_df.describe()\n"
   ]
  },
  {
   "cell_type": "code",
   "execution_count": 4,
   "metadata": {},
   "outputs": [
    {
     "output_type": "execute_result",
     "data": {
      "text/plain": "    PassengerId  Survived  Pclass  \\\n0             1         0       3   \n1             2         1       1   \n2             3         1       3   \n3             4         1       1   \n4             5         0       3   \n5             6         0       3   \n6             7         0       1   \n7             8         0       3   \n8             9         1       3   \n9            10         1       2   \n10           11         1       3   \n11           12         1       1   \n12           13         0       3   \n13           14         0       3   \n14           15         0       3   \n15           16         1       2   \n16           17         0       3   \n17           18         1       2   \n18           19         0       3   \n19           20         1       3   \n\n                                                 Name     Sex   Age  SibSp  \\\n0                             Braund, Mr. Owen Harris    male  22.0      1   \n1   Cumings, Mrs. John Bradley (Florence Briggs Th...  female  38.0      1   \n2                              Heikkinen, Miss. Laina  female  26.0      0   \n3        Futrelle, Mrs. Jacques Heath (Lily May Peel)  female  35.0      1   \n4                            Allen, Mr. William Henry    male  35.0      0   \n5                                    Moran, Mr. James    male   NaN      0   \n6                             McCarthy, Mr. Timothy J    male  54.0      0   \n7                      Palsson, Master. Gosta Leonard    male   2.0      3   \n8   Johnson, Mrs. Oscar W (Elisabeth Vilhelmina Berg)  female  27.0      0   \n9                 Nasser, Mrs. Nicholas (Adele Achem)  female  14.0      1   \n10                    Sandstrom, Miss. Marguerite Rut  female   4.0      1   \n11                           Bonnell, Miss. Elizabeth  female  58.0      0   \n12                     Saundercock, Mr. William Henry    male  20.0      0   \n13                        Andersson, Mr. Anders Johan    male  39.0      1   \n14               Vestrom, Miss. Hulda Amanda Adolfina  female  14.0      0   \n15                   Hewlett, Mrs. (Mary D Kingcome)   female  55.0      0   \n16                               Rice, Master. Eugene    male   2.0      4   \n17                       Williams, Mr. Charles Eugene    male   NaN      0   \n18  Vander Planke, Mrs. Julius (Emelia Maria Vande...  female  31.0      1   \n19                            Masselmani, Mrs. Fatima  female   NaN      0   \n\n    Parch            Ticket     Fare Cabin Embarked  \n0       0         A/5 21171   7.2500   NaN        S  \n1       0          PC 17599  71.2833   C85        C  \n2       0  STON/O2. 3101282   7.9250   NaN        S  \n3       0            113803  53.1000  C123        S  \n4       0            373450   8.0500   NaN        S  \n5       0            330877   8.4583   NaN        Q  \n6       0             17463  51.8625   E46        S  \n7       1            349909  21.0750   NaN        S  \n8       2            347742  11.1333   NaN        S  \n9       0            237736  30.0708   NaN        C  \n10      1           PP 9549  16.7000    G6        S  \n11      0            113783  26.5500  C103        S  \n12      0         A/5. 2151   8.0500   NaN        S  \n13      5            347082  31.2750   NaN        S  \n14      0            350406   7.8542   NaN        S  \n15      0            248706  16.0000   NaN        S  \n16      1            382652  29.1250   NaN        Q  \n17      0            244373  13.0000   NaN        S  \n18      0            345763  18.0000   NaN        S  \n19      0              2649   7.2250   NaN        C  ",
      "text/html": "<div>\n<style scoped>\n    .dataframe tbody tr th:only-of-type {\n        vertical-align: middle;\n    }\n\n    .dataframe tbody tr th {\n        vertical-align: top;\n    }\n\n    .dataframe thead th {\n        text-align: right;\n    }\n</style>\n<table border=\"1\" class=\"dataframe\">\n  <thead>\n    <tr style=\"text-align: right;\">\n      <th></th>\n      <th>PassengerId</th>\n      <th>Survived</th>\n      <th>Pclass</th>\n      <th>Name</th>\n      <th>Sex</th>\n      <th>Age</th>\n      <th>SibSp</th>\n      <th>Parch</th>\n      <th>Ticket</th>\n      <th>Fare</th>\n      <th>Cabin</th>\n      <th>Embarked</th>\n    </tr>\n  </thead>\n  <tbody>\n    <tr>\n      <th>0</th>\n      <td>1</td>\n      <td>0</td>\n      <td>3</td>\n      <td>Braund, Mr. Owen Harris</td>\n      <td>male</td>\n      <td>22.0</td>\n      <td>1</td>\n      <td>0</td>\n      <td>A/5 21171</td>\n      <td>7.2500</td>\n      <td>NaN</td>\n      <td>S</td>\n    </tr>\n    <tr>\n      <th>1</th>\n      <td>2</td>\n      <td>1</td>\n      <td>1</td>\n      <td>Cumings, Mrs. John Bradley (Florence Briggs Th...</td>\n      <td>female</td>\n      <td>38.0</td>\n      <td>1</td>\n      <td>0</td>\n      <td>PC 17599</td>\n      <td>71.2833</td>\n      <td>C85</td>\n      <td>C</td>\n    </tr>\n    <tr>\n      <th>2</th>\n      <td>3</td>\n      <td>1</td>\n      <td>3</td>\n      <td>Heikkinen, Miss. Laina</td>\n      <td>female</td>\n      <td>26.0</td>\n      <td>0</td>\n      <td>0</td>\n      <td>STON/O2. 3101282</td>\n      <td>7.9250</td>\n      <td>NaN</td>\n      <td>S</td>\n    </tr>\n    <tr>\n      <th>3</th>\n      <td>4</td>\n      <td>1</td>\n      <td>1</td>\n      <td>Futrelle, Mrs. Jacques Heath (Lily May Peel)</td>\n      <td>female</td>\n      <td>35.0</td>\n      <td>1</td>\n      <td>0</td>\n      <td>113803</td>\n      <td>53.1000</td>\n      <td>C123</td>\n      <td>S</td>\n    </tr>\n    <tr>\n      <th>4</th>\n      <td>5</td>\n      <td>0</td>\n      <td>3</td>\n      <td>Allen, Mr. William Henry</td>\n      <td>male</td>\n      <td>35.0</td>\n      <td>0</td>\n      <td>0</td>\n      <td>373450</td>\n      <td>8.0500</td>\n      <td>NaN</td>\n      <td>S</td>\n    </tr>\n    <tr>\n      <th>5</th>\n      <td>6</td>\n      <td>0</td>\n      <td>3</td>\n      <td>Moran, Mr. James</td>\n      <td>male</td>\n      <td>NaN</td>\n      <td>0</td>\n      <td>0</td>\n      <td>330877</td>\n      <td>8.4583</td>\n      <td>NaN</td>\n      <td>Q</td>\n    </tr>\n    <tr>\n      <th>6</th>\n      <td>7</td>\n      <td>0</td>\n      <td>1</td>\n      <td>McCarthy, Mr. Timothy J</td>\n      <td>male</td>\n      <td>54.0</td>\n      <td>0</td>\n      <td>0</td>\n      <td>17463</td>\n      <td>51.8625</td>\n      <td>E46</td>\n      <td>S</td>\n    </tr>\n    <tr>\n      <th>7</th>\n      <td>8</td>\n      <td>0</td>\n      <td>3</td>\n      <td>Palsson, Master. Gosta Leonard</td>\n      <td>male</td>\n      <td>2.0</td>\n      <td>3</td>\n      <td>1</td>\n      <td>349909</td>\n      <td>21.0750</td>\n      <td>NaN</td>\n      <td>S</td>\n    </tr>\n    <tr>\n      <th>8</th>\n      <td>9</td>\n      <td>1</td>\n      <td>3</td>\n      <td>Johnson, Mrs. Oscar W (Elisabeth Vilhelmina Berg)</td>\n      <td>female</td>\n      <td>27.0</td>\n      <td>0</td>\n      <td>2</td>\n      <td>347742</td>\n      <td>11.1333</td>\n      <td>NaN</td>\n      <td>S</td>\n    </tr>\n    <tr>\n      <th>9</th>\n      <td>10</td>\n      <td>1</td>\n      <td>2</td>\n      <td>Nasser, Mrs. Nicholas (Adele Achem)</td>\n      <td>female</td>\n      <td>14.0</td>\n      <td>1</td>\n      <td>0</td>\n      <td>237736</td>\n      <td>30.0708</td>\n      <td>NaN</td>\n      <td>C</td>\n    </tr>\n    <tr>\n      <th>10</th>\n      <td>11</td>\n      <td>1</td>\n      <td>3</td>\n      <td>Sandstrom, Miss. Marguerite Rut</td>\n      <td>female</td>\n      <td>4.0</td>\n      <td>1</td>\n      <td>1</td>\n      <td>PP 9549</td>\n      <td>16.7000</td>\n      <td>G6</td>\n      <td>S</td>\n    </tr>\n    <tr>\n      <th>11</th>\n      <td>12</td>\n      <td>1</td>\n      <td>1</td>\n      <td>Bonnell, Miss. Elizabeth</td>\n      <td>female</td>\n      <td>58.0</td>\n      <td>0</td>\n      <td>0</td>\n      <td>113783</td>\n      <td>26.5500</td>\n      <td>C103</td>\n      <td>S</td>\n    </tr>\n    <tr>\n      <th>12</th>\n      <td>13</td>\n      <td>0</td>\n      <td>3</td>\n      <td>Saundercock, Mr. William Henry</td>\n      <td>male</td>\n      <td>20.0</td>\n      <td>0</td>\n      <td>0</td>\n      <td>A/5. 2151</td>\n      <td>8.0500</td>\n      <td>NaN</td>\n      <td>S</td>\n    </tr>\n    <tr>\n      <th>13</th>\n      <td>14</td>\n      <td>0</td>\n      <td>3</td>\n      <td>Andersson, Mr. Anders Johan</td>\n      <td>male</td>\n      <td>39.0</td>\n      <td>1</td>\n      <td>5</td>\n      <td>347082</td>\n      <td>31.2750</td>\n      <td>NaN</td>\n      <td>S</td>\n    </tr>\n    <tr>\n      <th>14</th>\n      <td>15</td>\n      <td>0</td>\n      <td>3</td>\n      <td>Vestrom, Miss. Hulda Amanda Adolfina</td>\n      <td>female</td>\n      <td>14.0</td>\n      <td>0</td>\n      <td>0</td>\n      <td>350406</td>\n      <td>7.8542</td>\n      <td>NaN</td>\n      <td>S</td>\n    </tr>\n    <tr>\n      <th>15</th>\n      <td>16</td>\n      <td>1</td>\n      <td>2</td>\n      <td>Hewlett, Mrs. (Mary D Kingcome)</td>\n      <td>female</td>\n      <td>55.0</td>\n      <td>0</td>\n      <td>0</td>\n      <td>248706</td>\n      <td>16.0000</td>\n      <td>NaN</td>\n      <td>S</td>\n    </tr>\n    <tr>\n      <th>16</th>\n      <td>17</td>\n      <td>0</td>\n      <td>3</td>\n      <td>Rice, Master. Eugene</td>\n      <td>male</td>\n      <td>2.0</td>\n      <td>4</td>\n      <td>1</td>\n      <td>382652</td>\n      <td>29.1250</td>\n      <td>NaN</td>\n      <td>Q</td>\n    </tr>\n    <tr>\n      <th>17</th>\n      <td>18</td>\n      <td>1</td>\n      <td>2</td>\n      <td>Williams, Mr. Charles Eugene</td>\n      <td>male</td>\n      <td>NaN</td>\n      <td>0</td>\n      <td>0</td>\n      <td>244373</td>\n      <td>13.0000</td>\n      <td>NaN</td>\n      <td>S</td>\n    </tr>\n    <tr>\n      <th>18</th>\n      <td>19</td>\n      <td>0</td>\n      <td>3</td>\n      <td>Vander Planke, Mrs. Julius (Emelia Maria Vande...</td>\n      <td>female</td>\n      <td>31.0</td>\n      <td>1</td>\n      <td>0</td>\n      <td>345763</td>\n      <td>18.0000</td>\n      <td>NaN</td>\n      <td>S</td>\n    </tr>\n    <tr>\n      <th>19</th>\n      <td>20</td>\n      <td>1</td>\n      <td>3</td>\n      <td>Masselmani, Mrs. Fatima</td>\n      <td>female</td>\n      <td>NaN</td>\n      <td>0</td>\n      <td>0</td>\n      <td>2649</td>\n      <td>7.2250</td>\n      <td>NaN</td>\n      <td>C</td>\n    </tr>\n  </tbody>\n</table>\n</div>"
     },
     "metadata": {},
     "execution_count": 4
    }
   ],
   "source": [
    "# look at data\n",
    "titanic_df.head(20)"
   ]
  },
  {
   "cell_type": "code",
   "execution_count": 5,
   "metadata": {},
   "outputs": [
    {
     "output_type": "stream",
     "name": "stdout",
     "text": "<class 'pandas.core.frame.DataFrame'>\nRangeIndex: 891 entries, 0 to 890\nData columns (total 7 columns):\n #   Column    Non-Null Count  Dtype  \n---  ------    --------------  -----  \n 0   Pclass    891 non-null    int64  \n 1   Sex       891 non-null    object \n 2   Age       714 non-null    float64\n 3   SibSp     891 non-null    int64  \n 4   Parch     891 non-null    int64  \n 5   Fare      891 non-null    float64\n 6   Embarked  889 non-null    object \ndtypes: float64(2), int64(3), object(2)\nmemory usage: 48.9+ KB\n"
    }
   ],
   "source": [
    "# drop from train\n",
    "# passengerId, name, ticket\n",
    "train_df = titanic_df.filter(['Pclass', 'Sex', 'Age', 'SibSp', 'Parch', 'Fare', 'Embarked'], axis=1)\n",
    "label_df = titanic_df.filter(['Survived'], axis=1)\n",
    "\n",
    "\n",
    "# get info on train df\n",
    "train_df.info()\n"
   ]
  },
  {
   "cell_type": "code",
   "execution_count": 10,
   "metadata": {},
   "outputs": [
    {
     "output_type": "execute_result",
     "data": {
      "text/plain": "     Pclass   Sex   Age  SibSp  Parch     Fare Embarked\n560       3  male   NaN      0      0   7.7500        Q\n386       3  male   1.0      5      2  46.9000        S\n260       3  male   NaN      0      0   7.7500        Q\n212       3  male  22.0      0      0   7.2500        S\n164       3  male   1.0      4      1  39.6875        S",
      "text/html": "<div>\n<style scoped>\n    .dataframe tbody tr th:only-of-type {\n        vertical-align: middle;\n    }\n\n    .dataframe tbody tr th {\n        vertical-align: top;\n    }\n\n    .dataframe thead th {\n        text-align: right;\n    }\n</style>\n<table border=\"1\" class=\"dataframe\">\n  <thead>\n    <tr style=\"text-align: right;\">\n      <th></th>\n      <th>Pclass</th>\n      <th>Sex</th>\n      <th>Age</th>\n      <th>SibSp</th>\n      <th>Parch</th>\n      <th>Fare</th>\n      <th>Embarked</th>\n    </tr>\n  </thead>\n  <tbody>\n    <tr>\n      <th>560</th>\n      <td>3</td>\n      <td>male</td>\n      <td>NaN</td>\n      <td>0</td>\n      <td>0</td>\n      <td>7.7500</td>\n      <td>Q</td>\n    </tr>\n    <tr>\n      <th>386</th>\n      <td>3</td>\n      <td>male</td>\n      <td>1.0</td>\n      <td>5</td>\n      <td>2</td>\n      <td>46.9000</td>\n      <td>S</td>\n    </tr>\n    <tr>\n      <th>260</th>\n      <td>3</td>\n      <td>male</td>\n      <td>NaN</td>\n      <td>0</td>\n      <td>0</td>\n      <td>7.7500</td>\n      <td>Q</td>\n    </tr>\n    <tr>\n      <th>212</th>\n      <td>3</td>\n      <td>male</td>\n      <td>22.0</td>\n      <td>0</td>\n      <td>0</td>\n      <td>7.2500</td>\n      <td>S</td>\n    </tr>\n    <tr>\n      <th>164</th>\n      <td>3</td>\n      <td>male</td>\n      <td>1.0</td>\n      <td>4</td>\n      <td>1</td>\n      <td>39.6875</td>\n      <td>S</td>\n    </tr>\n  </tbody>\n</table>\n</div>"
     },
     "metadata": {},
     "execution_count": 10
    }
   ],
   "source": [
    "# look at the data\n",
    "train_df.head(5)\n"
   ]
  },
  {
   "cell_type": "code",
   "execution_count": 11,
   "metadata": {},
   "outputs": [
    {
     "output_type": "execute_result",
     "data": {
      "text/plain": "3    491\n1    216\n2    184\nName: Pclass, dtype: int64"
     },
     "metadata": {},
     "execution_count": 11
    }
   ],
   "source": [
    "# look at pClass (passenger class?)\n",
    "train_df['Pclass'].value_counts().head()\n"
   ]
  },
  {
   "cell_type": "code",
   "execution_count": 13,
   "metadata": {},
   "outputs": [
    {
     "output_type": "execute_result",
     "data": {
      "text/plain": "     Pclass   Age  SibSp  Parch     Fare  Sex_female  Sex_male  Embarked_C  \\\n560       3   NaN      0      0   7.7500           0         1           0   \n386       3   1.0      5      2  46.9000           0         1           0   \n260       3   NaN      0      0   7.7500           0         1           0   \n212       3  22.0      0      0   7.2500           0         1           0   \n164       3   1.0      4      1  39.6875           0         1           0   \n\n     Embarked_Q  Embarked_S  \n560           1           0  \n386           0           1  \n260           1           0  \n212           0           1  \n164           0           1  ",
      "text/html": "<div>\n<style scoped>\n    .dataframe tbody tr th:only-of-type {\n        vertical-align: middle;\n    }\n\n    .dataframe tbody tr th {\n        vertical-align: top;\n    }\n\n    .dataframe thead th {\n        text-align: right;\n    }\n</style>\n<table border=\"1\" class=\"dataframe\">\n  <thead>\n    <tr style=\"text-align: right;\">\n      <th></th>\n      <th>Pclass</th>\n      <th>Age</th>\n      <th>SibSp</th>\n      <th>Parch</th>\n      <th>Fare</th>\n      <th>Sex_female</th>\n      <th>Sex_male</th>\n      <th>Embarked_C</th>\n      <th>Embarked_Q</th>\n      <th>Embarked_S</th>\n    </tr>\n  </thead>\n  <tbody>\n    <tr>\n      <th>560</th>\n      <td>3</td>\n      <td>NaN</td>\n      <td>0</td>\n      <td>0</td>\n      <td>7.7500</td>\n      <td>0</td>\n      <td>1</td>\n      <td>0</td>\n      <td>1</td>\n      <td>0</td>\n    </tr>\n    <tr>\n      <th>386</th>\n      <td>3</td>\n      <td>1.0</td>\n      <td>5</td>\n      <td>2</td>\n      <td>46.9000</td>\n      <td>0</td>\n      <td>1</td>\n      <td>0</td>\n      <td>0</td>\n      <td>1</td>\n    </tr>\n    <tr>\n      <th>260</th>\n      <td>3</td>\n      <td>NaN</td>\n      <td>0</td>\n      <td>0</td>\n      <td>7.7500</td>\n      <td>0</td>\n      <td>1</td>\n      <td>0</td>\n      <td>1</td>\n      <td>0</td>\n    </tr>\n    <tr>\n      <th>212</th>\n      <td>3</td>\n      <td>22.0</td>\n      <td>0</td>\n      <td>0</td>\n      <td>7.2500</td>\n      <td>0</td>\n      <td>1</td>\n      <td>0</td>\n      <td>0</td>\n      <td>1</td>\n    </tr>\n    <tr>\n      <th>164</th>\n      <td>3</td>\n      <td>1.0</td>\n      <td>4</td>\n      <td>1</td>\n      <td>39.6875</td>\n      <td>0</td>\n      <td>1</td>\n      <td>0</td>\n      <td>0</td>\n      <td>1</td>\n    </tr>\n  </tbody>\n</table>\n</div>"
     },
     "metadata": {},
     "execution_count": 13
    }
   ],
   "source": [
    "# add pclass one hot fields\n",
    "train_dummies_df = pd.get_dummies(train_df)\n",
    "\n",
    "train_dummies_df.head(5)\n"
   ]
  },
  {
   "cell_type": "code",
   "execution_count": 19,
   "metadata": {},
   "outputs": [
    {
     "output_type": "execute_result",
     "data": {
      "text/plain": "      Age     Fare  Pclass_1  Pclass_2  Pclass_3  SibSp_0  SibSp_1  SibSp_2  \\\n560   NaN   7.7500         0         0         1        1        0        0   \n386   1.0  46.9000         0         0         1        0        0        0   \n260   NaN   7.7500         0         0         1        1        0        0   \n212  22.0   7.2500         0         0         1        1        0        0   \n164   1.0  39.6875         0         0         1        0        0        0   \n\n     SibSp_3  SibSp_4  ...  Parch_0  Parch_1  Parch_2  Parch_3  Parch_4  \\\n560        0        0  ...        1        0        0        0        0   \n386        0        0  ...        0        0        1        0        0   \n260        0        0  ...        1        0        0        0        0   \n212        0        0  ...        1        0        0        0        0   \n164        0        1  ...        0        1        0        0        0   \n\n     Parch_5  Parch_6  Embarked_C  Embarked_Q  Embarked_S  \n560        0        0           0           1           0  \n386        0        0           0           0           1  \n260        0        0           0           1           0  \n212        0        0           0           0           1  \n164        0        0           0           0           1  \n\n[5 rows x 24 columns]",
      "text/html": "<div>\n<style scoped>\n    .dataframe tbody tr th:only-of-type {\n        vertical-align: middle;\n    }\n\n    .dataframe tbody tr th {\n        vertical-align: top;\n    }\n\n    .dataframe thead th {\n        text-align: right;\n    }\n</style>\n<table border=\"1\" class=\"dataframe\">\n  <thead>\n    <tr style=\"text-align: right;\">\n      <th></th>\n      <th>Age</th>\n      <th>Fare</th>\n      <th>Pclass_1</th>\n      <th>Pclass_2</th>\n      <th>Pclass_3</th>\n      <th>SibSp_0</th>\n      <th>SibSp_1</th>\n      <th>SibSp_2</th>\n      <th>SibSp_3</th>\n      <th>SibSp_4</th>\n      <th>...</th>\n      <th>Parch_0</th>\n      <th>Parch_1</th>\n      <th>Parch_2</th>\n      <th>Parch_3</th>\n      <th>Parch_4</th>\n      <th>Parch_5</th>\n      <th>Parch_6</th>\n      <th>Embarked_C</th>\n      <th>Embarked_Q</th>\n      <th>Embarked_S</th>\n    </tr>\n  </thead>\n  <tbody>\n    <tr>\n      <th>560</th>\n      <td>NaN</td>\n      <td>7.7500</td>\n      <td>0</td>\n      <td>0</td>\n      <td>1</td>\n      <td>1</td>\n      <td>0</td>\n      <td>0</td>\n      <td>0</td>\n      <td>0</td>\n      <td>...</td>\n      <td>1</td>\n      <td>0</td>\n      <td>0</td>\n      <td>0</td>\n      <td>0</td>\n      <td>0</td>\n      <td>0</td>\n      <td>0</td>\n      <td>1</td>\n      <td>0</td>\n    </tr>\n    <tr>\n      <th>386</th>\n      <td>1.0</td>\n      <td>46.9000</td>\n      <td>0</td>\n      <td>0</td>\n      <td>1</td>\n      <td>0</td>\n      <td>0</td>\n      <td>0</td>\n      <td>0</td>\n      <td>0</td>\n      <td>...</td>\n      <td>0</td>\n      <td>0</td>\n      <td>1</td>\n      <td>0</td>\n      <td>0</td>\n      <td>0</td>\n      <td>0</td>\n      <td>0</td>\n      <td>0</td>\n      <td>1</td>\n    </tr>\n    <tr>\n      <th>260</th>\n      <td>NaN</td>\n      <td>7.7500</td>\n      <td>0</td>\n      <td>0</td>\n      <td>1</td>\n      <td>1</td>\n      <td>0</td>\n      <td>0</td>\n      <td>0</td>\n      <td>0</td>\n      <td>...</td>\n      <td>1</td>\n      <td>0</td>\n      <td>0</td>\n      <td>0</td>\n      <td>0</td>\n      <td>0</td>\n      <td>0</td>\n      <td>0</td>\n      <td>1</td>\n      <td>0</td>\n    </tr>\n    <tr>\n      <th>212</th>\n      <td>22.0</td>\n      <td>7.2500</td>\n      <td>0</td>\n      <td>0</td>\n      <td>1</td>\n      <td>1</td>\n      <td>0</td>\n      <td>0</td>\n      <td>0</td>\n      <td>0</td>\n      <td>...</td>\n      <td>1</td>\n      <td>0</td>\n      <td>0</td>\n      <td>0</td>\n      <td>0</td>\n      <td>0</td>\n      <td>0</td>\n      <td>0</td>\n      <td>0</td>\n      <td>1</td>\n    </tr>\n    <tr>\n      <th>164</th>\n      <td>1.0</td>\n      <td>39.6875</td>\n      <td>0</td>\n      <td>0</td>\n      <td>1</td>\n      <td>0</td>\n      <td>0</td>\n      <td>0</td>\n      <td>0</td>\n      <td>1</td>\n      <td>...</td>\n      <td>0</td>\n      <td>1</td>\n      <td>0</td>\n      <td>0</td>\n      <td>0</td>\n      <td>0</td>\n      <td>0</td>\n      <td>0</td>\n      <td>0</td>\n      <td>1</td>\n    </tr>\n  </tbody>\n</table>\n<p>5 rows × 24 columns</p>\n</div>"
     },
     "metadata": {},
     "execution_count": 19
    }
   ],
   "source": [
    "pclass_dummies_df = pd.get_dummies(train_df, columns=['Pclass', 'SibSp', 'Sex', 'Parch', 'Embarked'])\n",
    "\n",
    "pclass_dummies_df.head(5)"
   ]
  },
  {
   "cell_type": "code",
   "execution_count": 20,
   "metadata": {},
   "outputs": [
    {
     "output_type": "stream",
     "name": "stdout",
     "text": "<class 'pandas.core.frame.DataFrame'>\nInt64Index: 891 entries, 560 to 258\nData columns (total 24 columns):\n #   Column      Non-Null Count  Dtype  \n---  ------      --------------  -----  \n 0   Age         714 non-null    float64\n 1   Fare        891 non-null    float64\n 2   Pclass_1    891 non-null    uint8  \n 3   Pclass_2    891 non-null    uint8  \n 4   Pclass_3    891 non-null    uint8  \n 5   SibSp_0     891 non-null    uint8  \n 6   SibSp_1     891 non-null    uint8  \n 7   SibSp_2     891 non-null    uint8  \n 8   SibSp_3     891 non-null    uint8  \n 9   SibSp_4     891 non-null    uint8  \n 10  SibSp_5     891 non-null    uint8  \n 11  SibSp_8     891 non-null    uint8  \n 12  Sex_female  891 non-null    uint8  \n 13  Sex_male    891 non-null    uint8  \n 14  Parch_0     891 non-null    uint8  \n 15  Parch_1     891 non-null    uint8  \n 16  Parch_2     891 non-null    uint8  \n 17  Parch_3     891 non-null    uint8  \n 18  Parch_4     891 non-null    uint8  \n 19  Parch_5     891 non-null    uint8  \n 20  Parch_6     891 non-null    uint8  \n 21  Embarked_C  891 non-null    uint8  \n 22  Embarked_Q  891 non-null    uint8  \n 23  Embarked_S  891 non-null    uint8  \ndtypes: float64(2), uint8(22)\nmemory usage: 80.0 KB\n"
    }
   ],
   "source": [
    "pclass_dummies_df.info()"
   ]
  },
  {
   "cell_type": "code",
   "execution_count": 54,
   "metadata": {},
   "outputs": [
    {
     "output_type": "execute_result",
     "data": {
      "text/plain": "          Age      Fare  Pclass_1  Pclass_2  Pclass_3  SibSp_0  SibSp_1  \\\n560       NaN  0.015127         0         0         1        1        0   \n386  0.007288  0.091543         0         0         1        0        0   \n260       NaN  0.015127         0         0         1        1        0   \n212  0.271174  0.014151         0         0         1        1        0   \n164  0.007288  0.077465         0         0         1        0        0   \n\n     SibSp_2  SibSp_3  SibSp_4  ...  Parch_0  Parch_1  Parch_2  Parch_3  \\\n560        0        0        0  ...        1        0        0        0   \n386        0        0        0  ...        0        0        1        0   \n260        0        0        0  ...        1        0        0        0   \n212        0        0        0  ...        1        0        0        0   \n164        0        0        1  ...        0        1        0        0   \n\n     Parch_4  Parch_5  Parch_6  Embarked_C  Embarked_Q  Embarked_S  \n560        0        0        0           0           1           0  \n386        0        0        0           0           0           1  \n260        0        0        0           0           1           0  \n212        0        0        0           0           0           1  \n164        0        0        0           0           0           1  \n\n[5 rows x 24 columns]",
      "text/html": "<div>\n<style scoped>\n    .dataframe tbody tr th:only-of-type {\n        vertical-align: middle;\n    }\n\n    .dataframe tbody tr th {\n        vertical-align: top;\n    }\n\n    .dataframe thead th {\n        text-align: right;\n    }\n</style>\n<table border=\"1\" class=\"dataframe\">\n  <thead>\n    <tr style=\"text-align: right;\">\n      <th></th>\n      <th>Age</th>\n      <th>Fare</th>\n      <th>Pclass_1</th>\n      <th>Pclass_2</th>\n      <th>Pclass_3</th>\n      <th>SibSp_0</th>\n      <th>SibSp_1</th>\n      <th>SibSp_2</th>\n      <th>SibSp_3</th>\n      <th>SibSp_4</th>\n      <th>...</th>\n      <th>Parch_0</th>\n      <th>Parch_1</th>\n      <th>Parch_2</th>\n      <th>Parch_3</th>\n      <th>Parch_4</th>\n      <th>Parch_5</th>\n      <th>Parch_6</th>\n      <th>Embarked_C</th>\n      <th>Embarked_Q</th>\n      <th>Embarked_S</th>\n    </tr>\n  </thead>\n  <tbody>\n    <tr>\n      <th>560</th>\n      <td>NaN</td>\n      <td>0.015127</td>\n      <td>0</td>\n      <td>0</td>\n      <td>1</td>\n      <td>1</td>\n      <td>0</td>\n      <td>0</td>\n      <td>0</td>\n      <td>0</td>\n      <td>...</td>\n      <td>1</td>\n      <td>0</td>\n      <td>0</td>\n      <td>0</td>\n      <td>0</td>\n      <td>0</td>\n      <td>0</td>\n      <td>0</td>\n      <td>1</td>\n      <td>0</td>\n    </tr>\n    <tr>\n      <th>386</th>\n      <td>0.007288</td>\n      <td>0.091543</td>\n      <td>0</td>\n      <td>0</td>\n      <td>1</td>\n      <td>0</td>\n      <td>0</td>\n      <td>0</td>\n      <td>0</td>\n      <td>0</td>\n      <td>...</td>\n      <td>0</td>\n      <td>0</td>\n      <td>1</td>\n      <td>0</td>\n      <td>0</td>\n      <td>0</td>\n      <td>0</td>\n      <td>0</td>\n      <td>0</td>\n      <td>1</td>\n    </tr>\n    <tr>\n      <th>260</th>\n      <td>NaN</td>\n      <td>0.015127</td>\n      <td>0</td>\n      <td>0</td>\n      <td>1</td>\n      <td>1</td>\n      <td>0</td>\n      <td>0</td>\n      <td>0</td>\n      <td>0</td>\n      <td>...</td>\n      <td>1</td>\n      <td>0</td>\n      <td>0</td>\n      <td>0</td>\n      <td>0</td>\n      <td>0</td>\n      <td>0</td>\n      <td>0</td>\n      <td>1</td>\n      <td>0</td>\n    </tr>\n    <tr>\n      <th>212</th>\n      <td>0.271174</td>\n      <td>0.014151</td>\n      <td>0</td>\n      <td>0</td>\n      <td>1</td>\n      <td>1</td>\n      <td>0</td>\n      <td>0</td>\n      <td>0</td>\n      <td>0</td>\n      <td>...</td>\n      <td>1</td>\n      <td>0</td>\n      <td>0</td>\n      <td>0</td>\n      <td>0</td>\n      <td>0</td>\n      <td>0</td>\n      <td>0</td>\n      <td>0</td>\n      <td>1</td>\n    </tr>\n    <tr>\n      <th>164</th>\n      <td>0.007288</td>\n      <td>0.077465</td>\n      <td>0</td>\n      <td>0</td>\n      <td>1</td>\n      <td>0</td>\n      <td>0</td>\n      <td>0</td>\n      <td>0</td>\n      <td>1</td>\n      <td>...</td>\n      <td>0</td>\n      <td>1</td>\n      <td>0</td>\n      <td>0</td>\n      <td>0</td>\n      <td>0</td>\n      <td>0</td>\n      <td>0</td>\n      <td>0</td>\n      <td>1</td>\n    </tr>\n  </tbody>\n</table>\n<p>5 rows × 24 columns</p>\n</div>"
     },
     "metadata": {},
     "execution_count": 54
    }
   ],
   "source": [
    "# scale fare and age columns\n",
    "scaler = MinMaxScaler()\n",
    "pclass_dummies_df[['Fare', 'Age']] = scaler.fit_transform(pclass_dummies_df[['Fare', 'Age']])\n",
    "\n",
    "pclass_dummies_df.head(5)"
   ]
  },
  {
   "cell_type": "code",
   "execution_count": 55,
   "metadata": {},
   "outputs": [
    {
     "output_type": "stream",
     "name": "stdout",
     "text": "the train dataset is of shape (891, 24) and train label of shape(891, 1)\n"
    }
   ],
   "source": [
    "# shuffle the data\n",
    "train_df, label_df = shuffle(pclass_dummies_df, label_df, random_state=2)\n",
    "\n",
    "print(\"the train dataset is of shape {} and train label of shape{}\".format(train_df.shape, label_df.shape))"
   ]
  },
  {
   "cell_type": "code",
   "execution_count": 56,
   "metadata": {},
   "outputs": [
    {
     "output_type": "stream",
     "name": "stdout",
     "text": "the train dataset is of shape (712, 24) and train label of shape(712, 1)\nthe test dataset is of shape (179, 24) and test label of shape(179, 1)\n"
    }
   ],
   "source": [
    "# split into train and test datasets\n",
    "X_train, X_test, y_train, y_test = train_test_split(train_df, label_df, test_size=0.2)\n",
    "\n",
    "print(\"the train dataset is of shape {} and train label of shape{}\".format(X_train.shape, y_train.shape))\n",
    "print(\"the test dataset is of shape {} and test label of shape{}\".format(X_test.shape, y_test.shape))\n"
   ]
  },
  {
   "cell_type": "code",
   "execution_count": 74,
   "metadata": {},
   "outputs": [
    {
     "output_type": "stream",
     "name": "stdout",
     "text": "Model: \"sequential_17\"\n_________________________________________________________________\nLayer (type)                 Output Shape              Param #   \n=================================================================\ndense_50 (Dense)             (None, 32)                800       \n_________________________________________________________________\ndense_51 (Dense)             (None, 1)                 33        \n=================================================================\nTotal params: 833\nTrainable params: 833\nNon-trainable params: 0\n_________________________________________________________________\n"
    }
   ],
   "source": [
    "# build a model\n",
    "model = tf.keras.Sequential([\n",
    "    tf.keras.layers.Dense(32, activation='relu', input_shape=(24,)),\n",
    "    # tf.keras.layers.Dense(32, activation='relu'),\n",
    "    # tf.keras.layers.Dropout(.2),\n",
    "    tf.keras.layers.Dense(1, activation='sigmoid')\n",
    "])\n",
    "\n",
    "# compile the model\n",
    "model.compile(loss='binary_crossentropy', optimizer='adam', metrics=['accuracy'])\n",
    "\n",
    "# model.compile(loss='hinge', optimizer='adam', metrics=['accuracy'])\n",
    "# model.compile(loss='squared_hinge', optimizer='adam', metrics=['accuracy'])\n",
    "\n",
    "# model.compile(loss='binary_crossentropy', optimizer='sgd', metrics=['accuracy'])\n",
    "\n",
    "# opt = SGD(lr=0.01, momentum=0.9)\n",
    "# model.compile(loss='categorical_crossentropy', optimizer=opt, metrics=['accuracy'])\n",
    "\n",
    "\n",
    "# summarize the model\n",
    "model.summary()\n"
   ]
  },
  {
   "cell_type": "code",
   "execution_count": 95,
   "metadata": {},
   "outputs": [
    {
     "output_type": "error",
     "ename": "ValueError",
     "evalue": "Error when checking input: expected dense_52_input to have shape (4,) but got array with shape (24,)",
     "traceback": [
      "\u001b[0;31m---------------------------------------------------------------------------\u001b[0m",
      "\u001b[0;31mValueError\u001b[0m                                Traceback (most recent call last)",
      "\u001b[0;32m<ipython-input-95-937217122b83>\u001b[0m in \u001b[0;36m<module>\u001b[0;34m\u001b[0m\n\u001b[1;32m      3\u001b[0m \u001b[0;34m\u001b[0m\u001b[0m\n\u001b[1;32m      4\u001b[0m \u001b[0;31m# model.fit(X_train, y_train, epochs=number_epochs, batch_size=20, validation_data=[X_test, y_test])\u001b[0m\u001b[0;34m\u001b[0m\u001b[0;34m\u001b[0m\u001b[0;34m\u001b[0m\u001b[0m\n\u001b[0;32m----> 5\u001b[0;31m \u001b[0mmodel\u001b[0m\u001b[0;34m.\u001b[0m\u001b[0mfit\u001b[0m\u001b[0;34m(\u001b[0m\u001b[0mX_train\u001b[0m\u001b[0;34m,\u001b[0m \u001b[0my_train\u001b[0m\u001b[0;34m,\u001b[0m \u001b[0mepochs\u001b[0m\u001b[0;34m=\u001b[0m\u001b[0mnumber_epochs\u001b[0m\u001b[0;34m,\u001b[0m \u001b[0mbatch_size\u001b[0m\u001b[0;34m=\u001b[0m\u001b[0;36m20\u001b[0m\u001b[0;34m,\u001b[0m \u001b[0mvalidation_split\u001b[0m\u001b[0;34m=\u001b[0m\u001b[0;36m0.2\u001b[0m\u001b[0;34m)\u001b[0m\u001b[0;34m\u001b[0m\u001b[0;34m\u001b[0m\u001b[0m\n\u001b[0m",
      "\u001b[0;32m~/Energy/VirtualPyEnvs/tf2_37/lib/python3.7/site-packages/tensorflow_core/python/keras/engine/training.py\u001b[0m in \u001b[0;36mfit\u001b[0;34m(self, x, y, batch_size, epochs, verbose, callbacks, validation_split, validation_data, shuffle, class_weight, sample_weight, initial_epoch, steps_per_epoch, validation_steps, validation_freq, max_queue_size, workers, use_multiprocessing, **kwargs)\u001b[0m\n\u001b[1;32m    817\u001b[0m         \u001b[0mmax_queue_size\u001b[0m\u001b[0;34m=\u001b[0m\u001b[0mmax_queue_size\u001b[0m\u001b[0;34m,\u001b[0m\u001b[0;34m\u001b[0m\u001b[0;34m\u001b[0m\u001b[0m\n\u001b[1;32m    818\u001b[0m         \u001b[0mworkers\u001b[0m\u001b[0;34m=\u001b[0m\u001b[0mworkers\u001b[0m\u001b[0;34m,\u001b[0m\u001b[0;34m\u001b[0m\u001b[0;34m\u001b[0m\u001b[0m\n\u001b[0;32m--> 819\u001b[0;31m         use_multiprocessing=use_multiprocessing)\n\u001b[0m\u001b[1;32m    820\u001b[0m \u001b[0;34m\u001b[0m\u001b[0m\n\u001b[1;32m    821\u001b[0m   def evaluate(self,\n",
      "\u001b[0;32m~/Energy/VirtualPyEnvs/tf2_37/lib/python3.7/site-packages/tensorflow_core/python/keras/engine/training_v2.py\u001b[0m in \u001b[0;36mfit\u001b[0;34m(self, model, x, y, batch_size, epochs, verbose, callbacks, validation_split, validation_data, shuffle, class_weight, sample_weight, initial_epoch, steps_per_epoch, validation_steps, validation_freq, max_queue_size, workers, use_multiprocessing, **kwargs)\u001b[0m\n\u001b[1;32m    233\u001b[0m           \u001b[0mmax_queue_size\u001b[0m\u001b[0;34m=\u001b[0m\u001b[0mmax_queue_size\u001b[0m\u001b[0;34m,\u001b[0m\u001b[0;34m\u001b[0m\u001b[0;34m\u001b[0m\u001b[0m\n\u001b[1;32m    234\u001b[0m           \u001b[0mworkers\u001b[0m\u001b[0;34m=\u001b[0m\u001b[0mworkers\u001b[0m\u001b[0;34m,\u001b[0m\u001b[0;34m\u001b[0m\u001b[0;34m\u001b[0m\u001b[0m\n\u001b[0;32m--> 235\u001b[0;31m           use_multiprocessing=use_multiprocessing)\n\u001b[0m\u001b[1;32m    236\u001b[0m \u001b[0;34m\u001b[0m\u001b[0m\n\u001b[1;32m    237\u001b[0m       \u001b[0mtotal_samples\u001b[0m \u001b[0;34m=\u001b[0m \u001b[0m_get_total_number_of_samples\u001b[0m\u001b[0;34m(\u001b[0m\u001b[0mtraining_data_adapter\u001b[0m\u001b[0;34m)\u001b[0m\u001b[0;34m\u001b[0m\u001b[0;34m\u001b[0m\u001b[0m\n",
      "\u001b[0;32m~/Energy/VirtualPyEnvs/tf2_37/lib/python3.7/site-packages/tensorflow_core/python/keras/engine/training_v2.py\u001b[0m in \u001b[0;36m_process_training_inputs\u001b[0;34m(model, x, y, batch_size, epochs, sample_weights, class_weights, steps_per_epoch, validation_split, validation_data, validation_steps, shuffle, distribution_strategy, max_queue_size, workers, use_multiprocessing)\u001b[0m\n\u001b[1;32m    550\u001b[0m         \u001b[0mbatch_size\u001b[0m\u001b[0;34m=\u001b[0m\u001b[0mbatch_size\u001b[0m\u001b[0;34m,\u001b[0m\u001b[0;34m\u001b[0m\u001b[0;34m\u001b[0m\u001b[0m\n\u001b[1;32m    551\u001b[0m         \u001b[0mcheck_steps\u001b[0m\u001b[0;34m=\u001b[0m\u001b[0;32mFalse\u001b[0m\u001b[0;34m,\u001b[0m\u001b[0;34m\u001b[0m\u001b[0;34m\u001b[0m\u001b[0m\n\u001b[0;32m--> 552\u001b[0;31m         steps=steps_per_epoch)\n\u001b[0m\u001b[1;32m    553\u001b[0m     (x, y, sample_weights,\n\u001b[1;32m    554\u001b[0m      \u001b[0mval_x\u001b[0m\u001b[0;34m,\u001b[0m \u001b[0mval_y\u001b[0m\u001b[0;34m,\u001b[0m\u001b[0;34m\u001b[0m\u001b[0;34m\u001b[0m\u001b[0m\n",
      "\u001b[0;32m~/Energy/VirtualPyEnvs/tf2_37/lib/python3.7/site-packages/tensorflow_core/python/keras/engine/training.py\u001b[0m in \u001b[0;36m_standardize_user_data\u001b[0;34m(self, x, y, sample_weight, class_weight, batch_size, check_steps, steps_name, steps, validation_split, shuffle, extract_tensors_from_dataset)\u001b[0m\n\u001b[1;32m   2381\u001b[0m         \u001b[0mis_dataset\u001b[0m\u001b[0;34m=\u001b[0m\u001b[0mis_dataset\u001b[0m\u001b[0;34m,\u001b[0m\u001b[0;34m\u001b[0m\u001b[0;34m\u001b[0m\u001b[0m\n\u001b[1;32m   2382\u001b[0m         \u001b[0mclass_weight\u001b[0m\u001b[0;34m=\u001b[0m\u001b[0mclass_weight\u001b[0m\u001b[0;34m,\u001b[0m\u001b[0;34m\u001b[0m\u001b[0;34m\u001b[0m\u001b[0m\n\u001b[0;32m-> 2383\u001b[0;31m         batch_size=batch_size)\n\u001b[0m\u001b[1;32m   2384\u001b[0m \u001b[0;34m\u001b[0m\u001b[0m\n\u001b[1;32m   2385\u001b[0m   def _standardize_tensors(self, x, y, sample_weight, run_eagerly, dict_inputs,\n",
      "\u001b[0;32m~/Energy/VirtualPyEnvs/tf2_37/lib/python3.7/site-packages/tensorflow_core/python/keras/engine/training.py\u001b[0m in \u001b[0;36m_standardize_tensors\u001b[0;34m(self, x, y, sample_weight, run_eagerly, dict_inputs, is_dataset, class_weight, batch_size)\u001b[0m\n\u001b[1;32m   2408\u001b[0m           \u001b[0mfeed_input_shapes\u001b[0m\u001b[0;34m,\u001b[0m\u001b[0;34m\u001b[0m\u001b[0;34m\u001b[0m\u001b[0m\n\u001b[1;32m   2409\u001b[0m           \u001b[0mcheck_batch_axis\u001b[0m\u001b[0;34m=\u001b[0m\u001b[0;32mFalse\u001b[0m\u001b[0;34m,\u001b[0m  \u001b[0;31m# Don't enforce the batch size.\u001b[0m\u001b[0;34m\u001b[0m\u001b[0;34m\u001b[0m\u001b[0m\n\u001b[0;32m-> 2410\u001b[0;31m           exception_prefix='input')\n\u001b[0m\u001b[1;32m   2411\u001b[0m \u001b[0;34m\u001b[0m\u001b[0m\n\u001b[1;32m   2412\u001b[0m     \u001b[0;31m# Get typespecs for the input data and sanitize it if necessary.\u001b[0m\u001b[0;34m\u001b[0m\u001b[0;34m\u001b[0m\u001b[0;34m\u001b[0m\u001b[0m\n",
      "\u001b[0;32m~/Energy/VirtualPyEnvs/tf2_37/lib/python3.7/site-packages/tensorflow_core/python/keras/engine/training_utils.py\u001b[0m in \u001b[0;36mstandardize_input_data\u001b[0;34m(data, names, shapes, check_batch_axis, exception_prefix)\u001b[0m\n\u001b[1;32m    580\u001b[0m                              \u001b[0;34m': expected '\u001b[0m \u001b[0;34m+\u001b[0m \u001b[0mnames\u001b[0m\u001b[0;34m[\u001b[0m\u001b[0mi\u001b[0m\u001b[0;34m]\u001b[0m \u001b[0;34m+\u001b[0m \u001b[0;34m' to have shape '\u001b[0m \u001b[0;34m+\u001b[0m\u001b[0;34m\u001b[0m\u001b[0;34m\u001b[0m\u001b[0m\n\u001b[1;32m    581\u001b[0m                              \u001b[0mstr\u001b[0m\u001b[0;34m(\u001b[0m\u001b[0mshape\u001b[0m\u001b[0;34m)\u001b[0m \u001b[0;34m+\u001b[0m \u001b[0;34m' but got array with shape '\u001b[0m \u001b[0;34m+\u001b[0m\u001b[0;34m\u001b[0m\u001b[0;34m\u001b[0m\u001b[0m\n\u001b[0;32m--> 582\u001b[0;31m                              str(data_shape))\n\u001b[0m\u001b[1;32m    583\u001b[0m   \u001b[0;32mreturn\u001b[0m \u001b[0mdata\u001b[0m\u001b[0;34m\u001b[0m\u001b[0;34m\u001b[0m\u001b[0m\n\u001b[1;32m    584\u001b[0m \u001b[0;34m\u001b[0m\u001b[0m\n",
      "\u001b[0;31mValueError\u001b[0m: Error when checking input: expected dense_52_input to have shape (4,) but got array with shape (24,)"
     ]
    }
   ],
   "source": [
    "# fit the model\n",
    "number_epochs = 20\n",
    "\n",
    "model.fit(X_train, y_train, epochs=number_epochs, batch_size=20, validation_data=[X_test, y_test])\n",
    "# model.fit(X_train, y_train, epochs=number_epochs, batch_size=20, validation_split=0.2)\n"
   ]
  },
  {
   "cell_type": "code",
   "execution_count": 78,
   "metadata": {},
   "outputs": [
    {
     "output_type": "execute_result",
     "data": {
      "text/plain": "   PassengerId  Survived  Pclass  \\\n0            1         0       3   \n1            2         1       1   \n2            3         1       3   \n3            4         1       1   \n4            5         0       3   \n\n                                                Name     Sex   Age  SibSp  \\\n0                            Braund, Mr. Owen Harris    male  22.0      1   \n1  Cumings, Mrs. John Bradley (Florence Briggs Th...  female  38.0      1   \n2                             Heikkinen, Miss. Laina  female  26.0      0   \n3       Futrelle, Mrs. Jacques Heath (Lily May Peel)  female  35.0      1   \n4                           Allen, Mr. William Henry    male  35.0      0   \n\n   Parch            Ticket     Fare Cabin Embarked  \n0      0         A/5 21171   7.2500   NaN        S  \n1      0          PC 17599  71.2833   C85        C  \n2      0  STON/O2. 3101282   7.9250   NaN        S  \n3      0            113803  53.1000  C123        S  \n4      0            373450   8.0500   NaN        S  ",
      "text/html": "<div>\n<style scoped>\n    .dataframe tbody tr th:only-of-type {\n        vertical-align: middle;\n    }\n\n    .dataframe tbody tr th {\n        vertical-align: top;\n    }\n\n    .dataframe thead th {\n        text-align: right;\n    }\n</style>\n<table border=\"1\" class=\"dataframe\">\n  <thead>\n    <tr style=\"text-align: right;\">\n      <th></th>\n      <th>PassengerId</th>\n      <th>Survived</th>\n      <th>Pclass</th>\n      <th>Name</th>\n      <th>Sex</th>\n      <th>Age</th>\n      <th>SibSp</th>\n      <th>Parch</th>\n      <th>Ticket</th>\n      <th>Fare</th>\n      <th>Cabin</th>\n      <th>Embarked</th>\n    </tr>\n  </thead>\n  <tbody>\n    <tr>\n      <th>0</th>\n      <td>1</td>\n      <td>0</td>\n      <td>3</td>\n      <td>Braund, Mr. Owen Harris</td>\n      <td>male</td>\n      <td>22.0</td>\n      <td>1</td>\n      <td>0</td>\n      <td>A/5 21171</td>\n      <td>7.2500</td>\n      <td>NaN</td>\n      <td>S</td>\n    </tr>\n    <tr>\n      <th>1</th>\n      <td>2</td>\n      <td>1</td>\n      <td>1</td>\n      <td>Cumings, Mrs. John Bradley (Florence Briggs Th...</td>\n      <td>female</td>\n      <td>38.0</td>\n      <td>1</td>\n      <td>0</td>\n      <td>PC 17599</td>\n      <td>71.2833</td>\n      <td>C85</td>\n      <td>C</td>\n    </tr>\n    <tr>\n      <th>2</th>\n      <td>3</td>\n      <td>1</td>\n      <td>3</td>\n      <td>Heikkinen, Miss. Laina</td>\n      <td>female</td>\n      <td>26.0</td>\n      <td>0</td>\n      <td>0</td>\n      <td>STON/O2. 3101282</td>\n      <td>7.9250</td>\n      <td>NaN</td>\n      <td>S</td>\n    </tr>\n    <tr>\n      <th>3</th>\n      <td>4</td>\n      <td>1</td>\n      <td>1</td>\n      <td>Futrelle, Mrs. Jacques Heath (Lily May Peel)</td>\n      <td>female</td>\n      <td>35.0</td>\n      <td>1</td>\n      <td>0</td>\n      <td>113803</td>\n      <td>53.1000</td>\n      <td>C123</td>\n      <td>S</td>\n    </tr>\n    <tr>\n      <th>4</th>\n      <td>5</td>\n      <td>0</td>\n      <td>3</td>\n      <td>Allen, Mr. William Henry</td>\n      <td>male</td>\n      <td>35.0</td>\n      <td>0</td>\n      <td>0</td>\n      <td>373450</td>\n      <td>8.0500</td>\n      <td>NaN</td>\n      <td>S</td>\n    </tr>\n  </tbody>\n</table>\n</div>"
     },
     "metadata": {},
     "execution_count": 78
    }
   ],
   "source": [
    "# get old data\n",
    "titanic_df.head(5)"
   ]
  },
  {
   "cell_type": "code",
   "execution_count": 81,
   "metadata": {},
   "outputs": [
    {
     "output_type": "execute_result",
     "data": {
      "text/plain": "      Sex   Age     Fare\n0    male  22.0   7.2500\n1  female  38.0  71.2833\n2  female  26.0   7.9250\n3  female  35.0  53.1000\n4    male  35.0   8.0500",
      "text/html": "<div>\n<style scoped>\n    .dataframe tbody tr th:only-of-type {\n        vertical-align: middle;\n    }\n\n    .dataframe tbody tr th {\n        vertical-align: top;\n    }\n\n    .dataframe thead th {\n        text-align: right;\n    }\n</style>\n<table border=\"1\" class=\"dataframe\">\n  <thead>\n    <tr style=\"text-align: right;\">\n      <th></th>\n      <th>Sex</th>\n      <th>Age</th>\n      <th>Fare</th>\n    </tr>\n  </thead>\n  <tbody>\n    <tr>\n      <th>0</th>\n      <td>male</td>\n      <td>22.0</td>\n      <td>7.2500</td>\n    </tr>\n    <tr>\n      <th>1</th>\n      <td>female</td>\n      <td>38.0</td>\n      <td>71.2833</td>\n    </tr>\n    <tr>\n      <th>2</th>\n      <td>female</td>\n      <td>26.0</td>\n      <td>7.9250</td>\n    </tr>\n    <tr>\n      <th>3</th>\n      <td>female</td>\n      <td>35.0</td>\n      <td>53.1000</td>\n    </tr>\n    <tr>\n      <th>4</th>\n      <td>male</td>\n      <td>35.0</td>\n      <td>8.0500</td>\n    </tr>\n  </tbody>\n</table>\n</div>"
     },
     "metadata": {},
     "execution_count": 81
    }
   ],
   "source": [
    "# from randomtreeclassifier, find out that best features are fare, age and sex\n",
    "# drop other features and rectrain model\n",
    "X_small = titanic_df.filter(['Sex', 'Age', 'Fare'])\n",
    "\n",
    "X_small.head(5)"
   ]
  },
  {
   "cell_type": "code",
   "execution_count": 82,
   "metadata": {},
   "outputs": [
    {
     "output_type": "stream",
     "name": "stdout",
     "text": "the small X has shape (891, 3) and the small y has shape (891, 1)\n"
    }
   ],
   "source": [
    "y_small = titanic_df.filter(['Survived'])\n",
    "\n",
    "print(\"the small X has shape {} and the small y has shape {}\".format(X_small.shape, y_small.shape))"
   ]
  },
  {
   "cell_type": "code",
   "execution_count": 83,
   "metadata": {},
   "outputs": [
    {
     "output_type": "execute_result",
     "data": {
      "text/plain": "    Age     Fare  Sex_female  Sex_male\n0  22.0   7.2500           0         1\n1  38.0  71.2833           1         0\n2  26.0   7.9250           1         0\n3  35.0  53.1000           1         0\n4  35.0   8.0500           0         1",
      "text/html": "<div>\n<style scoped>\n    .dataframe tbody tr th:only-of-type {\n        vertical-align: middle;\n    }\n\n    .dataframe tbody tr th {\n        vertical-align: top;\n    }\n\n    .dataframe thead th {\n        text-align: right;\n    }\n</style>\n<table border=\"1\" class=\"dataframe\">\n  <thead>\n    <tr style=\"text-align: right;\">\n      <th></th>\n      <th>Age</th>\n      <th>Fare</th>\n      <th>Sex_female</th>\n      <th>Sex_male</th>\n    </tr>\n  </thead>\n  <tbody>\n    <tr>\n      <th>0</th>\n      <td>22.0</td>\n      <td>7.2500</td>\n      <td>0</td>\n      <td>1</td>\n    </tr>\n    <tr>\n      <th>1</th>\n      <td>38.0</td>\n      <td>71.2833</td>\n      <td>1</td>\n      <td>0</td>\n    </tr>\n    <tr>\n      <th>2</th>\n      <td>26.0</td>\n      <td>7.9250</td>\n      <td>1</td>\n      <td>0</td>\n    </tr>\n    <tr>\n      <th>3</th>\n      <td>35.0</td>\n      <td>53.1000</td>\n      <td>1</td>\n      <td>0</td>\n    </tr>\n    <tr>\n      <th>4</th>\n      <td>35.0</td>\n      <td>8.0500</td>\n      <td>0</td>\n      <td>1</td>\n    </tr>\n  </tbody>\n</table>\n</div>"
     },
     "metadata": {},
     "execution_count": 83
    }
   ],
   "source": [
    "# one hot the sex column\n",
    "X_small = pd.get_dummies(X_small)\n",
    "\n",
    "X_small.head(5)"
   ]
  },
  {
   "cell_type": "code",
   "execution_count": 106,
   "metadata": {},
   "outputs": [
    {
     "output_type": "stream",
     "name": "stdout",
     "text": "<class 'pandas.core.frame.DataFrame'>\nRangeIndex: 891 entries, 0 to 890\nData columns (total 4 columns):\n #   Column      Non-Null Count  Dtype  \n---  ------      --------------  -----  \n 0   Age         714 non-null    float64\n 1   Fare        891 non-null    float64\n 2   Sex_female  891 non-null    uint8  \n 3   Sex_male    891 non-null    uint8  \ndtypes: float64(2), uint8(2)\nmemory usage: 15.8 KB\n"
    }
   ],
   "source": [
    "X_small.info()"
   ]
  },
  {
   "cell_type": "code",
   "execution_count": 108,
   "metadata": {},
   "outputs": [
    {
     "output_type": "stream",
     "name": "stdout",
     "text": "<class 'pandas.core.frame.DataFrame'>\nRangeIndex: 891 entries, 0 to 890\nData columns (total 4 columns):\n #   Column      Non-Null Count  Dtype\n---  ------      --------------  -----\n 0   Age         891 non-null    bool \n 1   Fare        891 non-null    bool \n 2   Sex_female  891 non-null    bool \n 3   Sex_male    891 non-null    bool \ndtypes: bool(4)\nmemory usage: 3.6 KB\n"
    }
   ],
   "source": [
    "# remove the null rows\n",
    "X_small = pd.notnull(X_small)\n",
    "\n",
    "X_small.info()"
   ]
  },
  {
   "cell_type": "code",
   "execution_count": 109,
   "metadata": {},
   "outputs": [
    {
     "output_type": "stream",
     "name": "stdout",
     "text": "Model: \"sequential_21\"\n_________________________________________________________________\nLayer (type)                 Output Shape              Param #   \n=================================================================\ndense_60 (Dense)             (None, 8)                 40        \n_________________________________________________________________\ndropout_10 (Dropout)         (None, 8)                 0         \n_________________________________________________________________\ndense_61 (Dense)             (None, 1)                 9         \n=================================================================\nTotal params: 49\nTrainable params: 49\nNon-trainable params: 0\n_________________________________________________________________\n"
    }
   ],
   "source": [
    "# build the new mode;\n",
    "# build a model\n",
    "model_small = tf.keras.Sequential([\n",
    "    tf.keras.layers.Dense(8, activation='relu', input_shape=(4,)),\n",
    "    # tf.keras.layers.Dense(16, activation='relu'),\n",
    "    tf.keras.layers.Dropout(.2),\n",
    "    tf.keras.layers.Dense(1, activation='sigmoid')\n",
    "])\n",
    "\n",
    "# compile the model\n",
    "model_small.compile(loss='binary_crossentropy', optimizer='adam', metrics=['accuracy'])\n",
    "\n",
    "model_small.summary()"
   ]
  },
  {
   "cell_type": "code",
   "execution_count": 111,
   "metadata": {},
   "outputs": [
    {
     "output_type": "stream",
     "name": "stdout",
     "text": "Train on 712 samples, validate on 179 samples\nEpoch 1/100\n712/712 [==============================] - 0s 52us/sample - loss: 0.6690 - accuracy: 0.6096 - val_loss: 0.6554 - val_accuracy: 0.6425\nEpoch 2/100\n712/712 [==============================] - 0s 39us/sample - loss: 0.6740 - accuracy: 0.6067 - val_loss: 0.6554 - val_accuracy: 0.6425\nEpoch 3/100\n712/712 [==============================] - 0s 40us/sample - loss: 0.6763 - accuracy: 0.6067 - val_loss: 0.6550 - val_accuracy: 0.6425\nEpoch 4/100\n712/712 [==============================] - 0s 42us/sample - loss: 0.6753 - accuracy: 0.5997 - val_loss: 0.6569 - val_accuracy: 0.6425\nEpoch 5/100\n712/712 [==============================] - 0s 40us/sample - loss: 0.6761 - accuracy: 0.6067 - val_loss: 0.6563 - val_accuracy: 0.6425\nEpoch 6/100\n712/712 [==============================] - 0s 41us/sample - loss: 0.6720 - accuracy: 0.6110 - val_loss: 0.6560 - val_accuracy: 0.6425\nEpoch 7/100\n712/712 [==============================] - 0s 40us/sample - loss: 0.6726 - accuracy: 0.6096 - val_loss: 0.6559 - val_accuracy: 0.6425\nEpoch 8/100\n712/712 [==============================] - 0s 41us/sample - loss: 0.6760 - accuracy: 0.6096 - val_loss: 0.6562 - val_accuracy: 0.6425\nEpoch 9/100\n712/712 [==============================] - 0s 40us/sample - loss: 0.6716 - accuracy: 0.6110 - val_loss: 0.6552 - val_accuracy: 0.6425\nEpoch 10/100\n712/712 [==============================] - 0s 41us/sample - loss: 0.6698 - accuracy: 0.6110 - val_loss: 0.6553 - val_accuracy: 0.6425\nEpoch 11/100\n712/712 [==============================] - 0s 40us/sample - loss: 0.6779 - accuracy: 0.6081 - val_loss: 0.6566 - val_accuracy: 0.6425\nEpoch 12/100\n712/712 [==============================] - 0s 41us/sample - loss: 0.6745 - accuracy: 0.6110 - val_loss: 0.6547 - val_accuracy: 0.6425\nEpoch 13/100\n712/712 [==============================] - 0s 41us/sample - loss: 0.6703 - accuracy: 0.6124 - val_loss: 0.6540 - val_accuracy: 0.6425\nEpoch 14/100\n712/712 [==============================] - 0s 39us/sample - loss: 0.6705 - accuracy: 0.6110 - val_loss: 0.6549 - val_accuracy: 0.6425\nEpoch 15/100\n712/712 [==============================] - 0s 39us/sample - loss: 0.6707 - accuracy: 0.6053 - val_loss: 0.6550 - val_accuracy: 0.6425\nEpoch 16/100\n712/712 [==============================] - 0s 40us/sample - loss: 0.6771 - accuracy: 0.6067 - val_loss: 0.6547 - val_accuracy: 0.6425\nEpoch 17/100\n712/712 [==============================] - 0s 43us/sample - loss: 0.6724 - accuracy: 0.6025 - val_loss: 0.6557 - val_accuracy: 0.6425\nEpoch 18/100\n712/712 [==============================] - 0s 46us/sample - loss: 0.6738 - accuracy: 0.6110 - val_loss: 0.6552 - val_accuracy: 0.6425\nEpoch 19/100\n712/712 [==============================] - 0s 56us/sample - loss: 0.6694 - accuracy: 0.6124 - val_loss: 0.6552 - val_accuracy: 0.6425\nEpoch 20/100\n712/712 [==============================] - 0s 57us/sample - loss: 0.6690 - accuracy: 0.6081 - val_loss: 0.6559 - val_accuracy: 0.6425\nEpoch 21/100\n712/712 [==============================] - 0s 56us/sample - loss: 0.6684 - accuracy: 0.6096 - val_loss: 0.6565 - val_accuracy: 0.6425\nEpoch 22/100\n712/712 [==============================] - 0s 50us/sample - loss: 0.6694 - accuracy: 0.6096 - val_loss: 0.6562 - val_accuracy: 0.6425\nEpoch 23/100\n712/712 [==============================] - 0s 50us/sample - loss: 0.6742 - accuracy: 0.6053 - val_loss: 0.6561 - val_accuracy: 0.6425\nEpoch 24/100\n712/712 [==============================] - 0s 49us/sample - loss: 0.6701 - accuracy: 0.6110 - val_loss: 0.6555 - val_accuracy: 0.6425\nEpoch 25/100\n712/712 [==============================] - 0s 49us/sample - loss: 0.6711 - accuracy: 0.6110 - val_loss: 0.6556 - val_accuracy: 0.6425\nEpoch 26/100\n712/712 [==============================] - 0s 48us/sample - loss: 0.6696 - accuracy: 0.6053 - val_loss: 0.6549 - val_accuracy: 0.6425\nEpoch 27/100\n712/712 [==============================] - 0s 40us/sample - loss: 0.6700 - accuracy: 0.6081 - val_loss: 0.6553 - val_accuracy: 0.6425\nEpoch 28/100\n712/712 [==============================] - 0s 40us/sample - loss: 0.6715 - accuracy: 0.6039 - val_loss: 0.6568 - val_accuracy: 0.6425\nEpoch 29/100\n712/712 [==============================] - 0s 40us/sample - loss: 0.6705 - accuracy: 0.6081 - val_loss: 0.6556 - val_accuracy: 0.6425\nEpoch 30/100\n712/712 [==============================] - 0s 41us/sample - loss: 0.6690 - accuracy: 0.6138 - val_loss: 0.6554 - val_accuracy: 0.6425\nEpoch 31/100\n712/712 [==============================] - 0s 41us/sample - loss: 0.6694 - accuracy: 0.6081 - val_loss: 0.6554 - val_accuracy: 0.6425\nEpoch 32/100\n712/712 [==============================] - 0s 42us/sample - loss: 0.6706 - accuracy: 0.6096 - val_loss: 0.6541 - val_accuracy: 0.6425\nEpoch 33/100\n712/712 [==============================] - 0s 40us/sample - loss: 0.6671 - accuracy: 0.6096 - val_loss: 0.6548 - val_accuracy: 0.6425\nEpoch 34/100\n712/712 [==============================] - 0s 40us/sample - loss: 0.6706 - accuracy: 0.6096 - val_loss: 0.6544 - val_accuracy: 0.6425\nEpoch 35/100\n712/712 [==============================] - 0s 40us/sample - loss: 0.6710 - accuracy: 0.6096 - val_loss: 0.6550 - val_accuracy: 0.6425\nEpoch 36/100\n712/712 [==============================] - 0s 41us/sample - loss: 0.6686 - accuracy: 0.6039 - val_loss: 0.6560 - val_accuracy: 0.6425\nEpoch 37/100\n712/712 [==============================] - 0s 39us/sample - loss: 0.6711 - accuracy: 0.6067 - val_loss: 0.6568 - val_accuracy: 0.6425\nEpoch 38/100\n712/712 [==============================] - 0s 42us/sample - loss: 0.6730 - accuracy: 0.6081 - val_loss: 0.6558 - val_accuracy: 0.6425\nEpoch 39/100\n712/712 [==============================] - 0s 47us/sample - loss: 0.6694 - accuracy: 0.6096 - val_loss: 0.6554 - val_accuracy: 0.6425\nEpoch 40/100\n712/712 [==============================] - 0s 42us/sample - loss: 0.6700 - accuracy: 0.6096 - val_loss: 0.6570 - val_accuracy: 0.6425\nEpoch 41/100\n712/712 [==============================] - 0s 40us/sample - loss: 0.6700 - accuracy: 0.6096 - val_loss: 0.6552 - val_accuracy: 0.6425\nEpoch 42/100\n712/712 [==============================] - 0s 40us/sample - loss: 0.6681 - accuracy: 0.6096 - val_loss: 0.6541 - val_accuracy: 0.6425\nEpoch 43/100\n712/712 [==============================] - 0s 41us/sample - loss: 0.6712 - accuracy: 0.6096 - val_loss: 0.6548 - val_accuracy: 0.6425\nEpoch 44/100\n712/712 [==============================] - 0s 41us/sample - loss: 0.6696 - accuracy: 0.6096 - val_loss: 0.6553 - val_accuracy: 0.6425\nEpoch 45/100\n712/712 [==============================] - 0s 41us/sample - loss: 0.6659 - accuracy: 0.6096 - val_loss: 0.6542 - val_accuracy: 0.6425\nEpoch 46/100\n712/712 [==============================] - 0s 41us/sample - loss: 0.6693 - accuracy: 0.6096 - val_loss: 0.6543 - val_accuracy: 0.6425\nEpoch 47/100\n712/712 [==============================] - 0s 42us/sample - loss: 0.6725 - accuracy: 0.6096 - val_loss: 0.6547 - val_accuracy: 0.6425\nEpoch 48/100\n712/712 [==============================] - 0s 41us/sample - loss: 0.6703 - accuracy: 0.6096 - val_loss: 0.6550 - val_accuracy: 0.6425\nEpoch 49/100\n712/712 [==============================] - 0s 42us/sample - loss: 0.6679 - accuracy: 0.6096 - val_loss: 0.6553 - val_accuracy: 0.6425\nEpoch 50/100\n712/712 [==============================] - 0s 41us/sample - loss: 0.6746 - accuracy: 0.6096 - val_loss: 0.6558 - val_accuracy: 0.6425\nEpoch 51/100\n712/712 [==============================] - 0s 41us/sample - loss: 0.6720 - accuracy: 0.6096 - val_loss: 0.6563 - val_accuracy: 0.6425\nEpoch 52/100\n712/712 [==============================] - 0s 43us/sample - loss: 0.6700 - accuracy: 0.6096 - val_loss: 0.6554 - val_accuracy: 0.6425\nEpoch 53/100\n712/712 [==============================] - 0s 51us/sample - loss: 0.6737 - accuracy: 0.6096 - val_loss: 0.6558 - val_accuracy: 0.6425\nEpoch 54/100\n712/712 [==============================] - 0s 41us/sample - loss: 0.6724 - accuracy: 0.6096 - val_loss: 0.6564 - val_accuracy: 0.6425\nEpoch 55/100\n712/712 [==============================] - 0s 41us/sample - loss: 0.6682 - accuracy: 0.6096 - val_loss: 0.6558 - val_accuracy: 0.6425\nEpoch 56/100\n712/712 [==============================] - 0s 41us/sample - loss: 0.6720 - accuracy: 0.6096 - val_loss: 0.6553 - val_accuracy: 0.6425\nEpoch 57/100\n712/712 [==============================] - 0s 40us/sample - loss: 0.6682 - accuracy: 0.6096 - val_loss: 0.6563 - val_accuracy: 0.6425\nEpoch 58/100\n712/712 [==============================] - 0s 41us/sample - loss: 0.6681 - accuracy: 0.6096 - val_loss: 0.6554 - val_accuracy: 0.6425\nEpoch 59/100\n712/712 [==============================] - 0s 40us/sample - loss: 0.6699 - accuracy: 0.6096 - val_loss: 0.6552 - val_accuracy: 0.6425\nEpoch 60/100\n712/712 [==============================] - 0s 41us/sample - loss: 0.6711 - accuracy: 0.6096 - val_loss: 0.6545 - val_accuracy: 0.6425\nEpoch 61/100\n712/712 [==============================] - 0s 40us/sample - loss: 0.6715 - accuracy: 0.6096 - val_loss: 0.6551 - val_accuracy: 0.6425\nEpoch 62/100\n712/712 [==============================] - 0s 42us/sample - loss: 0.6704 - accuracy: 0.6096 - val_loss: 0.6547 - val_accuracy: 0.6425\nEpoch 63/100\n712/712 [==============================] - 0s 41us/sample - loss: 0.6748 - accuracy: 0.6096 - val_loss: 0.6548 - val_accuracy: 0.6425\nEpoch 64/100\n712/712 [==============================] - 0s 41us/sample - loss: 0.6709 - accuracy: 0.6096 - val_loss: 0.6557 - val_accuracy: 0.6425\nEpoch 65/100\n712/712 [==============================] - 0s 42us/sample - loss: 0.6743 - accuracy: 0.6096 - val_loss: 0.6562 - val_accuracy: 0.6425\nEpoch 66/100\n712/712 [==============================] - 0s 40us/sample - loss: 0.6717 - accuracy: 0.6096 - val_loss: 0.6565 - val_accuracy: 0.6425\nEpoch 67/100\n712/712 [==============================] - 0s 41us/sample - loss: 0.6709 - accuracy: 0.6096 - val_loss: 0.6562 - val_accuracy: 0.6425\nEpoch 68/100\n712/712 [==============================] - 0s 41us/sample - loss: 0.6691 - accuracy: 0.6096 - val_loss: 0.6556 - val_accuracy: 0.6425\nEpoch 69/100\n712/712 [==============================] - 0s 41us/sample - loss: 0.6714 - accuracy: 0.6096 - val_loss: 0.6561 - val_accuracy: 0.6425\nEpoch 70/100\n712/712 [==============================] - 0s 42us/sample - loss: 0.6728 - accuracy: 0.6096 - val_loss: 0.6556 - val_accuracy: 0.6425\nEpoch 71/100\n712/712 [==============================] - 0s 41us/sample - loss: 0.6731 - accuracy: 0.6096 - val_loss: 0.6556 - val_accuracy: 0.6425\nEpoch 72/100\n712/712 [==============================] - 0s 40us/sample - loss: 0.6701 - accuracy: 0.6096 - val_loss: 0.6562 - val_accuracy: 0.6425\nEpoch 73/100\n712/712 [==============================] - 0s 40us/sample - loss: 0.6725 - accuracy: 0.6096 - val_loss: 0.6567 - val_accuracy: 0.6425\nEpoch 74/100\n712/712 [==============================] - 0s 41us/sample - loss: 0.6707 - accuracy: 0.6096 - val_loss: 0.6560 - val_accuracy: 0.6425\nEpoch 75/100\n712/712 [==============================] - 0s 41us/sample - loss: 0.6699 - accuracy: 0.6096 - val_loss: 0.6552 - val_accuracy: 0.6425\nEpoch 76/100\n712/712 [==============================] - 0s 41us/sample - loss: 0.6697 - accuracy: 0.6096 - val_loss: 0.6561 - val_accuracy: 0.6425\nEpoch 77/100\n712/712 [==============================] - 0s 42us/sample - loss: 0.6684 - accuracy: 0.6096 - val_loss: 0.6556 - val_accuracy: 0.6425\nEpoch 78/100\n712/712 [==============================] - 0s 42us/sample - loss: 0.6712 - accuracy: 0.6096 - val_loss: 0.6552 - val_accuracy: 0.6425\nEpoch 79/100\n712/712 [==============================] - 0s 41us/sample - loss: 0.6694 - accuracy: 0.6096 - val_loss: 0.6551 - val_accuracy: 0.6425\nEpoch 80/100\n712/712 [==============================] - 0s 41us/sample - loss: 0.6718 - accuracy: 0.6096 - val_loss: 0.6556 - val_accuracy: 0.6425\nEpoch 81/100\n712/712 [==============================] - 0s 40us/sample - loss: 0.6701 - accuracy: 0.6096 - val_loss: 0.6553 - val_accuracy: 0.6425\nEpoch 82/100\n712/712 [==============================] - 0s 44us/sample - loss: 0.6665 - accuracy: 0.6096 - val_loss: 0.6542 - val_accuracy: 0.6425\nEpoch 83/100\n712/712 [==============================] - 0s 44us/sample - loss: 0.6690 - accuracy: 0.6096 - val_loss: 0.6535 - val_accuracy: 0.6425\nEpoch 84/100\n712/712 [==============================] - 0s 40us/sample - loss: 0.6712 - accuracy: 0.6096 - val_loss: 0.6545 - val_accuracy: 0.6425\nEpoch 85/100\n712/712 [==============================] - 0s 42us/sample - loss: 0.6691 - accuracy: 0.6096 - val_loss: 0.6552 - val_accuracy: 0.6425\nEpoch 86/100\n712/712 [==============================] - 0s 47us/sample - loss: 0.6708 - accuracy: 0.6096 - val_loss: 0.6556 - val_accuracy: 0.6425\nEpoch 87/100\n712/712 [==============================] - 0s 40us/sample - loss: 0.6728 - accuracy: 0.6096 - val_loss: 0.6565 - val_accuracy: 0.6425\nEpoch 88/100\n712/712 [==============================] - 0s 40us/sample - loss: 0.6688 - accuracy: 0.6096 - val_loss: 0.6571 - val_accuracy: 0.6425\nEpoch 89/100\n712/712 [==============================] - 0s 40us/sample - loss: 0.6697 - accuracy: 0.6096 - val_loss: 0.6555 - val_accuracy: 0.6425\nEpoch 90/100\n712/712 [==============================] - 0s 38us/sample - loss: 0.6675 - accuracy: 0.6096 - val_loss: 0.6549 - val_accuracy: 0.6425\nEpoch 91/100\n712/712 [==============================] - 0s 39us/sample - loss: 0.6685 - accuracy: 0.6096 - val_loss: 0.6543 - val_accuracy: 0.6425\nEpoch 92/100\n712/712 [==============================] - 0s 40us/sample - loss: 0.6725 - accuracy: 0.6096 - val_loss: 0.6546 - val_accuracy: 0.6425\nEpoch 93/100\n712/712 [==============================] - 0s 39us/sample - loss: 0.6701 - accuracy: 0.6096 - val_loss: 0.6541 - val_accuracy: 0.6425\nEpoch 94/100\n712/712 [==============================] - 0s 40us/sample - loss: 0.6714 - accuracy: 0.6096 - val_loss: 0.6550 - val_accuracy: 0.6425\nEpoch 95/100\n712/712 [==============================] - 0s 39us/sample - loss: 0.6705 - accuracy: 0.6096 - val_loss: 0.6554 - val_accuracy: 0.6425\nEpoch 96/100\n712/712 [==============================] - 0s 39us/sample - loss: 0.6708 - accuracy: 0.6096 - val_loss: 0.6552 - val_accuracy: 0.6425\nEpoch 97/100\n712/712 [==============================] - 0s 38us/sample - loss: 0.6691 - accuracy: 0.6096 - val_loss: 0.6557 - val_accuracy: 0.6425\nEpoch 98/100\n712/712 [==============================] - 0s 40us/sample - loss: 0.6710 - accuracy: 0.6096 - val_loss: 0.6554 - val_accuracy: 0.6425\nEpoch 99/100\n712/712 [==============================] - 0s 40us/sample - loss: 0.6674 - accuracy: 0.6096 - val_loss: 0.6547 - val_accuracy: 0.6425\nEpoch 100/100\n712/712 [==============================] - 0s 39us/sample - loss: 0.6691 - accuracy: 0.6096 - val_loss: 0.6551 - val_accuracy: 0.6425\n"
    },
    {
     "output_type": "execute_result",
     "data": {
      "text/plain": "<tensorflow.python.keras.callbacks.History at 0x7fe24a2d7190>"
     },
     "metadata": {},
     "execution_count": 111
    }
   ],
   "source": [
    "# fit the model\n",
    "number_epochs = 100\n",
    "\n",
    "# model.fit(X_small_train, y_small_train, epochs=number_epochs, batch_size=20, validation_data=[X_small_test, y_small_test])\n",
    "model_small.fit(X_small, y_small, epochs=number_epochs, batch_size=32, validation_split=0.2)\n",
    "\n"
   ]
  },
  {
   "cell_type": "code",
   "execution_count": 99,
   "metadata": {},
   "outputs": [
    {
     "output_type": "execute_result",
     "data": {
      "text/plain": "   PassengerId  Pclass                                          Name     Sex  \\\n0          892       3                              Kelly, Mr. James    male   \n1          893       3              Wilkes, Mrs. James (Ellen Needs)  female   \n2          894       2                     Myles, Mr. Thomas Francis    male   \n3          895       3                              Wirz, Mr. Albert    male   \n4          896       3  Hirvonen, Mrs. Alexander (Helga E Lindqvist)  female   \n\n    Age  SibSp  Parch   Ticket     Fare Cabin Embarked  \n0  34.5      0      0   330911   7.8292   NaN        Q  \n1  47.0      1      0   363272   7.0000   NaN        S  \n2  62.0      0      0   240276   9.6875   NaN        Q  \n3  27.0      0      0   315154   8.6625   NaN        S  \n4  22.0      1      1  3101298  12.2875   NaN        S  ",
      "text/html": "<div>\n<style scoped>\n    .dataframe tbody tr th:only-of-type {\n        vertical-align: middle;\n    }\n\n    .dataframe tbody tr th {\n        vertical-align: top;\n    }\n\n    .dataframe thead th {\n        text-align: right;\n    }\n</style>\n<table border=\"1\" class=\"dataframe\">\n  <thead>\n    <tr style=\"text-align: right;\">\n      <th></th>\n      <th>PassengerId</th>\n      <th>Pclass</th>\n      <th>Name</th>\n      <th>Sex</th>\n      <th>Age</th>\n      <th>SibSp</th>\n      <th>Parch</th>\n      <th>Ticket</th>\n      <th>Fare</th>\n      <th>Cabin</th>\n      <th>Embarked</th>\n    </tr>\n  </thead>\n  <tbody>\n    <tr>\n      <th>0</th>\n      <td>892</td>\n      <td>3</td>\n      <td>Kelly, Mr. James</td>\n      <td>male</td>\n      <td>34.5</td>\n      <td>0</td>\n      <td>0</td>\n      <td>330911</td>\n      <td>7.8292</td>\n      <td>NaN</td>\n      <td>Q</td>\n    </tr>\n    <tr>\n      <th>1</th>\n      <td>893</td>\n      <td>3</td>\n      <td>Wilkes, Mrs. James (Ellen Needs)</td>\n      <td>female</td>\n      <td>47.0</td>\n      <td>1</td>\n      <td>0</td>\n      <td>363272</td>\n      <td>7.0000</td>\n      <td>NaN</td>\n      <td>S</td>\n    </tr>\n    <tr>\n      <th>2</th>\n      <td>894</td>\n      <td>2</td>\n      <td>Myles, Mr. Thomas Francis</td>\n      <td>male</td>\n      <td>62.0</td>\n      <td>0</td>\n      <td>0</td>\n      <td>240276</td>\n      <td>9.6875</td>\n      <td>NaN</td>\n      <td>Q</td>\n    </tr>\n    <tr>\n      <th>3</th>\n      <td>895</td>\n      <td>3</td>\n      <td>Wirz, Mr. Albert</td>\n      <td>male</td>\n      <td>27.0</td>\n      <td>0</td>\n      <td>0</td>\n      <td>315154</td>\n      <td>8.6625</td>\n      <td>NaN</td>\n      <td>S</td>\n    </tr>\n    <tr>\n      <th>4</th>\n      <td>896</td>\n      <td>3</td>\n      <td>Hirvonen, Mrs. Alexander (Helga E Lindqvist)</td>\n      <td>female</td>\n      <td>22.0</td>\n      <td>1</td>\n      <td>1</td>\n      <td>3101298</td>\n      <td>12.2875</td>\n      <td>NaN</td>\n      <td>S</td>\n    </tr>\n  </tbody>\n</table>\n</div>"
     },
     "metadata": {},
     "execution_count": 99
    }
   ],
   "source": [
    "# predict on the kaggle test data\n",
    "# load the titanic test data\n",
    "titanic_test_df = pd.read_csv(\"../../../../Datasets/Kaggle/Competitions/Titanic/test.csv\")\n",
    "\n",
    "titanic_test_df.head(5)"
   ]
  },
  {
   "cell_type": "code",
   "execution_count": 89,
   "metadata": {},
   "outputs": [
    {
     "output_type": "execute_result",
     "data": {
      "text/plain": "      Sex   Age     Fare\n0    male  34.5   7.8292\n1  female  47.0   7.0000\n2    male  62.0   9.6875\n3    male  27.0   8.6625\n4  female  22.0  12.2875",
      "text/html": "<div>\n<style scoped>\n    .dataframe tbody tr th:only-of-type {\n        vertical-align: middle;\n    }\n\n    .dataframe tbody tr th {\n        vertical-align: top;\n    }\n\n    .dataframe thead th {\n        text-align: right;\n    }\n</style>\n<table border=\"1\" class=\"dataframe\">\n  <thead>\n    <tr style=\"text-align: right;\">\n      <th></th>\n      <th>Sex</th>\n      <th>Age</th>\n      <th>Fare</th>\n    </tr>\n  </thead>\n  <tbody>\n    <tr>\n      <th>0</th>\n      <td>male</td>\n      <td>34.5</td>\n      <td>7.8292</td>\n    </tr>\n    <tr>\n      <th>1</th>\n      <td>female</td>\n      <td>47.0</td>\n      <td>7.0000</td>\n    </tr>\n    <tr>\n      <th>2</th>\n      <td>male</td>\n      <td>62.0</td>\n      <td>9.6875</td>\n    </tr>\n    <tr>\n      <th>3</th>\n      <td>male</td>\n      <td>27.0</td>\n      <td>8.6625</td>\n    </tr>\n    <tr>\n      <th>4</th>\n      <td>female</td>\n      <td>22.0</td>\n      <td>12.2875</td>\n    </tr>\n  </tbody>\n</table>\n</div>"
     },
     "metadata": {},
     "execution_count": 89
    }
   ],
   "source": [
    "# subsampel the data\n",
    "kaggle_test_df = titanic_test_df.filter(['Sex', 'Age', 'Fare'])\n",
    "\n",
    "kaggle_test_df.head(5)"
   ]
  },
  {
   "cell_type": "code",
   "execution_count": 112,
   "metadata": {},
   "outputs": [
    {
     "output_type": "stream",
     "name": "stdout",
     "text": "<class 'pandas.core.frame.DataFrame'>\nRangeIndex: 418 entries, 0 to 417\nData columns (total 4 columns):\n #   Column      Non-Null Count  Dtype  \n---  ------      --------------  -----  \n 0   Age         332 non-null    float64\n 1   Fare        417 non-null    float64\n 2   Sex_female  418 non-null    uint8  \n 3   Sex_male    418 non-null    uint8  \ndtypes: float64(2), uint8(2)\nmemory usage: 7.5 KB\n"
    }
   ],
   "source": [
    "kaggle_test_df.info()"
   ]
  },
  {
   "cell_type": "code",
   "execution_count": 92,
   "metadata": {},
   "outputs": [
    {
     "output_type": "execute_result",
     "data": {
      "text/plain": "    Age     Fare  Sex_female  Sex_male\n0  34.5   7.8292           0         1\n1  47.0   7.0000           1         0\n2  62.0   9.6875           0         1\n3  27.0   8.6625           0         1\n4  22.0  12.2875           1         0",
      "text/html": "<div>\n<style scoped>\n    .dataframe tbody tr th:only-of-type {\n        vertical-align: middle;\n    }\n\n    .dataframe tbody tr th {\n        vertical-align: top;\n    }\n\n    .dataframe thead th {\n        text-align: right;\n    }\n</style>\n<table border=\"1\" class=\"dataframe\">\n  <thead>\n    <tr style=\"text-align: right;\">\n      <th></th>\n      <th>Age</th>\n      <th>Fare</th>\n      <th>Sex_female</th>\n      <th>Sex_male</th>\n    </tr>\n  </thead>\n  <tbody>\n    <tr>\n      <th>0</th>\n      <td>34.5</td>\n      <td>7.8292</td>\n      <td>0</td>\n      <td>1</td>\n    </tr>\n    <tr>\n      <th>1</th>\n      <td>47.0</td>\n      <td>7.0000</td>\n      <td>1</td>\n      <td>0</td>\n    </tr>\n    <tr>\n      <th>2</th>\n      <td>62.0</td>\n      <td>9.6875</td>\n      <td>0</td>\n      <td>1</td>\n    </tr>\n    <tr>\n      <th>3</th>\n      <td>27.0</td>\n      <td>8.6625</td>\n      <td>0</td>\n      <td>1</td>\n    </tr>\n    <tr>\n      <th>4</th>\n      <td>22.0</td>\n      <td>12.2875</td>\n      <td>1</td>\n      <td>0</td>\n    </tr>\n  </tbody>\n</table>\n</div>"
     },
     "metadata": {},
     "execution_count": 92
    }
   ],
   "source": [
    "# make sex one hot\n",
    "kaggle_test_df = pd.get_dummies(kaggle_test_df)\n",
    "\n",
    "kaggle_test_df.head(5)"
   ]
  },
  {
   "cell_type": "code",
   "execution_count": 113,
   "metadata": {},
   "outputs": [
    {
     "output_type": "stream",
     "name": "stdout",
     "text": "<class 'pandas.core.frame.DataFrame'>\nRangeIndex: 418 entries, 0 to 417\nData columns (total 4 columns):\n #   Column      Non-Null Count  Dtype\n---  ------      --------------  -----\n 0   Age         418 non-null    bool \n 1   Fare        418 non-null    bool \n 2   Sex_female  418 non-null    bool \n 3   Sex_male    418 non-null    bool \ndtypes: bool(4)\nmemory usage: 1.8 KB\n"
    }
   ],
   "source": [
    "kaggle_test_df = pd.notnull(kaggle_test_df)\n",
    "\n",
    "kaggle_test_df.info()"
   ]
  },
  {
   "cell_type": "code",
   "execution_count": 115,
   "metadata": {},
   "outputs": [
    {
     "output_type": "execute_result",
     "data": {
      "text/plain": "           0\n0   0.395569\n1   0.395569\n2   0.395569\n3   0.395569\n4   0.395569\n5   0.395569\n6   0.395569\n7   0.395569\n8   0.395569\n9   0.395569\n10  0.360926\n11  0.395569\n12  0.395569\n13  0.395569\n14  0.395569\n15  0.395569\n16  0.395569\n17  0.395569\n18  0.395569\n19  0.395569\n20  0.395569\n21  0.395569\n22  0.360926\n23  0.395569\n24  0.395569\n25  0.395569\n26  0.395569\n27  0.395569\n28  0.395569\n29  0.360926\n30  0.395569\n31  0.395569\n32  0.395569\n33  0.360926\n34  0.395569\n35  0.395569\n36  0.360926\n37  0.395569\n38  0.395569\n39  0.360926\n40  0.395569\n41  0.360926\n42  0.395569\n43  0.395569\n44  0.395569\n45  0.395569\n46  0.395569\n47  0.360926\n48  0.395569\n49  0.395569",
      "text/html": "<div>\n<style scoped>\n    .dataframe tbody tr th:only-of-type {\n        vertical-align: middle;\n    }\n\n    .dataframe tbody tr th {\n        vertical-align: top;\n    }\n\n    .dataframe thead th {\n        text-align: right;\n    }\n</style>\n<table border=\"1\" class=\"dataframe\">\n  <thead>\n    <tr style=\"text-align: right;\">\n      <th></th>\n      <th>0</th>\n    </tr>\n  </thead>\n  <tbody>\n    <tr>\n      <th>0</th>\n      <td>0.395569</td>\n    </tr>\n    <tr>\n      <th>1</th>\n      <td>0.395569</td>\n    </tr>\n    <tr>\n      <th>2</th>\n      <td>0.395569</td>\n    </tr>\n    <tr>\n      <th>3</th>\n      <td>0.395569</td>\n    </tr>\n    <tr>\n      <th>4</th>\n      <td>0.395569</td>\n    </tr>\n    <tr>\n      <th>5</th>\n      <td>0.395569</td>\n    </tr>\n    <tr>\n      <th>6</th>\n      <td>0.395569</td>\n    </tr>\n    <tr>\n      <th>7</th>\n      <td>0.395569</td>\n    </tr>\n    <tr>\n      <th>8</th>\n      <td>0.395569</td>\n    </tr>\n    <tr>\n      <th>9</th>\n      <td>0.395569</td>\n    </tr>\n    <tr>\n      <th>10</th>\n      <td>0.360926</td>\n    </tr>\n    <tr>\n      <th>11</th>\n      <td>0.395569</td>\n    </tr>\n    <tr>\n      <th>12</th>\n      <td>0.395569</td>\n    </tr>\n    <tr>\n      <th>13</th>\n      <td>0.395569</td>\n    </tr>\n    <tr>\n      <th>14</th>\n      <td>0.395569</td>\n    </tr>\n    <tr>\n      <th>15</th>\n      <td>0.395569</td>\n    </tr>\n    <tr>\n      <th>16</th>\n      <td>0.395569</td>\n    </tr>\n    <tr>\n      <th>17</th>\n      <td>0.395569</td>\n    </tr>\n    <tr>\n      <th>18</th>\n      <td>0.395569</td>\n    </tr>\n    <tr>\n      <th>19</th>\n      <td>0.395569</td>\n    </tr>\n    <tr>\n      <th>20</th>\n      <td>0.395569</td>\n    </tr>\n    <tr>\n      <th>21</th>\n      <td>0.395569</td>\n    </tr>\n    <tr>\n      <th>22</th>\n      <td>0.360926</td>\n    </tr>\n    <tr>\n      <th>23</th>\n      <td>0.395569</td>\n    </tr>\n    <tr>\n      <th>24</th>\n      <td>0.395569</td>\n    </tr>\n    <tr>\n      <th>25</th>\n      <td>0.395569</td>\n    </tr>\n    <tr>\n      <th>26</th>\n      <td>0.395569</td>\n    </tr>\n    <tr>\n      <th>27</th>\n      <td>0.395569</td>\n    </tr>\n    <tr>\n      <th>28</th>\n      <td>0.395569</td>\n    </tr>\n    <tr>\n      <th>29</th>\n      <td>0.360926</td>\n    </tr>\n    <tr>\n      <th>30</th>\n      <td>0.395569</td>\n    </tr>\n    <tr>\n      <th>31</th>\n      <td>0.395569</td>\n    </tr>\n    <tr>\n      <th>32</th>\n      <td>0.395569</td>\n    </tr>\n    <tr>\n      <th>33</th>\n      <td>0.360926</td>\n    </tr>\n    <tr>\n      <th>34</th>\n      <td>0.395569</td>\n    </tr>\n    <tr>\n      <th>35</th>\n      <td>0.395569</td>\n    </tr>\n    <tr>\n      <th>36</th>\n      <td>0.360926</td>\n    </tr>\n    <tr>\n      <th>37</th>\n      <td>0.395569</td>\n    </tr>\n    <tr>\n      <th>38</th>\n      <td>0.395569</td>\n    </tr>\n    <tr>\n      <th>39</th>\n      <td>0.360926</td>\n    </tr>\n    <tr>\n      <th>40</th>\n      <td>0.395569</td>\n    </tr>\n    <tr>\n      <th>41</th>\n      <td>0.360926</td>\n    </tr>\n    <tr>\n      <th>42</th>\n      <td>0.395569</td>\n    </tr>\n    <tr>\n      <th>43</th>\n      <td>0.395569</td>\n    </tr>\n    <tr>\n      <th>44</th>\n      <td>0.395569</td>\n    </tr>\n    <tr>\n      <th>45</th>\n      <td>0.395569</td>\n    </tr>\n    <tr>\n      <th>46</th>\n      <td>0.395569</td>\n    </tr>\n    <tr>\n      <th>47</th>\n      <td>0.360926</td>\n    </tr>\n    <tr>\n      <th>48</th>\n      <td>0.395569</td>\n    </tr>\n    <tr>\n      <th>49</th>\n      <td>0.395569</td>\n    </tr>\n  </tbody>\n</table>\n</div>"
     },
     "metadata": {},
     "execution_count": 115
    }
   ],
   "source": [
    "# predict for the kaggle test data\n",
    "kaggle_predict = pd.DataFrame(model_small.predict(kaggle_test_df))\n",
    "\n",
    "kaggle_predict.head(50)"
   ]
  },
  {
   "cell_type": "code",
   "execution_count": null,
   "metadata": {},
   "outputs": [],
   "source": []
  }
 ],
 "metadata": {
  "language_info": {
   "codemirror_mode": {
    "name": "ipython",
    "version": 3
   },
   "file_extension": ".py",
   "mimetype": "text/x-python",
   "name": "python",
   "nbconvert_exporter": "python",
   "pygments_lexer": "ipython3",
   "version": "3.7.6-final"
  },
  "orig_nbformat": 2,
  "kernelspec": {
   "name": "python37664bittf237venv9b274482c7ba4966ad2cf02baa9bb24c",
   "display_name": "Python 3.7.6 64-bit ('tf2_37': venv)"
  }
 },
 "nbformat": 4,
 "nbformat_minor": 2
}