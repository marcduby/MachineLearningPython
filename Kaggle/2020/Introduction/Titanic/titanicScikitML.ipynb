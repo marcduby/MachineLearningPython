{
 "cells": [
  {
   "cell_type": "code",
   "execution_count": 296,
   "metadata": {},
   "outputs": [
    {
     "output_type": "stream",
     "name": "stdout",
     "text": "the numpy version is 1.18.1\nthe sklearn version is 0.22.2.post1\nthe pandas version is 1.0.3\n"
    }
   ],
   "source": [
    "import numpy as np\n",
    "import sklearn as sk \n",
    "import matplotlib.pyplot as plt\n",
    "from matplotlib.colors import ListedColormap\n",
    "from sklearn.model_selection import train_test_split\n",
    "from sklearn.preprocessing import StandardScaler\n",
    "from sklearn.datasets import make_moons, make_circles, make_classification\n",
    "from sklearn.neural_network import MLPClassifier\n",
    "from sklearn.linear_model import SGDClassifier\n",
    "from sklearn.neighbors import KNeighborsClassifier\n",
    "from sklearn.svm import SVC\n",
    "from sklearn.gaussian_process import GaussianProcessClassifier\n",
    "from sklearn.gaussian_process.kernels import RBF\n",
    "from sklearn.tree import DecisionTreeClassifier\n",
    "from sklearn.ensemble import RandomForestClassifier, AdaBoostClassifier\n",
    "from sklearn.naive_bayes import GaussianNB\n",
    "from sklearn.discriminant_analysis import QuadraticDiscriminantAnalysis\n",
    "import pandas as pd \n",
    "from sklearn.metrics import confusion_matrix\n",
    "\n",
    "print(\"the numpy version is {}\".format(np.__version__))\n",
    "print(\"the sklearn version is {}\".format(sk.__version__))\n",
    "print(\"the pandas version is {}\".format(pd.__version__))\n",
    "\n"
   ]
  },
  {
   "cell_type": "code",
   "execution_count": 251,
   "metadata": {},
   "outputs": [],
   "source": [
    "def train_model(name, model, X_train, y_train, X_test, y_test):\n",
    "    # log\n",
    "    print(\"===> using model {}\".format(name))\n",
    "\n",
    "    # train the model\n",
    "    model.fit(X_train, y_train)\n",
    "\n",
    "    # predict the test data\n",
    "    y_pred = model.predict(X_test)\n",
    "\n",
    "    # measure effectiveness\n",
    "    confusion = confusion_matrix(y_test, y_pred)\n",
    "    accuracy = float(np.trace(confusion))/float(np.sum(confusion))\n",
    "    print(\"the accuracy is {0:.2%}\".format(accuracy))\n",
    "    # print(\"the sum is {}, diagonal sum is {} and elements are {}\".format(np.sum(confusion), np.trace(confusion), np.diagonal(confusion)))\n",
    "    # print(\"the confusion matrix of type {} is \\n{}\\n\\n\".format(type(confusion), confusion))\n",
    "    print(\"\\n\")\n",
    "\n",
    "    # return\n",
    "    return accuracy"
   ]
  },
  {
   "cell_type": "code",
   "execution_count": 243,
   "metadata": {},
   "outputs": [],
   "source": [
    "def pre_process(dataframe, is_train=True):\n",
    "    '''preprocess the data'''\n",
    "    # need to impute the Age and Fare column\n",
    "    dataframe['Age'].fillna((dataframe['Age'].mean()), inplace=True)\n",
    "    dataframe['Fare'].fillna((dataframe['Fare'].mean()), inplace=True)\n",
    "\n",
    "    # drop the cabin column\n",
    "    dataframe.drop(['PassengerId', 'Name', 'Cabin', 'Ticket'], axis=1, inplace=True)\n",
    "\n",
    "    # dropna for the embarked column (only needed for the train dataset)\n",
    "    if is_train:\n",
    "        dataframe = dataframe.dropna(subset=['Embarked'])\n",
    "\n",
    "    return dataframe\n"
   ]
  },
  {
   "cell_type": "code",
   "execution_count": 297,
   "metadata": {},
   "outputs": [
    {
     "output_type": "stream",
     "name": "stdout",
     "text": "classifier map has size 11\n"
    }
   ],
   "source": [
    "# build the classifier map\n",
    "classifiers = {\n",
    "    \"Nearest Neighbors\": KNeighborsClassifier(3),\n",
    "    \"Linear SVM\": SVC(kernel=\"linear\", C=0.025),\n",
    "    \"RBF SVM\": SVC(gamma=2, C=1),\n",
    "    \"Gaussian Process\": GaussianProcessClassifier(1.0 * RBF(1.0)),\n",
    "    \"Decision Tree\": DecisionTreeClassifier(max_depth=4),\n",
    "    \"Random Forest\": RandomForestClassifier(max_depth=10, n_estimators=20, max_features=1),\n",
    "    \"Neural Net\": MLPClassifier(alpha=1, max_iter=1000),\n",
    "    \"AdaBoost\": AdaBoostClassifier(),\n",
    "    \"Naive Bayes\": GaussianNB(),\n",
    "    \"QDA\": QuadraticDiscriminantAnalysis(),\n",
    "    'SGDClassifier': SGDClassifier(max_iter=1000, tol=1e-3)\n",
    "    }\n",
    "\n",
    "print(\"classifier map has size {}\".format(len(classifiers)))"
   ]
  },
  {
   "cell_type": "code",
   "execution_count": 227,
   "metadata": {},
   "outputs": [
    {
     "output_type": "stream",
     "name": "stdout",
     "text": "<class 'pandas.core.frame.DataFrame'>\nRangeIndex: 891 entries, 0 to 890\nData columns (total 12 columns):\n #   Column       Non-Null Count  Dtype  \n---  ------       --------------  -----  \n 0   PassengerId  891 non-null    int64  \n 1   Survived     891 non-null    int64  \n 2   Pclass       891 non-null    int64  \n 3   Name         891 non-null    object \n 4   Sex          891 non-null    object \n 5   Age          714 non-null    float64\n 6   SibSp        891 non-null    int64  \n 7   Parch        891 non-null    int64  \n 8   Ticket       891 non-null    object \n 9   Fare         891 non-null    float64\n 10  Cabin        204 non-null    object \n 11  Embarked     889 non-null    object \ndtypes: float64(2), int64(5), object(5)\nmemory usage: 83.7+ KB\n"
    }
   ],
   "source": [
    "# load the titanic data\n",
    "# load the training data\n",
    "titanic_df = pd.read_csv(\"../../../../Datasets/Kaggle/Competitions/Titanic/train.csv\")\n",
    "\n",
    "titanic_df.info()"
   ]
  },
  {
   "cell_type": "code",
   "execution_count": 244,
   "metadata": {},
   "outputs": [
    {
     "output_type": "stream",
     "name": "stdout",
     "text": "<class 'pandas.core.frame.DataFrame'>\nRangeIndex: 891 entries, 0 to 890\nData columns (total 12 columns):\n #   Column       Non-Null Count  Dtype  \n---  ------       --------------  -----  \n 0   PassengerId  891 non-null    int64  \n 1   Survived     891 non-null    int64  \n 2   Pclass       891 non-null    int64  \n 3   Name         891 non-null    object \n 4   Sex          891 non-null    object \n 5   Age          714 non-null    float64\n 6   SibSp        891 non-null    int64  \n 7   Parch        891 non-null    int64  \n 8   Ticket       891 non-null    object \n 9   Fare         891 non-null    float64\n 10  Cabin        204 non-null    object \n 11  Embarked     889 non-null    object \ndtypes: float64(2), int64(5), object(5)\nmemory usage: 83.7+ KB\n"
    }
   ],
   "source": [
    "# get the features/labels data\n",
    "features = titanic_df.copy()\n",
    "\n",
    "features.info()"
   ]
  },
  {
   "cell_type": "code",
   "execution_count": 245,
   "metadata": {},
   "outputs": [
    {
     "output_type": "stream",
     "name": "stdout",
     "text": "<class 'pandas.core.frame.DataFrame'>\nInt64Index: 889 entries, 0 to 890\nData columns (total 8 columns):\n #   Column    Non-Null Count  Dtype  \n---  ------    --------------  -----  \n 0   Survived  889 non-null    int64  \n 1   Pclass    889 non-null    int64  \n 2   Sex       889 non-null    object \n 3   Age       889 non-null    float64\n 4   SibSp     889 non-null    int64  \n 5   Parch     889 non-null    int64  \n 6   Fare      889 non-null    float64\n 7   Embarked  889 non-null    object \ndtypes: float64(2), int64(4), object(2)\nmemory usage: 62.5+ KB\n"
    }
   ],
   "source": [
    "# drop the approriate columns\n",
    "# features.drop(['PassengerId', 'Name', 'Cabin', 'Ticket'], axis=1, inplace=True)\n",
    "features = pre_process(features, True)\n",
    "\n",
    "features.info()"
   ]
  },
  {
   "cell_type": "code",
   "execution_count": 246,
   "metadata": {},
   "outputs": [
    {
     "output_type": "stream",
     "name": "stdout",
     "text": "the features has shape (889, 7) and the labels has shape(889,)\n"
    }
   ],
   "source": [
    "# get the labels\n",
    "labels = features.pop(\"Survived\")\n",
    "\n",
    "print(\"the features has shape {} and the labels has shape{}\".format(features.shape, labels.shape))"
   ]
  },
  {
   "cell_type": "code",
   "execution_count": 247,
   "metadata": {},
   "outputs": [
    {
     "output_type": "stream",
     "name": "stdout",
     "text": "<class 'pandas.core.frame.DataFrame'>\nInt64Index: 889 entries, 0 to 890\nData columns (total 10 columns):\n #   Column      Non-Null Count  Dtype  \n---  ------      --------------  -----  \n 0   Pclass      889 non-null    int64  \n 1   Age         889 non-null    float64\n 2   SibSp       889 non-null    int64  \n 3   Parch       889 non-null    int64  \n 4   Fare        889 non-null    float64\n 5   Sex_female  889 non-null    uint8  \n 6   Sex_male    889 non-null    uint8  \n 7   Embarked_C  889 non-null    uint8  \n 8   Embarked_Q  889 non-null    uint8  \n 9   Embarked_S  889 non-null    uint8  \ndtypes: float64(2), int64(3), uint8(5)\nmemory usage: 46.0 KB\n"
    }
   ],
   "source": [
    "# one hot sex and embarked\n",
    "features = pd.get_dummies(features)\n",
    "\n",
    "features.info()"
   ]
  },
  {
   "cell_type": "code",
   "execution_count": 248,
   "metadata": {},
   "outputs": [
    {
     "output_type": "stream",
     "name": "stdout",
     "text": "the training features have shape (711, 10) and the training labels have shape (711,)\nthe test features have shape (178, 10) and the test labels have shape (178,)\n"
    }
   ],
   "source": [
    "# split the data\n",
    "X_train, X_test, y_train, y_test = train_test_split(features, labels, test_size=0.2, random_state=2)\n",
    "\n",
    "print(\"the training features have shape {} and the training labels have shape {}\".format(X_train.shape, y_train.shape))\n",
    "print(\"the test features have shape {} and the test labels have shape {}\".format(X_test.shape, y_test.shape))\n",
    "\n"
   ]
  },
  {
   "cell_type": "code",
   "execution_count": 298,
   "metadata": {},
   "outputs": [
    {
     "output_type": "stream",
     "name": "stdout",
     "text": "===> using model Nearest Neighbors\nthe accuracy is 70.22%\n\n\n===> using model Linear SVM\nthe accuracy is 80.90%\n\n\n===> using model RBF SVM\nthe accuracy is 63.48%\n\n\n===> using model Gaussian Process\nthe accuracy is 37.64%\n\n\n===> using model Decision Tree\nthe accuracy is 74.16%\n\n\n===> using model Random Forest\nthe accuracy is 84.27%\n\n\n===> using model Neural Net\nthe accuracy is 79.21%\n\n\n===> using model AdaBoost\nthe accuracy is 78.09%\n\n\n===> using model Naive Bayes\nthe accuracy is 78.09%\n\n\n===> using model QDA\nthe accuracy is 71.35%\n\n\n===> using model SGDClassifier\nthe accuracy is 63.48%\n\n\n"
    }
   ],
   "source": [
    "# build pandas dataframe to store the results\n",
    "results = pd.DataFrame(columns=['name', 'accuracy'])\n",
    "\n",
    "# loop through the data and fit the model\n",
    "for name, model in classifiers.items():\n",
    "    # print(\"training model {}\".format(name))\n",
    "    accuracy = train_model(name, model, X_train, y_train, X_test, y_test)\n",
    "    results.loc[-len(results)] = [name, accuracy]"
   ]
  },
  {
   "cell_type": "code",
   "execution_count": 299,
   "metadata": {},
   "outputs": [
    {
     "output_type": "execute_result",
     "data": {
      "text/plain": "                  name  accuracy\n-5       Random Forest  0.842697\n-1          Linear SVM  0.808989\n-6          Neural Net  0.792135\n-7            AdaBoost  0.780899\n-8         Naive Bayes  0.780899\n-4       Decision Tree  0.741573\n-9                 QDA  0.713483\n 0   Nearest Neighbors  0.702247\n-2             RBF SVM  0.634831\n-10      SGDClassifier  0.634831\n-3    Gaussian Process  0.376404",
      "text/html": "<div>\n<style scoped>\n    .dataframe tbody tr th:only-of-type {\n        vertical-align: middle;\n    }\n\n    .dataframe tbody tr th {\n        vertical-align: top;\n    }\n\n    .dataframe thead th {\n        text-align: right;\n    }\n</style>\n<table border=\"1\" class=\"dataframe\">\n  <thead>\n    <tr style=\"text-align: right;\">\n      <th></th>\n      <th>name</th>\n      <th>accuracy</th>\n    </tr>\n  </thead>\n  <tbody>\n    <tr>\n      <th>-5</th>\n      <td>Random Forest</td>\n      <td>0.842697</td>\n    </tr>\n    <tr>\n      <th>-1</th>\n      <td>Linear SVM</td>\n      <td>0.808989</td>\n    </tr>\n    <tr>\n      <th>-6</th>\n      <td>Neural Net</td>\n      <td>0.792135</td>\n    </tr>\n    <tr>\n      <th>-7</th>\n      <td>AdaBoost</td>\n      <td>0.780899</td>\n    </tr>\n    <tr>\n      <th>-8</th>\n      <td>Naive Bayes</td>\n      <td>0.780899</td>\n    </tr>\n    <tr>\n      <th>-4</th>\n      <td>Decision Tree</td>\n      <td>0.741573</td>\n    </tr>\n    <tr>\n      <th>-9</th>\n      <td>QDA</td>\n      <td>0.713483</td>\n    </tr>\n    <tr>\n      <th>0</th>\n      <td>Nearest Neighbors</td>\n      <td>0.702247</td>\n    </tr>\n    <tr>\n      <th>-2</th>\n      <td>RBF SVM</td>\n      <td>0.634831</td>\n    </tr>\n    <tr>\n      <th>-10</th>\n      <td>SGDClassifier</td>\n      <td>0.634831</td>\n    </tr>\n    <tr>\n      <th>-3</th>\n      <td>Gaussian Process</td>\n      <td>0.376404</td>\n    </tr>\n  </tbody>\n</table>\n</div>"
     },
     "metadata": {},
     "execution_count": 299
    }
   ],
   "source": [
    "# sort and show results\n",
    "results = results.sort_values(by=['accuracy'], ascending=False)\n",
    "\n",
    "\n",
    "results"
   ]
  },
  {
   "cell_type": "code",
   "execution_count": 287,
   "metadata": {},
   "outputs": [
    {
     "output_type": "stream",
     "name": "stdout",
     "text": "<class 'pandas.core.frame.DataFrame'>\nRangeIndex: 418 entries, 0 to 417\nData columns (total 11 columns):\n #   Column       Non-Null Count  Dtype  \n---  ------       --------------  -----  \n 0   PassengerId  418 non-null    int64  \n 1   Pclass       418 non-null    int64  \n 2   Name         418 non-null    object \n 3   Sex          418 non-null    object \n 4   Age          332 non-null    float64\n 5   SibSp        418 non-null    int64  \n 6   Parch        418 non-null    int64  \n 7   Ticket       418 non-null    object \n 8   Fare         417 non-null    float64\n 9   Cabin        91 non-null     object \n 10  Embarked     418 non-null    object \ndtypes: float64(2), int64(4), object(5)\nmemory usage: 36.0+ KB\n"
    }
   ],
   "source": [
    "# load the titanic data\n",
    "# load the training data\n",
    "titanic_test_df = pd.read_csv(\"../../../../Datasets/Kaggle/Competitions/Titanic/test.csv\")\n",
    "\n",
    "titanic_test_df.info()"
   ]
  },
  {
   "cell_type": "code",
   "execution_count": 222,
   "metadata": {},
   "outputs": [
    {
     "output_type": "execute_result",
     "data": {
      "text/plain": "   PassengerId  Survived  Pclass  \\\n0            1         0       3   \n1            2         1       1   \n2            3         1       3   \n3            4         1       1   \n4            5         0       3   \n5            6         0       3   \n6            7         0       1   \n7            8         0       3   \n8            9         1       3   \n9           10         1       2   \n\n                                                Name     Sex   Age  SibSp  \\\n0                            Braund, Mr. Owen Harris    male  22.0      1   \n1  Cumings, Mrs. John Bradley (Florence Briggs Th...  female  38.0      1   \n2                             Heikkinen, Miss. Laina  female  26.0      0   \n3       Futrelle, Mrs. Jacques Heath (Lily May Peel)  female  35.0      1   \n4                           Allen, Mr. William Henry    male  35.0      0   \n5                                   Moran, Mr. James    male   NaN      0   \n6                            McCarthy, Mr. Timothy J    male  54.0      0   \n7                     Palsson, Master. Gosta Leonard    male   2.0      3   \n8  Johnson, Mrs. Oscar W (Elisabeth Vilhelmina Berg)  female  27.0      0   \n9                Nasser, Mrs. Nicholas (Adele Achem)  female  14.0      1   \n\n   Parch            Ticket     Fare Cabin Embarked  \n0      0         A/5 21171   7.2500   NaN        S  \n1      0          PC 17599  71.2833   C85        C  \n2      0  STON/O2. 3101282   7.9250   NaN        S  \n3      0            113803  53.1000  C123        S  \n4      0            373450   8.0500   NaN        S  \n5      0            330877   8.4583   NaN        Q  \n6      0             17463  51.8625   E46        S  \n7      1            349909  21.0750   NaN        S  \n8      2            347742  11.1333   NaN        S  \n9      0            237736  30.0708   NaN        C  ",
      "text/html": "<div>\n<style scoped>\n    .dataframe tbody tr th:only-of-type {\n        vertical-align: middle;\n    }\n\n    .dataframe tbody tr th {\n        vertical-align: top;\n    }\n\n    .dataframe thead th {\n        text-align: right;\n    }\n</style>\n<table border=\"1\" class=\"dataframe\">\n  <thead>\n    <tr style=\"text-align: right;\">\n      <th></th>\n      <th>PassengerId</th>\n      <th>Survived</th>\n      <th>Pclass</th>\n      <th>Name</th>\n      <th>Sex</th>\n      <th>Age</th>\n      <th>SibSp</th>\n      <th>Parch</th>\n      <th>Ticket</th>\n      <th>Fare</th>\n      <th>Cabin</th>\n      <th>Embarked</th>\n    </tr>\n  </thead>\n  <tbody>\n    <tr>\n      <th>0</th>\n      <td>1</td>\n      <td>0</td>\n      <td>3</td>\n      <td>Braund, Mr. Owen Harris</td>\n      <td>male</td>\n      <td>22.0</td>\n      <td>1</td>\n      <td>0</td>\n      <td>A/5 21171</td>\n      <td>7.2500</td>\n      <td>NaN</td>\n      <td>S</td>\n    </tr>\n    <tr>\n      <th>1</th>\n      <td>2</td>\n      <td>1</td>\n      <td>1</td>\n      <td>Cumings, Mrs. John Bradley (Florence Briggs Th...</td>\n      <td>female</td>\n      <td>38.0</td>\n      <td>1</td>\n      <td>0</td>\n      <td>PC 17599</td>\n      <td>71.2833</td>\n      <td>C85</td>\n      <td>C</td>\n    </tr>\n    <tr>\n      <th>2</th>\n      <td>3</td>\n      <td>1</td>\n      <td>3</td>\n      <td>Heikkinen, Miss. Laina</td>\n      <td>female</td>\n      <td>26.0</td>\n      <td>0</td>\n      <td>0</td>\n      <td>STON/O2. 3101282</td>\n      <td>7.9250</td>\n      <td>NaN</td>\n      <td>S</td>\n    </tr>\n    <tr>\n      <th>3</th>\n      <td>4</td>\n      <td>1</td>\n      <td>1</td>\n      <td>Futrelle, Mrs. Jacques Heath (Lily May Peel)</td>\n      <td>female</td>\n      <td>35.0</td>\n      <td>1</td>\n      <td>0</td>\n      <td>113803</td>\n      <td>53.1000</td>\n      <td>C123</td>\n      <td>S</td>\n    </tr>\n    <tr>\n      <th>4</th>\n      <td>5</td>\n      <td>0</td>\n      <td>3</td>\n      <td>Allen, Mr. William Henry</td>\n      <td>male</td>\n      <td>35.0</td>\n      <td>0</td>\n      <td>0</td>\n      <td>373450</td>\n      <td>8.0500</td>\n      <td>NaN</td>\n      <td>S</td>\n    </tr>\n    <tr>\n      <th>5</th>\n      <td>6</td>\n      <td>0</td>\n      <td>3</td>\n      <td>Moran, Mr. James</td>\n      <td>male</td>\n      <td>NaN</td>\n      <td>0</td>\n      <td>0</td>\n      <td>330877</td>\n      <td>8.4583</td>\n      <td>NaN</td>\n      <td>Q</td>\n    </tr>\n    <tr>\n      <th>6</th>\n      <td>7</td>\n      <td>0</td>\n      <td>1</td>\n      <td>McCarthy, Mr. Timothy J</td>\n      <td>male</td>\n      <td>54.0</td>\n      <td>0</td>\n      <td>0</td>\n      <td>17463</td>\n      <td>51.8625</td>\n      <td>E46</td>\n      <td>S</td>\n    </tr>\n    <tr>\n      <th>7</th>\n      <td>8</td>\n      <td>0</td>\n      <td>3</td>\n      <td>Palsson, Master. Gosta Leonard</td>\n      <td>male</td>\n      <td>2.0</td>\n      <td>3</td>\n      <td>1</td>\n      <td>349909</td>\n      <td>21.0750</td>\n      <td>NaN</td>\n      <td>S</td>\n    </tr>\n    <tr>\n      <th>8</th>\n      <td>9</td>\n      <td>1</td>\n      <td>3</td>\n      <td>Johnson, Mrs. Oscar W (Elisabeth Vilhelmina Berg)</td>\n      <td>female</td>\n      <td>27.0</td>\n      <td>0</td>\n      <td>2</td>\n      <td>347742</td>\n      <td>11.1333</td>\n      <td>NaN</td>\n      <td>S</td>\n    </tr>\n    <tr>\n      <th>9</th>\n      <td>10</td>\n      <td>1</td>\n      <td>2</td>\n      <td>Nasser, Mrs. Nicholas (Adele Achem)</td>\n      <td>female</td>\n      <td>14.0</td>\n      <td>1</td>\n      <td>0</td>\n      <td>237736</td>\n      <td>30.0708</td>\n      <td>NaN</td>\n      <td>C</td>\n    </tr>\n  </tbody>\n</table>\n</div>"
     },
     "metadata": {},
     "execution_count": 222
    }
   ],
   "source": [
    "titanic_df.head(10)"
   ]
  },
  {
   "cell_type": "code",
   "execution_count": 288,
   "metadata": {},
   "outputs": [
    {
     "output_type": "execute_result",
     "data": {
      "text/plain": "   PassengerId\n0          892\n1          893\n2          894\n3          895\n4          896",
      "text/html": "<div>\n<style scoped>\n    .dataframe tbody tr th:only-of-type {\n        vertical-align: middle;\n    }\n\n    .dataframe tbody tr th {\n        vertical-align: top;\n    }\n\n    .dataframe thead th {\n        text-align: right;\n    }\n</style>\n<table border=\"1\" class=\"dataframe\">\n  <thead>\n    <tr style=\"text-align: right;\">\n      <th></th>\n      <th>PassengerId</th>\n    </tr>\n  </thead>\n  <tbody>\n    <tr>\n      <th>0</th>\n      <td>892</td>\n    </tr>\n    <tr>\n      <th>1</th>\n      <td>893</td>\n    </tr>\n    <tr>\n      <th>2</th>\n      <td>894</td>\n    </tr>\n    <tr>\n      <th>3</th>\n      <td>895</td>\n    </tr>\n    <tr>\n      <th>4</th>\n      <td>896</td>\n    </tr>\n  </tbody>\n</table>\n</div>"
     },
     "metadata": {},
     "execution_count": 288
    }
   ],
   "source": [
    "# get the passenger id\n",
    "titanic_test_passenger = pd.DataFrame(titanic_test_df['PassengerId'])\n",
    "\n",
    "titanic_test_passenger.head()"
   ]
  },
  {
   "cell_type": "code",
   "execution_count": 289,
   "metadata": {},
   "outputs": [
    {
     "output_type": "stream",
     "name": "stdout",
     "text": "<class 'pandas.core.frame.DataFrame'>\nRangeIndex: 418 entries, 0 to 417\nData columns (total 7 columns):\n #   Column    Non-Null Count  Dtype  \n---  ------    --------------  -----  \n 0   Pclass    418 non-null    int64  \n 1   Sex       418 non-null    object \n 2   Age       418 non-null    float64\n 3   SibSp     418 non-null    int64  \n 4   Parch     418 non-null    int64  \n 5   Fare      418 non-null    float64\n 6   Embarked  418 non-null    object \ndtypes: float64(2), int64(3), object(2)\nmemory usage: 23.0+ KB\n"
    }
   ],
   "source": [
    "# preprocess the test dataset\n",
    "titanic_test_df = pre_process(titanic_test_df, False)\n",
    "\n",
    "titanic_test_df.info()"
   ]
  },
  {
   "cell_type": "code",
   "execution_count": 290,
   "metadata": {},
   "outputs": [
    {
     "output_type": "stream",
     "name": "stdout",
     "text": "<class 'pandas.core.frame.DataFrame'>\nRangeIndex: 418 entries, 0 to 417\nData columns (total 10 columns):\n #   Column      Non-Null Count  Dtype  \n---  ------      --------------  -----  \n 0   Pclass      418 non-null    int64  \n 1   Age         418 non-null    float64\n 2   SibSp       418 non-null    int64  \n 3   Parch       418 non-null    int64  \n 4   Fare        418 non-null    float64\n 5   Sex_female  418 non-null    uint8  \n 6   Sex_male    418 non-null    uint8  \n 7   Embarked_C  418 non-null    uint8  \n 8   Embarked_Q  418 non-null    uint8  \n 9   Embarked_S  418 non-null    uint8  \ndtypes: float64(2), int64(3), uint8(5)\nmemory usage: 18.5 KB\n"
    }
   ],
   "source": [
    "# one hot the remaining columns\n",
    "titanic_test_df = pd.get_dummies(titanic_test_df)\n",
    "\n",
    "titanic_test_df.info()"
   ]
  },
  {
   "cell_type": "code",
   "execution_count": 259,
   "metadata": {},
   "outputs": [],
   "source": [
    "# get the model\n",
    "model = classifiers['Random Forest']\n"
   ]
  },
  {
   "cell_type": "code",
   "execution_count": 293,
   "metadata": {},
   "outputs": [
    {
     "output_type": "execute_result",
     "data": {
      "text/plain": "   Pclass   Age  SibSp  Parch     Fare  Sex_female  Sex_male  Embarked_C  \\\n0       3  34.5      0      0   7.8292           0         1           0   \n1       3  47.0      1      0   7.0000           1         0           0   \n2       2  62.0      0      0   9.6875           0         1           0   \n3       3  27.0      0      0   8.6625           0         1           0   \n4       3  22.0      1      1  12.2875           1         0           0   \n\n   Embarked_Q  Embarked_S  Survived  \n0           1           0         0  \n1           0           1         0  \n2           1           0         0  \n3           0           1         0  \n4           0           1         1  ",
      "text/html": "<div>\n<style scoped>\n    .dataframe tbody tr th:only-of-type {\n        vertical-align: middle;\n    }\n\n    .dataframe tbody tr th {\n        vertical-align: top;\n    }\n\n    .dataframe thead th {\n        text-align: right;\n    }\n</style>\n<table border=\"1\" class=\"dataframe\">\n  <thead>\n    <tr style=\"text-align: right;\">\n      <th></th>\n      <th>Pclass</th>\n      <th>Age</th>\n      <th>SibSp</th>\n      <th>Parch</th>\n      <th>Fare</th>\n      <th>Sex_female</th>\n      <th>Sex_male</th>\n      <th>Embarked_C</th>\n      <th>Embarked_Q</th>\n      <th>Embarked_S</th>\n      <th>Survived</th>\n    </tr>\n  </thead>\n  <tbody>\n    <tr>\n      <th>0</th>\n      <td>3</td>\n      <td>34.5</td>\n      <td>0</td>\n      <td>0</td>\n      <td>7.8292</td>\n      <td>0</td>\n      <td>1</td>\n      <td>0</td>\n      <td>1</td>\n      <td>0</td>\n      <td>0</td>\n    </tr>\n    <tr>\n      <th>1</th>\n      <td>3</td>\n      <td>47.0</td>\n      <td>1</td>\n      <td>0</td>\n      <td>7.0000</td>\n      <td>1</td>\n      <td>0</td>\n      <td>0</td>\n      <td>0</td>\n      <td>1</td>\n      <td>0</td>\n    </tr>\n    <tr>\n      <th>2</th>\n      <td>2</td>\n      <td>62.0</td>\n      <td>0</td>\n      <td>0</td>\n      <td>9.6875</td>\n      <td>0</td>\n      <td>1</td>\n      <td>0</td>\n      <td>1</td>\n      <td>0</td>\n      <td>0</td>\n    </tr>\n    <tr>\n      <th>3</th>\n      <td>3</td>\n      <td>27.0</td>\n      <td>0</td>\n      <td>0</td>\n      <td>8.6625</td>\n      <td>0</td>\n      <td>1</td>\n      <td>0</td>\n      <td>0</td>\n      <td>1</td>\n      <td>0</td>\n    </tr>\n    <tr>\n      <th>4</th>\n      <td>3</td>\n      <td>22.0</td>\n      <td>1</td>\n      <td>1</td>\n      <td>12.2875</td>\n      <td>1</td>\n      <td>0</td>\n      <td>0</td>\n      <td>0</td>\n      <td>1</td>\n      <td>1</td>\n    </tr>\n  </tbody>\n</table>\n</div>"
     },
     "metadata": {},
     "execution_count": 293
    }
   ],
   "source": [
    "# predict and store\n",
    "# calculate predictions\n",
    "\n",
    "titanic_test_df['Survived'] = model.predict(titanic_test_df)\n",
    "titanic_test_df['Survived'] = titanic_test_df['Survived'].apply(lambda x: round(x,0)).astype('int')\n",
    "\n",
    "titanic_test_df.head()\n"
   ]
  },
  {
   "cell_type": "code",
   "execution_count": 294,
   "metadata": {},
   "outputs": [
    {
     "output_type": "execute_result",
     "data": {
      "text/plain": "   PassengerId  Survived\n0          892         0\n1          893         0\n2          894         0\n3          895         0\n4          896         1",
      "text/html": "<div>\n<style scoped>\n    .dataframe tbody tr th:only-of-type {\n        vertical-align: middle;\n    }\n\n    .dataframe tbody tr th {\n        vertical-align: top;\n    }\n\n    .dataframe thead th {\n        text-align: right;\n    }\n</style>\n<table border=\"1\" class=\"dataframe\">\n  <thead>\n    <tr style=\"text-align: right;\">\n      <th></th>\n      <th>PassengerId</th>\n      <th>Survived</th>\n    </tr>\n  </thead>\n  <tbody>\n    <tr>\n      <th>0</th>\n      <td>892</td>\n      <td>0</td>\n    </tr>\n    <tr>\n      <th>1</th>\n      <td>893</td>\n      <td>0</td>\n    </tr>\n    <tr>\n      <th>2</th>\n      <td>894</td>\n      <td>0</td>\n    </tr>\n    <tr>\n      <th>3</th>\n      <td>895</td>\n      <td>0</td>\n    </tr>\n    <tr>\n      <th>4</th>\n      <td>896</td>\n      <td>1</td>\n    </tr>\n  </tbody>\n</table>\n</div>"
     },
     "metadata": {},
     "execution_count": 294
    }
   ],
   "source": [
    "# create the solution dataframe\n",
    "solution = pd.concat([titanic_test_passenger['PassengerId'], titanic_test_df['Survived']], axis=1)\n",
    "\n",
    "solution.head()"
   ]
  },
  {
   "cell_type": "code",
   "execution_count": 295,
   "metadata": {},
   "outputs": [],
   "source": [
    "# save to csv\n",
    "solution.to_csv(\"../../../../Datasets/Kaggle/Competitions/Titanic/RandomForest.csv\", index=False)\n",
    "\n"
   ]
  },
  {
   "cell_type": "code",
   "execution_count": null,
   "metadata": {},
   "outputs": [],
   "source": []
  }
 ],
 "metadata": {
  "language_info": {
   "codemirror_mode": {
    "name": "ipython",
    "version": 3
   },
   "file_extension": ".py",
   "mimetype": "text/x-python",
   "name": "python",
   "nbconvert_exporter": "python",
   "pygments_lexer": "ipython3",
   "version": "3.7.6-final"
  },
  "orig_nbformat": 2,
  "kernelspec": {
   "name": "python37664bittf237venv9b274482c7ba4966ad2cf02baa9bb24c",
   "display_name": "Python 3.7.6 64-bit ('tf2_37': venv)"
  }
 },
 "nbformat": 4,
 "nbformat_minor": 2
}