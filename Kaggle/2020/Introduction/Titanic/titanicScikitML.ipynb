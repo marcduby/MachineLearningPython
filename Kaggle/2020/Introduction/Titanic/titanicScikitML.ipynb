{
 "cells": [
  {
   "cell_type": "code",
   "execution_count": 176,
   "metadata": {},
   "outputs": [
    {
     "output_type": "stream",
     "name": "stdout",
     "text": "the numpy version is 1.18.1\nthe sklearn version is 0.22.2.post1\nthe pandas version is 1.0.3\n"
    }
   ],
   "source": [
    "import numpy as np\n",
    "import sklearn as sk \n",
    "import matplotlib.pyplot as plt\n",
    "from matplotlib.colors import ListedColormap\n",
    "from sklearn.model_selection import train_test_split\n",
    "from sklearn.preprocessing import StandardScaler\n",
    "from sklearn.datasets import make_moons, make_circles, make_classification\n",
    "from sklearn.neural_network import MLPClassifier\n",
    "from sklearn.neighbors import KNeighborsClassifier\n",
    "from sklearn.svm import SVC\n",
    "from sklearn.gaussian_process import GaussianProcessClassifier\n",
    "from sklearn.gaussian_process.kernels import RBF\n",
    "from sklearn.tree import DecisionTreeClassifier\n",
    "from sklearn.ensemble import RandomForestClassifier, AdaBoostClassifier\n",
    "from sklearn.naive_bayes import GaussianNB\n",
    "from sklearn.discriminant_analysis import QuadraticDiscriminantAnalysis\n",
    "import pandas as pd \n",
    "from sklearn.metrics import confusion_matrix\n",
    "\n",
    "print(\"the numpy version is {}\".format(np.__version__))\n",
    "print(\"the sklearn version is {}\".format(sk.__version__))\n",
    "print(\"the pandas version is {}\".format(pd.__version__))\n",
    "\n"
   ]
  },
  {
   "cell_type": "code",
   "execution_count": 194,
   "metadata": {},
   "outputs": [],
   "source": [
    "def train_model(name, model, X_train, y_train, X_test, y_test):\n",
    "    # log\n",
    "    print(\"===> using model {}\".format(name))\n",
    "\n",
    "    # train the model\n",
    "    model.fit(X_train, y_train)\n",
    "\n",
    "    # predict the test data\n",
    "    y_pred = model.predict(X_test)\n",
    "\n",
    "    # measure effectiveness\n",
    "    confusion = confusion_matrix(y_test, y_pred)\n",
    "    accuracy = float(np.trace(confusion))/float(np.sum(confusion))\n",
    "    print(\"the accuracy is {0:.2%}\".format(accuracy))\n",
    "    # print(\"the sum is {}, diagonal sum is {} and elements are {}\".format(np.sum(confusion), np.trace(confusion), np.diagonal(confusion)))\n",
    "    # print(\"the confusion matrix of type {} is \\n{}\\n\\n\".format(type(confusion), confusion))\n",
    "    print(\"\\n\")\n",
    "\n",
    "    # return\n",
    "    return accuracy"
   ]
  },
  {
   "cell_type": "code",
   "execution_count": 216,
   "metadata": {},
   "outputs": [
    {
     "output_type": "stream",
     "name": "stdout",
     "text": "classifier map has size 10\n"
    }
   ],
   "source": [
    "# build the classifier map\n",
    "classifiers = {\n",
    "    \"Nearest Neighbors\": KNeighborsClassifier(3),\n",
    "    \"Linear SVM\": SVC(kernel=\"linear\", C=0.025),\n",
    "    \"RBF SVM\": SVC(gamma=2, C=1),\n",
    "    \"Gaussian Process\": GaussianProcessClassifier(1.0 * RBF(1.0)),\n",
    "    \"Decision Tree\": DecisionTreeClassifier(max_depth=4),\n",
    "    \"Random Forest\": RandomForestClassifier(max_depth=10, n_estimators=20, max_features=1),\n",
    "    \"Neural Net\": MLPClassifier(alpha=1, max_iter=1000),\n",
    "    \"AdaBoost\": AdaBoostClassifier(),\n",
    "    \"Naive Bayes\": GaussianNB(),\n",
    "    \"QDA\": QuadraticDiscriminantAnalysis()\n",
    "    }\n",
    "\n",
    "print(\"classifier map has size {}\".format(len(classifiers)))"
   ]
  },
  {
   "cell_type": "code",
   "execution_count": 150,
   "metadata": {},
   "outputs": [
    {
     "output_type": "stream",
     "name": "stdout",
     "text": "<class 'pandas.core.frame.DataFrame'>\nRangeIndex: 891 entries, 0 to 890\nData columns (total 12 columns):\n #   Column       Non-Null Count  Dtype  \n---  ------       --------------  -----  \n 0   PassengerId  891 non-null    int64  \n 1   Survived     891 non-null    int64  \n 2   Pclass       891 non-null    int64  \n 3   Name         891 non-null    object \n 4   Sex          891 non-null    object \n 5   Age          714 non-null    float64\n 6   SibSp        891 non-null    int64  \n 7   Parch        891 non-null    int64  \n 8   Ticket       891 non-null    object \n 9   Fare         891 non-null    float64\n 10  Cabin        204 non-null    object \n 11  Embarked     889 non-null    object \ndtypes: float64(2), int64(5), object(5)\nmemory usage: 83.7+ KB\n"
    }
   ],
   "source": [
    "# load the titanic data\n",
    "# load the training data\n",
    "titanic_df = pd.read_csv(\"../../../../Datasets/Kaggle/Competitions/Titanic/train.csv\")\n",
    "\n",
    "titanic_df.info()"
   ]
  },
  {
   "cell_type": "code",
   "execution_count": 170,
   "metadata": {},
   "outputs": [
    {
     "output_type": "stream",
     "name": "stdout",
     "text": "<class 'pandas.core.frame.DataFrame'>\nRangeIndex: 891 entries, 0 to 890\nData columns (total 12 columns):\n #   Column       Non-Null Count  Dtype  \n---  ------       --------------  -----  \n 0   PassengerId  891 non-null    int64  \n 1   Survived     891 non-null    int64  \n 2   Pclass       891 non-null    int64  \n 3   Name         891 non-null    object \n 4   Sex          891 non-null    object \n 5   Age          714 non-null    float64\n 6   SibSp        891 non-null    int64  \n 7   Parch        891 non-null    int64  \n 8   Ticket       891 non-null    object \n 9   Fare         891 non-null    float64\n 10  Cabin        204 non-null    object \n 11  Embarked     889 non-null    object \ndtypes: float64(2), int64(5), object(5)\nmemory usage: 83.7+ KB\n"
    }
   ],
   "source": [
    "# get the features/labels data\n",
    "features = titanic_df.copy()\n",
    "\n",
    "features.info()"
   ]
  },
  {
   "cell_type": "code",
   "execution_count": 171,
   "metadata": {},
   "outputs": [
    {
     "output_type": "stream",
     "name": "stdout",
     "text": "<class 'pandas.core.frame.DataFrame'>\nRangeIndex: 891 entries, 0 to 890\nData columns (total 8 columns):\n #   Column    Non-Null Count  Dtype  \n---  ------    --------------  -----  \n 0   Survived  891 non-null    int64  \n 1   Pclass    891 non-null    int64  \n 2   Sex       891 non-null    object \n 3   Age       714 non-null    float64\n 4   SibSp     891 non-null    int64  \n 5   Parch     891 non-null    int64  \n 6   Fare      891 non-null    float64\n 7   Embarked  889 non-null    object \ndtypes: float64(2), int64(4), object(2)\nmemory usage: 55.8+ KB\n"
    }
   ],
   "source": [
    "# drop the approriate columns\n",
    "features.drop(['PassengerId', 'Name', 'Cabin', 'Ticket'], axis=1, inplace=True)\n",
    "\n",
    "features.info()"
   ]
  },
  {
   "cell_type": "code",
   "execution_count": 172,
   "metadata": {},
   "outputs": [
    {
     "output_type": "stream",
     "name": "stdout",
     "text": "<class 'pandas.core.frame.DataFrame'>\nInt64Index: 712 entries, 0 to 890\nData columns (total 8 columns):\n #   Column    Non-Null Count  Dtype  \n---  ------    --------------  -----  \n 0   Survived  712 non-null    int64  \n 1   Pclass    712 non-null    int64  \n 2   Sex       712 non-null    object \n 3   Age       712 non-null    float64\n 4   SibSp     712 non-null    int64  \n 5   Parch     712 non-null    int64  \n 6   Fare      712 non-null    float64\n 7   Embarked  712 non-null    object \ndtypes: float64(2), int64(4), object(2)\nmemory usage: 50.1+ KB\n"
    }
   ],
   "source": [
    "# remove na rows\n",
    "features = features.dropna()\n",
    "\n",
    "features.info()"
   ]
  },
  {
   "cell_type": "code",
   "execution_count": 173,
   "metadata": {},
   "outputs": [
    {
     "output_type": "stream",
     "name": "stdout",
     "text": "the features has shape (712, 7) and the labels has shape(712,)\n"
    }
   ],
   "source": [
    "# get the labels\n",
    "labels = features.pop(\"Survived\")\n",
    "\n",
    "print(\"the features has shape {} and the labels has shape{}\".format(features.shape, labels.shape))"
   ]
  },
  {
   "cell_type": "code",
   "execution_count": 174,
   "metadata": {},
   "outputs": [
    {
     "output_type": "stream",
     "name": "stdout",
     "text": "<class 'pandas.core.frame.DataFrame'>\nInt64Index: 712 entries, 0 to 890\nData columns (total 10 columns):\n #   Column      Non-Null Count  Dtype  \n---  ------      --------------  -----  \n 0   Pclass      712 non-null    int64  \n 1   Age         712 non-null    float64\n 2   SibSp       712 non-null    int64  \n 3   Parch       712 non-null    int64  \n 4   Fare        712 non-null    float64\n 5   Sex_female  712 non-null    uint8  \n 6   Sex_male    712 non-null    uint8  \n 7   Embarked_C  712 non-null    uint8  \n 8   Embarked_Q  712 non-null    uint8  \n 9   Embarked_S  712 non-null    uint8  \ndtypes: float64(2), int64(3), uint8(5)\nmemory usage: 36.9 KB\n"
    }
   ],
   "source": [
    "# one hot sex and embarked\n",
    "features = pd.get_dummies(features)\n",
    "\n",
    "features.info()"
   ]
  },
  {
   "cell_type": "code",
   "execution_count": 179,
   "metadata": {},
   "outputs": [
    {
     "output_type": "stream",
     "name": "stdout",
     "text": "the training features have shape (569, 10) and the training labels have shape (569,)\nthe test features have shape (143, 10) and the test labels have shape (143,)\n"
    }
   ],
   "source": [
    "# split the data\n",
    "X_train, X_test, y_train, y_test = train_test_split(features, labels, test_size=0.2, random_state=2)\n",
    "\n",
    "print(\"the training features have shape {} and the training labels have shape {}\".format(X_train.shape, y_train.shape))\n",
    "print(\"the test features have shape {} and the test labels have shape {}\".format(X_test.shape, y_test.shape))\n",
    "\n"
   ]
  },
  {
   "cell_type": "code",
   "execution_count": 217,
   "metadata": {},
   "outputs": [
    {
     "output_type": "stream",
     "name": "stdout",
     "text": "training model Nearest Neighbors\n===> using model Nearest Neighbors\nthe accuracy is 70.63%\n\n\ntraining model Linear SVM\n===> using model Linear SVM\nthe accuracy is 73.43%\n\n\ntraining model RBF SVM\n===> using model RBF SVM\nthe accuracy is 62.94%\n\n\ntraining model Gaussian Process\n===> using model Gaussian Process\nthe accuracy is 74.83%\n\n\ntraining model Decision Tree\n===> using model Decision Tree\nthe accuracy is 74.83%\n\n\ntraining model Random Forest\n===> using model Random Forest\nthe accuracy is 72.73%\n\n\ntraining model Neural Net\n===> using model Neural Net\nthe accuracy is 72.73%\n\n\ntraining model AdaBoost\n===> using model AdaBoost\nthe accuracy is 74.83%\n\n\ntraining model Naive Bayes\n===> using model Naive Bayes\nthe accuracy is 74.13%\n\n\ntraining model QDA\n===> using model QDA\nthe accuracy is 74.83%\n\n\n"
    }
   ],
   "source": [
    "# build pandas dataframe to store the results\n",
    "results = pd.DataFrame(columns=['name', 'accuracy'])\n",
    "\n",
    "# loop through the data and fit the model\n",
    "for name, model in classifiers.items():\n",
    "    print(\"training model {}\".format(name))\n",
    "    accuracy = train_model(name, model, X_train, y_train, X_test, y_test)\n",
    "    results.loc[-len(results)] = [name, accuracy]"
   ]
  },
  {
   "cell_type": "code",
   "execution_count": 218,
   "metadata": {},
   "outputs": [
    {
     "output_type": "execute_result",
     "data": {
      "text/plain": "                 name  accuracy\n-3   Gaussian Process  0.748252\n-4      Decision Tree  0.748252\n-7           AdaBoost  0.748252\n-9                QDA  0.748252\n-8        Naive Bayes  0.741259\n-1         Linear SVM  0.734266\n-5      Random Forest  0.727273\n-6         Neural Net  0.727273\n 0  Nearest Neighbors  0.706294\n-2            RBF SVM  0.629371",
      "text/html": "<div>\n<style scoped>\n    .dataframe tbody tr th:only-of-type {\n        vertical-align: middle;\n    }\n\n    .dataframe tbody tr th {\n        vertical-align: top;\n    }\n\n    .dataframe thead th {\n        text-align: right;\n    }\n</style>\n<table border=\"1\" class=\"dataframe\">\n  <thead>\n    <tr style=\"text-align: right;\">\n      <th></th>\n      <th>name</th>\n      <th>accuracy</th>\n    </tr>\n  </thead>\n  <tbody>\n    <tr>\n      <th>-3</th>\n      <td>Gaussian Process</td>\n      <td>0.748252</td>\n    </tr>\n    <tr>\n      <th>-4</th>\n      <td>Decision Tree</td>\n      <td>0.748252</td>\n    </tr>\n    <tr>\n      <th>-7</th>\n      <td>AdaBoost</td>\n      <td>0.748252</td>\n    </tr>\n    <tr>\n      <th>-9</th>\n      <td>QDA</td>\n      <td>0.748252</td>\n    </tr>\n    <tr>\n      <th>-8</th>\n      <td>Naive Bayes</td>\n      <td>0.741259</td>\n    </tr>\n    <tr>\n      <th>-1</th>\n      <td>Linear SVM</td>\n      <td>0.734266</td>\n    </tr>\n    <tr>\n      <th>-5</th>\n      <td>Random Forest</td>\n      <td>0.727273</td>\n    </tr>\n    <tr>\n      <th>-6</th>\n      <td>Neural Net</td>\n      <td>0.727273</td>\n    </tr>\n    <tr>\n      <th>0</th>\n      <td>Nearest Neighbors</td>\n      <td>0.706294</td>\n    </tr>\n    <tr>\n      <th>-2</th>\n      <td>RBF SVM</td>\n      <td>0.629371</td>\n    </tr>\n  </tbody>\n</table>\n</div>"
     },
     "metadata": {},
     "execution_count": 218
    }
   ],
   "source": [
    "# sort and show results\n",
    "results = results.sort_values(by=['accuracy'], ascending=False)\n",
    "\n",
    "\n",
    "results"
   ]
  },
  {
   "cell_type": "code",
   "execution_count": null,
   "metadata": {},
   "outputs": [],
   "source": []
  }
 ],
 "metadata": {
  "language_info": {
   "codemirror_mode": {
    "name": "ipython",
    "version": 3
   },
   "file_extension": ".py",
   "mimetype": "text/x-python",
   "name": "python",
   "nbconvert_exporter": "python",
   "pygments_lexer": "ipython3",
   "version": "3.7.6-final"
  },
  "orig_nbformat": 2,
  "kernelspec": {
   "name": "python37664bittf237venv9b274482c7ba4966ad2cf02baa9bb24c",
   "display_name": "Python 3.7.6 64-bit ('tf2_37': venv)"
  }
 },
 "nbformat": 4,
 "nbformat_minor": 2
}