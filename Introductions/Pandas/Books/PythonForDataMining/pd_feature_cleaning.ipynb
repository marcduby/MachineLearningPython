{
 "cells": [
  {
   "cell_type": "code",
   "execution_count": 2,
   "metadata": {
    "collapsed": true
   },
   "outputs": [],
   "source": [
    "# imports\n",
    "import pandas as pd\n"
   ]
  },
  {
   "cell_type": "code",
   "execution_count": 3,
   "metadata": {},
   "outputs": [
    {
     "name": "stdout",
     "output_type": "stream",
     "text": [
      "the test data frame is: \n    Names  Height     Food sex\n0   Simon     180    pasta   m\n1    Mike     165     fish   m\n2  Connie     170  lasagna   f\n3     Geo     164  lasagna   m\n4    Andy     163    pasta   m\n5   Robin     185    pizza   f\n6   Emily     190   veggie   f\n7  Alyssa     220    pasta   f\n"
     ]
    }
   ],
   "source": [
    "# create a test data frame\n",
    "test_df = pd.DataFrame({'Names': ['Simon', 'Mike', 'Connie', 'Geo', 'Andy', 'Robin', 'Emily', 'Alyssa'],\n",
    "                        'Height': [180, 165, 170, 164, 163, 185, 190, 220],\n",
    "                        'Food': ['pasta', 'fish', 'lasagna', 'lasagna', 'pasta', 'pizza', 'veggie', 'pasta'], \n",
    "                        'sex': ['m', 'm', 'f', 'm', 'm', 'f', 'f', 'f']})\n",
    "\n",
    "print(\"the test data frame is: \\n{}\".format(test_df))"
   ]
  },
  {
   "cell_type": "code",
   "execution_count": 4,
   "metadata": {},
   "outputs": [
    {
     "name": "stdout",
     "output_type": "stream",
     "text": [
      "the described data frale is: \n        count     mean        std    min     25%    50%     75%    max\nHeight    8.0  179.625  19.249768  163.0  164.75  175.0  186.25  220.0\n"
     ]
    }
   ],
   "source": [
    "# describe the data frame\n",
    "print(\"the described data frame is: \\n{}\".format(test_df.describe().transpose()))"
   ]
  },
  {
   "cell_type": "code",
   "execution_count": 6,
   "metadata": {},
   "outputs": [
    {
     "name": "stdout",
     "output_type": "stream",
     "text": [
      "<class 'pandas.core.frame.DataFrame'>\nRangeIndex: 8 entries, 0 to 7\nData columns (total 4 columns):\nNames     8 non-null object\nHeight    8 non-null int64\nFood      8 non-null object\nsex       8 non-null object\ndtypes: int64(1), object(3)\nmemory usage: 384.0+ bytes\nthe info on the test frame is: \nNone\n"
     ]
    }
   ],
   "source": [
    "# get info on the data frame\n",
    "print(\"the info on the test frame is: \\n{}\".format(test_df.info()))"
   ]
  },
  {
   "cell_type": "code",
   "execution_count": 7,
   "metadata": {},
   "outputs": [
    {
     "name": "stdout",
     "output_type": "stream",
     "text": [
      "the sex column 1 hot data frame is: \n   sex_hop_f  sex_hop_m\n0          0          1\n1          0          1\n2          1          0\n3          0          1\n4          0          1\n5          1          0\n6          1          0\n7          1          0\n"
     ]
    }
   ],
   "source": [
    "# create one hot columns for the ordinal variables\n",
    "sex_df = pd.get_dummies(test_df['sex'], prefix='sex_hop')\n",
    "\n",
    "# print the new 1 hot data frame\n",
    "print(\"the sex column 1 hot data frame is: \\n{}\".format(sex_df))"
   ]
  },
  {
   "cell_type": "code",
   "execution_count": 9,
   "metadata": {},
   "outputs": [
    {
     "name": "stdout",
     "output_type": "stream",
     "text": [
      "the food column 1 hot data frame is: \n   f_fish  f_lasagna  f_pasta  f_pizza  f_veggie\n0       0          0        1        0         0\n1       1          0        0        0         0\n2       0          1        0        0         0\n3       0          1        0        0         0\n4       0          0        1        0         0\n5       0          0        0        1         0\n6       0          0        0        0         1\n7       0          0        1        0         0\n"
     ]
    }
   ],
   "source": [
    "# create one hot columns for the ordinal variables\n",
    "food_df = pd.get_dummies(test_df['Food'], prefix='f')\n",
    "\n",
    "# print the new 1 hot data frame\n",
    "print(\"the food column 1 hot data frame is: \\n{}\".format(food_df))"
   ]
  },
  {
   "cell_type": "code",
   "execution_count": 10,
   "metadata": {},
   "outputs": [
    {
     "name": "stdout",
     "output_type": "stream",
     "text": [
      "the joined food data frames is: \n    Names  Height     Food sex  f_fish  f_lasagna  f_pasta  f_pizza  f_veggie\n0   Simon     180    pasta   m       0          0        1        0         0\n1    Mike     165     fish   m       1          0        0        0         0\n2  Connie     170  lasagna   f       0          1        0        0         0\n3     Geo     164  lasagna   m       0          1        0        0         0\n4    Andy     163    pasta   m       0          0        1        0         0\n5   Robin     185    pizza   f       0          0        0        1         0\n6   Emily     190   veggie   f       0          0        0        0         1\n7  Alyssa     220    pasta   f       0          0        1        0         0\n"
     ]
    }
   ],
   "source": [
    "# join the 1 hot data frames to the original\n",
    "joined_df = test_df.join(food_df)\n",
    "\n",
    "print(\"the joined food data frames is: \\n{}\".format(joined_df))"
   ]
  },
  {
   "cell_type": "code",
   "execution_count": null,
   "metadata": {},
   "outputs": [],
   "source": []
  }
 ],
 "metadata": {
  "kernelspec": {
   "display_name": "Python 2",
   "language": "python",
   "name": "python2"
  },
  "language_info": {
   "codemirror_mode": {
    "name": "ipython",
    "version": 2
   },
   "file_extension": ".py",
   "mimetype": "text/x-python",
   "name": "python",
   "nbconvert_exporter": "python",
   "pygments_lexer": "ipython2",
   "version": "2.7.6"
  }
 },
 "nbformat": 4,
 "nbformat_minor": 0
}
