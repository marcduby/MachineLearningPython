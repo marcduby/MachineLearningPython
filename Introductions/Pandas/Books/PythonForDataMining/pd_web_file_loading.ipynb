{
 "cells": [
  {
   "cell_type": "code",
   "execution_count": 4,
   "metadata": {
    "collapsed": true
   },
   "outputs": [],
   "source": [
    "# imports\n",
    "import pandas as pd\n"
   ]
  },
  {
   "cell_type": "code",
   "execution_count": 14,
   "metadata": {},
   "outputs": [
    {
     "name": "stdout",
     "output_type": "stream",
     "text": [
      "the first few rows of the iris dataset are: \n     0    1    2    3            4\n0  5.1  3.5  1.4  0.2  Iris-setosa\n1  4.9  3.0  1.4  0.2  Iris-setosa\n2  4.7  3.2  1.3  0.2  Iris-setosa\n3  4.6  3.1  1.5  0.2  Iris-setosa\n4  5.0  3.6  1.4  0.2  Iris-setosa\n"
     ]
    }
   ],
   "source": [
    "# import the iris data set from the web\n",
    "iris_df = pd.read_csv(\"https://archive.ics.uci.edu/ml/machine-learning-databases/iris/iris.data\", header = None)\n",
    "\n",
    "# describe the dataset\n",
    "print(\"the first few rows of the iris dataset are: \\n{}\".format(iris_df.head(5)))"
   ]
  },
  {
   "cell_type": "code",
   "execution_count": 15,
   "metadata": {},
   "outputs": [
    {
     "name": "stdout",
     "output_type": "stream",
     "text": [
      "the first few rows of the iris dataset are: \n   slength  swidth  plength  pwidth         name\n0      5.1     3.5      1.4     0.2  Iris-setosa\n1      4.9     3.0      1.4     0.2  Iris-setosa\n2      4.7     3.2      1.3     0.2  Iris-setosa\n3      4.6     3.1      1.5     0.2  Iris-setosa\n4      5.0     3.6      1.4     0.2  Iris-setosa\n"
     ]
    }
   ],
   "source": [
    "# add in columns names\n",
    "columns = ['slength', 'swidth', 'plength', 'pwidth', 'name']\n",
    "iris_df.columns = columns\n",
    "\n",
    "# describe the dataset\n",
    "print(\"the first few rows of the iris dataset are: \\n{}\".format(iris_df.head(5)))"
   ]
  },
  {
   "cell_type": "code",
   "execution_count": 16,
   "metadata": {},
   "outputs": [
    {
     "name": "stdout",
     "output_type": "stream",
     "text": [
      "<class 'pandas.core.frame.DataFrame'>\nRangeIndex: 150 entries, 0 to 149\nData columns (total 5 columns):\nslength    150 non-null float64\nswidth     150 non-null float64\nplength    150 non-null float64\npwidth     150 non-null float64\nname       150 non-null object\ndtypes: float64(4), object(1)\nmemory usage: 6.0+ KB\nthe data frame info is: \nNone\n"
     ]
    }
   ],
   "source": [
    "# get file info\n",
    "\n",
    "print(\"the data frame info is: \\n{}\".format(iris_df.info()))"
   ]
  },
  {
   "cell_type": "code",
   "execution_count": 18,
   "metadata": {},
   "outputs": [
    {
     "name": "stdout",
     "output_type": "stream",
     "text": [
      "the iris data set value counts is: \nIris-setosa        50\nIris-virginica     50\nIris-versicolor    50\nName: name, dtype: int64\n"
     ]
    }
   ],
   "source": [
    "# count the examples\n",
    "iris_df['name'].value_counts()       # styas silent if print statement afterwards\n",
    "\n",
    "# print it\n",
    "print(\"the iris data set value counts is: \\n{}\".format(iris_df['name'].value_counts()))"
   ]
  },
  {
   "cell_type": "code",
   "execution_count": 27,
   "metadata": {
    "collapsed": true
   },
   "outputs": [
    {
     "name": "stdout",
     "output_type": "stream",
     "text": [
      "the group by name is: \n<pandas.core.groupby.generic.DataFrameGroupBy object at 0x7f566a0a3a90>\nthe name is: Iris-setosa\nthe group size is: 50\nthe name is: Iris-versicolor\nthe group size is: 50\nthe name is: Iris-virginica\nthe group size is: 50\n\nthe group by name size is: \nname\nIris-setosa        50\nIris-versicolor    50\nIris-virginica     50\ndtype: int64\n"
     ]
    }
   ],
   "source": [
    "# group by name\n",
    "iris_group_name = iris_df.groupby('name')\n",
    "\n",
    "# print\n",
    "print(\"the group by name is: \\n{}\".format(iris_group_name))\n",
    "\n",
    "# loop\n",
    "for names, groups in iris_group_name:\n",
    "    print(\"the name is: {}\".format(names))\n",
    "    print(\"the group size is: {}\".format(len(groups)))\n",
    "    \n",
    "# also get the breakdown using size (same as value counts)\n",
    "print(\"\\nthe group by name size is: \\n{}\".format(iris_group_name.size()))"
   ]
  },
  {
   "cell_type": "code",
   "execution_count": null,
   "metadata": {},
   "outputs": [],
   "source": []
  }
 ],
 "metadata": {
  "kernelspec": {
   "display_name": "Python 2",
   "language": "python",
   "name": "python2"
  },
  "language_info": {
   "codemirror_mode": {
    "name": "ipython",
    "version": 2
   },
   "file_extension": ".py",
   "mimetype": "text/x-python",
   "name": "python",
   "nbconvert_exporter": "python",
   "pygments_lexer": "ipython2",
   "version": "2.7.6"
  }
 },
 "nbformat": 4,
 "nbformat_minor": 0
}
