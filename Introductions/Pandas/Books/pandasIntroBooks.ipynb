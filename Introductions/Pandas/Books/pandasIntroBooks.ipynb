{
 "cells": [
  {
   "cell_type": "code",
   "execution_count": 1,
   "metadata": {},
   "outputs": [
    {
     "name": "stdout",
     "output_type": "stream",
     "text": "{'name': ['blue', 'red', 'green'], 'amount': [20, 30, 40], 'total': [100, 200, 300]}\n"
    }
   ],
   "source": [
    "# set up dictionary\n",
    "data = {\"name\": ['blue', 'red', 'green'],\n",
    "'amount': [20,30,40],\n",
    "'total': [100, 200, 300]\n",
    "}\n",
    "\n",
    "# print the data\n",
    "print(data)"
   ]
  },
  {
   "cell_type": "code",
   "execution_count": 2,
   "metadata": {},
   "outputs": [
    {
     "name": "stdout",
     "output_type": "stream",
     "text": "the pandas library version is 1.0.2\n"
    }
   ],
   "source": [
    "# import the pandas library\n",
    "import pandas as pd\n",
    "\n",
    "# print the pandas version\n",
    "print(\"the pandas library version is {}\".format(pd.__version__))"
   ]
  },
  {
   "cell_type": "code",
   "execution_count": 5,
   "metadata": {},
   "outputs": [
    {
     "name": "stdout",
     "output_type": "stream",
     "text": "name  total\n0   blue    100\n1    red    200\n2  green    300\n<class 'pandas.core.frame.DataFrame'>\n"
    }
   ],
   "source": [
    "data_frame = pd.DataFrame(data, columns=['name', 'total'])\n",
    "print(data_frame)\n",
    "print(type(data_frame))"
   ]
  },
  {
   "cell_type": "code",
   "execution_count": 6,
   "metadata": {},
   "outputs": [
    {
     "name": "stdout",
     "output_type": "stream",
     "text": "<class 'pandas.core.frame.DataFrame'>\nRangeIndex: 3 entries, 0 to 2\nData columns (total 2 columns):\n #   Column  Non-Null Count  Dtype \n---  ------  --------------  ----- \n 0   name    3 non-null      object\n 1   total   3 non-null      int64 \ndtypes: int64(1), object(1)\nmemory usage: 176.0+ bytes\nNone\n"
    }
   ],
   "source": [
    "# print the pandas info\n",
    "print(data_frame.info())\n"
   ]
  },
  {
   "cell_type": "code",
   "execution_count": 7,
   "metadata": {},
   "outputs": [
    {
     "name": "stdout",
     "output_type": "stream",
     "text": "total\ncount    3.0\nmean   200.0\nstd    100.0\nmin    100.0\n25%    150.0\n50%    200.0\n75%    250.0\nmax    300.0\n"
    }
   ],
   "source": [
    "# describe the pandas data frame\n",
    "print(data_frame.describe())\n"
   ]
  },
  {
   "cell_type": "code",
   "execution_count": 8,
   "metadata": {},
   "outputs": [
    {
     "name": "stdout",
     "output_type": "stream",
     "text": "the data frame columns are: Index(['name', 'total'], dtype='object')\nthe type of the column list is: <class 'pandas.core.indexes.base.Index'>\n"
    }
   ],
   "source": [
    "# get column list\n",
    "print(\"the data frame columns are: {}\".format(data_frame.columns))\n",
    "print(\"the type of the column list is: {}\".format(type(data_frame.columns)))"
   ]
  },
  {
   "cell_type": "code",
   "execution_count": 9,
   "metadata": {},
   "outputs": [
    {
     "name": "stdout",
     "output_type": "stream",
     "text": "the first few rows of ythe data frame are:     name  total\n0   blue    100\n1    red    200\n2  green    300\n"
    }
   ],
   "source": [
    "# get the first few rows\n",
    "print(\"the first few rows of ythe data frame are: {}\".format(data_frame.head()))"
   ]
  },
  {
   "cell_type": "code",
   "execution_count": 10,
   "metadata": {},
   "outputs": [
    {
     "name": "stdout",
     "output_type": "stream",
     "text": [
      "the total series is: 0    100\n1    200\n2    300\nName: total, dtype: int64\nthe type of te series is: <class 'pandas.core.series.Series'>\n"
     ]
    }
   ],
   "source": [
    "# get a series of the datra frame\n",
    "total_series = data_frame.total\n",
    "print(\"the total series is: {}\".format(total_series))\n",
    "print(\"the type of the series is: {}\".format(type(total_series)))\n"
   ]
  },
  {
   "cell_type": "code",
   "execution_count": 10,
   "metadata": {},
   "outputs": [
    {
     "name": "stdout",
     "output_type": "stream",
     "text": "the last 2 rows of the data frame are:     name  total\n1    red    200\n2  green    300\nthe type of the last 2 rows of the df is: <class 'pandas.core.frame.DataFrame'>\n"
    }
   ],
   "source": [
    "# print the end of the data frame\n",
    "print(\"the last 2 rows of the data frame are: {}\".format(data_frame.tail(2)))\n",
    "print(\"the type of the last 2 rows of the df is: {}\".format(type(data_frame.tail(2))))"
   ]
  },
  {
   "cell_type": "code",
   "execution_count": null,
   "metadata": {},
   "outputs": [],
   "source": []
  }
 ],
 "metadata": {
  "kernelspec": {
   "display_name": "Python 3.6.9 64-bit",
   "language": "python",
   "name": "python36964bit06cb2217925f4f7695e67d14f268acf5"
  },
  "language_info": {
   "codemirror_mode": {
    "name": "ipython",
    "version": 2
   },
   "file_extension": ".py",
   "mimetype": "text/x-python",
   "name": "python",
   "nbconvert_exporter": "python",
   "pygments_lexer": "ipython2",
   "version": "3.6.9-final"
  }
 },
 "nbformat": 4,
 "nbformat_minor": 0
}