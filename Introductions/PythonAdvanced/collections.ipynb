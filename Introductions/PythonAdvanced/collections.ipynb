{
 "metadata": {
  "language_info": {
   "codemirror_mode": {
    "name": "ipython",
    "version": 3
   },
   "file_extension": ".py",
   "mimetype": "text/x-python",
   "name": "python",
   "nbconvert_exporter": "python",
   "pygments_lexer": "ipython3",
   "version": "3.6.9-final"
  },
  "orig_nbformat": 2,
  "kernelspec": {
   "name": "Python 3.6.9 64-bit",
   "display_name": "Python 3.6.9 64-bit",
   "metadata": {
    "interpreter": {
     "hash": "54cb1eeebc815aad592dd3bd3ea020e2519a10ea98ba532cef755064696aa00c"
    }
   }
  }
 },
 "nbformat": 4,
 "nbformat_minor": 2,
 "cells": [
  {
   "cell_type": "code",
   "execution_count": 2,
   "metadata": {
    "tags": []
   },
   "outputs": [
    {
     "output_type": "stream",
     "name": "stdout",
     "text": "[4, 9, 16, 25, 36, 49]\n"
    }
   ],
   "source": [
    "# for loops\n",
    "numbers = [i**2 for i in range(2, 8)]\n",
    "print(numbers)\n"
   ]
  },
  {
   "cell_type": "code",
   "execution_count": 30,
   "metadata": {
    "tags": []
   },
   "outputs": [
    {
     "output_type": "stream",
     "name": "stdout",
     "text": "combined is of type: &lt;zip object at 0x7f7bf50a84c8&gt;\n(&#39;john&#39;, 23, &#39;chreery&#39;)\n(&#39;amanda&#39;, 45, &#39;vanilla&#39;)\n(&#39;natasha&#39;, 34, &#39;mango&#39;)\n(&#39;paul&#39;, 67, &#39;raspberry&#39;)\n(&#39;lucie&#39;, 12, &#39;lemon&#39;)\n"
    }
   ],
   "source": [
    "# zipping\n",
    "costumers = ['john', 'amanda', 'natasha', 'paul', 'lucie']\n",
    "ages = [23, 45, 34, 67, 12, 45]\n",
    "flavors = ['chreery', 'vanilla', 'mango', 'raspberry', 'lemon']\n",
    "\n",
    "combined = zip(costumers, ages, flavors)\n",
    "\n",
    "print(\"combined is of type: {}\".format(combined))\n",
    "for item in combined:\n",
    "    print(item)"
   ]
  },
  {
   "cell_type": "code",
   "execution_count": 10,
   "metadata": {
    "tags": []
   },
   "outputs": [
    {
     "output_type": "stream",
     "name": "stdout",
     "text": "ratings_count is of type: &lt;class &#39;collections.Counter&#39;&gt;\n1: 193 occurences\n2: 215 occurences\n3: 178 occurences\n5: 218 occurences\n4: 196 occurences\n\n5: 218 occurences\n2: 215 occurences\n4: 196 occurences\n"
    }
   ],
   "source": [
    "from random import randint\n",
    "from collections import Counter\n",
    "\n",
    "# counting occurences in a list\n",
    "ratings = [randint(1, 5) for _ in range(1, 1001)]\n",
    "ratings_count = Counter(ratings)\n",
    "print(\"ratings_count is of type: {}\".format(type(ratings_count)))\n",
    "for rating in ratings_count:\n",
    "    print(\"{}: {} occurences\".format(rating, ratings_count[rating]))\n",
    "\n",
    "print()\n",
    "for rating in ratings_count.most_common(3):\n",
    "    print(\"{}: {} occurences\".format(*rating))\n"
   ]
  },
  {
   "cell_type": "code",
   "execution_count": 31,
   "metadata": {
    "tags": []
   },
   "outputs": [
    {
     "output_type": "stream",
     "name": "stdout",
     "text": "combined: &lt;zip object at 0x7f7bf48f1b48&gt;\ncombined list is of type: &lt;class &#39;list&#39;&gt;\n[[&#39;john&#39;, 23, &#39;chreery&#39;], [&#39;amanda&#39;, 45, &#39;vanilla&#39;], [&#39;natasha&#39;, 34, &#39;mango&#39;], [&#39;paul&#39;, 67, &#39;raspberry&#39;], [&#39;lucie&#39;, 12, &#39;lemon&#39;]]\n1: [&#39;john&#39;, 23, &#39;chreery&#39;]\n2: [&#39;amanda&#39;, 45, &#39;vanilla&#39;]\n3: [&#39;natasha&#39;, 34, &#39;mango&#39;]\n4: [&#39;paul&#39;, 67, &#39;raspberry&#39;]\n5: [&#39;lucie&#39;, 12, &#39;lemon&#39;]\n"
    }
   ],
   "source": [
    "# enumerate\n",
    "# combined_list = list(combined)\n",
    "combined = zip(costumers, ages, flavors)\n",
    "combined_list = [list(a) for a in combined]\n",
    "print(\"combined: {}\".format(combined))\n",
    "for item in combined:\n",
    "    print(item)\n",
    "print(\"combined list is of type: {}\".format(type(combined_list)))\n",
    "print(combined_list)\n",
    "for i, item in enumerate(combined_list, 1):\n",
    "    print(\"{}: {}\".format(i, item))"
   ]
  },
  {
   "cell_type": "code",
   "execution_count": 33,
   "metadata": {
    "tags": []
   },
   "outputs": [
    {
     "output_type": "stream",
     "name": "stdout",
     "text": "combined: &lt;zip object at 0x7f7bf4694a48&gt;\ncombined list is of type: &lt;class &#39;list&#39;&gt;\n[(&#39;john&#39;, 23, &#39;chreery&#39;), (&#39;amanda&#39;, 45, &#39;vanilla&#39;), (&#39;natasha&#39;, 34, &#39;mango&#39;), (&#39;paul&#39;, 67, &#39;raspberry&#39;), (&#39;lucie&#39;, 12, &#39;lemon&#39;)]\n1: (&#39;john&#39;, 23, &#39;chreery&#39;)\n2: (&#39;amanda&#39;, 45, &#39;vanilla&#39;)\n3: (&#39;natasha&#39;, 34, &#39;mango&#39;)\n4: (&#39;paul&#39;, 67, &#39;raspberry&#39;)\n5: (&#39;lucie&#39;, 12, &#39;lemon&#39;)\n"
    }
   ],
   "source": [
    "# enumerate\n",
    "combined = zip(costumers, ages, flavors)\n",
    "combined_list = list(combined)\n",
    "# combined_list = [a for a in combined]\n",
    "print(\"combined: {}\".format(combined))\n",
    "for item in combined:\n",
    "    print(item)\n",
    "print(\"combined list is of type: {}\".format(type(combined_list)))\n",
    "print(combined_list)\n",
    "for i, item in enumerate(combined_list, 1):\n",
    "    print(\"{}: {}\".format(i, item))"
   ]
  },
  {
   "cell_type": "code",
   "execution_count": null,
   "metadata": {},
   "outputs": [],
   "source": []
  }
 ]
}