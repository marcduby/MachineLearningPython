{
 "metadata": {
  "language_info": {
   "codemirror_mode": {
    "name": "ipython",
    "version": 3
   },
   "file_extension": ".py",
   "mimetype": "text/x-python",
   "name": "python",
   "nbconvert_exporter": "python",
   "pygments_lexer": "ipython3",
   "version": "3.6.9-final"
  },
  "orig_nbformat": 2,
  "kernelspec": {
   "name": "python_defaultSpec_1600562676421",
   "display_name": "Python 3.6.9 64-bit"
  }
 },
 "nbformat": 4,
 "nbformat_minor": 2,
 "cells": [
  {
   "cell_type": "code",
   "execution_count": 58,
   "metadata": {
    "tags": []
   },
   "outputs": [
    {
     "output_type": "stream",
     "name": "stdout",
     "text": "pytorch version is 1.6.0\npytorchvision version is 0.7.0\n"
    }
   ],
   "source": [
    "# imports\n",
    "import torch \n",
    "import torch.nn as nn \n",
    "from torch.autograd import Variable\n",
    "import torch.utils.data as data \n",
    "import torchvision\n",
    "import matplotlib.pyplot as plt\n",
    "\n",
    "print(\"pytorch version is {}\".format(torch.__version__))\n",
    "print(\"pytorchvision version is {}\".format(torchvision.__version__))\n"
   ]
  },
  {
   "cell_type": "code",
   "execution_count": 59,
   "metadata": {},
   "outputs": [
    {
     "output_type": "execute_result",
     "data": {
      "text/plain": "<torch._C.Generator at 0x7f7f29fb1e28>"
     },
     "metadata": {},
     "execution_count": 59
    }
   ],
   "source": [
    "# set the seed for reproducibility\n",
    "torch.manual_seed(123)"
   ]
  },
  {
   "cell_type": "code",
   "execution_count": 87,
   "metadata": {},
   "outputs": [],
   "source": [
    "# define the hyperparameters\n",
    "EPOCHS = 1\n",
    "BATCH_SIZE = 50\n",
    "LEARNING_RATE = 0.001\n",
    "NUM_CLASSES=10"
   ]
  },
  {
   "cell_type": "code",
   "execution_count": 61,
   "metadata": {
    "tags": []
   },
   "outputs": [
    {
     "output_type": "stream",
     "name": "stdout",
     "text": "the trainign data is of type <class 'torchvision.datasets.mnist.MNIST'>\n"
    }
   ],
   "source": [
    "# get the mnist digits data\n",
    "train_data = torchvision.datasets.MNIST(\n",
    "    root='/home/javaprog/Data/Personal/Scratch',\n",
    "    train = True,\n",
    "    transform=torchvision.transforms.ToTensor(),\n",
    "    download=True\n",
    ")\n",
    "print(\"the trainign data is of type {}\".format(type(train_data)))\n"
   ]
  },
  {
   "cell_type": "code",
   "execution_count": 62,
   "metadata": {
    "tags": []
   },
   "outputs": [
    {
     "output_type": "stream",
     "name": "stdout",
     "text": "the training features are of type <class 'torch.Tensor'> and shape torch.Size([60000, 28, 28])\nthe training labels are of type <class 'torch.Tensor'> and shape torch.Size([60000])\n"
    }
   ],
   "source": [
    "# get information on the training data\n",
    "train_X = train_data.train_data\n",
    "train_y = train_data.train_labels\n",
    "print(\"the training features are of type {} and shape {}\".format(type(train_X), train_X.shape))\n",
    "print(\"the training labels are of type {} and shape {}\".format(type(train_y), train_y.shape))\n"
   ]
  },
  {
   "cell_type": "code",
   "execution_count": 63,
   "metadata": {},
   "outputs": [
    {
     "output_type": "execute_result",
     "data": {
      "text/plain": "<function matplotlib.pyplot.show(close=None, block=None)>"
     },
     "metadata": {},
     "execution_count": 63
    },
    {
     "output_type": "display_data",
     "data": {
      "text/plain": "<Figure size 432x288 with 1 Axes>",
      "image/svg+xml": "<?xml version=\"1.0\" encoding=\"utf-8\" standalone=\"no\"?>\n<!DOCTYPE svg PUBLIC \"-//W3C//DTD SVG 1.1//EN\"\n  \"http://www.w3.org/Graphics/SVG/1.1/DTD/svg11.dtd\">\n<!-- Created with matplotlib (https://matplotlib.org/) -->\n<svg height=\"263.63625pt\" version=\"1.1\" viewBox=\"0 0 251.565 263.63625\" width=\"251.565pt\" xmlns=\"http://www.w3.org/2000/svg\" xmlns:xlink=\"http://www.w3.org/1999/xlink\">\n <metadata>\n  <rdf:RDF xmlns:cc=\"http://creativecommons.org/ns#\" xmlns:dc=\"http://purl.org/dc/elements/1.1/\" xmlns:rdf=\"http://www.w3.org/1999/02/22-rdf-syntax-ns#\">\n   <cc:Work>\n    <dc:type rdf:resource=\"http://purl.org/dc/dcmitype/StillImage\"/>\n    <dc:date>2020-09-19T22:54:56.644831</dc:date>\n    <dc:format>image/svg+xml</dc:format>\n    <dc:creator>\n     <cc:Agent>\n      <dc:title>Matplotlib v3.3.2, https://matplotlib.org/</dc:title>\n     </cc:Agent>\n    </dc:creator>\n   </cc:Work>\n  </rdf:RDF>\n </metadata>\n <defs>\n  <style type=\"text/css\">*{stroke-linecap:butt;stroke-linejoin:round;}</style>\n </defs>\n <g id=\"figure_1\">\n  <g id=\"patch_1\">\n   <path d=\"M 0 263.63625 \nL 251.565 263.63625 \nL 251.565 0 \nL 0 0 \nz\n\" style=\"fill:none;\"/>\n  </g>\n  <g id=\"axes_1\">\n   <g id=\"patch_2\">\n    <path d=\"M 26.925 239.758125 \nL 244.365 239.758125 \nL 244.365 22.318125 \nL 26.925 22.318125 \nz\n\" style=\"fill:#ffffff;\"/>\n   </g>\n   <g clip-path=\"url(#p83bb534a10)\">\n    <image height=\"218\" id=\"image3822b435ba\" transform=\"scale(1 -1)translate(0 -218)\" width=\"218\" x=\"26.925\" xlink:href=\"data:image/png;base64,\niVBORw0KGgoAAAANSUhEUgAAANoAAADaCAYAAADAHVzbAAAE+0lEQVR4nO3dP0iVexzH8edc7uJSUC4uNTU4NEhKU5s0S9Hg0CC2CDYEwUFzS7CxwdGxaI8a+jMHEtjSVEEYiLg4lGAQ4Z26cOE+33s7ej526PVaP/xOD+GbH/TgqdM0zUED9NUfx/0A8DsQGgQIDQKEBgFCgwChQYDQIEBoECA0CBAaBAgNAoQGAUKDAKFBgNAgQGgQIDQIEBoECA0ChAYBQoMAoUGA0CBAaBAgNAgQGgQIDQKEBgFCgwChQYDQIEBoECA0CBAaBAgNAoQGAUKDAKFBgNAgQGgQIDQIEBoECA0ChAYBQoMAoUGA0CBAaBAgNAgQGgQIDQKEBgFCgwChQcCfx/0A/XL79u1yHxsbK/fJyclD/fmdTqd1W19fL8/+17N/+PCh3L9//17u5LnRIEBoECA0CBAaBAgNAoQGAZ2maQ6O+yF6tbCw0LotLS2VZ4eGho76cf7h/fv3rdu5c+fKs5ubm+V+9erVct/Y2Ch38txoECA0CBAaBAgNAoQGAUKDAKFBwEC/R9ve3m7dTpw4UZ7tdrvlvrq62tMz/R93794t98XFxXJ/+fJluV+7dq3cP3/+XO4cPTcaBAgNAoQGAUKDAKFBgNAgQGgQMNDv0UZGRlq3J0+elGfPnDlT7rdu3Sr3Bw8elHtleHi43Hd2dnr+7KZpmkuXLpX7q1evDvX5/Dw3GgQIDQKEBgFCgwChQYDQIEBoEDDQ/21T9ftoFy5cKM9evHix3N+8edPTM/1w6tSp1m1+fv5Qn723t1fuu7u7h/p8jp4bDQKEBgFCgwChQYDQIEBoEDDQvybzK1tfX2/dxsfHy7NbW1vlPjs7W+4vXrwod/LcaBAgNAgQGgQIDQKEBgFCgwChQYD3aH1ycND+11ptTdM0U1NT5f748eNeHolj5EaDAKFBgNAgQGgQIDQIEBoECA0CBvrr5n5lKysrrVu32y3PTk9Pl/vz58/L/evXr+VOnhsNAoQGAUKDAKFBgNAgQGgQIDQI8B6tT5aXl1u3b9++lWevX79e7pcvXy73TqdT7s+ePWvdvIPrDzcaBAgNAoQGAUKDAKFBgNAgQGgQ4HsdB9D9+/fL/ebNm+W+urraut25c6c8u7e3V+78OzcaBAgNAoQGAUKDAKFBgNAgwD/vD6DTp0+Xe/VVd03TNDdu3Gjddnd3y7MfP34s93v37pX727dvW7f9/f3y7KdPn8r9V+ZGgwChQYDQIEBoECA0CBAaBAgNArxH+w2tra21bufPny/PTkxMHPXj/O3Lly/l/vDhw3J//fp1uT969Kjc+/lVe240CBAaBAgNAoQGAUKDAKFBgNAgwHs0fsrk5GS5X7lypdynp6dbt5MnT5ZnDw76+6P67t271m10dPRQn+1GgwChQYDQIEBoECA0CBAaBAgNArxHI+rs2bOt29DQUHm2egfXNE0zNzfX0zP98PTp09ZtZmbmUJ/tRoMAoUGA0CBAaBAgNAgQGgQIDQK8R4MANxoECA0ChAYBQoMAoUGA0CBAaBAgNAgQGgQIDQKEBgFCgwChQYDQIEBoECA0CBAaBAgNAoQGAUKDAKFBgNAgQGgQIDQIEBoECA0ChAYBQoMAoUGA0CBAaBAgNAgQGgQIDQKEBgFCgwChQYDQIEBoECA0CBAaBAgNAoQGAUKDAKFBgNAgQGgQIDQIEBoECA0ChAYBQoMAoUHAX10IrbwHGXWAAAAAAElFTkSuQmCC\" y=\"-21.758125\"/>\n   </g>\n   <g id=\"matplotlib.axis_1\">\n    <g id=\"xtick_1\">\n     <g id=\"line2d_1\">\n      <defs>\n       <path d=\"M 0 0 \nL 0 3.5 \n\" id=\"m6da0a95321\" style=\"stroke:#000000;stroke-width:0.8;\"/>\n      </defs>\n      <g>\n       <use style=\"stroke:#000000;stroke-width:0.8;\" x=\"30.807857\" xlink:href=\"#m6da0a95321\" y=\"239.758125\"/>\n      </g>\n     </g>\n     <g id=\"text_1\">\n      <!-- 0 -->\n      <g transform=\"translate(27.626607 254.356563)scale(0.1 -0.1)\">\n       <defs>\n        <path d=\"M 31.78125 66.40625 \nQ 24.171875 66.40625 20.328125 58.90625 \nQ 16.5 51.421875 16.5 36.375 \nQ 16.5 21.390625 20.328125 13.890625 \nQ 24.171875 6.390625 31.78125 6.390625 \nQ 39.453125 6.390625 43.28125 13.890625 \nQ 47.125 21.390625 47.125 36.375 \nQ 47.125 51.421875 43.28125 58.90625 \nQ 39.453125 66.40625 31.78125 66.40625 \nz\nM 31.78125 74.21875 \nQ 44.046875 74.21875 50.515625 64.515625 \nQ 56.984375 54.828125 56.984375 36.375 \nQ 56.984375 17.96875 50.515625 8.265625 \nQ 44.046875 -1.421875 31.78125 -1.421875 \nQ 19.53125 -1.421875 13.0625 8.265625 \nQ 6.59375 17.96875 6.59375 36.375 \nQ 6.59375 54.828125 13.0625 64.515625 \nQ 19.53125 74.21875 31.78125 74.21875 \nz\n\" id=\"DejaVuSans-48\"/>\n       </defs>\n       <use xlink:href=\"#DejaVuSans-48\"/>\n      </g>\n     </g>\n    </g>\n    <g id=\"xtick_2\">\n     <g id=\"line2d_2\">\n      <g>\n       <use style=\"stroke:#000000;stroke-width:0.8;\" x=\"69.636429\" xlink:href=\"#m6da0a95321\" y=\"239.758125\"/>\n      </g>\n     </g>\n     <g id=\"text_2\">\n      <!-- 5 -->\n      <g transform=\"translate(66.455179 254.356563)scale(0.1 -0.1)\">\n       <defs>\n        <path d=\"M 10.796875 72.90625 \nL 49.515625 72.90625 \nL 49.515625 64.59375 \nL 19.828125 64.59375 \nL 19.828125 46.734375 \nQ 21.96875 47.46875 24.109375 47.828125 \nQ 26.265625 48.1875 28.421875 48.1875 \nQ 40.625 48.1875 47.75 41.5 \nQ 54.890625 34.8125 54.890625 23.390625 \nQ 54.890625 11.625 47.5625 5.09375 \nQ 40.234375 -1.421875 26.90625 -1.421875 \nQ 22.3125 -1.421875 17.546875 -0.640625 \nQ 12.796875 0.140625 7.71875 1.703125 \nL 7.71875 11.625 \nQ 12.109375 9.234375 16.796875 8.0625 \nQ 21.484375 6.890625 26.703125 6.890625 \nQ 35.15625 6.890625 40.078125 11.328125 \nQ 45.015625 15.765625 45.015625 23.390625 \nQ 45.015625 31 40.078125 35.4375 \nQ 35.15625 39.890625 26.703125 39.890625 \nQ 22.75 39.890625 18.8125 39.015625 \nQ 14.890625 38.140625 10.796875 36.28125 \nz\n\" id=\"DejaVuSans-53\"/>\n       </defs>\n       <use xlink:href=\"#DejaVuSans-53\"/>\n      </g>\n     </g>\n    </g>\n    <g id=\"xtick_3\">\n     <g id=\"line2d_3\">\n      <g>\n       <use style=\"stroke:#000000;stroke-width:0.8;\" x=\"108.465\" xlink:href=\"#m6da0a95321\" y=\"239.758125\"/>\n      </g>\n     </g>\n     <g id=\"text_3\">\n      <!-- 10 -->\n      <g transform=\"translate(102.1025 254.356563)scale(0.1 -0.1)\">\n       <defs>\n        <path d=\"M 12.40625 8.296875 \nL 28.515625 8.296875 \nL 28.515625 63.921875 \nL 10.984375 60.40625 \nL 10.984375 69.390625 \nL 28.421875 72.90625 \nL 38.28125 72.90625 \nL 38.28125 8.296875 \nL 54.390625 8.296875 \nL 54.390625 0 \nL 12.40625 0 \nz\n\" id=\"DejaVuSans-49\"/>\n       </defs>\n       <use xlink:href=\"#DejaVuSans-49\"/>\n       <use x=\"63.623047\" xlink:href=\"#DejaVuSans-48\"/>\n      </g>\n     </g>\n    </g>\n    <g id=\"xtick_4\">\n     <g id=\"line2d_4\">\n      <g>\n       <use style=\"stroke:#000000;stroke-width:0.8;\" x=\"147.293571\" xlink:href=\"#m6da0a95321\" y=\"239.758125\"/>\n      </g>\n     </g>\n     <g id=\"text_4\">\n      <!-- 15 -->\n      <g transform=\"translate(140.931071 254.356563)scale(0.1 -0.1)\">\n       <use xlink:href=\"#DejaVuSans-49\"/>\n       <use x=\"63.623047\" xlink:href=\"#DejaVuSans-53\"/>\n      </g>\n     </g>\n    </g>\n    <g id=\"xtick_5\">\n     <g id=\"line2d_5\">\n      <g>\n       <use style=\"stroke:#000000;stroke-width:0.8;\" x=\"186.122143\" xlink:href=\"#m6da0a95321\" y=\"239.758125\"/>\n      </g>\n     </g>\n     <g id=\"text_5\">\n      <!-- 20 -->\n      <g transform=\"translate(179.759643 254.356563)scale(0.1 -0.1)\">\n       <defs>\n        <path d=\"M 19.1875 8.296875 \nL 53.609375 8.296875 \nL 53.609375 0 \nL 7.328125 0 \nL 7.328125 8.296875 \nQ 12.9375 14.109375 22.625 23.890625 \nQ 32.328125 33.6875 34.8125 36.53125 \nQ 39.546875 41.84375 41.421875 45.53125 \nQ 43.3125 49.21875 43.3125 52.78125 \nQ 43.3125 58.59375 39.234375 62.25 \nQ 35.15625 65.921875 28.609375 65.921875 \nQ 23.96875 65.921875 18.8125 64.3125 \nQ 13.671875 62.703125 7.8125 59.421875 \nL 7.8125 69.390625 \nQ 13.765625 71.78125 18.9375 73 \nQ 24.125 74.21875 28.421875 74.21875 \nQ 39.75 74.21875 46.484375 68.546875 \nQ 53.21875 62.890625 53.21875 53.421875 \nQ 53.21875 48.921875 51.53125 44.890625 \nQ 49.859375 40.875 45.40625 35.40625 \nQ 44.1875 33.984375 37.640625 27.21875 \nQ 31.109375 20.453125 19.1875 8.296875 \nz\n\" id=\"DejaVuSans-50\"/>\n       </defs>\n       <use xlink:href=\"#DejaVuSans-50\"/>\n       <use x=\"63.623047\" xlink:href=\"#DejaVuSans-48\"/>\n      </g>\n     </g>\n    </g>\n    <g id=\"xtick_6\">\n     <g id=\"line2d_6\">\n      <g>\n       <use style=\"stroke:#000000;stroke-width:0.8;\" x=\"224.950714\" xlink:href=\"#m6da0a95321\" y=\"239.758125\"/>\n      </g>\n     </g>\n     <g id=\"text_6\">\n      <!-- 25 -->\n      <g transform=\"translate(218.588214 254.356563)scale(0.1 -0.1)\">\n       <use xlink:href=\"#DejaVuSans-50\"/>\n       <use x=\"63.623047\" xlink:href=\"#DejaVuSans-53\"/>\n      </g>\n     </g>\n    </g>\n   </g>\n   <g id=\"matplotlib.axis_2\">\n    <g id=\"ytick_1\">\n     <g id=\"line2d_7\">\n      <defs>\n       <path d=\"M 0 0 \nL -3.5 0 \n\" id=\"m374cbca2ca\" style=\"stroke:#000000;stroke-width:0.8;\"/>\n      </defs>\n      <g>\n       <use style=\"stroke:#000000;stroke-width:0.8;\" x=\"26.925\" xlink:href=\"#m374cbca2ca\" y=\"26.200982\"/>\n      </g>\n     </g>\n     <g id=\"text_7\">\n      <!-- 0 -->\n      <g transform=\"translate(13.5625 30.000201)scale(0.1 -0.1)\">\n       <use xlink:href=\"#DejaVuSans-48\"/>\n      </g>\n     </g>\n    </g>\n    <g id=\"ytick_2\">\n     <g id=\"line2d_8\">\n      <g>\n       <use style=\"stroke:#000000;stroke-width:0.8;\" x=\"26.925\" xlink:href=\"#m374cbca2ca\" y=\"65.029554\"/>\n      </g>\n     </g>\n     <g id=\"text_8\">\n      <!-- 5 -->\n      <g transform=\"translate(13.5625 68.828772)scale(0.1 -0.1)\">\n       <use xlink:href=\"#DejaVuSans-53\"/>\n      </g>\n     </g>\n    </g>\n    <g id=\"ytick_3\">\n     <g id=\"line2d_9\">\n      <g>\n       <use style=\"stroke:#000000;stroke-width:0.8;\" x=\"26.925\" xlink:href=\"#m374cbca2ca\" y=\"103.858125\"/>\n      </g>\n     </g>\n     <g id=\"text_9\">\n      <!-- 10 -->\n      <g transform=\"translate(7.2 107.657344)scale(0.1 -0.1)\">\n       <use xlink:href=\"#DejaVuSans-49\"/>\n       <use x=\"63.623047\" xlink:href=\"#DejaVuSans-48\"/>\n      </g>\n     </g>\n    </g>\n    <g id=\"ytick_4\">\n     <g id=\"line2d_10\">\n      <g>\n       <use style=\"stroke:#000000;stroke-width:0.8;\" x=\"26.925\" xlink:href=\"#m374cbca2ca\" y=\"142.686696\"/>\n      </g>\n     </g>\n     <g id=\"text_10\">\n      <!-- 15 -->\n      <g transform=\"translate(7.2 146.485915)scale(0.1 -0.1)\">\n       <use xlink:href=\"#DejaVuSans-49\"/>\n       <use x=\"63.623047\" xlink:href=\"#DejaVuSans-53\"/>\n      </g>\n     </g>\n    </g>\n    <g id=\"ytick_5\">\n     <g id=\"line2d_11\">\n      <g>\n       <use style=\"stroke:#000000;stroke-width:0.8;\" x=\"26.925\" xlink:href=\"#m374cbca2ca\" y=\"181.515268\"/>\n      </g>\n     </g>\n     <g id=\"text_11\">\n      <!-- 20 -->\n      <g transform=\"translate(7.2 185.314487)scale(0.1 -0.1)\">\n       <use xlink:href=\"#DejaVuSans-50\"/>\n       <use x=\"63.623047\" xlink:href=\"#DejaVuSans-48\"/>\n      </g>\n     </g>\n    </g>\n    <g id=\"ytick_6\">\n     <g id=\"line2d_12\">\n      <g>\n       <use style=\"stroke:#000000;stroke-width:0.8;\" x=\"26.925\" xlink:href=\"#m374cbca2ca\" y=\"220.343839\"/>\n      </g>\n     </g>\n     <g id=\"text_12\">\n      <!-- 25 -->\n      <g transform=\"translate(7.2 224.143058)scale(0.1 -0.1)\">\n       <use xlink:href=\"#DejaVuSans-50\"/>\n       <use x=\"63.623047\" xlink:href=\"#DejaVuSans-53\"/>\n      </g>\n     </g>\n    </g>\n   </g>\n   <g id=\"patch_3\">\n    <path d=\"M 26.925 239.758125 \nL 26.925 22.318125 \n\" style=\"fill:none;stroke:#000000;stroke-linecap:square;stroke-linejoin:miter;stroke-width:0.8;\"/>\n   </g>\n   <g id=\"patch_4\">\n    <path d=\"M 244.365 239.758125 \nL 244.365 22.318125 \n\" style=\"fill:none;stroke:#000000;stroke-linecap:square;stroke-linejoin:miter;stroke-width:0.8;\"/>\n   </g>\n   <g id=\"patch_5\">\n    <path d=\"M 26.925 239.758125 \nL 244.365 239.758125 \n\" style=\"fill:none;stroke:#000000;stroke-linecap:square;stroke-linejoin:miter;stroke-width:0.8;\"/>\n   </g>\n   <g id=\"patch_6\">\n    <path d=\"M 26.925 22.318125 \nL 244.365 22.318125 \n\" style=\"fill:none;stroke:#000000;stroke-linecap:square;stroke-linejoin:miter;stroke-width:0.8;\"/>\n   </g>\n   <g id=\"text_13\">\n    <!-- 5 -->\n    <g transform=\"translate(131.8275 16.318125)scale(0.12 -0.12)\">\n     <use xlink:href=\"#DejaVuSans-53\"/>\n    </g>\n   </g>\n  </g>\n </g>\n <defs>\n  <clipPath id=\"p83bb534a10\">\n   <rect height=\"217.44\" width=\"217.44\" x=\"26.925\" y=\"22.318125\"/>\n  </clipPath>\n </defs>\n</svg>\n",
      "image/png": "[encoded data removed]"
     },
     "metadata": {
      "needs_background": "light"
     }
    }
   ],
   "source": [
    "# display one the numbers\n",
    "index = 11\n",
    "plt.imshow(train_X[index].numpy(), cmap='gray')\n",
    "plt.title(train_y[index].item())\n",
    "plt.show\n"
   ]
  },
  {
   "cell_type": "code",
   "execution_count": 64,
   "metadata": {
    "tags": []
   },
   "outputs": [
    {
     "output_type": "stream",
     "name": "stdout",
     "text": "the data loader is of type <class 'torch.utils.data.dataloader.DataLoader'>\n"
    }
   ],
   "source": [
    "# build a data loader for training\n",
    "# shape of input tensor will be (batch_size, 1 grayscale channel, 28, 28)\n",
    "train_loader = data.DataLoader(dataset=train_data, batch_size=BATCH_SIZE, shuffle=True)\n",
    "print(\"the data loader is of type {}\".format(type(train_loader)))"
   ]
  },
  {
   "cell_type": "code",
   "execution_count": 65,
   "metadata": {
    "tags": []
   },
   "outputs": [
    {
     "output_type": "stream",
     "name": "stdout",
     "text": "the test features are of type <class 'torch.Tensor'> and shape torch.Size([10000, 1, 28, 28])\nthe test labels are of type <class 'torch.Tensor'> and shape torch.Size([10000])\n"
    }
   ],
   "source": [
    "# get the test data\n",
    "test_data = torchvision.datasets.MNIST(root='/home/javaprog/Data/Personal/Scratch', train=False, transform=torchvision.transforms.ToTensor)\n",
    "test_X = torch.unsqueeze(test_data.test_data, dim=1)\n",
    "test_y = test_data.test_labels\n",
    "print(\"the test features are of type {} and shape {}\".format(type(test_X), test_X.shape))\n",
    "print(\"the test labels are of type {} and shape {}\".format(type(test_y), test_y.shape))\n"
   ]
  },
  {
   "cell_type": "code",
   "execution_count": 66,
   "metadata": {},
   "outputs": [],
   "source": [
    "# define the model class\n",
    "class CNN(nn.Module):\n",
    "    def __init__(self):\n",
    "        super(CNN, self).__init__()\n",
    "        self.conv_01_input = nn.Sequential (\n",
    "            nn.Conv2d(\n",
    "                in_channels=1,   # the one grayscale channel\n",
    "                out_channels=16,  # will output 6 channels\n",
    "                kernel_size=5,   # the size of the moving filter\n",
    "                stride=1,        # how much the filter moves by step\n",
    "                padding=2\n",
    "            ),                   # output will be (16, 28, 28)\n",
    "            nn.ReLU(),\n",
    "            nn.MaxPool2d(kernel_size=2),     # height and width reduced by factor of 2, output will be (16, 14, 14)\n",
    "        )\n",
    "        self.conv_02 = nn.Sequential(\n",
    "            nn.Conv2d(\n",
    "                in_channels=16,   # the 16 channels from the previous layer\n",
    "                out_channels=32,  # will output 32 channels\n",
    "                kernel_size=5,   # the size of the moving filter\n",
    "                stride=1,        # how much the filter moves by step\n",
    "                padding=2\n",
    "            ),                   # output will be (32, 14, 14)\n",
    "            nn.ReLU(),\n",
    "            nn.MaxPool2d(kernel_size=2),     # height and width reduced by factor of 2, output will be (32, 7, 7)\n",
    "        )\n",
    "        self.flatten_01 = nn.Flatten(start_dim=1)\n",
    "        self.linear_01_output = nn.Linear(32 * 7 * 7, 10)\n",
    "\n",
    "    def forward(self, x):\n",
    "        x = self.conv_01_input(x)\n",
    "        x = self.conv_02(x)\n",
    "        x = self.flatten_01(x)\n",
    "        x = self.linear_01_output(x)\n",
    "\n",
    "        # return\n",
    "        return x\n",
    "\n",
    "\n"
   ]
  },
  {
   "cell_type": "code",
   "execution_count": 72,
   "metadata": {},
   "outputs": [],
   "source": [
    "# model class\n",
    "class CnnModelWorking(nn.Module):\n",
    "    def __init__(self, output_size):\n",
    "        super().__init__()\n",
    "        self.conv_01_input = nn.Conv2d(in_channels=1, out_channels=6, kernel_size=5)\n",
    "        self.maxpool2d_01 = nn.MaxPool2d(kernel_size=2, stride=2)\n",
    "        self.conv_02 = nn.Conv2d(in_channels=6, out_channels=12, kernel_size=5)\n",
    "        self.maxpool2d_02 = nn.MaxPool2d(kernel_size=2, stride=2)\n",
    "\n",
    "        self.linear_01 = nn.Linear(in_features=12*4*4, out_features=120)\n",
    "        self.linear_02 = nn.Linear(in_features=120, out_features=60)\n",
    "        self.linear_03_output = nn.Linear(in_features=60, out_features=output_size)\n",
    "\n",
    "        self.relu = nn.ReLU()\n",
    "        self.flatten_01 = nn.Flatten(start_dim=1)\n",
    "\n",
    "    def forward(self, x):\n",
    "        # first convolution\n",
    "        x = self.conv_01_input(x.float())\n",
    "        x = self.relu(x)\n",
    "        x = self.maxpool2d_01(x)\n",
    "\n",
    "        # second convolution\n",
    "        x = self.conv_02(x.float())\n",
    "        x = self.relu(x)\n",
    "        x = self.maxpool2d_02(x)\n",
    "\n",
    "        # flatten for linear\n",
    "        x = self.flatten_01(x)\n",
    "\n",
    "        # linear layers with relu\n",
    "        x = self.linear_01(x)\n",
    "        x = self.relu(x)\n",
    "        x = self.linear_02(x)\n",
    "        x = self.relu(x)\n",
    "        x = self.linear_03_output(x)\n",
    "\n",
    "        # return\n",
    "        return x\n",
    "\n"
   ]
  },
  {
   "cell_type": "code",
   "execution_count": 109,
   "metadata": {},
   "outputs": [],
   "source": [
    "# model class\n",
    "# best model with more filters and 0,001 learning rate\n",
    "class CnnModel(nn.Module):\n",
    "    def __init__(self, output_size):\n",
    "        super().__init__()\n",
    "        self.conv_01_input = nn.Conv2d(in_channels=1, out_channels=16, kernel_size=5, padding=2)\n",
    "        self.maxpool2d_01 = nn.MaxPool2d(kernel_size=2)\n",
    "        self.conv_02 = nn.Conv2d(in_channels=16, out_channels=32, kernel_size=5, padding=2)\n",
    "        self.maxpool2d_02 = nn.MaxPool2d(kernel_size=2)\n",
    "\n",
    "        # self.linear_01 = nn.Linear(in_features=12*4*4, out_features=120)\n",
    "        self.linear_01 = nn.Linear(in_features=32*7*7, out_features=120)\n",
    "        self.linear_02 = nn.Linear(in_features=120, out_features=60)\n",
    "        self.linear_03_output = nn.Linear(in_features=60, out_features=output_size)\n",
    "\n",
    "        self.relu = nn.ReLU()\n",
    "        self.flatten_01 = nn.Flatten(start_dim=1)\n",
    "\n",
    "    def forward(self, x):\n",
    "        # first convolution\n",
    "        x = self.conv_01_input(x.float())\n",
    "        x = self.relu(x)\n",
    "        x = self.maxpool2d_01(x)\n",
    "\n",
    "        # second convolution\n",
    "        x = self.conv_02(x.float())\n",
    "        x = self.relu(x)\n",
    "        x = self.maxpool2d_02(x)\n",
    "\n",
    "        # flatten for linear\n",
    "        x = self.flatten_01(x)\n",
    "\n",
    "        # linear layers with relu\n",
    "        x = self.linear_01(x)\n",
    "        x = self.relu(x)\n",
    "        x = self.linear_02(x)\n",
    "        x = self.relu(x)\n",
    "        x = self.linear_03_output(x)\n",
    "\n",
    "        # return\n",
    "        return x\n",
    "\n"
   ]
  },
  {
   "cell_type": "code",
   "execution_count": 110,
   "metadata": {
    "tags": []
   },
   "outputs": [
    {
     "output_type": "stream",
     "name": "stdout",
     "text": "the model is \nCnnModel(\n  (conv_01_input): Conv2d(1, 16, kernel_size=(5, 5), stride=(1, 1), padding=(2, 2))\n  (maxpool2d_01): MaxPool2d(kernel_size=2, stride=2, padding=0, dilation=1, ceil_mode=False)\n  (conv_02): Conv2d(16, 32, kernel_size=(5, 5), stride=(1, 1), padding=(2, 2))\n  (maxpool2d_02): MaxPool2d(kernel_size=2, stride=2, padding=0, dilation=1, ceil_mode=False)\n  (linear_01): Linear(in_features=1568, out_features=120, bias=True)\n  (linear_02): Linear(in_features=120, out_features=60, bias=True)\n  (linear_03_output): Linear(in_features=60, out_features=10, bias=True)\n  (relu): ReLU()\n  (flatten_01): Flatten()\n)\n"
    }
   ],
   "source": [
    "# instatiate the network\n",
    "model = CnnModel(output_size=NUM_CLASSES)\n",
    "# model = CNN()\n",
    "print(\"the model is \\n{}\".format(model))"
   ]
  },
  {
   "cell_type": "code",
   "execution_count": 111,
   "metadata": {},
   "outputs": [],
   "source": [
    "# get the optimizer\n",
    "optimizer = torch.optim.Adam(model.parameters(), lr=LEARNING_RATE)\n",
    "loss = nn.CrossEntropyLoss()"
   ]
  },
  {
   "cell_type": "code",
   "execution_count": 112,
   "metadata": {
    "tags": []
   },
   "outputs": [
    {
     "output_type": "stream",
     "name": "stdout",
     "text": "epoch: 0 with train loss 2.3018 and accuracy 0.0000\nepoch: 0 with train loss 0.3761 and accuracy 0.0000\nepoch: 0 with train loss 0.4820 and accuracy 0.0000\nepoch: 0 with train loss 0.3196 and accuracy 0.0000\nepoch: 0 with train loss 0.0418 and accuracy 0.0000\nepoch: 0 with train loss 0.1140 and accuracy 0.0000\nepoch: 0 with train loss 0.0964 and accuracy 0.0000\nepoch: 0 with train loss 0.0605 and accuracy 0.0000\nepoch: 0 with train loss 0.0462 and accuracy 0.0000\nepoch: 0 with train loss 0.0687 and accuracy 0.0000\nepoch: 0 with train loss 0.0248 and accuracy 0.0000\nepoch: 0 with train loss 0.0067 and accuracy 0.0000\n"
    }
   ],
   "source": [
    "# train the model\n",
    "for epoch in range(EPOCHS):\n",
    "    for step, (x, y) in enumerate(train_loader):\n",
    "        # x = torch.unsqueeze(x, dim=1)\n",
    "        # print(\"the stept {} x is of type {} and shape {} and requires grad {}\".format(step, type(x), x.shape, x.requires_grad))\n",
    "        prediction = model(x)\n",
    "        step_loss = loss(prediction, y)\n",
    "        optimizer.zero_grad()\n",
    "        step_loss.backward()\n",
    "        optimizer.step()\n",
    "\n",
    "        # print progress\n",
    "        if step % 100 == 0:\n",
    "            test_prediction = model(test_X)\n",
    "            label_prediction = torch.max(test_prediction, 1)[1].data.squeeze\n",
    "            accuracy = 0\n",
    "            # accuracy = (label_prediction == test_y).sum().item() / float(test_y.size(0))\n",
    "            print(\"epoch: {} with train loss {:.4f} and accuracy {:.4f}\".format(epoch, step_loss.item(), accuracy))            "
   ]
  },
  {
   "cell_type": "code",
   "execution_count": 113,
   "metadata": {
    "tags": []
   },
   "outputs": [
    {
     "output_type": "stream",
     "name": "stdout",
     "text": "the stept 0 x is of type <class 'torch.Tensor'> and shape torch.Size([50, 1, 28, 28]) and requires grad False\nthe y is of type <class 'torch.Tensor'> and shape torch.Size([50])\nthe stept 1000 x is of type <class 'torch.Tensor'> and shape torch.Size([50, 1, 28, 28]) and requires grad False\nthe y is of type <class 'torch.Tensor'> and shape torch.Size([50])\n"
    }
   ],
   "source": [
    "# train the model\n",
    "for epoch in range(EPOCHS):\n",
    "    for step, (x, y) in enumerate(train_loader):\n",
    "        if step % 1000 == 0:\n",
    "            print(\"the stept {} x is of type {} and shape {} and requires grad {}\".format(step, type(x), x.shape, x.requires_grad))\n",
    "            print(\"the y is of type {} and shape {}\".format(type(y), y.shape))"
   ]
  },
  {
   "cell_type": "code",
   "execution_count": null,
   "metadata": {},
   "outputs": [],
   "source": []
  }
 ]
}