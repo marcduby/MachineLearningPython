{
 "metadata": {
  "language_info": {
   "codemirror_mode": {
    "name": "ipython",
    "version": 3
   },
   "file_extension": ".py",
   "mimetype": "text/x-python",
   "name": "python",
   "nbconvert_exporter": "python",
   "pygments_lexer": "ipython3",
   "version": "3.6.9-final"
  },
  "orig_nbformat": 2,
  "kernelspec": {
   "name": "python_defaultSpec_1600355723912",
   "display_name": "Python 3.6.9 64-bit"
  }
 },
 "nbformat": 4,
 "nbformat_minor": 2,
 "cells": [
  {
   "cell_type": "code",
   "execution_count": 1,
   "metadata": {
    "tags": []
   },
   "outputs": [
    {
     "output_type": "stream",
     "name": "stdout",
     "text": "the pytorch version is 1.6.0\nthe torchvision version is 0.7.0\n"
    }
   ],
   "source": [
    "# imports\n",
    "import torch\n",
    "import torch.nn as nn\n",
    "import torch.nn.functional as F \n",
    "\n",
    "import torchvision\n",
    "import torchvision.transforms as transforms\n",
    "\n",
    "import matplotlib.pyplot as pyplot\n",
    "import math\n",
    "\n",
    "from collections import OrderedDict\n",
    "\n",
    "print(\"the pytorch version is {}\".format(torch.__version__))\n",
    "print(\"the torchvision version is {}\".format(torchvision.__version__))"
   ]
  },
  {
   "cell_type": "code",
   "execution_count": 5,
   "metadata": {},
   "outputs": [],
   "source": [
    "# model class\n",
    "class CnnModel(nn.Module):\n",
    "    def __init__(self, output_size):\n",
    "        super().__init__()\n",
    "        self.conv_01_input = nn.Conv2d(in_channels=1, out_channels=6, kernel_size=5)\n",
    "        self.maxpool2d_01 = nn.MaxPool2d(kernel_size=2, stride=2)\n",
    "        self.conv_02 = nn.Conv2d(in_channels=6, out_channels=12, kernel_size=5)\n",
    "        self.maxpool2d_02 = nn.MaxPool2d(kernel_size=2, stride=2)\n",
    "\n",
    "        self.linear_01 = nn.Linear(in_features=12*4*4, out_features=120)\n",
    "        self.linear_02 = nn.Linear(in_features=120, out_features=60)\n",
    "        self.linear_03_output = nn.Linear(in_features=12*4*4, out_features=output_size)\n",
    "\n",
    "        self.relu = nn.ReLU()\n",
    "        self.flatten_01 = nn.Flatten(start_dim=1)\n",
    "\n",
    "    def forward(self, x):\n",
    "        # first convolution\n",
    "        x = self.conv_01_input(x)\n",
    "        x = self.relu(x)\n",
    "        x = self.maxpool2d_01(x)\n",
    "\n",
    "        # second convolution\n",
    "        x = self.conv_02_input(x)\n",
    "        x = self.relu(x)\n",
    "        x = self.maxpool2d_02(x)\n",
    "\n",
    "        # flatten for linear\n",
    "        x = self.flatten_01(x)\n",
    "\n",
    "        # linear layers with relu\n",
    "        x = self.linear_01(x)\n",
    "        x = self.relu(x)\n",
    "        x = self.linear_02(x)\n",
    "        x = self.relu(x)\n",
    "        x = self.linear_03_output(x)\n",
    "\n",
    "        # return\n",
    "        return x\n",
    "\n"
   ]
  },
  {
   "cell_type": "code",
   "execution_count": 6,
   "metadata": {
    "tags": []
   },
   "outputs": [
    {
     "output_type": "stream",
     "name": "stdout",
     "text": "the network is \nCnnModel(\n  (conv_01_input): Conv2d(1, 6, kernel_size=(5, 5), stride=(1, 1))\n  (maxpool2d_01): MaxPool2d(kernel_size=2, stride=2, padding=0, dilation=1, ceil_mode=False)\n  (conv_02): Conv2d(6, 12, kernel_size=(5, 5), stride=(1, 1))\n  (maxpool2d_02): MaxPool2d(kernel_size=2, stride=2, padding=0, dilation=1, ceil_mode=False)\n  (linear_01): Linear(in_features=192, out_features=120, bias=True)\n  (linear_02): Linear(in_features=120, out_features=60, bias=True)\n  (linear_03_output): Linear(in_features=192, out_features=10, bias=True)\n  (relu): ReLU()\n  (flatten_01): Flatten()\n)\n"
    }
   ],
   "source": [
    "# instantiate the model\n",
    "torch.manual_seed(50)\n",
    "cnn_model = CnnModel(output_size=10)\n",
    "print(\"the network is \\n{}\".format(cnn_model))"
   ]
  },
  {
   "cell_type": "code",
   "execution_count": 16,
   "metadata": {},
   "outputs": [],
   "source": [
    "# model class with Sequential and OrderedDict\n",
    "class CnnModelSequential(nn.Module):\n",
    "    # model_layers = OrderedDict([\n",
    "        # ('conv2d_01_input', nn.Conv2d(in_channels=1, out_channels=6, kernel_size=5)),\n",
    "        # ('relu_conv_01', nn.ReLU()),\n",
    "        # ('maxpool2d_01', nn.MaxPool2d(kernel_size=2, stride=2),\n",
    "        # ('conv2d_02', nn.Conv2d(in_channels=1, out_channels=6, kernel_size=5)),\n",
    "        # ('relu_conv_02', nn.ReLU()),\n",
    "        # ('maxpool2d_02', nn.MaxPool2d(kernel_size=2, stride=2),\n",
    "        # ('flatten_01', nn.Flatten(start_dim=1))\n",
    "        # ('linear_01', nn.Linear(in_features=12*4*4, out_features=120),\n",
    "        # ('relu_linear_01', nn.ReLU()),\n",
    "        # ('linear_02', nn.Linear(in_features=120, out_features=60),\n",
    "        # ('relu_linear_02', nn.ReLU()),\n",
    "    #     ('linear_03_output', nn.Linear(in_features=60, out_features=10)\n",
    "    # ])\n",
    "\n",
    "    def __init__(self, output_size):\n",
    "        super().__init__()\n",
    "\n",
    "        model_layers = OrderedDict([\n",
    "            ('conv2d_01_input', nn.Conv2d(in_channels=1, out_channels=6, kernel_size=5)),\n",
    "            ('relu_conv_01', nn.ReLU()),\n",
    "            ('maxpool2d_01', nn.MaxPool2d(kernel_size=2, stride=2)),\n",
    "            ('conv2d_02', nn.Conv2d(in_channels=1, out_channels=6, kernel_size=5)),\n",
    "            ('relu_conv_02', nn.ReLU()),\n",
    "            ('maxpool2d_02', nn.MaxPool2d(kernel_size=2, stride=2)),\n",
    "            ('flatten_01', nn.Flatten(start_dim=1)),\n",
    "            ('linear_01', nn.Linear(in_features=12*4*4, out_features=120)),\n",
    "            ('relu_linear_01', nn.ReLU()),\n",
    "            ('linear_02', nn.Linear(in_features=120, out_features=60)),\n",
    "            ('relu_linear_02', nn.ReLU()),\n",
    "            ('linear_03_output', nn.Linear(in_features=60, out_features=output_size))\n",
    "        ])\n",
    "\n",
    "        self.sequential = nn.Sequential(model_layers)\n",
    "\n"
   ]
  },
  {
   "cell_type": "code",
   "execution_count": 19,
   "metadata": {
    "tags": []
   },
   "outputs": [
    {
     "output_type": "stream",
     "name": "stdout",
     "text": "the network is \nCnnModelSequential(\n  (sequential): Sequential(\n    (conv2d_01_input): Conv2d(1, 6, kernel_size=(5, 5), stride=(1, 1))\n    (relu_conv_01): ReLU()\n    (maxpool2d_01): MaxPool2d(kernel_size=2, stride=2, padding=0, dilation=1, ceil_mode=False)\n    (conv2d_02): Conv2d(1, 6, kernel_size=(5, 5), stride=(1, 1))\n    (relu_conv_02): ReLU()\n    (maxpool2d_02): MaxPool2d(kernel_size=2, stride=2, padding=0, dilation=1, ceil_mode=False)\n    (flatten_01): Flatten()\n    (linear_01): Linear(in_features=192, out_features=120, bias=True)\n    (relu_linear_01): ReLU()\n    (linear_02): Linear(in_features=120, out_features=60, bias=True)\n    (relu_linear_02): ReLU()\n    (linear_03_output): Linear(in_features=60, out_features=10, bias=True)\n  )\n)\n"
    }
   ],
   "source": [
    "# instantiate the class model\n",
    "torch.manual_seed(50)\n",
    "cnn_model01 = CnnModelSequential(output_size=10)\n",
    "print(\"the network is \\n{}\".format(cnn_model01))\n"
   ]
  },
  {
   "cell_type": "code",
   "execution_count": null,
   "metadata": {},
   "outputs": [],
   "source": []
  }
 ]
}