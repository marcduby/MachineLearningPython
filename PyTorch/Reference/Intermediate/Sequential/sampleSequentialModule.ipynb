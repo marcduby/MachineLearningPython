{
 "metadata": {
  "language_info": {
   "codemirror_mode": {
    "name": "ipython",
    "version": 3
   },
   "file_extension": ".py",
   "mimetype": "text/x-python",
   "name": "python",
   "nbconvert_exporter": "python",
   "pygments_lexer": "ipython3",
   "version": "3.6.9-final"
  },
  "orig_nbformat": 2,
  "kernelspec": {
   "name": "python_defaultSpec_1600312369278",
   "display_name": "Python 3.6.9 64-bit"
  }
 },
 "nbformat": 4,
 "nbformat_minor": 2,
 "cells": [
  {
   "cell_type": "code",
   "execution_count": 3,
   "metadata": {
    "tags": []
   },
   "outputs": [
    {
     "output_type": "stream",
     "name": "stdout",
     "text": "the pytorch version is 1.6.0\nthe torchvision version is 0.7.0\n"
    }
   ],
   "source": [
    "# imports\n",
    "import torch\n",
    "import torch.nn as nn\n",
    "import torch.nn.functional as F \n",
    "\n",
    "import torchvision\n",
    "import torchvision.transforms as transforms\n",
    "\n",
    "import matplotlib.pyplot as pyplot\n",
    "import math\n",
    "\n",
    "from collections import OrderedDict\n",
    "\n",
    "print(\"the pytorch version is {}\".format(torch.__version__))\n",
    "print(\"the torchvision version is {}\".format(torchvision.__version__))"
   ]
  },
  {
   "cell_type": "code",
   "execution_count": 4,
   "metadata": {
    "tags": []
   },
   "outputs": [
    {
     "output_type": "stream",
     "name": "stderr",
     "text": "0it [00:00, ?it/s]Downloading http://fashion-mnist.s3-website.eu-central-1.amazonaws.com/train-images-idx3-ubyte.gz to /home/javaprog/Data/Personal/Scratch/FashionMNIST/raw/train-images-idx3-ubyte.gz\n26427392it [00:03, 8411451.34it/s]\nExtracting /home/javaprog/Data/Personal/Scratch/FashionMNIST/raw/train-images-idx3-ubyte.gz to /home/javaprog/Data/Personal/Scratch/FashionMNIST/raw\n0it [00:00, ?it/s]Downloading http://fashion-mnist.s3-website.eu-central-1.amazonaws.com/train-labels-idx1-ubyte.gz to /home/javaprog/Data/Personal/Scratch/FashionMNIST/raw/train-labels-idx1-ubyte.gz\n32768it [00:00, 101093.51it/s]\n0it [00:00, ?it/s]Extracting /home/javaprog/Data/Personal/Scratch/FashionMNIST/raw/train-labels-idx1-ubyte.gz to /home/javaprog/Data/Personal/Scratch/FashionMNIST/raw\nDownloading http://fashion-mnist.s3-website.eu-central-1.amazonaws.com/t10k-images-idx3-ubyte.gz to /home/javaprog/Data/Personal/Scratch/FashionMNIST/raw/t10k-images-idx3-ubyte.gz\n4423680it [00:01, 3890946.54it/s]\n0it [00:00, ?it/s]Extracting /home/javaprog/Data/Personal/Scratch/FashionMNIST/raw/t10k-images-idx3-ubyte.gz to /home/javaprog/Data/Personal/Scratch/FashionMNIST/raw\nDownloading http://fashion-mnist.s3-website.eu-central-1.amazonaws.com/t10k-labels-idx1-ubyte.gz to /home/javaprog/Data/Personal/Scratch/FashionMNIST/raw/t10k-labels-idx1-ubyte.gz\n8192it [00:00, 31870.49it/s]\nExtracting /home/javaprog/Data/Personal/Scratch/FashionMNIST/raw/t10k-labels-idx1-ubyte.gz to /home/javaprog/Data/Personal/Scratch/FashionMNIST/raw\nProcessing...\nDone!\n"
    }
   ],
   "source": [
    "# get the train set\n",
    "train_set = torchvision.datasets.FashionMNIST(\n",
    "    root = '/home/javaprog/Data/Personal/Scratch',\n",
    "    train = True,\n",
    "    download = True,\n",
    "    transform=transforms.Compose([\n",
    "        transforms.ToTensor()\n",
    "    ])\n",
    ")"
   ]
  },
  {
   "cell_type": "code",
   "execution_count": 6,
   "metadata": {
    "tags": []
   },
   "outputs": [
    {
     "output_type": "stream",
     "name": "stdout",
     "text": "the image shape is torch.Size([1, 28, 28])\n"
    }
   ],
   "source": [
    "# get the test data\n",
    "image, label = train_set[0]\n",
    "print(\"the image shape is {}\".format(image.shape))"
   ]
  },
  {
   "cell_type": "code",
   "execution_count": 7,
   "metadata": {},
   "outputs": [
    {
     "output_type": "execute_result",
     "data": {
      "text/plain": "<matplotlib.image.AxesImage at 0x7f16d42feef0>"
     },
     "metadata": {},
     "execution_count": 7
    },
    {
     "output_type": "display_data",
     "data": {
      "text/plain": "<Figure size 432x288 with 1 Axes>",
      "image/svg+xml": "<?xml version=\"1.0\" encoding=\"utf-8\" standalone=\"no\"?>\n<!DOCTYPE svg PUBLIC \"-//W3C//DTD SVG 1.1//EN\"\n  \"http://www.w3.org/Graphics/SVG/1.1/DTD/svg11.dtd\">\n<!-- Created with matplotlib (https://matplotlib.org/) -->\n<svg height=\"248.518125pt\" version=\"1.1\" viewBox=\"0 0 251.565 248.518125\" width=\"251.565pt\" xmlns=\"http://www.w3.org/2000/svg\" xmlns:xlink=\"http://www.w3.org/1999/xlink\">\n <metadata>\n  <rdf:RDF xmlns:cc=\"http://creativecommons.org/ns#\" xmlns:dc=\"http://purl.org/dc/elements/1.1/\" xmlns:rdf=\"http://www.w3.org/1999/02/22-rdf-syntax-ns#\">\n   <cc:Work>\n    <dc:type rdf:resource=\"http://purl.org/dc/dcmitype/StillImage\"/>\n    <dc:date>2020-09-16T23:33:12.254891</dc:date>\n    <dc:format>image/svg+xml</dc:format>\n    <dc:creator>\n     <cc:Agent>\n      <dc:title>Matplotlib v3.3.2, https://matplotlib.org/</dc:title>\n     </cc:Agent>\n    </dc:creator>\n   </cc:Work>\n  </rdf:RDF>\n </metadata>\n <defs>\n  <style type=\"text/css\">*{stroke-linecap:butt;stroke-linejoin:round;}</style>\n </defs>\n <g id=\"figure_1\">\n  <g id=\"patch_1\">\n   <path d=\"M 0 248.518125 \nL 251.565 248.518125 \nL 251.565 0 \nL 0 0 \nz\n\" style=\"fill:none;\"/>\n  </g>\n  <g id=\"axes_1\">\n   <g id=\"patch_2\">\n    <path d=\"M 26.925 224.64 \nL 244.365 224.64 \nL 244.365 7.2 \nL 26.925 7.2 \nz\n\" style=\"fill:#ffffff;\"/>\n   </g>\n   <g clip-path=\"url(#p7784860d29)\">\n    <image height=\"218\" id=\"image148ea37a65\" transform=\"scale(1 -1)translate(0 -218)\" width=\"218\" x=\"26.925\" xlink:href=\"data:image/png;base64,\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\" y=\"-6.64\"/>\n   </g>\n   <g id=\"matplotlib.axis_1\">\n    <g id=\"xtick_1\">\n     <g id=\"line2d_1\">\n      <defs>\n       <path d=\"M 0 0 \nL 0 3.5 \n\" id=\"m2dde1c3870\" style=\"stroke:#000000;stroke-width:0.8;\"/>\n      </defs>\n      <g>\n       <use style=\"stroke:#000000;stroke-width:0.8;\" x=\"30.807857\" xlink:href=\"#m2dde1c3870\" y=\"224.64\"/>\n      </g>\n     </g>\n     <g id=\"text_1\">\n      <!-- 0 -->\n      <g transform=\"translate(27.626607 239.238437)scale(0.1 -0.1)\">\n       <defs>\n        <path d=\"M 31.78125 66.40625 \nQ 24.171875 66.40625 20.328125 58.90625 \nQ 16.5 51.421875 16.5 36.375 \nQ 16.5 21.390625 20.328125 13.890625 \nQ 24.171875 6.390625 31.78125 6.390625 \nQ 39.453125 6.390625 43.28125 13.890625 \nQ 47.125 21.390625 47.125 36.375 \nQ 47.125 51.421875 43.28125 58.90625 \nQ 39.453125 66.40625 31.78125 66.40625 \nz\nM 31.78125 74.21875 \nQ 44.046875 74.21875 50.515625 64.515625 \nQ 56.984375 54.828125 56.984375 36.375 \nQ 56.984375 17.96875 50.515625 8.265625 \nQ 44.046875 -1.421875 31.78125 -1.421875 \nQ 19.53125 -1.421875 13.0625 8.265625 \nQ 6.59375 17.96875 6.59375 36.375 \nQ 6.59375 54.828125 13.0625 64.515625 \nQ 19.53125 74.21875 31.78125 74.21875 \nz\n\" id=\"DejaVuSans-48\"/>\n       </defs>\n       <use xlink:href=\"#DejaVuSans-48\"/>\n      </g>\n     </g>\n    </g>\n    <g id=\"xtick_2\">\n     <g id=\"line2d_2\">\n      <g>\n       <use style=\"stroke:#000000;stroke-width:0.8;\" x=\"69.636429\" xlink:href=\"#m2dde1c3870\" y=\"224.64\"/>\n      </g>\n     </g>\n     <g id=\"text_2\">\n      <!-- 5 -->\n      <g transform=\"translate(66.455179 239.238437)scale(0.1 -0.1)\">\n       <defs>\n        <path d=\"M 10.796875 72.90625 \nL 49.515625 72.90625 \nL 49.515625 64.59375 \nL 19.828125 64.59375 \nL 19.828125 46.734375 \nQ 21.96875 47.46875 24.109375 47.828125 \nQ 26.265625 48.1875 28.421875 48.1875 \nQ 40.625 48.1875 47.75 41.5 \nQ 54.890625 34.8125 54.890625 23.390625 \nQ 54.890625 11.625 47.5625 5.09375 \nQ 40.234375 -1.421875 26.90625 -1.421875 \nQ 22.3125 -1.421875 17.546875 -0.640625 \nQ 12.796875 0.140625 7.71875 1.703125 \nL 7.71875 11.625 \nQ 12.109375 9.234375 16.796875 8.0625 \nQ 21.484375 6.890625 26.703125 6.890625 \nQ 35.15625 6.890625 40.078125 11.328125 \nQ 45.015625 15.765625 45.015625 23.390625 \nQ 45.015625 31 40.078125 35.4375 \nQ 35.15625 39.890625 26.703125 39.890625 \nQ 22.75 39.890625 18.8125 39.015625 \nQ 14.890625 38.140625 10.796875 36.28125 \nz\n\" id=\"DejaVuSans-53\"/>\n       </defs>\n       <use xlink:href=\"#DejaVuSans-53\"/>\n      </g>\n     </g>\n    </g>\n    <g id=\"xtick_3\">\n     <g id=\"line2d_3\">\n      <g>\n       <use style=\"stroke:#000000;stroke-width:0.8;\" x=\"108.465\" xlink:href=\"#m2dde1c3870\" y=\"224.64\"/>\n      </g>\n     </g>\n     <g id=\"text_3\">\n      <!-- 10 -->\n      <g transform=\"translate(102.1025 239.238437)scale(0.1 -0.1)\">\n       <defs>\n        <path d=\"M 12.40625 8.296875 \nL 28.515625 8.296875 \nL 28.515625 63.921875 \nL 10.984375 60.40625 \nL 10.984375 69.390625 \nL 28.421875 72.90625 \nL 38.28125 72.90625 \nL 38.28125 8.296875 \nL 54.390625 8.296875 \nL 54.390625 0 \nL 12.40625 0 \nz\n\" id=\"DejaVuSans-49\"/>\n       </defs>\n       <use xlink:href=\"#DejaVuSans-49\"/>\n       <use x=\"63.623047\" xlink:href=\"#DejaVuSans-48\"/>\n      </g>\n     </g>\n    </g>\n    <g id=\"xtick_4\">\n     <g id=\"line2d_4\">\n      <g>\n       <use style=\"stroke:#000000;stroke-width:0.8;\" x=\"147.293571\" xlink:href=\"#m2dde1c3870\" y=\"224.64\"/>\n      </g>\n     </g>\n     <g id=\"text_4\">\n      <!-- 15 -->\n      <g transform=\"translate(140.931071 239.238437)scale(0.1 -0.1)\">\n       <use xlink:href=\"#DejaVuSans-49\"/>\n       <use x=\"63.623047\" xlink:href=\"#DejaVuSans-53\"/>\n      </g>\n     </g>\n    </g>\n    <g id=\"xtick_5\">\n     <g id=\"line2d_5\">\n      <g>\n       <use style=\"stroke:#000000;stroke-width:0.8;\" x=\"186.122143\" xlink:href=\"#m2dde1c3870\" y=\"224.64\"/>\n      </g>\n     </g>\n     <g id=\"text_5\">\n      <!-- 20 -->\n      <g transform=\"translate(179.759643 239.238437)scale(0.1 -0.1)\">\n       <defs>\n        <path d=\"M 19.1875 8.296875 \nL 53.609375 8.296875 \nL 53.609375 0 \nL 7.328125 0 \nL 7.328125 8.296875 \nQ 12.9375 14.109375 22.625 23.890625 \nQ 32.328125 33.6875 34.8125 36.53125 \nQ 39.546875 41.84375 41.421875 45.53125 \nQ 43.3125 49.21875 43.3125 52.78125 \nQ 43.3125 58.59375 39.234375 62.25 \nQ 35.15625 65.921875 28.609375 65.921875 \nQ 23.96875 65.921875 18.8125 64.3125 \nQ 13.671875 62.703125 7.8125 59.421875 \nL 7.8125 69.390625 \nQ 13.765625 71.78125 18.9375 73 \nQ 24.125 74.21875 28.421875 74.21875 \nQ 39.75 74.21875 46.484375 68.546875 \nQ 53.21875 62.890625 53.21875 53.421875 \nQ 53.21875 48.921875 51.53125 44.890625 \nQ 49.859375 40.875 45.40625 35.40625 \nQ 44.1875 33.984375 37.640625 27.21875 \nQ 31.109375 20.453125 19.1875 8.296875 \nz\n\" id=\"DejaVuSans-50\"/>\n       </defs>\n       <use xlink:href=\"#DejaVuSans-50\"/>\n       <use x=\"63.623047\" xlink:href=\"#DejaVuSans-48\"/>\n      </g>\n     </g>\n    </g>\n    <g id=\"xtick_6\">\n     <g id=\"line2d_6\">\n      <g>\n       <use style=\"stroke:#000000;stroke-width:0.8;\" x=\"224.950714\" xlink:href=\"#m2dde1c3870\" y=\"224.64\"/>\n      </g>\n     </g>\n     <g id=\"text_6\">\n      <!-- 25 -->\n      <g transform=\"translate(218.588214 239.238437)scale(0.1 -0.1)\">\n       <use xlink:href=\"#DejaVuSans-50\"/>\n       <use x=\"63.623047\" xlink:href=\"#DejaVuSans-53\"/>\n      </g>\n     </g>\n    </g>\n   </g>\n   <g id=\"matplotlib.axis_2\">\n    <g id=\"ytick_1\">\n     <g id=\"line2d_7\">\n      <defs>\n       <path d=\"M 0 0 \nL -3.5 0 \n\" id=\"m2343deb529\" style=\"stroke:#000000;stroke-width:0.8;\"/>\n      </defs>\n      <g>\n       <use style=\"stroke:#000000;stroke-width:0.8;\" x=\"26.925\" xlink:href=\"#m2343deb529\" y=\"11.082857\"/>\n      </g>\n     </g>\n     <g id=\"text_7\">\n      <!-- 0 -->\n      <g transform=\"translate(13.5625 14.882076)scale(0.1 -0.1)\">\n       <use xlink:href=\"#DejaVuSans-48\"/>\n      </g>\n     </g>\n    </g>\n    <g id=\"ytick_2\">\n     <g id=\"line2d_8\">\n      <g>\n       <use style=\"stroke:#000000;stroke-width:0.8;\" x=\"26.925\" xlink:href=\"#m2343deb529\" y=\"49.911429\"/>\n      </g>\n     </g>\n     <g id=\"text_8\">\n      <!-- 5 -->\n      <g transform=\"translate(13.5625 53.710647)scale(0.1 -0.1)\">\n       <use xlink:href=\"#DejaVuSans-53\"/>\n      </g>\n     </g>\n    </g>\n    <g id=\"ytick_3\">\n     <g id=\"line2d_9\">\n      <g>\n       <use style=\"stroke:#000000;stroke-width:0.8;\" x=\"26.925\" xlink:href=\"#m2343deb529\" y=\"88.74\"/>\n      </g>\n     </g>\n     <g id=\"text_9\">\n      <!-- 10 -->\n      <g transform=\"translate(7.2 92.539219)scale(0.1 -0.1)\">\n       <use xlink:href=\"#DejaVuSans-49\"/>\n       <use x=\"63.623047\" xlink:href=\"#DejaVuSans-48\"/>\n      </g>\n     </g>\n    </g>\n    <g id=\"ytick_4\">\n     <g id=\"line2d_10\">\n      <g>\n       <use style=\"stroke:#000000;stroke-width:0.8;\" x=\"26.925\" xlink:href=\"#m2343deb529\" y=\"127.568571\"/>\n      </g>\n     </g>\n     <g id=\"text_10\">\n      <!-- 15 -->\n      <g transform=\"translate(7.2 131.36779)scale(0.1 -0.1)\">\n       <use xlink:href=\"#DejaVuSans-49\"/>\n       <use x=\"63.623047\" xlink:href=\"#DejaVuSans-53\"/>\n      </g>\n     </g>\n    </g>\n    <g id=\"ytick_5\">\n     <g id=\"line2d_11\">\n      <g>\n       <use style=\"stroke:#000000;stroke-width:0.8;\" x=\"26.925\" xlink:href=\"#m2343deb529\" y=\"166.397143\"/>\n      </g>\n     </g>\n     <g id=\"text_11\">\n      <!-- 20 -->\n      <g transform=\"translate(7.2 170.196362)scale(0.1 -0.1)\">\n       <use xlink:href=\"#DejaVuSans-50\"/>\n       <use x=\"63.623047\" xlink:href=\"#DejaVuSans-48\"/>\n      </g>\n     </g>\n    </g>\n    <g id=\"ytick_6\">\n     <g id=\"line2d_12\">\n      <g>\n       <use style=\"stroke:#000000;stroke-width:0.8;\" x=\"26.925\" xlink:href=\"#m2343deb529\" y=\"205.225714\"/>\n      </g>\n     </g>\n     <g id=\"text_12\">\n      <!-- 25 -->\n      <g transform=\"translate(7.2 209.024933)scale(0.1 -0.1)\">\n       <use xlink:href=\"#DejaVuSans-50\"/>\n       <use x=\"63.623047\" xlink:href=\"#DejaVuSans-53\"/>\n      </g>\n     </g>\n    </g>\n   </g>\n   <g id=\"patch_3\">\n    <path d=\"M 26.925 224.64 \nL 26.925 7.2 \n\" style=\"fill:none;stroke:#000000;stroke-linecap:square;stroke-linejoin:miter;stroke-width:0.8;\"/>\n   </g>\n   <g id=\"patch_4\">\n    <path d=\"M 244.365 224.64 \nL 244.365 7.2 \n\" style=\"fill:none;stroke:#000000;stroke-linecap:square;stroke-linejoin:miter;stroke-width:0.8;\"/>\n   </g>\n   <g id=\"patch_5\">\n    <path d=\"M 26.925 224.64 \nL 244.365 224.64 \n\" style=\"fill:none;stroke:#000000;stroke-linecap:square;stroke-linejoin:miter;stroke-width:0.8;\"/>\n   </g>\n   <g id=\"patch_6\">\n    <path d=\"M 26.925 7.2 \nL 244.365 7.2 \n\" style=\"fill:none;stroke:#000000;stroke-linecap:square;stroke-linejoin:miter;stroke-width:0.8;\"/>\n   </g>\n  </g>\n </g>\n <defs>\n  <clipPath id=\"p7784860d29\">\n   <rect height=\"217.44\" width=\"217.44\" x=\"26.925\" y=\"7.2\"/>\n  </clipPath>\n </defs>\n</svg>\n",
      "image/png": "[encoded data removed]"
     },
     "metadata": {
      "needs_background": "light"
     }
    }
   ],
   "source": [
    "# display the image\n",
    "pyplot.imshow(image.squeeze(), cmap='gray')"
   ]
  },
  {
   "cell_type": "code",
   "execution_count": 8,
   "metadata": {
    "tags": []
   },
   "outputs": [
    {
     "output_type": "stream",
     "name": "stdout",
     "text": "the labels are ['T-shirt/top', 'Trouser', 'Pullover', 'Dress', 'Coat', 'Sandal', 'Shirt', 'Sneaker', 'Bag', 'Ankle boot']\n"
    }
   ],
   "source": [
    "# print the labels\n",
    "print(\"the labels are {}\".format(train_set.classes))"
   ]
  },
  {
   "cell_type": "code",
   "execution_count": 9,
   "metadata": {
    "tags": []
   },
   "outputs": [
    {
     "output_type": "stream",
     "name": "stdout",
     "text": "the input layer is of size 784\nthe hidden layer 1 is of size 392\nthe output layer is of size 10\n"
    }
   ],
   "source": [
    "# set the network layer sizes\n",
    "in_features = image.numel()\n",
    "hidden_layer1 = math.floor(in_features/2)               # always have less features going down dense/linear layers\n",
    "out_features = len(train_set.classes)\n",
    "\n",
    "# print\n",
    "print(\"the input layer is of size {}\".format(in_features))\n",
    "print(\"the hidden layer 1 is of size {}\".format(hidden_layer1))\n",
    "print(\"the output layer is of size {}\".format(out_features))"
   ]
  },
  {
   "cell_type": "code",
   "execution_count": 18,
   "metadata": {
    "tags": []
   },
   "outputs": [
    {
     "output_type": "stream",
     "name": "stdout",
     "text": "the model is \nSequential(\n  (input_flatten): Flatten()\n  (hidden_linear_01): Linear(in_features=784, out_features=392, bias=True)\n  (output_linear): Linear(in_features=392, out_features=10, bias=True)\n)\nthe hidden layer of the model is Linear(in_features=784, out_features=392, bias=True)\n"
    }
   ],
   "source": [
    "# build the layer architecture\n",
    "layers = OrderedDict([\n",
    "    ('input_flatten', nn.Flatten(start_dim=1)),\n",
    "    ('hidden_linear_01', nn.Linear(in_features, hidden_layer1)),\n",
    "    ('output_linear', nn.Linear(hidden_layer1, out_features))\n",
    "])\n",
    "\n",
    "# build the model\n",
    "model = nn.Sequential(layers)\n",
    "\n",
    "# print the model\n",
    "print(\"the model is \\n{}\".format(model))\n",
    "print(\"the hidden layer of the model is {}\".format(model.hidden_linear_01))\n"
   ]
  },
  {
   "cell_type": "code",
   "execution_count": 19,
   "metadata": {
    "tags": []
   },
   "outputs": [
    {
     "output_type": "stream",
     "name": "stdout",
     "text": "the new shape of the image is torch.Size([1, 1, 1, 28, 28])\n"
    }
   ],
   "source": [
    "# test the network\n",
    "# add a dimension to the image\n",
    "image = image.unsqueeze(0)\n",
    "print(\"the new shape of the image is {}\".format(image.shape))"
   ]
  },
  {
   "cell_type": "code",
   "execution_count": 20,
   "metadata": {
    "tags": []
   },
   "outputs": [
    {
     "output_type": "stream",
     "name": "stdout",
     "text": "the prediction is \ntensor([[-0.0610, -0.0483, -0.4234, -0.1393, -0.1305,  0.1017,  0.0623,  0.1383,\n         -0.0785, -0.0247]], grad_fn=<AddmmBackward>)\n"
    }
   ],
   "source": [
    "# feed the image to the network model\n",
    "prediction = model(image)\n",
    "print(\"the prediction is \\n{}\".format(prediction))\n"
   ]
  },
  {
   "cell_type": "code",
   "execution_count": null,
   "metadata": {},
   "outputs": [],
   "source": []
  }
 ]
}