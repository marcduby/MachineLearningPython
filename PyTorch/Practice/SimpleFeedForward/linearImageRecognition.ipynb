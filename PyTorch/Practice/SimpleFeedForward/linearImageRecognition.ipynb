{
 "metadata": {
  "language_info": {
   "codemirror_mode": {
    "name": "ipython",
    "version": 3
   },
   "file_extension": ".py",
   "mimetype": "text/x-python",
   "name": "python",
   "nbconvert_exporter": "python",
   "pygments_lexer": "ipython3",
   "version": "3.6.9-final"
  },
  "orig_nbformat": 2,
  "kernelspec": {
   "name": "Python 3.6.9 64-bit",
   "display_name": "Python 3.6.9 64-bit",
   "metadata": {
    "interpreter": {
     "hash": "54cb1eeebc815aad592dd3bd3ea020e2519a10ea98ba532cef755064696aa00c"
    }
   }
  }
 },
 "nbformat": 4,
 "nbformat_minor": 2,
 "cells": [
  {
   "cell_type": "code",
   "execution_count": 13,
   "metadata": {},
   "outputs": [
    {
     "output_type": "stream",
     "name": "stdout",
     "text": [
      "the torch version is 1.6.0\n"
     ]
    }
   ],
   "source": [
    "# imports\n",
    "import torch\n",
    "from torchvision import datasets\n",
    "import matplotlib.pyplot as plt\n",
    "from torchvision import transforms\n",
    "\n",
    "print(\"the torch version is {}\".format(torch.__version__))"
   ]
  },
  {
   "cell_type": "code",
   "execution_count": 3,
   "metadata": {},
   "outputs": [
    {
     "output_type": "stream",
     "name": "stderr",
     "text": [
      "  0%|          | 0/170498071 [00:00<?, ?it/s]Downloading https://www.cs.toronto.edu/~kriz/cifar-10-python.tar.gz to /home/javaprog/Data/Personal/Scratch/cifar-10-python.tar.gz\n",
      "100%|█████████▉| 170008576/170498071 [00:22<00:00, 6735314.49it/s]Extracting /home/javaprog/Data/Personal/Scratch/cifar-10-python.tar.gz to /home/javaprog/Data/Personal/Scratch/\n",
      "Files already downloaded and verified\n"
     ]
    }
   ],
   "source": [
    "# import the image data\n",
    "scratch_dir = \"/home/javaprog/Data/Personal/Scratch/\"\n",
    "cifar10 = datasets.CIFAR10(scratch_dir, train=True, download=True)\n",
    "cifar10_validation = datasets.CIFAR10(scratch_dir, train=False, download=True)"
   ]
  },
  {
   "cell_type": "code",
   "execution_count": 4,
   "metadata": {},
   "outputs": [
    {
     "output_type": "execute_result",
     "data": {
      "text/plain": [
       "(torchvision.datasets.cifar.CIFAR10,\n",
       " torchvision.datasets.vision.VisionDataset,\n",
       " torch.utils.data.dataset.Dataset,\n",
       " object)"
      ]
     },
     "metadata": {},
     "execution_count": 4
    }
   ],
   "source": [
    "# print the method resolution order of the dataset\n",
    "type(cifar10).__mro__"
   ]
  },
  {
   "cell_type": "code",
   "execution_count": 5,
   "metadata": {},
   "outputs": [
    {
     "output_type": "execute_result",
     "data": {
      "text/plain": [
       "50000"
      ]
     },
     "metadata": {},
     "execution_count": 5
    }
   ],
   "source": [
    "# get the length of the dataset\n",
    "len(cifar10)"
   ]
  },
  {
   "cell_type": "code",
   "execution_count": 10,
   "metadata": {},
   "outputs": [],
   "source": [
    "# get the class names\n",
    "class_names = cifar10.classes"
   ]
  },
  {
   "cell_type": "code",
   "execution_count": 9,
   "metadata": {},
   "outputs": [
    {
     "output_type": "execute_result",
     "data": {
      "text/plain": [
       "(<PIL.Image.Image image mode=RGB size=32x32 at 0x7F5C582883C8>, 0, 'airplane')"
      ]
     },
     "metadata": {},
     "execution_count": 9
    }
   ],
   "source": [
    "# print an image\n",
    "index = 77\n",
    "image, label = cifar10[index]\n",
    "image, label, class_names[label]"
   ]
  },
  {
   "cell_type": "code",
   "execution_count": 12,
   "metadata": {},
   "outputs": [
    {
     "output_type": "display_data",
     "data": {
      "text/plain": "<Figure size 432x288 with 1 Axes>",
      "image/svg+xml": "<?xml version=\"1.0\" encoding=\"utf-8\" standalone=\"no\"?>\n<!DOCTYPE svg PUBLIC \"-//W3C//DTD SVG 1.1//EN\"\n  \"http://www.w3.org/Graphics/SVG/1.1/DTD/svg11.dtd\">\n<!-- Created with matplotlib (https://matplotlib.org/) -->\n<svg height=\"248.919844pt\" version=\"1.1\" viewBox=\"0 0 251.565 248.919844\" width=\"251.565pt\" xmlns=\"http://www.w3.org/2000/svg\" xmlns:xlink=\"http://www.w3.org/1999/xlink\">\n <metadata>\n  <rdf:RDF xmlns:cc=\"http://creativecommons.org/ns#\" xmlns:dc=\"http://purl.org/dc/elements/1.1/\" xmlns:rdf=\"http://www.w3.org/1999/02/22-rdf-syntax-ns#\">\n   <cc:Work>\n    <dc:type rdf:resource=\"http://purl.org/dc/dcmitype/StillImage\"/>\n    <dc:date>2020-10-10T22:16:00.064075</dc:date>\n    <dc:format>image/svg+xml</dc:format>\n    <dc:creator>\n     <cc:Agent>\n      <dc:title>Matplotlib v3.3.2, https://matplotlib.org/</dc:title>\n     </cc:Agent>\n    </dc:creator>\n   </cc:Work>\n  </rdf:RDF>\n </metadata>\n <defs>\n  <style type=\"text/css\">*{stroke-linecap:butt;stroke-linejoin:round;}</style>\n </defs>\n <g id=\"figure_1\">\n  <g id=\"patch_1\">\n   <path d=\"M 0 248.919844 \nL 251.565 248.919844 \nL 251.565 0 \nL 0 0 \nz\n\" style=\"fill:none;\"/>\n  </g>\n  <g id=\"axes_1\">\n   <g id=\"patch_2\">\n    <path d=\"M 26.925 225.041719 \nL 244.365 225.041719 \nL 244.365 7.601719 \nL 26.925 7.601719 \nz\n\" style=\"fill:#ffffff;\"/>\n   </g>\n   <g clip-path=\"url(#pdacb9b0e23)\">\n    <image height=\"218\" id=\"imagef462261152\" transform=\"scale(1 -1)translate(0 -218)\" width=\"218\" x=\"26.925\" xlink:href=\"data:image/png;base64,\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\" y=\"-7.041719\"/>\n   </g>\n   <g id=\"matplotlib.axis_1\">\n    <g id=\"xtick_1\">\n     <g id=\"line2d_1\">\n      <defs>\n       <path d=\"M 0 0 \nL 0 3.5 \n\" id=\"m1e607ac4bd\" style=\"stroke:#000000;stroke-width:0.8;\"/>\n      </defs>\n      <g>\n       <use style=\"stroke:#000000;stroke-width:0.8;\" x=\"30.3225\" xlink:href=\"#m1e607ac4bd\" y=\"225.041719\"/>\n      </g>\n     </g>\n     <g id=\"text_1\">\n      <!-- 0 -->\n      <g transform=\"translate(27.14125 239.640156)scale(0.1 -0.1)\">\n       <defs>\n        <path d=\"M 31.78125 66.40625 \nQ 24.171875 66.40625 20.328125 58.90625 \nQ 16.5 51.421875 16.5 36.375 \nQ 16.5 21.390625 20.328125 13.890625 \nQ 24.171875 6.390625 31.78125 6.390625 \nQ 39.453125 6.390625 43.28125 13.890625 \nQ 47.125 21.390625 47.125 36.375 \nQ 47.125 51.421875 43.28125 58.90625 \nQ 39.453125 66.40625 31.78125 66.40625 \nz\nM 31.78125 74.21875 \nQ 44.046875 74.21875 50.515625 64.515625 \nQ 56.984375 54.828125 56.984375 36.375 \nQ 56.984375 17.96875 50.515625 8.265625 \nQ 44.046875 -1.421875 31.78125 -1.421875 \nQ 19.53125 -1.421875 13.0625 8.265625 \nQ 6.59375 17.96875 6.59375 36.375 \nQ 6.59375 54.828125 13.0625 64.515625 \nQ 19.53125 74.21875 31.78125 74.21875 \nz\n\" id=\"DejaVuSans-48\"/>\n       </defs>\n       <use xlink:href=\"#DejaVuSans-48\"/>\n      </g>\n     </g>\n    </g>\n    <g id=\"xtick_2\">\n     <g id=\"line2d_2\">\n      <g>\n       <use style=\"stroke:#000000;stroke-width:0.8;\" x=\"64.2975\" xlink:href=\"#m1e607ac4bd\" y=\"225.041719\"/>\n      </g>\n     </g>\n     <g id=\"text_2\">\n      <!-- 5 -->\n      <g transform=\"translate(61.11625 239.640156)scale(0.1 -0.1)\">\n       <defs>\n        <path d=\"M 10.796875 72.90625 \nL 49.515625 72.90625 \nL 49.515625 64.59375 \nL 19.828125 64.59375 \nL 19.828125 46.734375 \nQ 21.96875 47.46875 24.109375 47.828125 \nQ 26.265625 48.1875 28.421875 48.1875 \nQ 40.625 48.1875 47.75 41.5 \nQ 54.890625 34.8125 54.890625 23.390625 \nQ 54.890625 11.625 47.5625 5.09375 \nQ 40.234375 -1.421875 26.90625 -1.421875 \nQ 22.3125 -1.421875 17.546875 -0.640625 \nQ 12.796875 0.140625 7.71875 1.703125 \nL 7.71875 11.625 \nQ 12.109375 9.234375 16.796875 8.0625 \nQ 21.484375 6.890625 26.703125 6.890625 \nQ 35.15625 6.890625 40.078125 11.328125 \nQ 45.015625 15.765625 45.015625 23.390625 \nQ 45.015625 31 40.078125 35.4375 \nQ 35.15625 39.890625 26.703125 39.890625 \nQ 22.75 39.890625 18.8125 39.015625 \nQ 14.890625 38.140625 10.796875 36.28125 \nz\n\" id=\"DejaVuSans-53\"/>\n       </defs>\n       <use xlink:href=\"#DejaVuSans-53\"/>\n      </g>\n     </g>\n    </g>\n    <g id=\"xtick_3\">\n     <g id=\"line2d_3\">\n      <g>\n       <use style=\"stroke:#000000;stroke-width:0.8;\" x=\"98.2725\" xlink:href=\"#m1e607ac4bd\" y=\"225.041719\"/>\n      </g>\n     </g>\n     <g id=\"text_3\">\n      <!-- 10 -->\n      <g transform=\"translate(91.91 239.640156)scale(0.1 -0.1)\">\n       <defs>\n        <path d=\"M 12.40625 8.296875 \nL 28.515625 8.296875 \nL 28.515625 63.921875 \nL 10.984375 60.40625 \nL 10.984375 69.390625 \nL 28.421875 72.90625 \nL 38.28125 72.90625 \nL 38.28125 8.296875 \nL 54.390625 8.296875 \nL 54.390625 0 \nL 12.40625 0 \nz\n\" id=\"DejaVuSans-49\"/>\n       </defs>\n       <use xlink:href=\"#DejaVuSans-49\"/>\n       <use x=\"63.623047\" xlink:href=\"#DejaVuSans-48\"/>\n      </g>\n     </g>\n    </g>\n    <g id=\"xtick_4\">\n     <g id=\"line2d_4\">\n      <g>\n       <use style=\"stroke:#000000;stroke-width:0.8;\" x=\"132.2475\" xlink:href=\"#m1e607ac4bd\" y=\"225.041719\"/>\n      </g>\n     </g>\n     <g id=\"text_4\">\n      <!-- 15 -->\n      <g transform=\"translate(125.885 239.640156)scale(0.1 -0.1)\">\n       <use xlink:href=\"#DejaVuSans-49\"/>\n       <use x=\"63.623047\" xlink:href=\"#DejaVuSans-53\"/>\n      </g>\n     </g>\n    </g>\n    <g id=\"xtick_5\">\n     <g id=\"line2d_5\">\n      <g>\n       <use style=\"stroke:#000000;stroke-width:0.8;\" x=\"166.2225\" xlink:href=\"#m1e607ac4bd\" y=\"225.041719\"/>\n      </g>\n     </g>\n     <g id=\"text_5\">\n      <!-- 20 -->\n      <g transform=\"translate(159.86 239.640156)scale(0.1 -0.1)\">\n       <defs>\n        <path d=\"M 19.1875 8.296875 \nL 53.609375 8.296875 \nL 53.609375 0 \nL 7.328125 0 \nL 7.328125 8.296875 \nQ 12.9375 14.109375 22.625 23.890625 \nQ 32.328125 33.6875 34.8125 36.53125 \nQ 39.546875 41.84375 41.421875 45.53125 \nQ 43.3125 49.21875 43.3125 52.78125 \nQ 43.3125 58.59375 39.234375 62.25 \nQ 35.15625 65.921875 28.609375 65.921875 \nQ 23.96875 65.921875 18.8125 64.3125 \nQ 13.671875 62.703125 7.8125 59.421875 \nL 7.8125 69.390625 \nQ 13.765625 71.78125 18.9375 73 \nQ 24.125 74.21875 28.421875 74.21875 \nQ 39.75 74.21875 46.484375 68.546875 \nQ 53.21875 62.890625 53.21875 53.421875 \nQ 53.21875 48.921875 51.53125 44.890625 \nQ 49.859375 40.875 45.40625 35.40625 \nQ 44.1875 33.984375 37.640625 27.21875 \nQ 31.109375 20.453125 19.1875 8.296875 \nz\n\" id=\"DejaVuSans-50\"/>\n       </defs>\n       <use xlink:href=\"#DejaVuSans-50\"/>\n       <use x=\"63.623047\" xlink:href=\"#DejaVuSans-48\"/>\n      </g>\n     </g>\n    </g>\n    <g id=\"xtick_6\">\n     <g id=\"line2d_6\">\n      <g>\n       <use style=\"stroke:#000000;stroke-width:0.8;\" x=\"200.1975\" xlink:href=\"#m1e607ac4bd\" y=\"225.041719\"/>\n      </g>\n     </g>\n     <g id=\"text_6\">\n      <!-- 25 -->\n      <g transform=\"translate(193.835 239.640156)scale(0.1 -0.1)\">\n       <use xlink:href=\"#DejaVuSans-50\"/>\n       <use x=\"63.623047\" xlink:href=\"#DejaVuSans-53\"/>\n      </g>\n     </g>\n    </g>\n    <g id=\"xtick_7\">\n     <g id=\"line2d_7\">\n      <g>\n       <use style=\"stroke:#000000;stroke-width:0.8;\" x=\"234.1725\" xlink:href=\"#m1e607ac4bd\" y=\"225.041719\"/>\n      </g>\n     </g>\n     <g id=\"text_7\">\n      <!-- 30 -->\n      <g transform=\"translate(227.81 239.640156)scale(0.1 -0.1)\">\n       <defs>\n        <path d=\"M 40.578125 39.3125 \nQ 47.65625 37.796875 51.625 33 \nQ 55.609375 28.21875 55.609375 21.1875 \nQ 55.609375 10.40625 48.1875 4.484375 \nQ 40.765625 -1.421875 27.09375 -1.421875 \nQ 22.515625 -1.421875 17.65625 -0.515625 \nQ 12.796875 0.390625 7.625 2.203125 \nL 7.625 11.71875 \nQ 11.71875 9.328125 16.59375 8.109375 \nQ 21.484375 6.890625 26.8125 6.890625 \nQ 36.078125 6.890625 40.9375 10.546875 \nQ 45.796875 14.203125 45.796875 21.1875 \nQ 45.796875 27.640625 41.28125 31.265625 \nQ 36.765625 34.90625 28.71875 34.90625 \nL 20.21875 34.90625 \nL 20.21875 43.015625 \nL 29.109375 43.015625 \nQ 36.375 43.015625 40.234375 45.921875 \nQ 44.09375 48.828125 44.09375 54.296875 \nQ 44.09375 59.90625 40.109375 62.90625 \nQ 36.140625 65.921875 28.71875 65.921875 \nQ 24.65625 65.921875 20.015625 65.03125 \nQ 15.375 64.15625 9.8125 62.3125 \nL 9.8125 71.09375 \nQ 15.4375 72.65625 20.34375 73.4375 \nQ 25.25 74.21875 29.59375 74.21875 \nQ 40.828125 74.21875 47.359375 69.109375 \nQ 53.90625 64.015625 53.90625 55.328125 \nQ 53.90625 49.265625 50.4375 45.09375 \nQ 46.96875 40.921875 40.578125 39.3125 \nz\n\" id=\"DejaVuSans-51\"/>\n       </defs>\n       <use xlink:href=\"#DejaVuSans-51\"/>\n       <use x=\"63.623047\" xlink:href=\"#DejaVuSans-48\"/>\n      </g>\n     </g>\n    </g>\n   </g>\n   <g id=\"matplotlib.axis_2\">\n    <g id=\"ytick_1\">\n     <g id=\"line2d_8\">\n      <defs>\n       <path d=\"M 0 0 \nL -3.5 0 \n\" id=\"m62a5c59447\" style=\"stroke:#000000;stroke-width:0.8;\"/>\n      </defs>\n      <g>\n       <use style=\"stroke:#000000;stroke-width:0.8;\" x=\"26.925\" xlink:href=\"#m62a5c59447\" y=\"10.999219\"/>\n      </g>\n     </g>\n     <g id=\"text_8\">\n      <!-- 0 -->\n      <g transform=\"translate(13.5625 14.798437)scale(0.1 -0.1)\">\n       <use xlink:href=\"#DejaVuSans-48\"/>\n      </g>\n     </g>\n    </g>\n    <g id=\"ytick_2\">\n     <g id=\"line2d_9\">\n      <g>\n       <use style=\"stroke:#000000;stroke-width:0.8;\" x=\"26.925\" xlink:href=\"#m62a5c59447\" y=\"44.974219\"/>\n      </g>\n     </g>\n     <g id=\"text_9\">\n      <!-- 5 -->\n      <g transform=\"translate(13.5625 48.773437)scale(0.1 -0.1)\">\n       <use xlink:href=\"#DejaVuSans-53\"/>\n      </g>\n     </g>\n    </g>\n    <g id=\"ytick_3\">\n     <g id=\"line2d_10\">\n      <g>\n       <use style=\"stroke:#000000;stroke-width:0.8;\" x=\"26.925\" xlink:href=\"#m62a5c59447\" y=\"78.949219\"/>\n      </g>\n     </g>\n     <g id=\"text_10\">\n      <!-- 10 -->\n      <g transform=\"translate(7.2 82.748437)scale(0.1 -0.1)\">\n       <use xlink:href=\"#DejaVuSans-49\"/>\n       <use x=\"63.623047\" xlink:href=\"#DejaVuSans-48\"/>\n      </g>\n     </g>\n    </g>\n    <g id=\"ytick_4\">\n     <g id=\"line2d_11\">\n      <g>\n       <use style=\"stroke:#000000;stroke-width:0.8;\" x=\"26.925\" xlink:href=\"#m62a5c59447\" y=\"112.924219\"/>\n      </g>\n     </g>\n     <g id=\"text_11\">\n      <!-- 15 -->\n      <g transform=\"translate(7.2 116.723437)scale(0.1 -0.1)\">\n       <use xlink:href=\"#DejaVuSans-49\"/>\n       <use x=\"63.623047\" xlink:href=\"#DejaVuSans-53\"/>\n      </g>\n     </g>\n    </g>\n    <g id=\"ytick_5\">\n     <g id=\"line2d_12\">\n      <g>\n       <use style=\"stroke:#000000;stroke-width:0.8;\" x=\"26.925\" xlink:href=\"#m62a5c59447\" y=\"146.899219\"/>\n      </g>\n     </g>\n     <g id=\"text_12\">\n      <!-- 20 -->\n      <g transform=\"translate(7.2 150.698437)scale(0.1 -0.1)\">\n       <use xlink:href=\"#DejaVuSans-50\"/>\n       <use x=\"63.623047\" xlink:href=\"#DejaVuSans-48\"/>\n      </g>\n     </g>\n    </g>\n    <g id=\"ytick_6\">\n     <g id=\"line2d_13\">\n      <g>\n       <use style=\"stroke:#000000;stroke-width:0.8;\" x=\"26.925\" xlink:href=\"#m62a5c59447\" y=\"180.874219\"/>\n      </g>\n     </g>\n     <g id=\"text_13\">\n      <!-- 25 -->\n      <g transform=\"translate(7.2 184.673437)scale(0.1 -0.1)\">\n       <use xlink:href=\"#DejaVuSans-50\"/>\n       <use x=\"63.623047\" xlink:href=\"#DejaVuSans-53\"/>\n      </g>\n     </g>\n    </g>\n    <g id=\"ytick_7\">\n     <g id=\"line2d_14\">\n      <g>\n       <use style=\"stroke:#000000;stroke-width:0.8;\" x=\"26.925\" xlink:href=\"#m62a5c59447\" y=\"214.849219\"/>\n      </g>\n     </g>\n     <g id=\"text_14\">\n      <!-- 30 -->\n      <g transform=\"translate(7.2 218.648437)scale(0.1 -0.1)\">\n       <use xlink:href=\"#DejaVuSans-51\"/>\n       <use x=\"63.623047\" xlink:href=\"#DejaVuSans-48\"/>\n      </g>\n     </g>\n    </g>\n   </g>\n   <g id=\"patch_3\">\n    <path d=\"M 26.925 225.041719 \nL 26.925 7.601719 \n\" style=\"fill:none;stroke:#000000;stroke-linecap:square;stroke-linejoin:miter;stroke-width:0.8;\"/>\n   </g>\n   <g id=\"patch_4\">\n    <path d=\"M 244.365 225.041719 \nL 244.365 7.601719 \n\" style=\"fill:none;stroke:#000000;stroke-linecap:square;stroke-linejoin:miter;stroke-width:0.8;\"/>\n   </g>\n   <g id=\"patch_5\">\n    <path d=\"M 26.925 225.041719 \nL 244.365 225.041719 \n\" style=\"fill:none;stroke:#000000;stroke-linecap:square;stroke-linejoin:miter;stroke-width:0.8;\"/>\n   </g>\n   <g id=\"patch_6\">\n    <path d=\"M 26.925 7.601719 \nL 244.365 7.601719 \n\" style=\"fill:none;stroke:#000000;stroke-linecap:square;stroke-linejoin:miter;stroke-width:0.8;\"/>\n   </g>\n  </g>\n </g>\n <defs>\n  <clipPath id=\"pdacb9b0e23\">\n   <rect height=\"217.44\" width=\"217.44\" x=\"26.925\" y=\"7.601719\"/>\n  </clipPath>\n </defs>\n</svg>\n",
      "image/png": "[encoded data removed]"
     },
     "metadata": {
      "needs_background": "light"
     }
    }
   ],
   "source": [
    "# print the images\n",
    "plt.imshow(image)\n",
    "plt.show()"
   ]
  },
  {
   "cell_type": "code",
   "execution_count": 14,
   "metadata": {},
   "outputs": [
    {
     "output_type": "execute_result",
     "data": {
      "text/plain": [
       "['CenterCrop',\n",
       " 'ColorJitter',\n",
       " 'Compose',\n",
       " 'ConvertImageDtype',\n",
       " 'FiveCrop',\n",
       " 'Grayscale',\n",
       " 'Lambda',\n",
       " 'LinearTransformation',\n",
       " 'Normalize',\n",
       " 'PILToTensor',\n",
       " 'Pad',\n",
       " 'RandomAffine',\n",
       " 'RandomApply',\n",
       " 'RandomChoice',\n",
       " 'RandomCrop',\n",
       " 'RandomErasing',\n",
       " 'RandomGrayscale',\n",
       " 'RandomHorizontalFlip',\n",
       " 'RandomOrder',\n",
       " 'RandomPerspective',\n",
       " 'RandomResizedCrop',\n",
       " 'RandomRotation',\n",
       " 'RandomSizedCrop',\n",
       " 'RandomVerticalFlip',\n",
       " 'Resize',\n",
       " 'Scale',\n",
       " 'TenCrop',\n",
       " 'ToPILImage',\n",
       " 'ToTensor',\n",
       " '__builtins__',\n",
       " '__cached__',\n",
       " '__doc__',\n",
       " '__file__',\n",
       " '__loader__',\n",
       " '__name__',\n",
       " '__package__',\n",
       " '__path__',\n",
       " '__spec__',\n",
       " 'functional',\n",
       " 'functional_pil',\n",
       " 'functional_tensor',\n",
       " 'transforms']"
      ]
     },
     "metadata": {},
     "execution_count": 14
    }
   ],
   "source": [
    "# list the transforms\n",
    "dir(transforms)\n"
   ]
  },
  {
   "cell_type": "code",
   "execution_count": 16,
   "metadata": {},
   "outputs": [
    {
     "output_type": "stream",
     "name": "stdout",
     "text": [
      "the image tensor shpw is torch.Size([3, 32, 32])\n"
     ]
    }
   ],
   "source": [
    "# input the image into a tensor\n",
    "to_tensor = transforms.ToTensor()\n",
    "image_tensor = to_tensor(image)\n",
    "print(\"the image tensor shpw is {}\".format(image_tensor.shape))\n"
   ]
  },
  {
   "cell_type": "code",
   "execution_count": 19,
   "metadata": {},
   "outputs": [
    {
     "output_type": "stream",
     "name": "stdout",
     "text": [
      "the dataset length is 50000\n"
     ]
    }
   ],
   "source": [
    "# reload cifar10 into tensor format\n",
    "cifar10_tensor = datasets.CIFAR10(scratch_dir, train=True, download=False, transform=transforms.ToTensor())\n",
    "print(\"the dataset length is {}\".format(len(cifar10_tensor)))\n"
   ]
  },
  {
   "cell_type": "code",
   "execution_count": 21,
   "metadata": {},
   "outputs": [
    {
     "output_type": "stream",
     "name": "stdout",
     "text": [
      "the tensored image at index 77 is of shape torch.Size([3, 32, 32]) and type <class 'torch.Tensor'> and datatype torch.float32\n"
     ]
    }
   ],
   "source": [
    "# get the image from the tensored dataset\n",
    "image_tensored, label = cifar10_tensor[index]\n",
    "print(\"the tensored image at index {} is of shape {} and type {} and datatype {}\".format(index, image_tensored.shape, type(image_tensored), image_tensored.dtype))"
   ]
  },
  {
   "cell_type": "code",
   "execution_count": 24,
   "metadata": {},
   "outputs": [
    {
     "output_type": "display_data",
     "data": {
      "text/plain": "<Figure size 432x288 with 1 Axes>",
      "image/svg+xml": "<?xml version=\"1.0\" encoding=\"utf-8\" standalone=\"no\"?>\n<!DOCTYPE svg PUBLIC \"-//W3C//DTD SVG 1.1//EN\"\n  \"http://www.w3.org/Graphics/SVG/1.1/DTD/svg11.dtd\">\n<!-- Created with matplotlib (https://matplotlib.org/) -->\n<svg height=\"248.919844pt\" version=\"1.1\" viewBox=\"0 0 251.565 248.919844\" width=\"251.565pt\" xmlns=\"http://www.w3.org/2000/svg\" xmlns:xlink=\"http://www.w3.org/1999/xlink\">\n <metadata>\n  <rdf:RDF xmlns:cc=\"http://creativecommons.org/ns#\" xmlns:dc=\"http://purl.org/dc/elements/1.1/\" xmlns:rdf=\"http://www.w3.org/1999/02/22-rdf-syntax-ns#\">\n   <cc:Work>\n    <dc:type rdf:resource=\"http://purl.org/dc/dcmitype/StillImage\"/>\n    <dc:date>2020-10-10T22:28:29.701258</dc:date>\n    <dc:format>image/svg+xml</dc:format>\n    <dc:creator>\n     <cc:Agent>\n      <dc:title>Matplotlib v3.3.2, https://matplotlib.org/</dc:title>\n     </cc:Agent>\n    </dc:creator>\n   </cc:Work>\n  </rdf:RDF>\n </metadata>\n <defs>\n  <style type=\"text/css\">*{stroke-linecap:butt;stroke-linejoin:round;}</style>\n </defs>\n <g id=\"figure_1\">\n  <g id=\"patch_1\">\n   <path d=\"M 0 248.919844 \nL 251.565 248.919844 \nL 251.565 0 \nL 0 0 \nz\n\" style=\"fill:none;\"/>\n  </g>\n  <g id=\"axes_1\">\n   <g id=\"patch_2\">\n    <path d=\"M 26.925 225.041719 \nL 244.365 225.041719 \nL 244.365 7.601719 \nL 26.925 7.601719 \nz\n\" style=\"fill:#ffffff;\"/>\n   </g>\n   <g clip-path=\"url(#pd2a785825f)\">\n    <image height=\"218\" id=\"image8f0f4276cf\" transform=\"scale(1 -1)translate(0 -218)\" width=\"218\" x=\"26.925\" xlink:href=\"data:image/png;base64,\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\" y=\"-7.041719\"/>\n   </g>\n   <g id=\"matplotlib.axis_1\">\n    <g id=\"xtick_1\">\n     <g id=\"line2d_1\">\n      <defs>\n       <path d=\"M 0 0 \nL 0 3.5 \n\" id=\"m0e590727db\" style=\"stroke:#000000;stroke-width:0.8;\"/>\n      </defs>\n      <g>\n       <use style=\"stroke:#000000;stroke-width:0.8;\" x=\"30.3225\" xlink:href=\"#m0e590727db\" y=\"225.041719\"/>\n      </g>\n     </g>\n     <g id=\"text_1\">\n      <!-- 0 -->\n      <g transform=\"translate(27.14125 239.640156)scale(0.1 -0.1)\">\n       <defs>\n        <path d=\"M 31.78125 66.40625 \nQ 24.171875 66.40625 20.328125 58.90625 \nQ 16.5 51.421875 16.5 36.375 \nQ 16.5 21.390625 20.328125 13.890625 \nQ 24.171875 6.390625 31.78125 6.390625 \nQ 39.453125 6.390625 43.28125 13.890625 \nQ 47.125 21.390625 47.125 36.375 \nQ 47.125 51.421875 43.28125 58.90625 \nQ 39.453125 66.40625 31.78125 66.40625 \nz\nM 31.78125 74.21875 \nQ 44.046875 74.21875 50.515625 64.515625 \nQ 56.984375 54.828125 56.984375 36.375 \nQ 56.984375 17.96875 50.515625 8.265625 \nQ 44.046875 -1.421875 31.78125 -1.421875 \nQ 19.53125 -1.421875 13.0625 8.265625 \nQ 6.59375 17.96875 6.59375 36.375 \nQ 6.59375 54.828125 13.0625 64.515625 \nQ 19.53125 74.21875 31.78125 74.21875 \nz\n\" id=\"DejaVuSans-48\"/>\n       </defs>\n       <use xlink:href=\"#DejaVuSans-48\"/>\n      </g>\n     </g>\n    </g>\n    <g id=\"xtick_2\">\n     <g id=\"line2d_2\">\n      <g>\n       <use style=\"stroke:#000000;stroke-width:0.8;\" x=\"64.2975\" xlink:href=\"#m0e590727db\" y=\"225.041719\"/>\n      </g>\n     </g>\n     <g id=\"text_2\">\n      <!-- 5 -->\n      <g transform=\"translate(61.11625 239.640156)scale(0.1 -0.1)\">\n       <defs>\n        <path d=\"M 10.796875 72.90625 \nL 49.515625 72.90625 \nL 49.515625 64.59375 \nL 19.828125 64.59375 \nL 19.828125 46.734375 \nQ 21.96875 47.46875 24.109375 47.828125 \nQ 26.265625 48.1875 28.421875 48.1875 \nQ 40.625 48.1875 47.75 41.5 \nQ 54.890625 34.8125 54.890625 23.390625 \nQ 54.890625 11.625 47.5625 5.09375 \nQ 40.234375 -1.421875 26.90625 -1.421875 \nQ 22.3125 -1.421875 17.546875 -0.640625 \nQ 12.796875 0.140625 7.71875 1.703125 \nL 7.71875 11.625 \nQ 12.109375 9.234375 16.796875 8.0625 \nQ 21.484375 6.890625 26.703125 6.890625 \nQ 35.15625 6.890625 40.078125 11.328125 \nQ 45.015625 15.765625 45.015625 23.390625 \nQ 45.015625 31 40.078125 35.4375 \nQ 35.15625 39.890625 26.703125 39.890625 \nQ 22.75 39.890625 18.8125 39.015625 \nQ 14.890625 38.140625 10.796875 36.28125 \nz\n\" id=\"DejaVuSans-53\"/>\n       </defs>\n       <use xlink:href=\"#DejaVuSans-53\"/>\n      </g>\n     </g>\n    </g>\n    <g id=\"xtick_3\">\n     <g id=\"line2d_3\">\n      <g>\n       <use style=\"stroke:#000000;stroke-width:0.8;\" x=\"98.2725\" xlink:href=\"#m0e590727db\" y=\"225.041719\"/>\n      </g>\n     </g>\n     <g id=\"text_3\">\n      <!-- 10 -->\n      <g transform=\"translate(91.91 239.640156)scale(0.1 -0.1)\">\n       <defs>\n        <path d=\"M 12.40625 8.296875 \nL 28.515625 8.296875 \nL 28.515625 63.921875 \nL 10.984375 60.40625 \nL 10.984375 69.390625 \nL 28.421875 72.90625 \nL 38.28125 72.90625 \nL 38.28125 8.296875 \nL 54.390625 8.296875 \nL 54.390625 0 \nL 12.40625 0 \nz\n\" id=\"DejaVuSans-49\"/>\n       </defs>\n       <use xlink:href=\"#DejaVuSans-49\"/>\n       <use x=\"63.623047\" xlink:href=\"#DejaVuSans-48\"/>\n      </g>\n     </g>\n    </g>\n    <g id=\"xtick_4\">\n     <g id=\"line2d_4\">\n      <g>\n       <use style=\"stroke:#000000;stroke-width:0.8;\" x=\"132.2475\" xlink:href=\"#m0e590727db\" y=\"225.041719\"/>\n      </g>\n     </g>\n     <g id=\"text_4\">\n      <!-- 15 -->\n      <g transform=\"translate(125.885 239.640156)scale(0.1 -0.1)\">\n       <use xlink:href=\"#DejaVuSans-49\"/>\n       <use x=\"63.623047\" xlink:href=\"#DejaVuSans-53\"/>\n      </g>\n     </g>\n    </g>\n    <g id=\"xtick_5\">\n     <g id=\"line2d_5\">\n      <g>\n       <use style=\"stroke:#000000;stroke-width:0.8;\" x=\"166.2225\" xlink:href=\"#m0e590727db\" y=\"225.041719\"/>\n      </g>\n     </g>\n     <g id=\"text_5\">\n      <!-- 20 -->\n      <g transform=\"translate(159.86 239.640156)scale(0.1 -0.1)\">\n       <defs>\n        <path d=\"M 19.1875 8.296875 \nL 53.609375 8.296875 \nL 53.609375 0 \nL 7.328125 0 \nL 7.328125 8.296875 \nQ 12.9375 14.109375 22.625 23.890625 \nQ 32.328125 33.6875 34.8125 36.53125 \nQ 39.546875 41.84375 41.421875 45.53125 \nQ 43.3125 49.21875 43.3125 52.78125 \nQ 43.3125 58.59375 39.234375 62.25 \nQ 35.15625 65.921875 28.609375 65.921875 \nQ 23.96875 65.921875 18.8125 64.3125 \nQ 13.671875 62.703125 7.8125 59.421875 \nL 7.8125 69.390625 \nQ 13.765625 71.78125 18.9375 73 \nQ 24.125 74.21875 28.421875 74.21875 \nQ 39.75 74.21875 46.484375 68.546875 \nQ 53.21875 62.890625 53.21875 53.421875 \nQ 53.21875 48.921875 51.53125 44.890625 \nQ 49.859375 40.875 45.40625 35.40625 \nQ 44.1875 33.984375 37.640625 27.21875 \nQ 31.109375 20.453125 19.1875 8.296875 \nz\n\" id=\"DejaVuSans-50\"/>\n       </defs>\n       <use xlink:href=\"#DejaVuSans-50\"/>\n       <use x=\"63.623047\" xlink:href=\"#DejaVuSans-48\"/>\n      </g>\n     </g>\n    </g>\n    <g id=\"xtick_6\">\n     <g id=\"line2d_6\">\n      <g>\n       <use style=\"stroke:#000000;stroke-width:0.8;\" x=\"200.1975\" xlink:href=\"#m0e590727db\" y=\"225.041719\"/>\n      </g>\n     </g>\n     <g id=\"text_6\">\n      <!-- 25 -->\n      <g transform=\"translate(193.835 239.640156)scale(0.1 -0.1)\">\n       <use xlink:href=\"#DejaVuSans-50\"/>\n       <use x=\"63.623047\" xlink:href=\"#DejaVuSans-53\"/>\n      </g>\n     </g>\n    </g>\n    <g id=\"xtick_7\">\n     <g id=\"line2d_7\">\n      <g>\n       <use style=\"stroke:#000000;stroke-width:0.8;\" x=\"234.1725\" xlink:href=\"#m0e590727db\" y=\"225.041719\"/>\n      </g>\n     </g>\n     <g id=\"text_7\">\n      <!-- 30 -->\n      <g transform=\"translate(227.81 239.640156)scale(0.1 -0.1)\">\n       <defs>\n        <path d=\"M 40.578125 39.3125 \nQ 47.65625 37.796875 51.625 33 \nQ 55.609375 28.21875 55.609375 21.1875 \nQ 55.609375 10.40625 48.1875 4.484375 \nQ 40.765625 -1.421875 27.09375 -1.421875 \nQ 22.515625 -1.421875 17.65625 -0.515625 \nQ 12.796875 0.390625 7.625 2.203125 \nL 7.625 11.71875 \nQ 11.71875 9.328125 16.59375 8.109375 \nQ 21.484375 6.890625 26.8125 6.890625 \nQ 36.078125 6.890625 40.9375 10.546875 \nQ 45.796875 14.203125 45.796875 21.1875 \nQ 45.796875 27.640625 41.28125 31.265625 \nQ 36.765625 34.90625 28.71875 34.90625 \nL 20.21875 34.90625 \nL 20.21875 43.015625 \nL 29.109375 43.015625 \nQ 36.375 43.015625 40.234375 45.921875 \nQ 44.09375 48.828125 44.09375 54.296875 \nQ 44.09375 59.90625 40.109375 62.90625 \nQ 36.140625 65.921875 28.71875 65.921875 \nQ 24.65625 65.921875 20.015625 65.03125 \nQ 15.375 64.15625 9.8125 62.3125 \nL 9.8125 71.09375 \nQ 15.4375 72.65625 20.34375 73.4375 \nQ 25.25 74.21875 29.59375 74.21875 \nQ 40.828125 74.21875 47.359375 69.109375 \nQ 53.90625 64.015625 53.90625 55.328125 \nQ 53.90625 49.265625 50.4375 45.09375 \nQ 46.96875 40.921875 40.578125 39.3125 \nz\n\" id=\"DejaVuSans-51\"/>\n       </defs>\n       <use xlink:href=\"#DejaVuSans-51\"/>\n       <use x=\"63.623047\" xlink:href=\"#DejaVuSans-48\"/>\n      </g>\n     </g>\n    </g>\n   </g>\n   <g id=\"matplotlib.axis_2\">\n    <g id=\"ytick_1\">\n     <g id=\"line2d_8\">\n      <defs>\n       <path d=\"M 0 0 \nL -3.5 0 \n\" id=\"m271c09dc16\" style=\"stroke:#000000;stroke-width:0.8;\"/>\n      </defs>\n      <g>\n       <use style=\"stroke:#000000;stroke-width:0.8;\" x=\"26.925\" xlink:href=\"#m271c09dc16\" y=\"10.999219\"/>\n      </g>\n     </g>\n     <g id=\"text_8\">\n      <!-- 0 -->\n      <g transform=\"translate(13.5625 14.798437)scale(0.1 -0.1)\">\n       <use xlink:href=\"#DejaVuSans-48\"/>\n      </g>\n     </g>\n    </g>\n    <g id=\"ytick_2\">\n     <g id=\"line2d_9\">\n      <g>\n       <use style=\"stroke:#000000;stroke-width:0.8;\" x=\"26.925\" xlink:href=\"#m271c09dc16\" y=\"44.974219\"/>\n      </g>\n     </g>\n     <g id=\"text_9\">\n      <!-- 5 -->\n      <g transform=\"translate(13.5625 48.773437)scale(0.1 -0.1)\">\n       <use xlink:href=\"#DejaVuSans-53\"/>\n      </g>\n     </g>\n    </g>\n    <g id=\"ytick_3\">\n     <g id=\"line2d_10\">\n      <g>\n       <use style=\"stroke:#000000;stroke-width:0.8;\" x=\"26.925\" xlink:href=\"#m271c09dc16\" y=\"78.949219\"/>\n      </g>\n     </g>\n     <g id=\"text_10\">\n      <!-- 10 -->\n      <g transform=\"translate(7.2 82.748437)scale(0.1 -0.1)\">\n       <use xlink:href=\"#DejaVuSans-49\"/>\n       <use x=\"63.623047\" xlink:href=\"#DejaVuSans-48\"/>\n      </g>\n     </g>\n    </g>\n    <g id=\"ytick_4\">\n     <g id=\"line2d_11\">\n      <g>\n       <use style=\"stroke:#000000;stroke-width:0.8;\" x=\"26.925\" xlink:href=\"#m271c09dc16\" y=\"112.924219\"/>\n      </g>\n     </g>\n     <g id=\"text_11\">\n      <!-- 15 -->\n      <g transform=\"translate(7.2 116.723437)scale(0.1 -0.1)\">\n       <use xlink:href=\"#DejaVuSans-49\"/>\n       <use x=\"63.623047\" xlink:href=\"#DejaVuSans-53\"/>\n      </g>\n     </g>\n    </g>\n    <g id=\"ytick_5\">\n     <g id=\"line2d_12\">\n      <g>\n       <use style=\"stroke:#000000;stroke-width:0.8;\" x=\"26.925\" xlink:href=\"#m271c09dc16\" y=\"146.899219\"/>\n      </g>\n     </g>\n     <g id=\"text_12\">\n      <!-- 20 -->\n      <g transform=\"translate(7.2 150.698437)scale(0.1 -0.1)\">\n       <use xlink:href=\"#DejaVuSans-50\"/>\n       <use x=\"63.623047\" xlink:href=\"#DejaVuSans-48\"/>\n      </g>\n     </g>\n    </g>\n    <g id=\"ytick_6\">\n     <g id=\"line2d_13\">\n      <g>\n       <use style=\"stroke:#000000;stroke-width:0.8;\" x=\"26.925\" xlink:href=\"#m271c09dc16\" y=\"180.874219\"/>\n      </g>\n     </g>\n     <g id=\"text_13\">\n      <!-- 25 -->\n      <g transform=\"translate(7.2 184.673437)scale(0.1 -0.1)\">\n       <use xlink:href=\"#DejaVuSans-50\"/>\n       <use x=\"63.623047\" xlink:href=\"#DejaVuSans-53\"/>\n      </g>\n     </g>\n    </g>\n    <g id=\"ytick_7\">\n     <g id=\"line2d_14\">\n      <g>\n       <use style=\"stroke:#000000;stroke-width:0.8;\" x=\"26.925\" xlink:href=\"#m271c09dc16\" y=\"214.849219\"/>\n      </g>\n     </g>\n     <g id=\"text_14\">\n      <!-- 30 -->\n      <g transform=\"translate(7.2 218.648437)scale(0.1 -0.1)\">\n       <use xlink:href=\"#DejaVuSans-51\"/>\n       <use x=\"63.623047\" xlink:href=\"#DejaVuSans-48\"/>\n      </g>\n     </g>\n    </g>\n   </g>\n   <g id=\"patch_3\">\n    <path d=\"M 26.925 225.041719 \nL 26.925 7.601719 \n\" style=\"fill:none;stroke:#000000;stroke-linecap:square;stroke-linejoin:miter;stroke-width:0.8;\"/>\n   </g>\n   <g id=\"patch_4\">\n    <path d=\"M 244.365 225.041719 \nL 244.365 7.601719 \n\" style=\"fill:none;stroke:#000000;stroke-linecap:square;stroke-linejoin:miter;stroke-width:0.8;\"/>\n   </g>\n   <g id=\"patch_5\">\n    <path d=\"M 26.925 225.041719 \nL 244.365 225.041719 \n\" style=\"fill:none;stroke:#000000;stroke-linecap:square;stroke-linejoin:miter;stroke-width:0.8;\"/>\n   </g>\n   <g id=\"patch_6\">\n    <path d=\"M 26.925 7.601719 \nL 244.365 7.601719 \n\" style=\"fill:none;stroke:#000000;stroke-linecap:square;stroke-linejoin:miter;stroke-width:0.8;\"/>\n   </g>\n  </g>\n </g>\n <defs>\n  <clipPath id=\"pd2a785825f\">\n   <rect height=\"217.44\" width=\"217.44\" x=\"26.925\" y=\"7.601719\"/>\n  </clipPath>\n </defs>\n</svg>\n",
      "image/png": "[encoded data removed]"
     },
     "metadata": {
      "needs_background": "light"
     }
    }
   ],
   "source": [
    "# print the new image\n",
    "# NOTE: need to flip matrix from C/H/W to H/W/C\n",
    "plt.imshow(image_tensored.permute(1, 2, 0))\n",
    "plt.show()"
   ]
  },
  {
   "cell_type": "code",
   "execution_count": 28,
   "metadata": {},
   "outputs": [
    {
     "output_type": "stream",
     "name": "stdout",
     "text": [
      "the stacked images are of type <class 'torch.Tensor'> and shape torch.Size([3, 32, 32, 50000])\n"
     ]
    }
   ],
   "source": [
    "# load all the images into a batch tensor\n",
    "images_stacked = torch.stack([image_temp for image_temp, _ in cifar10_tensor], dim=3)\n",
    "print(\"the stacked images are of type {} and shape {}\".format(type(images_stacked), images_stacked.shape))"
   ]
  },
  {
   "cell_type": "code",
   "execution_count": 29,
   "metadata": {},
   "outputs": [
    {
     "output_type": "stream",
     "name": "stdout",
     "text": [
      "the stacked mean/std images are of type <class 'torch.Tensor'> and shape torch.Size([3, 51200000])\n"
     ]
    }
   ],
   "source": [
    "# build a tensor to compute the mean and std\n",
    "images_calc = images_stacked.view(3, -1)\n",
    "print(\"the stacked mean/std images are of type {} and shape {}\".format(type(images_calc), images_calc.shape))"
   ]
  },
  {
   "cell_type": "code",
   "execution_count": null,
   "metadata": {},
   "outputs": [],
   "source": []
  }
 ]
}