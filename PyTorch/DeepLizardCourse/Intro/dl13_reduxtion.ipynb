{
 "cells": [
  {
   "cell_type": "code",
   "execution_count": 1,
   "metadata": {
    "tags": []
   },
   "outputs": [
    {
     "output_type": "stream",
     "name": "stdout",
     "text": "the pytorch library is version 1.5.1\n"
    }
   ],
   "source": [
    "# imports\n",
    "import torch\n",
    "\n",
    "print(\"the pytorch library is version {}\".format(torch.__version__))"
   ]
  },
  {
   "cell_type": "code",
   "execution_count": 2,
   "metadata": {},
   "outputs": [],
   "source": [
    "# create a tensor\n",
    "tensor01 = torch.tensor([\n",
    "    [1, 1, 1, 1, 1],\n",
    "    [2, 2, 2, 2, 2],\n",
    "    [3, 3, 3, 3, 3]],\n",
    "    dtype=torch.float32\n",
    ")\n",
    "\n"
   ]
  },
  {
   "cell_type": "code",
   "execution_count": 9,
   "metadata": {
    "tags": []
   },
   "outputs": [
    {
     "output_type": "stream",
     "name": "stdout",
     "text": "the sum of the tensor is 30.0 of type <class 'torch.Tensor'>\n"
    },
    {
     "output_type": "execute_result",
     "data": {
      "text/plain": "tensor(30.)"
     },
     "metadata": {},
     "execution_count": 9
    }
   ],
   "source": [
    "# get the sum\n",
    "print(\"the sum of the tensor is {} of type {}\".format(tensor01.sum(), type(tensor01.sum())))\n",
    "tensor01.sum()\n"
   ]
  },
  {
   "cell_type": "code",
   "execution_count": 8,
   "metadata": {
    "tags": []
   },
   "outputs": [
    {
     "output_type": "stream",
     "name": "stdout",
     "text": "the number of elements of the tensor is 15 of type <class 'int'>\n"
    },
    {
     "output_type": "execute_result",
     "data": {
      "text/plain": "15"
     },
     "metadata": {},
     "execution_count": 8
    }
   ],
   "source": [
    "# get the sumber of elements\n",
    "print(\"the number of elements of the tensor is {} of type {}\".format(tensor01.numel(), type(tensor01.numel())))\n",
    "tensor01.numel()"
   ]
  },
  {
   "cell_type": "code",
   "execution_count": 10,
   "metadata": {
    "tags": []
   },
   "outputs": [
    {
     "output_type": "stream",
     "name": "stdout",
     "text": "sum by dimension 0 is tensor([6., 6., 6., 6., 6.])\nsum by dimension 1 is tensor([ 5., 10., 15.])\n"
    }
   ],
   "source": [
    "# sum by directions\n",
    "print(\"sum by dimension 0 is {}\".format(tensor01.sum(dim=0)))\n",
    "print(\"sum by dimension 1 is {}\".format(tensor01.sum(dim=1)))\n"
   ]
  },
  {
   "cell_type": "code",
   "execution_count": 15,
   "metadata": {
    "tags": []
   },
   "outputs": [
    {
     "output_type": "stream",
     "name": "stdout",
     "text": "the row 0 of the tensor is tensor([1., 1., 1., 1., 1.])\nthe row 1 of the tensor is tensor([2., 2., 2., 2., 2.])\nthe row 2 of the tensor is tensor([3., 3., 3., 3., 3.])\n"
    }
   ],
   "source": [
    "# get the first row of the tensor\n",
    "for index in range(0, tensor01.shape[0]):   \n",
    "    print(\"the row {} of the tensor is {}\".format(index, tensor01[index]))"
   ]
  },
  {
   "cell_type": "code",
   "execution_count": 16,
   "metadata": {
    "tags": []
   },
   "outputs": [
    {
     "output_type": "stream",
     "name": "stdout",
     "text": "the max of the tensor is 3.0 of type <class 'torch.Tensor'>\nthe argmax of the tensor is 14 of type <class 'torch.Tensor'>\n"
    }
   ],
   "source": [
    "# get the max of the tensor\n",
    "print(\"the max of the tensor is {} of type {}\".format(tensor01.max(), type(tensor01.max())))\n",
    "print(\"the argmax of the tensor is {} of type {}\".format(tensor01.argmax(), type(tensor01.argmax())))\n"
   ]
  },
  {
   "cell_type": "code",
   "execution_count": 17,
   "metadata": {
    "tags": []
   },
   "outputs": [
    {
     "output_type": "stream",
     "name": "stdout",
     "text": "the flattened tensor is tensor([1., 1., 1., 1., 1., 2., 2., 2., 2., 2., 3., 3., 3., 3., 3.]) of type <class 'torch.Tensor'>\n"
    }
   ],
   "source": [
    "# the flattened tensor\n",
    "print(\"the flattened tensor is {} of type {}\".format(tensor01.flatten(), type(tensor01.flatten())))"
   ]
  },
  {
   "cell_type": "code",
   "execution_count": 24,
   "metadata": {},
   "outputs": [],
   "source": [
    "# create a tensor\n",
    "tensor02 = torch.tensor([\n",
    "    [1, 1, 2, 7, 1],\n",
    "    [2, 2, 2, 3, 2],\n",
    "    [6, 3, 5, 3, 3]],\n",
    "    dtype=torch.float32\n",
    ")\n"
   ]
  },
  {
   "cell_type": "code",
   "execution_count": 21,
   "metadata": {
    "tags": []
   },
   "outputs": [
    {
     "output_type": "stream",
     "name": "stdout",
     "text": "the max of the tensor is 6.0 of type <class 'torch.Tensor'>\nthe argmax of the tensor is 10 of type <class 'torch.Tensor'>\n"
    }
   ],
   "source": [
    "# get the max of the tensor\n",
    "print(\"the max of the tensor is {} of type {}\".format(tensor02.max(), type(tensor02.max())))\n",
    "print(\"the argmax of the tensor is {} of type {}\".format(tensor02.argmax(), type(tensor02.argmax())))"
   ]
  },
  {
   "cell_type": "code",
   "execution_count": 25,
   "metadata": {
    "tags": []
   },
   "outputs": [
    {
     "output_type": "stream",
     "name": "stdout",
     "text": "the max for rank dimansion 0 is tensor([6., 3., 5., 7., 3.]) with index tensor([2, 2, 2, 0, 2])\nthe max for rank dimansion 1 is tensor([7., 3., 6.]) with index tensor([3, 3, 0])\n"
    }
   ],
   "source": [
    "# get the max for each dimension\n",
    "for index in range(0, len(tensor02.shape)):\n",
    "    max_t, index_t = tensor02.max(dim=index)\n",
    "    print(\"the max for rank dimansion {} is {} with index {}\".format(index, max_t, index_t))"
   ]
  },
  {
   "cell_type": "code",
   "execution_count": 26,
   "metadata": {
    "tags": []
   },
   "outputs": [
    {
     "output_type": "stream",
     "name": "stdout",
     "text": "the max for rank dimansion 0 is [6.0, 3.0, 5.0, 7.0, 3.0] with index [2, 2, 2, 0, 2]\nthe max for rank dimansion 1 is [7.0, 3.0, 6.0] with index [3, 3, 0]\n"
    }
   ],
   "source": [
    "# get the max and indexes as lists\n",
    "for index in range(0, len(tensor02.shape)):\n",
    "    max_t, index_t = tensor02.max(dim=index)\n",
    "    print(\"the max for rank dimansion {} is {} with index {}\".format(index, max_t.tolist(), index_t.tolist()))"
   ]
  },
  {
   "cell_type": "code",
   "execution_count": 27,
   "metadata": {
    "tags": []
   },
   "outputs": [
    {
     "output_type": "stream",
     "name": "stdout",
     "text": "the max for rank dimansion 0 is [6. 3. 5. 7. 3.] with index [2 2 2 0 2]\nthe max for rank dimansion 1 is [7. 3. 6.] with index [3 3 0]\n"
    }
   ],
   "source": [
    "# get the max and indexes as numpy arrays\n",
    "for index in range(0, len(tensor02.shape)):\n",
    "    max_t, index_t = tensor02.max(dim=index)\n",
    "    print(\"the max for rank dimansion {} is {} with index {}\".format(index, max_t.numpy(), index_t.numpy()))"
   ]
  },
  {
   "cell_type": "code",
   "execution_count": null,
   "metadata": {},
   "outputs": [],
   "source": []
  }
 ],
 "metadata": {
  "language_info": {
   "codemirror_mode": {
    "name": "ipython",
    "version": 3
   },
   "file_extension": ".py",
   "mimetype": "text/x-python",
   "name": "python",
   "nbconvert_exporter": "python",
   "pygments_lexer": "ipython3",
   "version": "3.7.6-final"
  },
  "orig_nbformat": 2,
  "kernelspec": {
   "name": "python37664bitkipoi37venveaef0c39b50b4874bc450a5ac82afa0d",
   "display_name": "Python 3.7.6 64-bit ('kipoi_37': venv)"
  }
 },
 "nbformat": 4,
 "nbformat_minor": 2
}