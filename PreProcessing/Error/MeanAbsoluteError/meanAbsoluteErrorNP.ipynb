{
 "cells": [
  {
   "cell_type": "code",
   "execution_count": 15,
   "metadata": {},
   "outputs": [
    {
     "output_type": "stream",
     "name": "stdout",
     "text": "verwsion of numpy is 1.18.1\n"
    }
   ],
   "source": [
    "# imports\n",
    "import random\n",
    "import numpy as numpy\n",
    "\n",
    "print(\"verwsion of numpy is {}\".format(np.__version__))"
   ]
  },
  {
   "cell_type": "code",
   "execution_count": 20,
   "metadata": {},
   "outputs": [
    {
     "output_type": "stream",
     "name": "stdout",
     "text": "the random list is [9, 10, 5, 9, 10, 4, 9, 0, 1, 6, 9, 6, 2, 6, 4, 0, 2, 4, 9, 10, 9, 7, 1, 8, 6, 5, 9, 0, 4, 7]\n"
    }
   ],
   "source": [
    "# create a random list of 30 elements\n",
    "index = 30\n",
    "\n",
    "random_list = [random.randint(0, 10) for x in range (0, 30)]\n",
    "\n",
    "print(\"the random list is {}\".format(random_list))"
   ]
  },
  {
   "cell_type": "code",
   "execution_count": 24,
   "metadata": {},
   "outputs": [
    {
     "output_type": "stream",
     "name": "stdout",
     "text": "the prediction list is [10, 5, 9, 10, 4, 9, 0, 1, 6, 9, 6, 2, 6, 4, 0, 2, 4, 9, 10, 9, 7, 1, 8, 6, 5, 9, 0, 4, 7]\nposition 0 of the precition list is 10\n"
    }
   ],
   "source": [
    "# create a time series copy of the random list\n",
    "prediction = random_list[1: 30]\n",
    "\n",
    "print(\"the prediction list is {}\".format(prediction))\n",
    "\n",
    "index = 0\n",
    "print(\"position {} of the prediction list is {}\".format(index, prediction[index]))\n"
   ]
  },
  {
   "cell_type": "code",
   "execution_count": null,
   "metadata": {},
   "outputs": [],
   "source": []
  }
 ],
 "metadata": {
  "language_info": {
   "codemirror_mode": {
    "name": "ipython",
    "version": 3
   },
   "file_extension": ".py",
   "mimetype": "text/x-python",
   "name": "python",
   "nbconvert_exporter": "python",
   "pygments_lexer": "ipython3",
   "version": "3.7.6-final"
  },
  "orig_nbformat": 2,
  "kernelspec": {
   "name": "python37664bittf237venv9b274482c7ba4966ad2cf02baa9bb24c",
   "display_name": "Python 3.7.6 64-bit ('tf2_37': venv)"
  }
 },
 "nbformat": 4,
 "nbformat_minor": 2
}