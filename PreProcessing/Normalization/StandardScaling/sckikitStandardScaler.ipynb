{
 "cells": [
  {
   "cell_type": "code",
   "execution_count": 15,
   "metadata": {},
   "outputs": [
    {
     "output_type": "stream",
     "name": "stdout",
     "text": "the sklearn version is 0.22.2.post1\nthe pandas version is 1.0.3\n"
    }
   ],
   "source": [
    "# imports\n",
    "import sklearn as sk \n",
    "import pandas as pd \n",
    "from sklearn.preprocessing import StandardScaler\n",
    "from sklearn.datasets import load_digits\n",
    "from sklearn.preprocessing import StandardScaler\n",
    "\n",
    "print(\"the sklearn version is {}\".format(sk.__version__))\n",
    "print(\"the pandas version is {}\".format(pd.__version__))\n"
   ]
  },
  {
   "cell_type": "code",
   "execution_count": 6,
   "metadata": {},
   "outputs": [
    {
     "output_type": "stream",
     "name": "stdout",
     "text": "the type of data is <class 'sklearn.utils.Bunch'> and the headers of the data are ['data', 'target', 'target_names', 'images', 'DESCR']\n"
    }
   ],
   "source": [
    "# load the data\n",
    "digits = load_digits()\n",
    "\n",
    "# show what the data is\n",
    "print(\"the type of data is {} and the headers of the data are {}\".format(type(digits), list(digits)))"
   ]
  },
  {
   "cell_type": "code",
   "execution_count": 11,
   "metadata": {},
   "outputs": [
    {
     "output_type": "stream",
     "name": "stdout",
     "text": "the size of the data is (1797, 64)\n"
    }
   ],
   "source": [
    "# get the train data\n",
    "trainf_df = pd.DataFrame(digits.data)\n",
    "\n",
    "print(\"the size of the data is {}\".format(trainf_df.shape))"
   ]
  },
  {
   "cell_type": "code",
   "execution_count": 14,
   "metadata": {},
   "outputs": [
    {
     "output_type": "execute_result",
     "data": {
      "text/plain": "    0    1    2     3     4     5    6    7    8    9   ...   54   55   56  \\\n0  0.0  0.0  5.0  13.0   9.0   1.0  0.0  0.0  0.0  0.0  ...  0.0  0.0  0.0   \n1  0.0  0.0  0.0  12.0  13.0   5.0  0.0  0.0  0.0  0.0  ...  0.0  0.0  0.0   \n2  0.0  0.0  0.0   4.0  15.0  12.0  0.0  0.0  0.0  0.0  ...  5.0  0.0  0.0   \n3  0.0  0.0  7.0  15.0  13.0   1.0  0.0  0.0  0.0  8.0  ...  9.0  0.0  0.0   \n4  0.0  0.0  0.0   1.0  11.0   0.0  0.0  0.0  0.0  0.0  ...  0.0  0.0  0.0   \n\n    57   58    59    60    61   62   63  \n0  0.0  6.0  13.0  10.0   0.0  0.0  0.0  \n1  0.0  0.0  11.0  16.0  10.0  0.0  0.0  \n2  0.0  0.0   3.0  11.0  16.0  9.0  0.0  \n3  0.0  7.0  13.0  13.0   9.0  0.0  0.0  \n4  0.0  0.0   2.0  16.0   4.0  0.0  0.0  \n\n[5 rows x 64 columns]",
      "text/html": "<div>\n<style scoped>\n    .dataframe tbody tr th:only-of-type {\n        vertical-align: middle;\n    }\n\n    .dataframe tbody tr th {\n        vertical-align: top;\n    }\n\n    .dataframe thead th {\n        text-align: right;\n    }\n</style>\n<table border=\"1\" class=\"dataframe\">\n  <thead>\n    <tr style=\"text-align: right;\">\n      <th></th>\n      <th>0</th>\n      <th>1</th>\n      <th>2</th>\n      <th>3</th>\n      <th>4</th>\n      <th>5</th>\n      <th>6</th>\n      <th>7</th>\n      <th>8</th>\n      <th>9</th>\n      <th>...</th>\n      <th>54</th>\n      <th>55</th>\n      <th>56</th>\n      <th>57</th>\n      <th>58</th>\n      <th>59</th>\n      <th>60</th>\n      <th>61</th>\n      <th>62</th>\n      <th>63</th>\n    </tr>\n  </thead>\n  <tbody>\n    <tr>\n      <th>0</th>\n      <td>0.0</td>\n      <td>0.0</td>\n      <td>5.0</td>\n      <td>13.0</td>\n      <td>9.0</td>\n      <td>1.0</td>\n      <td>0.0</td>\n      <td>0.0</td>\n      <td>0.0</td>\n      <td>0.0</td>\n      <td>...</td>\n      <td>0.0</td>\n      <td>0.0</td>\n      <td>0.0</td>\n      <td>0.0</td>\n      <td>6.0</td>\n      <td>13.0</td>\n      <td>10.0</td>\n      <td>0.0</td>\n      <td>0.0</td>\n      <td>0.0</td>\n    </tr>\n    <tr>\n      <th>1</th>\n      <td>0.0</td>\n      <td>0.0</td>\n      <td>0.0</td>\n      <td>12.0</td>\n      <td>13.0</td>\n      <td>5.0</td>\n      <td>0.0</td>\n      <td>0.0</td>\n      <td>0.0</td>\n      <td>0.0</td>\n      <td>...</td>\n      <td>0.0</td>\n      <td>0.0</td>\n      <td>0.0</td>\n      <td>0.0</td>\n      <td>0.0</td>\n      <td>11.0</td>\n      <td>16.0</td>\n      <td>10.0</td>\n      <td>0.0</td>\n      <td>0.0</td>\n    </tr>\n    <tr>\n      <th>2</th>\n      <td>0.0</td>\n      <td>0.0</td>\n      <td>0.0</td>\n      <td>4.0</td>\n      <td>15.0</td>\n      <td>12.0</td>\n      <td>0.0</td>\n      <td>0.0</td>\n      <td>0.0</td>\n      <td>0.0</td>\n      <td>...</td>\n      <td>5.0</td>\n      <td>0.0</td>\n      <td>0.0</td>\n      <td>0.0</td>\n      <td>0.0</td>\n      <td>3.0</td>\n      <td>11.0</td>\n      <td>16.0</td>\n      <td>9.0</td>\n      <td>0.0</td>\n    </tr>\n    <tr>\n      <th>3</th>\n      <td>0.0</td>\n      <td>0.0</td>\n      <td>7.0</td>\n      <td>15.0</td>\n      <td>13.0</td>\n      <td>1.0</td>\n      <td>0.0</td>\n      <td>0.0</td>\n      <td>0.0</td>\n      <td>8.0</td>\n      <td>...</td>\n      <td>9.0</td>\n      <td>0.0</td>\n      <td>0.0</td>\n      <td>0.0</td>\n      <td>7.0</td>\n      <td>13.0</td>\n      <td>13.0</td>\n      <td>9.0</td>\n      <td>0.0</td>\n      <td>0.0</td>\n    </tr>\n    <tr>\n      <th>4</th>\n      <td>0.0</td>\n      <td>0.0</td>\n      <td>0.0</td>\n      <td>1.0</td>\n      <td>11.0</td>\n      <td>0.0</td>\n      <td>0.0</td>\n      <td>0.0</td>\n      <td>0.0</td>\n      <td>0.0</td>\n      <td>...</td>\n      <td>0.0</td>\n      <td>0.0</td>\n      <td>0.0</td>\n      <td>0.0</td>\n      <td>0.0</td>\n      <td>2.0</td>\n      <td>16.0</td>\n      <td>4.0</td>\n      <td>0.0</td>\n      <td>0.0</td>\n    </tr>\n  </tbody>\n</table>\n<p>5 rows × 64 columns</p>\n</div>"
     },
     "metadata": {},
     "execution_count": 14
    }
   ],
   "source": [
    "# show information\n",
    "trainf_df.head(5)\n"
   ]
  },
  {
   "cell_type": "code",
   "execution_count": 16,
   "metadata": {},
   "outputs": [],
   "source": [
    "# build the scaler\n",
    "scaler = StandardScaler().fit(trainf_df)\n"
   ]
  },
  {
   "cell_type": "code",
   "execution_count": 18,
   "metadata": {},
   "outputs": [
    {
     "output_type": "execute_result",
     "data": {
      "text/plain": "    0         1         2         3         4         5         6         7   \\\n0  0.0 -0.335016 -0.043081  0.274072 -0.664478 -0.844129 -0.409724 -0.125023   \n1  0.0 -0.335016 -1.094937  0.038648  0.268751 -0.138020 -0.409724 -0.125023   \n2  0.0 -0.335016 -1.094937 -1.844742  0.735366  1.097673 -0.409724 -0.125023   \n3  0.0 -0.335016  0.377661  0.744919  0.268751 -0.844129 -0.409724 -0.125023   \n4  0.0 -0.335016 -1.094937 -2.551014 -0.197863 -1.020657 -0.409724 -0.125023   \n\n         8         9   ...        54        55        56        57        58  \\\n0 -0.059078 -0.624009  ... -0.757436 -0.209785 -0.023596 -0.299081  0.086719   \n1 -0.059078 -0.624009  ... -0.757436 -0.209785 -0.023596 -0.299081 -1.089383   \n2 -0.059078 -0.624009  ...  0.259230 -0.209785 -0.023596 -0.299081 -1.089383   \n3 -0.059078  1.879691  ...  1.072563 -0.209785 -0.023596 -0.299081  0.282736   \n4 -0.059078 -0.624009  ... -0.757436 -0.209785 -0.023596 -0.299081 -1.089383   \n\n         59        60        61        62        63  \n0  0.208293 -0.366771 -1.146647 -0.505670 -0.196008  \n1 -0.249010  0.849632  0.548561 -0.505670 -0.196008  \n2 -2.078218 -0.164037  1.565686  1.695137 -0.196008  \n3  0.208293  0.241430  0.379040 -0.505670 -0.196008  \n4 -2.306869  0.849632 -0.468564 -0.505670 -0.196008  \n\n[5 rows x 64 columns]",
      "text/html": "<div>\n<style scoped>\n    .dataframe tbody tr th:only-of-type {\n        vertical-align: middle;\n    }\n\n    .dataframe tbody tr th {\n        vertical-align: top;\n    }\n\n    .dataframe thead th {\n        text-align: right;\n    }\n</style>\n<table border=\"1\" class=\"dataframe\">\n  <thead>\n    <tr style=\"text-align: right;\">\n      <th></th>\n      <th>0</th>\n      <th>1</th>\n      <th>2</th>\n      <th>3</th>\n      <th>4</th>\n      <th>5</th>\n      <th>6</th>\n      <th>7</th>\n      <th>8</th>\n      <th>9</th>\n      <th>...</th>\n      <th>54</th>\n      <th>55</th>\n      <th>56</th>\n      <th>57</th>\n      <th>58</th>\n      <th>59</th>\n      <th>60</th>\n      <th>61</th>\n      <th>62</th>\n      <th>63</th>\n    </tr>\n  </thead>\n  <tbody>\n    <tr>\n      <th>0</th>\n      <td>0.0</td>\n      <td>-0.335016</td>\n      <td>-0.043081</td>\n      <td>0.274072</td>\n      <td>-0.664478</td>\n      <td>-0.844129</td>\n      <td>-0.409724</td>\n      <td>-0.125023</td>\n      <td>-0.059078</td>\n      <td>-0.624009</td>\n      <td>...</td>\n      <td>-0.757436</td>\n      <td>-0.209785</td>\n      <td>-0.023596</td>\n      <td>-0.299081</td>\n      <td>0.086719</td>\n      <td>0.208293</td>\n      <td>-0.366771</td>\n      <td>-1.146647</td>\n      <td>-0.505670</td>\n      <td>-0.196008</td>\n    </tr>\n    <tr>\n      <th>1</th>\n      <td>0.0</td>\n      <td>-0.335016</td>\n      <td>-1.094937</td>\n      <td>0.038648</td>\n      <td>0.268751</td>\n      <td>-0.138020</td>\n      <td>-0.409724</td>\n      <td>-0.125023</td>\n      <td>-0.059078</td>\n      <td>-0.624009</td>\n      <td>...</td>\n      <td>-0.757436</td>\n      <td>-0.209785</td>\n      <td>-0.023596</td>\n      <td>-0.299081</td>\n      <td>-1.089383</td>\n      <td>-0.249010</td>\n      <td>0.849632</td>\n      <td>0.548561</td>\n      <td>-0.505670</td>\n      <td>-0.196008</td>\n    </tr>\n    <tr>\n      <th>2</th>\n      <td>0.0</td>\n      <td>-0.335016</td>\n      <td>-1.094937</td>\n      <td>-1.844742</td>\n      <td>0.735366</td>\n      <td>1.097673</td>\n      <td>-0.409724</td>\n      <td>-0.125023</td>\n      <td>-0.059078</td>\n      <td>-0.624009</td>\n      <td>...</td>\n      <td>0.259230</td>\n      <td>-0.209785</td>\n      <td>-0.023596</td>\n      <td>-0.299081</td>\n      <td>-1.089383</td>\n      <td>-2.078218</td>\n      <td>-0.164037</td>\n      <td>1.565686</td>\n      <td>1.695137</td>\n      <td>-0.196008</td>\n    </tr>\n    <tr>\n      <th>3</th>\n      <td>0.0</td>\n      <td>-0.335016</td>\n      <td>0.377661</td>\n      <td>0.744919</td>\n      <td>0.268751</td>\n      <td>-0.844129</td>\n      <td>-0.409724</td>\n      <td>-0.125023</td>\n      <td>-0.059078</td>\n      <td>1.879691</td>\n      <td>...</td>\n      <td>1.072563</td>\n      <td>-0.209785</td>\n      <td>-0.023596</td>\n      <td>-0.299081</td>\n      <td>0.282736</td>\n      <td>0.208293</td>\n      <td>0.241430</td>\n      <td>0.379040</td>\n      <td>-0.505670</td>\n      <td>-0.196008</td>\n    </tr>\n    <tr>\n      <th>4</th>\n      <td>0.0</td>\n      <td>-0.335016</td>\n      <td>-1.094937</td>\n      <td>-2.551014</td>\n      <td>-0.197863</td>\n      <td>-1.020657</td>\n      <td>-0.409724</td>\n      <td>-0.125023</td>\n      <td>-0.059078</td>\n      <td>-0.624009</td>\n      <td>...</td>\n      <td>-0.757436</td>\n      <td>-0.209785</td>\n      <td>-0.023596</td>\n      <td>-0.299081</td>\n      <td>-1.089383</td>\n      <td>-2.306869</td>\n      <td>0.849632</td>\n      <td>-0.468564</td>\n      <td>-0.505670</td>\n      <td>-0.196008</td>\n    </tr>\n  </tbody>\n</table>\n<p>5 rows × 64 columns</p>\n</div>"
     },
     "metadata": {},
     "execution_count": 18
    }
   ],
   "source": [
    "# scale the feature data\n",
    "train_scaled_df = pd.DataFrame(scaler.transform(trainf_df))\n",
    "\n",
    "train_scaled_df.head(5)"
   ]
  },
  {
   "cell_type": "code",
   "execution_count": null,
   "metadata": {},
   "outputs": [],
   "source": []
  }
 ],
 "metadata": {
  "language_info": {
   "codemirror_mode": {
    "name": "ipython",
    "version": 3
   },
   "file_extension": ".py",
   "mimetype": "text/x-python",
   "name": "python",
   "nbconvert_exporter": "python",
   "pygments_lexer": "ipython3",
   "version": "3.7.6-final"
  },
  "orig_nbformat": 2,
  "kernelspec": {
   "name": "python37664bittf237venv9b274482c7ba4966ad2cf02baa9bb24c",
   "display_name": "Python 3.7.6 64-bit ('tf2_37': venv)"
  }
 },
 "nbformat": 4,
 "nbformat_minor": 2
}