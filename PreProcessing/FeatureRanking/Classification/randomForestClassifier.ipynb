{
 "cells": [
  {
   "cell_type": "code",
   "execution_count": 45,
   "metadata": {},
   "outputs": [
    {
     "output_type": "stream",
     "name": "stdout",
     "text": "the version of sklearn is 0.22.2.post1\nthe version of pandas is 1.0.3\n"
    }
   ],
   "source": [
    "import sklearn as sk \n",
    "import pandas as pd \n",
    "from sklearn.ensemble import RandomForestClassifier\n",
    "from sklearn.preprocessing import MinMaxScaler\n",
    "\n",
    "print(\"the version of sklearn is {}\".format(sk.__version__))\n",
    "print(\"the version of pandas is {}\".format(pd.__version__))\n"
   ]
  },
  {
   "cell_type": "code",
   "execution_count": 7,
   "metadata": {},
   "outputs": [
    {
     "output_type": "stream",
     "name": "stdout",
     "text": "<class 'pandas.core.frame.DataFrame'>\nRangeIndex: 891 entries, 0 to 890\nData columns (total 12 columns):\n #   Column       Non-Null Count  Dtype  \n---  ------       --------------  -----  \n 0   PassengerId  891 non-null    int64  \n 1   Survived     891 non-null    int64  \n 2   Pclass       891 non-null    int64  \n 3   Name         891 non-null    object \n 4   Sex          891 non-null    object \n 5   Age          714 non-null    float64\n 6   SibSp        891 non-null    int64  \n 7   Parch        891 non-null    int64  \n 8   Ticket       891 non-null    object \n 9   Fare         891 non-null    float64\n 10  Cabin        204 non-null    object \n 11  Embarked     889 non-null    object \ndtypes: float64(2), int64(5), object(5)\nmemory usage: 83.7+ KB\n"
    }
   ],
   "source": [
    "# import the data\n",
    "titanic_df = pd.read_csv(\"../../../Datasets/Kaggle/Competitions/Titanic/train.csv\")\n",
    "\n",
    "titanic_df.info()\n"
   ]
  },
  {
   "cell_type": "code",
   "execution_count": 25,
   "metadata": {},
   "outputs": [
    {
     "output_type": "stream",
     "name": "stdout",
     "text": "<class 'pandas.core.frame.DataFrame'>\nRangeIndex: 891 entries, 0 to 890\nData columns (total 8 columns):\n #   Column       Non-Null Count  Dtype  \n---  ------       --------------  -----  \n 0   PassengerId  891 non-null    int64  \n 1   Pclass       891 non-null    int64  \n 2   Age          891 non-null    float64\n 3   SibSp        891 non-null    int64  \n 4   Parch        891 non-null    int64  \n 5   Fare         891 non-null    float64\n 6   Sex_female   891 non-null    uint8  \n 7   Sex_male     891 non-null    uint8  \ndtypes: float64(2), int64(4), uint8(2)\nmemory usage: 43.6 KB\n"
    }
   ],
   "source": [
    "# get the features and labels\n",
    "X = titanic_df.drop(['Survived', 'Name', 'Cabin', 'Embarked', 'Ticket'], axis=1)\n",
    "X = pd.get_dummies(X)\n",
    "X = X.fillna(X.mean())\n",
    "y = titanic_df['Survived']\n",
    "\n",
    "X.info()"
   ]
  },
  {
   "cell_type": "code",
   "execution_count": 26,
   "metadata": {},
   "outputs": [
    {
     "output_type": "execute_result",
     "data": {
      "text/plain": "   PassengerId  Pclass        Age  SibSp  Parch     Fare  Sex_female  Sex_male\n0            1       3  22.000000      1      0   7.2500           0         1\n1            2       1  38.000000      1      0  71.2833           1         0\n2            3       3  26.000000      0      0   7.9250           1         0\n3            4       1  35.000000      1      0  53.1000           1         0\n4            5       3  35.000000      0      0   8.0500           0         1\n5            6       3  29.699118      0      0   8.4583           0         1\n6            7       1  54.000000      0      0  51.8625           0         1\n7            8       3   2.000000      3      1  21.0750           0         1\n8            9       3  27.000000      0      2  11.1333           1         0\n9           10       2  14.000000      1      0  30.0708           1         0",
      "text/html": "<div>\n<style scoped>\n    .dataframe tbody tr th:only-of-type {\n        vertical-align: middle;\n    }\n\n    .dataframe tbody tr th {\n        vertical-align: top;\n    }\n\n    .dataframe thead th {\n        text-align: right;\n    }\n</style>\n<table border=\"1\" class=\"dataframe\">\n  <thead>\n    <tr style=\"text-align: right;\">\n      <th></th>\n      <th>PassengerId</th>\n      <th>Pclass</th>\n      <th>Age</th>\n      <th>SibSp</th>\n      <th>Parch</th>\n      <th>Fare</th>\n      <th>Sex_female</th>\n      <th>Sex_male</th>\n    </tr>\n  </thead>\n  <tbody>\n    <tr>\n      <th>0</th>\n      <td>1</td>\n      <td>3</td>\n      <td>22.000000</td>\n      <td>1</td>\n      <td>0</td>\n      <td>7.2500</td>\n      <td>0</td>\n      <td>1</td>\n    </tr>\n    <tr>\n      <th>1</th>\n      <td>2</td>\n      <td>1</td>\n      <td>38.000000</td>\n      <td>1</td>\n      <td>0</td>\n      <td>71.2833</td>\n      <td>1</td>\n      <td>0</td>\n    </tr>\n    <tr>\n      <th>2</th>\n      <td>3</td>\n      <td>3</td>\n      <td>26.000000</td>\n      <td>0</td>\n      <td>0</td>\n      <td>7.9250</td>\n      <td>1</td>\n      <td>0</td>\n    </tr>\n    <tr>\n      <th>3</th>\n      <td>4</td>\n      <td>1</td>\n      <td>35.000000</td>\n      <td>1</td>\n      <td>0</td>\n      <td>53.1000</td>\n      <td>1</td>\n      <td>0</td>\n    </tr>\n    <tr>\n      <th>4</th>\n      <td>5</td>\n      <td>3</td>\n      <td>35.000000</td>\n      <td>0</td>\n      <td>0</td>\n      <td>8.0500</td>\n      <td>0</td>\n      <td>1</td>\n    </tr>\n    <tr>\n      <th>5</th>\n      <td>6</td>\n      <td>3</td>\n      <td>29.699118</td>\n      <td>0</td>\n      <td>0</td>\n      <td>8.4583</td>\n      <td>0</td>\n      <td>1</td>\n    </tr>\n    <tr>\n      <th>6</th>\n      <td>7</td>\n      <td>1</td>\n      <td>54.000000</td>\n      <td>0</td>\n      <td>0</td>\n      <td>51.8625</td>\n      <td>0</td>\n      <td>1</td>\n    </tr>\n    <tr>\n      <th>7</th>\n      <td>8</td>\n      <td>3</td>\n      <td>2.000000</td>\n      <td>3</td>\n      <td>1</td>\n      <td>21.0750</td>\n      <td>0</td>\n      <td>1</td>\n    </tr>\n    <tr>\n      <th>8</th>\n      <td>9</td>\n      <td>3</td>\n      <td>27.000000</td>\n      <td>0</td>\n      <td>2</td>\n      <td>11.1333</td>\n      <td>1</td>\n      <td>0</td>\n    </tr>\n    <tr>\n      <th>9</th>\n      <td>10</td>\n      <td>2</td>\n      <td>14.000000</td>\n      <td>1</td>\n      <td>0</td>\n      <td>30.0708</td>\n      <td>1</td>\n      <td>0</td>\n    </tr>\n  </tbody>\n</table>\n</div>"
     },
     "metadata": {},
     "execution_count": 26
    }
   ],
   "source": [
    "X.head(10)"
   ]
  },
  {
   "cell_type": "code",
   "execution_count": 12,
   "metadata": {},
   "outputs": [
    {
     "output_type": "execute_result",
     "data": {
      "text/plain": "0    0\n1    1\n2    1\n3    1\n4    0\nName: Survived, dtype: int64"
     },
     "metadata": {},
     "execution_count": 12
    }
   ],
   "source": [
    "y.head(5)"
   ]
  },
  {
   "cell_type": "code",
   "execution_count": 13,
   "metadata": {},
   "outputs": [
    {
     "output_type": "stream",
     "name": "stdout",
     "text": "the fetures are of shape (891, 11) and the labels are of shape (891,)\n"
    }
   ],
   "source": [
    "# log\n",
    "print(\"the fetures are of shape {} and the labels are of shape {}\".format(X.shape, y.shape))"
   ]
  },
  {
   "cell_type": "code",
   "execution_count": 27,
   "metadata": {},
   "outputs": [
    {
     "output_type": "stream",
     "name": "stdout",
     "text": "the model is of type RandomForestClassifier\n"
    }
   ],
   "source": [
    "# create the model and fit the data\n",
    "clasifier = RandomForestClassifier(random_state=0, n_estimators=100)\n",
    "\n",
    "clasifier.fit(X, y)\n",
    "print(\"the model is of type {}\".format(clasifier.__class__.__name__))"
   ]
  },
  {
   "cell_type": "code",
   "execution_count": 31,
   "metadata": {},
   "outputs": [
    {
     "output_type": "stream",
     "name": "stdout",
     "text": "the feature names are ['PassengerId', 'Pclass', 'Age', 'SibSp', 'Parch', 'Fare', 'Sex_female', 'Sex_male']\n"
    }
   ],
   "source": [
    "# get the feature rankings\n",
    "feature_inportance = clasifier.feature_importances_\n",
    "feature_names = list(X.columns.values)\n",
    "\n",
    "print(\"the feature names are {}\".format(feature_names))"
   ]
  },
  {
   "cell_type": "code",
   "execution_count": 43,
   "metadata": {},
   "outputs": [
    {
     "output_type": "stream",
     "name": "stdout",
     "text": "the zipped features are <zip object at 0x7fd2c1bee640>\n"
    }
   ],
   "source": [
    "# zip the data\n",
    "zipped = zip(feature_inportance, feature_names)\n",
    "\n",
    "print(\"the zipped features are {}\".format(zipped))"
   ]
  },
  {
   "cell_type": "code",
   "execution_count": 44,
   "metadata": {},
   "outputs": [
    {
     "output_type": "stream",
     "name": "stdout",
     "text": "the feature is (0.20166896563029998, 'Fare')\nthe feature is (0.20092813445500687, 'PassengerId')\nthe feature is (0.16893080157404036, 'Age')\nthe feature is (0.13855389272978433, 'Sex_female')\nthe feature is (0.1384837705961344, 'Sex_male')\nthe feature is (0.07763244697092184, 'Pclass')\nthe feature is (0.041572434705067766, 'SibSp')\nthe feature is (0.032229553338744485, 'Parch')\n"
    }
   ],
   "source": [
    "# sort the feature im;ortances\n",
    "features_sorted = sorted(zipped, reverse=True)\n",
    "\n",
    "for i, row in enumerate(features_sorted):\n",
    "    print(\"the feature is {}\".format(row))\n"
   ]
  },
  {
   "cell_type": "code",
   "execution_count": 46,
   "metadata": {},
   "outputs": [
    {
     "output_type": "execute_result",
     "data": {
      "text/plain": "          0    1         2      3         4         5    6    7\n0  0.000000  1.0  0.271174  0.125  0.000000  0.014151  0.0  1.0\n1  0.001124  0.0  0.472229  0.125  0.000000  0.139136  1.0  0.0\n2  0.002247  1.0  0.321438  0.000  0.000000  0.015469  1.0  0.0\n3  0.003371  0.0  0.434531  0.125  0.000000  0.103644  1.0  0.0\n4  0.004494  1.0  0.434531  0.000  0.000000  0.015713  0.0  1.0\n5  0.005618  1.0  0.367921  0.000  0.000000  0.016510  0.0  1.0\n6  0.006742  0.0  0.673285  0.000  0.000000  0.101229  0.0  1.0\n7  0.007865  1.0  0.019854  0.375  0.166667  0.041136  0.0  1.0\n8  0.008989  1.0  0.334004  0.000  0.333333  0.021731  1.0  0.0\n9  0.010112  0.5  0.170646  0.125  0.000000  0.058694  1.0  0.0",
      "text/html": "<div>\n<style scoped>\n    .dataframe tbody tr th:only-of-type {\n        vertical-align: middle;\n    }\n\n    .dataframe tbody tr th {\n        vertical-align: top;\n    }\n\n    .dataframe thead th {\n        text-align: right;\n    }\n</style>\n<table border=\"1\" class=\"dataframe\">\n  <thead>\n    <tr style=\"text-align: right;\">\n      <th></th>\n      <th>0</th>\n      <th>1</th>\n      <th>2</th>\n      <th>3</th>\n      <th>4</th>\n      <th>5</th>\n      <th>6</th>\n      <th>7</th>\n    </tr>\n  </thead>\n  <tbody>\n    <tr>\n      <th>0</th>\n      <td>0.000000</td>\n      <td>1.0</td>\n      <td>0.271174</td>\n      <td>0.125</td>\n      <td>0.000000</td>\n      <td>0.014151</td>\n      <td>0.0</td>\n      <td>1.0</td>\n    </tr>\n    <tr>\n      <th>1</th>\n      <td>0.001124</td>\n      <td>0.0</td>\n      <td>0.472229</td>\n      <td>0.125</td>\n      <td>0.000000</td>\n      <td>0.139136</td>\n      <td>1.0</td>\n      <td>0.0</td>\n    </tr>\n    <tr>\n      <th>2</th>\n      <td>0.002247</td>\n      <td>1.0</td>\n      <td>0.321438</td>\n      <td>0.000</td>\n      <td>0.000000</td>\n      <td>0.015469</td>\n      <td>1.0</td>\n      <td>0.0</td>\n    </tr>\n    <tr>\n      <th>3</th>\n      <td>0.003371</td>\n      <td>0.0</td>\n      <td>0.434531</td>\n      <td>0.125</td>\n      <td>0.000000</td>\n      <td>0.103644</td>\n      <td>1.0</td>\n      <td>0.0</td>\n    </tr>\n    <tr>\n      <th>4</th>\n      <td>0.004494</td>\n      <td>1.0</td>\n      <td>0.434531</td>\n      <td>0.000</td>\n      <td>0.000000</td>\n      <td>0.015713</td>\n      <td>0.0</td>\n      <td>1.0</td>\n    </tr>\n    <tr>\n      <th>5</th>\n      <td>0.005618</td>\n      <td>1.0</td>\n      <td>0.367921</td>\n      <td>0.000</td>\n      <td>0.000000</td>\n      <td>0.016510</td>\n      <td>0.0</td>\n      <td>1.0</td>\n    </tr>\n    <tr>\n      <th>6</th>\n      <td>0.006742</td>\n      <td>0.0</td>\n      <td>0.673285</td>\n      <td>0.000</td>\n      <td>0.000000</td>\n      <td>0.101229</td>\n      <td>0.0</td>\n      <td>1.0</td>\n    </tr>\n    <tr>\n      <th>7</th>\n      <td>0.007865</td>\n      <td>1.0</td>\n      <td>0.019854</td>\n      <td>0.375</td>\n      <td>0.166667</td>\n      <td>0.041136</td>\n      <td>0.0</td>\n      <td>1.0</td>\n    </tr>\n    <tr>\n      <th>8</th>\n      <td>0.008989</td>\n      <td>1.0</td>\n      <td>0.334004</td>\n      <td>0.000</td>\n      <td>0.333333</td>\n      <td>0.021731</td>\n      <td>1.0</td>\n      <td>0.0</td>\n    </tr>\n    <tr>\n      <th>9</th>\n      <td>0.010112</td>\n      <td>0.5</td>\n      <td>0.170646</td>\n      <td>0.125</td>\n      <td>0.000000</td>\n      <td>0.058694</td>\n      <td>1.0</td>\n      <td>0.0</td>\n    </tr>\n  </tbody>\n</table>\n</div>"
     },
     "metadata": {},
     "execution_count": 46
    }
   ],
   "source": [
    "# scale the features\n",
    "scaler = MinMaxScaler().fit(X)\n",
    "\n",
    "X_scaled = pd.DataFrame(scaler.transform(X))\n",
    "\n",
    "X_scaled.head(10)"
   ]
  },
  {
   "cell_type": "code",
   "execution_count": 47,
   "metadata": {},
   "outputs": [
    {
     "output_type": "execute_result",
     "data": {
      "text/plain": "   PassengerId  Pclass        Age  SibSp  Parch     Fare  Sex_female  Sex_male\n0            1       3  22.000000      1      0   7.2500           0         1\n1            2       1  38.000000      1      0  71.2833           1         0\n2            3       3  26.000000      0      0   7.9250           1         0\n3            4       1  35.000000      1      0  53.1000           1         0\n4            5       3  35.000000      0      0   8.0500           0         1\n5            6       3  29.699118      0      0   8.4583           0         1\n6            7       1  54.000000      0      0  51.8625           0         1\n7            8       3   2.000000      3      1  21.0750           0         1\n8            9       3  27.000000      0      2  11.1333           1         0\n9           10       2  14.000000      1      0  30.0708           1         0",
      "text/html": "<div>\n<style scoped>\n    .dataframe tbody tr th:only-of-type {\n        vertical-align: middle;\n    }\n\n    .dataframe tbody tr th {\n        vertical-align: top;\n    }\n\n    .dataframe thead th {\n        text-align: right;\n    }\n</style>\n<table border=\"1\" class=\"dataframe\">\n  <thead>\n    <tr style=\"text-align: right;\">\n      <th></th>\n      <th>PassengerId</th>\n      <th>Pclass</th>\n      <th>Age</th>\n      <th>SibSp</th>\n      <th>Parch</th>\n      <th>Fare</th>\n      <th>Sex_female</th>\n      <th>Sex_male</th>\n    </tr>\n  </thead>\n  <tbody>\n    <tr>\n      <th>0</th>\n      <td>1</td>\n      <td>3</td>\n      <td>22.000000</td>\n      <td>1</td>\n      <td>0</td>\n      <td>7.2500</td>\n      <td>0</td>\n      <td>1</td>\n    </tr>\n    <tr>\n      <th>1</th>\n      <td>2</td>\n      <td>1</td>\n      <td>38.000000</td>\n      <td>1</td>\n      <td>0</td>\n      <td>71.2833</td>\n      <td>1</td>\n      <td>0</td>\n    </tr>\n    <tr>\n      <th>2</th>\n      <td>3</td>\n      <td>3</td>\n      <td>26.000000</td>\n      <td>0</td>\n      <td>0</td>\n      <td>7.9250</td>\n      <td>1</td>\n      <td>0</td>\n    </tr>\n    <tr>\n      <th>3</th>\n      <td>4</td>\n      <td>1</td>\n      <td>35.000000</td>\n      <td>1</td>\n      <td>0</td>\n      <td>53.1000</td>\n      <td>1</td>\n      <td>0</td>\n    </tr>\n    <tr>\n      <th>4</th>\n      <td>5</td>\n      <td>3</td>\n      <td>35.000000</td>\n      <td>0</td>\n      <td>0</td>\n      <td>8.0500</td>\n      <td>0</td>\n      <td>1</td>\n    </tr>\n    <tr>\n      <th>5</th>\n      <td>6</td>\n      <td>3</td>\n      <td>29.699118</td>\n      <td>0</td>\n      <td>0</td>\n      <td>8.4583</td>\n      <td>0</td>\n      <td>1</td>\n    </tr>\n    <tr>\n      <th>6</th>\n      <td>7</td>\n      <td>1</td>\n      <td>54.000000</td>\n      <td>0</td>\n      <td>0</td>\n      <td>51.8625</td>\n      <td>0</td>\n      <td>1</td>\n    </tr>\n    <tr>\n      <th>7</th>\n      <td>8</td>\n      <td>3</td>\n      <td>2.000000</td>\n      <td>3</td>\n      <td>1</td>\n      <td>21.0750</td>\n      <td>0</td>\n      <td>1</td>\n    </tr>\n    <tr>\n      <th>8</th>\n      <td>9</td>\n      <td>3</td>\n      <td>27.000000</td>\n      <td>0</td>\n      <td>2</td>\n      <td>11.1333</td>\n      <td>1</td>\n      <td>0</td>\n    </tr>\n    <tr>\n      <th>9</th>\n      <td>10</td>\n      <td>2</td>\n      <td>14.000000</td>\n      <td>1</td>\n      <td>0</td>\n      <td>30.0708</td>\n      <td>1</td>\n      <td>0</td>\n    </tr>\n  </tbody>\n</table>\n</div>"
     },
     "metadata": {},
     "execution_count": 47
    }
   ],
   "source": [
    "# compare to X\n",
    "X.head(10)"
   ]
  },
  {
   "cell_type": "code",
   "execution_count": 52,
   "metadata": {},
   "outputs": [
    {
     "output_type": "stream",
     "name": "stdout",
     "text": "the model is of type RandomForestClassifier\n"
    }
   ],
   "source": [
    "# create the model and fit the data\n",
    "clasifier2 = RandomForestClassifier(random_state=0, n_estimators=100)\n",
    "\n",
    "clasifier2.fit(X_scaled, y)\n",
    "print(\"the model is of type {}\".format(clasifier.__class__.__name__))"
   ]
  },
  {
   "cell_type": "code",
   "execution_count": 53,
   "metadata": {},
   "outputs": [
    {
     "output_type": "stream",
     "name": "stdout",
     "text": "the feature names are ['PassengerId', 'Pclass', 'Age', 'SibSp', 'Parch', 'Fare', 'Sex_female', 'Sex_male']\n"
    }
   ],
   "source": [
    "# get the feature rankings\n",
    "feature_inportance = clasifier2.feature_importances_\n",
    "feature_names = list(X.columns.values)\n",
    "\n",
    "print(\"the feature names are {}\".format(feature_names))\n"
   ]
  },
  {
   "cell_type": "code",
   "execution_count": 54,
   "metadata": {},
   "outputs": [
    {
     "output_type": "stream",
     "name": "stdout",
     "text": "the feature is (0.20166896563029998, 'Fare')\nthe feature is (0.20092813445500687, 'PassengerId')\nthe feature is (0.16893080157404036, 'Age')\nthe feature is (0.13855389272978433, 'Sex_female')\nthe feature is (0.1384837705961344, 'Sex_male')\nthe feature is (0.07763244697092184, 'Pclass')\nthe feature is (0.041572434705067766, 'SibSp')\nthe feature is (0.032229553338744485, 'Parch')\n"
    }
   ],
   "source": [
    "# zip the data\n",
    "zipped = zip(feature_inportance, feature_names)\n",
    "\n",
    "# sort the feature im;ortances\n",
    "features_sorted = sorted(zipped, reverse=True)\n",
    "\n",
    "for i, row in enumerate(features_sorted):\n",
    "    print(\"the feature is {}\".format(row))"
   ]
  },
  {
   "cell_type": "code",
   "execution_count": null,
   "metadata": {},
   "outputs": [],
   "source": []
  }
 ],
 "metadata": {
  "language_info": {
   "codemirror_mode": {
    "name": "ipython",
    "version": 3
   },
   "file_extension": ".py",
   "mimetype": "text/x-python",
   "name": "python",
   "nbconvert_exporter": "python",
   "pygments_lexer": "ipython3",
   "version": "3.7.6-final"
  },
  "orig_nbformat": 2,
  "kernelspec": {
   "name": "python37664bittf237venv9b274482c7ba4966ad2cf02baa9bb24c",
   "display_name": "Python 3.7.6 64-bit ('tf2_37': venv)"
  }
 },
 "nbformat": 4,
 "nbformat_minor": 2
}