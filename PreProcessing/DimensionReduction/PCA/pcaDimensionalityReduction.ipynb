{
 "cells": [
  {
   "cell_type": "code",
   "execution_count": 11,
   "metadata": {},
   "outputs": [
    {
     "output_type": "stream",
     "name": "stdout",
     "text": "the seaborn version is 0.10.1\nthe sklearn version is 0.22.2.post1\nthe pandas version is 1.0.3\n"
    }
   ],
   "source": [
    "# imports\n",
    "import sklearn as sk \n",
    "import pandas as pd \n",
    "from sklearn.datasets import load_iris\n",
    "from sklearn.decomposition import PCA\n",
    "import seaborn as sns \n",
    "\n",
    "print(\"the seaborn version is {}\".format(sns.__version__))\n",
    "print(\"the sklearn version is {}\".format(sk.__version__))\n",
    "print(\"the pandas version is {}\".format(pd.__version__))\n"
   ]
  },
  {
   "cell_type": "code",
   "execution_count": 4,
   "metadata": {},
   "outputs": [
    {
     "output_type": "stream",
     "name": "stdout",
     "text": "the iris data is of type <class 'sklearn.utils.Bunch'> and has headers ['data', 'target', 'target_names', 'DESCR', 'feature_names', 'filename']\n"
    }
   ],
   "source": [
    "# load the data\n",
    "iris = load_iris()\n",
    "\n",
    "print(\"the iris data is of type {} and has headers {}\".format(type(iris), list(iris)))\n"
   ]
  },
  {
   "cell_type": "code",
   "execution_count": 6,
   "metadata": {},
   "outputs": [
    {
     "output_type": "stream",
     "name": "stdout",
     "text": "the features are of type <class 'numpy.ndarray'> and shape (150, 4); the labels are of type <class 'numpy.ndarray'> and shape (150,)\n"
    }
   ],
   "source": [
    "# get the features and labels\n",
    "X = iris.data\n",
    "y = iris.target\n",
    "\n",
    "print(\"the features are of type {} and shape {}; the labels are of type {} and shape {}\".format(type(X), X.shape, type(y), y.shape))"
   ]
  },
  {
   "cell_type": "code",
   "execution_count": 10,
   "metadata": {},
   "outputs": [
    {
     "output_type": "stream",
     "name": "stdout",
     "text": "the reduced features are of type <class 'numpy.ndarray'> and shape (150, 2)\n"
    }
   ],
   "source": [
    "# build the pca\n",
    "pca = PCA(n_components=2)\n",
    "X_2d = pca.fit_transform(X)\n",
    "\n",
    "print(\"the reduced features are of type {} and shape {}\".format(type(X_2d), X_2d.shape))"
   ]
  },
  {
   "cell_type": "code",
   "execution_count": null,
   "metadata": {},
   "outputs": [],
   "source": [
    "# plot the 2d dimensions\n"
   ]
  }
 ],
 "metadata": {
  "language_info": {
   "codemirror_mode": {
    "name": "ipython",
    "version": 3
   },
   "file_extension": ".py",
   "mimetype": "text/x-python",
   "name": "python",
   "nbconvert_exporter": "python",
   "pygments_lexer": "ipython3",
   "version": "3.7.6-final"
  },
  "orig_nbformat": 2,
  "kernelspec": {
   "name": "python37664bittf237venv9b274482c7ba4966ad2cf02baa9bb24c",
   "display_name": "Python 3.7.6 64-bit ('tf2_37': venv)"
  }
 },
 "nbformat": 4,
 "nbformat_minor": 2
}