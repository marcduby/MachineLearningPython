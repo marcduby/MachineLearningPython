{
 "cells": [
  {
   "cell_type": "code",
   "execution_count": 52,
   "metadata": {},
   "outputs": [
    {
     "output_type": "stream",
     "name": "stdout",
     "text": "the numpy version is 1.18.1\nthe sklearn version is 0.22.2.post1\n"
    }
   ],
   "source": [
    "# import\n",
    "import numpy as np \n",
    "from sklearn.utils import shuffle\n",
    "\n",
    "print(\"the numpy version is {}\".format(np.__version__))\n",
    "print(\"the sklearn version is {}\".format(sklearn.__version__))"
   ]
  },
  {
   "cell_type": "code",
   "execution_count": 48,
   "metadata": {},
   "outputs": [],
   "source": [
    "# create the data\n",
    "X = np.array([[1., 0.], [2., 1.], [3., 2.], [4., 3.], [5., 4.]])\n",
    "y = np.array([0, 1, 2, 3, 4])\n"
   ]
  },
  {
   "cell_type": "code",
   "execution_count": 49,
   "metadata": {},
   "outputs": [
    {
     "output_type": "stream",
     "name": "stdout",
     "text": "X is [[1. 0.]\n [2. 1.]\n [3. 2.]\n [4. 3.]\n [5. 4.]]\ny is [0 1 2 3 4]\n"
    }
   ],
   "source": [
    "print(\"X is {}\".format(X))\n",
    "print(\"y is {}\".format(y))\n"
   ]
  },
  {
   "cell_type": "code",
   "execution_count": 53,
   "metadata": {},
   "outputs": [
    {
     "output_type": "stream",
     "name": "stdout",
     "text": "X is [[1. 0.]\n [2. 1.]\n [3. 2.]\n [4. 3.]\n [5. 4.]]\ny is [0 1 2 3 4]\nX2 is [[3. 2.]\n [5. 4.]\n [2. 1.]\n [4. 3.]\n [1. 0.]]\ny2 is [2 4 1 3 0]\n"
    }
   ],
   "source": [
    "# shuffle the data\n",
    "X2, y2 = shuffle(X, y, random_state=2)\n",
    "\n",
    "print(\"X is {}\".format(X))\n",
    "print(\"y is {}\".format(y))\n",
    "print(\"X2 is {}\".format(X2))\n",
    "print(\"y2 is {}\".format(y2))"
   ]
  },
  {
   "cell_type": "code",
   "execution_count": null,
   "metadata": {},
   "outputs": [],
   "source": []
  }
 ],
 "metadata": {
  "language_info": {
   "codemirror_mode": {
    "name": "ipython",
    "version": 3
   },
   "file_extension": ".py",
   "mimetype": "text/x-python",
   "name": "python",
   "nbconvert_exporter": "python",
   "pygments_lexer": "ipython3",
   "version": "3.7.6-final"
  },
  "orig_nbformat": 2,
  "kernelspec": {
   "name": "python37664bittf237venv9b274482c7ba4966ad2cf02baa9bb24c",
   "display_name": "Python 3.7.6 64-bit ('tf2_37': venv)"
  }
 },
 "nbformat": 4,
 "nbformat_minor": 2
}