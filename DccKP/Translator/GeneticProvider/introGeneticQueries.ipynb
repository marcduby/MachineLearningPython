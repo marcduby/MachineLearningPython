{
 "cells": [
  {
   "cell_type": "code",
   "execution_count": 47,
   "metadata": {},
   "outputs": [],
   "source": [
    "# imports\n",
    "import pandas as pd \n",
    "import json\n",
    "import urllib.request\n"
   ]
  },
  {
   "cell_type": "code",
   "execution_count": 48,
   "metadata": {},
   "outputs": [],
   "source": [
    "# set the url to call\n",
    "genetic_url = \"https://translator.broadinstitute.org/genetics_data_provider/query\"\n",
    "\n",
    "headers = {\n",
    "    \"Content-Type\": \"application/json\",\n",
    "    \"Accept\": \"application/json\",\n",
    "}"
   ]
  },
  {
   "cell_type": "code",
   "execution_count": 61,
   "metadata": {},
   "outputs": [
    {
     "output_type": "stream",
     "name": "stdout",
     "text": "{\"message\": {\"query_graph\": {\"nodes\": [{\"curie\": \"MONDO:0007455\", \"id\": \"n00\", \"type\": \"disease\"}, {\"id\": \"n01\", \"type\": \"gene\"}]}, \"edges\": {\"id\": \"e00\", \"source_id\": \"n00\", \"target_id\": \"n01\", \"type\": \"associated\"}}}\n"
    }
   ],
   "source": [
    "# build the json payload\n",
    "json_edges = {\"id\": \"e00\", \"source_id\": \"n00\", \"target_id\": \"n01\", \"type\": \"associated\"}\n",
    "json_node1 = {\"curie\": \"MONDO:0007455\", \"id\": \"n00\", \"type\": \"disease\"}\n",
    "json_node2 = {\"id\": \"n01\", \"type\": \"gene\"}\n",
    "json_payload = {\"message\": {\"query_graph\": {\"edges\": json_edges}, \"nodes\": [json_node1, json_node2]}}\n",
    "\n",
    "payload_data = json.dumps(json_payload)\n",
    "print(payload_data)\n"
   ]
  },
  {
   "cell_type": "code",
   "execution_count": 64,
   "metadata": {},
   "outputs": [
    {
     "output_type": "stream",
     "name": "stdout",
     "text": "{'detail': '\\'{\"message\": {\"query_graph\": {\"nodes\": [{\"curie\": \"MONDO:0007455\", \"id\": \"n00\", \"type\": \"disease\"}, {\"id\": \"n01\", \"type\": \"gene\"}]}, \"edges\": {\"id\": \"e00\", \"source_id\": \"n00\", \"target_id\": \"n01\", \"type\": \"associated\"}}}\\' is not of type \\'object\\'', 'status': 400, 'title': 'Bad Request', 'type': 'about:blank'}\n"
    }
   ],
   "source": [
    "import requests\n",
    "response = requests.post(genetic_url, json=payload_data).json()\n",
    "\n",
    "print(response)\n"
   ]
  },
  {
   "cell_type": "code",
   "execution_count": 63,
   "metadata": {},
   "outputs": [
    {
     "output_type": "error",
     "ename": "KeyError",
     "evalue": "'knowledge_graph'",
     "traceback": [
      "\u001b[0;31m---------------------------------------------------------------------------\u001b[0m",
      "\u001b[0;31mKeyError\u001b[0m                                  Traceback (most recent call last)",
      "\u001b[0;32m<ipython-input-63-7e01622a722a>\u001b[0m in \u001b[0;36m<module>\u001b[0;34m\u001b[0m\n\u001b[0;32m----> 1\u001b[0;31m \u001b[0mresponse\u001b[0m\u001b[0;34m[\u001b[0m\u001b[0;34m'knowledge_graph'\u001b[0m\u001b[0;34m]\u001b[0m\u001b[0;34m[\u001b[0m\u001b[0;34m'nodes'\u001b[0m\u001b[0;34m]\u001b[0m\u001b[0;34m\u001b[0m\u001b[0;34m\u001b[0m\u001b[0m\n\u001b[0m",
      "\u001b[0;31mKeyError\u001b[0m: 'knowledge_graph'"
     ]
    }
   ],
   "source": [
    "response['knowledge_graph']['nodes']"
   ]
  },
  {
   "cell_type": "code",
   "execution_count": null,
   "metadata": {},
   "outputs": [],
   "source": [
    "gene_ids = [node['id'] for node in esponse['knowledge_graph']['nodes'] if node['type']=='gene']\n",
    "\n",
    "len(gene_ids)"
   ]
  },
  {
   "cell_type": "code",
   "execution_count": 58,
   "metadata": {},
   "outputs": [
    {
     "output_type": "stream",
     "name": "stdout",
     "text": "HTTP Error 400: BAD REQUEST\n"
    }
   ],
   "source": [
    "# make the REST call\n",
    "try:\n",
    "    req = urllib.request.Request(genetic_url, payload_data, headers)\n",
    "    with urllib.request.urlopen(req) as f:\n",
    "        res = f.read()\n",
    "    print(\"got successful response\\ng\")\n",
    "    print(res.decode())\n",
    "except Exception as e:\n",
    "    print(e)\n"
   ]
  },
  {
   "cell_type": "code",
   "execution_count": null,
   "metadata": {},
   "outputs": [],
   "source": []
  }
 ],
 "metadata": {
  "language_info": {
   "codemirror_mode": {
    "name": "ipython",
    "version": 3
   },
   "file_extension": ".py",
   "mimetype": "text/x-python",
   "name": "python",
   "nbconvert_exporter": "python",
   "pygments_lexer": "ipython3",
   "version": "3.7.6-final"
  },
  "orig_nbformat": 2,
  "kernelspec": {
   "name": "python37664bittf237venv9b274482c7ba4966ad2cf02baa9bb24c",
   "display_name": "Python 3.7.6 64-bit ('tf2_37': venv)"
  }
 },
 "nbformat": 4,
 "nbformat_minor": 2
}