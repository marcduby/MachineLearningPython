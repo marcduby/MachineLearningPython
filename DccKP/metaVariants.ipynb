{
 "cells": [
  {
   "cell_type": "code",
   "execution_count": 5,
   "metadata": {
    "collapsed": true
   },
   "outputs": [],
   "source": [
    "# imports\n",
    "import pandas as pd\n",
    "import json\n",
    "import requests\n",
    "\n",
    "\n"
   ]
  },
  {
   "cell_type": "code",
   "execution_count": 7,
   "metadata": {},
   "outputs": [],
   "source": [
    "# make the call\n",
    "req = requests.get('http://public.type2diabeteskb.org/dccservices/graph/meta/variant/object?var_id=8_118184783_C_T&limit=30')\n"
   ]
  },
  {
   "cell_type": "code",
   "execution_count": 9,
   "metadata": {},
   "outputs": [],
   "source": [
    "# read the data into json\n",
    "req_json = req.json()\n",
    "print(\"the json is: {}\".format(req_json))"
   ]
  },
  {
   "cell_type": "code",
   "execution_count": 10,
   "metadata": {},
   "outputs": [],
   "source": [
    "# read into a pandas data frame\n",
    "data_frame = pd.DataFrame(req_json['data'])\n"
   ]
  },
  {
   "cell_type": "code",
   "execution_count": 12,
   "metadata": {},
   "outputs": [
    {
     "name": "stdout",
     "output_type": "stream",
     "text": [
      "data frame info: \n            beta  number_samples        p_value          pos    std_err\ncount  30.000000    3.000000e+01   3.000000e+01         30.0  30.000000\nmean    0.019763    2.712376e+05   1.897601e-03  118184783.0   0.015100\nstd     0.068830    6.288829e+05   2.737642e-03          0.0   0.011784\nmin    -0.107300    1.268000e+03  3.110000e-178  118184783.0   0.001100\n25%    -0.039275    5.459000e+03   1.183750e-05  118184783.0   0.004175\n50%     0.011600    8.756000e+03   4.363500e-04  118184783.0   0.015500\n75%     0.087300    1.499692e+05   2.993500e-03  118184783.0   0.022575\nmax     0.122200    2.491120e+06   9.573000e-03  118184783.0   0.044100\n"
     ]
    }
   ],
   "source": [
    "# describe into the data frame\n",
    "print(\"data frame info: \\n{}\".format(data_frame.describe()))"
   ]
  },
  {
   "cell_type": "code",
   "execution_count": 13,
   "metadata": {},
   "outputs": [
    {
     "name": "stdout",
     "output_type": "stream",
     "text": [
      "show the first 10 rows: \n  alt    beta chrom  number_samples        p_value     phenotype  \\\n0   T -0.1066     8         2237710  3.110000e-178           T2D   \n1   T -0.1073     8         1177440   1.107000e-69     T2DadjBMI   \n2   T -0.0184     8          214021   6.715000e-45         HBA1C   \n3   T -0.0302     8          220129   5.513000e-34            FG   \n4   T -0.0423     8           93146   1.746000e-19            BS   \n5   T -0.0690     8           46186   4.915000e-11            PI   \n6   T  0.0102     8         2491120   8.088000e-10           BMI   \n7   T  0.0978     8            5567   1.144000e-05          PEAK   \n8   T  0.0977     8            5506   1.303000e-05           AIR   \n9   T  0.0976     8            5458   1.486000e-05  AIRadjBMInSI   \n\n  phenotype_group        pos ref  std_err           var_id  \n0        GLYCEMIC  118184783   C   0.0034  8_118184783_C_T  \n1        GLYCEMIC  118184783   C   0.0047  8_118184783_C_T  \n2        GLYCEMIC  118184783   C   0.0014  8_118184783_C_T  \n3        GLYCEMIC  118184783   C   0.0019  8_118184783_C_T  \n4        GLYCEMIC  118184783   C   0.0047  8_118184783_C_T  \n5        GLYCEMIC  118184783   C   0.0110  8_118184783_C_T  \n6  ANTHROPOMETRIC  118184783   C   0.0011  8_118184783_C_T  \n7        GLYCEMIC  118184783   C   0.0223  8_118184783_C_T  \n8        GLYCEMIC  118184783   C   0.0224  8_118184783_C_T  \n9        GLYCEMIC  118184783   C   0.0225  8_118184783_C_T  \n"
     ]
    }
   ],
   "source": [
    "# show the first 10 rows\n",
    "print(\"show the first 10 rows: \\n{}\".format(data_frame.head(10)))\n"
   ]
  },
  {
   "cell_type": "code",
   "execution_count": null,
   "metadata": {},
   "outputs": [],
   "source": []
  }
 ],
 "metadata": {
  "kernelspec": {
   "display_name": "Python 2",
   "language": "python",
   "name": "python2"
  },
  "language_info": {
   "codemirror_mode": {
    "name": "ipython",
    "version": 2
   },
   "file_extension": ".py",
   "mimetype": "text/x-python",
   "name": "python",
   "nbconvert_exporter": "python",
   "pygments_lexer": "ipython2",
   "version": "2.7.6"
  }
 },
 "nbformat": 4,
 "nbformat_minor": 0
}
