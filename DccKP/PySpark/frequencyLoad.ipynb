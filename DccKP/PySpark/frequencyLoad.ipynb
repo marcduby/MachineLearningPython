{
 "nbformat": 4,
 "nbformat_minor": 2,
 "metadata": {
  "language_info": {
   "name": "python",
   "codemirror_mode": {
    "name": "ipython",
    "version": 3
   },
   "version": "3.7.6-final"
  },
  "orig_nbformat": 2,
  "file_extension": ".py",
  "mimetype": "text/x-python",
  "name": "python",
  "npconvert_exporter": "python",
  "pygments_lexer": "ipython3",
  "version": 3,
  "kernelspec": {
   "name": "python37664bittf237venv9b274482c7ba4966ad2cf02baa9bb24c",
   "display_name": "Python 3.7.6 64-bit ('tf2_37': venv)"
  }
 },
 "cells": [
  {
   "cell_type": "code",
   "execution_count": 47,
   "metadata": {},
   "outputs": [],
   "source": [
    "from pyspark.sql import SparkSession\n",
    "from pyspark.sql.types import StructType, StructField, StringType, BooleanType, DoubleType, IntegerType\n",
    "from pyspark.sql.functions import col, struct, explode, when, lit, array_max, array\n",
    ""
   ]
  },
  {
   "cell_type": "code",
   "execution_count": 15,
   "metadata": {},
   "outputs": [],
   "source": [
    "# specify the frequency file path\n",
    "freq_path = \"/Users/mduby/Data/Broad/Aggregator/BurdenBinning/Frequency\"\n",
    ""
   ]
  },
  {
   "cell_type": "code",
   "execution_count": 16,
   "metadata": {},
   "outputs": [],
   "source": [
    "# open spark session\n",
    "spark = SparkSession.builder.appName('bioindex').getOrCreate()\n",
    "\n",
    ""
   ]
  },
  {
   "cell_type": "code",
   "execution_count": 24,
   "metadata": {},
   "outputs": [],
   "source": [
    "# this is the schema written out by the frequency analysis processor\n",
    "frequency_schema = StructType(\n",
    "    [\n",
    "        StructField('varId', StringType(), nullable=False),\n",
    "        StructField('chromosome', StringType(), nullable=False),\n",
    "        StructField('position', IntegerType(), nullable=False),\n",
    "        StructField('reference', StringType(), nullable=False),\n",
    "        StructField('alt', StringType(), nullable=False),\n",
    "        StructField('eaf', DoubleType(), nullable=False),\n",
    "        StructField('maf', DoubleType(), nullable=False),\n",
    "        StructField('ancestry', StringType(), nullable=False),\n",
    "    ]\n",
    ")"
   ]
  },
  {
   "cell_type": "code",
   "execution_count": 35,
   "metadata": {},
   "outputs": [],
   "source": [
    "# method to load the frequencies\n",
    "def load_freq(ancestry_name, freq_srcdir):\n",
    "    return spark.read \\\n",
    "        .csv('%s/%s/part-*' % (freq_srcdir, ancestry_name), sep='\\t', header=True, schema=frequency_schema) \\\n",
    "        .select(col('varId'), col('maf').alias(ancestry_name))\n",
    ""
   ]
  },
  {
   "cell_type": "code",
   "execution_count": 36,
   "metadata": {},
   "outputs": [
    {
     "output_type": "stream",
     "name": "stdout",
     "text": "we have 59441 frequency data rows\n+----------------+-------------------+\n|           varId|                 AA|\n+----------------+-------------------+\n| 10:10014153:G:C|             0.1709|\n|10:100153688:C:T| 0.3759333333333334|\n|10:100169950:T:C|0.16363333333333333|\n|10:100170708:G:A|            0.01095|\n|10:100174146:C:T|             0.0541|\n|10:100175028:T:A|             0.0619|\n|10:100195110:C:T|           1.268E-4|\n|10:100202971:C:G|0.01120740953773322|\n| 10:10020665:C:A|             0.1707|\n|10:100217930:G:A|             0.0495|\n|10:100221501:G:C|           2.307E-4|\n|10:100249850:C:T|           6.341E-5|\n| 10:10025888:T:A|0.32603333333333334|\n|10:100281229:A:T|             0.0688|\n|10:100344905:T:C| 0.4730666666666667|\n|10:100425738:T:C|             0.0915|\n|10:100447585:T:A|0.34063333333333334|\n|10:100481443:C:T|           1.268E-4|\n|10:100539620:A:C|             0.4149|\n|10:100550711:C:A|0.07943333333333334|\n+----------------+-------------------+\nonly showing top 20 rows\n\n"
    }
   ],
   "source": [
    "# load the frequency data frame\n",
    "dataframe_frequency = load_freq('AA', freq_path)\n",
    "\n",
    "# count\n",
    "print(\"we have {} frequency data rows\".format(dataframe_frequency.count()))\n",
    "\n",
    "dataframe_frequency.show()"
   ]
  },
  {
   "cell_type": "code",
   "execution_count": 37,
   "metadata": {},
   "outputs": [
    {
     "output_type": "stream",
     "name": "stdout",
     "text": "Total count for ancestries is: 325263\n\n+----------------+-------------------+----+----+----+----+----+\n|           varId|                 AA|  AF|  EA|  EU|  HS|  SA|\n+----------------+-------------------+----+----+----+----+----+\n| 10:10014153:G:C|             0.1709|null|null|null|null|null|\n|10:100153688:C:T| 0.3759333333333334|null|null|null|null|null|\n|10:100169950:T:C|0.16363333333333333|null|null|null|null|null|\n|10:100170708:G:A|            0.01095|null|null|null|null|null|\n|10:100174146:C:T|             0.0541|null|null|null|null|null|\n|10:100175028:T:A|             0.0619|null|null|null|null|null|\n|10:100195110:C:T|           1.268E-4|null|null|null|null|null|\n|10:100202971:C:G|0.01120740953773322|null|null|null|null|null|\n| 10:10020665:C:A|             0.1707|null|null|null|null|null|\n|10:100217930:G:A|             0.0495|null|null|null|null|null|\n|10:100221501:G:C|           2.307E-4|null|null|null|null|null|\n|10:100249850:C:T|           6.341E-5|null|null|null|null|null|\n| 10:10025888:T:A|0.32603333333333334|null|null|null|null|null|\n|10:100281229:A:T|             0.0688|null|null|null|null|null|\n|10:100344905:T:C| 0.4730666666666667|null|null|null|null|null|\n|10:100425738:T:C|             0.0915|null|null|null|null|null|\n|10:100447585:T:A|0.34063333333333334|null|null|null|null|null|\n|10:100481443:C:T|           1.268E-4|null|null|null|null|null|\n|10:100539620:A:C|             0.4149|null|null|null|null|null|\n|10:100550711:C:A|0.07943333333333334|null|null|null|null|null|\n+----------------+-------------------+----+----+----+----+----+\nonly showing top 20 rows\n\n"
    }
   ],
   "source": [
    "# frequency outputs by ancestry\n",
    "ancestries = ['AA', 'AF', 'EA', 'EU', 'HS', 'SA']\n",
    "dataframe_freq = None\n",
    "\n",
    "# load frequencies by variant ID\n",
    "for ancestry in ancestries:\n",
    "    df = load_freq(ancestry, freq_path)\n",
    "\n",
    "    # final, joined frequencies\n",
    "    dataframe_freq = df if dataframe_freq is None else dataframe_freq.join(df, 'varId', how='outer')\n",
    "\n",
    "# count\n",
    "print(\"Total count for ancestries is: {}\\n\".format(dataframe_freq.count()))\n",
    "dataframe_freq.show()\n",
    ""
   ]
  },
  {
   "cell_type": "code",
   "execution_count": 48,
   "metadata": {},
   "outputs": [
    {
     "output_type": "stream",
     "name": "stdout",
     "text": "Total count for ancestries is: 325263\n\n+----------------+--------------------+\n|           varId|           frequency|\n+----------------+--------------------+\n| 10:10014153:G:C|       [0.1709,,,,,]|\n|10:100153688:C:T|[0.37593333333333...|\n|10:100169950:T:C|[0.16363333333333...|\n|10:100170708:G:A|      [0.01095,,,,,]|\n|10:100174146:C:T|       [0.0541,,,,,]|\n|10:100175028:T:A|       [0.0619,,,,,]|\n|10:100195110:C:T|     [1.268E-4,,,,,]|\n|10:100202971:C:G|[0.01120740953773...|\n| 10:10020665:C:A|       [0.1707,,,,,]|\n|10:100217930:G:A|       [0.0495,,,,,]|\n|10:100221501:G:C|     [2.307E-4,,,,,]|\n|10:100249850:C:T|     [6.341E-5,,,,,]|\n| 10:10025888:T:A|[0.32603333333333...|\n|10:100281229:A:T|       [0.0688,,,,,]|\n|10:100344905:T:C|[0.47306666666666...|\n|10:100425738:T:C|       [0.0915,,,,,]|\n|10:100447585:T:A|[0.34063333333333...|\n|10:100481443:C:T|     [1.268E-4,,,,,]|\n|10:100539620:A:C|       [0.4149,,,,,]|\n|10:100550711:C:A|[0.07943333333333...|\n+----------------+--------------------+\nonly showing top 20 rows\n\n"
    }
   ],
   "source": [
    "# pull all the frequencies together into a single map\n",
    "freq = dataframe_freq.select(dataframe_freq.varId, array(*ancestries).alias('frequency'))\n",
    "\n",
    "# count\n",
    "print(\"Total count for ancestries is: {}\\n\".format(freq.count()))\n",
    "freq.show()"
   ]
  },
  {
   "cell_type": "code",
   "execution_count": 50,
   "metadata": {},
   "outputs": [
    {
     "output_type": "stream",
     "name": "stdout",
     "text": "Total count for max frequencies is: 325263\n\n+----------------+-------------------+\n|           varId|           max_freq|\n+----------------+-------------------+\n| 10:10014153:G:C|             0.1709|\n|10:100153688:C:T| 0.3759333333333334|\n|10:100169950:T:C|0.16363333333333333|\n|10:100170708:G:A|            0.01095|\n|10:100174146:C:T|             0.0541|\n|10:100175028:T:A|             0.0619|\n|10:100195110:C:T|           1.268E-4|\n|10:100202971:C:G|0.01120740953773322|\n| 10:10020665:C:A|             0.1707|\n|10:100217930:G:A|             0.0495|\n|10:100221501:G:C|           2.307E-4|\n|10:100249850:C:T|           6.341E-5|\n| 10:10025888:T:A|0.32603333333333334|\n|10:100281229:A:T|             0.0688|\n|10:100344905:T:C| 0.4730666666666667|\n|10:100425738:T:C|             0.0915|\n|10:100447585:T:A|0.34063333333333334|\n|10:100481443:C:T|           1.268E-4|\n|10:100539620:A:C|             0.4149|\n|10:100550711:C:A|0.07943333333333334|\n+----------------+-------------------+\nonly showing top 20 rows\n\n"
    }
   ],
   "source": [
    "# get the max for all frequencies\n",
    "max_freq = freq.select(freq.varId, array_max('frequency').alias('max_freq'))\n",
    "\n",
    "# count\n",
    "print(\"Total count for max frequencies is: {}\\n\".format(max_freq.count()))\n",
    "max_freq.show()"
   ]
  },
  {
   "cell_type": "code",
   "execution_count": 52,
   "metadata": {},
   "outputs": [],
   "source": [
    "# done\n",
    "spark.stop()\n",
    ""
   ]
  },
  {
   "cell_type": "code",
   "execution_count": null,
   "metadata": {},
   "outputs": [],
   "source": []
  }
 ]
}