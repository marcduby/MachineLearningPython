{
 "nbformat": 4,
 "nbformat_minor": 2,
 "metadata": {
  "language_info": {
   "name": "python",
   "codemirror_mode": {
    "name": "ipython",
    "version": 3
   },
   "version": "3.7.6-final"
  },
  "orig_nbformat": 2,
  "file_extension": ".py",
  "mimetype": "text/x-python",
  "name": "python",
  "npconvert_exporter": "python",
  "pygments_lexer": "ipython3",
  "version": 3,
  "kernelspec": {
   "name": "python37664bittf237venv9b274482c7ba4966ad2cf02baa9bb24c",
   "display_name": "Python 3.7.6 64-bit ('tf2_37': venv)"
  }
 },
 "cells": [
  {
   "cell_type": "code",
   "execution_count": 2,
   "metadata": {},
   "outputs": [],
   "source": [
    "from pyspark.sql import SparkSession\n",
    "from pyspark.sql.types import StructType, StructField, StringType, BooleanType, DoubleType, IntegerType\n",
    "from pyspark.sql.functions import col, struct, explode, when, lit\n",
    "\n",
    ""
   ]
  },
  {
   "cell_type": "code",
   "execution_count": 3,
   "metadata": {},
   "outputs": [
    {
     "output_type": "stream",
     "name": "stdout",
     "text": "the input directory is: /Users/mduby/Data/Broad/Aggregator/BurdenBinning/20200330/test*\n"
    }
   ],
   "source": [
    "# load and output directory\n",
    "# vep_srcdir = 's3://dig-analysis-data/out/varianteffect/effects/part-*'\n",
    "# outdir = 's3://dig-bio-index/burden/vepbinning'\n",
    "\n",
    "# development localhost directories\n",
    "vep_srcdir = '/Users/mduby/Data/Broad/Aggregator/BurdenBinning/20200330/test*'\n",
    "outdir = '/Users/mduby/Data/Broad/Aggregator/BurdenBinning/20200330/Out'\n",
    "\n",
    "# print\n",
    "print(\"the input directory is: {}\".format(vep_srcdir))\n",
    ""
   ]
  },
  {
   "cell_type": "code",
   "execution_count": 5,
   "metadata": {},
   "outputs": [],
   "source": [
    "# open spark session\n",
    "spark = SparkSession.builder.appName('bioindex').getOrCreate()\n",
    ""
   ]
  },
  {
   "cell_type": "code",
   "execution_count": 39,
   "metadata": {},
   "outputs": [],
   "source": [
    "# constants for filters\n",
    "# there are 3 levels of filters (lof, impact + maf, and combined predictions)\n",
    "# the 7 bins will combine variantions of these three OR conditions\n",
    "\n",
    "# general filter\n",
    "filter_pick = \"pick\"\n",
    "\n",
    "# level 1 filter\n",
    "filter_lof = \"lof\"\n",
    "\n",
    "# level 2 filters\n",
    "filter_polyphen2_hdiv_pred = \"polyphen2_hdiv_pred\"\n",
    "filter_polyphen2_hvar_pred = \"polyphen2_hvar_pred\"\n",
    "filter_sift_red = \"sift_pred\"\n",
    "filter_mutationtaster_pred = \"mutationtaster_pred\"\n",
    "filter_lrt_pred = \"lrt_pred\"\n",
    "filter_metalr_pred = \"metalr_pred\"\n",
    "filter_provean_pred = \"provean_pred\"\n",
    "filter_fathmm_pred = \"fathmm_pred\"\n",
    "filter_fathmm_mkl_coding_pred = \"fathmm-mkl_coding_pred\"\n",
    "filter_eigen_pc_raw_rankscore = \"eigen-pc-raw_rankscore\"\n",
    "filter_dann_rankscore = \"dann_rankscore\"\n",
    "filter_vest3_rankscore = \"vest3_rankscore\"\n",
    "filter_cadd_raw_rankscore = \"cadd_raw_rankscore\"\n",
    "filter_metasvm_pred = \"metasvm_pred\"\n",
    "\n",
    "# aliases w/o -\n",
    "filter_fathmm_mkl_coding_pred_alias = \"fathmm_mkl_coding_pred\"\n",
    "filter_eigen_pc_raw_rankscore_alias = \"eigen_pc_raw_rankscore\"\n",
    "\n",
    "# level 3 filter\n",
    "filter_impact = \"impact\"\n",
    "\n",
    "# column constants\n",
    "var_id = \"varId\"\n",
    "gene_ensemble_id = \"geneEnsembleId\"\n",
    "burden_bin_id = \"burdenBinId\"\n",
    "\n",
    "# column variables for output\n",
    "var_id_col = col(var_id)\n",
    "gene_ensemble_id_col = col(gene_ensemble_id)\n",
    "burden_bin_id_col = col(burden_bin_id)\n",
    "\n",
    "# column variables for filters\n",
    "filter_lof_col = col(\"lof\")\n",
    "filter_polyphen2_hdiv_pred_col = col(\"polyphen2_hdiv_pred\")\n",
    "filter_polyphen2_hvar_pred_col = col(\"polyphen2_hvar_pred\")\n",
    "filter_sift_pred_col = col(\"sift_pred\")\n",
    "filter_lrt_pred_col = col(\"lrt_pred\")\n",
    "filter_mutationtaster_pred_col = col(\"mutationtaster_pred\")"
   ]
  },
  {
   "cell_type": "code",
   "execution_count": 80,
   "metadata": {},
   "outputs": [],
   "source": [
    "# variables for filters conditions\n",
    "condition_lof_hc = col('lof') == 'HC'\n",
    "condition_impact_moderate = col('impact') == 'MODERATE'\n",
    "condition_impact_high = col('impact') == 'HIGH'\n",
    "\n",
    "# level 2 condition for bin 7\n",
    "condition_level2_bin7 = (filter_polyphen2_hdiv_pred_col != 'D') & \\\n",
    "    (filter_polyphen2_hvar_pred_col != 'D') & \\\n",
    "    (filter_sift_pred_col != 'deleterious') & \\\n",
    "    (filter_lrt_pred_col != 'D') & \\\n",
    "    (~filter_mutationtaster_pred_col.isin(['A', 'D']))\n",
    "\n",
    "# level 2 exclusion condition for bin 6\n",
    "condition_level2_inclusion_bin6 = (filter_polyphen2_hdiv_pred_col == 'D') | \\\n",
    "    (filter_polyphen2_hvar_pred_col == 'D') | \\\n",
    "    (filter_sift_pred_col == 'deleterious') | \\\n",
    "    (filter_lrt_pred_col == 'D') | \\\n",
    "    (filter_mutationtaster_pred_col.isin(['A', 'D']))\n",
    "\n",
    "# level 2 exclusion condition for bin 5\n",
    "condition_level2_inclusion_bin5 = (filter_polyphen2_hdiv_pred_col == 'D') & \\\n",
    "    (filter_polyphen2_hvar_pred_col == 'D') & \\\n",
    "    (filter_sift_pred_col == 'deleterious') & \\\n",
    "    (filter_lrt_pred_col == 'D') & \\\n",
    "    (filter_mutationtaster_pred_col.isin(['A', 'D']))\n",
    "\n",
    "\n",
    ""
   ]
  },
  {
   "cell_type": "code",
   "execution_count": 54,
   "metadata": {},
   "outputs": [
    {
     "output_type": "stream",
     "name": "stdout",
     "text": "the loaded vep data count is: 329016\n+---------------+-------------+-------------+--------------------+---------+-----------------+--------------------+-----------------------+-----------------------+-------------------------------+---------------+---------+------+-----------------------+\n|_corrupt_record|allele_string|assembly_name|  colocated_variants|      end|               id|               input|intergenic_consequences|most_severe_consequence|regulatory_feature_consequences|seq_region_name|    start|strand|transcript_consequences|\n+---------------+-------------+-------------+--------------------+---------+-----------------+--------------------+-----------------------+-----------------------+-------------------------------+---------------+---------+------+-----------------------+\n|           null|          A/G|       GRCh37|[[,,,,,,, A/G/T,,...|100011334| 10:100011334:A:G|10\t100011334\t1000...|                   null|       missense_variant|                           null|             10|100011334|     1|   [[Y/H, protein_co...|\n|           null|          G/A|       GRCh37|[[, C:0, C:0,, C:...|100015480| 10:100015480:G:A|10\t100015480\t1000...|                   null|       missense_variant|                           null|             10|100015480|     1|   [[S/L, protein_co...|\n|           null|          G/C|       GRCh37|[[,,,,,,, G/C,, 1...|100015563| 10:100015563:G:C|10\t100015563\t1000...|                   null|         intron_variant|                           null|             10|100015563|     1|   [[, protein_codin...|\n|           null|          C/T|       GRCh37|[[,,,,,,, C/T,, 1...|100018721| 10:100018721:C:T|10\t100018721\t1000...|                   null|         intron_variant|                           null|             10|100018721|     1|   [[, protein_codin...|\n|           null|          A/G|       GRCh37|                null|100018936| 10:100018936:A:G|10\t100018936\t1000...|                   null|       missense_variant|                           null|             10|100018936|     1|   [[C/R, protein_co...|\n|           null|          C/T|       GRCh37|[[,,,,,,, C/T,, 1...|100021103| 10:100021103:C:T|10\t100021103\t1000...|                   null|         intron_variant|                           null|             10|100021103|     1|   [[, protein_codin...|\n|           null|          A/G|       GRCh37|                null|100022458| 10:100022458:A:G|10\t100022458\t1000...|                   null|         intron_variant|                           null|             10|100022458|     1|   [[, protein_codin...|\n|           null|          C/A|       GRCh37|[[,,,,,,, C/A,, 1...|100024221| 10:100024221:C:A|10\t100024221\t1000...|                   null|         intron_variant|                           null|             10|100024221|     1|   [[, protein_codin...|\n|           null|          T/C|       GRCh37|[[,,,,,,, T/C,, 1...| 10002488|  10:10002488:T:C|10\t10002488\t10002...|   [[[intergenic_var...|     intergenic_variant|                           null|             10| 10002488|     1|                   null|\n|           null|          G/A|       GRCh37|                null|100025424| 10:100025424:G:A|10\t100025424\t1000...|                   null|         intron_variant|                           null|             10|100025424|     1|   [[, protein_codin...|\n|           null|          A/C|       GRCh37|[[,,,,,,, A/C,, 1...|100028922| 10:100028922:A:C|10\t100028922\t1000...|                   null|   upstream_gene_var...|                           null|             10|100028922|     1|   [[, protein_codin...|\n|           null|          A/G|       GRCh37|                null| 10002896|  10:10002896:A:G|10\t10002896\t10002...|   [[[intergenic_var...|     intergenic_variant|                           null|             10| 10002896|     1|                   null|\n|           null|          G/A|       GRCh37|[[,,,,,,, G/A,, 1...|100061872| 10:100061872:G:A|10\t100061872\t1000...|   [[[intergenic_var...|     intergenic_variant|                           null|             10|100061872|     1|                   null|\n|           null|          G/T|       GRCh37|[[,,,,,,, G/A/T,,...|100065088| 10:100065088:G:T|10\t100065088\t1000...|   [[[intergenic_var...|     intergenic_variant|                           null|             10|100065088|     1|                   null|\n|           null|          C/T|       GRCh37|[[,,,,,,, C/T,, 1...|100078364| 10:100078364:C:T|10\t100078364\t1000...|   [[[intergenic_var...|     intergenic_variant|                           null|             10|100078364|     1|                   null|\n|           null|          A/C|       GRCh37|[[,,,,,,, A/C,, 1...|100080979| 10:100080979:A:C|10\t100080979\t1000...|   [[[intergenic_var...|     intergenic_variant|                           null|             10|100080979|     1|                   null|\n|           null|          G/A|       GRCh37|[[,,,,,,, G/A,, 1...|100082534| 10:100082534:G:A|10\t100082534\t1000...|   [[[intergenic_var...|     intergenic_variant|                           null|             10|100082534|     1|                   null|\n|           null|          G/A|       GRCh37|[[,,,,,,, G/A,, 1...|100104138| 10:100104138:G:A|10\t100104138\t1001...|   [[[intergenic_var...|     intergenic_variant|                           null|             10|100104138|     1|                   null|\n|           null|          T/G|       GRCh37|[[,,,,,,, T/G,, 1...|100104969| 10:100104969:T:G|10\t100104969\t1001...|   [[[intergenic_var...|     intergenic_variant|                           null|             10|100104969|     1|                   null|\n|           null|         AT/A|       GRCh37|                null|100115842|10:100115841:AT:A|10\t100115841\t1001...|   [[[intergenic_var...|     intergenic_variant|                           null|             10|100115841|     1|                   null|\n+---------------+-------------+-------------+--------------------+---------+-----------------+--------------------+-----------------------+-----------------------+-------------------------------+---------------+---------+------+-----------------------+\nonly showing top 20 rows\n\n"
    },
    {
     "output_type": "execute_result",
     "data": {
      "text/plain": "'None'"
     },
     "metadata": {},
     "execution_count": 54
    }
   ],
   "source": [
    "# load the json data\n",
    "vep = spark.read.json(vep_srcdir)\n",
    "\n",
    "# print\n",
    "print(\"the loaded vep data count is: {}\".format(vep.count()))\n",
    "format(vep.show())\n",
    ""
   ]
  },
  {
   "cell_type": "code",
   "execution_count": 56,
   "metadata": {},
   "outputs": [
    {
     "output_type": "stream",
     "name": "stdout",
     "text": "the filtered test data count is: 220431\n"
    }
   ],
   "source": [
    "# create new data frame with only var id\n",
    "transcript_consequences = vep.select(vep.id, vep.transcript_consequences) \\\n",
    "    .withColumn('cqs', explode(col('transcript_consequences'))) \\\n",
    "    .select(\n",
    "        col('id').alias('varId'),\n",
    "        col('cqs.gene_id').alias('geneEnsembleId'),\n",
    "        col('cqs.' + filter_lof).alias(filter_lof),\n",
    "        col('cqs.' + filter_impact).alias(filter_impact),\n",
    "\n",
    "        col('cqs.' + filter_polyphen2_hdiv_pred).alias(filter_polyphen2_hdiv_pred),\n",
    "        col('cqs.' + filter_polyphen2_hvar_pred).alias(filter_polyphen2_hvar_pred),\n",
    "        col('cqs.' + filter_sift_red).alias(filter_sift_red),\n",
    "        col('cqs.' + filter_mutationtaster_pred).alias(filter_mutationtaster_pred),\n",
    "        col('cqs.' + filter_lrt_pred).alias(filter_lrt_pred),\n",
    "        col('cqs.' + filter_metalr_pred).alias(filter_metalr_pred),\n",
    "\n",
    "        col('cqs.' + filter_provean_pred).alias(filter_provean_pred),\n",
    "        col('cqs.' + filter_fathmm_pred).alias(filter_fathmm_pred),\n",
    "        col('cqs.' + filter_fathmm_mkl_coding_pred).alias(filter_fathmm_mkl_coding_pred_alias),\n",
    "        col('cqs.' + filter_eigen_pc_raw_rankscore).alias(filter_eigen_pc_raw_rankscore_alias),\n",
    "        col('cqs.' + filter_dann_rankscore).alias(filter_dann_rankscore),\n",
    "        col('cqs.' + filter_vest3_rankscore).alias(filter_vest3_rankscore),\n",
    "        col('cqs.' + filter_cadd_raw_rankscore).alias(filter_cadd_raw_rankscore),\n",
    "        col('cqs.' + filter_metasvm_pred).alias(filter_metasvm_pred)\n",
    "    )\n",
    "\n",
    "\n",
    "# print\n",
    "print(\"the filtered test data count is: {}\".format(transcript_consequences.count()))\n",
    "# transcript_consequences.show()\n",
    "\n",
    ""
   ]
  },
  {
   "cell_type": "code",
   "execution_count": 66,
   "metadata": {},
   "outputs": [
    {
     "output_type": "stream",
     "name": "stdout",
     "text": "the lof data frame count is: 1201\n"
    }
   ],
   "source": [
    "# get the lof level 1 data frame\n",
    "dataframe_lof = transcript_consequences.filter(condition_lof_hc).select(var_id_col, gene_ensemble_id_col)\n",
    "\n",
    "# print\n",
    "print(\"the lof data frame count is: {}\".format(dataframe_lof.count()))\n",
    "# dataframe_lof.show()"
   ]
  },
  {
   "cell_type": "code",
   "execution_count": 67,
   "metadata": {},
   "outputs": [
    {
     "output_type": "stream",
     "name": "stdout",
     "text": "the moderate impact dataframe is 17404\nthe high impact dataframe is 1433\n"
    }
   ],
   "source": [
    "# get the level 3 dataframe\n",
    "dataframe_impact_moderate = transcript_consequences.filter(condition_impact_moderate).select(var_id_col, gene_ensemble_id_col)\n",
    "dataframe_impact_high = transcript_consequences.filter(condition_impact_high).select(var_id_col, gene_ensemble_id_col)\n",
    "\n",
    "# print\n",
    "print(\"the moderate impact dataframe is {}\".format(dataframe_impact_moderate.count()))\n",
    "print(\"the high impact dataframe is {}\".format(dataframe_impact_high.count()))\n",
    ""
   ]
  },
  {
   "cell_type": "code",
   "execution_count": 69,
   "metadata": {},
   "outputs": [
    {
     "output_type": "stream",
     "name": "stdout",
     "text": "level 2 data frame count: 5610\n"
    }
   ],
   "source": [
    "# get the initial level 2 dataframe\n",
    "dataframe_level2 = transcript_consequences.filter(condition_level2).select(var_id_col, gene_ensemble_id_col)\n",
    "\n",
    "print(\"level 2 data frame count: {}\".format(dataframe_level2.count()))\n",
    "# dataframe_level2.show()\n",
    ""
   ]
  },
  {
   "cell_type": "code",
   "execution_count": 70,
   "metadata": {},
   "outputs": [
    {
     "output_type": "stream",
     "name": "stdout",
     "text": "the final bin dataframe is: 1201\n"
    }
   ],
   "source": [
    "# BIN 1 of 7\n",
    "# create the final_1 df, just lof = HC\n",
    "final_bin1_data_frame = dataframe_lof.withColumn(burden_bin_id, lit('bin1_7')).select(var_id_col, gene_ensemble_id_col, burden_bin_id_col)\n",
    "\n",
    "# print\n",
    "print(\"the final bin# final_bin1_data_framermat(final_bin1_data_frame.count()))\n",
    "# final_bin1_data_frame.show()"
   ]
  },
  {
   "cell_type": "code",
   "execution_count": 73,
   "metadata": {},
   "outputs": [
    {
     "output_type": "stream",
     "name": "stdout",
     "text": "level 2 data frame count: 5610\nmoderate impact data frame count: 17404\nlof data frame count: 1201\nthe final bin 7 dataframe is: 18632\n"
    }
   ],
   "source": [
    "# BIN 7 of 7\n",
    "# get the initial level 2 dataframe\n",
    "dataframe_level2 = transcript_consequences.filter(condition_level2_bin7).select(var_id_col, gene_ensemble_id_col)\n",
    "\n",
    "print(\"level 2 data frame count: {}\".format(dataframe_level2.count()))\n",
    "print(\"moderate impact data frame count: {}\".format(dataframe_impact_moderate.count()))\n",
    "print(\"lof data frame count: {}\".format(dataframe_lof.count()))\n",
    "# dataframe_level2.show()\n",
    "\n",
    "# create the final_7 df, lof = HC, impact moderate, add in level 2 filters\n",
    "final_bin7_data_frame = dataframe_lof.union(dataframe_impact_moderate).union(dataframe_level2).distinct()\n",
    "final_bin7_data_frame = final_bin7_data_frame.withColumn(burden_bin_id, lit('bin7_7'))\n",
    "\n",
    "# print\n",
    "print(\"the final bin 7 dataframe is: {}\".format(final_bin7_data_frame.count()))\n",
    "# final_bin7_data_frame.show()"
   ]
  },
  {
   "cell_type": "code",
   "execution_count": 81,
   "metadata": {},
   "outputs": [
    {
     "output_type": "stream",
     "name": "stdout",
     "text": "level 2 exclusion data frame count: 17105\nlevel 2 inclusion data frame count: 9564\nmoderate impact data frame count: 17404\nlof data frame count: 1201\nthe final bin 6 dataframe is: 18726\n"
    }
   ],
   "source": [
    "# BIN 6 of 7\n",
    "# get the exclusion level 2 data frame\n",
    "dataframe_level2_exclusion = transcript_consequences.filter(~condition_level2_inclusion_bin5).select(var_id_col, gene_ensemble_id_col)\n",
    "dataframe_level2_inclusion = transcript_consequences.filter(condition_level2_inclusion_bin6).select(var_id_col, gene_ensemble_id_col)\n",
    "\n",
    "print(\"level 2 exclusion data frame count: {}\".format(dataframe_level2_exclusion.count()))\n",
    "print(\"level 2 inclusion data frame count: {}\".format(dataframe_level2_inclusion.count()))\n",
    "print(\"moderate impact data frame count: {}\".format(dataframe_impact_moderate.count()))\n",
    "print(\"lof data frame count: {}\".format(dataframe_lof.count()))\n",
    "# dataframe_level2.show()\n",
    "\n",
    "# create the final_6 df, lof = HC, impact moderate, add in level 2 filters\n",
    "final_bin6_data_frame = dataframe_level2_exclusion.union(dataframe_level2_inclusion) \\\n",
    "    .union(dataframe_lof).union(dataframe_impact_moderate) \\\n",
    "    .union(dataframe_level2_inclusion) \\\n",
    "    .distinct()\n",
    "final_bin6_data_frame = final_bin6_data_frame.withColumn(burden_bin_id, lit('bin6_7'))\n",
    "\n",
    "# print\n",
    "print(\"the final bin 6 dataframe is: {}\".format(final_bin6_data_frame.count()))\n",
    "# final_bin6_data_frame.show()\n",
    ""
   ]
  },
  {
   "cell_type": "code",
   "execution_count": 83,
   "metadata": {},
   "outputs": [
    {
     "output_type": "stream",
     "name": "stdout",
     "text": "level 2 inclusion data frame count: 0\nhigh impact data frame count: 1433\nlof data frame count: 1201\nthe final bin 5 dataframe is: 1433\n"
    }
   ],
   "source": [
    "# BIN 5 of 7\n",
    "# already have the inclusion level 2 data frame \n",
    "dataframe_level2_inclusion_bin5 = transcript_consequences.filter(condition_level2_inclusion_bin5).select(var_id_col, gene_ensemble_id_col)\n",
    "\n",
    "print(\"level 2 inclusion data frame count: {}\".format(dataframe_level2_inclusion_bin5.count()))\n",
    "print(\"high impact data frame count: {}\".format(dataframe_impact_high.count()))\n",
    "print(\"lof data frame count: {}\".format(dataframe_lof.count()))\n",
    "# dataframe_level2.show()\n",
    "\n",
    "# create the final_5 df, lof = HC, impact moderate, add in level 2 filters\n",
    "final_bin5_data_frame = dataframe_lof.union(dataframe_level2_inclusion_bin5).union(dataframe_impact_high).distinct()\n",
    "final_bin5_data_frame = final_bin5_data_frame.withColumn(burden_bin_id, lit('bin5_7'))\n",
    "\n",
    "# print\n",
    "print(\"the final bin 5 dataframe is: {}\".format(final_bin5_data_frame.count()))\n",
    "# final_bin5_data_frame.show()"
   ]
  },
  {
   "cell_type": "code",
   "execution_count": 163,
   "metadata": {},
   "outputs": [
    {
     "output_type": "stream",
     "name": "stdout",
     "text": "level 2 inclusion data frame count: 0\nlof data frame count: 1201\nthe final bin 4 dataframe is: 1201\n"
    }
   ],
   "source": [
    "# BIN 4 of 7\n",
    "# already have the inclusion level 2 data frame (exclusion from the previous bin 6 of 7)\n",
    "\n",
    "print(\"level 2 inclusion data frame count: {}\".format(dataframe_level2_exclusion.count()))\n",
    "print(\"lof data frame count: {}\".format(dataframe_lof.count()))\n",
    "# dataframe_level2.show()\n",
    "\n",
    "# create the final_4 df, lof = HC, impact moderate, add in level 2 filters\n",
    "final_bin4_data_frame = dataframe_lof.union(dataframe_level2_exclusion).distinct()\n",
    "final_bin4_data_frame = final_bin4_data_frame.withColumn(burden_bin_id, lit('bin4_7'))\n",
    "\n",
    "# print\n",
    "print(\"the final bin 4 dataframe is: {}\".format(final_bin4_data_frame.count()))\n",
    "# final_bin7_data_frame.show()"
   ]
  },
  {
   "cell_type": "code",
   "execution_count": 169,
   "metadata": {},
   "outputs": [
    {
     "output_type": "stream",
     "name": "stdout",
     "text": "bin 3 level 2 inclusion data frame count: 0\nlof data frame count: 1201\nthe final bin 3 dataframe is: 1201\n"
    }
   ],
   "source": [
    "# BIN 3 of 7\n",
    "# bin consists of bin4 level 2 filter with some added on filters\n",
    "dataframe_bin3_level2_inclusion = dataframe_level2_exclusion \\\n",
    "    .filter(dataframe_level2_exclusion.metalr_pred == 'D') \\\n",
    "    .filter(dataframe_level2_exclusion.metasvm_pred == 'D') \\\n",
    "    .filter(dataframe_level2_exclusion.provean_pred == 'D') \\\n",
    "    .filter(dataframe_level2_exclusion.fathmm_mkl_coding_pred == 'D') \\\n",
    "    .filter(dataframe_level2_exclusion.fathmm_pred == 'D')\n",
    "\n",
    "print(\"bin 3 level 2 inclusion data frame count: {}\".format(dataframe_bin3_level2_inclusion.count()))\n",
    "print(\"lof data frame count: {}\".format(dataframe_lof.count()))\n",
    "# dataframe_level2.show()\n",
    "\n",
    "# create the final_3 df, lof = HC, add in level 2 filters\n",
    "final_bin3_data_frame = dataframe_lof.union(dataframe_bin3_level2_inclusion).distinct()\n",
    "final_bin3_data_frame = final_bin3_data_frame.withColumn(burden_bin_id, lit('bin3_7'))\n",
    "\n",
    "# print\n",
    "print(\"the final bin 3 dataframe is: {}\".format(final_bin3_data_frame.count()))\n",
    "# final_bin7_data_frame.show()"
   ]
  },
  {
   "cell_type": "code",
   "execution_count": 168,
   "metadata": {},
   "outputs": [
    {
     "output_type": "stream",
     "name": "stdout",
     "text": "+-----+--------------+---+----+------+-------------------+-------------------+---------+-------------------+--------+-----------+------------+-----------+----------------------+----------------------+--------------+---------------+------------------+------------+\n|varId|geneEnsembleId|lof|pick|impact|polyphen2_hdiv_pred|polyphen2_hvar_pred|sift_pred|mutationtaster_pred|lrt_pred|metalr_pred|provean_pred|fathmm_pred|fathmm_mkl_coding_pred|eigen_pc_raw_rankscore|dann_rankscore|vest3_rankscore|cadd_raw_rankscore|metasvm_pred|\n+-----+--------------+---+----+------+-------------------+-------------------+---------+-------------------+--------+-----------+------------+-----------+----------------------+----------------------+--------------+---------------+------------------+------------+\n+-----+--------------+---+----+------+-------------------+-------------------+---------+-------------------+--------+-----------+------------+-----------+----------------------+----------------------+--------------+---------------+------------------+------------+\n\n"
    }
   ],
   "source": [
    "dataframe_bin3_level2_inclusion.show()"
   ]
  },
  {
   "cell_type": "code",
   "execution_count": 170,
   "metadata": {},
   "outputs": [
    {
     "output_type": "stream",
     "name": "stdout",
     "text": "bin 2 level 2 inclusion data frame count: 0\nlof data frame count: 1201\nthe final bin 3 dataframe is: 1201\n"
    }
   ],
   "source": [
    "# BIN 2 of 7\n",
    "# bin consists of bin3 level 2 filter with some more added on filters\n",
    "dataframe_bin2_level2_inclusion = dataframe_bin3_level2_inclusion \\\n",
    "    .filter(dataframe_level2_exclusion.eigen_pc_raw_rankscore > 0.9) \\\n",
    "    .filter(dataframe_level2_exclusion.dann_rankscore > 0.9) \\\n",
    "    .filter(dataframe_level2_exclusion.cadd_raw_rankscore > 0.9) \\\n",
    "    .filter(dataframe_level2_exclusion.vest3_rankscore > 0.9)\n",
    "\n",
    "print(\"bin 2 level 2 inclusion data frame count: {}\".format(dataframe_bin2_level2_inclusion.count()))\n",
    "print(\"lof data frame count: {}\".format(dataframe_lof.count()))\n",
    "# dataframe_level2.show()\n",
    "\n",
    "# create the final_2 df, lof = HC, add in level 2 filters\n",
    "final_bin2_data_frame = dataframe_lof.union(dataframe_bin2_level2_inclusion).distinct()\n",
    "final_bin2_data_frame = final_bin2_data_frame.withColumn(burden_bin_id, lit('bin2_7'))\n",
    "\n",
    "# print\n",
    "print(\"the final bin 3 dataframe is: {}\".format(final_bin3_data_frame.count()))\n",
    "# final_bin7_data_frame.show()"
   ]
  },
  {
   "cell_type": "code",
   "execution_count": 175,
   "metadata": {},
   "outputs": [
    {
     "output_type": "stream",
     "name": "stdout",
     "text": "the final agregated bin dataframe is: 43523\n"
    }
   ],
   "source": [
    "# combine all the bins into one dataframe\n",
    "output_data_frame = final_bin1_data_frame \\\n",
    "    .union(final_bin2_data_frame) \\\n",
    "    .union(final_bin3_data_frame) \\\n",
    "    .union(final_bin4_data_frame) \\\n",
    "    .union(final_bin5_data_frame) \\\n",
    "    .union(final_bin6_data_frame) \\\n",
    "    .union(final_bin7_data_frame).distinct()\n",
    "    # .distinct() \\\n",
    "    # .orderBy(var_id, gene_ensemble_id, burden_bin_id)\n",
    "\n",
    "# print\n",
    "print(\"the final agregated bin dataframe is: {}\".format(output_data_frame.count()))\n"
   ]
  },
  {
   "cell_type": "code",
   "execution_count": 179,
   "metadata": {},
   "outputs": [
    {
     "output_type": "stream",
     "name": "stdout",
     "text": "the final agregated bin dataframe is: 43523\n"
    }
   ],
   "source": [
    "# only select the relevant columns\n",
    "output_data_frame = output_data_frame.select(col(var_id), col(gene_ensemble_id), col(burden_bin_id))\n",
    "\n",
    "# print\n",
    "print(\"the final agregated bin with selected columns dataframe is: {}\".format(output_data_frame.count()))"
   ]
  },
  {
   "cell_type": "code",
   "execution_count": 180,
   "metadata": {},
   "outputs": [
    {
     "output_type": "stream",
     "name": "stdout",
     "text": "Printed out 43523 records to bioindex\n"
    }
   ],
   "source": [
    "# save out the output data frame to file\n",
    "output_data_frame \\\n",
    "    .orderBy(var_id, gene_ensemble_id, burden_bin_id) \\\n",
    "    .write \\\n",
    "    .mode('overwrite') \\\n",
    "    .json('%s' % outdir)\n",
    "\n",
    "# print\n",
    "print(\"Printed out {} records to bioindex\".format(output_data_frame.count()))\n"
   ]
  },
  {
   "cell_type": "code",
   "execution_count": null,
   "metadata": {},
   "outputs": [],
   "source": [
    "# done\n",
    "spark.stop()\n"
   ]
  },
  {
   "cell_type": "code",
   "execution_count": null,
   "metadata": {},
   "outputs": [],
   "source": [
    "# filter_polyphen2_hdiv_pred = \"polyphen2_hdiv_pred\"\n",
    "# filter_polyphen2_hvar_pred = \"polyphen2_hvar_pred\"\n",
    "# filter_sift_red = \"sift_pred\"\n",
    "# filter_mutationtaster_pred = \"mutationtaster_pred\"\n",
    "# filter_lrt_pred = \"lrt_pred\"\n",
    "# filter_metalr_pred = \"metalr_pred\"\n",
    "# filter_provean_pred = \"provean_pred\"\n",
    "# filter_fathmm_pred = \"fathmm_pred\"\n",
    "# filter_fathmm_mkl_coding_pred = \"fathmm_mkl_coding_pred\"\n",
    "# filter_eigen_pc_raw_rankscore = \"eigen_pc_raw_rankscore\"\n",
    "# filter_dann_rankscore = \"dann_rankscore\"\n",
    "# filter_vest3_rankscore = \"vest3_rankscore\"\n",
    "# filter_cadd_raw_rankscore = \"cadd_raw_rankscore\"\n",
    "# filter_metasvm_pred = \"metasvm_pred\"\n",
    "\n",
    "# aliases w/o -\n",
    "# filter_fathmm_mkl_coding_pred_alias = \"fathmm_mkl_coding_pred\"\n",
    "# filter_eigen_pc_raw_rankscore_alias = \"eigen_pc-raw_rankscore\"\n"
   ]
  }
 ]
}