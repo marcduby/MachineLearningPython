{
 "nbformat": 4,
 "nbformat_minor": 2,
 "metadata": {
  "language_info": {
   "name": "python",
   "codemirror_mode": {
    "name": "ipython",
    "version": 3
   },
   "version": "3.7.6-final"
  },
  "orig_nbformat": 2,
  "file_extension": ".py",
  "mimetype": "text/x-python",
  "name": "python",
  "npconvert_exporter": "python",
  "pygments_lexer": "ipython3",
  "version": 3,
  "kernelspec": {
   "name": "python37664bittf237venv9b274482c7ba4966ad2cf02baa9bb24c",
   "display_name": "Python 3.7.6 64-bit ('tf2_37': venv)"
  }
 },
 "cells": [
  {
   "cell_type": "code",
   "execution_count": 11,
   "metadata": {},
   "outputs": [],
   "source": [
    "from pyspark.sql import SparkSession\n",
    "from pyspark.sql.types import StructType, StructField, StringType, BooleanType, DoubleType, IntegerType\n",
    "from pyspark.sql.functions import col, struct, explode\n",
    "\n"
   ]
  },
  {
   "cell_type": "code",
   "execution_count": 7,
   "metadata": {},
   "outputs": [],
   "source": [
    "# load and output directory\n",
    "# vep_srcdir = 's3://dig-analysis-data/out/varianteffect/effects/part-*'\n",
    "# outdir = 's3://dig-bio-index/burden/vepbinning'\n",
    "\n",
    "# test directories\n",
    "vep_srcdir = '/Users/mduby/Data/Broad/Aggregator/BurdenBinning/test*'\n",
    "outdir = '/Users/mduby/Data/Broad/Aggregator/BurdenBinning/Out'\n",
    "\n",
    "\n"
   ]
  },
  {
   "cell_type": "code",
   "execution_count": 23,
   "metadata": {},
   "outputs": [],
   "source": [
    "# constants\n",
    "filter_impact = \"impact\"\n",
    "filter_pick = \"pick\"\n",
    "filter_polyphen2_hdiv_pred = \"polyphen2_hdiv_pred\"\n",
    "filter_polyphen2_hvar_pred = \"polyphen2_hvar_pred\"\n",
    "filter_sift_red = \"sift_pred\"\n",
    "filter_mutationtaster_pred = \"mutationtaster_pred\"\n",
    "filter_lrt_pred = \"lrt_pred\"\n",
    "filter_metalr_pred = \"metalr_pred\"\n",
    "filter_provean_pred = \"provean_pred\"\n",
    "filter_fathmm_pred = \"fathmm_pred\"\n",
    "filter_fathmm_mkl_coding_pred = \"fathmm-mkl_coding_pred\"\n",
    "filter_eigen_pc_raw_rankscore = \"eigen-pc-raw_rankscore\"\n",
    "filter_dann_rankscore = \"dann_rankscore\"\n",
    "filter_vest3_rankscore = \"vest3_rankscore\"\n",
    "filter_cadd_raw_rankscore = \"cadd_raw_rankscore\"\n",
    "filter_metasvm_pred = \"metasvm_pred\"\n",
    "\n",
    "\n"
   ]
  },
  {
   "cell_type": "code",
   "execution_count": 2,
   "metadata": {},
   "outputs": [],
   "source": [
    "# variant list schema\n",
    "all_schema = StructType(\n",
    "    [\n",
    "        StructField('gene_name', StringType(), nullable=False),\n",
    "        StructField('gene_ensemble_id', StringType(), nullable=False),\n",
    "        StructField('chromosome', StringType(), nullable=False),\n",
    "        StructField('position', IntegerType(), nullable=False),\n",
    "        StructField('burdenBinId', IntegerType(), nullable=False),\n",
    "        StructField('varId', StringType(), nullable=False),\n",
    "    ]\n",
    ")"
   ]
  },
  {
   "cell_type": "code",
   "execution_count": 3,
   "metadata": {},
   "outputs": [],
   "source": [
    "# open spark session\n",
    "spark = SparkSession.builder.appName('bioindex').getOrCreate()\n"
   ]
  },
  {
   "cell_type": "code",
   "execution_count": 9,
   "metadata": {},
   "outputs": [
    {
     "name": "stdout",
     "output_type": "stream",
     "text": "+-------------+-------------+---------+-----------------+--------------------+-----------------------+-----------------------+-------------------------------+---------------+---------+------+-----------------------+\n|allele_string|assembly_name|      end|               id|               input|intergenic_consequences|most_severe_consequence|regulatory_feature_consequences|seq_region_name|    start|strand|transcript_consequences|\n+-------------+-------------+---------+-----------------+--------------------+-----------------------+-----------------------+-------------------------------+---------------+---------+------+-----------------------+\n|          A/G|       GRCh37|100011334| 10:100011334:A:G|10\t100011334\t1000...|                   null|       missense_variant|                           null|             10|100011334|     1|   [[Y/H, protein_co...|\n|          G/A|       GRCh37|100015480| 10:100015480:G:A|10\t100015480\t1000...|                   null|       missense_variant|                           null|             10|100015480|     1|   [[S/L, protein_co...|\n|          G/C|       GRCh37|100015563| 10:100015563:G:C|10\t100015563\t1000...|                   null|   non_coding_transc...|                           null|             10|100015563|     1|   [[, protein_codin...|\n|          C/T|       GRCh37|100018721| 10:100018721:C:T|10\t100018721\t1000...|                   null|         intron_variant|           [[open_chromatin_...|             10|100018721|     1|   [[, protein_codin...|\n|          A/G|       GRCh37|100018936| 10:100018936:A:G|10\t100018936\t1000...|                   null|       missense_variant|                           null|             10|100018936|     1|   [[C/R, protein_co...|\n|          C/T|       GRCh37|100021103| 10:100021103:C:T|10\t100021103\t1000...|                   null|         intron_variant|                           null|             10|100021103|     1|   [[, protein_codin...|\n|          A/G|       GRCh37|100022458| 10:100022458:A:G|10\t100022458\t1000...|                   null|         intron_variant|           [[CTCF_binding_si...|             10|100022458|     1|   [[, protein_codin...|\n|          C/A|       GRCh37|100024221| 10:100024221:C:A|10\t100024221\t1000...|                   null|         intron_variant|                           null|             10|100024221|     1|   [[, protein_codin...|\n|          T/C|       GRCh37| 10002488|  10:10002488:T:C|10\t10002488\t10002...|   [[[intergenic_var...|     intergenic_variant|                           null|             10| 10002488|     1|                   null|\n|          G/A|       GRCh37|100025424| 10:100025424:G:A|10\t100025424\t1000...|                   null|         intron_variant|                           null|             10|100025424|     1|   [[, protein_codin...|\n|          A/C|       GRCh37|100028922| 10:100028922:A:C|10\t100028922\t1000...|                   null|   upstream_gene_var...|                           null|             10|100028922|     1|   [[, protein_codin...|\n|          A/G|       GRCh37| 10002896|  10:10002896:A:G|10\t10002896\t10002...|   [[[intergenic_var...|     intergenic_variant|                           null|             10| 10002896|     1|                   null|\n|          G/A|       GRCh37|100061872| 10:100061872:G:A|10\t100061872\t1000...|   [[[intergenic_var...|     intergenic_variant|                           null|             10|100061872|     1|                   null|\n|          G/T|       GRCh37|100065088| 10:100065088:G:T|10\t100065088\t1000...|   [[[intergenic_var...|     intergenic_variant|                           null|             10|100065088|     1|                   null|\n|          C/T|       GRCh37|100078364| 10:100078364:C:T|10\t100078364\t1000...|   [[[intergenic_var...|     intergenic_variant|                           null|             10|100078364|     1|                   null|\n|          A/C|       GRCh37|100080979| 10:100080979:A:C|10\t100080979\t1000...|   [[[intergenic_var...|     intergenic_variant|                           null|             10|100080979|     1|                   null|\n|          G/A|       GRCh37|100082534| 10:100082534:G:A|10\t100082534\t1000...|   [[[intergenic_var...|     intergenic_variant|                           null|             10|100082534|     1|                   null|\n|          G/A|       GRCh37|100104138| 10:100104138:G:A|10\t100104138\t1001...|   [[[intergenic_var...|     intergenic_variant|                           null|             10|100104138|     1|                   null|\n|          T/G|       GRCh37|100104969| 10:100104969:T:G|10\t100104969\t1001...|   [[[intergenic_var...|     intergenic_variant|                           null|             10|100104969|     1|                   null|\n|         AT/A|       GRCh37|100115842|10:100115841:AT:A|10\t100115841\t1001...|   [[[intergenic_var...|     intergenic_variant|                           null|             10|100115841|     1|                   null|\n+-------------+-------------+---------+-----------------+--------------------+-----------------------+-----------------------+-------------------------------+---------------+---------+------+-----------------------+\nonly showing top 20 rows\n\nthe loaded test data is: None\n"
    }
   ],
   "source": [
    "# load the json data\n",
    "vep = spark.read.json(vep_srcdir)\n",
    "\n",
    "# print\n",
    "print(\"the loaded test data is:\")\n",
    "format(vep.show())\n"
   ]
  },
  {
   "cell_type": "code",
   "execution_count": 25,
   "metadata": {},
   "outputs": [
    {
     "name": "stdout",
     "output_type": "stream",
     "text": "the filtered test data is:\n+-------------------+-----------------+----+----------+-------------------+-------------------+---------+-------------------+--------+-----------+------------+-----------+----------------------+----------------------+--------------+---------------+------------------+------------+\n|              varId|    genEnsembleId|pick|    impact|polyphen2_hdiv_pred|polyphen2_hvar_pred|sift_pred|mutationtaster_pred|lrt_pred|metalr_pred|provean_pred|fathmm_pred|fathmm-mkl_coding_pred|eigen-pc-raw_rankscore|dann_rankscore|vest3_rankscore|cadd_raw_rankscore|metasvm_pred|\n+-------------------+-----------------+----+----------+-------------------+-------------------+---------+-------------------+--------+-----------+------------+-----------+----------------------+----------------------+--------------+---------------+------------------+------------+\n|   10:100011334:A:G|[ENSG00000138131]| [1]|[MODERATE]|                [D]|                [D]|      [D]|                [D]|     [D]|        [T]|         [D]|        [T]|                   [D]|             [0.92011]|     [0.86145]|      [0.92279]|         [0.81966]|         [T]|\n|   10:100015480:G:A|[ENSG00000138131]| [1]|[MODERATE]|                [B]|                [B]|      [T]|                [N]|     [N]|        [T]|         [N]|        [T]|                   [D]|             [0.23769]|     [0.30436]|      [0.08297]|          [0.3245]|         [T]|\n|   10:100015563:G:C|[ENSG00000138131]| [1]|[MODIFIER]|                 []|                 []|       []|                 []|      []|         []|          []|         []|                    []|                    []|            []|             []|                []|          []|\n|   10:100018721:C:T|[ENSG00000138131]| [1]|[MODIFIER]|                 []|                 []|       []|                 []|      []|         []|          []|         []|                    []|                    []|            []|             []|                []|          []|\n|   10:100018936:A:G|[ENSG00000138131]| [1]|[MODERATE]|                [D]|                [D]|      [D]|                [D]|     [D]|        [D]|         [D]|        [T]|                   [D]|             [0.88446]|     [0.73768]|      [0.95211]|         [0.80388]|         [D]|\n|   10:100021103:C:T|[ENSG00000138131]| [1]|[MODIFIER]|                 []|                 []|       []|                 []|      []|         []|          []|         []|                    []|                    []|            []|             []|                []|          []|\n|   10:100022458:A:G|[ENSG00000138131]| [1]|[MODIFIER]|                 []|                 []|       []|                 []|      []|         []|          []|         []|                    []|                    []|            []|             []|                []|          []|\n|   10:100024221:C:A|[ENSG00000138131]| [1]|[MODIFIER]|                 []|                 []|       []|                 []|      []|         []|          []|         []|                    []|                    []|            []|             []|                []|          []|\n|   10:100025424:G:A|[ENSG00000138131]| [1]|[MODIFIER]|                 []|                 []|       []|                 []|      []|         []|          []|         []|                    []|                    []|            []|             []|                []|          []|\n|   10:100028922:A:C|[ENSG00000138131]| [1]|[MODIFIER]|                 []|                 []|       []|                 []|      []|         []|          []|         []|                    []|                    []|            []|             []|                []|          []|\n|   10:100140337:C:T|[ENSG00000119943]| [1]|[MODIFIER]|                 []|                 []|       []|                 []|      []|         []|          []|         []|                    []|                    []|            []|             []|                []|          []|\n|   10:100142601:T:C|[ENSG00000119943]| [1]|[MODIFIER]|                 []|                 []|       []|                 []|      []|         []|          []|         []|                    []|                    []|            []|             []|                []|          []|\n|   10:100148939:T:C|[ENSG00000119943]| [1]|[MODIFIER]|                 []|                 []|       []|                 []|      []|         []|          []|         []|                    []|                    []|            []|             []|                []|          []|\n|   10:100149949:T:C|[ENSG00000119943]| [1]|[MODIFIER]|                 []|                 []|       []|                 []|      []|         []|          []|         []|                    []|                    []|            []|             []|                []|          []|\n|10:100152287:CACA:C|[ENSG00000119943]| [1]|[MODERATE]|                 []|                 []|       []|                 []|      []|         []|          []|         []|                    []|                    []|            []|             []|                []|          []|\n|   10:100152344:G:T|[ENSG00000119943]| [1]|[MODIFIER]|                 []|                 []|       []|                 []|      []|         []|          []|         []|                    []|                    []|            []|             []|                []|          []|\n|   10:100152747:C:T|[ENSG00000119943]| [1]|     [LOW]|                 []|                 []|       []|                 []|      []|         []|          []|         []|                    []|                    []|            []|             []|                []|          []|\n|   10:100152813:C:T|[ENSG00000119943]| [1]|     [LOW]|                 []|                 []|       []|                 []|      []|         []|          []|         []|                    []|                    []|            []|             []|                []|          []|\n|   10:100166732:G:A|[ENSG00000119943]| [1]|[MODIFIER]|                 []|                 []|       []|                 []|      []|         []|          []|         []|                    []|                    []|            []|             []|                []|          []|\n|   10:100172239:C:T|[ENSG00000119943]| [1]|[MODIFIER]|                 []|                 []|       []|                 []|      []|         []|          []|         []|                    []|                    []|            []|             []|                []|          []|\n+-------------------+-----------------+----+----------+-------------------+-------------------+---------+-------------------+--------+-----------+------------+-----------+----------------------+----------------------+--------------+---------------+------------------+------------+\nonly showing top 20 rows\n\n"
    }
   ],
   "source": [
    "# create new data frame with only var id\n",
    "transcript_consequences = vep.select(vep.id, vep.transcript_consequences) \\\n",
    "    .withColumn('cqs', explode(col('transcript_consequences'))) \\\n",
    "    .filter(col('cqs.pick') == 1) \\\n",
    "    .select(\n",
    "        col('id').alias('varId'),\n",
    "        struct('cqs.gene_id').alias('genEnsembleId'),\n",
    "        struct('cqs.' + filter_pick).alias(filter_pick),\n",
    "        struct('cqs.' + filter_impact).alias(filter_impact),\n",
    "\n",
    "        struct('cqs.' + filter_polyphen2_hdiv_pred).alias(filter_polyphen2_hdiv_pred),\n",
    "        struct('cqs.' + filter_polyphen2_hvar_pred).alias(filter_polyphen2_hvar_pred),\n",
    "        struct('cqs.' + filter_sift_red).alias(filter_sift_red),\n",
    "        struct('cqs.' + filter_mutationtaster_pred).alias(filter_mutationtaster_pred),\n",
    "        struct('cqs.' + filter_lrt_pred).alias(filter_lrt_pred),\n",
    "        struct('cqs.' + filter_metalr_pred).alias(filter_metalr_pred),\n",
    "\n",
    "        struct('cqs.' + filter_provean_pred).alias(filter_provean_pred),\n",
    "        struct('cqs.' + filter_fathmm_pred).alias(filter_fathmm_pred),\n",
    "        struct('cqs.' + filter_fathmm_mkl_coding_pred).alias(filter_fathmm_mkl_coding_pred),\n",
    "        struct('cqs.' + filter_eigen_pc_raw_rankscore).alias(filter_eigen_pc_raw_rankscore),\n",
    "        struct('cqs.' + filter_dann_rankscore).alias(filter_dann_rankscore),\n",
    "        struct('cqs.' + filter_vest3_rankscore).alias(filter_vest3_rankscore),\n",
    "        struct('cqs.' + filter_cadd_raw_rankscore).alias(filter_cadd_raw_rankscore),\n",
    "        struct('cqs.' + filter_metasvm_pred).alias(filter_metasvm_pred),\n",
    "    )\n",
    "\n",
    "# filter_polyphen2_hdiv_pred = \"polyphen2_hdiv_pred\"\n",
    "# filter_polyphen2_hvar_pred = \"polyphen2_hvar_pred\"\n",
    "# filter_sift_red  \"sift_pred\"\n",
    "# filter_mutationtaster_pred = \"mutationtaster_pred\"\n",
    "# filter_lrt_pred = \"lrt_pred\"\n",
    "# filter_metalr_pred = \"metalr_pred\"\n",
    "\n",
    "# filter_provean_pred = \"provean_pred\"\n",
    "# filter_fathmm_pred = \"fathmm_pred\"\n",
    "# filter_fathmm_mkl_coding_pred = \"fathmm-mkl_coding_pred\"\n",
    "# filter_eigen_pc_raw_rankscore = \"eigen-pc-raw_rankscore\"\n",
    "# filter_dann_rankscore = \"dann_rankscore\"\n",
    "# filter_vest3_rankscore = \"vest3_rankscore\"\n",
    "# filter_cadd_raw_rankscore = \"cadd_raw_rankscore\"\n",
    "# filter_metasvm_pred = \"metasvm_pred\"\n",
    "\n",
    "\n",
    "# print\n",
    "print(\"the filtered test data is:\")\n",
    "transcript_consequences.show()\n",
    "\n"
   ]
  },
  {
   "cell_type": "code",
   "execution_count": null,
   "metadata": {},
   "outputs": [],
   "source": []
  }
 ]
}