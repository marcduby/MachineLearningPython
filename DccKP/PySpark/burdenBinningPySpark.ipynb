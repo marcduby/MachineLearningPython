{
 "nbformat": 4,
 "nbformat_minor": 2,
 "metadata": {
  "language_info": {
   "name": "python",
   "codemirror_mode": {
    "name": "ipython",
    "version": 3
   },
   "version": "3.7.6-final"
  },
  "orig_nbformat": 2,
  "file_extension": ".py",
  "mimetype": "text/x-python",
  "name": "python",
  "npconvert_exporter": "python",
  "pygments_lexer": "ipython3",
  "version": 3,
  "kernelspec": {
   "name": "python37664bittf237venv9b274482c7ba4966ad2cf02baa9bb24c",
   "display_name": "Python 3.7.6 64-bit ('tf2_37': venv)"
  }
 },
 "cells": [
  {
   "cell_type": "code",
   "execution_count": 65,
   "metadata": {},
   "outputs": [],
   "source": [
    "from pyspark.sql import SparkSession\n",
    "from pyspark.sql.types import StructType, StructField, StringType, BooleanType, DoubleType, IntegerType\n",
    "from pyspark.sql.functions import col, struct, explode, when, lit\n",
    "\n"
   ]
  },
  {
   "cell_type": "code",
   "execution_count": 147,
   "metadata": {},
   "outputs": [
    {
     "name": "stdout",
     "output_type": "stream",
     "text": "the input directory is: /Users/mduby/Data/Broad/Aggregator/BurdenBinning/20200330/test*\n"
    }
   ],
   "source": [
    "# load and output directory\n",
    "# vep_srcdir = 's3://dig-analysis-data/out/varianteffect/effects/part-*'\n",
    "# outdir = 's3://dig-bio-index/burden/vepbinning'\n",
    "\n",
    "# test directories\n",
    "vep_srcdir = '/Users/mduby/Data/Broad/Aggregator/BurdenBinning/20200330/test*'\n",
    "outdir = '/Users/mduby/Data/Broad/Aggregator/BurdenBinning/20200330/Out'\n",
    "\n",
    "# print\n",
    "print(\"the input directory is: {}\".format(vep_srcdir))\n"
   ]
  },
  {
   "cell_type": "code",
   "execution_count": 148,
   "metadata": {},
   "outputs": [],
   "source": [
    "# constants for filters\n",
    "# there are 3 levels of filters (lof, impact + maf, and combined predictions)\n",
    "# the 7 bins will combine variantions of these three OR conditions\n",
    "\n",
    "# general filter\n",
    "filter_pick = \"pick\"\n",
    "\n",
    "# level 1 filter\n",
    "filter_lof = \"lof\"\n",
    "\n",
    "# level 2 filters\n",
    "filter_polyphen2_hdiv_pred = \"polyphen2_hdiv_pred\"\n",
    "filter_polyphen2_hvar_pred = \"polyphen2_hvar_pred\"\n",
    "filter_sift_red = \"sift_pred\"\n",
    "filter_mutationtaster_pred = \"mutationtaster_pred\"\n",
    "filter_lrt_pred = \"lrt_pred\"\n",
    "filter_metalr_pred = \"metalr_pred\"\n",
    "filter_provean_pred = \"provean_pred\"\n",
    "filter_fathmm_pred = \"fathmm_pred\"\n",
    "filter_fathmm_mkl_coding_pred = \"fathmm-mkl_coding_pred\"\n",
    "filter_eigen_pc_raw_rankscore = \"eigen-pc-raw_rankscore\"\n",
    "filter_dann_rankscore = \"dann_rankscore\"\n",
    "filter_vest3_rankscore = \"vest3_rankscore\"\n",
    "filter_cadd_raw_rankscore = \"cadd_raw_rankscore\"\n",
    "filter_metasvm_pred = \"metasvm_pred\"\n",
    "\n",
    "# aliases w/o -\n",
    "filter_fathmm_mkl_coding_pred_alias = \"fathmm_mkl_coding_pred\"\n",
    "filter_eigen_pc_raw_rankscore_alias = \"eigen_pc_raw_rankscore\"\n",
    "\n",
    "# level 3 filter\n",
    "filter_impact = \"impact\"\n",
    "\n",
    "# column constants\n",
    "var_id = \"varId\"\n",
    "gene_ensemble_id = \"geneEnsembleId\"\n",
    "burden_bin_id = \"burden_bin_id\"\n"
   ]
  },
  {
   "cell_type": "code",
   "execution_count": 2,
   "metadata": {},
   "outputs": [],
   "source": [
    "# variant list schema\n",
    "all_schema = StructType(\n",
    "    [\n",
    "        StructField('gene_name', StringType(), nullable=False),\n",
    "        StructField('gene_ensemble_id', StringType(), nullable=False),\n",
    "        StructField('chromosome', StringType(), nullable=False),\n",
    "        StructField('position', IntegerType(), nullable=False),\n",
    "        StructField('burdenBinId', IntegerType(), nullable=False),\n",
    "        StructField('varId', StringType(), nullable=False),\n",
    "    ]\n",
    ")"
   ]
  },
  {
   "cell_type": "code",
   "execution_count": 149,
   "metadata": {},
   "outputs": [],
   "source": [
    "# open spark session\n",
    "spark = SparkSession.builder.appName('bioindex').getOrCreate()\n"
   ]
  },
  {
   "cell_type": "code",
   "execution_count": 150,
   "metadata": {},
   "outputs": [
    {
     "name": "stdout",
     "output_type": "stream",
     "text": "the loaded test data count is: 329016\n"
    }
   ],
   "source": [
    "# load the json data\n",
    "vep = spark.read.json(vep_srcdir)\n",
    "\n",
    "# print\n",
    "print(\"the loaded vep data count is: {}\".format(vep.count()))\n",
    "# format(vep.show())\n"
   ]
  },
  {
   "cell_type": "code",
   "execution_count": 155,
   "metadata": {},
   "outputs": [
    {
     "name": "stdout",
     "output_type": "stream",
     "text": "the filtered test data count is: 220431\n"
    }
   ],
   "source": [
    "# create new data frame with only var id\n",
    "transcript_consequences = vep.select(vep.id, vep.transcript_consequences) \\\n",
    "    .withColumn('cqs', explode(col('transcript_consequences'))) \\\n",
    "    .select(\n",
    "        col('id').alias('varId'),\n",
    "        col('cqs.gene_id').alias('geneEnsembleId'),\n",
    "        col('cqs.' + filter_lof).alias(filter_lof),\n",
    "        col('cqs.' + filter_impact).alias(filter_impact),\n",
    "\n",
    "        col('cqs.' + filter_polyphen2_hdiv_pred).alias(filter_polyphen2_hdiv_pred),\n",
    "        col('cqs.' + filter_polyphen2_hvar_pred).alias(filter_polyphen2_hvar_pred),\n",
    "        col('cqs.' + filter_sift_red).alias(filter_sift_red),\n",
    "        col('cqs.' + filter_mutationtaster_pred).alias(filter_mutationtaster_pred),\n",
    "        col('cqs.' + filter_lrt_pred).alias(filter_lrt_pred),\n",
    "        col('cqs.' + filter_metalr_pred).alias(filter_metalr_pred),\n",
    "\n",
    "        col('cqs.' + filter_provean_pred).alias(filter_provean_pred),\n",
    "        col('cqs.' + filter_fathmm_pred).alias(filter_fathmm_pred),\n",
    "        col('cqs.' + filter_fathmm_mkl_coding_pred).alias(filter_fathmm_mkl_coding_pred_alias),\n",
    "        col('cqs.' + filter_eigen_pc_raw_rankscore).alias(filter_eigen_pc_raw_rankscore_alias),\n",
    "        col('cqs.' + filter_dann_rankscore).alias(filter_dann_rankscore),\n",
    "        col('cqs.' + filter_vest3_rankscore).alias(filter_vest3_rankscore),\n",
    "        col('cqs.' + filter_cadd_raw_rankscore).alias(filter_cadd_raw_rankscore),\n",
    "        col('cqs.' + filter_metasvm_pred).alias(filter_metasvm_pred)\n",
    "    )\n",
    "\n",
    "\n",
    "# print\n",
    "print(\"the filtered test data count is: {}\".format(transcript_consequences.count()))\n",
    "# transcript_consequences.show()\n",
    "\n"
   ]
  },
  {
   "cell_type": "code",
   "execution_count": 113,
   "metadata": {},
   "outputs": [
    {
     "data": {
      "text/plain": "Column<b'lof'>"
     },
     "execution_count": 113,
     "metadata": {},
     "output_type": "execute_result"
    }
   ],
   "source": [
    "transcript_consequences.lof"
   ]
  },
  {
   "cell_type": "code",
   "execution_count": 134,
   "metadata": {},
   "outputs": [
    {
     "name": "stdout",
     "output_type": "stream",
     "text": "the lof data frame is\n+--------------------+---------------+---+----+------+-------------------+-------------------+---------+-------------------+--------+-----------+------------+-----------+----------------------+----------------------+--------------+---------------+------------------+------------+\n|               varId| geneEnsembleId|lof|pick|impact|polyphen2_hdiv_pred|polyphen2_hvar_pred|sift_pred|mutationtaster_pred|lrt_pred|metalr_pred|provean_pred|fathmm_pred|fathmm_mkl_coding_pred|eigen_pc_raw_rankscore|dann_rankscore|vest3_rankscore|cadd_raw_rankscore|metasvm_pred|\n+--------------------+---------------+---+----+------+-------------------+-------------------+---------+-------------------+--------+-----------+------------+-----------+----------------------+----------------------+--------------+---------------+------------------+------------+\n|    10:101460816:G:A|ENSG00000198018| HC|   1|  HIGH|               null|               null|     null|               null|    null|       null|        null|       null|                  null|                  null|          null|           null|              null|        null|\n|    10:101567139:A:G|ENSG00000023839| HC|   1|  HIGH|               null|               null|     null|               null|    null|       null|        null|       null|                  null|                  null|          null|           null|              null|        null|\n|10:102248641:G:GA...|ENSG00000075826| HC|   1|  HIGH|               null|               null|     null|               null|    null|       null|        null|       null|                  null|                  null|          null|           null|              null|        null|\n|   10:104232632:AG:A|ENSG00000138111| HC|   1|  HIGH|               null|               null|     null|               null|    null|       null|        null|       null|                  null|                  null|          null|           null|              null|        null|\n|   10:105138031:AC:A|ENSG00000148835| HC|   1|  HIGH|               null|               null|     null|               null|    null|       null|        null|       null|                  null|                  null|          null|           null|              null|        null|\n|    10:105659937:T:A|ENSG00000107960| HC|   1|  HIGH|               null|               null|     null|                A,A|       N|       null|        null|       null|                     D|                0.3724|        0.3932|           null|           0.95615|        null|\n|    10:105792431:C:A|ENSG00000065618| HC|   1|  HIGH|               null|               null|     null|               null|    null|       null|        null|       null|                  null|                  null|          null|           null|              null|        null|\n|     10:1065637:CG:C|ENSG00000148377| HC|   1|  HIGH|               null|               null|     null|               null|    null|       null|        null|       null|                  null|                  null|          null|           null|              null|        null|\n|   10:124598710:T:TA|ENSG00000138161| HC|   1|  HIGH|               null|               null|     null|               null|    null|       null|        null|       null|                  null|                  null|          null|           null|              null|        null|\n|    10:124742270:C:T|ENSG00000179988| HC|   1|  HIGH|               null|               null|     null|                A,A|       D|       null|        null|       null|                     D|               0.62745|       0.91472|           null|           0.97234|        null|\n|   10:126100581:TG:T|ENSG00000065154| HC|   1|  HIGH|               null|               null|     null|               null|    null|       null|        null|       null|                  null|                  null|          null|           null|              null|        null|\n|    10:127697018:A:T|ENSG00000203780| HC|   1|  HIGH|               null|               null|     null|              A,A,A|       D|       null|        null|       null|                     D|               0.57615|       0.77957|           null|           0.97714|        null|\n|  10:129901236:TAG:T|ENSG00000148773| HC|   1|  HIGH|               null|               null|     null|               null|    null|       null|        null|       null|                  null|                  null|          null|           null|              null|        null|\n|    10:13341981:G:GA|ENSG00000107537| HC|   1|  HIGH|               null|               null|     null|               null|    null|       null|        null|       null|                  null|                  null|          null|           null|              null|        null|\n|    10:14867509:CT:C|ENSG00000185267| HC|   1|  HIGH|               null|               null|     null|               null|    null|       null|        null|       null|                  null|                  null|          null|           null|              null|        null|\n|     10:16526531:G:T|ENSG00000165983| HC|   1|  HIGH|               null|               null|     null|          A,A,A,A,A|       N|       null|        null|       null|                     D|               0.70054|       0.72028|           null|           0.96379|        null|\n|     10:19787412:A:G|ENSG00000204740| HC|   1|  HIGH|               null|               null|     null|               null|    null|       null|        null|       null|                  null|                  null|          null|           null|              null|        null|\n|     10:23408352:C:G|ENSG00000148450| HC|   1|  HIGH|               null|               null|     null|                  D|       N|       null|        null|       null|                     N|               0.12211|       0.15487|           null|           0.56293|        null|\n| 10:27450035:G:GGACA|ENSG00000120539| HC|   1|  HIGH|               null|               null|     null|               null|    null|       null|        null|       null|                  null|                  null|          null|           null|              null|        null|\n|     10:28260103:C:T|ENSG00000169126| HC|   1|  HIGH|               null|               null|     null|            A,A,A,N|       N|       null|        null|       null|                     N|               0.26517|       0.34895|           null|           0.95262|        null|\n+--------------------+---------------+---+----+------+-------------------+-------------------+---------+-------------------+--------+-----------+------------+-----------+----------------------+----------------------+--------------+---------------+------------------+------------+\nonly showing top 20 rows\n\n"
    }
   ],
   "source": [
    "# get the lof level 1 data frame\n",
    "dataframe_lof = transcript_consequences.filter(transcript_consequences.lof == 'HC')\n",
    "\n",
    "# print\n",
    "print(\"the lof data frame is\")\n",
    "dataframe_lof.show()"
   ]
  },
  {
   "cell_type": "code",
   "execution_count": 135,
   "metadata": {},
   "outputs": [
    {
     "name": "stdout",
     "output_type": "stream",
     "text": "the moderate impact dataframe is 17407\nthe high impact dataframe is 1433\n"
    }
   ],
   "source": [
    "# get the level 3 dataframe\n",
    "dataframe_impact_moderate = transcript_consequences.filter(transcript_consequences.impact == 'MODERATE')\n",
    "dataframe_impact_high = transcript_consequences.filter(transcript_consequences.impact == 'HIGH')\n",
    "\n",
    "# print\n",
    "print(\"the moderate impact dataframe is {}\".format(dataframe_impact_moderate.count()))\n",
    "print(\"the high impact dataframe is {}\".format(dataframe_impact_high.count()))\n",
    "# dataframe_impact.show()\n"
   ]
  },
  {
   "cell_type": "code",
   "execution_count": 136,
   "metadata": {},
   "outputs": [
    {
     "name": "stdout",
     "output_type": "stream",
     "text": "level 2 data frame count: 5611\n"
    }
   ],
   "source": [
    "# get the initial level 2 dataframe\n",
    "dataframe_level2 = transcript_consequences.filter(transcript_consequences.polyphen2_hdiv_pred != 'D') \\\n",
    "    .filter(transcript_consequences.polyphen2_hvar_pred != 'D') \\\n",
    "    .filter(transcript_consequences.sift_pred != 'deleterious') \\\n",
    "    .filter(transcript_consequences.lrt_pred != 'D') \\\n",
    "    .filter(~transcript_consequences.mutationtaster_pred.isin(['A', 'D']))\n",
    "\n",
    "print(\"level 2 data frame count: {}\".format(dataframe_level2.count()))\n",
    "# dataframe_level2.show()\n"
   ]
  },
  {
   "cell_type": "code",
   "execution_count": 137,
   "metadata": {},
   "outputs": [
    {
     "name": "stdout",
     "output_type": "stream",
     "text": "the final bin 1 dataframe is: 1201\n"
    }
   ],
   "source": [
    "# BIN 1 of 7\n",
    "# create the final_1 df, just lof = HC\n",
    "final_bin1_data_frame = dataframe_lof.withColumn(burden_bin_id, lit('bin1_7'))\n",
    "\n",
    "# print\n",
    "print(\"the final bin 1 dataframe is: {}\".format(final_bin1_data_frame.count()))\n",
    "# final_bin1_data_frame.show()"
   ]
  },
  {
   "cell_type": "code",
   "execution_count": 138,
   "metadata": {},
   "outputs": [
    {
     "name": "stdout",
     "output_type": "stream",
     "text": "level 2 data frame count: 5611\nmoderate impact data frame count: 17407\nlof data frame count: 1201\nthe final bin 7 dataframe is: 18632\n"
    }
   ],
   "source": [
    "# BIN 7 of 7\n",
    "# get the initial level 2 dataframe\n",
    "dataframe_level2 = transcript_consequences.filter(transcript_consequences.polyphen2_hdiv_pred != 'D') \\\n",
    "    .filter(transcript_consequences.polyphen2_hvar_pred != 'D') \\\n",
    "    .filter(transcript_consequences.sift_pred != 'deleterious') \\\n",
    "    .filter(transcript_consequences.lrt_pred != 'D') \\\n",
    "    .filter(~transcript_consequences.mutationtaster_pred.isin(['A', 'D']))\n",
    "\n",
    "print(\"level 2 data frame count: {}\".format(dataframe_level2.count()))\n",
    "print(\"moderate impact data frame count: {}\".format(dataframe_impact_moderate.count()))\n",
    "print(\"lof data frame count: {}\".format(dataframe_lof.count()))\n",
    "# dataframe_level2.show()\n",
    "\n",
    "# create the final_7 df, lof = HC, impact moderate, add in level 2 filters\n",
    "final_bin7_data_frame = dataframe_lof.union(dataframe_impact_moderate).union(dataframe_level2).distinct()\n",
    "final_bin7_data_frame = final_bin7_data_frame.withColumn(burden_bin_id, lit('bin7_7'))\n",
    "\n",
    "# print\n",
    "print(\"the final bin 7 dataframe is: {}\".format(final_bin7_data_frame.count()))\n",
    "# final_bin7_data_frame.show()"
   ]
  },
  {
   "cell_type": "code",
   "execution_count": 139,
   "metadata": {},
   "outputs": [
    {
     "name": "stdout",
     "output_type": "stream",
     "text": "level 2 exclusion data frame count: 0\nlevel 2 inclusion data frame count: 9564\nmoderate impact data frame count: 17407\nlof data frame count: 1201\nthe final bin 6 dataframe is: 18654\n"
    }
   ],
   "source": [
    "# BIN 6 of 7\n",
    "# get the exclusion level 2 data frame\n",
    "dataframe_level2_exclusion = transcript_consequences \\\n",
    "    .filter(transcript_consequences.polyphen2_hdiv_pred == 'D') \\\n",
    "    .filter(transcript_consequences.polyphen2_hvar_pred == 'D') \\\n",
    "    .filter(transcript_consequences.sift_pred == 'deleterious') \\\n",
    "    .filter(transcript_consequences.lrt_pred == 'D') \\\n",
    "    .filter(transcript_consequences.mutationtaster_pred.isin(['A', 'D']))\n",
    "\n",
    "dataframe_level2_inclusion = transcript_consequences \\\n",
    "    .filter(transcript_consequences.polyphen2_hdiv_pred == 'D') \\\n",
    "    .union(transcript_consequences.filter(transcript_consequences.polyphen2_hvar_pred == 'D')) \\\n",
    "    .union(transcript_consequences.filter(transcript_consequences.sift_pred == 'deleterious')) \\\n",
    "    .union(transcript_consequences.filter(transcript_consequences.lrt_pred == 'D')) \\\n",
    "    .union(transcript_consequences.filter(transcript_consequences.mutationtaster_pred.isin(['A', 'D']))) \\\n",
    "    .distinct()\n",
    "\n",
    "print(\"level 2 exclusion data frame count: {}\".format(dataframe_level2_exclusion.count()))\n",
    "print(\"level 2 inclusion data frame count: {}\".format(dataframe_level2_inclusion.count()))\n",
    "print(\"moderate impact data frame count: {}\".format(dataframe_impact_moderate.count()))\n",
    "print(\"lof data frame count: {}\".format(dataframe_lof.count()))\n",
    "# dataframe_level2.show()\n",
    "\n",
    "# create the final_6 df, lof = HC, impact moderate, add in level 2 filters\n",
    "final_bin6_data_frame = dataframe_level2_inclusion.subtract(dataframe_level2_exclusion)\n",
    "final_bin6_data_frame = final_bin6_data_frame.union(dataframe_lof).union(dataframe_impact_moderate).union(dataframe_level2_inclusion).distinct()\n",
    "final_bin6_data_frame = final_bin6_data_frame.withColumn(burden_bin_id, lit('bin6_7'))\n",
    "\n",
    "# print\n",
    "print(\"the final bin 6 dataframe is: {}\".format(final_bin6_data_frame.count()))\n",
    "# final_bin7_data_frame.show()\n"
   ]
  },
  {
   "cell_type": "code",
   "execution_count": 140,
   "metadata": {},
   "outputs": [
    {
     "name": "stdout",
     "output_type": "stream",
     "text": "level 2 inclusion data frame count: 0\nhigh impact data frame count: 1433\nlof data frame count: 1201\nthe final bin 5 dataframe is: 1433\n"
    }
   ],
   "source": [
    "# BIN 5 of 7\n",
    "# already have the inclusion level 2 data frame (exclusion from the previous bin 6 of 7)\n",
    "\n",
    "print(\"level 2 inclusion data frame count: {}\".format(dataframe_level2_exclusion.count()))\n",
    "print(\"high impact data frame count: {}\".format(dataframe_impact_high.count()))\n",
    "print(\"lof data frame count: {}\".format(dataframe_lof.count()))\n",
    "# dataframe_level2.show()\n",
    "\n",
    "# create the final_5 df, lof = HC, impact moderate, add in level 2 filters\n",
    "final_bin5_data_frame = dataframe_lof.union(dataframe_level2_exclusion).union(dataframe_impact_high).distinct()\n",
    "final_bin5_data_frame = final_bin5_data_frame.withColumn(burden_bin_id, lit('bin5_7'))\n",
    "\n",
    "# print\n",
    "print(\"the final bin 5 dataframe is: {}\".format(final_bin5_data_frame.count()))\n",
    "# final_bin7_data_frame.show()"
   ]
  },
  {
   "cell_type": "code",
   "execution_count": 141,
   "metadata": {},
   "outputs": [
    {
     "name": "stdout",
     "output_type": "stream",
     "text": "level 2 inclusion data frame count: 0\nlof data frame count: 1201\nthe final bin 4 dataframe is: 1201\n"
    }
   ],
   "source": [
    "# BIN 4 of 7\n",
    "# already have the inclusion level 2 data frame (exclusion from the previous bin 6 of 7)\n",
    "\n",
    "print(\"level 2 inclusion data frame count: {}\".format(dataframe_level2_exclusion.count()))\n",
    "print(\"lof data frame count: {}\".format(dataframe_lof.count()))\n",
    "# dataframe_level2.show()\n",
    "\n",
    "# create the final_4 df, lof = HC, impact moderate, add in level 2 filters\n",
    "final_bin4_data_frame = dataframe_lof.union(dataframe_level2_exclusion).distinct()\n",
    "final_bin4_data_frame = final_bin4_data_frame.withColumn(burden_bin_id, lit('bin4_7'))\n",
    "\n",
    "# print\n",
    "print(\"the final bin 4 dataframe is: {}\".format(final_bin4_data_frame.count()))\n",
    "# final_bin7_data_frame.show()"
   ]
  },
  {
   "cell_type": "code",
   "execution_count": 142,
   "metadata": {},
   "outputs": [
    {
     "name": "stdout",
     "output_type": "stream",
     "text": "bin 3 level 2 inclusion data frame count: 0\nlof data frame count: 1201\nthe final bin 3 dataframe is: 1201\n"
    }
   ],
   "source": [
    "# BIN 3 of 7\n",
    "# bin consists of bin4 level 2 filter with some added on filters\n",
    "dataframe_bin3_level2_inclusion = dataframe_level2_exclusion \\\n",
    "    .filter(dataframe_level2_exclusion.metalr_pred == 'D') \\\n",
    "    .filter(dataframe_level2_exclusion.metasvm_pred == 'D') \\\n",
    "    .filter(dataframe_level2_exclusion.provean_pred == 'D') \\\n",
    "    .filter(dataframe_level2_exclusion.fathmm_mkl_coding_pred == 'D') \\\n",
    "    .filter(dataframe_level2_exclusion.fathmm_pred == 'D')\n",
    "\n",
    "print(\"bin 3 level 2 inclusion data frame count: {}\".format(dataframe_bin3_level2_inclusion.count()))\n",
    "print(\"lof data frame count: {}\".format(dataframe_lof.count()))\n",
    "# dataframe_level2.show()\n",
    "\n",
    "# create the final_3 df, lof = HC, add in level 2 filters\n",
    "final_bin3_data_frame = dataframe_lof.union(dataframe_bin3_level2_inclusion).distinct()\n",
    "final_bin3_data_frame = final_bin3_data_frame.withColumn(burden_bin_id, lit('bin3_7'))\n",
    "\n",
    "# print\n",
    "print(\"the final bin 3 dataframe is: {}\".format(final_bin3_data_frame.count()))\n",
    "# final_bin7_data_frame.show()"
   ]
  },
  {
   "cell_type": "code",
   "execution_count": 143,
   "metadata": {},
   "outputs": [
    {
     "name": "stdout",
     "output_type": "stream",
     "text": "bin 2 level 2 inclusion data frame count: 0\nlof data frame count: 1201\nthe final bin 3 dataframe is: 1201\n"
    }
   ],
   "source": [
    "# BIN 2 of 7\n",
    "# bin consists of bin3 level 2 filter with some more added on filters\n",
    "dataframe_bin2_level2_inclusion = dataframe_bin3_level2_inclusion \\\n",
    "    .filter(dataframe_level2_exclusion.eigen_pc_raw_rankscore > 0.9) \\\n",
    "    .filter(dataframe_level2_exclusion.dann_rankscore > 0.9) \\\n",
    "    .filter(dataframe_level2_exclusion.cadd_raw_rankscore > 0.9) \\\n",
    "    .filter(dataframe_level2_exclusion.vest3_rankscore > 0.9)\n",
    "\n",
    "print(\"bin 2 level 2 inclusion data frame count: {}\".format(dataframe_bin2_level2_inclusion.count()))\n",
    "print(\"lof data frame count: {}\".format(dataframe_lof.count()))\n",
    "# dataframe_level2.show()\n",
    "\n",
    "# create the final_2 df, lof = HC, add in level 2 filters\n",
    "final_bin2_data_frame = dataframe_lof.union(dataframe_bin2_level2_inclusion).distinct()\n",
    "final_bin2_data_frame = final_bin2_data_frame.withColumn(burden_bin_id, lit('bin2_7'))\n",
    "\n",
    "# print\n",
    "print(\"the final bin 3 dataframe is: {}\".format(final_bin3_data_frame.count()))\n",
    "# final_bin7_data_frame.show()"
   ]
  },
  {
   "cell_type": "code",
   "execution_count": 144,
   "metadata": {},
   "outputs": [
    {
     "name": "stdout",
     "output_type": "stream",
     "text": "the final agregated bin dataframe is: 43523\n"
    }
   ],
   "source": [
    "# combine all the bins into one dataframe\n",
    "output_data_frame = final_bin1_data_frame \\\n",
    "    .union(final_bin2_data_frame) \\\n",
    "    .union(final_bin3_data_frame) \\\n",
    "    .union(final_bin4_data_frame) \\\n",
    "    .union(final_bin5_data_frame) \\\n",
    "    .union(final_bin6_data_frame) \\\n",
    "    .union(final_bin7_data_frame).distinct().orderBy(var_id, gene_ensemble_id, burden_bin_id)\n",
    "    # .distinct() \\\n",
    "    # .orderBy(var_id, gene_ensemble_id, burden_bin_id)\n",
    "\n",
    "# print\n",
    "print(\"the final agregated bin dataframe is: {}\".format(output_data_frame.count()))\n"
   ]
  },
  {
   "cell_type": "code",
   "execution_count": 145,
   "metadata": {},
   "outputs": [],
   "source": [
    "# save out the output data frame to file\n",
    "output_data_frame \\\n",
    "    .write \\\n",
    "    .mode('overwrite') \\\n",
    "    .json('%s/burden' % outdir)\n"
   ]
  },
  {
   "cell_type": "code",
   "execution_count": null,
   "metadata": {},
   "outputs": [],
   "source": [
    "# done\n",
    "spark.stop()\n"
   ]
  },
  {
   "cell_type": "code",
   "execution_count": null,
   "metadata": {},
   "outputs": [],
   "source": [
    "# filter_polyphen2_hdiv_pred = \"polyphen2_hdiv_pred\"\n",
    "# filter_polyphen2_hvar_pred = \"polyphen2_hvar_pred\"\n",
    "# filter_sift_red = \"sift_pred\"\n",
    "# filter_mutationtaster_pred = \"mutationtaster_pred\"\n",
    "# filter_lrt_pred = \"lrt_pred\"\n",
    "# filter_metalr_pred = \"metalr_pred\"\n",
    "# filter_provean_pred = \"provean_pred\"\n",
    "# filter_fathmm_pred = \"fathmm_pred\"\n",
    "# filter_fathmm_mkl_coding_pred = \"fathmm_mkl_coding_pred\"\n",
    "# filter_eigen_pc_raw_rankscore = \"eigen_pc_raw_rankscore\"\n",
    "# filter_dann_rankscore = \"dann_rankscore\"\n",
    "# filter_vest3_rankscore = \"vest3_rankscore\"\n",
    "# filter_cadd_raw_rankscore = \"cadd_raw_rankscore\"\n",
    "# filter_metasvm_pred = \"metasvm_pred\"\n",
    "\n",
    "# aliases w/o -\n",
    "# filter_fathmm_mkl_coding_pred_alias = \"fathmm_mkl_coding_pred\"\n",
    "# filter_eigen_pc_raw_rankscore_alias = \"eigen_pc-raw_rankscore\"\n"
   ]
  }
 ]
}