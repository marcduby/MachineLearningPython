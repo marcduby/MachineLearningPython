{
 "nbformat": 4,
 "nbformat_minor": 2,
 "metadata": {
  "language_info": {
   "name": "python",
   "codemirror_mode": {
    "name": "ipython",
    "version": 3
   },
   "version": "3.7.6-final"
  },
  "orig_nbformat": 2,
  "file_extension": ".py",
  "mimetype": "text/x-python",
  "name": "python",
  "npconvert_exporter": "python",
  "pygments_lexer": "ipython3",
  "version": 3,
  "kernelspec": {
   "name": "python37664bittf237venv9b274482c7ba4966ad2cf02baa9bb24c",
   "display_name": "Python 3.7.6 64-bit ('tf2_37': venv)"
  }
 },
 "cells": [
  {
   "cell_type": "code",
   "execution_count": 1,
   "metadata": {},
   "outputs": [],
   "source": [
    "from pyspark.sql import SparkSession\n",
    "from pyspark.sql.types import StructType, StructField, StringType, BooleanType, DoubleType, IntegerType\n",
    "\n"
   ]
  },
  {
   "cell_type": "code",
   "execution_count": null,
   "metadata": {},
   "outputs": [],
   "source": [
    "# load and output directory\n",
    "# vep_srcdir = 's3://dig-analysis-data/out/varianteffect/effects/part-*'\n",
    "# outdir = 's3://dig-bio-index/burden/vepbinning'\n",
    "\n",
    "# test directories\n",
    "vep_srcdir = '/Users/mduby/Data/Broad/Aggregator/BurdenBinning.test*'\n",
    "outdir = '/Users/mduby/Data/Broad/Aggregator/BurdenBinning/Out'\n",
    "\n"
   ]
  }
 ]
}