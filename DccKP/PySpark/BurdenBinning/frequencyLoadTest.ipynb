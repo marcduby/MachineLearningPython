{
 "cells": [
  {
   "cell_type": "code",
   "execution_count": 27,
   "metadata": {},
   "outputs": [
    {
     "output_type": "stream",
     "name": "stdout",
     "text": "PySpark version is 2.4.5\n"
    }
   ],
   "source": [
    "# imports\n",
    "from pyspark.sql import SparkSession\n",
    "from pyspark.sql.types import StructType, StructField, StringType, BooleanType, DoubleType, IntegerType\n",
    "from pyspark.sql.functions import col, struct, explode, when, lit, array, udf\n",
    "import pyspark as pysp \n",
    "\n",
    "print(\"PySpark version is {}\".format(pysp.__version__))\n"
   ]
  },
  {
   "cell_type": "code",
   "execution_count": 28,
   "metadata": {},
   "outputs": [],
   "source": [
    "# directory location\n",
    "freq_srcdir = '/Users/mduby/Data/Broad/Aggregator/BurdenBinning/JsonFrequency'\n",
    "freq_srcdir_cvs = '/Users/mduby/Data/Broad/Aggregator/BurdenBinning/Frequency'\n"
   ]
  },
  {
   "cell_type": "code",
   "execution_count": 29,
   "metadata": {},
   "outputs": [],
   "source": [
    "# open spark session\n",
    "spark = SparkSession.builder.appName('bioindex').getOrCreate()\n",
    "\n"
   ]
  },
  {
   "cell_type": "code",
   "execution_count": 55,
   "metadata": {},
   "outputs": [],
   "source": [
    "# functions\n",
    "# method to load the frequencies\n",
    "def load_freq(ancestry_name, input_srcdir):\n",
    "    return spark.read \\\n",
    "        .json('%s/%s/part-*' % (input_srcdir, ancestry_name)) \\\n",
    "        .select(var_id_col, maf_col.alias(ancestry_name))\n",
    "\n",
    "# functions\n",
    "# method to load the frequencies in csv format\n",
    "def load_freq_csv(ancestry_name, input_srcdir):\n",
    "    return spark.read \\\n",
    "        .csv('%s/%s/part-*' % (input_srcdir, ancestry_name), sep='\\t', header=True, schema=frequency_schema) \\\n",
    "        .select(var_id_col, maf_col.alias(ancestry_name))\n",
    "\n",
    "# method to get the max of an array\n",
    "def max_array(array_var):\n",
    "    max = 0.0                        # maf will never be less than 0\n",
    "    for element in array_var:\n",
    "        if (element is not None):\n",
    "            if (element > max):\n",
    "                max = element\n",
    "    return max\n",
    "\n",
    "# custom function used for sorting chromosomes properly\n",
    "max_array_udf = udf(max_array, DoubleType())\n"
   ]
  },
  {
   "cell_type": "code",
   "execution_count": 56,
   "metadata": {},
   "outputs": [],
   "source": [
    "# setup variables\n",
    "# ancestries = ['AA', 'AF', 'EA', 'EU', 'HS', 'SA']\n",
    "ancestries = ['AA', 'EA', 'EU', 'HS', 'SA']\n",
    "dataframe_freq = None\n",
    "dataframe_freq_csv = None\n",
    "\n",
    "var_id = \"varId\"\n",
    "maf = 'maf'\n",
    "\n",
    "\n",
    "# schemas for csv files\n",
    "# this is the schema written out by the frequency analysis processor\n",
    "frequency_schema = StructType(\n",
    "    [\n",
    "        StructField('varId', StringType(), nullable=False),\n",
    "        StructField('chromosome', StringType(), nullable=False),\n",
    "        StructField('position', IntegerType(), nullable=False),\n",
    "        StructField('reference', StringType(), nullable=False),\n",
    "        StructField('alt', StringType(), nullable=False),\n",
    "        StructField('eaf', DoubleType(), nullable=False),\n",
    "        StructField('maf', DoubleType(), nullable=False),\n",
    "        StructField('ancestry', StringType(), nullable=False),\n",
    "    ]\n",
    ")\n",
    "\n",
    "# column variables for output\n",
    "var_id_col = col(var_id)\n",
    "maf_col = col(maf)\n"
   ]
  },
  {
   "cell_type": "code",
   "execution_count": 57,
   "metadata": {},
   "outputs": [
    {
     "output_type": "stream",
     "name": "stdout",
     "text": "the loaded frequency data frame has 400999 rows\n+----------------+--------------------+----+----+----+----+\n|           varId|                  AA|  EA|  EU|  HS|  SA|\n+----------------+--------------------+----+----+----+----+\n| 10:10014153:G:C|              0.1709|null|null|null|null|\n|10:100153688:C:T| 0.36813283702213284|null|null|null|null|\n|10:100169950:T:C|  0.1651464293553816|null|null|null|null|\n|10:100170708:G:A|             0.01095|null|null|null|null|\n|10:100174146:C:T|              0.0541|null|null|null|null|\n|10:100175028:T:A|0.061900000000000004|null|null|null|null|\n|10:100195110:C:T|            1.268E-4|null|null|null|null|\n|10:100202971:C:G|0.012276277883232666|null|null|null|null|\n| 10:10020665:C:A| 0.17069999999999996|null|null|null|null|\n|10:100217930:G:A|              0.0495|null|null|null|null|\n|10:100221501:G:C|            2.307E-4|null|null|null|null|\n|10:100249850:C:T|            6.341E-5|null|null|null|null|\n| 10:10025888:T:A|  0.3374512080712788|null|null|null|null|\n|10:100281229:A:T|              0.0688|null|null|null|null|\n|10:100344905:T:C| 0.48284677906457635|null|null|null|null|\n|10:100425738:T:C|              0.0915|null|null|null|null|\n|10:100447585:T:A|  0.3408847655226618|null|null|null|null|\n|10:100481443:C:T|            1.268E-4|null|null|null|null|\n|10:100539620:A:C|              0.4149|null|null|null|null|\n|10:100550711:C:A| 0.07793429488348345|null|null|null|null|\n+----------------+--------------------+----+----+----+----+\nonly showing top 20 rows\n\n"
    }
   ],
   "source": [
    "# load frequencies by variant ID\n",
    "for ancestry in ancestries:\n",
    "    df = load_freq(ancestry, freq_srcdir)\n",
    "\n",
    "    # final, joined frequencies\n",
    "    dataframe_freq = df if dataframe_freq is None else dataframe_freq.join(df, var_id, how='outer')\n",
    "\n",
    "# # pull all the frequencies together into a single array\n",
    "# dataframe_freq = dataframe_freq.select(dataframe_freq.varId, array(*ancestries).alias('frequency'))\n",
    "# #\n",
    "# # # get the max for all frequencies\n",
    "# dataframe_freq = dataframe_freq.withColumn('maf', max_array_udf('frequency')).select(dataframe_freq.varId, 'maf')\n",
    "\n",
    "\n",
    "print(\"the loaded frequency data frame has {} rows\".format(dataframe_freq.count()))\n",
    "dataframe_freq.show()\n"
   ]
  },
  {
   "cell_type": "code",
   "execution_count": 58,
   "metadata": {},
   "outputs": [
    {
     "output_type": "stream",
     "name": "stdout",
     "text": "the loaded frequency data frame has 400999 rows\n+----------------+--------------------+\n|           varId|                 maf|\n+----------------+--------------------+\n| 10:10014153:G:C|              0.1709|\n|10:100153688:C:T| 0.36813283702213284|\n|10:100169950:T:C|  0.1651464293553816|\n|10:100170708:G:A|             0.01095|\n|10:100174146:C:T|              0.0541|\n|10:100175028:T:A|0.061900000000000004|\n|10:100195110:C:T|            1.268E-4|\n|10:100202971:C:G|0.012276277883232666|\n| 10:10020665:C:A| 0.17069999999999996|\n|10:100217930:G:A|              0.0495|\n|10:100221501:G:C|            2.307E-4|\n|10:100249850:C:T|            6.341E-5|\n| 10:10025888:T:A|  0.3374512080712788|\n|10:100281229:A:T|              0.0688|\n|10:100344905:T:C| 0.48284677906457635|\n|10:100425738:T:C|              0.0915|\n|10:100447585:T:A|  0.3408847655226618|\n|10:100481443:C:T|            1.268E-4|\n|10:100539620:A:C|              0.4149|\n|10:100550711:C:A| 0.07793429488348345|\n+----------------+--------------------+\nonly showing top 20 rows\n\n"
    }
   ],
   "source": [
    "# pull all the frequencies together into a single array\n",
    "dataframe_freq = dataframe_freq.select(dataframe_freq.varId, array(*ancestries).alias('frequency'))\n",
    "#\n",
    "# # get the max for all frequencies\n",
    "dataframe_freq = dataframe_freq.withColumn('maf', max_array_udf('frequency')).select(dataframe_freq.varId, 'maf')\n",
    "\n",
    "# print\n",
    "print(\"the loaded frequency data frame has {} rows\".format(dataframe_freq.count()))\n",
    "dataframe_freq.show()"
   ]
  },
  {
   "cell_type": "code",
   "execution_count": 59,
   "metadata": {},
   "outputs": [
    {
     "output_type": "stream",
     "name": "stdout",
     "text": "+----------------+--------------------+\n|           varId|                 maf|\n+----------------+--------------------+\n|10:100008733:G:A|          3.64352E-5|\n|10:100009123:G:C|              7.0E-4|\n| 10:10002100:A:C| 3.99999999999956E-4|\n|10:100021801:A:C|3.740670032309577E-5|\n| 10:10002186:G:A| 0.06848648200365254|\n+----------------+--------------------+\nonly showing top 5 rows\n\n"
    }
   ],
   "source": [
    "dataframe_freq.filter(col('EU') > 0).show(5)"
   ]
  },
  {
   "cell_type": "code",
   "execution_count": 15,
   "metadata": {},
   "outputs": [
    {
     "output_type": "stream",
     "name": "stdout",
     "text": "the loaded frequency data frame has 325263 rows\n+----------------+-------------------+\n|           varId|                maf|\n+----------------+-------------------+\n| 10:10014153:G:C|             0.1709|\n|10:100153688:C:T| 0.3759333333333334|\n|10:100169950:T:C|0.16363333333333333|\n|10:100170708:G:A|            0.01095|\n|10:100174146:C:T|             0.0541|\n|10:100175028:T:A|             0.0619|\n|10:100195110:C:T|           1.268E-4|\n|10:100202971:C:G|0.01120740953773322|\n| 10:10020665:C:A|             0.1707|\n|10:100217930:G:A|             0.0495|\n|10:100221501:G:C|           2.307E-4|\n|10:100249850:C:T|           6.341E-5|\n| 10:10025888:T:A|0.32603333333333334|\n|10:100281229:A:T|             0.0688|\n|10:100344905:T:C| 0.4730666666666667|\n|10:100425738:T:C|             0.0915|\n|10:100447585:T:A|0.34063333333333334|\n|10:100481443:C:T|           1.268E-4|\n|10:100539620:A:C|             0.4149|\n|10:100550711:C:A|0.07943333333333334|\n+----------------+-------------------+\nonly showing top 20 rows\n\n"
    }
   ],
   "source": [
    "# load frequencies by variant ID\n",
    "for ancestry in ancestries:\n",
    "    df = load_freq_csv(ancestry, freq_srcdir_cvs)\n",
    "\n",
    "    # final, joined frequencies\n",
    "    dataframe_freq_csv = df if dataframe_freq_csv is None else dataframe_freq_csv.join(df, var_id, how='outer')\n",
    "\n",
    "# pull all the frequencies together into a single array\n",
    "dataframe_freq_csv = dataframe_freq_csv.select(dataframe_freq_csv.varId, array(*ancestries).alias('frequency'))\n",
    "#\n",
    "# # get the max for all frequencies\n",
    "dataframe_freq_csv = dataframe_freq_csv.withColumn('maf', max_array_udf('frequency')).select(dataframe_freq_csv.varId, 'maf')\n",
    "\n",
    "\n",
    "print(\"the loaded frequency data frame has {} rows\".format(dataframe_freq_csv.count()))\n",
    "dataframe_freq_csv.show()\n"
   ]
  },
  {
   "cell_type": "code",
   "execution_count": null,
   "metadata": {},
   "outputs": [],
   "source": []
  }
 ],
 "metadata": {
  "language_info": {
   "codemirror_mode": {
    "name": "ipython",
    "version": 3
   },
   "file_extension": ".py",
   "mimetype": "text/x-python",
   "name": "python",
   "nbconvert_exporter": "python",
   "pygments_lexer": "ipython3",
   "version": "3.7.6-final"
  },
  "orig_nbformat": 2,
  "kernelspec": {
   "name": "python37664bittf237venv9b274482c7ba4966ad2cf02baa9bb24c",
   "display_name": "Python 3.7.6 64-bit ('tf2_37': venv)"
  }
 },
 "nbformat": 4,
 "nbformat_minor": 2
}