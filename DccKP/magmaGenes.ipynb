{
 "cells": [
  {
   "cell_type": "code",
   "execution_count": 1,
   "metadata": {
    "collapsed": true
   },
   "outputs": [],
   "source": [
    "# imports\n",
    "import pandas as pd\n",
    "import json\n",
    "import requests\n",
    "\n"
   ]
  },
  {
   "cell_type": "code",
   "execution_count": 2,
   "metadata": {},
   "outputs": [
    {
     "name": "stdout",
     "output_type": "stream",
     "text": [
      "the list of phenotypes is: ['BMI', 'T2D', 'CHOL']\n"
     ]
    }
   ],
   "source": [
    "# create an array of phenotypes\n",
    "phenotypes = ['BMI', 'T2D', 'CHOL']\n",
    "\n",
    "# print the list\n",
    "print(\"the list of phenotypes is: {}\".format(phenotypes))"
   ]
  },
  {
   "cell_type": "code",
   "execution_count": 3,
   "metadata": {},
   "outputs": [
    {
     "name": "stdout",
     "output_type": "stream",
     "text": [
      "the query for the phenotype: BMI is: http://public.type2diabeteskb.org/dccservices/testcalls/magma/gene/object?phenotype=BMI\n"
     ]
    },
    {
     "name": "stdout",
     "output_type": "stream",
     "text": [
      "after concatenation, the master data frame has a row count of: 18180\n\nthe query for the phenotype: T2D is: http://public.type2diabeteskb.org/dccservices/testcalls/magma/gene/object?phenotype=T2D\n"
     ]
    },
    {
     "name": "stdout",
     "output_type": "stream",
     "text": [
      "after concatenation, the master data frame has a row count of: 36729\n\nthe query for the phenotype: CHOL is: http://public.type2diabeteskb.org/dccservices/testcalls/magma/gene/object?phenotype=CHOL\n"
     ]
    },
    {
     "name": "stdout",
     "output_type": "stream",
     "text": [
      "after concatenation, the master data frame has a row count of: 55032\n\n"
     ]
    }
   ],
   "source": [
    "# build the query string\n",
    "# this API returns the magma data for all available genes available \n",
    "query_api = \"http://public.type2diabeteskb.org/dccservices/testcalls/magma/gene/object?phenotype={}\"\n",
    "\n",
    "# create an empty data frame\n",
    "master_data_frame = pd.DataFrame()\n",
    "\n",
    "# for each variant, call the meta REST api and concatenate the data frames\n",
    "for phe in phenotypes:\n",
    "    # build the query and print\n",
    "    phe_query_api = query_api.format(phe)\n",
    "    print(\"the query for the phenotype: {} is: {}\".format(phe, phe_query_api))\n",
    "    \n",
    "    # make the REST call and capture the http response\n",
    "    req = requests.get(phe_query_api)\n",
    "    \n",
    "    # decode the http response into the json format\n",
    "    req_json = req.json()\n",
    "    \n",
    "    # read the results into an individual pandas data frame, given it the 'data' section of the json\n",
    "    phe_data_frame = pd.DataFrame(req_json['data'])\n",
    "    \n",
    "    # add the results to the master data frame (concatenate the results with the previous ones)\n",
    "    master_data_frame = pd.concat([master_data_frame, phe_data_frame])\n",
    "    \n",
    "    # print the size of the master data frame\n",
    "    print(\"after concatenation, the master data frame has a row count of: {}\\n\".format(master_data_frame.shape[0]))"
   ]
  },
  {
   "cell_type": "code",
   "execution_count": 4,
   "metadata": {},
   "outputs": [
    {
     "name": "stdout",
     "output_type": "stream",
     "text": [
      "the first 10 rows of the combined data frame\n  ancestry      gene gene_ensemble_id  nsnps phenotype        pvalue    zstat\n0    Mixed      A1BG  ENSG00000121410     33       BMI  7.101500e-05  3.80460\n1    Mixed      NAT2  ENSG00000156006    176       BMI  3.351600e-02  1.83150\n2    Mixed       ADA  ENSG00000196839     75       BMI  8.539200e-06  4.30000\n3    Mixed      CDH2  ENSG00000170558    481       BMI  1.727800e-03  2.92400\n4    Mixed      AKT3  ENSG00000117020    196       BMI  3.395200e-12  6.86200\n5    Mixed      MED6  ENSG00000133997     97       BMI  3.142700e-02  1.86020\n6    Mixed     NR2E3             None     67       BMI  7.232900e-07  4.81850\n7    Mixed   NAALAD2  ENSG00000077616    148       BMI  1.570300e-05  4.16300\n8    Mixed      DDTL  ENSG00000099974     28       BMI  1.737400e-01  0.93949\n9    Mixed  NAALADL1  ENSG00000168060     56       BMI  5.975400e-04  3.24010\n"
     ]
    }
   ],
   "source": [
    "# show the top 10 rows of the combined data frame\n",
    "print(\"the first 10 rows of the combined data frame\")\n",
    "print(master_data_frame.head(10))\n"
   ]
  },
  {
   "cell_type": "code",
   "execution_count": 5,
   "metadata": {},
   "outputs": [
    {
     "name": "stdout",
     "output_type": "stream",
     "text": [
      "        gene        pvalue    zstat phenotype\n0       A1BG  7.101500e-05  3.80460       BMI\n1       NAT2  3.351600e-02  1.83150       BMI\n2        ADA  8.539200e-06  4.30000       BMI\n3       CDH2  1.727800e-03  2.92400       BMI\n4       AKT3  3.395200e-12  6.86200       BMI\n5       MED6  3.142700e-02  1.86020       BMI\n6      NR2E3  7.232900e-07  4.81850       BMI\n7    NAALAD2  1.570300e-05  4.16300       BMI\n8       DDTL  1.737400e-01  0.93949       BMI\n9   NAALADL1  5.975400e-04  3.24010       BMI\n10  SIGLEC14  5.876800e-02  1.56520       BMI\n11     ACOT8  1.455100e-02  2.18210       BMI\n12      ABI1  9.514700e-02  1.30970       BMI\n13    GNPDA1  6.398100e-01 -0.35794       BMI\n14     KCNE3  1.940600e-02  2.06620       BMI\n"
     ]
    }
   ],
   "source": [
    "# trim the data frame to the p_value, std_err, beta, num_samples, phenotype and variant\n",
    "filtered_data_frame = master_data_frame.filter(['gene', 'pvalue', 'zstat', 'phenotype'], axis=1)\n",
    "\n",
    "# display the new data frame's first 15 rows\n",
    "print(filtered_data_frame.head(15))\n"
   ]
  },
  {
   "cell_type": "code",
   "execution_count": 7,
   "metadata": {},
   "outputs": [
    {
     "name": "stdout",
     "output_type": "stream",
     "text": [
      "          gene         pvalue   zstat phenotype\n14311   TCF7L2  2.333000e-209  30.856       T2D\n12574    PVRL2  7.352100e-103  21.503      CHOL\n7497      APOB   2.616400e-88  19.887      CHOL\n820     TOMM40   3.630600e-85  19.521      CHOL\n11101   CDKAL1   1.437800e-83  19.332       T2D\n14789      FTO   2.729100e-78  18.695       BMI\n1051   IGF2BP2   2.220900e-75  18.334       T2D\n8702      LDLR   1.794900e-73  18.093      CHOL\n16964   SEC16B   1.019600e-69  17.611       BMI\n7827      APOE   9.171400e-69  17.486      CHOL\n7644     APOC1   9.424200e-69  17.484      CHOL\n14828     WFS1   2.756300e-65  17.023       T2D\n5285      CBLC   1.119200e-64  16.941      CHOL\n7468     APOA4   1.349000e-64  16.930      CHOL\n16434    PSRC1   1.895700e-61  16.498      CHOL\n3929    CELSR2   3.436700e-60  16.322      CHOL\n12924     BDNF   4.382200e-60  16.307       BMI\n7764     APOC3   3.885300e-59  16.173      CHOL\n13278    THADA   2.840200e-58  16.050       T2D\n13815  SMARCA4   1.303300e-57  15.956      CHOL\n"
     ]
    }
   ],
   "source": [
    "# sort the new data frame by ascending p_value (more significant first)\n",
    "# this will not group the rows by gene\n",
    "filtered_data_frame.sort_values('pvalue', inplace=True)\n",
    "\n",
    "# show the first 20 rows of the newly sorted data frame\n",
    "print(filtered_data_frame.head(20))"
   ]
  },
  {
   "cell_type": "code",
   "execution_count": 8,
   "metadata": {},
   "outputs": [
    {
     "name": "stdout",
     "output_type": "stream",
     "text": [
      "          gene         pvalue   zstat phenotype\n14311   TCF7L2  2.333000e-209  30.856       T2D\n12574    PVRL2  7.352100e-103  21.503      CHOL\n7497      APOB   2.616400e-88  19.887      CHOL\n820     TOMM40   3.630600e-85  19.521      CHOL\n11101   CDKAL1   1.437800e-83  19.332       T2D\n14789      FTO   2.729100e-78  18.695       BMI\n1051   IGF2BP2   2.220900e-75  18.334       T2D\n8702      LDLR   1.794900e-73  18.093      CHOL\n16964   SEC16B   1.019600e-69  17.611       BMI\n7827      APOE   9.171400e-69  17.486      CHOL\n7644     APOC1   9.424200e-69  17.484      CHOL\n14828     WFS1   2.756300e-65  17.023       T2D\n5285      CBLC   1.119200e-64  16.941      CHOL\n7468     APOA4   1.349000e-64  16.930      CHOL\n16434    PSRC1   1.895700e-61  16.498      CHOL\n3929    CELSR2   3.436700e-60  16.322      CHOL\n12924     BDNF   4.382200e-60  16.307       BMI\n7764     APOC3   3.885300e-59  16.173      CHOL\n13278    THADA   2.840200e-58  16.050       T2D\n13815  SMARCA4   1.303300e-57  15.956      CHOL\n"
     ]
    }
   ],
   "source": [
    "# reset the index\n",
    "filtered_data_frame.reindex\n",
    "\n",
    "# show the first 20 rows of the newly sorted data frame\n",
    "print(filtered_data_frame.head(20))"
   ]
  },
  {
   "cell_type": "code",
   "execution_count": null,
   "metadata": {},
   "outputs": [],
   "source": []
  }
 ],
 "metadata": {
  "kernelspec": {
   "display_name": "Python 2",
   "language": "python",
   "name": "python2"
  },
  "language_info": {
   "codemirror_mode": {
    "name": "ipython",
    "version": 2
   },
   "file_extension": ".py",
   "mimetype": "text/x-python",
   "name": "python",
   "nbconvert_exporter": "python",
   "pygments_lexer": "ipython2",
   "version": "2.7.6"
  }
 },
 "nbformat": 4,
 "nbformat_minor": 0
}
