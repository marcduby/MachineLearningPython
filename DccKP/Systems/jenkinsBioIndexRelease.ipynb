{
 "nbformat": 4,
 "nbformat_minor": 2,
 "metadata": {
  "language_info": {
   "name": "python",
   "codemirror_mode": {
    "name": "ipython",
    "version": 3
   },
   "version": "3.7.6-final"
  },
  "orig_nbformat": 2,
  "file_extension": ".py",
  "mimetype": "text/x-python",
  "name": "python",
  "npconvert_exporter": "python",
  "pygments_lexer": "ipython3",
  "version": 3,
  "kernelspec": {
   "name": "python37664bittf237venv9b274482c7ba4966ad2cf02baa9bb24c",
   "display_name": "Python 3.7.6 64-bit ('tf2_37': venv)"
  }
 },
 "cells": [
  {
   "cell_type": "code",
   "execution_count": 41,
   "metadata": {},
   "outputs": [],
   "source": [
    "import os\n",
    "import time\n",
    "import datetime\n",
    "import pytz\n",
    "import json\n",
    "\n",
    "import boto3\n",
    "import base64"
   ]
  },
  {
   "cell_type": "code",
   "execution_count": 72,
   "metadata": {},
   "outputs": [
    {
     "output_type": "stream",
     "name": "stdout",
     "text": "time stamp is: 20200421151455\ngot schema name: bioindex-20200421151455 and s3 index: dig-bio-index-20200421151455 and git directory /Users/mduby/BioIndex/bioindex_20200421151455\nthe git clone command is: git clone git@github.com:broadinstitute/dig-bioindex.git /Users/mduby/BioIndex/bioindex_20200421151455\n"
    }
   ],
   "source": [
    "# get the timestamp for the build\n",
    "format = \"%Y%m%d%H%M%S\"\n",
    "timestamp = time.strftime(format)\n",
    "\n",
    "print(\"time stamp is: {}\".format(timestamp))\n",
    "\n",
    "# DB settings\n",
    "schema_name = 'bioindex-' + timestamp\n",
    "\n",
    "# s3 settings\n",
    "s3_bucket_name = 'dig-bio-index-' + timestamp\n",
    "s3_bucket_bio_index = 'dig-bio-index'\n",
    "\n",
    "# git settings\n",
    "code_directory = '/Users/mduby/BioIndex/'\n",
    "git_directory = code_directory + 'bioindex_' + timestamp\n",
    "git_clone_command = \"git clone git@github.com:broadinstitute/dig-bioindex.git \" + git_directory\n",
    "\n",
    "# secrets settings\n",
    "secret_name = \"bioindex-dev\"\n",
    "region_name = \"us-east-1\"\n",
    "\n",
    "# log\n",
    "print(\"got schema name: {} and s3 index: {} and git directory {}\".format(schema_name, s3_bucket_name, git_directory))\n",
    "print(\"the git clone command is: {}\".format(git_clone_command))\n"
   ]
  },
  {
   "cell_type": "code",
   "execution_count": 66,
   "metadata": {},
   "outputs": [
    {
     "output_type": "stream",
     "name": "stdout",
     "text": "Running git clone command: git clone git@github.com:broadinstitute/dig-bioindex.git /Users/mduby/BioIndex/bioindex_20200421135919\nthe git process exited with code 0\n"
    }
   ],
   "source": [
    "# log\n",
    "print(\"Running git clone command: {}\".format(git_clone_command))\n",
    "\n",
    "# clone the bioindex\n",
    "os.chdir(code_directory)\n",
    "clone_output = os.system(git_clone_command)\n",
    "\n",
    "# log\n",
    "print(\"the git process exited with code {}\".format(clone_output))"
   ]
  },
  {
   "cell_type": "code",
   "execution_count": 69,
   "metadata": {},
   "outputs": [
    {
     "output_type": "stream",
     "name": "stdout",
     "text": "existing bucket name: dig-bio-index\nexisting bucket name: dig-bio-index-20200421132912\nexisting bucket name: dig-bio-index-dev\n"
    }
   ],
   "source": [
    "# list buckets\n",
    "s3client = boto3.client('s3')\n",
    "\n",
    "# print all the bucket names\n",
    "list_buckets_resp = s3client.list_buckets()\n",
    "for bucket in list_buckets_resp['Buckets']:\n",
    "    if 'index' in bucket['Name']:\n",
    "        print(\"existing bucket name: {}\".format(bucket['Name']))\n",
    "\n",
    ""
   ]
  },
  {
   "cell_type": "code",
   "execution_count": 70,
   "metadata": {},
   "outputs": [
    {
     "output_type": "stream",
     "name": "stdout",
     "text": "(Just created) --> dig-bio-index-20200421135919 - there since 2020-04-21 19:11:36+00:00\n"
    }
   ],
   "source": [
    "# create the s3 bucket\n",
    "s3client.create_bucket(Bucket=s3_bucket_name)\n",
    "\n",
    "list_buckets_resp = s3client.list_buckets()\n",
    "for bucket in list_buckets_resp['Buckets']:\n",
    "    if bucket['Name'] == s3_bucket_name:\n",
    "        print('(Just created) --> {} - there since {}'.format(bucket['Name'], bucket['CreationDate']))"
   ]
  },
  {
   "cell_type": "code",
   "execution_count": 71,
   "metadata": {},
   "outputs": [
    {
     "output_type": "stream",
     "name": "stdout",
     "text": "existing bucket name after addition: dig-bio-index\nexisting bucket name after addition: dig-bio-index-20200421132912\nexisting bucket name after addition: dig-bio-index-20200421135919\nexisting bucket name after addition: dig-bio-index-dev\n"
    }
   ],
   "source": [
    "# print all the bucket names\n",
    "list_buckets_resp = s3client.list_buckets()\n",
    "for bucket in list_buckets_resp['Buckets']:\n",
    "    if 'index' in bucket['Name']:\n",
    "        print(\"existing bucket name after addition: {}\".format(bucket['Name']))\n",
    ""
   ]
  },
  {
   "cell_type": "code",
   "execution_count": null,
   "metadata": {},
   "outputs": [],
   "source": [
    "# clone the bucket\n"
   ]
  },
  {
   "cell_type": "code",
   "execution_count": 42,
   "metadata": {},
   "outputs": [],
   "source": [
    "# Use this code snippet in your app.\n",
    "# If you need more information about configurations or implementing the sample code, visit the AWS docs:   \n",
    "# https://aws.amazon.com/developers/getting-started/python/\n",
    "\n",
    "import boto3\n",
    "import base64\n",
    "from botocore.exceptions import ClientError\n",
    "\n",
    "\n",
    "def get_secret():\n",
    "\n",
    "    secret_name = \"bioindex-dev\"\n",
    "    region_name = \"us-east-1\"\n",
    "\n",
    "    # Create a Secrets Manager client\n",
    "    session = boto3.session.Session()\n",
    "    client = session.client(\n",
    "        service_name='secretsmanager',\n",
    "        region_name=region_name\n",
    "    )\n",
    "\n",
    "    # In this sample we only handle the specific exceptions for the 'GetSecretValue' API.\n",
    "    # See https://docs.aws.amazon.com/secretsmanager/latest/apireference/API_GetSecretValue.html\n",
    "    # We rethrow the exception by default.\n",
    "\n",
    "    try:\n",
    "        get_secret_value_response = client.get_secret_value(\n",
    "            SecretId=secret_name\n",
    "        )\n",
    "    except ClientError as e:\n",
    "        if e.response['Error']['Code'] == 'DecryptionFailureException':\n",
    "            # Secrets Manager can't decrypt the protected secret text using the provided KMS key.\n",
    "            # Deal with the exception here, and/or rethrow at your discretion.\n",
    "            raise e\n",
    "        elif e.response['Error']['Code'] == 'InternalServiceErrorException':\n",
    "            # An error occurred on the server side.\n",
    "            # Deal with the exception here, and/or rethrow at your discretion.\n",
    "            raise e\n",
    "        elif e.response['Error']['Code'] == 'InvalidParameterException':\n",
    "            # You provided an invalid value for a parameter.\n",
    "            # Deal with the exception here, and/or rethrow at your discretion.\n",
    "            raise e\n",
    "        elif e.response['Error']['Code'] == 'InvalidRequestException':\n",
    "            # You provided a parameter value that is not valid for the current state of the resource.\n",
    "            # Deal with the exception here, and/or rethrow at your discretion.\n",
    "            raise e\n",
    "        elif e.response['Error']['Code'] == 'ResourceNotFoundException':\n",
    "            # We can't find the resource that you asked for.\n",
    "            # Deal with the exception here, and/or rethrow at your discretion.\n",
    "            raise e\n",
    "    else:\n",
    "        # Decrypts secret using the associated KMS CMK.\n",
    "        # Depending on whether the secret is a string or binary, one of these fields will be populated.\n",
    "        if 'SecretString' in get_secret_value_response:\n",
    "            secret = get_secret_value_response['SecretString']\n",
    "        else:\n",
    "            decoded_binary_secret = base64.b64decode(get_secret_value_response['SecretBinary'])\n",
    "\n",
    "    return json.loads(secret)"
   ]
  },
  {
   "cell_type": "code",
   "execution_count": 55,
   "metadata": {},
   "outputs": [
    {
     "output_type": "execute_result",
     "data": {
      "text/plain": "{'ResponseMetadata': {'RequestId': 'CD2C6CF9C6A54EFC',\n  'HostId': 'k79Y1vWPZWUkM4tKvuqS0dlkIM+9WEhUEN8f3EUvEdzCU3G+jqG6rEy/PWUj/KQt4lNN9e+a1dI=',\n  'HTTPStatusCode': 200,\n  'HTTPHeaders': {'x-amz-id-2': 'k79Y1vWPZWUkM4tKvuqS0dlkIM+9WEhUEN8f3EUvEdzCU3G+jqG6rEy/PWUj/KQt4lNN9e+a1dI=',\n   'x-amz-request-id': 'CD2C6CF9C6A54EFC',\n   'date': 'Tue, 21 Apr 2020 17:29:18 GMT',\n   'location': '/dig-bio-index-20200421132912',\n   'content-length': '0',\n   'server': 'AmazonS3'},\n  'RetryAttempts': 0},\n 'Location': '/dig-bio-index-20200421132912'}"
     },
     "metadata": {},
     "execution_count": 55
    }
   ],
   "source": [
    "# create an s3 bucket\n",
    "s3client.create_bucket(Bucket=s3_bucket_name, ACL='private')\n",
    "\n",
    ""
   ]
  },
  {
   "cell_type": "code",
   "execution_count": 47,
   "metadata": {},
   "outputs": [
    {
     "output_type": "stream",
     "name": "stdout",
     "text": "got secret of type <class 'dict'>\nthe secret is: {'username': 'diguser', 'password': 'type2diabetes', 'engine': 'mysql', 'host': 'dig-bio-index.cxrzznxifeib.us-east-1.rds.amazonaws.com', 'port': 3306, 'dbInstanceIdentifier': 'dig-bio-index', 'dbname': 'biodev', 's3bucket': 'dig-bio-index-2014'}\n"
    }
   ],
   "source": [
    "# get the secret\n",
    "bio_secret = get_secret()\n",
    "\n",
    "print(\"got secret of type {}\".format(type(bio_secret)))\n",
    "print(\"the secret is: {}\".format(bio_secret))"
   ]
  },
  {
   "cell_type": "code",
   "execution_count": 51,
   "metadata": {},
   "outputs": [
    {
     "output_type": "execute_result",
     "data": {
      "text/plain": "{'ARN': 'arn:aws:secretsmanager:us-east-1:005901288866:secret:bioindex-dev-oN7jhA',\n 'Name': 'bioindex-dev',\n 'VersionId': '5a654c67-0ef5-42ed-b407-d010c038d0ac',\n 'ResponseMetadata': {'RequestId': '779c1e36-80e2-4e21-a63b-dda77d870d15',\n  'HTTPStatusCode': 200,\n  'HTTPHeaders': {'date': 'Tue, 21 Apr 2020 16:10:08 GMT',\n   'content-type': 'application/x-amz-json-1.1',\n   'content-length': '155',\n   'connection': 'keep-alive',\n   'x-amzn-requestid': '779c1e36-80e2-4e21-a63b-dda77d870d15'},\n  'RetryAttempts': 0}}"
     },
     "metadata": {},
     "execution_count": 51
    }
   ],
   "source": [
    "# update the secret\n",
    "session = boto3.session.Session()\n",
    "client = session.client(\n",
    "    service_name='secretsmanager',\n",
    "    region_name=region_name\n",
    ")\n",
    "\n",
    "updated_secret = bio_secret.update({\"s3bucket\": s3_bucket_name})\n",
    "client.update_secret(SecretId=secret_name, SecretString=json.dumps(bio_secret))\n",
    "\n",
    ""
   ]
  },
  {
   "cell_type": "code",
   "execution_count": null,
   "metadata": {},
   "outputs": [],
   "source": []
  }
 ]
}