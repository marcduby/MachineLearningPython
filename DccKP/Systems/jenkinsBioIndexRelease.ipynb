{
 "cells": [
  {
   "cell_type": "code",
   "execution_count": 5,
   "metadata": {},
   "outputs": [],
   "source": [
    "import os\n",
    "import time\n",
    "import datetime\n",
    "import pytz\n",
    "import json\n",
    "import time\n",
    "\n",
    "import boto3\n",
    "import base64"
   ]
  },
  {
   "cell_type": "code",
   "execution_count": 11,
   "metadata": {},
   "outputs": [
    {
     "output_type": "stream",
     "name": "stdout",
     "text": "time stamp is: 20200424092216\ngot initial schema name: biodev and s3 index: dig-bio-index-dev and git directory /Users/mduby/BioIndex/bioindex_20200424092216\nthe git clone command is: git clone git@github.com:broadinstitute/dig-bioindex.git /Users/mduby/BioIndex/bioindex_20200424092216\n"
    }
   ],
   "source": [
    "# get the timestamp for the build\n",
    "format = \"%Y%m%d%H%M%S\"\n",
    "timestamp = time.strftime(format)\n",
    "\n",
    "print(\"time stamp is: {}\".format(timestamp))\n",
    "\n",
    "# DB settings\n",
    "schema_name_dev = \"biodev\"\n",
    "schema_name_new = 'bioindex-' + timestamp\n",
    "\n",
    "# s3 settings\n",
    "s3_bucket_new = 'dig-bio-index-' + timestamp\n",
    "s3_bucket_dev = 'dig-bio-index-dev'\n",
    "\n",
    "# git settings\n",
    "code_directory = '/Users/mduby/BioIndex/'\n",
    "git_directory = code_directory + 'bioindex_' + timestamp\n",
    "git_clone_command = \"git clone git@github.com:broadinstitute/dig-bioindex.git \" + git_directory\n",
    "\n",
    "# secrets settings\n",
    "secret_name = \"bioindex-dev\"\n",
    "region_name = \"us-east-1\"\n",
    "\n",
    "# log\n",
    "print(\"got initial schema name: {} and s3 index: {} and git directory {}\".format(schema_name_dev, s3_bucket_dev, git_directory))\n",
    "print(\"the git clone command is: {}\".format(git_clone_command))\n"
   ]
  },
  {
   "cell_type": "code",
   "execution_count": 85,
   "metadata": {},
   "outputs": [],
   "source": [
    "# method to run an OS command and time it\n",
    "def run_system_command(os_command, input_message = \"\", if_test = True, if_log = False):\n",
    "    log_message = \"Running command\"\n",
    "    exit_code = None\n",
    "    start = time.time()\n",
    "    if if_test:\n",
    "        log_message = \"Testing command\"\n",
    "    if if_log:\n",
    "        print(\"{}: {}\".format(log_message, os_command))\n",
    "    if not if_test:\n",
    "        exit_code = os.system(os_command)\n",
    "    end = time.time()\n",
    "    print(\"Done in {}s with exit code {}\".format(end - start, exit_code))\n"
   ]
  },
  {
   "cell_type": "code",
   "execution_count": 12,
   "metadata": {},
   "outputs": [
    {
     "output_type": "stream",
     "name": "stdout",
     "text": "Running git clone command: git clone git@github.com:broadinstitute/dig-bioindex.git /Users/mduby/BioIndex/bioindex_20200424092216\nthe git process exited with code 0\n"
    }
   ],
   "source": [
    "# log\n",
    "print(\"Running git clone command: {}\".format(git_clone_command))\n",
    "\n",
    "# clone the bioindex\n",
    "os.chdir(code_directory)\n",
    "clone_output = os.system(git_clone_command)\n",
    "\n",
    "# log\n",
    "print(\"the git process exited with code {}\".format(clone_output))"
   ]
  },
  {
   "cell_type": "code",
   "execution_count": 13,
   "metadata": {},
   "outputs": [
    {
     "output_type": "stream",
     "name": "stdout",
     "text": "existing bucket name: dig-bio-index\nexisting bucket name: dig-bio-index-20200421132912\nexisting bucket name: dig-bio-index-20200421135919\nexisting bucket name: dig-bio-index-20200421152915\nexisting bucket name: dig-bio-index-dev\n"
    }
   ],
   "source": [
    "# list buckets\n",
    "s3client = boto3.client('s3')\n",
    "\n",
    "# print all the bucket names\n",
    "list_buckets_resp = s3client.list_buckets()\n",
    "for bucket in list_buckets_resp['Buckets']:\n",
    "    if 'index' in bucket['Name']:\n",
    "        print(\"existing bucket name: {}\".format(bucket['Name']))\n",
    "\n",
    ""
   ]
  },
  {
   "cell_type": "code",
   "execution_count": 15,
   "metadata": {},
   "outputs": [
    {
     "output_type": "stream",
     "name": "stdout",
     "text": "(Just created) --> dig-bio-index-20200424092216 - there since 2020-04-24 13:53:56+00:00\n"
    }
   ],
   "source": [
    "# create the s3 bucket\n",
    "s3client.create_bucket(Bucket=s3_bucket_new)\n",
    "\n",
    "list_buckets_resp = s3client.list_buckets()\n",
    "for bucket in list_buckets_resp['Buckets']:\n",
    "    if bucket['Name'] == s3_bucket_new:\n",
    "        print('(Just created) --> {} - there since {}'.format(bucket['Name'], bucket['CreationDate']))"
   ]
  },
  {
   "cell_type": "code",
   "execution_count": 16,
   "metadata": {},
   "outputs": [
    {
     "output_type": "stream",
     "name": "stdout",
     "text": "existing bucket name after addition: dig-bio-index\nexisting bucket name after addition: dig-bio-index-20200421132912\nexisting bucket name after addition: dig-bio-index-20200421135919\nexisting bucket name after addition: dig-bio-index-20200421152915\nexisting bucket name after addition: dig-bio-index-20200424092216\nexisting bucket name after addition: dig-bio-index-dev\n"
    }
   ],
   "source": [
    "# print all the bucket names\n",
    "list_buckets_resp = s3client.list_buckets()\n",
    "for bucket in list_buckets_resp['Buckets']:\n",
    "    if 'index' in bucket['Name']:\n",
    "        print(\"existing bucket name after addition: {}\".format(bucket['Name']))\n",
    ""
   ]
  },
  {
   "cell_type": "code",
   "execution_count": 86,
   "metadata": {
    "tags": [
     "outputPrepend",
     "outputPrepend"
    ]
   },
   "outputs": [
    {
     "output_type": "stream",
     "name": "stdout",
     "text": "sub folders of dig-bio-index-dev that need to be cloned\n-> sub folder: associations/\n-> sub folder: burden/\n-> sub folder: genes/\n\ncloning s3 bucket dig-bio-index-dev\nTesting command: aws s3 sync s3://dig-bio-index-dev/associations/ s3://dig-bio-index-20200424092216/associations/\nDone in 4.1961669921875e-05s with exit code None\nTesting command: aws s3 sync s3://dig-bio-index-dev/burden/ s3://dig-bio-index-20200424092216/burden/\nDone in 3.790855407714844e-05s with exit code None\nTesting command: aws s3 sync s3://dig-bio-index-dev/genes/ s3://dig-bio-index-20200424092216/genes/\nDone in 6.914138793945312e-05s with exit code None\n"
    }
   ],
   "source": [
    "# clone the bucket\n",
    "# s3_all_objects = s3client.list_objects_v2(Bucket = s3_bucket_bio_index) \n",
    "session = boto3.session.Session()\n",
    "s3 = session.resource('s3')\n",
    "s3_new_bucket = s3.Bucket(s3_bucket_dev)\n",
    "\n",
    "# s3_new_bucket = s3client.Bucket(s3_bucket_name)\n",
    "\n",
    "# for s3object in s3_all_objects.get('Contents'):\n",
    "#     print(\"the dev s3 bioindex bucket {} has sub object: {}\".format(s3_bucket_bio_index, s3object))\n",
    "\n",
    "# for s3object in s3_new_bucket.objects.filter(Prefix = \"/\"):\n",
    "#     print(\"the dev s3 bioindex bucket {} has sub object: {}\".format(s3_bucket_bio_index, s3object))    \n",
    "\n",
    "# log\n",
    "print(\"sub folders of {} that need to be cloned\".format(s3_bucket_dev))\n",
    "result = s3client.list_objects(Bucket=s3_bucket_dev, Prefix=\"\", Delimiter='/')\n",
    "for s3object in result.get('CommonPrefixes'):\n",
    "    print(\"-> sub folder: {}\".format(s3object.get('Prefix')))\n",
    "\n",
    "# log\n",
    "print(\"\\ncloning s3 bucket {}\".format(s3_bucket_dev))\n",
    "\n",
    "# copy the data\n",
    "for s3object in result.get('CommonPrefixes'):\n",
    "    s3_subdirectory = s3object.get('Prefix')\n",
    "    s3_command = \"aws s3 sync s3://{}/{} s3://{}/{}\".format(s3_bucket_dev, s3_subdirectory, s3_bucket_new, s3_subdirectory)\n",
    "    run_system_command(s3_command, if_log= True)\n",
    "    # print(\"s3 copying command: {}\".format(s3_command))\n",
    "    # exit_code = os.system(s3_command)\n",
    "    # end = time.time()\n",
    "    # print(\"Done in {}s with exit code {}\".format(end - start, exit_code))\n"
   ]
  },
  {
   "cell_type": "code",
   "execution_count": 3,
   "metadata": {},
   "outputs": [],
   "source": [
    "# Use this code snippet in your app.\n",
    "# If you need more information about configurations or implementing the sample code, visit the AWS docs:   \n",
    "# https://aws.amazon.com/developers/getting-started/python/\n",
    "\n",
    "import boto3\n",
    "import base64\n",
    "from botocore.exceptions import ClientError\n",
    "\n",
    "\n",
    "def get_secret():\n",
    "\n",
    "    secret_name = \"bioindex-dev\"\n",
    "    region_name = \"us-east-1\"\n",
    "\n",
    "    # Create a Secrets Manager client\n",
    "    session = boto3.session.Session()\n",
    "    client = session.client(\n",
    "        service_name='secretsmanager',\n",
    "        region_name=region_name\n",
    "    )\n",
    "\n",
    "    # In this sample we only handle the specific exceptions for the 'GetSecretValue' API.\n",
    "    # See https://docs.aws.amazon.com/secretsmanager/latest/apireference/API_GetSecretValue.html\n",
    "    # We rethrow the exception by default.\n",
    "\n",
    "    try:\n",
    "        get_secret_value_response = client.get_secret_value(\n",
    "            SecretId=secret_name\n",
    "        )\n",
    "    except ClientError as e:\n",
    "        if e.response['Error']['Code'] == 'DecryptionFailureException':\n",
    "            # Secrets Manager can't decrypt the protected secret text using the provided KMS key.\n",
    "            # Deal with the exception here, and/or rethrow at your discretion.\n",
    "            raise e\n",
    "        elif e.response['Error']['Code'] == 'InternalServiceErrorException':\n",
    "            # An error occurred on the server side.\n",
    "            # Deal with the exception here, and/or rethrow at your discretion.\n",
    "            raise e\n",
    "        elif e.response['Error']['Code'] == 'InvalidParameterException':\n",
    "            # You provided an invalid value for a parameter.\n",
    "            # Deal with the exception here, and/or rethrow at your discretion.\n",
    "            raise e\n",
    "        elif e.response['Error']['Code'] == 'InvalidRequestException':\n",
    "            # You provided a parameter value that is not valid for the current state of the resource.\n",
    "            # Deal with the exception here, and/or rethrow at your discretion.\n",
    "            raise e\n",
    "        elif e.response['Error']['Code'] == 'ResourceNotFoundException':\n",
    "            # We can't find the resource that you asked for.\n",
    "            # Deal with the exception here, and/or rethrow at your discretion.\n",
    "            raise e\n",
    "    else:\n",
    "        # Decrypts secret using the associated KMS CMK.\n",
    "        # Depending on whether the secret is a string or binary, one of these fields will be populated.\n",
    "        if 'SecretString' in get_secret_value_response:\n",
    "            secret = get_secret_value_response['SecretString']\n",
    "        else:\n",
    "            decoded_binary_secret = base64.b64decode(get_secret_value_response['SecretBinary'])\n",
    "\n",
    "    return json.loads(secret)"
   ]
  },
  {
   "cell_type": "code",
   "execution_count": 80,
   "metadata": {},
   "outputs": [
    {
     "output_type": "stream",
     "name": "stdout",
     "text": "got secret of type <class 'dict'>\nthe secret name is: dig-bio-index\n"
    }
   ],
   "source": [
    "# get the secret\n",
    "bio_secret = get_secret()\n",
    "\n",
    "print(\"got secret of type {}\".format(type(bio_secret)))\n",
    "print(\"the secret name is: {}\".format(bio_secret['dbInstanceIdentifier']))"
   ]
  },
  {
   "cell_type": "code",
   "execution_count": 87,
   "metadata": {},
   "outputs": [
    {
     "output_type": "stream",
     "name": "stdout",
     "text": "Done in 7.152557373046875e-07s with exit code None\n"
    }
   ],
   "source": [
    "# build the mysql command\n",
    "mysql_user = bio_secret['username']\n",
    "mysql_password = bio_secret['password']\n",
    "mysql_host = bio_secret['host']\n",
    "mysql_db = bio_secret['dbname']\n",
    "\n",
    "# build the create the database\n",
    "# mysql_command_create_schema = \"mysql -u {} -p'{}' -e \\\"create database {}\\\"\".format(mysql_user, mysql_password, schema_name_new)\n",
    "\n",
    "# run the command\n",
    "run_system_command(mysql_command_create_schema)"
   ]
  },
  {
   "cell_type": "code",
   "execution_count": 88,
   "metadata": {},
   "outputs": [
    {
     "output_type": "stream",
     "name": "stdout",
     "text": "Done in 9.5367431640625e-07s with exit code None\n"
    }
   ],
   "source": [
    "# build the mysql schema cloning command\n",
    "mysql_command_dump = \"mysqldump -u {} -p'{}' -h {} {}\".format(mysql_user, mysql_password, mysql_host, mysql_db)\n",
    "mysql_command_load = \"mysql -u {} -p'{}' -h {} {}\".format(mysql_user, mysql_password, mysql_host, schema_name_new)\n",
    "mysql_command_combined = mysql_command_dump + \" | \" + mysql_command_load\n",
    "\n",
    "# print\n",
    "# print(\"mysql dump command: {}\".format(mysql_command_dump))\n",
    "# print(\"mysql load command: {}\".format(mysql_command_load))\n",
    "\n",
    "# run the schema clone command\n",
    "run_system_command(mysql_command_combined)\n",
    "\n"
   ]
  },
  {
   "cell_type": "code",
   "execution_count": 51,
   "metadata": {},
   "outputs": [
    {
     "output_type": "execute_result",
     "data": {
      "text/plain": "{'ARN': 'arn:aws:secretsmanager:us-east-1:005901288866:secret:bioindex-dev-oN7jhA',\n 'Name': 'bioindex-dev',\n 'VersionId': '5a654c67-0ef5-42ed-b407-d010c038d0ac',\n 'ResponseMetadata': {'RequestId': '779c1e36-80e2-4e21-a63b-dda77d870d15',\n  'HTTPStatusCode': 200,\n  'HTTPHeaders': {'date': 'Tue, 21 Apr 2020 16:10:08 GMT',\n   'content-type': 'application/x-amz-json-1.1',\n   'content-length': '155',\n   'connection': 'keep-alive',\n   'x-amzn-requestid': '779c1e36-80e2-4e21-a63b-dda77d870d15'},\n  'RetryAttempts': 0}}"
     },
     "metadata": {},
     "execution_count": 51
    }
   ],
   "source": [
    "# update the secret\n",
    "session = boto3.session.Session()\n",
    "client = session.client(\n",
    "    service_name='secretsmanager',\n",
    "    region_name=region_name\n",
    ")\n",
    "\n",
    "updated_secret = bio_secret.update({\"s3bucket\": s3_bucket_name})\n",
    "client.update_secret(SecretId=secret_name, SecretString=json.dumps(bio_secret))\n",
    "\n",
    ""
   ]
  },
  {
   "cell_type": "code",
   "execution_count": 40,
   "metadata": {},
   "outputs": [
    {
     "output_type": "execute_result",
     "data": {
      "text/plain": "{'ARN': 'arn:aws:secretsmanager:us-east-1:005901288866:secret:bioindex-new-create-RjrVAj',\n 'Name': 'bioindex-new-create',\n 'ResponseMetadata': {'RequestId': '9159a207-bc44-4e4e-b7af-5478a6ac6873',\n  'HTTPStatusCode': 200,\n  'HTTPHeaders': {'date': 'Fri, 24 Apr 2020 19:54:23 GMT',\n   'content-type': 'application/x-amz-json-1.1',\n   'content-length': '118',\n   'connection': 'keep-alive',\n   'x-amzn-requestid': '9159a207-bc44-4e4e-b7af-5478a6ac6873'},\n  'RetryAttempts': 0}}"
     },
     "metadata": {},
     "execution_count": 40
    }
   ],
   "source": [
    "secret_name = \"bioindex-new-create\"\n",
    "region_name = \"us-east-1\"\n",
    "\n",
    "# Create a Secrets Manager client\n",
    "session = boto3.session.Session()\n",
    "client = session.client(\n",
    "    service_name='secretsmanager',\n",
    "    region_name=region_name\n",
    ")\n",
    "\n",
    "client.create_secret(Name = secret_name)"
   ]
  },
  {
   "cell_type": "code",
   "execution_count": null,
   "metadata": {},
   "outputs": [],
   "source": []
  }
 ],
 "metadata": {
  "language_info": {
   "name": "python",
   "codemirror_mode": {
    "name": "ipython",
    "version": 3
   },
   "version": "3.7.6-final"
  },
  "orig_nbformat": 2,
  "file_extension": ".py",
  "mimetype": "text/x-python",
  "name": "python",
  "npconvert_exporter": "python",
  "pygments_lexer": "ipython3",
  "version": 3,
  "kernelspec": {
   "name": "python37664bittf237venv9b274482c7ba4966ad2cf02baa9bb24c",
   "display_name": "Python 3.7.6 64-bit ('tf2_37': venv)"
  }
 },
 "nbformat": 4,
 "nbformat_minor": 2
}