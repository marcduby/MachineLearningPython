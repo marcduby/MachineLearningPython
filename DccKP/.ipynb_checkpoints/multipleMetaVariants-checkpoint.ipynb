{
 "cells": [
  {
   "cell_type": "code",
   "execution_count": 3,
   "metadata": {
    "collapsed": true
   },
   "outputs": [],
   "source": [
    "# imports\n",
    "import pandas as pd\n",
    "import json\n",
    "import requests\n"
   ]
  },
  {
   "cell_type": "code",
   "execution_count": 1,
   "metadata": {
    "collapsed": false
   },
   "outputs": [
    {
     "name": "stdout",
     "output_type": "stream",
     "text": [
      "the variant list is: ['8_118184783_C_T', '8_118217915_G_A', '6_160961137_T_C', '3_12236565_G_A', '3_12344730_C_G', '9_22029445_G_A']\n"
     ]
    }
   ],
   "source": [
    "# create the array of 5 variants\n",
    "# variants are 2 from SLC30A8 (t2d), 1 from LPA (MI), 2 from PPARG (t2d), 1 CAD\n",
    "variants = ['8_118184783_C_T', '8_118217915_G_A', '6_160961137_T_C', '3_12236565_G_A', \n",
    "            '3_12344730_C_G', '9_22029445_G_A']\n",
    "print(\"the variant list is: {}\".format(variants))"
   ]
  },
  {
   "cell_type": "code",
   "execution_count": 6,
   "metadata": {
    "collapsed": false
   },
   "outputs": [
    {
     "name": "stdout",
     "output_type": "stream",
     "text": [
      "the query for the var: 8_118184783_C_T is: http://public.type2diabeteskb.org/dccservices/graph/meta/variant/object?var_id=8_118184783_C_T&limit=10\n",
      "after concatenation, the master data frame has a row count of: 10\n",
      "the query for the var: 8_118217915_G_A is: http://public.type2diabeteskb.org/dccservices/graph/meta/variant/object?var_id=8_118217915_G_A&limit=10\n",
      "after concatenation, the master data frame has a row count of: 20\n",
      "the query for the var: 6_160961137_T_C is: http://public.type2diabeteskb.org/dccservices/graph/meta/variant/object?var_id=6_160961137_T_C&limit=10\n",
      "after concatenation, the master data frame has a row count of: 30\n",
      "the query for the var: 3_12236565_G_A is: http://public.type2diabeteskb.org/dccservices/graph/meta/variant/object?var_id=3_12236565_G_A&limit=10\n",
      "after concatenation, the master data frame has a row count of: 40\n",
      "the query for the var: 3_12344730_C_G is: http://public.type2diabeteskb.org/dccservices/graph/meta/variant/object?var_id=3_12344730_C_G&limit=10\n",
      "after concatenation, the master data frame has a row count of: 50\n",
      "the query for the var: 9_22029445_G_A is: http://public.type2diabeteskb.org/dccservices/graph/meta/variant/object?var_id=9_22029445_G_A&limit=10\n",
      "after concatenation, the master data frame has a row count of: 60\n"
     ]
    }
   ],
   "source": [
    "# build the query string\n",
    "# this API returns the bottom line p_values for all phenotypes available \n",
    "# in p_value increasing order (most significant first)\n",
    "# the 'var_id' parameter is the variant to pull the recults for in <chrom_pos_ref_alt> format\n",
    "# the 'limit=10' parameter directs to only return the first 10 results\n",
    "query_api = \"http://public.type2diabeteskb.org/dccservices/graph/meta/variant/object?var_id={}&limit=10\"\n",
    "\n",
    "# create an empty data frame\n",
    "master_data_frame = pd.DataFrame()\n",
    "\n",
    "# for each variant, call the meta REST api and concatenate the data frames\n",
    "for var in variants:\n",
    "    # build the query and print\n",
    "    var_query_api = query_api.format(var)\n",
    "    print(\"the query for the var: {} is: {}\".format(var, var_query_api))\n",
    "    \n",
    "    # make the REST call and capture the http response\n",
    "    req = requests.get(var_query_api)\n",
    "    \n",
    "    # decode the http response into the json format\n",
    "    req_json = req.json()\n",
    "    \n",
    "    # read the results into an individual pandas data frame, given it the 'data' section of the json\n",
    "    var_data_frame = pd.DataFrame(req_json['data'])\n",
    "    \n",
    "    # add the results to the master data frame (concatenate the results with the previous ones)\n",
    "    master_data_frame = pd.concat([master_data_frame, var_data_frame])\n",
    "    \n",
    "    # print the size of the master data frame\n",
    "    print(\"after concatenation, the master data frame has a row count of: {}\".format(master_data_frame.shape[0]))"
   ]
  },
  {
   "cell_type": "code",
   "execution_count": 5,
   "metadata": {
    "collapsed": false
   },
   "outputs": [
    {
     "name": "stdout",
     "output_type": "stream",
     "text": [
      "the first 20 rows of the combined data frame\n",
      "  alt    beta chrom  number_samples        p_value     phenotype  \\\n",
      "0   T -0.1066     8         2237710  3.110000e-178           T2D   \n",
      "1   T -0.1073     8         1177440   1.107000e-69     T2DadjBMI   \n",
      "2   T -0.0184     8          214021   6.715000e-45         HBA1C   \n",
      "3   T -0.0302     8          220129   5.513000e-34            FG   \n",
      "4   T -0.0423     8           93146   1.746000e-19            BS   \n",
      "5   T -0.0690     8           46186   4.915000e-11            PI   \n",
      "6   T  0.0102     8         2491120   8.088000e-10           BMI   \n",
      "7   T  0.0978     8            5567   1.144000e-05          PEAK   \n",
      "8   T  0.0977     8            5506   1.303000e-05           AIR   \n",
      "9   T  0.0976     8            5458   1.486000e-05  AIRadjBMInSI   \n",
      "0   A -0.1059     8         1717700   1.682000e-57           T2D   \n",
      "1   A -0.1220     8         1009440   9.442000e-40     T2DadjBMI   \n",
      "2   A -0.0423     8           93146   1.149000e-15            BS   \n",
      "3   A -0.0610     8           42790   5.422000e-15         HBA1C   \n",
      "4   A  0.0209     8          350048   2.811000e-07           BMI   \n",
      "\n",
      "  phenotype_group        pos ref  std_err           var_id  \n",
      "0        GLYCEMIC  118184783   C   0.0034  8_118184783_C_T  \n",
      "1        GLYCEMIC  118184783   C   0.0047  8_118184783_C_T  \n",
      "2        GLYCEMIC  118184783   C   0.0014  8_118184783_C_T  \n",
      "3        GLYCEMIC  118184783   C   0.0019  8_118184783_C_T  \n",
      "4        GLYCEMIC  118184783   C   0.0047  8_118184783_C_T  \n",
      "5        GLYCEMIC  118184783   C   0.0110  8_118184783_C_T  \n",
      "6  ANTHROPOMETRIC  118184783   C   0.0011  8_118184783_C_T  \n",
      "7        GLYCEMIC  118184783   C   0.0223  8_118184783_C_T  \n",
      "8        GLYCEMIC  118184783   C   0.0224  8_118184783_C_T  \n",
      "9        GLYCEMIC  118184783   C   0.0225  8_118184783_C_T  \n",
      "0        GLYCEMIC  118217915   G   0.0047  8_118217915_G_A  \n",
      "1        GLYCEMIC  118217915   G   0.0072  8_118217915_G_A  \n",
      "2        GLYCEMIC  118217915   G   0.0053  8_118217915_G_A  \n",
      "3        GLYCEMIC  118217915   G   0.0078  8_118217915_G_A  \n",
      "4  ANTHROPOMETRIC  118217915   G   0.0029  8_118217915_G_A  \n"
     ]
    }
   ],
   "source": [
    "# show the top 20 rows of the combined data frame\n",
    "print(\"the first 20 rows of the combined data frame\")\n",
    "print(master_data_frame.head(15))\n"
   ]
  },
  {
   "cell_type": "code",
   "execution_count": 6,
   "metadata": {
    "collapsed": false
   },
   "outputs": [
    {
     "name": "stdout",
     "output_type": "stream",
     "text": [
      "            var_id        p_value  std_err    beta     phenotype\n",
      "0  8_118184783_C_T  3.110000e-178   0.0034 -0.1066           T2D\n",
      "1  8_118184783_C_T   1.107000e-69   0.0047 -0.1073     T2DadjBMI\n",
      "2  8_118184783_C_T   6.715000e-45   0.0014 -0.0184         HBA1C\n",
      "3  8_118184783_C_T   5.513000e-34   0.0019 -0.0302            FG\n",
      "4  8_118184783_C_T   1.746000e-19   0.0047 -0.0423            BS\n",
      "5  8_118184783_C_T   4.915000e-11   0.0110 -0.0690            PI\n",
      "6  8_118184783_C_T   8.088000e-10   0.0011  0.0102           BMI\n",
      "7  8_118184783_C_T   1.144000e-05   0.0223  0.0978          PEAK\n",
      "8  8_118184783_C_T   1.303000e-05   0.0224  0.0977           AIR\n",
      "9  8_118184783_C_T   1.486000e-05   0.0225  0.0976  AIRadjBMInSI\n",
      "0  8_118217915_G_A   1.682000e-57   0.0047 -0.1059           T2D\n",
      "1  8_118217915_G_A   9.442000e-40   0.0072 -0.1220     T2DadjBMI\n",
      "2  8_118217915_G_A   1.149000e-15   0.0053 -0.0423            BS\n",
      "3  8_118217915_G_A   5.422000e-15   0.0078 -0.0610         HBA1C\n",
      "4  8_118217915_G_A   2.811000e-07   0.0029  0.0209           BMI\n"
     ]
    }
   ],
   "source": [
    "# trim the data frame to the p_value, std_err, beta, num_samples, phenotype and variant\n",
    "filtered_data_frame = master_data_frame.filter(['var_id', 'p_value', 'std_err', 'beta', 'phenotype'], axis=1)\n",
    "\n",
    "# display the new data frame's first 15 rows\n",
    "print(filtered_data_frame.head(15))\n"
   ]
  },
  {
   "cell_type": "code",
   "execution_count": 7,
   "metadata": {
    "collapsed": false
   },
   "outputs": [
    {
     "name": "stdout",
     "output_type": "stream",
     "text": [
      "            var_id        p_value  std_err    beta  phenotype\n",
      "0  8_118184783_C_T  3.110000e-178   0.0034 -0.1066        T2D\n",
      "1  8_118184783_C_T   1.107000e-69   0.0047 -0.1073  T2DadjBMI\n",
      "0   9_22029445_G_A   1.595000e-59   0.0047  0.1054        CAD\n",
      "0  8_118217915_G_A   1.682000e-57   0.0047 -0.1059        T2D\n",
      "2  8_118184783_C_T   6.715000e-45   0.0014 -0.0184      HBA1C\n",
      "1  8_118217915_G_A   9.442000e-40   0.0072 -0.1220  T2DadjBMI\n",
      "3  8_118184783_C_T   5.513000e-34   0.0019 -0.0302         FG\n",
      "0   3_12344730_C_G   3.695000e-28   0.0069 -0.1094        T2D\n",
      "1   3_12344730_C_G   4.430000e-21   0.0103 -0.1266  T2DadjBMI\n",
      "4  8_118184783_C_T   1.746000e-19   0.0047 -0.0423         BS\n"
     ]
    }
   ],
   "source": [
    "# sort the new data frame by ascending p_value (more significant first)\n",
    "# this will not group the rows by variant\n",
    "filtered_data_frame.sort_values('p_value', inplace=True)\n",
    "\n",
    "# show the first 10 rows of the newly sorted data frame\n",
    "print(filtered_data_frame.head(10))"
   ]
  },
  {
   "cell_type": "code",
   "execution_count": null,
   "metadata": {
    "collapsed": true
   },
   "outputs": [],
   "source": []
  }
 ],
 "metadata": {
  "kernelspec": {
   "display_name": "Python 2",
   "language": "python",
   "name": "python2"
  },
  "language_info": {
   "codemirror_mode": {
    "name": "ipython",
    "version": 2
   },
   "file_extension": ".py",
   "mimetype": "text/x-python",
   "name": "python",
   "nbconvert_exporter": "python",
   "pygments_lexer": "ipython2",
   "version": "2.7.13"
  }
 },
 "nbformat": 4,
 "nbformat_minor": 0
}
