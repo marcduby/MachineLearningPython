{
 "cells": [
  {
   "cell_type": "code",
   "execution_count": 3,
   "metadata": {},
   "outputs": [],
   "source": [
    "# import\n",
    "import twobitreader\n",
    "from twobitreader import TwoBitFile\n",
    "\n"
   ]
  },
  {
   "cell_type": "code",
   "execution_count": 12,
   "metadata": {
    "tags": []
   },
   "outputs": [
    {
     "output_type": "stream",
     "name": "stdout",
     "text": "two bit file of type <class 'twobitreader.TwoBitFile'>\n"
    }
   ],
   "source": [
    "# get the genome file\n",
    "hg19 = TwoBitFile('../../../../../../Data/Broad/Basset/TwoBitReader/hg19.2bit')\n",
    "\n",
    "print(\"two bit file of type {}\".format(type(hg19)))\n"
   ]
  },
  {
   "cell_type": "code",
   "execution_count": 13,
   "metadata": {
    "tags": []
   },
   "outputs": [
    {
     "output_type": "stream",
     "name": "stdout",
     "text": "two bit chromosome of type <class 'twobitreader.TwoBitSequence'>\n"
    }
   ],
   "source": [
    "# get the chrom\n",
    "chromosome = hg19['chr8']\n",
    "\n",
    "print(\"two bit chromosome of type {}\".format(type(chromosome)))"
   ]
  },
  {
   "cell_type": "code",
   "execution_count": 17,
   "metadata": {
    "tags": []
   },
   "outputs": [
    {
     "output_type": "stream",
     "name": "stdout",
     "text": "the two bit sequence is of type <class 'str'> of length 600\nthe sequence is \nTTTCCAGGGCTTGTCTCCCCTTCCATAGTAAGCTCCTAGGAATGCCAGACTCCAGAGATAACAGTGGACAGAAAGAGTTCCCATAGCGACAGGGCACTTTGCTGCACTAGAGTTTCCCCTGCCTTGTCTGTGTGAATGTAGCTGATTATCAGAGCAAACGTGGCTTCCTCTGAGTGCCCTGCCTCTGCCCCACCCCAGCAGGTCAAAGACAAAGTACTTGAAGTTGGAGTCAGAGCAGTCGCCCATGCGTGTGCAATCAGTGCTAATCTCCCTGTGCTTCTTTATCAACAGCAGCCAGCCGGGACAGCCAAGTGGTTCGGAGAGAAATTGCTAAAGCCCTTAGCAAAAGCTTTACGATGCACTCACTCACCATTCAGATGGAATCTCCAGTTGACCAGGACCCCGACTGCCTTTTCTGTGAAGACCCCTGTGACTAGCTCAGTCACACCGTCAGTTTCCCAAATTTGACAGGCCACCTTCAAACATGCTGCTATGCAGTTTCTGCATCATAGAAAATAAGGAACCAAAGGAAGAAATTCATGTCATGGTGCAATGCACATTTTATCTATTTATTTAGTTCCATTCACCATGAAGGAAGAG\n"
    }
   ],
   "source": [
    "# get the sequence for slc30a8 variant, chrom8, position 118184783\n",
    "# get a range for the variant\n",
    "position = 118184783\n",
    "start = position - 300\n",
    "end = position + 300\n",
    "\n",
    "sequence = chromosome[start:end]\n",
    "\n",
    "print(\"the two bit sequence is of type {} of length {}\".format(type(sequence), len(sequence)))\n",
    "print(\"the sequence is \\n{}\".format(sequence))"
   ]
  },
  {
   "cell_type": "code",
   "execution_count": 20,
   "metadata": {
    "tags": []
   },
   "outputs": [
    {
     "output_type": "stream",
     "name": "stdout",
     "text": "the variant allele is C\n"
    }
   ],
   "source": [
    "# get the allele at the middle position\n",
    "allele = sequence[299:300]\n",
    "\n",
    "print(\"the variant allele is {}\".format(allele))"
   ]
  },
  {
   "cell_type": "code",
   "execution_count": null,
   "metadata": {},
   "outputs": [],
   "source": []
  }
 ],
 "metadata": {
  "language_info": {
   "codemirror_mode": {
    "name": "ipython",
    "version": 3
   },
   "file_extension": ".py",
   "mimetype": "text/x-python",
   "name": "python",
   "nbconvert_exporter": "python",
   "pygments_lexer": "ipython3",
   "version": "3.6.9-final"
  },
  "orig_nbformat": 2,
  "kernelspec": {
   "name": "python_defaultSpec_1593805153523",
   "display_name": "Python 3.6.9 64-bit"
  }
 },
 "nbformat": 4,
 "nbformat_minor": 2
}