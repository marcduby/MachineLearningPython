{
 "cells": [
  {
   "cell_type": "code",
   "execution_count": 1,
   "metadata": {
    "tags": []
   },
   "outputs": [
    {
     "output_type": "stream",
     "name": "stdout",
     "text": "have pytorch version 1.5.1\nhave numpy version 1.19.0\n"
    }
   ],
   "source": [
    "# import\n",
    "import twobitreader\n",
    "from twobitreader import TwoBitFile\n",
    "import numpy as np \n",
    "import torch\n",
    "from sklearn.preprocessing import OneHotEncoder\n",
    "\n",
    "print(\"have pytorch version {}\".format(torch.__version__))\n",
    "print(\"have numpy version {}\".format(np.__version__))\n"
   ]
  },
  {
   "cell_type": "code",
   "execution_count": 2,
   "metadata": {
    "tags": []
   },
   "outputs": [
    {
     "output_type": "stream",
     "name": "stdout",
     "text": "two bit file of type <class 'twobitreader.TwoBitFile'>\n"
    }
   ],
   "source": [
    "# get the genome file\n",
    "hg19 = TwoBitFile('../../../../../../Data/Broad/Basset/TwoBitReader/hg19.2bit')\n",
    "\n",
    "print(\"two bit file of type {}\".format(type(hg19)))\n"
   ]
  },
  {
   "cell_type": "code",
   "execution_count": 3,
   "metadata": {
    "tags": []
   },
   "outputs": [
    {
     "output_type": "stream",
     "name": "stdout",
     "text": "two bit chromosome of type <class 'twobitreader.TwoBitSequence'>\n"
    }
   ],
   "source": [
    "# get the chrom\n",
    "chromosome = hg19['chr8']\n",
    "\n",
    "print(\"two bit chromosome of type {}\".format(type(chromosome)))"
   ]
  },
  {
   "cell_type": "code",
   "execution_count": 19,
   "metadata": {
    "tags": []
   },
   "outputs": [
    {
     "output_type": "stream",
     "name": "stdout",
     "text": "the 1 sequence is of type <class 'str'> of length 10\nthe 1 sequence is \nCAGCCGGGAC\nthe 2 sequence is of type <class 'str'> of length 10\nthe 2 sequence is \nTTACATTCAA\nthe 3 sequence is of type <class 'str'> of length 10\nthe 3 sequence is \nAGTACAGATT\n"
    }
   ],
   "source": [
    "# method to create string sequence from position\n",
    "def create_sequence(position, offset, chromosome):\n",
    "    sequence = chromosome[position - offset: position + offset]\n",
    "    return sequence.upper()\n",
    "\n",
    "seq1 = create_sequence(118184783, 5, chromosome)\n",
    "seq2 = create_sequence(112233554, 5, chromosome)\n",
    "seq3 = create_sequence(112117754, 5, chromosome)\n",
    "\n",
    "print(\"the 1 sequence is of type {} of length {}\".format(type(seq1), len(seq1)))\n",
    "print(\"the 1 sequence is \\n{}\".format(seq1))\n",
    "print(\"the 2 sequence is of type {} of length {}\".format(type(seq2), len(seq2)))\n",
    "print(\"the 2 sequence is \\n{}\".format(seq2))\n",
    "print(\"the 3 sequence is of type {} of length {}\".format(type(seq3), len(seq3)))\n",
    "print(\"the 3 sequence is \\n{}\".format(seq3))"
   ]
  },
  {
   "cell_type": "code",
   "execution_count": 18,
   "metadata": {
    "tags": []
   },
   "outputs": [
    {
     "output_type": "stream",
     "name": "stdout",
     "text": "the np sequence is of type <class 'numpy.ndarray'> and shape (3, 10)\n[['C' 'A' 'G' 'C' 'C' 'G' 'G' 'G' 'A' 'C']\n ['T' 'T' 'A' 'C' 'A' 'T' 'T' 'C' 'A' 'A']\n ['A' 'G' 'T' 'A' 'C' 'A' 'G' 'A' 'T' 'T']]\n"
    }
   ],
   "source": [
    "# create the numpy array from the sequences\n",
    "sequence_np = np.array(list(seq1))\n",
    "sequence_np = np.vstack((sequence_np, np.array(list(seq2))))\n",
    "sequence_np = np.vstack((sequence_np, np.array(list(seq3))))\n",
    "\n",
    "print(\"the np sequence is of type {} and shape {}\".format(type(sequence_np), sequence_np.shape))\n",
    "print(sequence_np)"
   ]
  },
  {
   "cell_type": "code",
   "execution_count": 11,
   "metadata": {
    "tags": []
   },
   "outputs": [
    {
     "output_type": "stream",
     "name": "stdout",
     "text": "the one hot sequence is of type <class 'str'> of length 600\nthe one hot sequence is \n333110222133231311113311030230021311302200321102013110202030010232201020002023311103021201022210133321321013020233311113211332313232320032302132033031020210001232213311313202321113211313211110111102102231000201000230133200233220231020210231211103212323210031023213003131113232133133303100102102110211222010211002322331220202000332130002111330210000213330120321013101310110331020322003131102332011022011112013211333313232002011113232013021310231010112310233311100033320102211011331000103213213032102333132103103020000300220011000220020003310323103223210032101033330313033303330233110331011032002200202\nthe one hot allele is 1\n"
    }
   ],
   "source": [
    "# modify the string from ACGT to 1234\n",
    "sequence_one_hot = sequence.replace('A', '0')\n",
    "sequence_one_hot = sequence_one_hot.replace('C', '1')\n",
    "sequence_one_hot = sequence_one_hot.replace('G', '2')\n",
    "sequence_one_hot = sequence_one_hot.replace('T', '3')\n",
    "\n",
    "print(\"the one hot sequence is of type {} of length {}\".format(type(sequence_one_hot), len(sequence_one_hot)))\n",
    "print(\"the one hot sequence is \\n{}\".format(sequence_one_hot))\n",
    "\n",
    "# get the allele at the middle position\n",
    "allele_one_hot = sequence_one_hot[299:300]\n",
    "\n",
    "print(\"the one hot allele is {}\".format(allele_one_hot))"
   ]
  },
  {
   "cell_type": "code",
   "execution_count": 12,
   "metadata": {
    "tags": []
   },
   "outputs": [
    {
     "output_type": "stream",
     "name": "stdout",
     "text": "got np sequence of type <class 'numpy.ndarray'> and shape (600,)\n"
    }
   ],
   "source": [
    "# create the one hot numpy array\n",
    "sequence_np = np.array(list(sequence_one_hot))\n",
    "\n",
    "print(\"got np sequence of type {} and shape {}\".format(type(sequence_np), sequence_np.shape))"
   ]
  },
  {
   "cell_type": "code",
   "execution_count": 13,
   "metadata": {},
   "outputs": [
    {
     "output_type": "execute_result",
     "data": {
      "text/plain": "array(['3', '3', '3', '1', '1', '0', '2', '2', '2', '1', '3', '3', '2',\n       '3', '1', '3', '1', '1', '1', '1', '3', '3', '1', '1', '0', '3',\n       '0', '2', '3', '0', '0', '2', '1', '3', '1', '1', '3', '0', '2',\n       '2', '0', '0', '3', '2', '1', '1', '0', '2', '0', '1', '3', '1',\n       '1', '0', '2', '0', '2', '0', '3', '0', '0', '1', '0', '2', '3',\n       '2', '2', '0', '1', '0', '2', '0', '0', '0', '2', '0', '2', '3',\n       '3', '1', '1', '1', '0', '3', '0', '2', '1', '2', '0', '1', '0',\n       '2', '2', '2', '1', '0', '1', '3', '3', '3', '2', '1', '3', '2',\n       '1', '0', '1', '3', '0', '2', '0', '2', '3', '3', '3', '1', '1',\n       '1', '1', '3', '2', '1', '1', '3', '3', '2', '3', '1', '3', '2',\n       '3', '2', '3', '2', '0', '0', '3', '2', '3', '0', '2', '1', '3',\n       '2', '0', '3', '3', '0', '3', '1', '0', '2', '0', '2', '1', '0',\n       '0', '0', '1', '2', '3', '2', '2', '1', '3', '3', '1', '1', '3',\n       '1', '3', '2', '0', '2', '3', '2', '1', '1', '1', '3', '2', '1',\n       '1', '3', '1', '3', '2', '1', '1', '1', '1', '0', '1', '1', '1',\n       '1', '0', '2', '1', '0', '2', '2', '3', '1', '0', '0', '0', '2',\n       '0', '1', '0', '0', '0', '2', '3', '0', '1', '3', '3', '2', '0',\n       '0', '2', '3', '3', '2', '2', '0', '2', '3', '1', '0', '2', '0',\n       '2', '1', '0', '2', '3', '1', '2', '1', '1', '1', '0', '3', '2',\n       '1', '2', '3', '2', '3', '2', '1', '0', '0', '3', '1', '0', '2',\n       '3', '2', '1', '3', '0', '0', '3', '1', '3', '1', '1', '1', '3',\n       '2', '3', '2', '1', '3', '3', '1', '3', '3', '3', '0', '3', '1',\n       '0', '0', '1', '0', '2', '1', '0', '2', '1', '1', '0', '2', '1',\n       '1', '2', '2', '2', '0', '1', '0', '2', '1', '1', '0', '0', '2',\n       '3', '2', '2', '3', '3', '1', '2', '2', '0', '2', '0', '2', '0',\n       '0', '0', '3', '3', '2', '1', '3', '0', '0', '0', '2', '1', '1',\n       '1', '3', '3', '0', '2', '1', '0', '0', '0', '0', '2', '1', '3',\n       '3', '3', '0', '1', '2', '0', '3', '2', '1', '0', '1', '3', '1',\n       '0', '1', '3', '1', '0', '1', '1', '0', '3', '3', '1', '0', '2',\n       '0', '3', '2', '2', '0', '0', '3', '1', '3', '1', '1', '0', '2',\n       '3', '3', '2', '0', '1', '1', '0', '2', '2', '0', '1', '1', '1',\n       '1', '2', '0', '1', '3', '2', '1', '1', '3', '3', '3', '3', '1',\n       '3', '2', '3', '2', '0', '0', '2', '0', '1', '1', '1', '1', '3',\n       '2', '3', '2', '0', '1', '3', '0', '2', '1', '3', '1', '0', '2',\n       '3', '1', '0', '1', '0', '1', '1', '2', '3', '1', '0', '2', '3',\n       '3', '3', '1', '1', '1', '0', '0', '0', '3', '3', '3', '2', '0',\n       '1', '0', '2', '2', '1', '1', '0', '1', '1', '3', '3', '1', '0',\n       '0', '0', '1', '0', '3', '2', '1', '3', '2', '1', '3', '0', '3',\n       '2', '1', '0', '2', '3', '3', '3', '1', '3', '2', '1', '0', '3',\n       '1', '0', '3', '0', '2', '0', '0', '0', '0', '3', '0', '0', '2',\n       '2', '0', '0', '1', '1', '0', '0', '0', '2', '2', '0', '0', '2',\n       '0', '0', '0', '3', '3', '1', '0', '3', '2', '3', '1', '0', '3',\n       '2', '2', '3', '2', '1', '0', '0', '3', '2', '1', '0', '1', '0',\n       '3', '3', '3', '3', '0', '3', '1', '3', '0', '3', '3', '3', '0',\n       '3', '3', '3', '0', '2', '3', '3', '1', '1', '0', '3', '3', '1',\n       '0', '1', '1', '0', '3', '2', '0', '0', '2', '2', '0', '0', '2',\n       '0', '2'], dtype='<U1')"
     },
     "metadata": {},
     "execution_count": 13
    }
   ],
   "source": [
    "sequence_np"
   ]
  },
  {
   "cell_type": "code",
   "execution_count": 17,
   "metadata": {
    "tags": []
   },
   "outputs": [
    {
     "output_type": "stream",
     "name": "stdout",
     "text": "have reshaped array of type <class 'numpy.ndarray'> and shape (600, 1)\n"
    }
   ],
   "source": [
    "# reshape the array for one hot encoding\n",
    "sequence_np_reshape = sequence_np.reshape(-1, 1)\n",
    "\n",
    "print(\"have reshaped array of type {} and shape {}\".format(type(sequence_np_reshape), sequence_np_reshape.shape))"
   ]
  },
  {
   "cell_type": "code",
   "execution_count": 18,
   "metadata": {
    "tags": []
   },
   "outputs": [
    {
     "output_type": "stream",
     "name": "stdout",
     "text": "[[0. 0. 0. 1.]\n [0. 0. 0. 1.]\n [0. 0. 0. 1.]\n ...\n [0. 0. 1. 0.]\n [1. 0. 0. 0.]\n [0. 0. 1. 0.]]\n"
    }
   ],
   "source": [
    "# one hot the numpy array\n",
    "onehot_encoder = OneHotEncoder(sparse=False)\n",
    "sequence_np_one_hot = onehot_encoder.fit_transform(sequence_np_reshape)\n",
    "print(sequence_np_one_hot)\n",
    "\n"
   ]
  },
  {
   "cell_type": "code",
   "execution_count": 19,
   "metadata": {
    "tags": []
   },
   "outputs": [
    {
     "output_type": "stream",
     "name": "stdout",
     "text": "the new one hot encoded np tensor is of type <class 'numpy.ndarray'> and shape (600, 4)\n"
    }
   ],
   "source": [
    "# check the new matrix shape\n",
    "print(\"the new one hot encoded np tensor is of type {} and shape {}\".format(type(sequence_np_one_hot), sequence_np_one_hot.shape))"
   ]
  },
  {
   "cell_type": "code",
   "execution_count": 20,
   "metadata": {
    "tags": []
   },
   "outputs": [
    {
     "output_type": "stream",
     "name": "stdout",
     "text": "the torch sequence is of type <class 'torch.Tensor'> and shape torch.Size([600, 4])\n"
    }
   ],
   "source": [
    "# convert numpy array to torch tensor\n",
    "sequence_torch = torch.from_numpy(sequence_np_one_hot)\n",
    "\n",
    "print(\"the torch sequence is of type {} and shape {}\".format(type(sequence_torch), sequence_torch.shape))"
   ]
  },
  {
   "cell_type": "code",
   "execution_count": null,
   "metadata": {},
   "outputs": [],
   "source": []
  }
 ],
 "metadata": {
  "language_info": {
   "codemirror_mode": {
    "name": "ipython",
    "version": 3
   },
   "file_extension": ".py",
   "mimetype": "text/x-python",
   "name": "python",
   "nbconvert_exporter": "python",
   "pygments_lexer": "ipython3",
   "version": "3.7.6-final"
  },
  "orig_nbformat": 2,
  "kernelspec": {
   "name": "python37664bitkipoi37venvf3d3e0d6001d47a48bb400613247402a",
   "display_name": "Python 3.7.6 64-bit ('kipoi_37': venv)"
  }
 },
 "nbformat": 4,
 "nbformat_minor": 2
}