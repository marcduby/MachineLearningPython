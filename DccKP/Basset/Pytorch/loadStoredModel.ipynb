{
 "cells": [
  {
   "cell_type": "code",
   "execution_count": null,
   "metadata": {},
   "outputs": [],
   "source": [
    "# copied from github below for use in my project at work\n",
    "# https://github.com/kipoi/models/blob/master/Basset/pretrained_model_reloaded_th.py\n",
    "# see paper at\n",
    "# http://kipoi.org/models/Basset/"
   ]
  },
  {
   "cell_type": "code",
   "execution_count": 4,
   "metadata": {
    "tags": []
   },
   "outputs": [
    {
     "output_type": "stream",
     "name": "stdout",
     "text": "got pytorch version of 1.5.1\n"
    }
   ],
   "source": [
    "# imports\n",
    "import torch\n",
    "from torch import nn\n",
    "\n",
    "print(\"got pytorch version of {}\".format(torch.__version__))\n"
   ]
  },
  {
   "cell_type": "code",
   "execution_count": 6,
   "metadata": {},
   "outputs": [],
   "source": [
    "class LambdaBase(nn.Sequential):\n",
    "    def __init__(self, fn, *args):\n",
    "        super(LambdaBase, self).__init__(*args)\n",
    "        self.lambda_func = fn\n",
    "\n",
    "    def forward_prepare(self, input):\n",
    "        output = []\n",
    "        for module in self._modules.values():\n",
    "            output.append(module(input))\n",
    "        return output if output else input\n",
    "\n",
    "class Lambda(LambdaBase):\n",
    "    def forward(self, input):\n",
    "        return self.lambda_func(self.forward_prepare(input))\n",
    "        "
   ]
  },
  {
   "cell_type": "code",
   "execution_count": 8,
   "metadata": {
    "tags": []
   },
   "outputs": [
    {
     "output_type": "stream",
     "name": "stdout",
     "text": "got model of type <class 'torch.nn.modules.container.Sequential'>\n"
    }
   ],
   "source": [
    "# load the Basset model\n",
    "pretrained_model_reloaded_th = nn.Sequential( # Sequential,\n",
    "        nn.Conv2d(4,300,(19, 1)),\n",
    "        nn.BatchNorm2d(300),\n",
    "        nn.ReLU(),\n",
    "        nn.MaxPool2d((3, 1),(3, 1)),\n",
    "        nn.Conv2d(300,200,(11, 1)),\n",
    "        nn.BatchNorm2d(200),\n",
    "        nn.ReLU(),\n",
    "        nn.MaxPool2d((4, 1),(4, 1)),\n",
    "        nn.Conv2d(200,200,(7, 1)),\n",
    "        nn.BatchNorm2d(200),\n",
    "        nn.ReLU(),\n",
    "        nn.MaxPool2d((4, 1),(4, 1)),\n",
    "        Lambda(lambda x: x.view(x.size(0),-1)), # Reshape,\n",
    "        nn.Sequential(Lambda(lambda x: x.view(1,-1) if 1==len(x.size()) else x ),nn.Linear(2000,1000)), # Linear,\n",
    "        nn.BatchNorm1d(1000,1e-05,0.1,True),#BatchNorm1d,\n",
    "        nn.ReLU(),\n",
    "        nn.Dropout(0.3),\n",
    "        nn.Sequential(Lambda(lambda x: x.view(1,-1) if 1==len(x.size()) else x ),nn.Linear(1000,1000)), # Linear,\n",
    "        nn.BatchNorm1d(1000,1e-05,0.1,True),#BatchNorm1d,\n",
    "        nn.ReLU(),\n",
    "        nn.Dropout(0.3),\n",
    "        nn.Sequential(Lambda(lambda x: x.view(1,-1) if 1==len(x.size()) else x ),nn.Linear(1000,164)), # Linear,\n",
    "        nn.Sigmoid(),\n",
    "    )\n",
    "\n",
    "print(\"got model of type {}\".format(type(pretrained_model_reloaded_th)))"
   ]
  },
  {
   "cell_type": "code",
   "execution_count": 14,
   "metadata": {},
   "outputs": [
    {
     "output_type": "execute_result",
     "data": {
      "text/plain": "<All keys matched successfully>"
     },
     "metadata": {},
     "execution_count": 14
    }
   ],
   "source": [
    "# load the weights\n",
    "# sd = torch.load('/home/javaprog/Data/Broad/Basset/Model/predictions.h5')\n",
    "sd = torch.load('/home/wazzzzzapp/Data/Broad/Basset/Model/pretrained_model_reloaded_th.pth')\n",
    "pretrained_model_reloaded_th.load_state_dict(sd)\n",
    "\n"
   ]
  },
  {
   "cell_type": "code",
   "execution_count": null,
   "metadata": {},
   "outputs": [],
   "source": []
  }
 ],
 "metadata": {
  "language_info": {
   "codemirror_mode": {
    "name": "ipython",
    "version": 3
   },
   "file_extension": ".py",
   "mimetype": "text/x-python",
   "name": "python",
   "nbconvert_exporter": "python",
   "pygments_lexer": "ipython3",
   "version": 3
  },
  "orig_nbformat": 2,
  "kernelspec": {
   "name": "python_defaultSpec_1594004746379",
   "display_name": "Python 3.6.9 64-bit"
  }
 },
 "nbformat": 4,
 "nbformat_minor": 2
}